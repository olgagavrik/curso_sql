{
    "metadata": {
        "kernelspec": {
            "name": "SQL",
            "display_name": "SQL",
            "language": "sql"
        },
        "language_info": {
            "name": "sql",
            "version": ""
        }
    },
    "nbformat_minor": 2,
    "nbformat": 4,
    "cells": [
        {
            "cell_type": "markdown",
            "source": [
                "**JOING DATA EN SQL**\n",
                "\n",
                "![](data:image/png;base64,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)"
            ],
            "metadata": {
                "azdata_cell_guid": "2f1df117-d3bb-4fd7-8e2d-87895348ecd6"
            },
            "attachments": {}
        },
        {
            "cell_type": "code",
            "source": [
                "CREATE DATABASE practica6b;\r\n",
                "USE practica6b;"
            ],
            "metadata": {
                "azdata_cell_guid": "06b3dec6-91d7-4070-9735-4156f429b926",
                "language": "sql"
            },
            "outputs": [
                {
                    "output_type": "display_data",
                    "data": {
                        "text/html": "Total execution time: 00:00:00.001"
                    },
                    "metadata": {}
                },
                {
                    "output_type": "error",
                    "evalue": "1007 (HY000): Can't create database 'practica6b'; database exists",
                    "ename": "",
                    "traceback": []
                }
            ],
            "execution_count": 6
        },
        {
            "cell_type": "markdown",
            "source": [
                "<span style=\"border: 0px solid rgb(227, 227, 227); box-sizing: border-box; --tw-border-spacing-x: 0; --tw-border-spacing-y: 0; --tw-translate-x: 0; --tw-translate-y: 0; --tw-rotate: 0; --tw-skew-x: 0; --tw-skew-y: 0; --tw-scale-x: 1; --tw-scale-y: 1; --tw-pan-x: ; --tw-pan-y: ; --tw-pinch-zoom: ; --tw-scroll-snap-strictness: proximity; --tw-gradient-from-position: ; --tw-gradient-via-position: ; --tw-gradient-to-position: ; --tw-ordinal: ; --tw-slashed-zero: ; --tw-numeric-figure: ; --tw-numeric-spacing: ; --tw-numeric-fraction: ; --tw-ring-inset: ; --tw-ring-offset-width: 0px; --tw-ring-offset-color: #fff; --tw-ring-color: rgba(69,89,164,.5); --tw-ring-offset-shadow: 0 0 transparent; --tw-ring-shadow: 0 0 transparent; --tw-shadow: 0 0 transparent; --tw-shadow-colored: 0 0 transparent; --tw-blur: ; --tw-brightness: ; --tw-contrast: ; --tw-grayscale: ; --tw-hue-rotate: ; --tw-invert: ; --tw-saturate: ; --tw-sepia: ; --tw-drop-shadow: ; --tw-backdrop-blur: ; --tw-backdrop-brightness: ; --tw-backdrop-contrast: ; --tw-backdrop-grayscale: ; --tw-backdrop-hue-rotate: ; --tw-backdrop-invert: ; --tw-backdrop-opacity: ; --tw-backdrop-saturate: ; --tw-backdrop-sepia: ; --tw-contain-size: ; --tw-contain-layout: ; --tw-contain-paint: ; --tw-contain-style: ; font-weight: 600; color: rgb(13, 13, 13); font-family: Söhne, ui-sans-serif, system-ui, -apple-system, &quot;Segoe UI&quot;, Roboto, Ubuntu, Cantarell, &quot;Noto Sans&quot;, sans-serif, &quot;Helvetica Neue&quot;, Arial, &quot;Apple Color Emoji&quot;, &quot;Segoe UI Emoji&quot;, &quot;Segoe UI Symbol&quot;, &quot;Noto Color Emoji&quot;; font-size: 16px; white-space-collapse: preserve; background-color: rgb(255, 255, 255);\">Crear las tablas sin llave foránea</span>\n",
                "\n",
                "<span style=\"border: 0px solid rgb(227, 227, 227); box-sizing: border-box; --tw-border-spacing-x: 0; --tw-border-spacing-y: 0; --tw-translate-x: 0; --tw-translate-y: 0; --tw-rotate: 0; --tw-skew-x: 0; --tw-skew-y: 0; --tw-scale-x: 1; --tw-scale-y: 1; --tw-pan-x: ; --tw-pan-y: ; --tw-pinch-zoom: ; --tw-scroll-snap-strictness: proximity; --tw-gradient-from-position: ; --tw-gradient-via-position: ; --tw-gradient-to-position: ; --tw-ordinal: ; --tw-slashed-zero: ; --tw-numeric-figure: ; --tw-numeric-spacing: ; --tw-numeric-fraction: ; --tw-ring-inset: ; --tw-ring-offset-width: 0px; --tw-ring-offset-color: #fff; --tw-ring-color: rgba(69,89,164,.5); --tw-ring-offset-shadow: 0 0 transparent; --tw-ring-shadow: 0 0 transparent; --tw-shadow: 0 0 transparent; --tw-shadow-colored: 0 0 transparent; --tw-blur: ; --tw-brightness: ; --tw-contrast: ; --tw-grayscale: ; --tw-hue-rotate: ; --tw-invert: ; --tw-saturate: ; --tw-sepia: ; --tw-drop-shadow: ; --tw-backdrop-blur: ; --tw-backdrop-brightness: ; --tw-backdrop-contrast: ; --tw-backdrop-grayscale: ; --tw-backdrop-hue-rotate: ; --tw-backdrop-invert: ; --tw-backdrop-opacity: ; --tw-backdrop-saturate: ; --tw-backdrop-sepia: ; --tw-contain-size: ; --tw-contain-layout: ; --tw-contain-paint: ; --tw-contain-style: ; font-weight: 600; color: rgb(13, 13, 13); font-family: Söhne, ui-sans-serif, system-ui, -apple-system, &quot;Segoe UI&quot;, Roboto, Ubuntu, Cantarell, &quot;Noto Sans&quot;, sans-serif, &quot;Helvetica Neue&quot;, Arial, &quot;Apple Color Emoji&quot;, &quot;Segoe UI Emoji&quot;, &quot;Segoe UI Symbol&quot;, &quot;Noto Color Emoji&quot;; font-size: 16px; white-space-collapse: preserve; background-color: rgb(255, 255, 255);\"><br></span>"
            ],
            "metadata": {
                "azdata_cell_guid": "98b58cf2-e9e0-4e33-93f8-9ef4aa285bc6"
            },
            "attachments": {}
        },
        {
            "cell_type": "code",
            "source": [
                "USE practica6b;\r\n",
                "\r\n",
                "CREATE TABLE Artist (\r\n",
                "    artist_id INT PRIMARY KEY,\r\n",
                "    name VARCHAR(255) NOT NULL);\r\n",
                "\r\n",
                "CREATE TABLE Album (\r\n",
                "    album_id INT PRIMARY KEY,\r\n",
                "    title VARCHAR(255) NOT NULL,\r\n",
                "    artist_id INT);\r\n",
                ""
            ],
            "metadata": {
                "azdata_cell_guid": "63dfa63f-610f-4c3d-a42f-a5219dc4f250",
                "language": "sql",
                "tags": []
            },
            "outputs": [
                {
                    "output_type": "display_data",
                    "data": {
                        "text/html": "Commands completed successfully"
                    },
                    "metadata": {}
                },
                {
                    "output_type": "display_data",
                    "data": {
                        "text/html": "Commands completed successfully"
                    },
                    "metadata": {}
                },
                {
                    "output_type": "display_data",
                    "data": {
                        "text/html": "Commands completed successfully"
                    },
                    "metadata": {}
                },
                {
                    "output_type": "display_data",
                    "data": {
                        "text/html": "Total execution time: 00:00:00.061"
                    },
                    "metadata": {}
                }
            ],
            "execution_count": 9
        },
        {
            "cell_type": "markdown",
            "source": [
                "<span style=\"border: 0px solid rgb(227, 227, 227); box-sizing: border-box; --tw-border-spacing-x: 0; --tw-border-spacing-y: 0; --tw-translate-x: 0; --tw-translate-y: 0; --tw-rotate: 0; --tw-skew-x: 0; --tw-skew-y: 0; --tw-scale-x: 1; --tw-scale-y: 1; --tw-pan-x: ; --tw-pan-y: ; --tw-pinch-zoom: ; --tw-scroll-snap-strictness: proximity; --tw-gradient-from-position: ; --tw-gradient-via-position: ; --tw-gradient-to-position: ; --tw-ordinal: ; --tw-slashed-zero: ; --tw-numeric-figure: ; --tw-numeric-spacing: ; --tw-numeric-fraction: ; --tw-ring-inset: ; --tw-ring-offset-width: 0px; --tw-ring-offset-color: #fff; --tw-ring-color: rgba(69,89,164,.5); --tw-ring-offset-shadow: 0 0 transparent; --tw-ring-shadow: 0 0 transparent; --tw-shadow: 0 0 transparent; --tw-shadow-colored: 0 0 transparent; --tw-blur: ; --tw-brightness: ; --tw-contrast: ; --tw-grayscale: ; --tw-hue-rotate: ; --tw-invert: ; --tw-saturate: ; --tw-sepia: ; --tw-drop-shadow: ; --tw-backdrop-blur: ; --tw-backdrop-brightness: ; --tw-backdrop-contrast: ; --tw-backdrop-grayscale: ; --tw-backdrop-hue-rotate: ; --tw-backdrop-invert: ; --tw-backdrop-opacity: ; --tw-backdrop-saturate: ; --tw-backdrop-sepia: ; --tw-contain-size: ; --tw-contain-layout: ; --tw-contain-paint: ; --tw-contain-style: ; font-weight: 600; color: rgb(13, 13, 13); font-family: Söhne, ui-sans-serif, system-ui, -apple-system, &quot;Segoe UI&quot;, Roboto, Ubuntu, Cantarell, &quot;Noto Sans&quot;, sans-serif, &quot;Helvetica Neue&quot;, Arial, &quot;Apple Color Emoji&quot;, &quot;Segoe UI Emoji&quot;, &quot;Segoe UI Symbol&quot;, &quot;Noto Color Emoji&quot;; font-size: 16px; white-space-collapse: preserve; background-color: rgb(255, 255, 255);\">Insertar datos en las tablas</span><span style=\"color: rgb(13, 13, 13); font-family: Söhne, ui-sans-serif, system-ui, -apple-system, &quot;Segoe UI&quot;, Roboto, Ubuntu, Cantarell, &quot;Noto Sans&quot;, sans-serif, &quot;Helvetica Neue&quot;, Arial, &quot;Apple Color Emoji&quot;, &quot;Segoe UI Emoji&quot;, &quot;Segoe UI Symbol&quot;, &quot;Noto Color Emoji&quot;; font-size: 16px; white-space-collapse: preserve; background-color: rgb(255, 255, 255);\">:</span>\n",
                "\n",
                "<span style=\"color: rgb(13, 13, 13); font-family: Söhne, ui-sans-serif, system-ui, -apple-system, &quot;Segoe UI&quot;, Roboto, Ubuntu, Cantarell, &quot;Noto Sans&quot;, sans-serif, &quot;Helvetica Neue&quot;, Arial, &quot;Apple Color Emoji&quot;, &quot;Segoe UI Emoji&quot;, &quot;Segoe UI Symbol&quot;, &quot;Noto Color Emoji&quot;; font-size: 16px; white-space-collapse: preserve; background-color: rgb(255, 255, 255);\"><br></span>"
            ],
            "metadata": {
                "azdata_cell_guid": "67fdabf8-6fd8-40e6-a3e0-16f887127fba"
            },
            "attachments": {}
        },
        {
            "cell_type": "code",
            "source": [
                "INSERT INTO Artist (artist_id, name) \r\n",
                "VALUES (1, 'AC/DC'), (2, 'Aerosmith'), (3, 'Alanis Morissette');\r\n",
                "\r\n",
                "INSERT INTO Album (album_id, title, artist_id)\r\n",
                " VALUES \r\n",
                "  (1, 'For those who rock', 1),\r\n",
                "  (2, 'Dream on', 2),\r\n",
                "  (3, 'Restless and wild', 2), \r\n",
                "  (4, 'Let there be rock', 1),\r\n",
                "  (5, 'Rumours', 6);\r\n",
                ""
            ],
            "metadata": {
                "azdata_cell_guid": "3aa5ccac-d88b-477a-a3ac-847458ddfbfb",
                "language": "sql",
                "tags": []
            },
            "outputs": [
                {
                    "output_type": "display_data",
                    "data": {
                        "text/html": "Commands completed successfully"
                    },
                    "metadata": {}
                },
                {
                    "output_type": "display_data",
                    "data": {
                        "text/html": "Commands completed successfully"
                    },
                    "metadata": {}
                },
                {
                    "output_type": "display_data",
                    "data": {
                        "text/html": "Total execution time: 00:00:00.015"
                    },
                    "metadata": {}
                }
            ],
            "execution_count": 10
        },
        {
            "cell_type": "markdown",
            "source": [
                "voy a comprobar los resultados"
            ],
            "metadata": {
                "azdata_cell_guid": "27a229d9-eae3-444a-8836-03329c263fc7"
            },
            "attachments": {}
        },
        {
            "cell_type": "code",
            "source": [
                "SELECT * FROM album;"
            ],
            "metadata": {
                "azdata_cell_guid": "d5b61256-cc46-42be-aefe-4f7841614d1a",
                "language": "sql"
            },
            "outputs": [
                {
                    "output_type": "display_data",
                    "data": {
                        "text/html": "(5 row(s) affected)"
                    },
                    "metadata": {}
                },
                {
                    "output_type": "display_data",
                    "data": {
                        "text/html": "Total execution time: 00:00:01.018"
                    },
                    "metadata": {}
                },
                {
                    "output_type": "execute_result",
                    "metadata": {},
                    "execution_count": 11,
                    "data": {
                        "application/vnd.dataresource+json": {
                            "schema": {
                                "fields": [
                                    {
                                        "name": "album_id"
                                    },
                                    {
                                        "name": "title"
                                    },
                                    {
                                        "name": "artist_id"
                                    }
                                ]
                            },
                            "data": [
                                {
                                    "album_id": "1",
                                    "title": "For those who rock",
                                    "artist_id": "1"
                                },
                                {
                                    "album_id": "2",
                                    "title": "Dream on",
                                    "artist_id": "2"
                                },
                                {
                                    "album_id": "3",
                                    "title": "Restless and wild",
                                    "artist_id": "2"
                                },
                                {
                                    "album_id": "4",
                                    "title": "Let there be rock",
                                    "artist_id": "1"
                                },
                                {
                                    "album_id": "5",
                                    "title": "Rumours",
                                    "artist_id": "6"
                                }
                            ]
                        },
                        "text/html": [
                            "<table>",
                            "<tr><th>album_id</th><th>title</th><th>artist_id</th></tr>",
                            "<tr><td>1</td><td>For those who rock</td><td>1</td></tr>",
                            "<tr><td>2</td><td>Dream on</td><td>2</td></tr>",
                            "<tr><td>3</td><td>Restless and wild</td><td>2</td></tr>",
                            "<tr><td>4</td><td>Let there be rock</td><td>1</td></tr>",
                            "<tr><td>5</td><td>Rumours</td><td>6</td></tr>",
                            "</table>"
                        ]
                    }
                }
            ],
            "execution_count": 11
        },
        {
            "cell_type": "code",
            "source": [
                "SELECT * FROM artist;"
            ],
            "metadata": {
                "azdata_cell_guid": "e7be41ea-895e-4b38-9d21-180b7e8b7466",
                "language": "sql"
            },
            "outputs": [
                {
                    "output_type": "display_data",
                    "data": {
                        "text/html": "(3 row(s) affected)"
                    },
                    "metadata": {}
                },
                {
                    "output_type": "display_data",
                    "data": {
                        "text/html": "Total execution time: 00:00:01.011"
                    },
                    "metadata": {}
                },
                {
                    "output_type": "execute_result",
                    "metadata": {},
                    "execution_count": 12,
                    "data": {
                        "application/vnd.dataresource+json": {
                            "schema": {
                                "fields": [
                                    {
                                        "name": "artist_id"
                                    },
                                    {
                                        "name": "name"
                                    }
                                ]
                            },
                            "data": [
                                {
                                    "artist_id": "1",
                                    "name": "AC/DC"
                                },
                                {
                                    "artist_id": "2",
                                    "name": "Aerosmith"
                                },
                                {
                                    "artist_id": "3",
                                    "name": "Alanis Morissette"
                                }
                            ]
                        },
                        "text/html": [
                            "<table>",
                            "<tr><th>artist_id</th><th>name</th></tr>",
                            "<tr><td>1</td><td>AC/DC</td></tr>",
                            "<tr><td>2</td><td>Aerosmith</td></tr>",
                            "<tr><td>3</td><td>Alanis Morissette</td></tr>",
                            "</table>"
                        ]
                    }
                }
            ],
            "execution_count": 12
        },
        {
            "cell_type": "markdown",
            "source": [
                "INNER JOIN join ON one field  ![](data:image/png;base64,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)"
            ],
            "metadata": {
                "azdata_cell_guid": "62d7981c-e42b-4c7f-b41d-c429379a25b5"
            },
            "attachments": {}
        },
        {
            "cell_type": "code",
            "source": [
                "SELECT * FROM artist AS ar \r\n",
                "INNER JOIN album AS al \r\n",
                "ON ar.artist_id = al.artist_id;"
            ],
            "metadata": {
                "azdata_cell_guid": "60a0e717-30d2-4e60-b51d-b9447d2a8085",
                "language": "sql"
            },
            "outputs": [
                {
                    "output_type": "display_data",
                    "data": {
                        "text/html": "(4 row(s) affected)"
                    },
                    "metadata": {}
                },
                {
                    "output_type": "display_data",
                    "data": {
                        "text/html": "Total execution time: 00:00:01.015"
                    },
                    "metadata": {}
                },
                {
                    "output_type": "execute_result",
                    "metadata": {},
                    "execution_count": 13,
                    "data": {
                        "application/vnd.dataresource+json": {
                            "schema": {
                                "fields": [
                                    {
                                        "name": "artist_id"
                                    },
                                    {
                                        "name": "name"
                                    },
                                    {
                                        "name": "album_id"
                                    },
                                    {
                                        "name": "title"
                                    },
                                    {
                                        "name": "artist_id"
                                    }
                                ]
                            },
                            "data": [
                                {
                                    "artist_id": "1",
                                    "name": "AC/DC",
                                    "album_id": "1",
                                    "title": "For those who rock"
                                },
                                {
                                    "artist_id": "2",
                                    "name": "Aerosmith",
                                    "album_id": "2",
                                    "title": "Dream on"
                                },
                                {
                                    "artist_id": "2",
                                    "name": "Aerosmith",
                                    "album_id": "3",
                                    "title": "Restless and wild"
                                },
                                {
                                    "artist_id": "1",
                                    "name": "AC/DC",
                                    "album_id": "4",
                                    "title": "Let there be rock"
                                }
                            ]
                        },
                        "text/html": [
                            "<table>",
                            "<tr><th>artist_id</th><th>name</th><th>album_id</th><th>title</th><th>artist_id</th></tr>",
                            "<tr><td>1</td><td>AC/DC</td><td>1</td><td>For those who rock</td><td>1</td></tr>",
                            "<tr><td>2</td><td>Aerosmith</td><td>2</td><td>Dream on</td><td>2</td></tr>",
                            "<tr><td>2</td><td>Aerosmith</td><td>3</td><td>Restless and wild</td><td>2</td></tr>",
                            "<tr><td>1</td><td>AC/DC</td><td>4</td><td>Let there be rock</td><td>1</td></tr>",
                            "</table>"
                        ]
                    }
                }
            ],
            "execution_count": 13
        },
        {
            "cell_type": "markdown",
            "source": [
                "INNER JOIN with USING"
            ],
            "metadata": {
                "azdata_cell_guid": "5a88c4ac-ef45-4527-bb31-62f16e60845c"
            },
            "attachments": {}
        },
        {
            "cell_type": "code",
            "source": [
                "SELECT * FROM artist AS ar \r\n",
                "INNER JOIN album AS al \r\n",
                "USING (artist_id);"
            ],
            "metadata": {
                "azdata_cell_guid": "edfc2eeb-fc24-426e-a2d8-1b0d839c3bda",
                "language": "sql"
            },
            "outputs": [
                {
                    "output_type": "display_data",
                    "data": {
                        "text/html": "(4 row(s) affected)"
                    },
                    "metadata": {}
                },
                {
                    "output_type": "display_data",
                    "data": {
                        "text/html": "Total execution time: 00:00:01.003"
                    },
                    "metadata": {}
                },
                {
                    "output_type": "execute_result",
                    "metadata": {},
                    "execution_count": 14,
                    "data": {
                        "application/vnd.dataresource+json": {
                            "schema": {
                                "fields": [
                                    {
                                        "name": "artist_id"
                                    },
                                    {
                                        "name": "name"
                                    },
                                    {
                                        "name": "album_id"
                                    },
                                    {
                                        "name": "title"
                                    }
                                ]
                            },
                            "data": [
                                {
                                    "artist_id": "1",
                                    "name": "AC/DC",
                                    "album_id": "1",
                                    "title": "For those who rock"
                                },
                                {
                                    "artist_id": "2",
                                    "name": "Aerosmith",
                                    "album_id": "2",
                                    "title": "Dream on"
                                },
                                {
                                    "artist_id": "2",
                                    "name": "Aerosmith",
                                    "album_id": "3",
                                    "title": "Restless and wild"
                                },
                                {
                                    "artist_id": "1",
                                    "name": "AC/DC",
                                    "album_id": "4",
                                    "title": "Let there be rock"
                                }
                            ]
                        },
                        "text/html": [
                            "<table>",
                            "<tr><th>artist_id</th><th>name</th><th>album_id</th><th>title</th></tr>",
                            "<tr><td>1</td><td>AC/DC</td><td>1</td><td>For those who rock</td></tr>",
                            "<tr><td>2</td><td>Aerosmith</td><td>2</td><td>Dream on</td></tr>",
                            "<tr><td>2</td><td>Aerosmith</td><td>3</td><td>Restless and wild</td></tr>",
                            "<tr><td>1</td><td>AC/DC</td><td>4</td><td>Let there be rock</td></tr>",
                            "</table>"
                        ]
                    }
                }
            ],
            "execution_count": 14
        },
        {
            "cell_type": "markdown",
            "source": [
                "SELF JOIN\n",
                "\n",
                "Self-joins are used to compare values in a table to other values of the same table by joining different parts of a table together.   ![](data:image/png;base64,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)"
            ],
            "metadata": {
                "azdata_cell_guid": "7b1fa715-1804-4aa1-83ec-d0afd21f45ef"
            },
            "attachments": {}
        },
        {
            "cell_type": "markdown",
            "source": [
                "<span style=\"color: rgb(13, 13, 13); font-family: Söhne, ui-sans-serif, system-ui, -apple-system, &quot;Segoe UI&quot;, Roboto, Ubuntu, Cantarell, &quot;Noto Sans&quot;, sans-serif, &quot;Helvetica Neue&quot;, Arial, &quot;Apple Color Emoji&quot;, &quot;Segoe UI Emoji&quot;, &quot;Segoe UI Symbol&quot;, &quot;Noto Color Emoji&quot;; font-size: 16px; white-space-collapse: preserve; background-color: rgb(255, 255, 255);\">en este caso en particular, no se requiere un </span> `SELF JOIN` <span style=\"color: rgb(13, 13, 13); font-family: Söhne, ui-sans-serif, system-ui, -apple-system, &quot;Segoe UI&quot;, Roboto, Ubuntu, Cantarell, &quot;Noto Sans&quot;, sans-serif, &quot;Helvetica Neue&quot;, Arial, &quot;Apple Color Emoji&quot;, &quot;Segoe UI Emoji&quot;, &quot;Segoe UI Symbol&quot;, &quot;Noto Color Emoji&quot;; font-size: 16px; white-space-collapse: preserve; background-color: rgb(255, 255, 255);\"> dentro de la misma tabla (como unir </span> `Album` <span style=\"color: rgb(13, 13, 13); font-family: Söhne, ui-sans-serif, system-ui, -apple-system, &quot;Segoe UI&quot;, Roboto, Ubuntu, Cantarell, &quot;Noto Sans&quot;, sans-serif, &quot;Helvetica Neue&quot;, Arial, &quot;Apple Color Emoji&quot;, &quot;Segoe UI Emoji&quot;, &quot;Segoe UI Symbol&quot;, &quot;Noto Color Emoji&quot;; font-size: 16px; white-space-collapse: preserve; background-color: rgb(255, 255, 255);\"> consigo misma), sino más bien un </span> `JOIN` <span style=\"color: rgb(13, 13, 13); font-family: Söhne, ui-sans-serif, system-ui, -apple-system, &quot;Segoe UI&quot;, Roboto, Ubuntu, Cantarell, &quot;Noto Sans&quot;, sans-serif, &quot;Helvetica Neue&quot;, Arial, &quot;Apple Color Emoji&quot;, &quot;Segoe UI Emoji&quot;, &quot;Segoe UI Symbol&quot;, &quot;Noto Color Emoji&quot;; font-size: 16px; white-space-collapse: preserve; background-color: rgb(255, 255, 255);\"> regular que conecte la tabla </span> `Artist` <span style=\"color: rgb(13, 13, 13); font-family: Söhne, ui-sans-serif, system-ui, -apple-system, &quot;Segoe UI&quot;, Roboto, Ubuntu, Cantarell, &quot;Noto Sans&quot;, sans-serif, &quot;Helvetica Neue&quot;, Arial, &quot;Apple Color Emoji&quot;, &quot;Segoe UI Emoji&quot;, &quot;Segoe UI Symbol&quot;, &quot;Noto Color Emoji&quot;; font-size: 16px; white-space-collapse: preserve; background-color: rgb(255, 255, 255);\"> con </span> `Album`<span style=\"color: rgb(13, 13, 13); font-family: Söhne, ui-sans-serif, system-ui, -apple-system, &quot;Segoe UI&quot;, Roboto, Ubuntu, Cantarell, &quot;Noto Sans&quot;, sans-serif, &quot;Helvetica Neue&quot;, Arial, &quot;Apple Color Emoji&quot;, &quot;Segoe UI Emoji&quot;, &quot;Segoe UI Symbol&quot;, &quot;Noto Color Emoji&quot;; font-size: 16px; white-space-collapse: preserve; background-color: rgb(255, 255, 255);\">.</span>"
            ],
            "metadata": {
                "azdata_cell_guid": "81da727c-f7ed-4cbd-8d40-879ec76f1a19"
            },
            "attachments": {}
        },
        {
            "cell_type": "code",
            "source": [
                "SELECT\r\n",
                "  Artist.artist_id,\r\n",
                "  Artist.name,\r\n",
                "  Album.album_id,\r\n",
                "  Album.title AS alb2_title\r\n",
                "FROM\r\n",
                "  Artist\r\n",
                "  JOIN Album ON Artist.artist_id = Album.artist_id;\r\n",
                "\r\n",
                ""
            ],
            "metadata": {
                "azdata_cell_guid": "5c3e500e-4664-4525-ade8-7d8b3ea64675",
                "language": "sql"
            },
            "outputs": [
                {
                    "output_type": "display_data",
                    "data": {
                        "text/html": "(4 row(s) affected)"
                    },
                    "metadata": {}
                },
                {
                    "output_type": "display_data",
                    "data": {
                        "text/html": "Total execution time: 00:00:01.004"
                    },
                    "metadata": {}
                },
                {
                    "output_type": "execute_result",
                    "metadata": {},
                    "execution_count": 20,
                    "data": {
                        "application/vnd.dataresource+json": {
                            "schema": {
                                "fields": [
                                    {
                                        "name": "artist_id"
                                    },
                                    {
                                        "name": "name"
                                    },
                                    {
                                        "name": "album_id"
                                    },
                                    {
                                        "name": "alb2_title"
                                    }
                                ]
                            },
                            "data": [
                                {
                                    "artist_id": "1",
                                    "name": "AC/DC",
                                    "album_id": "1",
                                    "alb2_title": "For those who rock"
                                },
                                {
                                    "artist_id": "2",
                                    "name": "Aerosmith",
                                    "album_id": "2",
                                    "alb2_title": "Dream on"
                                },
                                {
                                    "artist_id": "2",
                                    "name": "Aerosmith",
                                    "album_id": "3",
                                    "alb2_title": "Restless and wild"
                                },
                                {
                                    "artist_id": "1",
                                    "name": "AC/DC",
                                    "album_id": "4",
                                    "alb2_title": "Let there be rock"
                                }
                            ]
                        },
                        "text/html": [
                            "<table>",
                            "<tr><th>artist_id</th><th>name</th><th>album_id</th><th>alb2_title</th></tr>",
                            "<tr><td>1</td><td>AC/DC</td><td>1</td><td>For those who rock</td></tr>",
                            "<tr><td>2</td><td>Aerosmith</td><td>2</td><td>Dream on</td></tr>",
                            "<tr><td>2</td><td>Aerosmith</td><td>3</td><td>Restless and wild</td></tr>",
                            "<tr><td>1</td><td>AC/DC</td><td>4</td><td>Let there be rock</td></tr>",
                            "</table>"
                        ]
                    }
                }
            ],
            "execution_count": 20
        },
        {
            "cell_type": "markdown",
            "source": [
                ""
            ],
            "metadata": {
                "azdata_cell_guid": "9dcb4dcc-ae7e-49af-b8e4-038de5269b50"
            }
        },
        {
            "cell_type": "markdown",
            "source": [
                "![](data:image/png;base64,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)\n",
                "\n",
                "LEFT JOIN"
            ],
            "metadata": {
                "azdata_cell_guid": "b63e16e5-e405-4b01-af59-8b441037bf76"
            },
            "attachments": {}
        },
        {
            "cell_type": "code",
            "source": [
                "SELECT\r\n",
                "  Artist.artist_id,\r\n",
                "  Artist.name,\r\n",
                "  Album.album_id,\r\n",
                "  Album.title,\r\n",
                "  Album.artist_id AS album_artist_id\r\n",
                "FROM\r\n",
                "  Artist\r\n",
                "  LEFT JOIN Album ON Artist.artist_id = Album.artist_id;\r\n",
                ""
            ],
            "metadata": {
                "azdata_cell_guid": "aa670279-9deb-463c-8e1d-3fefe50cb86d",
                "language": "sql"
            },
            "outputs": [
                {
                    "output_type": "display_data",
                    "data": {
                        "text/html": "(5 row(s) affected)"
                    },
                    "metadata": {}
                },
                {
                    "output_type": "display_data",
                    "data": {
                        "text/html": "Total execution time: 00:00:01.003"
                    },
                    "metadata": {}
                },
                {
                    "output_type": "execute_result",
                    "metadata": {},
                    "execution_count": 21,
                    "data": {
                        "application/vnd.dataresource+json": {
                            "schema": {
                                "fields": [
                                    {
                                        "name": "artist_id"
                                    },
                                    {
                                        "name": "name"
                                    },
                                    {
                                        "name": "album_id"
                                    },
                                    {
                                        "name": "title"
                                    },
                                    {
                                        "name": "album_artist_id"
                                    }
                                ]
                            },
                            "data": [
                                {
                                    "artist_id": "1",
                                    "name": "AC/DC",
                                    "album_id": "4",
                                    "title": "Let there be rock",
                                    "album_artist_id": "1"
                                },
                                {
                                    "artist_id": "1",
                                    "name": "AC/DC",
                                    "album_id": "1",
                                    "title": "For those who rock",
                                    "album_artist_id": "1"
                                },
                                {
                                    "artist_id": "2",
                                    "name": "Aerosmith",
                                    "album_id": "3",
                                    "title": "Restless and wild",
                                    "album_artist_id": "2"
                                },
                                {
                                    "artist_id": "2",
                                    "name": "Aerosmith",
                                    "album_id": "2",
                                    "title": "Dream on",
                                    "album_artist_id": "2"
                                },
                                {
                                    "artist_id": "3",
                                    "name": "Alanis Morissette",
                                    "album_id": "NULL",
                                    "title": "NULL",
                                    "album_artist_id": "NULL"
                                }
                            ]
                        },
                        "text/html": [
                            "<table>",
                            "<tr><th>artist_id</th><th>name</th><th>album_id</th><th>title</th><th>album_artist_id</th></tr>",
                            "<tr><td>1</td><td>AC/DC</td><td>4</td><td>Let there be rock</td><td>1</td></tr>",
                            "<tr><td>1</td><td>AC/DC</td><td>1</td><td>For those who rock</td><td>1</td></tr>",
                            "<tr><td>2</td><td>Aerosmith</td><td>3</td><td>Restless and wild</td><td>2</td></tr>",
                            "<tr><td>2</td><td>Aerosmith</td><td>2</td><td>Dream on</td><td>2</td></tr>",
                            "<tr><td>3</td><td>Alanis Morissette</td><td>NULL</td><td>NULL</td><td>NULL</td></tr>",
                            "</table>"
                        ]
                    }
                }
            ],
            "execution_count": 21
        },
        {
            "cell_type": "markdown",
            "source": [
                "RIGHT JOIN \n",
                "\n",
                "![](data:image/png;base64,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)"
            ],
            "metadata": {
                "azdata_cell_guid": "d7d74bb1-8eae-4c8a-af4d-8b611c7c088c"
            },
            "attachments": {}
        },
        {
            "cell_type": "code",
            "source": [
                "SELECT\r\n",
                "  Artist.artist_id,\r\n",
                "  Artist.name,\r\n",
                "  Album.album_id,\r\n",
                "  Album.title,\r\n",
                "  Album.artist_id AS album_artist_id\r\n",
                "FROM\r\n",
                "  Artist\r\n",
                "  RIGHT JOIN Album ON Artist.artist_id = Album.artist_id;\r\n",
                ""
            ],
            "metadata": {
                "azdata_cell_guid": "a892c448-d822-443c-8a1c-c334e85131d0",
                "language": "sql"
            },
            "outputs": [
                {
                    "output_type": "display_data",
                    "data": {
                        "text/html": "(5 row(s) affected)"
                    },
                    "metadata": {}
                },
                {
                    "output_type": "display_data",
                    "data": {
                        "text/html": "Total execution time: 00:00:01.006"
                    },
                    "metadata": {}
                },
                {
                    "output_type": "execute_result",
                    "metadata": {},
                    "execution_count": 22,
                    "data": {
                        "application/vnd.dataresource+json": {
                            "schema": {
                                "fields": [
                                    {
                                        "name": "artist_id"
                                    },
                                    {
                                        "name": "name"
                                    },
                                    {
                                        "name": "album_id"
                                    },
                                    {
                                        "name": "title"
                                    },
                                    {
                                        "name": "album_artist_id"
                                    }
                                ]
                            },
                            "data": [
                                {
                                    "artist_id": "1",
                                    "name": "AC/DC",
                                    "album_id": "1",
                                    "title": "For those who rock",
                                    "album_artist_id": "1"
                                },
                                {
                                    "artist_id": "2",
                                    "name": "Aerosmith",
                                    "album_id": "2",
                                    "title": "Dream on",
                                    "album_artist_id": "2"
                                },
                                {
                                    "artist_id": "2",
                                    "name": "Aerosmith",
                                    "album_id": "3",
                                    "title": "Restless and wild",
                                    "album_artist_id": "2"
                                },
                                {
                                    "artist_id": "1",
                                    "name": "AC/DC",
                                    "album_id": "4",
                                    "title": "Let there be rock",
                                    "album_artist_id": "1"
                                },
                                {
                                    "artist_id": "NULL",
                                    "name": "NULL",
                                    "album_id": "5",
                                    "title": "Rumours",
                                    "album_artist_id": "6"
                                }
                            ]
                        },
                        "text/html": [
                            "<table>",
                            "<tr><th>artist_id</th><th>name</th><th>album_id</th><th>title</th><th>album_artist_id</th></tr>",
                            "<tr><td>1</td><td>AC/DC</td><td>1</td><td>For those who rock</td><td>1</td></tr>",
                            "<tr><td>2</td><td>Aerosmith</td><td>2</td><td>Dream on</td><td>2</td></tr>",
                            "<tr><td>2</td><td>Aerosmith</td><td>3</td><td>Restless and wild</td><td>2</td></tr>",
                            "<tr><td>1</td><td>AC/DC</td><td>4</td><td>Let there be rock</td><td>1</td></tr>",
                            "<tr><td>NULL</td><td>NULL</td><td>5</td><td>Rumours</td><td>6</td></tr>",
                            "</table>"
                        ]
                    }
                }
            ],
            "execution_count": 22
        },
        {
            "cell_type": "code",
            "source": [
                "SELECT * FROM\r\n",
                "artist as art\r\n",
                "RIGHT JOIN album AS alb\r\n",
                "ON art.artist_id = alb.artist_id;"
            ],
            "metadata": {
                "azdata_cell_guid": "d1ca6ad4-2e4a-42f8-b747-3637f2ec61cc",
                "language": "sql"
            },
            "outputs": [
                {
                    "output_type": "display_data",
                    "data": {
                        "text/html": "(5 row(s) affected)"
                    },
                    "metadata": {}
                },
                {
                    "output_type": "display_data",
                    "data": {
                        "text/html": "Total execution time: 00:00:01.018"
                    },
                    "metadata": {}
                },
                {
                    "output_type": "execute_result",
                    "metadata": {},
                    "execution_count": 23,
                    "data": {
                        "application/vnd.dataresource+json": {
                            "schema": {
                                "fields": [
                                    {
                                        "name": "artist_id"
                                    },
                                    {
                                        "name": "name"
                                    },
                                    {
                                        "name": "album_id"
                                    },
                                    {
                                        "name": "title"
                                    },
                                    {
                                        "name": "artist_id"
                                    }
                                ]
                            },
                            "data": [
                                {
                                    "artist_id": "1",
                                    "name": "AC/DC",
                                    "album_id": "1",
                                    "title": "For those who rock"
                                },
                                {
                                    "artist_id": "2",
                                    "name": "Aerosmith",
                                    "album_id": "2",
                                    "title": "Dream on"
                                },
                                {
                                    "artist_id": "2",
                                    "name": "Aerosmith",
                                    "album_id": "3",
                                    "title": "Restless and wild"
                                },
                                {
                                    "artist_id": "1",
                                    "name": "AC/DC",
                                    "album_id": "4",
                                    "title": "Let there be rock"
                                },
                                {
                                    "artist_id": "6",
                                    "name": "NULL",
                                    "album_id": "5",
                                    "title": "Rumours"
                                }
                            ]
                        },
                        "text/html": [
                            "<table>",
                            "<tr><th>artist_id</th><th>name</th><th>album_id</th><th>title</th><th>artist_id</th></tr>",
                            "<tr><td>1</td><td>AC/DC</td><td>1</td><td>For those who rock</td><td>1</td></tr>",
                            "<tr><td>2</td><td>Aerosmith</td><td>2</td><td>Dream on</td><td>2</td></tr>",
                            "<tr><td>2</td><td>Aerosmith</td><td>3</td><td>Restless and wild</td><td>2</td></tr>",
                            "<tr><td>1</td><td>AC/DC</td><td>4</td><td>Let there be rock</td><td>1</td></tr>",
                            "<tr><td>NULL</td><td>NULL</td><td>5</td><td>Rumours</td><td>6</td></tr>",
                            "</table>"
                        ]
                    }
                }
            ],
            "execution_count": 23
        },
        {
            "cell_type": "markdown",
            "source": [
                "FULL JOIN ![](data:image/png;base64,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)"
            ],
            "metadata": {
                "azdata_cell_guid": "dcd2edb4-a3b1-441a-9645-645e01225a31"
            },
            "attachments": {}
        },
        {
            "cell_type": "markdown",
            "source": [
                "MySQL no soporta FULL JOIN, por eso voy hacerlo de otra forma"
            ],
            "metadata": {
                "azdata_cell_guid": "898c5c94-cda3-41dd-8932-627b65c2f870"
            },
            "attachments": {}
        },
        {
            "cell_type": "code",
            "source": [
                "-- Primer parte: LEFT JOIN para obtener todos los registros de Artist y los registros coincidentes de Album\r\n",
                "SELECT\r\n",
                "    Artist.artist_id,\r\n",
                "    Artist.name AS artist_name,\r\n",
                "    Album.album_id,\r\n",
                "    Album.title,\r\n",
                "    Album.artist_id AS album_artist_id\r\n",
                "FROM\r\n",
                "    Artist\r\n",
                "LEFT JOIN Album ON Artist.artist_id = Album.artist_id\r\n",
                "\r\n",
                "UNION ALL\r\n",
                "\r\n",
                "-- Segunda parte: RIGHT JOIN para obtener todos los registros de Album y los registros coincidentes de Artist\r\n",
                "SELECT\r\n",
                "    Artist.artist_id,\r\n",
                "    Artist.name AS artist_name,\r\n",
                "    Album.album_id,\r\n",
                "    Album.title,\r\n",
                "    Album.artist_id AS album_artist_id\r\n",
                "FROM\r\n",
                "    Artist\r\n",
                "RIGHT JOIN Album ON Artist.artist_id = Album.artist_id\r\n",
                "WHERE\r\n",
                "    Artist.artist_id IS NULL;  -- Esta cláusula WHERE es crucial para evitar duplicados que ya fueron capturados por el LEFT JOIN\r\n",
                ""
            ],
            "metadata": {
                "azdata_cell_guid": "631025a4-4de6-4198-9eff-c0e21b4fabc0",
                "language": "sql"
            },
            "outputs": [
                {
                    "output_type": "display_data",
                    "data": {
                        "text/html": "(6 row(s) affected)"
                    },
                    "metadata": {}
                },
                {
                    "output_type": "display_data",
                    "data": {
                        "text/html": "Total execution time: 00:00:01.015"
                    },
                    "metadata": {}
                },
                {
                    "output_type": "execute_result",
                    "metadata": {},
                    "execution_count": 24,
                    "data": {
                        "application/vnd.dataresource+json": {
                            "schema": {
                                "fields": [
                                    {
                                        "name": "artist_id"
                                    },
                                    {
                                        "name": "artist_name"
                                    },
                                    {
                                        "name": "album_id"
                                    },
                                    {
                                        "name": "title"
                                    },
                                    {
                                        "name": "album_artist_id"
                                    }
                                ]
                            },
                            "data": [
                                {
                                    "artist_id": "1",
                                    "artist_name": "AC/DC",
                                    "album_id": "4",
                                    "title": "Let there be rock",
                                    "album_artist_id": "1"
                                },
                                {
                                    "artist_id": "1",
                                    "artist_name": "AC/DC",
                                    "album_id": "1",
                                    "title": "For those who rock",
                                    "album_artist_id": "1"
                                },
                                {
                                    "artist_id": "2",
                                    "artist_name": "Aerosmith",
                                    "album_id": "3",
                                    "title": "Restless and wild",
                                    "album_artist_id": "2"
                                },
                                {
                                    "artist_id": "2",
                                    "artist_name": "Aerosmith",
                                    "album_id": "2",
                                    "title": "Dream on",
                                    "album_artist_id": "2"
                                },
                                {
                                    "artist_id": "3",
                                    "artist_name": "Alanis Morissette",
                                    "album_id": "NULL",
                                    "title": "NULL",
                                    "album_artist_id": "NULL"
                                },
                                {
                                    "artist_id": "NULL",
                                    "artist_name": "NULL",
                                    "album_id": "5",
                                    "title": "Rumours",
                                    "album_artist_id": "6"
                                }
                            ]
                        },
                        "text/html": [
                            "<table>",
                            "<tr><th>artist_id</th><th>artist_name</th><th>album_id</th><th>title</th><th>album_artist_id</th></tr>",
                            "<tr><td>1</td><td>AC/DC</td><td>4</td><td>Let there be rock</td><td>1</td></tr>",
                            "<tr><td>1</td><td>AC/DC</td><td>1</td><td>For those who rock</td><td>1</td></tr>",
                            "<tr><td>2</td><td>Aerosmith</td><td>3</td><td>Restless and wild</td><td>2</td></tr>",
                            "<tr><td>2</td><td>Aerosmith</td><td>2</td><td>Dream on</td><td>2</td></tr>",
                            "<tr><td>3</td><td>Alanis Morissette</td><td>NULL</td><td>NULL</td><td>NULL</td></tr>",
                            "<tr><td>NULL</td><td>NULL</td><td>5</td><td>Rumours</td><td>6</td></tr>",
                            "</table>"
                        ]
                    }
                }
            ],
            "execution_count": 24
        },
        {
            "cell_type": "markdown",
            "source": [
                "CROSS JOIN ![](data:image/png;base64,iVBORw0KGgoAAAANSUhEUgAAASQAAAFQCAYAAAAWSgM7AAAgAElEQVR4nOzddVhUyxvA8e+CtEhYiNiJioWB3a2g2IUd1+7ubsXuwu7uTuxOREExUEAadtnd+f2B7nUv6vX+ROB65/M897lwzpw5M2fWl9mzO+9RCCEEiexlsIq5J4LwD1ZRKa8FPaukI5WhgucflGy7HsawOhkAuOwbxeknkYyomxGAs08iWXkhBCGgQzkbqjlaAqDVClacD+HU40iMUynoWM6WKvlTA6CM0zLneBA3X8ZgbW5IryppKZLF7G/beMEnilUXQohWaWnsbEWzEtZ67Z99/AOvQuKo7piabpXSYmigIFqpZcjOt3r1tCxlTbncFlz2jcL3g4o2LjbEqOLLNS5uReV8qb/bDl+/V0yfv4LwiCiaN6rDvYdP6d6+ORnSpQVACMGqjTu59+gpQoBrrSpUr1SGEZPnUblsSdZu2Y2tjTUThvbG1sYKgDfv3jNnyTpeBryhZpVydGzljoGBAYdPnsfE2IhsWTJz/fZ96lSrgOdyL0YP/AOAuLg4MjiWZ+caT6pWcPnbayhJiU3xKwKS9O905cYdOvcfzd2ze1EoFMndHOk/SAYkSefhU1/CwiIoU7JocjdF+o+SAUmSpBTDILkbIEmS9JkMSJIkpRgyIEmSlGLIgCRJUoohA5IkSSmGDEiSJKUYMiBJkpRiyIAkSVKKIQOSJEkphgxIkiSlGDIgSZKUYsiAJElSiiEDkiRJKYYMSJIkpRgyIEmSlGLIgCRJUoqRKrErDA16ndhVStJXWafLnNxNkBKZnCFJkpRiyIAkSVKKkehv2f7Oy9eBhIZFAKBQQNbMdlil+f6jgv6pmFglPs9fkc0hcep+5ONHVHQMxZ3yYWCQ+DE8KjqWe4+fYW5qipNjLt0TP6JjYnn2IkBXLrWFGTmzJXybEvwxjKe+L7GxTkP+3NkS7A8Lj+TJ85dkSGdDdodMevv8At7yLjCYQvlzktrC/LvtFEJw75EvGTPYkjGdbYL2m5oYU9gxt9418g94R6xSSb5c2QgKCeXNuyAyZ0pP2k+PbAK4+/AZGdPbkjG9LdJ/W5IHpEmea9hz5Kzud3MzE6aP7EVz1+qJdg5f/9dUb9GbFTOH41arIpv3HOdjWDg92jX+x3XtP36BTgMnA/Dk/Dae+QVw8MRFBnRtSRpLi59uq+eqrSxYvZ3wiCgAcmS1Z+3c0Tjmyc4TX39qteqnV75ymeKsmTsaC3NTVHFxjJi6hC17T6CKiwOgcIHczBvfn0L5cgJw4eodug6ZSlBIGABdWrsxeWh3ACbMXcXCNTsASG1hjtf8sZQrWfibbY2JVVK9RW+G9/Kgf9eWAMxdvpmFa3cQERkNQHaHTEwe1p0aFUvpznH/yXOuHFjF7sNnGTl9KSUK5+eg1xwUCgVxcWqqt+jNoO6tGdKjzU9fT+nfLVnesqWztWLlrBGsnDWCYoXyMWCcJ4FBIb/sfIdOXWTT7mP/17Hrtx8im4Md53cvJU1qc+4/9mXxup1EREX/dLvmrdzKZM+1lC3hxHrPscwb34/IyGiadBnO63cfdOV6tm/MylkjGNO/E2e9b+G5amv89hGzWL/jMK3da7F58USmjejBh+BQGncehn/AOwD6j5tHGsvU7FszE48mdVixcS/3Hj3jyq0HLFyzg/bN6rFvzUwypLNh2JRF/6j9c5ZtZurC9VQoVRSv+WNZNGUQ5mamtO83kYvX7n7zuOt3H7Nu+6H/44pJv7sknyEBmJma4FqzAgBpbaxo1Gko9x8/x9jJiDEzl3PqwnVyZLVn4pCuFCuUj8joGAaO9+TitbsUdszN8pnDMVAoqNy4Bz3aN6Z9s3pcvHaX/mPnsWr2CBRfvGUYNWMZ56/cJi5OQ6m6HVk1ewROjrn12rPv2HmmLFiHsVEqKpcpzpHT3qydN5qVm/fhffM+AG17j8ejaV0WrY2fUTRoN4jubRvRtU1DNuw8wpL1u4iOiaV983r07dQctVpDWdculHEuxP2nz8lsl571nmN154yMjmHB6m3UrVqWtfNG67aXLFqAYVMWc+ehD5kyxD+9tkQRR+pVKwfA7iNnuHXvCY98/Nh79BwDu7ViaM+2uuOrli9BOdeuLPPazZThf/AxLIICeXNQyDEXBfLmoHjh/FhaWvAmMAiAPDmyULp4QZZPH8ZDnxc/PIaRUdEsWLOd+tXLsXrOKN322pVdqOj+B7OWbvzmbKu4Uz4mea6hTtUy2Fql0du3bvshrNOkxq1WxR9ui/T7SJYZUmRUDF47DrN+xyEmzluNZWpznBxz0XHAJI6e8eaPdo1RGCho1n0UoeEReK7cyv7jF5g8tDu+fgGMn70SrRD4BbzV3Y+KjonFL+AtMUqV3rnKlyxCZrsMWKWxoHXjWqSztdbb/8jHj25DpxEXF0fBvDlZsWkvfgFvUapUVC5TnIzpbUmf1obWjWtRrFBeShUtAIB7ncoULpCbPUfOMmC8J86F8+FetzJT5q9j3fZDiE/t27z3OHlyZKGss5PeeW/ff0pEZDRtGtfS254nRxZ2rphK3aplddvOXr6F147DTPZcw71HvpQrWZhz3rcA8GhSR+/47A6ZqOhSjDOXbwIwfURPvG/cJ1/5Znj0HU9a6zRkd8hEtfIlqVmpNCOnL8WxUguWbdhNJZdiPzyGN+49ISo6hjaN9c9vmdqCRnUqcfHaXdRqzVePHT+oC0qlilHTl+ltDwkNZ/DEBfQeNfuH2yH9XpJlhvQxLIKBE+YD8bOlJdOGEBkVw8VrdylXsjBR0TE45s7OlZsPOHzKm6z2GVGrNWzcdRSPpnXp2KIBGq32h85Vu4oLG3cf4cVLBX07NU+wf//xC2i1gr1rZuKQKQP5cmVlyoJ1ALjWrMDKzfvQqDW6Y58+f8nh05fp0KI+me3S06TrcCzMzchslwEA+4zp2LznGK0a1gSghVt15k8cmOC8qVIZAhCrjPvbPqzddlD3c42KpejVoanuLc9fAzCAUqXCyCh+aBvXq0LenFk4dOoyB05coH3/iXjNH0v1CqVYPWckx85e5fSlG+w+fJab959wdKOn3r2xOw99MEqVigJ5c+idw+hT+5VfOX+sUoWhoQEGBl9/HHeOrPb069KC6Yu8aNagmm67rXUaFkwaiJVl4n7IIf17JMsMyT5jOm4eXUezBtVQqzUUdsxNbKwSABNjIzRaLdZWlvTr0oLcORxo26QOc8b2xcgoFdMWrqf3qNkYfPokKk6tBtDd1P2nlCoVBgYKrK0sAfQ+/fkRMTFKzEyN0Wi1aLRamjaohnudyrr9nwPVXzk75SdDWhuWee1GqfrzH/XNe08oXb8TW/Ye122bPaYPe1fPAOJnUKlSGVKzUikUCgXzV23Tq/fanUdcvHaXOlXK8OxFAGVdu+D/OpChPdtydJMnBgoDDp/2ZuGaHVRr1oualUoxe0wfJg3thq/f6wRv2wZPXMj4OSsB0GjiZzwGhgaUKOJIOlsrFq/fqXftX70JZOfB09Sq5PLdTyR7d2xKnhxZGDNrud725q7VqV3F5ZvHSb+3ZAlIhoYGOGTKwJAebREI5izfjGOe7OTIkgn/1+8oW8KJuLg4tu07gaWFOQPGezJn+Wa6tWlIYcfcPH3+EnMzUyzMzVi1eT+L1+1ksufab57PzNSUwKAQ9h+/QFBIqN6+6uVLotFoad1zLEvW72L83FXfbbuZqQkAe4+e4/Ezf+pWK0vwx3DSWqehSIHc7D9+/odu0BsZpWLMgE5cufWAWi37sWjtDqYsWId756FERkZTp0oZXVlbmzSUKeGEa80KrNl6gPfBH8lin5Ee7dzZtPsoTboOZ/mGPYyYtoSmXYeTPUsmOrdyJWc2e+LUagZNmM+67YeYNG8NcWo1+XJmpUTh/DzxfUnb3uPYtOcYa7YcwChVKnJktddrZ4ki+bl0/R5rth5gzKwVAJQuVhBjIyNG9+vElZsPqN0qvv1TF66jdqt+aIX420/MjI2MmD22D75+f36zP1aponzDbrh1GPK310/6PSXrFyOzZs5IC7cabNl7nJevA1k/fywmRsY06zaSNVsP8IeHO/lzZ2N4r3ZYmJvSpOsIfP1fM3V4DwCWTR9KWEQkE+etJrNd+m+ep1ubhmi1WjoNnIzfq7d6+8qUcGLwH625duchUxesw9kp33fbXLuKC4Xy52Lc7JXsO3ae7m0b0a5pXSbMXU2H/pOwS5/2q28Nv6ZZg2qsnDUCrdAyfs4q5q3YQnGn/OxfP/ur358a/EdrYpUqFqzeDsDYAZ0ZP6gLT5+/YtSMZazddpBalV3Ys2o66WytMTAwYMOCcdjbpWfwxAWs2XaA5q7VadesLi7OhZg2oge3H/jQb8xcAt6+x3Nif73vFwEM7+VB+VJFGTp5EbsPn2F0v464FC8EQMuGNVgxczhxajXj56xi7vItFMqfk10rpyV4i/c1LsUL0aZxbd3vGo2W8MgoQsMjfuj6Sb8fhRBCJGaFf7eWTalSodUK3UxDo9EQq4zDxNhId1/lffBHLC3MdWUg/kt5IaHhWKY2x9jISLc9KjoWtVqNZWpzYmJVmJkaAxATq8LUxAhDw/g6o2NiiY6JTXBT+7OIyCgUBgaYmRgTq4zDzNQYAwMDYj/dIzE1MdaVVas1hITFz4o+1x8ZHYNSqdJ7yxcVHYuxUSrd/Zzv+RAciomxkd79G61Wm6AfMZ/e2n55bTQaDcGh4aQ2N8PczPSr9QeFhGJqakJqczO97XFxakJCw0lna6U7x9eEhkdgYmysd96/az/oj7darUGpisPC/M82fu7j5+sUFR1LqlQGmBgb//UUCci1bL+fJA9IkpRYZED6/ci1bJIkpRiJPkOSJEn6f8kZkiRJKYYMSJIkpRgyIEmSlGLIgCRJUoohA5IkSSmGDEiSJKUYv2S1vxCC0xeucu3WvW+moJD+vTRaLW/evidLZrvkboqUjBQKBXlzZadh3aqkSpU4oSTRv4cUGRWNa+seRMXEUqlMye8uR5D+nd69/8DGnfsZ+EfH5G6KlIyEENx9+IQXL19xaMsycmR1+Ok6E32G1HPIRArky8PoAT0Su2ophbh17wFXb92lX9d2yd0UKQXYdeg47u36cPPUTt0DKv5fiXoPKSIyimNnLjKoR6fErFaSpBTMvW4NjFKl4sqNb+dR/1GJGpAC3weTPp3tN1eES5L0e8qVIxsvA97+fcG/kagBSS6Lk77l0aOHyd0E6RdSKBLn37/82F/6JW7fvsWxY0cBOHPmFFWqlOfYsaO8fh3Axo1eunIlShTmyBH5SCQpXrIFJJUqYXL4zzmb/0oIoVf+a8fGxsYmXuOkn3b48EEWL45/kIOLS1mmT59FhQoVefToIUOGDNCVCw8P1xtPpVIpZ9r/YUkekFxcnKlbtyY5czpQvnxpgoLinw82fPhgMmdOT926NciWLRNHjx5m48b1ODrmomLFMmTPbs/UqZOoUaMyWbPasXz5EgB8fZ9RpUp5sme3p3nzxkRH//wDHKWfc/jwQTw95+DtfZlChfIRGPiOoUMH8fDhfdq0aYFGo8HOzpYXL57rjomJiaFr145kz25P6dLF5Vu8/6gkD0harZbUqVOzbt1GgoOD2LBhHQcP7mfDhvV4ei6iSpVqur+SQggiIiIYOHAIbm7ueHrOwcOjPR07dmbs2FFoNBoGDOhDzpy5uHLlFuHhYUyfPiWpuyT9ReXKVenUqQvFiztz4sQZ3YzH1jYt8+cvxtDQkBs37pIlS1bdMcuWLeb27ZucOXORWrXq0L175+RqvpSMkuW5bPXq1adatRoULOhEVFQUz5754ORUmObNWyKEYO7cWbqydnZ2NGzojrm5BQcO7KVt2/bcunWT1atXEhUVxd27d7CxsaVdu9ZA/F9aKXmZmZmROrUlxsbG2Nllws8v/tFKBgYG2NrGP0Qgc2b9L9HduXOb0NBQunWLD0SGhoYIIX76ey3Sv0uy39QWQlCwYCFu377FypXLGTt2FNoffAikEAJn5xI4ORVmyZLllCtXDmfnEr+4xdKPMDY25v3799y/fy/Bdo1Gg7f3Zb0/Hs7OJbC0TIOn50JatmxFuXIVZDD6D0rygGRlZYWJSfxTJywtLTEzM6N69Zr06dOf6dOn4OPzlPTpM2BkZISJiSlp0sQ/xcPY2AhraxsAUqVKhZWVFQYGCubOXUhYWCi1a1fjyZMn1KxZ+5vnlpKOu3sT1Go1nTq1w8DA8NN4GeLsXJJy5crTsmUTPnz4gLW1NcbGxnTt+geVK1elUaMGrF+/Fje3hsndBSkZJOpaNh9ffxp37MvxbWsSq0opBbp17wEDx03n1M71yd0UKYXoP2YKbrWr0rxRnZ+qJ9nfskmSJH0mA5IkSSmGDEiSJKUYiXoPydi+cGJVJUnSv5Dqzc+t+P8l30Nq3vDnbmxJKdvWPYcBOc7Snz6/Jn5WogckJ8c8eC2entjVSinI1j2HccyTU46zpGNsZITX9n0/XY+8hyRJUoohA5IkSSmGDEiSJKUYyRaQ2vYYys4Dx/S2BYeEMnzSXErVbEaNJp24dPVWguNGTfXksc8Lhk+aS4UGbajo2pbW3Qdz3vu6Xrlrt+7RostAStVsRsc+Iwn5GPZL+yPp+zw+n/8bOmH2P67j3fsgPgSHAHDjzgPmLFmb2M38IRGRUfQYMiFJz+nRc9gPr+n8nSTLav+bdx/y6Kkv/gFvaFy/JhD/+KR6rbrTsZU7J3etwe/Va3oPn0zPjq1o6loLgFev33He+waThvflsc9z5k0aTvYsmXny7AWDx8+id+fWtGhUl/Pe1+k/ahrzp4ykaKH87Dt6mlrNOrNvw2IyZUyfHF3+z/lyfCB+LeI/tXnXQSxTW9C5TRNCwyJ47h+Q2M38IXFxau4+fJqk57x979F/MlFdssyQVm3cyYj+3TA1MeH+Yx8ANu7YT+2q5enq0QzL1BY4OeZl64o5mHzxQvZc7kXfrm11v1ulsSStrTVlSxVj/4bFTJqzFLVazbgZi1i/eDplSxXD3NyMFo3qMnfiMELDI5K8r/9ln8cnra01lqktiI1V0qX/aJwqutKl/2hiY5XExMRSt2U36rXqjufyP9fGXb52mxVe2/Fcvp4x0xYA8NTXjxpNOlGqZjMe+8SnNAn8EIx7+z4UqdSQ0dPiM1QqlSq69B9NlUbtWbtlDwChYeG07j6YsnVbMWzinAT/2N3b90GligOgmnsHnvr6ATBw7AyevfAnPDyCZp36U7iiG4dOnANApYqjx5AJOFV0pX2v4UT9JTngi5cBNO7Ql2ruHdi08yC+fq+o27IbRSs3YvbiP9d7btx5AJfaLajk5sGDJ8/06nj41Bf39n0Ij4j8ucH4txCJyCiTkyhe1f27ZSKjooRj2XpCpVKJzbsOir4jpwghhOjUd5Q4f/n6N48L+RgmStVsJjQajRBCiIYevYTPc3+9MrWadRH+r96IfC51frIn0vcYZXIShSu6fbdMQ49eokrD9qJey+6iXsvu4tR5b9FjyAQxe/EaIYQQ0+evFD2GTBARkVEibd4y4qmvX4I65ixZK1Z4bRdCCHHi7GVRvKq7CI+IFOcuXxMVGrQRQghRs2lnsffwSaHVakXnfqPEghUbxKnz3qJdz2EiLi5O9B4+WWg0GtGy60Cx88AxIYQQQyfMFvOXe+mdq9+oqeLg8bPixp0HImeJGmLqvOUiOjpGOFdrLIJDQkX6/OWEr98r4ffqtchZoobQaDRi4JgZYuLsJUIIIeYv9xId+4zUq/PR0+cih3N18TbwgxBCiFI1m4lzl68JtVot3Nr2FFt2HxIXr9wUFV3biujoGPHU10807dhPCCGEUwVX4fPcXzhXaywePvX9R+OTHDr2GSmMMjn9dD1J/pZt296jxMQq8eg5HFVcHOe9bzB1ZH/s7TLwzO8V5V2cdWXVajVv3n0gq0MmlqzdTJe2TTEw+PqkTqvV8vrtO2xtrDAxNuZjaDg21ml0+z+GhgPobZN+rXFDepLVIRMA6dPaMGD0dBZMHQnAgD/aUbJGMwBy58hKnpzZ/ra+MiWLYZnaggouJQj5GIYQgsD3QbjWrgpA324eTJy1hI6t3Fm1cSeVG7bHo5krBgYGeN+4g1qtYcuuQ0RGRyeYcTRzrc3KDTtwsLdj4rC+LFu/lXx5clC7WgUA8ubKTs5sDp/6YktkVDQXrtzg1K74mU7vLm1wquiaoM3FnApglyEdwSGhmJubUcElPl9X365t2XXwBNkcMtGpdWPMzEzJkzMb21bN/bNNnfqTOVNGHPPk/PGL/i+X5G/ZVm/ayfpFU5kwrDfTRg+gmVttdhw4RvuWjZi3dJ3u2U5arZbxsxYzZ+laYmOV7Nx/jLZNEw44xAeukVM8qVrBhdQW5nRu04SBY6ajVqsB+BAcQoM2PXj01DfJ+imBvV0GsmfJTPYsmbEwN8fB3o6zl64BcPbSdbJktgP4ZiK27yVoE5+ySSoUCp69eAnAuUvXyeqQicfPXtCxlTsndqxi9aZdvH4bSOZMGZkwrA/bVs1l0vC+tGhUV68+lxJFuPPgMSfOXaZR3WrYWluxaNUmmrp+Pb+WEIKsmTNx5lN/Ll29hV2GhPcnP3fB2sqSwPdBvA388Kn/18jmkImsDvacvRhfR2yskunzV+qOXTprLJkypmP1pl3fvA6/mySdId1/7IOpiYnurwRA786t6T54PG2bujJv8nAatetFurS2vAv8QI3K5Zg1bjCrNu6kRaN6mJgY69XXtsdQTE1NeP8hmLrVKzJ7/JD4Oru0YeLsJRSv2hiHzHa88A9g9oShlC1VLCm7K/3FwumjaNqxH3YZ0vE28AM71nh+t3zJooXoOXQi/gFvqFy21FfLLJk5VjeTiIyOZp/XImJiY+kxZAK5c2QlfVpbMqSzZcnMsXj0HEqenNnw9XvFrrXz9epRKBRUq1gGX7+XmJmZ4lq7KnOWrKFIwXzf/IQ2/vXamyVrtvDmXSBbV879ajmIT8k7e8JQ6rXsjl3GdBgaGLJzjSfGxkacOu9NrWZd+BAUwoj+3XTHOBcpSIF8uans5kHlcqV0M7Tf2k+/6fvC391DiomJFRGRUQm2vw8K1v2s1WqF36vXIuRjmG5baFi4iIuL0zsmNCxcvHsfJAI/BAmlUvXV80VFRQu/V69FTEzsP+2K9B0/cg8pNCxcqNXqBNvVarV47v9Kt0+r1YrgkNBv1vPufZCIiIwSSqVKhEdE6rYHBX/U/RwTEyv8Xr3WOy42Vin8X73Ra4NKpRL+r94keC19WU9kVPzrMy4uToSGheva+OXrMTgkVGi1WiGEEBqNRjz3f/XVOtVqta6OzyKjosTLgLcJyr4N/CDCwiO+2r+IyCgRFRX91TanFIl1DynRV/s7OebhxsmdiVWllAIZ2xfGMU9O7pzdk9xNkVKITn1H4bV930+v9pff1JYkKcWQAUmSpBRDJmiTJCnRpMgEbYUL5P0V1UopxOdlFHKcpc8Sa2nNL0nQdv3EjsSuVkpBPt/UluMsffb5pvbPkveQJElKMWRAkiQpxZABSZKkFCNZ8iEBTJqzlMplS+otplWp4ti8+yCnzntjlSYNA3u0J5uDvd5xqzbupIKLMyfOXubOg8coFAoc7O1o28xVr+ybd+9Zvn4bL14GUCh/Xvp39yBVqmTr7n/O4tWbvzs+kvQ1yTJDeu4fwNrNu5mxcJVum1qtpknHvty694ieHVtRvnRxmnToywXvG7oyH0PDWbZuK7lzZOX42UtUreBCmyYNsMuQjgat/tBljXzs84I6zbuSJXMm+nRpS2RUNHVadPvv5JRJAb43PpL0LckyZVi9KT5B2/L123gZ8JasDpnYeeA4DvZ2zJs0HIBSxQtTzMmRMxev6mZRS9dt0UtB4lykILlzZKW8izOVy5WiRZcBXD+xg5FT5jF/6kgqlS2pK7dl9yGevXhJ8cIFkqPL/0nfGp/Zi9egUCi49/ApaxZMYdveI2zedZAC+XIxqn93zMxMef02kAmzFhOrVFKtYhnMzcxoWKcqg8fPwtTEhBf+AQzp3YmDx89y+/5jRvbvlmBsIyKjmDRnKU99/WjVuD5NXWvxyOc5ew+d5OXrt4RHRDJn4lAypEubTFdI+qsknyGp1Wp2HThOM7fadGzlzupN8eveTp67TDM3/VQPeXJmo0vbpkB8aoYd+45+MwVJ7hxZsUpjScCbd9x7+FQXjD5r0aiuDEbJ6MvxuXTtNv4Bb5g8sh+HTpxj4479LJ01jmwO9vQePhkhBM27DKRc6eIM7tWJ6fNX8vDJMzQaLas27qRaBReaNaxN5YbtyJsrO707t6Zl10EJztmhzwjs7dIzc9xgFq3exIFjZwgKDmG51zY6t2lC9Upl6dBnZDJcDelbkjwgHTh2FoA5S9by1NeftVv2oNFosLRMTfDH0G8et37bXpq51cHU1OSbZT6GhmNhbo6hoQGxscpEb7v0cz6PD0D39i2wt8vA/qOnUWs0jJ2+gJt3H3Lk1HnevQ/C3MwUj2ZuFMqfhyG9O+nqyJszG9UrlcG9Xg2y2NvRvGEdKpcrhY11GiKj/kwhq1LF8cI/gL5dPcidIyvTRg1gz6GTANSuWoHihQvQvkVDXga8SdqLIH1XkgekVRt30q+bB0UL5adiGWecixTk8MnztGnSgFmL1ujlJV6/bS/teg1Do9GwcsMOurVr9s16V2/aRZ6c2bCxToN7/RrMXLRaty8uLg739n04ePzsL+2b9G1fjg+A4ae33ZapLWhYpxpTRvZn/NDeLJw2GgtzM94GvkepVAHw3O/ryf0NDPQTuH35lA4jo1RERsUQ9imPus8LfywtLRK9X1LiStJ7SC8D3vIhOISuHn8GFrsM6Zgybzl71i+kq0czytRuSdWKLrx+G4hSqWLtgqnsOniCKuVLY22ln352/MxFWKa24MmzF5ibmbFhSfyjnccO6kmHPgWGqVcAACAASURBVCOo3rgjRQrl5/zl67R0r0e9GpWSsrv/ed8any8N6tmBOs278ubdey5fv0NT11qksUxNi0b1qNeqOwXy5eb4mYu0dK/3j86tUCgYNbA7dVt2p2zJohw7fZFjO1bx1PdFYnVP+gWSNB9S4IdgIiKjyJ0jq972S1dv6bI5hoVHcPn6bawsLXEpUQSFQsFjnxfYZUirF5DuPXpKcEio7mPlXNmzJDjfk2cvePEygNw5siU4p/T/+5F8SN8bn/uPfciVLQtmZqYAREfHcOHKTTLZpcfJ8c/1cTfvPkSpVJErRxaiY2LJ5mDPzbsPcS5SEIh/9l7JYk66skUK5sPQ0FCvHb5+r3j2wp8KpZ0xNzcjLDyCwA/B5M2VPUEd0v8vsfIhyQRt0j8mE7RJfyUTtEmS9NuRAUmSpBRDBiRJklKMX5IxUq4Z+719ft6dHGfps8+viRSXMVLe1P79yZva0l/JBG2SJP12ZECSJCnFkAFJkqQUI9nuSm7ZfYgihfLjmCen3vbrt+9z4uxlrK0sadPUldQW5nr7T5y9TO6cWbn74Am+fq903wRuULMyJibGunIqVRy7D53ghX8ABfPnpkGtKknSLyneviOndONjb5chQSaHf2LngWPUrFwOy9TJuxbtkc9zIiIiKVX8xx73pVarmbFwFX27tuXeQx9srNOQL3cOvTK7Dh6nRqWyyd63lCJZZkjvg4LpP3oaU+Yu09veb9RURk+bTya79AR+CKaaeweePPtz7VFsrJKhE2Zhlz4dazbvJlapJLWFOZev36ZUzWY89fXT1V+hQRuu3bpPZvuMeG3bR+d+o1Gp4pK0n/9lX47PsdMXGTJ+1j86vpp7B93Py9dvJzQsIrGb+I/dvPuQk+e9f7i8Wq3h6TM/lMo4jp25yK17jxKUWblhBx9DwxOzmf9qyTJDWr91L4N6dGD91r2EfAzD1saKY6cv8jLgLYc2L0OhiF/FXb1iGbbvO8qoAd0B8Nq+j6autXUpSJq61tatUbvgfYPug8ZzavcaRkyaR9+uHrRqHL8gs21TVybNWcq1W/coV7p4MvT4v+nz+HRu04SC5RswY+wgXr1+x5rNu0hjmZpOrRtjmdqCj6HheC5fj4O9HZ3bNGHVxp08ePKM8TMX0aGlu16dpy9c4ejpi5QpURS3OlUB8L5+h/3HTuNaqwqlnYugVKrwXO6FoaEBfbu2TfD1hAdPnrFp5wGKFMyPWq2hTrUKvHgZwLv3Qdx58JjU5ub06twahUKhq0uhUJDawixBH5ev30a75g0xMTHGa/s+ypcuTo6sDpy9dA0baytKFS+MrY2V3jH3H/uwdc9hijk5JvIV//dLlhnShu378WjuRqvG9dnw6aPCPYdP0q1dM10wAihXurguGGm1WlZ4bad7++ZfrbO8izOquDjevQ/i3OXrtGhUR2//qAHdZTBKYmHhEQSHhHLw+FkyZUxPyMcwmnTsS9FC+TE1MaZ198FotVra9RpGgXy5uffoKas37aJkMScszM2oUamsLl0JwMHjZ5mxcBX1alRk297DrNq4k6Dgj/wxeDz1qldiwJgZvA38wLBJczA0jH9pj5m+UK9Nfq9e07h9H4oUzM+dB4/pNmgsH8PCuXn3If1HTcMxTy6u3rrHVM/lAHTsO5KIqChy5cjCjIWr+aunvv4cO3MRpVLF0PGz2bjjAAATZy8hrY0VS9Zu1iv/MuAtbf8YSpGC+bn74Annv0jRLCXDDOnspWsoFApOX7iKuZkpKzfsoE/XtigUCrTab39Hc9fBE1QuVypBCpIvabVaXY6cRPy+p/R/6jl0IgAfgkM4tXsth06eI41lap77x+c3eurrx4uXr8mXOwf7jpyibvVKtHSvi0KhwNTERJcB4rNl67ZSKH8ebtx5iGPeXKzw2k7LRnUxMzPlwPGzeE4eTqaM6XHMk5M9h0/SqG51enRoqVfHzv3HGPBHe5q51aaZW23OXLym29fVoykN61ajSKF89Bk+hddvA3kbGMTGpTMBePP2PRFRUXr1NW9Ym0WrNpEqVSpauNfl6OkLdGrdGCEEmTNlTHBNtuw+RK/OrWnSoCZNGtTkyKkLP3+hfyNJPkNauWEHVSqU5oV/ANExsVhapubilZu416vB4tWb9ZJsnfe+zsCxMwCYv8KLvl3bfrPe0xeuYGZqQoZ0aalSvhRe2/fr7R85ZR7Hz1z6NZ2SvmrDkhlcPryZdLY2aDRaDA0MyJQxPSWLFqJk0UKMH9qbDOls6dDKnSG9O3Px6k3dzORrDA0NKZg/DyWLFqJ86eKMGdQDrRCsXTCFquVL02fEFB48eUbVCi7MnjCU90EhuqD4ZR2fs4kKIVCpVLp9qVLFpy4xNDBEo9VgaGiI8ov9X/78WcliTtx/7MPO/cdo7lYbuwzpmLt0HU0a1PxGHwx0iecgPnmg9KcknSEFh4Ry5/5j7pzdo3trVtQpPys37GDNgimcOHeZ6o070aJRHQLeBHLszEXWL5rG6QtXyJcre4K/OF7b9pHO1prHz15w+dptdqzxBGDqqAHUb/0H12/fp2ih/Bw9fQEbqzQJ8mxLv55CoWBY3y5MmbuMeZOH47nci4dPfQmPiOTkeW+audVm9NT5VHBxxsTEWPe6MDYyYvWmXVSvWEZXV//u7Rg2cQ4De7Rnx75jVClfirDwCFp3H8ywvl10AWWF13aEEGRIZ6t3CwCgpXs9KrvFPxLr7sMnutna19hlSEfxwgXoMWQCxZwcWbBy41ezltasUp6tew6xYu4E3OpU44/B4/G9dvSrdbZt5krdFt0wNDTg/uNn+L2SKXS/lKT5kJ77BxDw5h0Vy5TQbdNqtWzYsR+PZm5AfGKvk+e8sUxtQYtGdbAwN+e893WyOtjrPdfr8Mnz+L0MQKFQkCVzJmpWLouRkZFuv0aj4eDxszz3DyBf7hzUqVYhsbr5n/cjS0cOnzxP2ZJFsUpjiRCCdVv34tHMlbDwSLbvO4KBgQGt3Othbm5GVHQ067fuxSpNGt0HEY99XnDs9AVaNa7P5eu3qVK+NKktzLn78CmnznvjmDcntaqUB+JvEp88d5lypYpTomghtFot67buRa1W075FQ73XBUDAm3fsOnCcwgXzER0TS/nSxQl4G0hcnJoiBfMRGRXNmYtXqV+zMhqNBq/t+9FqtTgXKYhGo0nwsAj/gDc8eupL7aoVCAuP4PDJ87RoVBeIf4vWolFdrt++j1UaS/LkzIZ/wBv2HT6FU4G8REZFU7lcqQRfb/m3kQnapGQj17JJfyUTtEmS9NuRAUmSpBRDBiRJklKMX5KgTZKk/6YUl6DN3MyMGyd3JHa1UgriWLYexsZG3Dkjb2pL8Tr1G8Wlq7d+up5ED0i5sjt89Rlp0u8lV7YscpwlnVzZsiRKQJL3kCRJSjFkQJIkKcVItoB07dY93r0PSrA9KPgjew6d5MzFq19dIPvI5zmBH4K5efchR06d5+jpCzx86vvVc9x9+JQ9h07y2Ec+zz2p3bz7kOjomESr78IvWhX/ITgkyV8fv6ovv4NkCUiRUdHUa/UHk/+SoG3Zuq1Ub9wR7xt3WLZuGw1a9yA4JFS3X6vV0q7nMIyNjJg4ewk79h3j6OmLDB43k5pNOxPyMQyIT+Tm3r4PIybN5drte7TrNYxZi1bLDABJaOLsJbwJ/PC35U6d92brnsMJtkdERukWVgN0GzQuUdv32dWb91i5IWk/hPlVffkdJEtA2rL7EJ1aN+bUeW/dX9Hrt++zYcd+Lh/ezLTRA9i8fBYtG9dj4pwluuN2HzpBxTIldTlyhvXtwpwJQzm4aSntWjSk68AxAIydsZDSxQtzYNMSJo/ox4UDG7h17xFnLl5N+s5KOipVHLsOHufAsTNoNBqCQ0LZfegk+46c4uQ5/UyMe4+c4sjJ82zbe0SX6dPX7xVe2/fx5t17XbnAD8Gs37aXG3ce6LYdOXWeG3cecPZSfGqR+499WLtlD69ev/tm2857X2frnsPExMTqtvm9es3aLXu+OgMPDQvH+/odDh4/q8tUevbSNTbuPEBY+J/ZLSOjotmy+xBHTp1PUIdWq2X3oRNERUd/97r9lyRLQFq9aRddPZrSoFYVtu2LXxW9addBBvzRHjMzU1251o3rM2/ScN3vnsu96Nft6ylIWjeuj9/L14R8DGPv4ZP06+ah22dkZMTGpTOpUr70L+qR9Hc0Gg2ubXty/5EPF67cpG2Poag1GpRKJUqVKsE/yqioaDQaDeERkZ/ShMQxfOIcfHz9qdeyOxGRUfgHvKFO865ER8cwbsYi1m6J/xpChz4jmbFgFUqligPHztB7+GRUKhXu7Xtz/7FPgrZt3nWQPYdP4X3jDq3/GIJGo+HWvUc07dgPlUpFjyETOHpaP2/Ri5evqdW8C+cuX0cVF8eoqZ4sWLmBlwFvqFC/DUHBHwkLj6BKw3b4vXzNll2HGDZxjl4dPYdO5N7Dp1iY/7sX1iamJE/Qdvv+Y9RqNZFR0ZR2LsycJWtp36IhUVHRWKex/OZxpy9cIW/O7DjY232zTBpLS6JjYtBqhV7Cfyn5nTh3Ga1WS2nn+C/Pjpm2ID73eZkSBLx5h2vtqnrlmzSoxYYd++ncpgkQn8Zk49IZGBkZ8fLT6vrNuw9Ru1oFcmRzoKtHUwaOmUH7Fg0xNzNl8/JZGBgY4FytMYN6dsTWxoqmrrWZtXA1axdO1TtXuVLFmD1+CAAdeo/g1PkrrPDaTqvG9cmWxZ5OrRszcfZSXXaBz6pVcGH6mIF8DA3n0PFzXDu+DUNDQ2ys0rBk7RYszM1o3aSB7o/jqS/ycQ+dMJuw8AiWzBybuBf6Xy7JZ0irNu7ELkM65ixey77DpwgK/sj9xz7UqFyOzbsO6pV98uwFMxasAmDOknUM7Nnha1UC8ekqIqOicLC3o2ih/Jw4e1lv/5rNu+XNxGQUG6tCoVDw6vU7Xr1+R5e2TUmf1vaHjzcySqVLI2JiYoxKFYdSqUKpUvHq9TsCPwQzckA3AMzNTDEwiH9pxypVhEdE8ur1O2xtrGjVuH6Cur/MeZ0urQ2xSiWxSiVR0TG8ev0OpVKlN+P+7HPKkFilEhvrNBgaxudjypA+LTGx8XWktbXWlS9ToigQ/9Y15GMoj57Gf0Aj/SlJA1J0dAwnz11m5xpP1iyYwpoFUxg3pBcrN+ygUd1qhISG8cfg8Zy7fJ3Nuw7SuvtgypYsyu37jzE2NkrwyKRL125x4uxlFq3aRNNOfZk/ZSQAU0b1Z+CY6SxatYmLV24yetp8Nu86SOGC+ZKyu/95n8fnxNnL5M+Tg4+hYWTPkpkcWR1YvWkXlqnNMTM1xcfXn9v3H+sda2pqzIegEK7evKvL8PhXLRrV5ebdh5R2LkxMTCwXr9xMUKZ1k/rcf/yMMiWLcvHKTd6+T3ijfeuew+w5dJLdh05w9tI1Krg407pJA27efUiZkkXxe/Wa+4+efrOfdhnSYWFuxuzFazjvfZ2Js5bQvGEdGtevyexFa7jgfYNl67bS+o/4WZixsRHL50xg0oi+dBsoZ0hfMhw3blyi3fKfOHsJGdOnpVu7ryfif/rcn7y5slO00J9PW8ibMzs37jygSvnSuNergVIVx97DJwkJDWPOhGE4FciL9/U7uNWpil2GdLrjIqOiuXXvMU+f+2FhbsaMsYNxzBsfsGxtrGjiWpMrN+5y5tJVsmTOxPwpI/TuT0n/v4mzl5A+rQ1/dGjxzTKfx+eJrx9PfP0oWig/rRrXZ/OuQzzxfcGMsQPJkC4teXNl48bdh3wIDsHFuYjueGMjI2xsrDh4/CzVK5YhKjpGl9gvMiqa/HlyUszJkayZ7Vi3ZQ/GxsZMHtEPQ0NDQsPCqeASX7Z8aWfevHvPnkMnqFDGmXbNG+q1M06tpljhAvg89+f+42fMmTgUuwzpKZQ/DybGxmzcsZ+smTMxrE8XveyTGo0GhYGCIgXzo1AoqF+zMpeu3eLS1duMHtgd5yIFSWdrg0uJonht349arWHepGGkSpWK0LAIKpYpQd5c2QkK/oiNtRVpbaz5N9t35BR3Hz5h9MA/fqoemaBN+sdkgjbpr2SCNkmSfjsyIEmSlGLIgCRJUoohE7RJkpRoUlyCNoBda+f/imqlFMK9fR9AjrP0p079RvExNPyn60n0gOTkmIf6NSsndrVSCuOYJ6ccZ0mnfo3KeG3f99P1yHtIkiSlGDIgSZKUYiT54trP3gcFY2lhkeDb0xqNhmcvXmJtlYaM6dMmOC40LBwjo1REx8QSHROLAgXpbK0xNzdLUDYsPIJ374NwsM8oV1QnsQ/BIX87PpL0V8kSkOLi4ihWpTEdW7szcVgf3fZjn5KtZc+amYA376hUrhTTRw/Qeza7a9uebFwykz4jJvMxLBwzU5P4smVLMXfiUIyMjBBCMGqqJweOniFXjqw89nnOjLGD5D2PJNR1wFjd+Pi/eoPn5BHUqFw2uZslpXDJ8pZt75HT1KlWgV0HjqNWqwHwee7P0AmzObJtBXu9FnH9xA7SpLZg6Bc5ZM5cvEru7FnJkjk+BcnKuRM5vGU5d87sIZ2tNf1GTQNg7tJ1hHwM49bpXexaO59z+7yYNn8l3tfvJH1n/8M+j8/Fg5voNyo+5cfnZGYQnwBNpYrjY2g4QcEfefDkGW8/ZZl88uwFL14G6NX36vU7vUW4QcEfdVlClUoV/gFvdOcIDQvXJVZ78uwFz168/HUdlRJNssyQVm3cwdRRAzAySsXB4+dwq1OVdVv3MKBHezJlTA/E578ZM6gHEZFRuuNmL17LtDEDEtRnYGDA2ME9KVKpIRGRUazdvJsLBzfqUlCkS2vD8e0r9RZHSklHo9Fg+GksGrXrzYML+wHoO2IKs8YP4bz3DabOW04FF2dOX7xKmRJFUCgU3Lz7kAVTR1G9UhkWrdrE5t2HyOaQieCPYezfsIgNO/ZjYW5Gl7ZN8fV/xZhp89mx2hP39n3IkC4tbnWqcOnqLfYfPY0qLo4ubZviXq9Gcl4K6W8keUB68TKAj6HhODnmoUPLRkycvRS3OlV5FxhE7b8kwDIwMMDqU9K2Ow+ekCqVIQXz5f5qvQqFgkx2GQgNi0CpiiONZWq9/XKlf9Jr12s4ZqYmvA38wNRR/b9btoV7XSYO68O2vUc4dPwsaxdO5cqNO3gu96JIoXys2riTiwc3YmZmypDxs1i9add369u8fBYZ06el17BJVCxTgoZ1q/MxNCwxuyf9Akn+lm31pl1ERkVTrl5r+oyYwvU793kZ8BaXEkU48pc0oW8DP7B+214AZi9ew6Ae307Q9iE4hDfvArG3S0+2LPbcfaifv+bE2cvcvPsw8TskfdPciUNZOW8ihgYGVK9YJsH+LxcJ2Fpb6f5v8ylhmrVVGmJilQSHhJE7R1bdH5XihQvwPiiELye8X9alUKD7QGT6mAFoNFo8eg7j1r1Hid5HKXElaUBSq9Xs3H8M7yNbdP+NG9yTNZt30cq9HqcvXMVz+Xo+BIdw694jWnQdiKmJCX6vXhPwJpBypYvr1ff+QzCv3wZy6rw3DVr3YNyQXhgaGjJhaG/a9xrOqfPehHwMY9POg4ycMk8vn5L069naWJM9S2ZauNdl6bqtAKQyNOSC9w0ePHnG9dsP/qaGeDmyZsbv1WtOnfcm8EMw85atp3rFMmTJnIkDx84Q8jGMLbsPffXYQWNnUq5UMZbMHMuug8cTrW/Sr5Gkb9nuPfKhdZMGutSfAC3d6zFg9HTMzc04uGkJ81dswL19H6wsLZk2agBlShZl7ZY9jOjXVa8uJ8e8jJ2xEIVCQdbMmfCcPJzSnxJ8uZQowur5k/Fctp6xMxbimCcnR7au0D2tRPr1nBzzYv5pRtO7cxt6D5uEVqvFa8kM+o+aShZ7O9zr18DczBR7u/S6t9i2NlbkzZkNAAtzM5wc82JiYsyWFXMYOXkegR+CGdqnM2VKxqeDvfvgCQ3b9aJutYo4OeYFoHTxPxO9jezfjT8GT0ArtHhOHpGUl0D6P8gEbdI/JhO0SX8lE7RJkvTbkQFJkqQUQwYkSZJSDJmgTZKkRJMiE7RNHtHvV1QrpRAjp8wD5DhLf/r8mvhZ8lM26R+Tn7JJfyU/ZZMk6bcjA5IkSSnGfzYgxcTEJncTJEn6i2QJSEIICld0w3P5+uQ4Pc/9A7B3qkRMTCw+z/11iy4fPHmGR89hydKm302LLgPJ51KXguUbULB8A3oMmfCP67j36CmPfV4A8bmwBoyZntjN/CEfQ8Op3rhjkp6zdK3maLXaJD1nSpAsAenU+StkdbBn7eaEN0Ujo6L1BkKj0aDVaomOjtFt+zJH0mdf7hdCIIQgOjpGV1dMTKzu55zZHLh6bBtmZqZcvn6bA8fO6M6jVKpQq9UolapE6+9/kVKl4uDmpTy4sJ8HF/azeMYY3b6/jp9Go0GtVhMbq9RtE0Jw7PRFzl2+hlarRaPRolLFERcXh0oVp3e8VqslMipab5sQIsEsWAjx1dfO5zZ87WetVotWqyVWqUKr1X51Zv2tOj8fr1L92WaNRkNUdHSCcrGxSr3XfUxMrC6DgUajIRE/e0rRkiUgrdywg8G9OpIvdw7OXb4OxGcCaNFlIO7t+1C+fhvuPYpPH5LPpS5V3Tswa/Ea3gZ+oEKDNtRu3pVKbh58CA4hLi6ORu1607Rzf1p0GYharWby3GVUaNCW2i26UqyKO6OmelKjaWcKVXDl1et3CCFo3L4Pj31eMG/pejbtPMCgcTMBePj0GTWadiZfmbrfXEEu/X8CPwRTyc2D2s27UtG1LYEfgomMiiaHcw0qubXTpZoBuHrzLms272bx6s1MnL0EgMvXblGjaWfylK7NsdMXAbj78CkutVtQs2lnGnr0IjZWSXBIKFXdO+Dm0YtBY+PH9bl/AOXrt6Fpp/64te2ZILCUrtWciMgo1Go19k6VuHoz/tOihh69eO7/ireB76nZtDNOFd2Ytyx+Zh8cEkrVRh2o3bwr5eq1JuDNO706H/u8wLFsfSq5ebD/2GkueN+gVM1mVHPviEfPYbrAN3zSXCo3bIdTRTcOnTinV8eRU+ep6t4hQcD9bYlEZJTJSRSv6v7dMu+DgkWRSg2FEEIcO31RtO0xVAghxOzFa8TkuUuFEEI8e/FSuNRuIYQQwqFwZfEy4K0QQoiGHr3EweNnhRBCbNt7RLToMlC8ev1WlK7VXISFR4jt+46KoOCPYuLsJWLKvGVCCCHGTFsgug8aJ4QQYuWGHWLI+FlCq9UKpwquQgghvLbvE5PmxJ/37sMnwrlaY6FUqsT7oGCRz6VOol2b34lRJidRuKLbd8s09Ogl8rnUEYUqNBCFKjQQ+46cEk069hV7D58UQgix6+Bx0aRjXxERGSUcClcWH0PDEtQxZ8lascJruxBCiBNnL4vqjTsKjUYjnvu/Es7VGgshhChZo6m4ff+xEEKIqfOWi5FT5okzF6+Kph37iZiYWLHCa7vQaDSimnsHcePOAyGEEEvXbhGjp87XO9e4GQvFpp0HxKnz3qJUzWZi2MQ5IjgkVJSr11oEh4SKbMWqibDwCBERGSVylagpVCqVaNtjqNiy+5AQQojDJ8+Jei2769X56OlzUaRSQxEbqxQajUYULN9APPd/JYQQot+oqWL+ci+x9/BJ0bzzAKHVakV4RKQYNHaGEEIIpwqu4szFq6J0reYiKPjjjw9OMunYZ6QwyuT00/UkecZIr237eB8UQonqTRBC8MzvFSEfw3j24iWPfJ7r7ufY22UAwNrKUpdD+7nfK+pWrwiAa60qTJ+/Agd7O7q3b4F7+z7YWKehfo1KAOTMliX+/9kdsExt/mmbw98macuVPSvGxkakT2uLoaFh4l+A/5ADm5aSO0dW3e9jpi3QPWihQc3KjJ+xCAAHezusrf4+NUy+3DkwMDAgR1YHYmKVCCFQKlUUKZgvvs7aVZgwczETh/Xhyo27VG/SiSIF86FQKHjxMoCpnssB0GoFJYoW1Ku7WcM6jJ7qiYO9HZNH9GPUVE/y5spOwzpVdW38nCIlXVobomNieerrx9KZYwGoXbWCbjb2pdw5s2JiYkxwSCjp09mSI6sDEP/63XngOEqViro1KqJQKLBMbcHMcYN1xw4cMx0TExPSWFr8wNX+PST5Wzavbfu4fWYX10/s4MbJnQzv04UN2/dRpGA+ijk5sn3VPKaM7K97kX2pSKH8umn92i27KV64AI99XvAy4A0ndq7GwswM7xv/LJG/oYGB7kED0q9VzMmRtVvi7xuu3bKH4oULfLf857ER37h/olAosLZOw9lL1+Lr3Bz/mjh76Ro21mm4cGADdx48IeBNIE6Oeenm0Zztq+bR0r0eBfLqp0J2zJOTN+8+cPnabaqUL0W+3NmZt3QdTd1qf7N9xQsX0PVn484DunxMX2NrY0VYWITuIQXrt+7FuUhBihcuwMYdB4iLi+P120C6DxqnO2bX2gXUq1GRibOXfvc6/U6SNCBdv30f5yIFyZDuz+ettW/ZiEMnz9PVoxkKhYJy9VrTse9ImrnVASBdWltd2QVTR7Ln0EmcKrpy8pw3cyYOI1/u7Lx7H0QlNw/UGg0uzkVIbWGOmakJAGamprqEcCbGxlilsUShUOjqreDizIFjZ+jQewRGqYz0krilS2vzy6/J78rGKg2pUunPMD2njODQibMUrujG4ZPn8ZwyAgOFgrQ21l+to0aVcixdu5UBY6ZjYmyEVZo/86R/Hpt1C6cyac5SCld0Iyo6hsG9OlKmRFGOnr5ARde2lCruhIN9RpbPGY/nci8qNGjDtj2HqfmVRzI1da1FaeciGBoa0qRBLRwy25HNwR4DAwVpP6XVBUhna4OBgQGzxg3mvPcNCld0Y9uew3o37gFSpTLE5tPMT6FQsG7RVPqMmEyRSg3JZJeBDi0bUbWCC661qlC2bivcrlqaLQAAIABJREFU2/ehq0ezT/2zxcE+I0N7d+bG3Qfcf+zzf4zCv49cOiL9Y3LpiPRXcumIJEm/HRmQJElKMWRAkiQpxZAJ2iRJSjQpMkFb26auv6La/7F31mFVLG8c/5BSkhZ2d7fYHdgFioUtdmEHdse1uxDswi5UDETFbgWU7s4DzO+PI0eOeO/Vnyjo3c/z+Nzd2dl33on7Mjt75rsS2YR9h08BUj9LfCZtTPwomR6QKpUrxY61CzLbrEQ2Yt/hU5QrVVzqZwklMiMoSWtIEhIS2QYpIElISGQbpIAkISGRbciygGQxeAIHT5zLkrI/+vhTuVEn4uMTCA4Nw9tXLhvx3subaQtWZ4lPfxqT5y6nbhtL6raxpMegcVy54ZrVLkn8BmRJQHrw+Dle3r6s274/K4qngGkels2dhLa2Fhecbyk27MbFx+Ph5Z0lPv1pvPP8yJaVdlw6soMpowdjt2ID9kecstotiWxOlgSkHfuPMm3sUPR0dXj8/LUifc7S9Zi1603nfqPwCwgCoFWPwfQYNI4p81YSGxdHX5spVGrUEevR0xWqepPnLqdplwHMXrIOgE27HBk4Zga1Wvagm/VY9h89Te1WPWlrOZTomFjU1NTYsMORl289WLF+J3sPnmT0tIUAfPT1p12vYVRq1JHbbg9/feP8QejqaJNTT5eaVStyat8GlqzdRnJyMqOnLcR69HRa9RgMwMzFazFr15su/UcTEBQCgPuTF5i1603dNpZMnrucDTsckMlkNO9qTdcBY6jSuDP7j57GcshEKjTowLEzlzKU/8HHj3a9hlG5USfF2Hjw+Dm9h02ieVdrqjXtqhAClMgm/LCiUjq+RaAtOiZWlDMzFzKZTBw6eV6MmrpACCHELsfjYsRkOyGEEDddH4jWPYcIIYTIX7GxuP/omRBCiMHjZoqNOx2EEEIsX79DjJwyX3zw9hP1za2EEEIsXL1ZBASFiPkrN4nR0xYKIYQYOmG26DpgjEhJSRELV28Wc5au+0eBtlK124iQ0HDx/PU7RR4JZb5VoO2txweltNY9h4gP3n6i64AxYt02eyGEENv2HRYjp8wXQghx48490dZyqJDJZKJyo07iwePnIikpSTTrMkDYLd8gEhISRe6y9cVHH3/x/PU7kbNYTfHkxWvhFxAkilZvIVJSUpTKq29uJa66uAohhOg/cqrYsueguHHnnqjerKuIjokV9x4+FfXa9sqsZvlP89sKtB08cY7YuHgshkxEJpNx+94jls6agJv7E168eU/PQeMBCAoOBcDIUJ8aVeRiWm7uT9m6Si4WP2qQFQ3aW1GoQD7q165G3TaWtGhcjzy55LIi9WtXA8CsdjWCQ8JQVVWlXs2qHD2d8S9peqpVKoeJsSEmxoak/kd0jH8FKSkp+PgFYGIsl/Fo+Un+497Dp7zx+KDU7wFBIeQ3zaPQS7Lu3VXxKF24QD6FYF+RgqYKDaK8uU2IjYsnp55czCwxMYnExESaNqgDwMhBvdm405FypYtT55NETc2qFYn5Bz1siV/PLw9IuxyPc2j7KvLlzQ3A6s17OOx0gUIF8lGiaCEm2lgTHhHF0dMXAVBR+XxvwQL5uHbLjaYN6nDFxZWihQvg5e1L1YplWTJrAr2GTsLF9cE/li++CDIq6Qv4l7wS/x9JSTKmLVxN62YN0NWRa1OltXuhAqaUK12CccP6ERoWwYlzVzAxMsTroy9BIaHkyWXC9VtuFCpg+q/lpO+vHDk0SUhMxOODD8WLFOTKDfl4yXAPUh9nJ35pQHr8/DV6ujrUqVFFkTZyYG8Gj5/FxUPb6T5wHLfcHuLh5c3qBRk/R7Rp2Rx6DBqHoYE+kVHRHNv9FyZGhuw5eJITZ68QFBpGxbKlFB8O+BaqVy7PkrVb8fUPZIS1ZabUU0JOr6ET0dTUJDwiki7mLZg3ZXSGPJNsrOk+cBwurg947/mRtYumo62thd2U0bToOpC8eXIhhPimgPQlm5fPpbv1WHKZGKGursaxXX9x79HTzKiaxE/ilwq0JSXJSE1NReuTmmMakVHRGOjnBORfpjAy0EdTUwOAqOgYhZYxyD8r4x8YTP58eRR/ZVNTUwkODcfEyAB1dXUSEhJRU1NFQ0ODpCQZQghy5NAkOTmZpCQZOjraSnYjo6JRV1dDW0uL+IQExV/xL8uWkPMtAm2xcXEkJSWjogI59XSV9Mlj4+LQ1tJCVfXzO5Uv+x349BWQFPR0tUlJkY+b6JhYxWNZ+v5Jn56exMQkwiOjyJcnF4DSGPjShsT/T2YJtP3SGVL6wZaetGAE8rWA9Hw5WFRVVSlgmjdDWvr70ge89GWqq6ujrq6ewW768tOC0dfKlvh2dHV00NX5+2tf8mW/A0oBRkMjY1r6/vlaMAL5o1taMALlMfClDYmsR/qltoSERLZBCkgSEhLZBkmgTUJCItPIlmtIab8bkvgzefD4OSD1s8Rn0sbEj/JTBNrunHPMbLMS2Yi0t2xSP0ukkfaW7UeR1pAkJCSyDVJAkpCQyDZIAUlCQiLbkGUBac7S9Vy/fS9Lyg4KCcVi8ASSkmQkJclISEgEwMcvgI07pXWRzOCvrfuwHj2dgWNmMHPxWkUbfyuRUdGK4xUbdhIWHpnZLn43d+494vTFa9+cPyEhEYvBE+R79M5e4e6DxxnyrNy4K1vULbuQJQHpnedHHI+dYdn6HVlRPLo62tStWQV1dTUOnTrPyk27AQiPjMqyIPmn4XzLjQ5tmjJ8gAV5c5nQd+SU77rfrF1vxfGl63eIjYvPbBe/G4+PPt+ln6ShoU6dGpXR0dbiyYvXeH70zZDniosrMbFxmenmb80v3+0PsNPhGNPHD2Pr3kN4eftStJB8F7bjsTPYH3GibKni2NmOQk9Xh1FTF5BTT5ecejpMHTOEJX9tw8X1AU3r12HyqIGoqKiw0+EYx05folc3c6y6tefwqQt4ffTllps7FcuVomPrpixdt4PCBU1ZMXcyujo6eHn78s7zI+u22RMXH09UdAx9enQgIioaG9t5+AcGs8LOlhJFC2VFE/0RVC5fhpLFClO7emW27jsEwG23h6zavJucurrMnmxDscIFefnWg+kLVlMwfz5W2tkyZ9l6/AKC6GY9lgXTxyrZ/GvrPs5ddcGsVjWmjxuKmpoauxyPc9TpIhZd2tK3R0f8A4OZNGcZampqrF04HSNDfSUbThec2br3MJUrlEZdTR2bgb148vw1j5+/4v6j5+jp6vDXouno6GgTHBrG+JlLAChVvEiG7U/TF65hyuhBGOjnZObitXQ1b0n1yuWxP+JEyaKF+eDjh7a2ltI9Zy/fYPPuA1SrVB6ZLDmzm/235pfPkGQyGSfOXqZnx9ZY9+rCzv3HAHknHTxxDvuNy6hcvjQ2tnLdo6OnL1K5fGlGDbJizrL1BIWEsW3VPDw+eLNozVZ8/ALYsucgB7ev5KLzTQKDQ3n9zhO3h09Yv2QmT56/Zur81aycZ0tiYhJrt+5DCIGzy11KFivM0H496da+FXa2owB4+uINA3t3xbpXF6yGT/7VzfNHcdf9Cc4377JozRYqlSuNxwcfJsxeygo7W4b260lfm6kkJckYaTuf+dPGUK1SOQ6dOs+cSTaY5s3N3g2LKVOiqMLepl2OvHrnyYGtKwGwW74Rv4AgNu1y5OD2lVy5fgf/wGDmLF1Hj45t6NujI5v3HFDyyf3JC2YvWccKu8lUqVCWZet3EBsXzwcfP46fvcKimeMpWrgA0xauJiUlhe4Dx9G5XQvspozmqNPFDHXU0dbi1AVnoqJj2HvwJA5HzwCwYYcDZUsV46qLa4by7ZZvYOW8KVStVJabd90zu9l/a375DMnp4jWEECxau5XomFhOnL3C7EkjOHPpOnHxCUycvRSAS9dvA2BkoE+vruYAnL5wjfuXD6OmpsaqeVNo0rk/tqMGUqhAPiwGT8SyazvFJs3uHVpTMH8+unVoRXBIGEULFaB7h1YcO3NZ4Yuqqio5cmiioaGh2JDboE51alatCCAJ/v8gl5xvoaGhzo07D7h/+TBHT19CJpMxb/lGALx9/fH86INF5zYMnTCHhnVrMGviCLS0cqCiopJhE67TxWto5cjB+JlLSJLJeP3Ok1kTh1OkUH4sBk/EoktbTPPmpot5S+YsXUft6pWZPm6osk/XbjPBZgBlShajTMlibNt3WHGtR8fWFC9SkL49OzLSdj4+/oHk1NWle4dWAIwd1o+gkFAlez07tcHWbgUa6uoMH2DBqfPOvHrrSb48uTA0UJ6ZAZy/6sK4Yf0oVbwIpYoXoV7NqpnS1n8Kvzwg7dh/FNvRgzHNK9+B7R8QzNnLNzDQz0n3Dq3o3a09MlkyHds0A0BN7fMkLmdOXd54fKBcqeK8eueJoYE+oeGRTBg+gJLFC9PXZqrSX9QvUVFR+VeBtn8SbJP4PmZOHEHJYoVpYzGU1+88MdTPSc2qFVk5T76edPHaLYoVLsjz1+9wPr6bTbsPMGfZelba2X7VnqF+TvpbdqZ+7epEREbx+p0XYRFRjBvaj1IlitBv5DRKFy+CqqoKl47s4Nqte4yYbMfJfRs+2zDIyZv3XgDExyfg7euvuJbW9SqokCpS0dfTw8cvgMTEJHLk0OS9lzc59ZSDZOkSRQkODcfx2BmWzJ6Ih5cP81ZsoEfHNl+tg5GBvqL8hIREfP0D/7/G/UP5pQHJy9uXsPBIrHt1UaTlMjZi3oqN7PprEW0shvDBxw8396f07tY+w/2r50/FcvAEmjasw9UbrthvXk4OTU0mzF5K66YNiI6JxfSTEuW3UrJoIf7aug8NdXXatmj4w3WUyMicSTbYLd/IyX3r2eV4jCnzVir0i7qat+TmXXeczjsTFhFJ946tAciT24RxMxczrL+Fws68qWPoMXAcHVo35YqLK3Mm2ZBDU4NJc5fTqkl9omNiyZ8vL+5PXrBhhwMmRoYKGdw0+lt0pknn/gSHhPHBx4/EJNnf+m1kqM/Qfj1pazmM8mVK4HzzLn16dMiQr1ObZuw9dJJypYrTqW0zrEbYKqSWv2Rg7260txqBje08ebBLSvp/mvTP5YdVudPxbyL/QSGhwvOjT4b0ew+fCiGESEhIFM4374qXbzwU19yfvFDKGxIaLi5duy3CwiMVaaFhEcL55l0RGBwihBDio4+/CA4JE0IIERgcInz8AoQQQkRERon3Xt4Z7D569ko8e/VWxMbGiVdvP5f94PHzb6v4f4xvEfl/8ea9iI9PUJzfe/hUpKamitTUVOF6/5Fwc38iUlNThRBCpKamipuuD8STF68V+cPCI4XzzbsiPj5BPHv1ViQmJgkhhIiKjhFXbtxRGkdp/R8QFKJIe/D4uXC9/+irviUlJQnnm3eFr3+gePHmvUhISBQBQSHC1z9QCCFEYmKSeP76nZKt+4+eiaCQUOHt65/BXkRklHj9zlNx76NnrxTX0sZZ+jEZExsrrt1yE77+geL563eKuv3OZJbI/y9VjJT4M/gWxUiJ/xaZpRgp/VJbQkIi2yAFJAkJiWyDFJAkJCSyDT9FMVJHWzuzTEpkQ+Li5ds4pH6WSCNtTGQ7xUhpUfvPR1rUlvgSSaBNQkLij0MKSBISEtkGKSBJSEhkG7IsIO07fIpnr95mSdlR0THMXbaelJQUpfTg0DBOnL2SJT79aRw9fZHwiKhMs7fd/kim2UrPey/vDDvyfzY/qy5/AlkSkAKCQphit5LFa7ZmRfHIZMn4BQSRmprK0dMXWbt1r8Ivx2NnssSnPw37w06Ehkf8a74jThdZt80+Q3p4RBSd+o5UnK/evCdT/Uvj1VsPzl52+Sm2/46fVZc/gSwRaNt78CS2owex2/E4IaHh5DIxAsDN/QmHTl6gbKliWPfqIhfY2roXI0MDhBD0t+jM8bOXcXF9QBOzWgpFgBt37uN0wZku7VpgVrsazjfvEhUdi+uDx1QoW5Km9WuzafcBChcwZWi/npgYG1KxbCkCgkKxP+xERFQ0mhoaNKhbA1lyMuu378cvMJjJIwdmEPeS+P/x9Q9k277DaGhoMLy/BbFx8dgfPkVUdCwaGuoMH2CpyLti404eP3/NjEVrmDFuGADnrrhw5YYrvbq2U3wTzvX+Yw47XaB86RJY9+qCqqoqa7fuRT9nTtTV1ejboyOOx85w79Ez2rdsTLOGdTP4lSSTsWGHA36BQYwc2Jv8+fIAcNH5Fuedb1K3RhV6dlLeve8fGMz5qzfxDwyiWYO6VKlQhu32R/DxD6RPjw5UKlcagNfvPNlz8CSG+jkZO7QvOXJoKmxEx8Sybrs9Y4f2zSC18l/ll8+QhBDsP+JEn+4dsOreQfGq8MHj50yYvYxu7Vvy3subGYvWArDkr+288/hIrWqV2Lr3ELsdj9OueSM27T7AnoMnCAwOZdyMxVh0bsu0hasJDA7llttDVmzcSfOGdVm/fT89Bo2nfu3qOF24xu4DJxBCsN3+CMZG+tSoUoFypYrTuH5tAK7dcsPAICcGOfWwGiEJtGUWUdExdB84jmqVylOscEF6DBqPnq4ONapUoHyZEor2T6NVk/oYGxrQpV0LNDU1SEhM5Prte9SrVYW+NlMICgnFzf0Jk+2W0719K16/82T20nUALFi1hY8+ftSsWpG1W/dy1cUVi05tWL5hJxecb2bwbd+hk+jp6VCyWBG6WY8lOiYWpwvO/LXNHotObTj3SeExPQFBIUyYtYQihQpQuKApA0ZPJzQ8gsZmteg9bBIv33rg8cGHnoPG06BOdTQ01JXGU0JCIt2sx1K6RDEpGKXjl8+QnG/eRUVFhfPON1FXV2Onw1HGD+/P3kMnKVG0IC6uDzAy0GfddnuWzJqAQU495k0dDUDfEbbccNqHro4OVSuWpUMfG3p0aI22thYHjp9j6ayJCoE2G+tetGhcD2+/AIJDwmjbvCEa6uqcuuBMf4tOAOjq6FC0cAFUVFQoX7oET1++oVnDOvTt0RGAvYdO/urm+WO5fvseKioqvH7nCUBoWLhcvrhwAdTV1ShXqrhS/oplS6Grq60Qy9NQV2fJrAkAnLvswntPb+yPOFGqWBFcXB+Qy9iIjbscWTBtLCZGBsyZLH/c6zloHD06tuH67fuUKFqYPQdO0LppA6WyundoRX+LzgA8efGa67fvsWP/UUoUK8T12/cpXDA/uxyPK83gANo0a4hVt/YEBocSEBzCwe2rAPnMZ/8RJ/R0dBg/YgDtWjSiXYtGCqFBIQSWQydSpKCpQvxNQs4vD0jb7Y/QpnlDgkPCADA2MsTF9T5qampUKFOKpg1qI4SgaGG5zraGxmcX1dXViY2LR1dHh9j4eNTV1UhOSWHn2gUEBocyYfZStq2W69Coqqp++q8Kqqpy5S01NdUMC9lfoqaqlul1lpD3Xf58uWnaQD4TKl60EEULFeD563ffdL+amlq6Y3k/qqmpUaFsSRrVq4kQguKf9M+VxoyaOg3qVCenni4xsXGoq2fs37j4hM/HcfFoaKijpqZGzaoVKVuyGElJMurUqJzhvrRy1NXUiI9PQAiBiooKsXHxaKiro66uRkxMrCK/r38g+fLkQiZLpmmD2jgeO8uLN+8pX7rEN7XBf4FfGpBCQsN58fo9+zcvVygzVixbiu32R5g10YYeA8eR3zQPt+66k9vEOMNz+4zxw+jcbzQDLDuz0+EY86aMJiY2jj4jbJloY42qqirqat8XUPKYGGN/2InDp+RrVxKZx06HY5gYGQDQtkUjQsIicHF9gIqKCueuuNCpTVPy5DLG4ehpShYrQo9P4mwg/zJMYFAo2+2PYNml3VftjxrUG8shE8mbJxcud+5TwDQvfDHjmDp2CMvW76S/RSe5WumoQRnsXLx2G7vlGxBC4O0XQLMGddDX02P8rCWMHdqXY2cuZZhVpcfE2BCz2tUYOGYGNatWZPOeA1w4tB1NDQ1adh+EiooKL968R1tLixpVKqCpqcHYof1oVK8WQ8bP5tqJ3WhoaPyt/f8UP6yolI5/E2jz+OAtbt11V0pLTU0VDkdPCyHkIlabdjmKE2evKK4fcbqglP/B4+di3TZ7JRGsF2/ei407HcTDpy+FEHJRrDQhtjfvvcTj53LhL1//QEX56e0ePnVBnL54TYSFR4orN+4opUtk5FsE2i463xLb9h1W/PPy9hUxsbFiz8ETYpfjcREVHaPIe+jkeXH64rUMNu49fCq27TssEhOTlPrC5c594R8YLIQQwsvbV2zc6SBOnvv7MXP3wWOxYYeDcHN/kqGMjz7+4s69R8LpgrPYtu+wkl8v33iIDTsclMZEGiGh4cL55l3FeUpKinC64Cw27z6gJBQXEhoutu07nGG8pXHp2m3h5e2bwf7vhiTQJpFlSHvZJL5EEmiTkJD445ACkoSERLZBCkgSEhLZhp8i0CYhIfHfJNsJtBka6PPgsrR58E+mRK1W6Onq8PiatKgtIWfQuJlcu+X2w3YyPSAVyp+XQgXyZbZZiWxGofz5pH6WUFAof+aMBWkNSUJCItsgBSQJCYlsQ5YFpNtuD/ELCMqSspOSZBw4fjZDenRMLPcfPcsCj/487j18yqnzV3G64Iz7kxdZ7Y7Eb0KWBKTomFg69x/NglWbs6J4gkPD2LDTgYSERC5fv4P9EScAvLx9Wb5+Z5b49KexaM1Wzl1x4ZbbQ6bMW8mGHQ5Z7ZLEb0CWCLQ5HjvD0H49OH7mMrFxcQo9GP/AYM5cuk65UsWpX6c6AE4XnMmTy5jomDhaNK7H89fvuO32kAZ1aygkKzw++OB88y7NGtahWOGCPH35BgD3Jy+oUKYklcqV5sjpixQ0zUtjs1oUMM3LlNGDiYmN49iZS4SGRZDL2FC+ORO4csMVv8AgLDu3lTY9/gATbawpWawwycnJVGrUiZGDeuN0wZkOrZsCcu2pGlUqEBQSRlR0DK/eepA/Xx4a1KnOsTOX0dHWwrxlYwBSU1O54HyLoJBQOrVphqGBPi/feqCupkap4kWIjIrm8fPXNKpXE6cLzhQumB9vX3/MWzbm6OlLqKup0bld86xsDolvIEtmSDsdjjG4T3c6tW3OwRPnAfnsxLzXcFRUVFi9ZY9CEGvEZDvWbt0HyBUDB46ZQUJCIn1H2HLVxZXwiCh6DhqHpqYGVsNtCY+I4uS5q1gNm0xUVAwWQybQsscgAoNCmDh7KWcv30AIwfQFqxX+CCFITZX/HOvS9dtccXHl6g1Xhk+y+8Ut82fy+r0XBvo5AZg6f5UiffXmPQQEhXD99j26DhhDUEgoY6YtpL65Fe89P7J8w052OhwDYPS0hRw8fpaAwBCadOpPWHgkF67eVLxq9g0I4q9t8nEybcFq5q3YCMDcZRu4c/8Rl2/cYc2Wvb+y2hL/B798huT+5AUpKSmEhUdSrVI5Vm/ew8DeXVm/3YHmjeqSJ5cxVt07MHH2UoYPsEQrRw7sNy1DVVWVum0sObF3PaZ5c9O2RSMGjp3BqX0bAPm60Ials9DVkX9NdfLoQfTt0RFtbS2CQkKZMGIAFcqW5NwVF9o2bwhALhMjzGpX44O3H+1aNOLpyzc0qFOdRTPGAVC+fvtf3Tx/FO17y//AxMUncGLv+n/MO7y/BWOH9qNU8aKcuXSdqWOHYN6qMfNXbKJlYzOevHjNjVP7UFFRQUNDnV2Ox5Q0kr7EfuNStLW1ePD4OTExsXRt35IqFcpmdhUlMplfPkPabn+EwgXzs2XPQS5fv01kVDRPXrwhMSkJISA8MoromFgWTJMHBW3tHAqxNZlMhuGnv7QmRoYkJcnIqafLwe2rSU5OZuiE2fgHBQOg+elRS0NDXXGsqaGBTJb8j/5pa2kpjtM0myT+P047bObJ9RMYGehTwDRPhuspKamKY03Nz32U/liWnExiUhKG+vqK/jA2MiRJJkNVRYXU1NRPtj4L76mogLa2vB8njbSmc7sWHDpxXjHTlsi+/NKAFBsXx7VbbhzYuoItK+3YstKOubaj2G5/BKtu7eWi/GVKEhYeyaVrtzLcb92rK/1GTeXGnfsMGD2NwX26897LG6vhk6lbsyrGRoaEhv37ly7So6Otxau3HtLbtZ+EhoYGo4f0UbwsyGVixIYdDjgcPcPNu+7fZKN4kYIkpySzevMeLjrfYtXGXXTv0Jqqlcqxy/E41265/e0XbEbazuejjx+tmzXgvefHTKuXxM9Bbe7cuXMzy9j8lZvIm9uEYf0tvnr9nedHypUuQeUKZRRppYsX4enLN/Tqak6ZEkXZf/QM2lo5WDxzPGpqasTGxlO/djUAalevTEpKCmcv36BT2+b07dERE2NDihTMz4ET5+jZsQ1NG9QhKUlG4YKm5MuTi+TkZHKZGFG0cAFSUlLR1dGmfOkSxMbFY1a7GqVLFOXFm/eEhkVQq1ol1NRUFVP72Nh4xeK6xGfmr9xEbhMjRlhb/m2e+IREqlYoi462FpXLl+bew2c0rFsD85aNOXXBGXU1NcxbNqJ6pfJoamqQO5cxRQrlJzklBT0dHcqWKvZJElaV6pXL07F1U1zvP+bR81csmD6WcqVLUKRQfgz0c3L+6k26mrekYP58VK1YVmnMtGpSn9OXruEXEMSyOZPQypHjVzXTf4pT56/y5MVrZk0c8UN2JIE2ie9GEmiT+BJJoE1CQuKPQwpIEhIS2QYpIElISGQbJIE2CQmJTCPbCbQBnN6/6WeYlcgmtLeSv0mR+lkijUHjZhIYHPrDdjI9IFUqV4pWTetntlmJbEa5UsWlfpZQ0KpJffYdPvXDdqQ1JAkJiWyDFJAkJCSyDVkWkPwCgoiNi1OcJycn4+sf+N12fPwCvmm7yEcffxITk745/WtERcfg+dHnu338L+IfGMxbjw+Kfz8qxhcfn0BwaFgmefd9pKam4uMX8EvL/Ojj/0vLyy5kSUBKSpJRs0UPFqXbf+QbEMSgcbO+29a8FRvZvOdFqDzoAAAgAElEQVTgv+br3G8U67bbK6X5BQRR1syc56/ffVNZjsfOMGnO8u/2MT2v3npy+NQFxfnC1VvIxBed2QYb23nY2M5j0pxlTJqzjB37v//X+84373Lb7SEAt+89wm75xsx285uIiIzGcuikX1pm+97DlTYM/1fIkoB04twVOrZpyomzV5DJZF/N8+a9F89evSU8Igr/wGCEELx660lgcCiu9x+TnCzftT/XdhQ21r0ACAwO5e6DxyQlfd2mw9EzivsANu8+iLbW571NycnJ3Ln3SGmm9vKtB6FhETx69grLLu1Yu3AaADGxcdy594jIqGhF3hdv3mcIbq/eevL4+WtAHoiv3brLsdOXePryDe+9vNnteBz3Jy8Udj74+OHm/kSxi/13ZtPyOZzct4GT+zYo9jhFRcdw0/UBUdExgHz28eqtJ17evnh8+Dz7jIyK5vSl65y/epP3Xt6K9LceHxTtmUZgcCi33R4q9XtwaBiu9x8rzX5DQsO5ddedhITEDL4+e/VWcfzyrYdinHj7BhAVI/c1ICiEuw8eKwWKmNg4bro+ICIyKoPNxMQkPD748Pqdp2JM+fgF4Hr/cYZg4/7kBa/een61HZ+9eqv0NPEnkyUBacf+o9gM7E1js1qcvnQ9w/XVm/cwYPR0VqzfSdPO/dm27zCJiUk06dyPQWNnsmDVZgaNmwnI5Uwu37jDey9vuvQfzeFTF+k3cupXy21QtwYnzl0FICEhkZPnrtCysRkg/x+gvrkVuxyP0c16LA5HzwBgNWwy3QeN48bte7i4PmD9DgcSE5No12sYThev0anfKKJjYtlz8ATT5q9i5qK17Dko3+M1feEaZi5ew5rNexgwahqxcfHcuHOf914fOXvpBrfc3ImKieGI00V8A4LY6XCMgWNmYH/kNK16DP7mR8nsSnhEJEEhoQSFhJKYmMTTl29o2L4PDsfO0MDciqcv3xAXn0CD9laMmGzH83RBwS8wmKcv3uD+5AW33OSqAKcvXsNu+QYGjZ3Bpl2OAJy9fAPzXsPYd/gUddtYEhQSygcfPzr1HcXR0xfpPXwyALfuutOu1zBOnr9Kww59CAgKUfLVxnYeAUEhxMXFU6e1Bc435cJv/UZNJT4hkfdeHxk6YTZzlm3AxnYeAK/feWLWthcOx87QqEPfDNrhnh99MWvXi2kLVvPey5u9h07SfeA4djocpb65FdExsSQnJ9PByob12/czcso8Vm7cpWRj3TZ7Fq/ZqiSL80cjMhEN00qierOu/5jnnedHUae1hYiLixe37rqLdr2GCSGE8PL2Fa17DhFR0TGiQoMOIjY2TgghhK3dCmG3fIOIj08QJWu1FsnJyUIIIWo07yYio6KF3fIN4tDJ8+K220PRuucQ8ejZK3HtlluGcqs17SpevHkvmnTuL4QQYpfjcTFz8VrRb+QU8eDxczFz8VqxcaeDEEKIsPBIUap2G5GcnCyqNe0qvH39hRBCOF1wFlPmrRQRkVGiSuPOwuXOfXHv4VMRERklpsxbKeYuWy9ev/MU9x89E6/feYpaLXuItx4fxFuPD8K813Bx/fY9cenabTFq6gKFXxUadBApKSkiKSlJFK3eQjx79Va89fggRk9bKLbuPfSDPfJz0DCtJCo36vSPeTr3GyXqte0lmnYeIJp2HiAuOt8SzbtaC/cnL4QQQtx/9Ew072otomNiFW39Jas27Rbb9h0WQghx+fodYTlkohBCiKjoGFGlcWchhLz9/AODhRBC2B9xEja28xS23Z+8EDfu3BMpKSmiZovu4sade+Ktxwexfvt+pT4QQog1W/aITbscxfEzl0XHPjZixGQ78dHHX7TqMViEhkWI8vXbi5SUFJGamioqNOggEhISRfveI8Rtt4dCCCGevnwj6ptbKdl8+cZDNGgvT0tMTBJl67UTkVHRirrZLd8gdh84LibOXiaEECI1NVVstz8ihBCiUsOOYrv9EdGi20CRlJT0Ld2SpQwcM0NomFb6YTu/XDFyp8NREhOTaNVzMAAeXj54efsqxLeiomMomD8fOp+UH8uXKcEHbz8ADA1yKlQCDfRzkpD4eepdr1ZVRg3qzbpt9nj7BVC/djXU1ZWrV7JoIQxy6uH+5AVb9x7i8I7VTF8ol7INDYugdRP572qMDPUxMTYkLj4BgLy5TZTsGOjnZMfaBew/ehqXO/dx2r8JO9tRbN17iOGT7DBv2Yj6tauTkJCoWDupVL40hgb6BP3Nj8di4+KRyWTYH5Z/cEBXR5sSRQv9P02cbdi7YQklixVWnE+Zt5JK5UoBUKlcacLCIwEwMTb8R/XHNEyMDQHIqaeLLDkZIQRqqqrky5MLgMrlS3P6wjVqVKnARBtrNu1yxOODD2cdtxAeEcXZyy4KW3VrVlGy3b1Da6zHzKBQ/nzMmTySEZPtOOJ0gR4dWwNgZGigEArU09UhITGRkLBwKpUvDUCFMiWJSvf4nkba2ImJjSNPbhP0c+oBUKVCGU6cu4qujjYVP7WJiooKg6y6Ke49eOIcoWERxMbFY2jw39B2/6WPbDKZjONnLnPzjD0uTvJ/dlNGscvhuCKPad7cRERGcer8Vbx9A1i9ac832Xa64IzzLTfWL5lJaFg4EZEZBwfA6MF9GDllPkUL5VeI+gOYt2yM3YqNBAaHsv/oafR0dcipp/tVGx4ffJi3YiOLpo+jfJkSPH3xhsl2KyhZvAgbl83G6eI1ypcpgZZWDiy7tGP88H68fudJbhMjNDTUCQuPICQ0HAANdXX8AoJQU1OjdIliNDaryYzxwwgMCsHQQP9bm/a3oF3LRkydv5qQ0HCmLVxNu5aN/jG/hro6IaHhf/sWVUVFhdIli7J59wGCQ8OYvWQd7Vo24oLzTc5dcWHd4pnExMYREhZOyyZmFMiXh7mTR6KpoYH6FwGwgGlehBA8e/WW6pXLU7t6Zf7aZk+Xdi3+1r/2rZowdf4qgkPDmLl4LS3/4YeixkbygHbg+FkCgkKYv2oz7Vo0pEVjMzbs2I+3bwAurvfp2MdGcc/RXWuZNHIgY6Yv+sd2+pP4pQHp+ev3DLDsovjKCIBF57YEBoegrZWDmlUroKqqiuPWFTgeO8vYGYsY2q8nJYoVRk1NlXq1qinuq1WtEjk0NSlRrDCmeXLRvlUTtLVy0KGPDeNHDCCXiZFS2Wa1q6GqqkrzRnUpU6IoE0YMAKBy+TIY6OfEvGVj+lt2ps8IW27cvofDluVK9wHkyWVM6RJFKV6kIJ3aNqdDHxtKFitCi8b1mDlhGLscjjF57nI2L5+Lfk49dq1bxOI1W7EeM4MRAywxzZubejWroqujja3dCgBmT7bBeswM3rz3Yv/mZRx1ukg367E0MqtF9crlf2p//EyqVy6v0DdPw852FDn1dOgxeDw5dXWwsx2FuppahtlKGj07t+Gu+xM27T6AibEhFcqUUFxrWLcGADvWLODFGw8sh0ykTbMG9O3RkdZNG2BsqE97qxGMsLYkf748rJ4/lQ8+fpj3Ho66uhoWndtmKG9Yfwususl11K26tadHx9aYGBuiqalBnRqf92nWq1UVDXV1po8bSv58uek5eAIAS2aOV7Knp6tNtUqf+/DgtpVcdXGlr80UhvbtQZtmDalSoQyLZ05g+OS5bNx5gK2r5OtTDerWQFdHm97dzDHNm1tp0f1PRhJok/huJIE2iS+RBNokJCT+OKSAJCEhkW2QApKEhES2QRJok5CQyDSypUDb8rm/dt+PxK9l8lz5G0KpnyXSSBsTP4r0lk3iu5Heskl8ifSWTUJC4o9DCkgSEhLZht8+ICUkJCpJivxMUlJSiP+0v01CQiLzyZKAJISgbL12rNiwU5H20ccf897Dv9vWyCnzlYTe/o7arXqy0+GYUlpkVDS5ypjx8OnLbypry55D9Br2Ywu5aXuW0kiTOfnT6D5wLKXrtKV8/fZUbdKFNVv2ZrVLEr8BWRKQLl27TZmSxbA/7KRQSxQIUlI+i5LFxycQGxdHSkqKQsQtMTGJ5ORkJVG0xbPGM25YP0A+g0kT/vqS5OQUtu49pJS2y/E4CYmJSoqNEZFRSqJxCQmJpKSkEBEZRX/LTmxcNlvurxAZRLni4xMyiH+l1SPtnicvXuN47CwJCYkkJclYuHqzop4gF3GL/Mqu8d+NlJRUzh7Ywotbp7l+ai+Pn71i3gq54mNSkozU1FTFbn+AsPDIDKJlXxsDCQmJyGQyRT+npKT8Y3slJycTHvG5n1JTU5HJZCQkJBIXF59p9ZXIHH65/AjIBdomjbRm8+6DXLvlRtMGdZSuHz97mZmL1mJibIiujjb1albFdtQgypqZU7JYYfwCgujV1ZxZE0ewefdBypUuQaN6NekxaBw59XQpX7oEy+dOzlBu6RJFueriSrOGdUlNTWXvwZMKgbbk5GR6D5uMf1AwsbHxrF00jYZ1a2LWrjfGRgZUrlCGZg3qcPOuOwunj6XHoPEIIUhJSeHIzrVcu+XG7KXrAFgwbSwtGtdjp8Mxduw/ioaGOm2aNmCgVVcWr91GYFAIY6YvpGjhAvgFBNFnxBSmjR1CdEwcMxatwdBAnyIFTdm8Yq5CluV3xkA/J1tX2VG1aVcmjxxIH5spBIWEUtA0H3vWL6bn4PEkJ6cQGh7BlpV2VC5fmhNnrzBj0RpMjA3R09Whbo0qTBk9mJK1W1OudAk++vjTqW0z3J+8wD8wmN7d2jNj/DClcu8+eIyN7Tz09HQxMtDn0PbV3HV/zJhpizA01Mfroy/rFs+gfasmWdQyEhn4YUWldHyLQFtgcIio2qSLEEKIKzfuCKvhk4UQnwXa4uLiRTkzc+EXECSEEKLfyCkKgbaClZuIyKhokZCQKMqZmYuY2FiFQNula7eF5ZCJIjY2Tux0OJah3GpNu4o79x6Jzv1GCSGEOHnuirCxnacQaFu+foeYuXitEEIuIlfOzFykpqaKak27ikfPXgkhPgu0hYSGi2pNu4rgkDBx+uI1ERgcIkZNXSB2OhwTgcEh4uS5K+Kjj7+o09pCJCQkipSUFNGu1zDx4PHzvxVoS05OFuXrtxfBIWFCCCHGTF8oHI+d+ZHu+Gl8q0DbW48PSmltLIaID95+ouuAMeLE2StCCCEWr9kqVmzYKYQQ4r2Xt6jbxlLExyeIsvXaKcZA/5FThd3yDSIhIVEUrtpMxMbGiZDQcJGrjJkICgkV8fEJokTNVhmEzCo17Chev/MUQghht3yDmL9yk7hx555o0W2gSElJEb7+gaJa038erxLfxm8r0LbnwEmCQ8Oo2aI7Qgg8PvgotIEAQsIiKFq4AKZ5cwPQorEZnp+0lvPlyaUQuDLNm5vYdFPu5o3q8ujZS9pYDqVi2VIMsOycYXZRo0p5wiIiee/lzcZdB1i9YCpL1srXn955fqRfz04AlChaCEMDfcVjQfnSxZXsmBgbMm3cUPqNmoqKigoH6q1k9qQRzFm6nvXb7Zk2bhg+fgEEh4bRx8YWAK0cOb6q5ZxGZFQMwaHhjLC1A+SPd2myJ38CcXHxfPD2U4iplfvUpp4ffXjj8QHXB48BKFa4ACFh4cpjoIkZHp90tXObGKGjo42Ojjb58piQ28QYgFwmRsQnJKKhIRcyS0xMIkcOTUqXKApAuxaN2LDDgcZmNSlVvAiqqqrkz5cHWfLX9dclsoZfOuKFENgfPsUj5+Pcv3yEB1eOMn3cMKUvXubLY4KPbwDPXr0lOTlZoaD4b1y6dhv9nHrcOLWPB4+fExTy9U/mjBzYG1u7FaioyL++mkatapXYtu8wAG7uT5DJZBjo5/yqDY8PPtx7+JSzjlsoXMCUm3fd2bTrAMMHWHJ8z3rWbNlLiWKFMDLQZ+Oy2ThsXk6xwgUpVqQgamqqyGQyxbqVmqoqSUkyDPT1KFwgH/OmjuHwjjXUqlpJSW3xd8bzow89B0/AxroXmprKyofVK5enSoUyHN6xBrspoylTshh5c5vg6xfI05dvvmsMpCdHDk3U1dW56foAkGuv16pWKVPqI/Hz+KUzJPcnLzCrXU1JPK2/ZScGjplJz05tyJPLGA0NDbavmc+gsTNRUVGhVrVKGOjroaKiQr48uRX35c1tgpqqGgb6eujqaNPYrBbbbY6w7/ApWjWtn0F2Nl/eXKioqNDVvAUrN+7CbsooAEyMjdDU1GCQVTe8vH2p0rgzuUyMsN+0TOk+AB1tLYwM9ClepCAqKio06tiXwgVMaWJWi6KFCzB43CxSU1OZP3UMeXKZsGTWRLoPHEdycgr9enbENG9udLS1mLdyE536juSU/UYG9OpCvba9WLNwGrvWLWLs9EXExSfQsG6N31qgLbeJER2sRqCiokKe3CaMGGCpEEVLU84EGNqvJ1PmraS+uRWamhpsXz1fMQYGj5v1j2PANG8exXG+PLkyzCjtNy1j+KS5BAaF0KZ5Q0ZYW3L/0TOMjQy+akMi65G2jkh8N9LWEYkvkbaOSEhI/HFIAUlCQiLbIAUkCQmJbIMk0CYhIZFpZEuBtvQfu5P480j7+KXUzxJppI2JH0V6yybx3Uhv2SS+RHrLJiEh8cchBSQJCYlsgxSQJCQksg1ZFpC69B+tJE7mHxiMje2877YzftYSVm/e86/5LAZP4OzlG0ppiYlJNOzQh5dvPb6prN0HTjBg1LTv9jE94RFRvHnvpTh3c/+xZ+7syriZi6nerBs1mnejg5UN/oHB33V/+nYZMdmOwODQzHbxuzl7+cZ3Ld7GxMZRtl47fP0D2bLnIOevumTIM3LKfAKCQjLTzd+aLAlI9x4+JSAohPU79ivSkmQyPD7t6v8ehvWzoHuH1v+a763HB1Zt2q2UduDEWdzcn36zLG3b5g0ZP2LAd/uYngePn7Nu++d6Dxw7k9TU1H+44/fkg7cf9puXcfusI5NGWmMxZMJ33W89Zobi2OODD0lJWb8rPzwyiqCQbw+Mero6bFg6m/z58hAYHEpEZEYhOc+P2aNu2YUsCUg79h9l2tghGBrk/Kp87L2HT6nT2oK6bSwZO2MRf23dR2JiEk27DKBL/9GUMzPH8Zh8dnXR+SZPX74hJjYOyyETadSxL9vtj3y1XG0tLaXytuw5RJP6tRXns5eso3KjTjTvaq2YxbTvPYK+NlMYOGYGz1+95cLVmwghsLVbQZPO/Rk/awkAj5+/pknn/jTq2Jfnr98BcOWGK4079aNB+z4cPnWBwOBQpi9czemL1+hrM4U5S9fj7RdAW8th3Ln3iGev3tKy+yDM2vXOEDx/RzQ1NMiRQ5NG9WoS/El9Yc/BE5i1602Tzv257fYQkM886ptb0dZyKMGhYYybuRgf/0Ba9xzCs1dvFfaSkmQMHjcLs3a9sRwykeiYWFJTUxk/awlNOvfH1k7+bTD3Jy9o1LEvjTv14/U7zwx+LVu3gwoNOtDNeixd+o/G2zeAA8fP0tdmCnXbWFK3jSW+/oEAPHv1lhrNu9GwQx+cXe5msNXXZgp+AUGAfNZ/6dptABas2ozzzbssW78jgwzOmi17qdyoE5ZDJiqpWUpkQUCKjonlxp37tGvRiEFW3TJMgWUyGYPGzmTb6vm4OO3j5RsPIqKiEULw7OVbVi+YyvVTe5m9ZB2JiUlEREUTGxfPLTd3curp4Hx8N+88P3617OEDLFj/aXZy0/UBxQoXIF8euSrALsfjfPTx48mNkyyYNhar4XLFSb+AIPr06MDOvxYSF59AWEQkIWHhXHVxxfn4booWyo+PXwBb9hxk4ogB7Fy7EJc79wkODWPq/JUc2bmGi4e2sW67PZFR0SyaMZ72rZqwb+NS7KaMolD+fJw7sIW6NaswYNQ0/lo8g5un7bn74AkXnW/9xJ74+ew5eII1W/bSe9hkOrVtjvuTF+w9eJKrx3bhsHk5o6ctIDYujqXrtrNv41KmjR2K6/3HrFkwjYKmeblwaBsVy5ZS2Ju3ciPly5Tg9lkHupi3YPzMJfgFBHH3wROundhD3twmBASFsHGnIzPHD2fLCjtcPsmPpHHB+SaXb9zhkfMx5tqO5NotN2TJycTExhGfkMDtsw6MG9aP6QtXk5iYRN8RU9i7cSnXTuzho69/hjrWrVGF42cu4x8YzOt3nhw+dR6A42cuYVarGn4BgUr5Lzrf4uK1Wzy4coQ5tiN59Y3LBf8VfrlA28ET54iJjaNL/zHIkpO59/Apy2ZPVFwPCAqlYIF8VC5fGoC+PTsqBNqKFspP0UIFAChc0JSomM/62Y3r1eLQifPUN7eiT/cOXy27ZWMz5ixdR1BIKOt3ODB2aF827zkAyNcshvbrCUC9WlXR0NBQaDU3ra8ssZvbxJhObZtTr20v6tasgmne3Iwe0ocx0xaSnJLC0lkTeOfxkbCISEbazgfkWlBeH33/VnQtPCKKj74BzFkil8ENi4jE8+P3P8JmJ3S1tVFTVeXJi9c4bFnOLsfjhIZF0G/kVADU1NTwDwxh5vjh9B81lZx6umxePvdv7d1/9Bx1NTVc7z8mVaQikyVTwDQvLRrVo05rCxrWrUmeXMaMGdqX8TMXIwSssFOWMnZ/8oIBll3Q0NCgUrnS1K7+eXdBw7o1UFVVxaxWNfYdPoVvQBCFC5pSoUxJAHp1NScgSHktrGv7lvQZYYuGhjpjhvRh94ET3HZ7SJUKZcmRQzNDHdwePlWUX65UcWpUqfB/t++fyC+fIe3Yf5QTe9ezdZUdu/5aiHWvrhw8eV5xPZexIV4ffRULfVeu3/lbW+l/0/nw6Ut6dm6Di9M+9hw88dVnfRUVGNK3BwtXb8HHP5B6taoqrpUoWojzV28C8uf6yKhohTrll7LW3r4B5M+XB9fzB4iKiuHS9dvcdH3A7nWL2LrSjolzllHANC+5TYzZt3Eph3aspr9FZypXKIOKioqS3yoq8noY6OuRJ5cxG5bN4tCO1YwaZEX9OtW/o2WzH907tmb0kD7UrFqBM5euU6xwAUqVKMLB7atw2LIci85tKVooP24Pn3L12C6G9bNg8dq//4JMscIF6GfRiUM7VrNk1kR6d2uPl7cvxYsW4u6Fg/gHBnH99j1uu7njsGUF65bMUDzGpVG0UAEuXZPPPAOCQnie7pEwPUII8uY2xuODt2IsXb/lliGfad7cqKmpsefgSTq0bopZ7WpMXbCKHp3afNVu8SKFFOUHhYTy8o00Q0rPL50hPXz6EiNDfSXhsRHWlgwYPY1mDeWzEG1tLRZMH0vL7gPJZWJMDk1Nihct9K+2SxUvQoc+Nmzc6UiJooXJZWz01Xx9e3SkaI2WrJxnq5Q+dmhfeg+fTONO/YiJiWXzijl/K7BvmjcXZy5d59T5q0TFxFKzSkU0NTRo33sEOjraDLLqRuGCpgzu051mXa3R0FCnWqVyDO4jl+0dP3MxFoMncHD7Kpo1rEvjTv2ZP3U0axZMo4OVDcZGBmjlyMGBrSu/tWmzNTMnyNfh7pxz5PKNOzTvOpCY2FgG9u6Kuro6uU2MaNihLwBLZskXv6tWLEvTLgNYafe5nxbNGE/3gWPZf8QJb98A9m9ZToF8eTnqdJGT564QFR1D1YrlSJLJaGsxFG1tLYYPsFDyxbJLOy5cvUm9tr3Q1tLCxMjwb/3W1dFh1bypNOrQl8IF8wNQplSxDPm6d2jFLsfjFDDNS+e2zdl/xIkWjep+1WbvbuZcv+1GfXMrdLS1MDbS/77G/NP5YVXudPybyL9MJssgxC6EELGxcSI1NVXExyco0uLi4kV0TKxITk5W3JP+etpxUlKSSE5OFkIIkZKSIsLCI79adlxcvNK9qampQgihEOFPIzQsQsnH9Pel90UIIcLCI5XujY9PEFHRMRnKjY6JzZAWGxsnhBAiNTVVyefExCQRERn11TpkF75F5D8hIVHRxkIot2NUdIxSXwohRHRMrFJa+r5M319CCBESGq50LkTGvvhau6cnNCxCyGQyhZ8ymUzIZDIhhLxPEhISFXnj4xMyjMX0pKSkiMTEJKX8X9Y7/TgVQojwiEiRnJycoZ1+V35LkX919a8Xp6OjDYCWVg5Fmra2luJYTU0tw/W04zRRdwBVVVWMDL/+Fye9vfR2vnzOTy9v+jU/0nwBMpSlpZUDLXIopaW//2tpKioqSnY0NTUy6E7/jnzZrunrnFNPN0N+PV0dpfP0fZm+v0D+kYUv+bIvvtbu6Unr57QhmX5sqqioKPmfvvz0/Z/eV01N1a/mT/Mj/TgFMDTQ/1t7/2WkX2pLSEhkG6SAJCEhkW2QBNokJCQyjWwp0Jb+dbrEn8ede48AqZ8lPpM2Jn6UTA9IlcqV4vrJvZltViIbkSbQJvWzRBppAm0/irSGJCEhkW2QApKEhES2QQpIEhIS2YYsC0jTFqzmqour4jwkNJwla7d9t52VG3ex/+jpbyrv3sOnSmmpqakMmzgHL2/fbyrr9MVrzFm6/rt9TE9SkozomFjFeUho+A/Zy66s2rT7m0TVEhISiY2Ly5AuhCAsPFJxPmnO8kz1L42HT19if8Tpp9j+O35WXf4EsiQgvXnvxfEzl1i+YaciLTY+nmu37323rSoVylK2ZMb9RV9y4epNlq7brpR25tJ1djkeVxr4/0SxIgWpWfXHdmffuHOf6QvXKM6bdO7/Rwq0ubg+UAq8f8dhpwv8tc0+Q3pYeCSd+o1UnJ+7ciNDnszALyCIR09f/RTbf8fPqsufQJYJtE0fP4zomLivqkR6fvTBavhkug8cy+bdB3A4egaZTIaN7TwmzF5K655DuHXXHYCgkDDi4xNITU1l1pK/aGs5lCs3XDPYBAgODVeS9Niw05GaVSsqzh2OnqFVj8GMmGynmLmMnrYQu+UbGDN9EXFx8YSERQBy/aQ2FkPZuvcQIN853mvoJHoOGq/YHf7izXssh0ykS//R3H3wmKCQUGYvXcfZy9cZOGYG81duwscvkE59R3H3wWMCgkIYPG4WbS2H4nTBOcjZzHIAABMXSURBVBNaOnvh5v6ELv1HYzF4As9fv+PlWw/WbN6D/WEnJs5ZppR32KQ5vHrrSQcrG6Ki5TIzS//aTsvugziUTh1ip8MxWnYfxNgZi4iJlc+0hk2cw/hZS1i4egtJSTKmLVhN867WrN369beCIaFhDJ0wm/a9R+D+5IUifeXGXTTvas3MxWtJTk5Wusfjgw8T5yzDYvAEzly6jl9AEIPHzaKNxVCOn72syHf+qgvmvYdjNXxyhhmjl7cvQyfM/uoM8T/LD++GS8e/ba4VQr55tJyZuYiNjRPb9h0WMxatEUII4eXtK1r3HCJS/tfencfFnP9xAH9VM+igyJ37yH0t61jX5r5yV8gZirDIEbtqnT/XYhdhf5KbnBURUSRH6b5IKWWq6VRNTdc03/fvj9m+GrH4aRn283w8PB5mvp/je+TTdz7m8/rK5dRruBldvnaL4hNF1HnAONqw04EKC4uoevMe5O3rRwEhEdS65wiSyWS0YacDnXe7QZ53HtDMRbYkycsns3k2FfrtZjSRTl64QivsdxARUcTTGBo5xZJmLrKloLAocve8S4MmzKZkcRodP+dKQyfP5es5HDlDkrx8unrzDtlu3EWZWdnU9ccJVFRUTAtWrqeXSWJaZLuJLly5SQ/8g2nTroMkycunXsPNKPzJM0oQJVOv4WaUlJJKHl73yHr1RiopKSGZTEYd+hnzC3wHTZhNN73v06vsXBo8cQ4FhERU5uWpNB+yuHb8zMUUG5/Iv04Wp1HPYaYUnyiiyOhY6jXcjHJyJXT0rAtt2nWQX9haRpyWQX1Hm/OLVpt3H0KnLl6lmLgE6tjfmF68TKLL126RicUyypdK6eSFKzTD2paIiOq07Usu126TVFpAy9ZtpV0HjlJBQSEtXLWBDp+8oNSPu+ddqtuuLwWHP6GgsCjq+uMESklNp/2Op2nxms1UUFBI2/c60ppNu5XqBYc/ocZdjCjiaQwVFBRS39HmdMndk0TJYuozcir5PAygx8Hh/HW/7fOIxkxbSERE7fuOIXFaBn0/1IQCQyP/v4ugYr7KxbUA4HbDGxzHYf1OB+RLC3D15h2sX/X61lyclgE93RqYMGoIAMDGejYSRSkAAMMWTWHUTxFT0qhhfWTnvo7//K5ze+zYfwQzF62B1SzTt/Y9cdQQ7NjriPzVi3DA6SwWWUzDeTcPAIqPbxtWL0bD+nUx03QcDjid5T9yzDWfpLTYUk+3Ojq1N4TxdGtMNh6Gxgb1Mdl4GFat34muHdti3YqFePLsOdIzs7B9r+JjYl6+FIGhUdDW0oS6urrSYkuhUABJXj7Cop7hxHk3nDjvhnxpAbzu+SndwX3N/IPDkS8tgN3WvQAUWUDPnr+AhoY6NDTUKyy8FgoEUFMDv9C4WtWqMJ80BgDww/fdkJyShpve95GVnQOrFYpQtzv3FXlFdfRrYvyowQCAG16+6NqxHYLD7ZGdK0FmVjbmTZ+s1JfJ2BHo1qkdAGDU0AHwDwqHh5cv1NTUMN/GHjJZKZ6/SMTWdcuV6g3o0wMd27ZGUkoqqutoYeLooQCAtUvn4/rte9DW0oTNwtkwaFAPBg3qYfBfkSQcx8HYfCE6tGnFAtre8NkHpCOnL8FupTUa1K0NAMjJlcDd0wfdOit+IGpU10FSSioKCgqhpaWJpzHx0PprxXT5fKKyYLMyaZlZ2LXRFjV1a8DYfCF6dutcYeW+UCjA1EmjccDpLB4Hh8Nhux0/IOnX0kNkdCz69e6OnFwJsnMkfL/q6sq5SFnZOZgzdQK+69wesxavRZtWzVFYVIxbF48gMDQK85fbY9/WX9C0sQGO/L4ZampquPcoEF07tkVY1DOltsoOSVtLE7Vr6eHADntUq1oVYVHRqPU3WT1fm5q6NdC5fRs4/bEFAOB59wE6tG2FmPjEt5Z/M4vqzddEBD3dGphuMhbmk8agqLgYPn/NQZa/XjX1dLFxzRI0bdQQL5PFeJWdU6Gv2HL78ORZHEYM6oeaejUww2QsfuzbE69ychEV/bxCvbL0T90a1ZGUkgppQQG0tbQQFf0ctWvpQVtLE5FPY2E6bgTkcjnOulzH9MnGkMs5bLNbgV0Hj+K2zyMMGdjnQ07hv8JnHZDiE5OQLy3gf9MBihgG+2374LDDDoAimsJi2kQMM52PNi2bITA0EpOMh7237SpCIWYvXgujfr1Qq6ZehTiLMvOnm6B1rxHYsHqx0g/5Sus5GGYyD2FRzxAS8RT2q6zfGQ2hpakJ++370Lfnd8jIykazJga4++AxTOfZoH7d2ujdvQvatGqOXt91xrQFq1Cvjj7EaRk4d3g3mjUxgO+jQKzZtBvb7GzQrnVLWK34FfNnmGDV4rmYMGsJunZqh8fB4XA74fAxp1fl2G7cBR1tRbTMUsuZqFpFiPk2dlCDGgQCAUYPHQjDFk3xx58nQET4eZkVX7e6jhZyc/OweM1mbFrz01vbX7XIAiOnWOLJs+cICI2E1cyKd8Z7NtlimtVKDB7QB96+fnDau6VCmURRMszm2UBWqojE7d+7BxobNMDEWT9hmFFf+DwMwOa1S995nNV1tLF4rjmGm1qivWELPImJh+f5w4pjnLYAljb2iH3xkv+5FwoFGDygN9q2bg5jc2t4XT76zticf51P/tBXzvvmkDKzsullkrjC+yERT6m4uISePX/Bv/c0Jp7Cop5R1qscShanEcdxFPXsOb89OjaeZDIZJYvT+CAvcVoGPfAP5sPPyouMjuWDsJ7ExPHBWfGJIr68TCaj+35BSvtYvl5OroREyYptuZI8euAfTOmZWUplg8KilPp9GhNPASERSsFesfGJFPE0hogU4XTl9zlRlEKPAkIpX/rucLEv7UPmkGLjEykgJIL/k52juEahkdEUFBalFKYWGR2rdO3LpKZnkn9QGHEcx58vIqIXL5P48LWSkhJ64B9McQkifnv5skSKMLb7fkFK16pMTq6EXiaJKT5RRAEhEUr7JZUWkO+jQP6alyeVFij1WbZfDx+HKAWxcRxH/kFhSsf35rFkZL6q0P7XprLmkCp9tX+ndq0R5PXhD9Njvj5la9nCfFy/9K4wKqJsLdunrvZn39RmGEZlsAGJYRiVUemT2nKOQ0FBYWU3y6gYjl1nphxZaek7n9LzMSp1Dqllj2EQpaTyAebMt0mrWjWkpKWz68zwcnIl6PVdZ/i6V1wG9DEq9Q7p1iUnmFgsZZPa3zj/4AhYLrdjk9oMb+7SdRg9bOAnt8PmkBiGURlsQGIYRmWwAYlhGJXxxQYkpzOXldZ15UryPiho7U3n3W4oBb29y39PnMfzFy8rvL/n0HGkpmd+UF/+QWFwOnP5o/fx3+icqwc27TqIzbsPwenMZVTi/50w37AvMiCJ0zJgt3Uvtv7+X/69HEkeTp7/+KcWSAsKUVhU/N5yh46dw443Atoe+AfDduMupKSmf1BfxSUySKWfll3j8zAAtht38a9/GDXtm/zH6uxyHdV1tNGiaWOERkZjydqKa8gY5k2ffbU/ABx3doXtkrk4etYF6ZlZqFtbX2l7Tq4E+xxPo0Qmw4DePQAARv16wsHpDLS1tBAZHYsl86ajZbPGaNSgHurWUdQ/fckdgaGRsJxpinatW1ToNyTiKTKyXqGOfi0AwD7H0zBs2Yzf7h8UhjOXr6FF00awmmmGatWqYs+h42hYvy6SxWkYMbg/WjRrDECR/HjJ3RNjhw/C4AG9UVhYhO37HMFxhJ+XWaJatarIyHqFA05nUVwig9UsU9TQ0cHBo86IS3iJLXv+RMP6dfH8xUus3vAbZk0ZjxZNGuHgMWckp6Zjltl4dOnQ5h85/5/LmGE/olXzJpg2aTQ69h8LANi53wmrFlsAUNwljx1uhBcvkxCXIEJoZDQM6teFybgRcHA6Ay3NarBdMg/q6uqQ5OXj4FFnpGe9wuwp49GpnSF8/QJRRShEr+5dkJaRhRvevphlNh6/OTjBoEE9ZGS+wtzpk7BtryOEAgHW/DSfjzNhVNNnv0MiIpy55I7pJmMxw3QsTpxzq1DGfOFqaGioo0+PrrBa+SseBYaitFSOtZt/h0wmQ/cuHTBx1hJwHIdHgaGIiUuAr18gnC9fh/mkMbC0sX9r3zNNx+HwyQsAAFFyKkQpqejepT0AICAkAgtXbcS4EYOQmp6FBSsVGTsnz1+BX1AYhv74A+ITRPD1C0JOrgSLbTfBYtokbN/nCFFyKuy27YOebg00bdwQ9tv3oaREBtN5Nmhn2BIDf+iBKfNXQFYqw+ABvWHYshkmjhkKo349oVtdB+aTjdHEoAHm29hDKBDAxHg4rFb8+taPmF8TcVo6EpNScM7VA40N6gMAjjm78NvdPLyQnStBxNNYbPvjMIYb9YXn3YcYNnkufvi+G+JeiLBlz5/gOA5TLFdAKBRg6MA+mGq5ErHxiQgKe4LwJzEAFJEwZSmbx5xdERLxFIMH9sGq9b/BoH5d1K5VE//5/c/PfxKYj/LZ75C87vlBXV0drh5eKC2V45izC1YusuC3p6ZnQlpQyEdRrF1qCXFaBgCgbavmWDhnKgDFb9fsnNcBbU0aNUR6ZhYuX7uNQ7+tf2vf003GYuDYGVi1yAKHjjtjwWwz3PZ5CAA4cf4Kdvy6EoP698ag/r3RzWgi/03k//y8DJqa1figOC1NTejr18Thkxfw8zJLNDaoj+5d2uPQ8XMYN2IQ1tksQPiTZ8jMesVn7aipqeFxcASaN2mE8Ccx/B1c1apV0Lm9IaQFhfDy9UP7Nq3gfd8f9erow83DCyus51Tauf/c7LfvhxrUIEoWw+fK3z9UcobpWBj16wWZrBTXbvtg5OD+aNbEAHZb/0B8YhI01DVgs3A2AECclomLV29Cs1q1d7a3dd1yaGhooEfXjjh98SqMhxvxd2aM6vrsd0iOpy7CeIQRCguLoK2lifp16+Dug8f8dqFAgPx8KR98n5Obx2/T0Hi9u+pqapBzcv51FaEQpw/thFHfnjC3WsXnMJeno62J4YP6wdnVA9c8fWA2buTr+lWEyJEo+pLJZCgqLuZTDAUC5Vyk4pISHNhhj5mmY7F+pwOCwqLQqb0hju/fiqpVqmDeMjsIBALU1q+F0UMHYvTQgVjz0zw+lfBtBBoa0NbSxKghAzB66EAsspiGkUMGfNA5VVWHd2+Et8tR1Kldi8+7Lj9fVn7uryzsTF1d/fXf1dQgl3OoIhQiNy+Pr5sryUMVoRBCgQAlJTIAiqeXlFFTA59l1aNrRzjt3QKO42C9euM/eLRMZfisd0hlsaXOh19P6rYzbAHHUxex5ZdlABTJjb26d8GsxWvRpUMbODidgcW0ie9tO1mchuV22zDXfDKEQgEE7whXs7aYil7Dp8B6zhSl+YSf5k/H6KkLkCJOg8+jQJhPNn7nfENxcQlmWtti0VxzcByHqlWrwM3DG6JkMRobNEB1HW106dAGtWvp4cKVG6hfpzYuunvC/fRB1K2jj4CQCBw5fQlzzSehXh197Dl0HCOHDMCUCaOw3/E0+nzfFUdOX8LZ//72MadXZf2y3Aqbdx/CCYdt6NKhLaxW/Iqaerp4HBzx/soAmjRqgI5tW2Pu0nVoZ9gSpy9ehbfLMaSkpcPEYhlK5aVw9fCG/hsJoQBwzvU68vILUFO3Bqrr6FT2oTGV7ZMTlcqJSxD9bUBbgiiZ/IPClN7jOI4uXLlJ+VIp3br7kIiISktLyfW6Fzm7XKeYuAQKjYwmuVxO7p53+Xo3ve9TYWERhUZGU4IomYiIAkIi6PDJC28N1Lp68w4ftHb15h0+FOu+XxBlvcohIkUgmOOpi+Tt6/fWeqJkMR/AFpcgosMnL1BoZDRf9uLVm3TywhU+sL6kpIQuX7tFJ867UWZWNl/u1t2HdPnaLSJShN87nrpI4rQM4jiObt19SE5nLvPHpIr8gsLfG9Dm7etHkrx8/vU5Vw+Sy+VUVFRMR8+6kNe9R3yZ2PhEPnwvJTWdf7hBriSPvxZyuZyu375HR8+68IF8RIpwv8MnL1BMXALdffCYiIjcPLz47RzH0TlXDzpzyV0pOI2pXBY//UKX3D0/uZ1KXVwbn5jE1rL9C7C1bMybytaylT3o4P9VqXNIAg0NyGSl7y/IMMw3RVZaCqHg02eAKnVAatSwHgqLihGXIKrMZhmGUWHFxSW49yiwUh7ZVakDkrq6OtatWAATi2WIjn1RmU0zDKOCUtMzMdVqJSaOGYoG9ep8cnuVOodU5tTFq9iy+xBKZDIINL7Il8GZf5BMJkOSOA3NmzT60rvCfEEcx6G4pARWs8zwy3Kr91f4AP/IgFTmVXYuSuVsTulbw3EcciVS1NSr/qV3hfmC1NXUUaumLv+9scrwjw5IDMMwH4PlITEMozLYgMQwjMpgAxLDMCqDDUgMw6gMNiAxDKMy2IDEMIzKYAMSwzAqgw1IDMOoDDYgMQyjMtiAxDCMymADEsMwKoMNSAzDqAxBTlbal94HhmEYAICgQCp5fymGYZjPgH1kYxhGZbABiWEYlfE/bngi0aWmqywAAAAASUVORK5CYII=)"
            ],
            "metadata": {
                "azdata_cell_guid": "9a324efc-fce2-4eb8-8353-7d7fa231678f"
            },
            "attachments": {}
        },
        {
            "cell_type": "code",
            "source": [
                "SELECT\r\n",
                "  Artist.name,\r\n",
                "  Album.title\r\n",
                "FROM\r\n",
                "  Artist\r\n",
                "CROSS JOIN Album;\r\n",
                ""
            ],
            "metadata": {
                "azdata_cell_guid": "bd31a940-40b9-49fe-ba61-474038da73d6",
                "language": "sql"
            },
            "outputs": [
                {
                    "output_type": "display_data",
                    "data": {
                        "text/html": "(15 row(s) affected)"
                    },
                    "metadata": {}
                },
                {
                    "output_type": "display_data",
                    "data": {
                        "text/html": "Total execution time: 00:00:01.007"
                    },
                    "metadata": {}
                },
                {
                    "output_type": "execute_result",
                    "metadata": {},
                    "execution_count": 25,
                    "data": {
                        "application/vnd.dataresource+json": {
                            "schema": {
                                "fields": [
                                    {
                                        "name": "name"
                                    },
                                    {
                                        "name": "title"
                                    }
                                ]
                            },
                            "data": [
                                {
                                    "name": "Alanis Morissette",
                                    "title": "For those who rock"
                                },
                                {
                                    "name": "Aerosmith",
                                    "title": "For those who rock"
                                },
                                {
                                    "name": "AC/DC",
                                    "title": "For those who rock"
                                },
                                {
                                    "name": "Alanis Morissette",
                                    "title": "Dream on"
                                },
                                {
                                    "name": "Aerosmith",
                                    "title": "Dream on"
                                },
                                {
                                    "name": "AC/DC",
                                    "title": "Dream on"
                                },
                                {
                                    "name": "Alanis Morissette",
                                    "title": "Restless and wild"
                                },
                                {
                                    "name": "Aerosmith",
                                    "title": "Restless and wild"
                                },
                                {
                                    "name": "AC/DC",
                                    "title": "Restless and wild"
                                },
                                {
                                    "name": "Alanis Morissette",
                                    "title": "Let there be rock"
                                },
                                {
                                    "name": "Aerosmith",
                                    "title": "Let there be rock"
                                },
                                {
                                    "name": "AC/DC",
                                    "title": "Let there be rock"
                                },
                                {
                                    "name": "Alanis Morissette",
                                    "title": "Rumours"
                                },
                                {
                                    "name": "Aerosmith",
                                    "title": "Rumours"
                                },
                                {
                                    "name": "AC/DC",
                                    "title": "Rumours"
                                }
                            ]
                        },
                        "text/html": [
                            "<table>",
                            "<tr><th>name</th><th>title</th></tr>",
                            "<tr><td>Alanis Morissette</td><td>For those who rock</td></tr>",
                            "<tr><td>Aerosmith</td><td>For those who rock</td></tr>",
                            "<tr><td>AC/DC</td><td>For those who rock</td></tr>",
                            "<tr><td>Alanis Morissette</td><td>Dream on</td></tr>",
                            "<tr><td>Aerosmith</td><td>Dream on</td></tr>",
                            "<tr><td>AC/DC</td><td>Dream on</td></tr>",
                            "<tr><td>Alanis Morissette</td><td>Restless and wild</td></tr>",
                            "<tr><td>Aerosmith</td><td>Restless and wild</td></tr>",
                            "<tr><td>AC/DC</td><td>Restless and wild</td></tr>",
                            "<tr><td>Alanis Morissette</td><td>Let there be rock</td></tr>",
                            "<tr><td>Aerosmith</td><td>Let there be rock</td></tr>",
                            "<tr><td>AC/DC</td><td>Let there be rock</td></tr>",
                            "<tr><td>Alanis Morissette</td><td>Rumours</td></tr>",
                            "<tr><td>Aerosmith</td><td>Rumours</td></tr>",
                            "<tr><td>AC/DC</td><td>Rumours</td></tr>",
                            "</table>"
                        ]
                    }
                }
            ],
            "execution_count": 25
        },
        {
            "cell_type": "markdown",
            "source": [
                "UNION operator is used to vertically combine the results of two SELECT statements.\n",
                "\n",
                "![](data:image/png;base64,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)"
            ],
            "metadata": {
                "azdata_cell_guid": "e8c280f9-65c4-406e-a591-073cddd79b92"
            },
            "attachments": {}
        },
        {
            "cell_type": "code",
            "source": [
                "SELECT artist_id FROM artist \r\n",
                "UNION \r\n",
                "SELECT artist_id FROM album;"
            ],
            "metadata": {
                "azdata_cell_guid": "4e07cd5e-5ac4-47e5-9678-cad098884993",
                "language": "sql"
            },
            "outputs": [
                {
                    "output_type": "display_data",
                    "data": {
                        "text/html": "(4 row(s) affected)"
                    },
                    "metadata": {}
                },
                {
                    "output_type": "display_data",
                    "data": {
                        "text/html": "Total execution time: 00:00:01.021"
                    },
                    "metadata": {}
                },
                {
                    "output_type": "execute_result",
                    "metadata": {},
                    "execution_count": 26,
                    "data": {
                        "application/vnd.dataresource+json": {
                            "schema": {
                                "fields": [
                                    {
                                        "name": "artist_id"
                                    }
                                ]
                            },
                            "data": [
                                {
                                    "artist_id": "1"
                                },
                                {
                                    "artist_id": "2"
                                },
                                {
                                    "artist_id": "3"
                                },
                                {
                                    "artist_id": "6"
                                }
                            ]
                        },
                        "text/html": [
                            "<table>",
                            "<tr><th>artist_id</th></tr>",
                            "<tr><td>1</td></tr>",
                            "<tr><td>2</td></tr>",
                            "<tr><td>3</td></tr>",
                            "<tr><td>6</td></tr>",
                            "</table>"
                        ]
                    }
                }
            ],
            "execution_count": 26
        },
        {
            "cell_type": "markdown",
            "source": [
                "UNION ALL ![](data:image/png;base64,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)"
            ],
            "metadata": {
                "azdata_cell_guid": "7de8f123-60f6-4e90-b8fd-8a8df2a76928"
            },
            "attachments": {}
        },
        {
            "cell_type": "code",
            "source": [
                "SELECT artist_id FROM artist \r\n",
                "UNION ALL \r\n",
                "SELECT artist_id FROM album;"
            ],
            "metadata": {
                "azdata_cell_guid": "4ea83cec-d01f-4f4b-a38d-3826a9527d45",
                "language": "sql"
            },
            "outputs": [
                {
                    "output_type": "display_data",
                    "data": {
                        "text/html": "(8 row(s) affected)"
                    },
                    "metadata": {}
                },
                {
                    "output_type": "display_data",
                    "data": {
                        "text/html": "Total execution time: 00:00:01.015"
                    },
                    "metadata": {}
                },
                {
                    "output_type": "execute_result",
                    "metadata": {},
                    "execution_count": 27,
                    "data": {
                        "application/vnd.dataresource+json": {
                            "schema": {
                                "fields": [
                                    {
                                        "name": "artist_id"
                                    }
                                ]
                            },
                            "data": [
                                {
                                    "artist_id": "1"
                                },
                                {
                                    "artist_id": "2"
                                },
                                {
                                    "artist_id": "3"
                                },
                                {
                                    "artist_id": "1"
                                },
                                {
                                    "artist_id": "2"
                                },
                                {
                                    "artist_id": "2"
                                },
                                {
                                    "artist_id": "1"
                                },
                                {
                                    "artist_id": "6"
                                }
                            ]
                        },
                        "text/html": [
                            "<table>",
                            "<tr><th>artist_id</th></tr>",
                            "<tr><td>1</td></tr>",
                            "<tr><td>2</td></tr>",
                            "<tr><td>3</td></tr>",
                            "<tr><td>1</td></tr>",
                            "<tr><td>2</td></tr>",
                            "<tr><td>2</td></tr>",
                            "<tr><td>1</td></tr>",
                            "<tr><td>6</td></tr>",
                            "</table>"
                        ]
                    }
                }
            ],
            "execution_count": 27
        },
        {
            "cell_type": "markdown",
            "source": [
                "INTERSECT  ![](data:image/png;base64,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)"
            ],
            "metadata": {
                "azdata_cell_guid": "a3a0b3aa-218d-4b2b-a9e9-21b70620688a"
            },
            "attachments": {}
        },
        {
            "cell_type": "code",
            "source": [
                "SELECT artist_id FROM artist \r\n",
                "INTERSECT \r\n",
                "SELECT artist_id FROM album;"
            ],
            "metadata": {
                "azdata_cell_guid": "e037bcfc-bee7-43a3-ae69-b61eaa31a809",
                "language": "sql"
            },
            "outputs": [
                {
                    "output_type": "display_data",
                    "data": {
                        "text/html": "(2 row(s) affected)"
                    },
                    "metadata": {}
                },
                {
                    "output_type": "display_data",
                    "data": {
                        "text/html": "Total execution time: 00:00:01.011"
                    },
                    "metadata": {}
                },
                {
                    "output_type": "execute_result",
                    "metadata": {},
                    "execution_count": 29,
                    "data": {
                        "application/vnd.dataresource+json": {
                            "schema": {
                                "fields": [
                                    {
                                        "name": "artist_id"
                                    }
                                ]
                            },
                            "data": [
                                {
                                    "artist_id": "1"
                                },
                                {
                                    "artist_id": "2"
                                }
                            ]
                        },
                        "text/html": [
                            "<table>",
                            "<tr><th>artist_id</th></tr>",
                            "<tr><td>1</td></tr>",
                            "<tr><td>2</td></tr>",
                            "</table>"
                        ]
                    }
                }
            ],
            "execution_count": 29
        },
        {
            "cell_type": "markdown",
            "source": [
                "EXCEPT  ![](data:image/png;base64,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)"
            ],
            "metadata": {
                "azdata_cell_guid": "fff2e61e-4eeb-4265-b75f-b45d2073b32b"
            },
            "attachments": {}
        },
        {
            "cell_type": "code",
            "source": [
                "SELECT artist_id FROM artist \r\n",
                "EXCEPT\r\n",
                "SELECT artist_id FROM album;"
            ],
            "metadata": {
                "azdata_cell_guid": "6e00a024-cd4e-49a6-b6a0-3fd35b51ec42",
                "language": "sql"
            },
            "outputs": [
                {
                    "output_type": "display_data",
                    "data": {
                        "text/html": "(1 row(s) affected)"
                    },
                    "metadata": {}
                },
                {
                    "output_type": "display_data",
                    "data": {
                        "text/html": "Total execution time: 00:00:01.006"
                    },
                    "metadata": {}
                },
                {
                    "output_type": "execute_result",
                    "metadata": {},
                    "execution_count": 30,
                    "data": {
                        "application/vnd.dataresource+json": {
                            "schema": {
                                "fields": [
                                    {
                                        "name": "artist_id"
                                    }
                                ]
                            },
                            "data": [
                                {
                                    "artist_id": "3"
                                }
                            ]
                        },
                        "text/html": [
                            "<table>",
                            "<tr><th>artist_id</th></tr>",
                            "<tr><td>3</td></tr>",
                            "</table>"
                        ]
                    }
                }
            ],
            "execution_count": 30
        },
        {
            "cell_type": "markdown",
            "source": [
                "SEMI JOIN ![](data:image/png;base64,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)"
            ],
            "metadata": {
                "azdata_cell_guid": "5ac7e1e6-ea75-4544-abc0-ba112eb238c9"
            },
            "attachments": {}
        },
        {
            "cell_type": "code",
            "source": [
                "SELECT * FROM album\r\n",
                "WHERE artist_id IN\r\n",
                "(SELECT artist_id FROM artist);"
            ],
            "metadata": {
                "azdata_cell_guid": "8a7ea23f-347a-43d4-825f-4cc0e2c7ec47",
                "language": "sql",
                "tags": []
            },
            "outputs": [
                {
                    "output_type": "display_data",
                    "data": {
                        "text/html": "(4 row(s) affected)"
                    },
                    "metadata": {}
                },
                {
                    "output_type": "display_data",
                    "data": {
                        "text/html": "Total execution time: 00:00:01.002"
                    },
                    "metadata": {}
                },
                {
                    "output_type": "execute_result",
                    "metadata": {},
                    "execution_count": 31,
                    "data": {
                        "application/vnd.dataresource+json": {
                            "schema": {
                                "fields": [
                                    {
                                        "name": "album_id"
                                    },
                                    {
                                        "name": "title"
                                    },
                                    {
                                        "name": "artist_id"
                                    }
                                ]
                            },
                            "data": [
                                {
                                    "album_id": "1",
                                    "title": "For those who rock",
                                    "artist_id": "1"
                                },
                                {
                                    "album_id": "2",
                                    "title": "Dream on",
                                    "artist_id": "2"
                                },
                                {
                                    "album_id": "3",
                                    "title": "Restless and wild",
                                    "artist_id": "2"
                                },
                                {
                                    "album_id": "4",
                                    "title": "Let there be rock",
                                    "artist_id": "1"
                                }
                            ]
                        },
                        "text/html": [
                            "<table>",
                            "<tr><th>album_id</th><th>title</th><th>artist_id</th></tr>",
                            "<tr><td>1</td><td>For those who rock</td><td>1</td></tr>",
                            "<tr><td>2</td><td>Dream on</td><td>2</td></tr>",
                            "<tr><td>3</td><td>Restless and wild</td><td>2</td></tr>",
                            "<tr><td>4</td><td>Let there be rock</td><td>1</td></tr>",
                            "</table>"
                        ]
                    }
                }
            ],
            "execution_count": 31
        },
        {
            "cell_type": "markdown",
            "source": [
                "ANTI JOIN ![](data:image/png;base64,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)"
            ],
            "metadata": {
                "azdata_cell_guid": "d86e9161-c1eb-49f2-aa2c-86ddd31811de"
            },
            "attachments": {}
        },
        {
            "cell_type": "code",
            "source": [
                "SELECT * FROM album\r\n",
                "WHERE artist_id NOT IN\r\n",
                "(SELECT artist_id FROM artist);"
            ],
            "metadata": {
                "azdata_cell_guid": "e5a46fbe-ec1b-4a48-aad7-adb19f9004ff",
                "language": "sql"
            },
            "outputs": [
                {
                    "output_type": "display_data",
                    "data": {
                        "text/html": "(1 row(s) affected)"
                    },
                    "metadata": {}
                },
                {
                    "output_type": "display_data",
                    "data": {
                        "text/html": "Total execution time: 00:00:01.011"
                    },
                    "metadata": {}
                },
                {
                    "output_type": "execute_result",
                    "metadata": {},
                    "execution_count": 32,
                    "data": {
                        "application/vnd.dataresource+json": {
                            "schema": {
                                "fields": [
                                    {
                                        "name": "album_id"
                                    },
                                    {
                                        "name": "title"
                                    },
                                    {
                                        "name": "artist_id"
                                    }
                                ]
                            },
                            "data": [
                                {
                                    "album_id": "5",
                                    "title": "Rumours",
                                    "artist_id": "6"
                                }
                            ]
                        },
                        "text/html": [
                            "<table>",
                            "<tr><th>album_id</th><th>title</th><th>artist_id</th></tr>",
                            "<tr><td>5</td><td>Rumours</td><td>6</td></tr>",
                            "</table>"
                        ]
                    }
                }
            ],
            "execution_count": 32
        }
    ]
}