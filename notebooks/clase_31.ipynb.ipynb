{
    "metadata": {
        "kernelspec": {
            "name": "SQL",
            "display_name": "SQL",
            "language": "sql"
        },
        "language_info": {
            "name": "sql",
            "version": ""
        }
    },
    "nbformat_minor": 2,
    "nbformat": 4,
    "cells": [
        {
            "cell_type": "code",
            "source": [
                "use datos;"
            ],
            "metadata": {
                "azdata_cell_guid": "b69f4eee-f17d-41fa-814b-9b7fda2b68f3",
                "language": "sql"
            },
            "outputs": [
                {
                    "output_type": "display_data",
                    "data": {
                        "text/html": "Commands completed successfully"
                    },
                    "metadata": {}
                },
                {
                    "output_type": "display_data",
                    "data": {
                        "text/html": "Total execution time: 00:00:00.001"
                    },
                    "metadata": {}
                }
            ],
            "execution_count": 1
        },
        {
            "cell_type": "markdown",
            "source": [
                ""
            ],
            "metadata": {
                "azdata_cell_guid": "f6eb071a-91f9-453b-a0c2-998a47135e67"
            }
        },
        {
            "cell_type": "code",
            "source": [
                "SELECT * FROM empleados;"
            ],
            "metadata": {
                "azdata_cell_guid": "4c6df265-8805-4c84-a365-3e72fa6253a6",
                "language": "sql"
            },
            "outputs": [
                {
                    "output_type": "display_data",
                    "data": {
                        "text/html": "(11 row(s) affected)"
                    },
                    "metadata": {}
                },
                {
                    "output_type": "display_data",
                    "data": {
                        "text/html": "Total execution time: 00:00:01.006"
                    },
                    "metadata": {}
                },
                {
                    "output_type": "execute_result",
                    "execution_count": 2,
                    "data": {
                        "application/vnd.dataresource+json": {
                            "schema": {
                                "fields": [
                                    {
                                        "name": "ID_empleado"
                                    },
                                    {
                                        "name": "Nombre"
                                    },
                                    {
                                        "name": "Apellido"
                                    },
                                    {
                                        "name": "Telefono"
                                    },
                                    {
                                        "name": "Edad"
                                    },
                                    {
                                        "name": "Domicilio"
                                    },
                                    {
                                        "name": "ID_Gerente"
                                    }
                                ]
                            },
                            "data": [
                                {
                                    "ID_empleado": "1111222",
                                    "Nombre": "Alberto",
                                    "Apellido": "Barrientos",
                                    "Telefono": "34766613",
                                    "Edad": "26",
                                    "Domicilio": "Federal 233",
                                    "ID_Gerente": "5942572"
                                },
                                {
                                    "ID_empleado": "2310967",
                                    "Nombre": "Jairo",
                                    "Apellido": "Mira",
                                    "Telefono": "36403810",
                                    "Edad": "29",
                                    "Domicilio": "Calle 25 interior 2",
                                    "ID_Gerente": "5942572"
                                },
                                {
                                    "ID_empleado": "2520477",
                                    "Nombre": "Egidio",
                                    "Apellido": "Lopez",
                                    "Telefono": "33444383",
                                    "Edad": "24",
                                    "Domicilio": "Rosas 996",
                                    "ID_Gerente": "5942572"
                                },
                                {
                                    "ID_empleado": "2630867",
                                    "Nombre": "Elena",
                                    "Apellido": "Atehortua",
                                    "Telefono": "35581732",
                                    "Edad": "37",
                                    "Domicilio": "Sierra del tigre 299",
                                    "ID_Gerente": "5942572"
                                },
                                {
                                    "ID_empleado": "3833745",
                                    "Nombre": "Maria",
                                    "Apellido": "Zapata",
                                    "Telefono": "35354455",
                                    "Edad": "34",
                                    "Domicilio": "Boulevard 85",
                                    "ID_Gerente": "5942572"
                                },
                                {
                                    "ID_empleado": "4245367",
                                    "Nombre": "Alexandra",
                                    "Apellido": "Zapata",
                                    "Telefono": "33467136",
                                    "Edad": "31",
                                    "Domicilio": "Ingenieros 234",
                                    "ID_Gerente": "5942572"
                                },
                                {
                                    "ID_empleado": "5942572",
                                    "Nombre": "Jesus",
                                    "Apellido": "Agudelo",
                                    "Telefono": "34616222",
                                    "Edad": "35",
                                    "Domicilio": "NULL",
                                    "ID_Gerente": "NULL"
                                },
                                {
                                    "ID_empleado": "6332756",
                                    "Nombre": "Reinaldo",
                                    "Apellido": "Gonzalez",
                                    "Telefono": "36642727",
                                    "Edad": "43",
                                    "Domicilio": "Vallarta 711",
                                    "ID_Gerente": "5942572"
                                },
                                {
                                    "ID_empleado": "6931035",
                                    "Nombre": "Albeiro",
                                    "Apellido": "Villa",
                                    "Telefono": "33631010",
                                    "Edad": "39",
                                    "Domicilio": "Carniceros 233",
                                    "ID_Gerente": "5942572"
                                },
                                {
                                    "ID_empleado": "9611338",
                                    "Nombre": "Haygnes",
                                    "Apellido": "Ortiz",
                                    "Telefono": "35400189",
                                    "Edad": "27",
                                    "Domicilio": "General Diaz 343",
                                    "ID_Gerente": "5942572"
                                },
                                {
                                    "ID_empleado": "9922377",
                                    "Nombre": "Alexander",
                                    "Apellido": "Martinez",
                                    "Telefono": "36554872",
                                    "Edad": "28",
                                    "Domicilio": "Camino viejo 123",
                                    "ID_Gerente": "5942572"
                                }
                            ]
                        },
                        "text/html": "<table><tr><th>ID_empleado</th><th>Nombre</th><th>Apellido</th><th>Telefono</th><th>Edad</th><th>Domicilio</th><th>ID_Gerente</th></tr><tr><td>1111222</td><td>Alberto</td><td>Barrientos</td><td>34766613</td><td>26</td><td>Federal 233</td><td>5942572</td></tr><tr><td>2310967</td><td>Jairo</td><td>Mira</td><td>36403810</td><td>29</td><td>Calle 25 interior 2</td><td>5942572</td></tr><tr><td>2520477</td><td>Egidio</td><td>Lopez</td><td>33444383</td><td>24</td><td>Rosas 996</td><td>5942572</td></tr><tr><td>2630867</td><td>Elena</td><td>Atehortua</td><td>35581732</td><td>37</td><td>Sierra del tigre 299</td><td>5942572</td></tr><tr><td>3833745</td><td>Maria</td><td>Zapata</td><td>35354455</td><td>34</td><td>Boulevard 85</td><td>5942572</td></tr><tr><td>4245367</td><td>Alexandra</td><td>Zapata</td><td>33467136</td><td>31</td><td>Ingenieros 234</td><td>5942572</td></tr><tr><td>5942572</td><td>Jesus</td><td>Agudelo</td><td>34616222</td><td>35</td><td>NULL</td><td>NULL</td></tr><tr><td>6332756</td><td>Reinaldo</td><td>Gonzalez</td><td>36642727</td><td>43</td><td>Vallarta 711</td><td>5942572</td></tr><tr><td>6931035</td><td>Albeiro</td><td>Villa</td><td>33631010</td><td>39</td><td>Carniceros 233</td><td>5942572</td></tr><tr><td>9611338</td><td>Haygnes</td><td>Ortiz</td><td>35400189</td><td>27</td><td>General Diaz 343</td><td>5942572</td></tr><tr><td>9922377</td><td>Alexander</td><td>Martinez</td><td>36554872</td><td>28</td><td>Camino viejo 123</td><td>5942572</td></tr></table>"
                    },
                    "metadata": {}
                }
            ],
            "execution_count": 2
        },
        {
            "cell_type": "markdown",
            "source": [
                ""
            ],
            "metadata": {
                "language": "sql",
                "azdata_cell_guid": "85a7b585-2265-479f-8937-90c75e4c68e6"
            }
        },
        {
            "cell_type": "code",
            "source": [
                "SELECT * from ventas;"
            ],
            "metadata": {
                "azdata_cell_guid": "1a4f1312-1765-44ba-a327-3e7f9c388c45",
                "language": "sql"
            },
            "outputs": [
                {
                    "output_type": "display_data",
                    "data": {
                        "text/html": "(22 row(s) affected)"
                    },
                    "metadata": {}
                },
                {
                    "output_type": "display_data",
                    "data": {
                        "text/html": "Total execution time: 00:00:01.007"
                    },
                    "metadata": {}
                },
                {
                    "output_type": "execute_result",
                    "execution_count": 3,
                    "data": {
                        "application/vnd.dataresource+json": {
                            "schema": {
                                "fields": [
                                    {
                                        "name": "ventas_id"
                                    },
                                    {
                                        "name": "Fecha"
                                    },
                                    {
                                        "name": "ID_local"
                                    },
                                    {
                                        "name": "clave_producto"
                                    },
                                    {
                                        "name": "venta"
                                    },
                                    {
                                        "name": "venta_empleado"
                                    }
                                ]
                            },
                            "data": [
                                {
                                    "ventas_id": "1",
                                    "Fecha": "2018-11-18 00:00:00",
                                    "ID_local": "2",
                                    "clave_producto": "pzz",
                                    "venta": "1302",
                                    "venta_empleado": "2630867"
                                },
                                {
                                    "ventas_id": "2",
                                    "Fecha": "2018-09-17 00:00:00",
                                    "ID_local": "2",
                                    "clave_producto": "clz",
                                    "venta": "953",
                                    "venta_empleado": "2310967"
                                },
                                {
                                    "ventas_id": "3",
                                    "Fecha": "2018-10-18 00:00:00",
                                    "ID_local": "4",
                                    "clave_producto": "brr",
                                    "venta": "1286",
                                    "venta_empleado": "6931035"
                                },
                                {
                                    "ventas_id": "4",
                                    "Fecha": "2018-10-30 00:00:00",
                                    "ID_local": "1",
                                    "clave_producto": "brr",
                                    "venta": "889",
                                    "venta_empleado": "9922377"
                                },
                                {
                                    "ventas_id": "5",
                                    "Fecha": "2018-05-16 00:00:00",
                                    "ID_local": "1",
                                    "clave_producto": "qsd",
                                    "venta": "495",
                                    "venta_empleado": "2520477"
                                },
                                {
                                    "ventas_id": "6",
                                    "Fecha": "2018-12-15 00:00:00",
                                    "ID_local": "3",
                                    "clave_producto": "pzz",
                                    "venta": "544",
                                    "venta_empleado": "9611338"
                                },
                                {
                                    "ventas_id": "7",
                                    "Fecha": "2018-07-28 00:00:00",
                                    "ID_local": "4",
                                    "clave_producto": "pzz",
                                    "venta": "1444",
                                    "venta_empleado": "6332756"
                                },
                                {
                                    "ventas_id": "8",
                                    "Fecha": "2018-10-05 00:00:00",
                                    "ID_local": "1",
                                    "clave_producto": "pzz",
                                    "venta": "435",
                                    "venta_empleado": "2520477"
                                },
                                {
                                    "ventas_id": "9",
                                    "Fecha": "2018-04-20 00:00:00",
                                    "ID_local": "1",
                                    "clave_producto": "qsd",
                                    "venta": "1203",
                                    "venta_empleado": "9922377"
                                },
                                {
                                    "ventas_id": "10",
                                    "Fecha": "2018-06-08 00:00:00",
                                    "ID_local": "1",
                                    "clave_producto": "brr",
                                    "venta": "1038",
                                    "venta_empleado": "6332756"
                                },
                                {
                                    "ventas_id": "11",
                                    "Fecha": "2018-08-22 00:00:00",
                                    "ID_local": "1",
                                    "clave_producto": "brr",
                                    "venta": "404",
                                    "venta_empleado": "3833745"
                                },
                                {
                                    "ventas_id": "12",
                                    "Fecha": "2019-09-03 00:00:00",
                                    "ID_local": "1",
                                    "clave_producto": "pzz",
                                    "venta": "1362",
                                    "venta_empleado": "5728566"
                                },
                                {
                                    "ventas_id": "13",
                                    "Fecha": "2019-07-16 00:00:00",
                                    "ID_local": "3",
                                    "clave_producto": "qsd",
                                    "venta": "1054",
                                    "venta_empleado": "2310967"
                                },
                                {
                                    "ventas_id": "14",
                                    "Fecha": "2019-08-27 00:00:00",
                                    "ID_local": "3",
                                    "clave_producto": "clz",
                                    "venta": "303",
                                    "venta_empleado": "3833745"
                                },
                                {
                                    "ventas_id": "15",
                                    "Fecha": "2019-12-15 00:00:00",
                                    "ID_local": "1",
                                    "clave_producto": "brr",
                                    "venta": "871",
                                    "venta_empleado": "2520477"
                                },
                                {
                                    "ventas_id": "16",
                                    "Fecha": "2019-07-30 00:00:00",
                                    "ID_local": "3",
                                    "clave_producto": "brr",
                                    "venta": "1062",
                                    "venta_empleado": "5728566"
                                },
                                {
                                    "ventas_id": "17",
                                    "Fecha": "2019-10-25 00:00:00",
                                    "ID_local": "1",
                                    "clave_producto": "pzz",
                                    "venta": "1376",
                                    "venta_empleado": "6332756"
                                },
                                {
                                    "ventas_id": "18",
                                    "Fecha": "2019-12-14 00:00:00",
                                    "ID_local": "3",
                                    "clave_producto": "pzz",
                                    "venta": "957",
                                    "venta_empleado": "2310967"
                                },
                                {
                                    "ventas_id": "19",
                                    "Fecha": "2019-08-14 00:00:00",
                                    "ID_local": "2",
                                    "clave_producto": "clz",
                                    "venta": "972",
                                    "venta_empleado": "2310967"
                                },
                                {
                                    "ventas_id": "20",
                                    "Fecha": "2019-12-01 00:00:00",
                                    "ID_local": "1",
                                    "clave_producto": "pzz",
                                    "venta": "1455",
                                    "venta_empleado": "2310967"
                                },
                                {
                                    "ventas_id": "21",
                                    "Fecha": "2019-06-08 00:00:00",
                                    "ID_local": "4",
                                    "clave_producto": "qsd",
                                    "venta": "497",
                                    "venta_empleado": "5728566"
                                },
                                {
                                    "ventas_id": "22",
                                    "Fecha": "2019-07-25 00:00:00",
                                    "ID_local": "3",
                                    "clave_producto": "clz",
                                    "venta": "1179",
                                    "venta_empleado": "2310967"
                                }
                            ]
                        },
                        "text/html": "<table><tr><th>ventas_id</th><th>Fecha</th><th>ID_local</th><th>clave_producto</th><th>venta</th><th>venta_empleado</th></tr><tr><td>1</td><td>2018-11-18 00:00:00</td><td>2</td><td>pzz</td><td>1302</td><td>2630867</td></tr><tr><td>2</td><td>2018-09-17 00:00:00</td><td>2</td><td>clz</td><td>953</td><td>2310967</td></tr><tr><td>3</td><td>2018-10-18 00:00:00</td><td>4</td><td>brr</td><td>1286</td><td>6931035</td></tr><tr><td>4</td><td>2018-10-30 00:00:00</td><td>1</td><td>brr</td><td>889</td><td>9922377</td></tr><tr><td>5</td><td>2018-05-16 00:00:00</td><td>1</td><td>qsd</td><td>495</td><td>2520477</td></tr><tr><td>6</td><td>2018-12-15 00:00:00</td><td>3</td><td>pzz</td><td>544</td><td>9611338</td></tr><tr><td>7</td><td>2018-07-28 00:00:00</td><td>4</td><td>pzz</td><td>1444</td><td>6332756</td></tr><tr><td>8</td><td>2018-10-05 00:00:00</td><td>1</td><td>pzz</td><td>435</td><td>2520477</td></tr><tr><td>9</td><td>2018-04-20 00:00:00</td><td>1</td><td>qsd</td><td>1203</td><td>9922377</td></tr><tr><td>10</td><td>2018-06-08 00:00:00</td><td>1</td><td>brr</td><td>1038</td><td>6332756</td></tr><tr><td>11</td><td>2018-08-22 00:00:00</td><td>1</td><td>brr</td><td>404</td><td>3833745</td></tr><tr><td>12</td><td>2019-09-03 00:00:00</td><td>1</td><td>pzz</td><td>1362</td><td>5728566</td></tr><tr><td>13</td><td>2019-07-16 00:00:00</td><td>3</td><td>qsd</td><td>1054</td><td>2310967</td></tr><tr><td>14</td><td>2019-08-27 00:00:00</td><td>3</td><td>clz</td><td>303</td><td>3833745</td></tr><tr><td>15</td><td>2019-12-15 00:00:00</td><td>1</td><td>brr</td><td>871</td><td>2520477</td></tr><tr><td>16</td><td>2019-07-30 00:00:00</td><td>3</td><td>brr</td><td>1062</td><td>5728566</td></tr><tr><td>17</td><td>2019-10-25 00:00:00</td><td>1</td><td>pzz</td><td>1376</td><td>6332756</td></tr><tr><td>18</td><td>2019-12-14 00:00:00</td><td>3</td><td>pzz</td><td>957</td><td>2310967</td></tr><tr><td>19</td><td>2019-08-14 00:00:00</td><td>2</td><td>clz</td><td>972</td><td>2310967</td></tr><tr><td>20</td><td>2019-12-01 00:00:00</td><td>1</td><td>pzz</td><td>1455</td><td>2310967</td></tr><tr><td>21</td><td>2019-06-08 00:00:00</td><td>4</td><td>qsd</td><td>497</td><td>5728566</td></tr><tr><td>22</td><td>2019-07-25 00:00:00</td><td>3</td><td>clz</td><td>1179</td><td>2310967</td></tr></table>"
                    },
                    "metadata": {}
                }
            ],
            "execution_count": 3
        },
        {
            "cell_type": "code",
            "source": [
                "SELECT venta FROM ventas;"
            ],
            "metadata": {
                "azdata_cell_guid": "ede18778-5292-4590-877c-e604ea596c0d",
                "language": "sql"
            },
            "outputs": [
                {
                    "output_type": "display_data",
                    "data": {
                        "text/html": "(22 row(s) affected)"
                    },
                    "metadata": {}
                },
                {
                    "output_type": "display_data",
                    "data": {
                        "text/html": "Total execution time: 00:00:01.010"
                    },
                    "metadata": {}
                },
                {
                    "output_type": "execute_result",
                    "execution_count": 4,
                    "data": {
                        "application/vnd.dataresource+json": {
                            "schema": {
                                "fields": [
                                    {
                                        "name": "venta"
                                    }
                                ]
                            },
                            "data": [
                                {
                                    "venta": "303"
                                },
                                {
                                    "venta": "404"
                                },
                                {
                                    "venta": "435"
                                },
                                {
                                    "venta": "495"
                                },
                                {
                                    "venta": "497"
                                },
                                {
                                    "venta": "544"
                                },
                                {
                                    "venta": "871"
                                },
                                {
                                    "venta": "889"
                                },
                                {
                                    "venta": "953"
                                },
                                {
                                    "venta": "957"
                                },
                                {
                                    "venta": "972"
                                },
                                {
                                    "venta": "1038"
                                },
                                {
                                    "venta": "1054"
                                },
                                {
                                    "venta": "1062"
                                },
                                {
                                    "venta": "1179"
                                },
                                {
                                    "venta": "1203"
                                },
                                {
                                    "venta": "1286"
                                },
                                {
                                    "venta": "1302"
                                },
                                {
                                    "venta": "1362"
                                },
                                {
                                    "venta": "1376"
                                },
                                {
                                    "venta": "1444"
                                },
                                {
                                    "venta": "1455"
                                }
                            ]
                        },
                        "text/html": "<table><tr><th>venta</th></tr><tr><td>303</td></tr><tr><td>404</td></tr><tr><td>435</td></tr><tr><td>495</td></tr><tr><td>497</td></tr><tr><td>544</td></tr><tr><td>871</td></tr><tr><td>889</td></tr><tr><td>953</td></tr><tr><td>957</td></tr><tr><td>972</td></tr><tr><td>1038</td></tr><tr><td>1054</td></tr><tr><td>1062</td></tr><tr><td>1179</td></tr><tr><td>1203</td></tr><tr><td>1286</td></tr><tr><td>1302</td></tr><tr><td>1362</td></tr><tr><td>1376</td></tr><tr><td>1444</td></tr><tr><td>1455</td></tr></table>"
                    },
                    "metadata": {}
                }
            ],
            "execution_count": 4
        },
        {
            "cell_type": "code",
            "source": [
                "SELECT venta, fecha FROM ventas;"
            ],
            "metadata": {
                "azdata_cell_guid": "a8a7cc5b-521a-4e4b-a5dd-8d2ea61994b3",
                "language": "sql"
            },
            "outputs": [
                {
                    "output_type": "display_data",
                    "data": {
                        "text/html": "(22 row(s) affected)"
                    },
                    "metadata": {}
                },
                {
                    "output_type": "display_data",
                    "data": {
                        "text/html": "Total execution time: 00:00:01.007"
                    },
                    "metadata": {}
                },
                {
                    "output_type": "execute_result",
                    "execution_count": 5,
                    "data": {
                        "application/vnd.dataresource+json": {
                            "schema": {
                                "fields": [
                                    {
                                        "name": "venta"
                                    },
                                    {
                                        "name": "fecha"
                                    }
                                ]
                            },
                            "data": [
                                {
                                    "venta": "1302",
                                    "fecha": "2018-11-18 00:00:00"
                                },
                                {
                                    "venta": "953",
                                    "fecha": "2018-09-17 00:00:00"
                                },
                                {
                                    "venta": "1286",
                                    "fecha": "2018-10-18 00:00:00"
                                },
                                {
                                    "venta": "889",
                                    "fecha": "2018-10-30 00:00:00"
                                },
                                {
                                    "venta": "495",
                                    "fecha": "2018-05-16 00:00:00"
                                },
                                {
                                    "venta": "544",
                                    "fecha": "2018-12-15 00:00:00"
                                },
                                {
                                    "venta": "1444",
                                    "fecha": "2018-07-28 00:00:00"
                                },
                                {
                                    "venta": "435",
                                    "fecha": "2018-10-05 00:00:00"
                                },
                                {
                                    "venta": "1203",
                                    "fecha": "2018-04-20 00:00:00"
                                },
                                {
                                    "venta": "1038",
                                    "fecha": "2018-06-08 00:00:00"
                                },
                                {
                                    "venta": "404",
                                    "fecha": "2018-08-22 00:00:00"
                                },
                                {
                                    "venta": "1362",
                                    "fecha": "2019-09-03 00:00:00"
                                },
                                {
                                    "venta": "1054",
                                    "fecha": "2019-07-16 00:00:00"
                                },
                                {
                                    "venta": "303",
                                    "fecha": "2019-08-27 00:00:00"
                                },
                                {
                                    "venta": "871",
                                    "fecha": "2019-12-15 00:00:00"
                                },
                                {
                                    "venta": "1062",
                                    "fecha": "2019-07-30 00:00:00"
                                },
                                {
                                    "venta": "1376",
                                    "fecha": "2019-10-25 00:00:00"
                                },
                                {
                                    "venta": "957",
                                    "fecha": "2019-12-14 00:00:00"
                                },
                                {
                                    "venta": "972",
                                    "fecha": "2019-08-14 00:00:00"
                                },
                                {
                                    "venta": "1455",
                                    "fecha": "2019-12-01 00:00:00"
                                },
                                {
                                    "venta": "497",
                                    "fecha": "2019-06-08 00:00:00"
                                },
                                {
                                    "venta": "1179",
                                    "fecha": "2019-07-25 00:00:00"
                                }
                            ]
                        },
                        "text/html": "<table><tr><th>venta</th><th>fecha</th></tr><tr><td>1302</td><td>2018-11-18 00:00:00</td></tr><tr><td>953</td><td>2018-09-17 00:00:00</td></tr><tr><td>1286</td><td>2018-10-18 00:00:00</td></tr><tr><td>889</td><td>2018-10-30 00:00:00</td></tr><tr><td>495</td><td>2018-05-16 00:00:00</td></tr><tr><td>544</td><td>2018-12-15 00:00:00</td></tr><tr><td>1444</td><td>2018-07-28 00:00:00</td></tr><tr><td>435</td><td>2018-10-05 00:00:00</td></tr><tr><td>1203</td><td>2018-04-20 00:00:00</td></tr><tr><td>1038</td><td>2018-06-08 00:00:00</td></tr><tr><td>404</td><td>2018-08-22 00:00:00</td></tr><tr><td>1362</td><td>2019-09-03 00:00:00</td></tr><tr><td>1054</td><td>2019-07-16 00:00:00</td></tr><tr><td>303</td><td>2019-08-27 00:00:00</td></tr><tr><td>871</td><td>2019-12-15 00:00:00</td></tr><tr><td>1062</td><td>2019-07-30 00:00:00</td></tr><tr><td>1376</td><td>2019-10-25 00:00:00</td></tr><tr><td>957</td><td>2019-12-14 00:00:00</td></tr><tr><td>972</td><td>2019-08-14 00:00:00</td></tr><tr><td>1455</td><td>2019-12-01 00:00:00</td></tr><tr><td>497</td><td>2019-06-08 00:00:00</td></tr><tr><td>1179</td><td>2019-07-25 00:00:00</td></tr></table>"
                    },
                    "metadata": {}
                }
            ],
            "execution_count": 5
        },
        {
            "cell_type": "code",
            "source": [
                "SELECT venta, fecha, venta*0.16 FROM ventas;"
            ],
            "metadata": {
                "azdata_cell_guid": "d9bce412-027d-4ba0-bd14-21217842dc8d",
                "language": "sql"
            },
            "outputs": [
                {
                    "output_type": "display_data",
                    "data": {
                        "text/html": "(22 row(s) affected)"
                    },
                    "metadata": {}
                },
                {
                    "output_type": "display_data",
                    "data": {
                        "text/html": "Total execution time: 00:00:01.005"
                    },
                    "metadata": {}
                },
                {
                    "output_type": "execute_result",
                    "execution_count": 6,
                    "data": {
                        "application/vnd.dataresource+json": {
                            "schema": {
                                "fields": [
                                    {
                                        "name": "venta"
                                    },
                                    {
                                        "name": "fecha"
                                    },
                                    {
                                        "name": "venta*0.16"
                                    }
                                ]
                            },
                            "data": [
                                {
                                    "venta": "1302",
                                    "fecha": "2018-11-18 00:00:00",
                                    "venta*0.16": "208.32"
                                },
                                {
                                    "venta": "953",
                                    "fecha": "2018-09-17 00:00:00",
                                    "venta*0.16": "152.48"
                                },
                                {
                                    "venta": "1286",
                                    "fecha": "2018-10-18 00:00:00",
                                    "venta*0.16": "205.76"
                                },
                                {
                                    "venta": "889",
                                    "fecha": "2018-10-30 00:00:00",
                                    "venta*0.16": "142.24"
                                },
                                {
                                    "venta": "495",
                                    "fecha": "2018-05-16 00:00:00",
                                    "venta*0.16": "79.20"
                                },
                                {
                                    "venta": "544",
                                    "fecha": "2018-12-15 00:00:00",
                                    "venta*0.16": "87.04"
                                },
                                {
                                    "venta": "1444",
                                    "fecha": "2018-07-28 00:00:00",
                                    "venta*0.16": "231.04"
                                },
                                {
                                    "venta": "435",
                                    "fecha": "2018-10-05 00:00:00",
                                    "venta*0.16": "69.60"
                                },
                                {
                                    "venta": "1203",
                                    "fecha": "2018-04-20 00:00:00",
                                    "venta*0.16": "192.48"
                                },
                                {
                                    "venta": "1038",
                                    "fecha": "2018-06-08 00:00:00",
                                    "venta*0.16": "166.08"
                                },
                                {
                                    "venta": "404",
                                    "fecha": "2018-08-22 00:00:00",
                                    "venta*0.16": "64.64"
                                },
                                {
                                    "venta": "1362",
                                    "fecha": "2019-09-03 00:00:00",
                                    "venta*0.16": "217.92"
                                },
                                {
                                    "venta": "1054",
                                    "fecha": "2019-07-16 00:00:00",
                                    "venta*0.16": "168.64"
                                },
                                {
                                    "venta": "303",
                                    "fecha": "2019-08-27 00:00:00",
                                    "venta*0.16": "48.48"
                                },
                                {
                                    "venta": "871",
                                    "fecha": "2019-12-15 00:00:00",
                                    "venta*0.16": "139.36"
                                },
                                {
                                    "venta": "1062",
                                    "fecha": "2019-07-30 00:00:00",
                                    "venta*0.16": "169.92"
                                },
                                {
                                    "venta": "1376",
                                    "fecha": "2019-10-25 00:00:00",
                                    "venta*0.16": "220.16"
                                },
                                {
                                    "venta": "957",
                                    "fecha": "2019-12-14 00:00:00",
                                    "venta*0.16": "153.12"
                                },
                                {
                                    "venta": "972",
                                    "fecha": "2019-08-14 00:00:00",
                                    "venta*0.16": "155.52"
                                },
                                {
                                    "venta": "1455",
                                    "fecha": "2019-12-01 00:00:00",
                                    "venta*0.16": "232.80"
                                },
                                {
                                    "venta": "497",
                                    "fecha": "2019-06-08 00:00:00",
                                    "venta*0.16": "79.52"
                                },
                                {
                                    "venta": "1179",
                                    "fecha": "2019-07-25 00:00:00",
                                    "venta*0.16": "188.64"
                                }
                            ]
                        },
                        "text/html": "<table><tr><th>venta</th><th>fecha</th><th>venta*0.16</th></tr><tr><td>1302</td><td>2018-11-18 00:00:00</td><td>208.32</td></tr><tr><td>953</td><td>2018-09-17 00:00:00</td><td>152.48</td></tr><tr><td>1286</td><td>2018-10-18 00:00:00</td><td>205.76</td></tr><tr><td>889</td><td>2018-10-30 00:00:00</td><td>142.24</td></tr><tr><td>495</td><td>2018-05-16 00:00:00</td><td>79.20</td></tr><tr><td>544</td><td>2018-12-15 00:00:00</td><td>87.04</td></tr><tr><td>1444</td><td>2018-07-28 00:00:00</td><td>231.04</td></tr><tr><td>435</td><td>2018-10-05 00:00:00</td><td>69.60</td></tr><tr><td>1203</td><td>2018-04-20 00:00:00</td><td>192.48</td></tr><tr><td>1038</td><td>2018-06-08 00:00:00</td><td>166.08</td></tr><tr><td>404</td><td>2018-08-22 00:00:00</td><td>64.64</td></tr><tr><td>1362</td><td>2019-09-03 00:00:00</td><td>217.92</td></tr><tr><td>1054</td><td>2019-07-16 00:00:00</td><td>168.64</td></tr><tr><td>303</td><td>2019-08-27 00:00:00</td><td>48.48</td></tr><tr><td>871</td><td>2019-12-15 00:00:00</td><td>139.36</td></tr><tr><td>1062</td><td>2019-07-30 00:00:00</td><td>169.92</td></tr><tr><td>1376</td><td>2019-10-25 00:00:00</td><td>220.16</td></tr><tr><td>957</td><td>2019-12-14 00:00:00</td><td>153.12</td></tr><tr><td>972</td><td>2019-08-14 00:00:00</td><td>155.52</td></tr><tr><td>1455</td><td>2019-12-01 00:00:00</td><td>232.80</td></tr><tr><td>497</td><td>2019-06-08 00:00:00</td><td>79.52</td></tr><tr><td>1179</td><td>2019-07-25 00:00:00</td><td>188.64</td></tr></table>"
                    },
                    "metadata": {}
                }
            ],
            "execution_count": 6
        },
        {
            "cell_type": "code",
            "source": [
                "SELECT venta, fecha, venta*0.16 AS IVA FROM ventas;"
            ],
            "metadata": {
                "azdata_cell_guid": "8817d2fa-f726-4cad-a008-541853aafab6",
                "language": "sql"
            },
            "outputs": [
                {
                    "output_type": "display_data",
                    "data": {
                        "text/html": "(22 row(s) affected)"
                    },
                    "metadata": {}
                },
                {
                    "output_type": "display_data",
                    "data": {
                        "text/html": "Total execution time: 00:00:01.008"
                    },
                    "metadata": {}
                },
                {
                    "output_type": "execute_result",
                    "execution_count": 7,
                    "data": {
                        "application/vnd.dataresource+json": {
                            "schema": {
                                "fields": [
                                    {
                                        "name": "venta"
                                    },
                                    {
                                        "name": "fecha"
                                    },
                                    {
                                        "name": "IVA"
                                    }
                                ]
                            },
                            "data": [
                                {
                                    "venta": "1302",
                                    "fecha": "2018-11-18 00:00:00",
                                    "IVA": "208.32"
                                },
                                {
                                    "venta": "953",
                                    "fecha": "2018-09-17 00:00:00",
                                    "IVA": "152.48"
                                },
                                {
                                    "venta": "1286",
                                    "fecha": "2018-10-18 00:00:00",
                                    "IVA": "205.76"
                                },
                                {
                                    "venta": "889",
                                    "fecha": "2018-10-30 00:00:00",
                                    "IVA": "142.24"
                                },
                                {
                                    "venta": "495",
                                    "fecha": "2018-05-16 00:00:00",
                                    "IVA": "79.20"
                                },
                                {
                                    "venta": "544",
                                    "fecha": "2018-12-15 00:00:00",
                                    "IVA": "87.04"
                                },
                                {
                                    "venta": "1444",
                                    "fecha": "2018-07-28 00:00:00",
                                    "IVA": "231.04"
                                },
                                {
                                    "venta": "435",
                                    "fecha": "2018-10-05 00:00:00",
                                    "IVA": "69.60"
                                },
                                {
                                    "venta": "1203",
                                    "fecha": "2018-04-20 00:00:00",
                                    "IVA": "192.48"
                                },
                                {
                                    "venta": "1038",
                                    "fecha": "2018-06-08 00:00:00",
                                    "IVA": "166.08"
                                },
                                {
                                    "venta": "404",
                                    "fecha": "2018-08-22 00:00:00",
                                    "IVA": "64.64"
                                },
                                {
                                    "venta": "1362",
                                    "fecha": "2019-09-03 00:00:00",
                                    "IVA": "217.92"
                                },
                                {
                                    "venta": "1054",
                                    "fecha": "2019-07-16 00:00:00",
                                    "IVA": "168.64"
                                },
                                {
                                    "venta": "303",
                                    "fecha": "2019-08-27 00:00:00",
                                    "IVA": "48.48"
                                },
                                {
                                    "venta": "871",
                                    "fecha": "2019-12-15 00:00:00",
                                    "IVA": "139.36"
                                },
                                {
                                    "venta": "1062",
                                    "fecha": "2019-07-30 00:00:00",
                                    "IVA": "169.92"
                                },
                                {
                                    "venta": "1376",
                                    "fecha": "2019-10-25 00:00:00",
                                    "IVA": "220.16"
                                },
                                {
                                    "venta": "957",
                                    "fecha": "2019-12-14 00:00:00",
                                    "IVA": "153.12"
                                },
                                {
                                    "venta": "972",
                                    "fecha": "2019-08-14 00:00:00",
                                    "IVA": "155.52"
                                },
                                {
                                    "venta": "1455",
                                    "fecha": "2019-12-01 00:00:00",
                                    "IVA": "232.80"
                                },
                                {
                                    "venta": "497",
                                    "fecha": "2019-06-08 00:00:00",
                                    "IVA": "79.52"
                                },
                                {
                                    "venta": "1179",
                                    "fecha": "2019-07-25 00:00:00",
                                    "IVA": "188.64"
                                }
                            ]
                        },
                        "text/html": "<table><tr><th>venta</th><th>fecha</th><th>IVA</th></tr><tr><td>1302</td><td>2018-11-18 00:00:00</td><td>208.32</td></tr><tr><td>953</td><td>2018-09-17 00:00:00</td><td>152.48</td></tr><tr><td>1286</td><td>2018-10-18 00:00:00</td><td>205.76</td></tr><tr><td>889</td><td>2018-10-30 00:00:00</td><td>142.24</td></tr><tr><td>495</td><td>2018-05-16 00:00:00</td><td>79.20</td></tr><tr><td>544</td><td>2018-12-15 00:00:00</td><td>87.04</td></tr><tr><td>1444</td><td>2018-07-28 00:00:00</td><td>231.04</td></tr><tr><td>435</td><td>2018-10-05 00:00:00</td><td>69.60</td></tr><tr><td>1203</td><td>2018-04-20 00:00:00</td><td>192.48</td></tr><tr><td>1038</td><td>2018-06-08 00:00:00</td><td>166.08</td></tr><tr><td>404</td><td>2018-08-22 00:00:00</td><td>64.64</td></tr><tr><td>1362</td><td>2019-09-03 00:00:00</td><td>217.92</td></tr><tr><td>1054</td><td>2019-07-16 00:00:00</td><td>168.64</td></tr><tr><td>303</td><td>2019-08-27 00:00:00</td><td>48.48</td></tr><tr><td>871</td><td>2019-12-15 00:00:00</td><td>139.36</td></tr><tr><td>1062</td><td>2019-07-30 00:00:00</td><td>169.92</td></tr><tr><td>1376</td><td>2019-10-25 00:00:00</td><td>220.16</td></tr><tr><td>957</td><td>2019-12-14 00:00:00</td><td>153.12</td></tr><tr><td>972</td><td>2019-08-14 00:00:00</td><td>155.52</td></tr><tr><td>1455</td><td>2019-12-01 00:00:00</td><td>232.80</td></tr><tr><td>497</td><td>2019-06-08 00:00:00</td><td>79.52</td></tr><tr><td>1179</td><td>2019-07-25 00:00:00</td><td>188.64</td></tr></table>"
                    },
                    "metadata": {}
                }
            ],
            "execution_count": 7
        },
        {
            "cell_type": "code",
            "source": [
                "SELECT venta, fecha, venta*0.16 AS IVA_cobrado FROM ventas;"
            ],
            "metadata": {
                "azdata_cell_guid": "c8d8011a-4ea0-4038-98e6-00b75c313dbd",
                "language": "sql"
            },
            "outputs": [
                {
                    "output_type": "display_data",
                    "data": {
                        "text/html": "(22 row(s) affected)"
                    },
                    "metadata": {}
                },
                {
                    "output_type": "display_data",
                    "data": {
                        "text/html": "Total execution time: 00:00:01.014"
                    },
                    "metadata": {}
                },
                {
                    "output_type": "execute_result",
                    "execution_count": 8,
                    "data": {
                        "application/vnd.dataresource+json": {
                            "schema": {
                                "fields": [
                                    {
                                        "name": "venta"
                                    },
                                    {
                                        "name": "fecha"
                                    },
                                    {
                                        "name": "IVA_cobrado"
                                    }
                                ]
                            },
                            "data": [
                                {
                                    "venta": "1302",
                                    "fecha": "2018-11-18 00:00:00",
                                    "IVA_cobrado": "208.32"
                                },
                                {
                                    "venta": "953",
                                    "fecha": "2018-09-17 00:00:00",
                                    "IVA_cobrado": "152.48"
                                },
                                {
                                    "venta": "1286",
                                    "fecha": "2018-10-18 00:00:00",
                                    "IVA_cobrado": "205.76"
                                },
                                {
                                    "venta": "889",
                                    "fecha": "2018-10-30 00:00:00",
                                    "IVA_cobrado": "142.24"
                                },
                                {
                                    "venta": "495",
                                    "fecha": "2018-05-16 00:00:00",
                                    "IVA_cobrado": "79.20"
                                },
                                {
                                    "venta": "544",
                                    "fecha": "2018-12-15 00:00:00",
                                    "IVA_cobrado": "87.04"
                                },
                                {
                                    "venta": "1444",
                                    "fecha": "2018-07-28 00:00:00",
                                    "IVA_cobrado": "231.04"
                                },
                                {
                                    "venta": "435",
                                    "fecha": "2018-10-05 00:00:00",
                                    "IVA_cobrado": "69.60"
                                },
                                {
                                    "venta": "1203",
                                    "fecha": "2018-04-20 00:00:00",
                                    "IVA_cobrado": "192.48"
                                },
                                {
                                    "venta": "1038",
                                    "fecha": "2018-06-08 00:00:00",
                                    "IVA_cobrado": "166.08"
                                },
                                {
                                    "venta": "404",
                                    "fecha": "2018-08-22 00:00:00",
                                    "IVA_cobrado": "64.64"
                                },
                                {
                                    "venta": "1362",
                                    "fecha": "2019-09-03 00:00:00",
                                    "IVA_cobrado": "217.92"
                                },
                                {
                                    "venta": "1054",
                                    "fecha": "2019-07-16 00:00:00",
                                    "IVA_cobrado": "168.64"
                                },
                                {
                                    "venta": "303",
                                    "fecha": "2019-08-27 00:00:00",
                                    "IVA_cobrado": "48.48"
                                },
                                {
                                    "venta": "871",
                                    "fecha": "2019-12-15 00:00:00",
                                    "IVA_cobrado": "139.36"
                                },
                                {
                                    "venta": "1062",
                                    "fecha": "2019-07-30 00:00:00",
                                    "IVA_cobrado": "169.92"
                                },
                                {
                                    "venta": "1376",
                                    "fecha": "2019-10-25 00:00:00",
                                    "IVA_cobrado": "220.16"
                                },
                                {
                                    "venta": "957",
                                    "fecha": "2019-12-14 00:00:00",
                                    "IVA_cobrado": "153.12"
                                },
                                {
                                    "venta": "972",
                                    "fecha": "2019-08-14 00:00:00",
                                    "IVA_cobrado": "155.52"
                                },
                                {
                                    "venta": "1455",
                                    "fecha": "2019-12-01 00:00:00",
                                    "IVA_cobrado": "232.80"
                                },
                                {
                                    "venta": "497",
                                    "fecha": "2019-06-08 00:00:00",
                                    "IVA_cobrado": "79.52"
                                },
                                {
                                    "venta": "1179",
                                    "fecha": "2019-07-25 00:00:00",
                                    "IVA_cobrado": "188.64"
                                }
                            ]
                        },
                        "text/html": "<table><tr><th>venta</th><th>fecha</th><th>IVA_cobrado</th></tr><tr><td>1302</td><td>2018-11-18 00:00:00</td><td>208.32</td></tr><tr><td>953</td><td>2018-09-17 00:00:00</td><td>152.48</td></tr><tr><td>1286</td><td>2018-10-18 00:00:00</td><td>205.76</td></tr><tr><td>889</td><td>2018-10-30 00:00:00</td><td>142.24</td></tr><tr><td>495</td><td>2018-05-16 00:00:00</td><td>79.20</td></tr><tr><td>544</td><td>2018-12-15 00:00:00</td><td>87.04</td></tr><tr><td>1444</td><td>2018-07-28 00:00:00</td><td>231.04</td></tr><tr><td>435</td><td>2018-10-05 00:00:00</td><td>69.60</td></tr><tr><td>1203</td><td>2018-04-20 00:00:00</td><td>192.48</td></tr><tr><td>1038</td><td>2018-06-08 00:00:00</td><td>166.08</td></tr><tr><td>404</td><td>2018-08-22 00:00:00</td><td>64.64</td></tr><tr><td>1362</td><td>2019-09-03 00:00:00</td><td>217.92</td></tr><tr><td>1054</td><td>2019-07-16 00:00:00</td><td>168.64</td></tr><tr><td>303</td><td>2019-08-27 00:00:00</td><td>48.48</td></tr><tr><td>871</td><td>2019-12-15 00:00:00</td><td>139.36</td></tr><tr><td>1062</td><td>2019-07-30 00:00:00</td><td>169.92</td></tr><tr><td>1376</td><td>2019-10-25 00:00:00</td><td>220.16</td></tr><tr><td>957</td><td>2019-12-14 00:00:00</td><td>153.12</td></tr><tr><td>972</td><td>2019-08-14 00:00:00</td><td>155.52</td></tr><tr><td>1455</td><td>2019-12-01 00:00:00</td><td>232.80</td></tr><tr><td>497</td><td>2019-06-08 00:00:00</td><td>79.52</td></tr><tr><td>1179</td><td>2019-07-25 00:00:00</td><td>188.64</td></tr></table>"
                    },
                    "metadata": {}
                }
            ],
            "execution_count": 8
        },
        {
            "cell_type": "code",
            "source": [
                "SELECT fecha, venta FROM ventas WHERE ID_local = 2;"
            ],
            "metadata": {
                "azdata_cell_guid": "07a325ff-8c99-428b-9534-c41ba2441b8c",
                "language": "sql"
            },
            "outputs": [
                {
                    "output_type": "display_data",
                    "data": {
                        "text/html": "(3 row(s) affected)"
                    },
                    "metadata": {}
                },
                {
                    "output_type": "display_data",
                    "data": {
                        "text/html": "Total execution time: 00:00:01.012"
                    },
                    "metadata": {}
                },
                {
                    "output_type": "execute_result",
                    "execution_count": 9,
                    "data": {
                        "application/vnd.dataresource+json": {
                            "schema": {
                                "fields": [
                                    {
                                        "name": "fecha"
                                    },
                                    {
                                        "name": "venta"
                                    }
                                ]
                            },
                            "data": [
                                {
                                    "fecha": "2018-11-18 00:00:00",
                                    "venta": "1302"
                                },
                                {
                                    "fecha": "2018-09-17 00:00:00",
                                    "venta": "953"
                                },
                                {
                                    "fecha": "2019-08-14 00:00:00",
                                    "venta": "972"
                                }
                            ]
                        },
                        "text/html": "<table><tr><th>fecha</th><th>venta</th></tr><tr><td>2018-11-18 00:00:00</td><td>1302</td></tr><tr><td>2018-09-17 00:00:00</td><td>953</td></tr><tr><td>2019-08-14 00:00:00</td><td>972</td></tr></table>"
                    },
                    "metadata": {}
                }
            ],
            "execution_count": 9
        },
        {
            "cell_type": "code",
            "source": [
                "SELECT fecha, venta FROM ventas WHERE ID_local = 2;"
            ],
            "metadata": {
                "azdata_cell_guid": "f8bc3702-2369-4b00-b1ed-230aee2395bc",
                "language": "sql"
            },
            "outputs": [
                {
                    "output_type": "display_data",
                    "data": {
                        "text/html": "(3 row(s) affected)"
                    },
                    "metadata": {}
                },
                {
                    "output_type": "display_data",
                    "data": {
                        "text/html": "Total execution time: 00:00:01.012"
                    },
                    "metadata": {}
                },
                {
                    "output_type": "execute_result",
                    "execution_count": 10,
                    "data": {
                        "application/vnd.dataresource+json": {
                            "schema": {
                                "fields": [
                                    {
                                        "name": "fecha"
                                    },
                                    {
                                        "name": "venta"
                                    }
                                ]
                            },
                            "data": [
                                {
                                    "fecha": "2018-11-18 00:00:00",
                                    "venta": "1302"
                                },
                                {
                                    "fecha": "2018-09-17 00:00:00",
                                    "venta": "953"
                                },
                                {
                                    "fecha": "2019-08-14 00:00:00",
                                    "venta": "972"
                                }
                            ]
                        },
                        "text/html": "<table><tr><th>fecha</th><th>venta</th></tr><tr><td>2018-11-18 00:00:00</td><td>1302</td></tr><tr><td>2018-09-17 00:00:00</td><td>953</td></tr><tr><td>2019-08-14 00:00:00</td><td>972</td></tr></table>"
                    },
                    "metadata": {}
                }
            ],
            "execution_count": 10
        },
        {
            "cell_type": "code",
            "source": [
                "SELECT * FROM ventas WHERE venta < 1000;"
            ],
            "metadata": {
                "azdata_cell_guid": "f86fcf64-a6fc-4042-af86-e8666bdfbd46",
                "language": "sql"
            },
            "outputs": [
                {
                    "output_type": "display_data",
                    "data": {
                        "text/html": "(11 row(s) affected)"
                    },
                    "metadata": {}
                },
                {
                    "output_type": "display_data",
                    "data": {
                        "text/html": "Total execution time: 00:00:01.004"
                    },
                    "metadata": {}
                },
                {
                    "output_type": "execute_result",
                    "execution_count": 11,
                    "data": {
                        "application/vnd.dataresource+json": {
                            "schema": {
                                "fields": [
                                    {
                                        "name": "ventas_id"
                                    },
                                    {
                                        "name": "Fecha"
                                    },
                                    {
                                        "name": "ID_local"
                                    },
                                    {
                                        "name": "clave_producto"
                                    },
                                    {
                                        "name": "venta"
                                    },
                                    {
                                        "name": "venta_empleado"
                                    }
                                ]
                            },
                            "data": [
                                {
                                    "ventas_id": "14",
                                    "Fecha": "2019-08-27 00:00:00",
                                    "ID_local": "3",
                                    "clave_producto": "clz",
                                    "venta": "303",
                                    "venta_empleado": "3833745"
                                },
                                {
                                    "ventas_id": "11",
                                    "Fecha": "2018-08-22 00:00:00",
                                    "ID_local": "1",
                                    "clave_producto": "brr",
                                    "venta": "404",
                                    "venta_empleado": "3833745"
                                },
                                {
                                    "ventas_id": "8",
                                    "Fecha": "2018-10-05 00:00:00",
                                    "ID_local": "1",
                                    "clave_producto": "pzz",
                                    "venta": "435",
                                    "venta_empleado": "2520477"
                                },
                                {
                                    "ventas_id": "5",
                                    "Fecha": "2018-05-16 00:00:00",
                                    "ID_local": "1",
                                    "clave_producto": "qsd",
                                    "venta": "495",
                                    "venta_empleado": "2520477"
                                },
                                {
                                    "ventas_id": "21",
                                    "Fecha": "2019-06-08 00:00:00",
                                    "ID_local": "4",
                                    "clave_producto": "qsd",
                                    "venta": "497",
                                    "venta_empleado": "5728566"
                                },
                                {
                                    "ventas_id": "6",
                                    "Fecha": "2018-12-15 00:00:00",
                                    "ID_local": "3",
                                    "clave_producto": "pzz",
                                    "venta": "544",
                                    "venta_empleado": "9611338"
                                },
                                {
                                    "ventas_id": "15",
                                    "Fecha": "2019-12-15 00:00:00",
                                    "ID_local": "1",
                                    "clave_producto": "brr",
                                    "venta": "871",
                                    "venta_empleado": "2520477"
                                },
                                {
                                    "ventas_id": "4",
                                    "Fecha": "2018-10-30 00:00:00",
                                    "ID_local": "1",
                                    "clave_producto": "brr",
                                    "venta": "889",
                                    "venta_empleado": "9922377"
                                },
                                {
                                    "ventas_id": "2",
                                    "Fecha": "2018-09-17 00:00:00",
                                    "ID_local": "2",
                                    "clave_producto": "clz",
                                    "venta": "953",
                                    "venta_empleado": "2310967"
                                },
                                {
                                    "ventas_id": "18",
                                    "Fecha": "2019-12-14 00:00:00",
                                    "ID_local": "3",
                                    "clave_producto": "pzz",
                                    "venta": "957",
                                    "venta_empleado": "2310967"
                                },
                                {
                                    "ventas_id": "19",
                                    "Fecha": "2019-08-14 00:00:00",
                                    "ID_local": "2",
                                    "clave_producto": "clz",
                                    "venta": "972",
                                    "venta_empleado": "2310967"
                                }
                            ]
                        },
                        "text/html": "<table><tr><th>ventas_id</th><th>Fecha</th><th>ID_local</th><th>clave_producto</th><th>venta</th><th>venta_empleado</th></tr><tr><td>14</td><td>2019-08-27 00:00:00</td><td>3</td><td>clz</td><td>303</td><td>3833745</td></tr><tr><td>11</td><td>2018-08-22 00:00:00</td><td>1</td><td>brr</td><td>404</td><td>3833745</td></tr><tr><td>8</td><td>2018-10-05 00:00:00</td><td>1</td><td>pzz</td><td>435</td><td>2520477</td></tr><tr><td>5</td><td>2018-05-16 00:00:00</td><td>1</td><td>qsd</td><td>495</td><td>2520477</td></tr><tr><td>21</td><td>2019-06-08 00:00:00</td><td>4</td><td>qsd</td><td>497</td><td>5728566</td></tr><tr><td>6</td><td>2018-12-15 00:00:00</td><td>3</td><td>pzz</td><td>544</td><td>9611338</td></tr><tr><td>15</td><td>2019-12-15 00:00:00</td><td>1</td><td>brr</td><td>871</td><td>2520477</td></tr><tr><td>4</td><td>2018-10-30 00:00:00</td><td>1</td><td>brr</td><td>889</td><td>9922377</td></tr><tr><td>2</td><td>2018-09-17 00:00:00</td><td>2</td><td>clz</td><td>953</td><td>2310967</td></tr><tr><td>18</td><td>2019-12-14 00:00:00</td><td>3</td><td>pzz</td><td>957</td><td>2310967</td></tr><tr><td>19</td><td>2019-08-14 00:00:00</td><td>2</td><td>clz</td><td>972</td><td>2310967</td></tr></table>"
                    },
                    "metadata": {}
                }
            ],
            "execution_count": 11
        },
        {
            "cell_type": "code",
            "source": [
                "SELECT * FROM ventas WHERE venta <=1000;"
            ],
            "metadata": {
                "azdata_cell_guid": "5a7de044-17c8-4900-baa1-1cbde322e46f",
                "language": "sql"
            },
            "outputs": [
                {
                    "output_type": "display_data",
                    "data": {
                        "text/html": "(11 row(s) affected)"
                    },
                    "metadata": {}
                },
                {
                    "output_type": "display_data",
                    "data": {
                        "text/html": "Total execution time: 00:00:01.014"
                    },
                    "metadata": {}
                },
                {
                    "output_type": "execute_result",
                    "execution_count": 12,
                    "data": {
                        "application/vnd.dataresource+json": {
                            "schema": {
                                "fields": [
                                    {
                                        "name": "ventas_id"
                                    },
                                    {
                                        "name": "Fecha"
                                    },
                                    {
                                        "name": "ID_local"
                                    },
                                    {
                                        "name": "clave_producto"
                                    },
                                    {
                                        "name": "venta"
                                    },
                                    {
                                        "name": "venta_empleado"
                                    }
                                ]
                            },
                            "data": [
                                {
                                    "ventas_id": "14",
                                    "Fecha": "2019-08-27 00:00:00",
                                    "ID_local": "3",
                                    "clave_producto": "clz",
                                    "venta": "303",
                                    "venta_empleado": "3833745"
                                },
                                {
                                    "ventas_id": "11",
                                    "Fecha": "2018-08-22 00:00:00",
                                    "ID_local": "1",
                                    "clave_producto": "brr",
                                    "venta": "404",
                                    "venta_empleado": "3833745"
                                },
                                {
                                    "ventas_id": "8",
                                    "Fecha": "2018-10-05 00:00:00",
                                    "ID_local": "1",
                                    "clave_producto": "pzz",
                                    "venta": "435",
                                    "venta_empleado": "2520477"
                                },
                                {
                                    "ventas_id": "5",
                                    "Fecha": "2018-05-16 00:00:00",
                                    "ID_local": "1",
                                    "clave_producto": "qsd",
                                    "venta": "495",
                                    "venta_empleado": "2520477"
                                },
                                {
                                    "ventas_id": "21",
                                    "Fecha": "2019-06-08 00:00:00",
                                    "ID_local": "4",
                                    "clave_producto": "qsd",
                                    "venta": "497",
                                    "venta_empleado": "5728566"
                                },
                                {
                                    "ventas_id": "6",
                                    "Fecha": "2018-12-15 00:00:00",
                                    "ID_local": "3",
                                    "clave_producto": "pzz",
                                    "venta": "544",
                                    "venta_empleado": "9611338"
                                },
                                {
                                    "ventas_id": "15",
                                    "Fecha": "2019-12-15 00:00:00",
                                    "ID_local": "1",
                                    "clave_producto": "brr",
                                    "venta": "871",
                                    "venta_empleado": "2520477"
                                },
                                {
                                    "ventas_id": "4",
                                    "Fecha": "2018-10-30 00:00:00",
                                    "ID_local": "1",
                                    "clave_producto": "brr",
                                    "venta": "889",
                                    "venta_empleado": "9922377"
                                },
                                {
                                    "ventas_id": "2",
                                    "Fecha": "2018-09-17 00:00:00",
                                    "ID_local": "2",
                                    "clave_producto": "clz",
                                    "venta": "953",
                                    "venta_empleado": "2310967"
                                },
                                {
                                    "ventas_id": "18",
                                    "Fecha": "2019-12-14 00:00:00",
                                    "ID_local": "3",
                                    "clave_producto": "pzz",
                                    "venta": "957",
                                    "venta_empleado": "2310967"
                                },
                                {
                                    "ventas_id": "19",
                                    "Fecha": "2019-08-14 00:00:00",
                                    "ID_local": "2",
                                    "clave_producto": "clz",
                                    "venta": "972",
                                    "venta_empleado": "2310967"
                                }
                            ]
                        },
                        "text/html": "<table><tr><th>ventas_id</th><th>Fecha</th><th>ID_local</th><th>clave_producto</th><th>venta</th><th>venta_empleado</th></tr><tr><td>14</td><td>2019-08-27 00:00:00</td><td>3</td><td>clz</td><td>303</td><td>3833745</td></tr><tr><td>11</td><td>2018-08-22 00:00:00</td><td>1</td><td>brr</td><td>404</td><td>3833745</td></tr><tr><td>8</td><td>2018-10-05 00:00:00</td><td>1</td><td>pzz</td><td>435</td><td>2520477</td></tr><tr><td>5</td><td>2018-05-16 00:00:00</td><td>1</td><td>qsd</td><td>495</td><td>2520477</td></tr><tr><td>21</td><td>2019-06-08 00:00:00</td><td>4</td><td>qsd</td><td>497</td><td>5728566</td></tr><tr><td>6</td><td>2018-12-15 00:00:00</td><td>3</td><td>pzz</td><td>544</td><td>9611338</td></tr><tr><td>15</td><td>2019-12-15 00:00:00</td><td>1</td><td>brr</td><td>871</td><td>2520477</td></tr><tr><td>4</td><td>2018-10-30 00:00:00</td><td>1</td><td>brr</td><td>889</td><td>9922377</td></tr><tr><td>2</td><td>2018-09-17 00:00:00</td><td>2</td><td>clz</td><td>953</td><td>2310967</td></tr><tr><td>18</td><td>2019-12-14 00:00:00</td><td>3</td><td>pzz</td><td>957</td><td>2310967</td></tr><tr><td>19</td><td>2019-08-14 00:00:00</td><td>2</td><td>clz</td><td>972</td><td>2310967</td></tr></table>"
                    },
                    "metadata": {}
                }
            ],
            "execution_count": 12
        },
        {
            "cell_type": "code",
            "source": [
                "SELECT * FROM ventas WHERE ID_local !=2;"
            ],
            "metadata": {
                "azdata_cell_guid": "150c177e-68ac-4f65-b7cd-c8237b881d4e",
                "language": "sql"
            },
            "outputs": [
                {
                    "output_type": "display_data",
                    "data": {
                        "text/html": "(19 row(s) affected)"
                    },
                    "metadata": {}
                },
                {
                    "output_type": "display_data",
                    "data": {
                        "text/html": "Total execution time: 00:00:01.014"
                    },
                    "metadata": {}
                },
                {
                    "output_type": "execute_result",
                    "execution_count": 13,
                    "data": {
                        "application/vnd.dataresource+json": {
                            "schema": {
                                "fields": [
                                    {
                                        "name": "ventas_id"
                                    },
                                    {
                                        "name": "Fecha"
                                    },
                                    {
                                        "name": "ID_local"
                                    },
                                    {
                                        "name": "clave_producto"
                                    },
                                    {
                                        "name": "venta"
                                    },
                                    {
                                        "name": "venta_empleado"
                                    }
                                ]
                            },
                            "data": [
                                {
                                    "ventas_id": "3",
                                    "Fecha": "2018-10-18 00:00:00",
                                    "ID_local": "4",
                                    "clave_producto": "brr",
                                    "venta": "1286",
                                    "venta_empleado": "6931035"
                                },
                                {
                                    "ventas_id": "4",
                                    "Fecha": "2018-10-30 00:00:00",
                                    "ID_local": "1",
                                    "clave_producto": "brr",
                                    "venta": "889",
                                    "venta_empleado": "9922377"
                                },
                                {
                                    "ventas_id": "5",
                                    "Fecha": "2018-05-16 00:00:00",
                                    "ID_local": "1",
                                    "clave_producto": "qsd",
                                    "venta": "495",
                                    "venta_empleado": "2520477"
                                },
                                {
                                    "ventas_id": "6",
                                    "Fecha": "2018-12-15 00:00:00",
                                    "ID_local": "3",
                                    "clave_producto": "pzz",
                                    "venta": "544",
                                    "venta_empleado": "9611338"
                                },
                                {
                                    "ventas_id": "7",
                                    "Fecha": "2018-07-28 00:00:00",
                                    "ID_local": "4",
                                    "clave_producto": "pzz",
                                    "venta": "1444",
                                    "venta_empleado": "6332756"
                                },
                                {
                                    "ventas_id": "8",
                                    "Fecha": "2018-10-05 00:00:00",
                                    "ID_local": "1",
                                    "clave_producto": "pzz",
                                    "venta": "435",
                                    "venta_empleado": "2520477"
                                },
                                {
                                    "ventas_id": "9",
                                    "Fecha": "2018-04-20 00:00:00",
                                    "ID_local": "1",
                                    "clave_producto": "qsd",
                                    "venta": "1203",
                                    "venta_empleado": "9922377"
                                },
                                {
                                    "ventas_id": "10",
                                    "Fecha": "2018-06-08 00:00:00",
                                    "ID_local": "1",
                                    "clave_producto": "brr",
                                    "venta": "1038",
                                    "venta_empleado": "6332756"
                                },
                                {
                                    "ventas_id": "11",
                                    "Fecha": "2018-08-22 00:00:00",
                                    "ID_local": "1",
                                    "clave_producto": "brr",
                                    "venta": "404",
                                    "venta_empleado": "3833745"
                                },
                                {
                                    "ventas_id": "12",
                                    "Fecha": "2019-09-03 00:00:00",
                                    "ID_local": "1",
                                    "clave_producto": "pzz",
                                    "venta": "1362",
                                    "venta_empleado": "5728566"
                                },
                                {
                                    "ventas_id": "13",
                                    "Fecha": "2019-07-16 00:00:00",
                                    "ID_local": "3",
                                    "clave_producto": "qsd",
                                    "venta": "1054",
                                    "venta_empleado": "2310967"
                                },
                                {
                                    "ventas_id": "14",
                                    "Fecha": "2019-08-27 00:00:00",
                                    "ID_local": "3",
                                    "clave_producto": "clz",
                                    "venta": "303",
                                    "venta_empleado": "3833745"
                                },
                                {
                                    "ventas_id": "15",
                                    "Fecha": "2019-12-15 00:00:00",
                                    "ID_local": "1",
                                    "clave_producto": "brr",
                                    "venta": "871",
                                    "venta_empleado": "2520477"
                                },
                                {
                                    "ventas_id": "16",
                                    "Fecha": "2019-07-30 00:00:00",
                                    "ID_local": "3",
                                    "clave_producto": "brr",
                                    "venta": "1062",
                                    "venta_empleado": "5728566"
                                },
                                {
                                    "ventas_id": "17",
                                    "Fecha": "2019-10-25 00:00:00",
                                    "ID_local": "1",
                                    "clave_producto": "pzz",
                                    "venta": "1376",
                                    "venta_empleado": "6332756"
                                },
                                {
                                    "ventas_id": "18",
                                    "Fecha": "2019-12-14 00:00:00",
                                    "ID_local": "3",
                                    "clave_producto": "pzz",
                                    "venta": "957",
                                    "venta_empleado": "2310967"
                                },
                                {
                                    "ventas_id": "20",
                                    "Fecha": "2019-12-01 00:00:00",
                                    "ID_local": "1",
                                    "clave_producto": "pzz",
                                    "venta": "1455",
                                    "venta_empleado": "2310967"
                                },
                                {
                                    "ventas_id": "21",
                                    "Fecha": "2019-06-08 00:00:00",
                                    "ID_local": "4",
                                    "clave_producto": "qsd",
                                    "venta": "497",
                                    "venta_empleado": "5728566"
                                },
                                {
                                    "ventas_id": "22",
                                    "Fecha": "2019-07-25 00:00:00",
                                    "ID_local": "3",
                                    "clave_producto": "clz",
                                    "venta": "1179",
                                    "venta_empleado": "2310967"
                                }
                            ]
                        },
                        "text/html": "<table><tr><th>ventas_id</th><th>Fecha</th><th>ID_local</th><th>clave_producto</th><th>venta</th><th>venta_empleado</th></tr><tr><td>3</td><td>2018-10-18 00:00:00</td><td>4</td><td>brr</td><td>1286</td><td>6931035</td></tr><tr><td>4</td><td>2018-10-30 00:00:00</td><td>1</td><td>brr</td><td>889</td><td>9922377</td></tr><tr><td>5</td><td>2018-05-16 00:00:00</td><td>1</td><td>qsd</td><td>495</td><td>2520477</td></tr><tr><td>6</td><td>2018-12-15 00:00:00</td><td>3</td><td>pzz</td><td>544</td><td>9611338</td></tr><tr><td>7</td><td>2018-07-28 00:00:00</td><td>4</td><td>pzz</td><td>1444</td><td>6332756</td></tr><tr><td>8</td><td>2018-10-05 00:00:00</td><td>1</td><td>pzz</td><td>435</td><td>2520477</td></tr><tr><td>9</td><td>2018-04-20 00:00:00</td><td>1</td><td>qsd</td><td>1203</td><td>9922377</td></tr><tr><td>10</td><td>2018-06-08 00:00:00</td><td>1</td><td>brr</td><td>1038</td><td>6332756</td></tr><tr><td>11</td><td>2018-08-22 00:00:00</td><td>1</td><td>brr</td><td>404</td><td>3833745</td></tr><tr><td>12</td><td>2019-09-03 00:00:00</td><td>1</td><td>pzz</td><td>1362</td><td>5728566</td></tr><tr><td>13</td><td>2019-07-16 00:00:00</td><td>3</td><td>qsd</td><td>1054</td><td>2310967</td></tr><tr><td>14</td><td>2019-08-27 00:00:00</td><td>3</td><td>clz</td><td>303</td><td>3833745</td></tr><tr><td>15</td><td>2019-12-15 00:00:00</td><td>1</td><td>brr</td><td>871</td><td>2520477</td></tr><tr><td>16</td><td>2019-07-30 00:00:00</td><td>3</td><td>brr</td><td>1062</td><td>5728566</td></tr><tr><td>17</td><td>2019-10-25 00:00:00</td><td>1</td><td>pzz</td><td>1376</td><td>6332756</td></tr><tr><td>18</td><td>2019-12-14 00:00:00</td><td>3</td><td>pzz</td><td>957</td><td>2310967</td></tr><tr><td>20</td><td>2019-12-01 00:00:00</td><td>1</td><td>pzz</td><td>1455</td><td>2310967</td></tr><tr><td>21</td><td>2019-06-08 00:00:00</td><td>4</td><td>qsd</td><td>497</td><td>5728566</td></tr><tr><td>22</td><td>2019-07-25 00:00:00</td><td>3</td><td>clz</td><td>1179</td><td>2310967</td></tr></table>"
                    },
                    "metadata": {}
                }
            ],
            "execution_count": 13
        },
        {
            "cell_type": "code",
            "source": [
                "SELECT * FROM ventas WHERE ID_local = 2 AND clave_producto = \"pzz\";"
            ],
            "metadata": {
                "azdata_cell_guid": "a7786bc7-0d43-4eeb-8e4f-592764635c11",
                "language": "sql"
            },
            "outputs": [
                {
                    "output_type": "display_data",
                    "data": {
                        "text/html": "(1 row(s) affected)"
                    },
                    "metadata": {}
                },
                {
                    "output_type": "display_data",
                    "data": {
                        "text/html": "Total execution time: 00:00:01.008"
                    },
                    "metadata": {}
                },
                {
                    "output_type": "execute_result",
                    "execution_count": 14,
                    "data": {
                        "application/vnd.dataresource+json": {
                            "schema": {
                                "fields": [
                                    {
                                        "name": "ventas_id"
                                    },
                                    {
                                        "name": "Fecha"
                                    },
                                    {
                                        "name": "ID_local"
                                    },
                                    {
                                        "name": "clave_producto"
                                    },
                                    {
                                        "name": "venta"
                                    },
                                    {
                                        "name": "venta_empleado"
                                    }
                                ]
                            },
                            "data": [
                                {
                                    "ventas_id": "1",
                                    "Fecha": "2018-11-18 00:00:00",
                                    "ID_local": "2",
                                    "clave_producto": "pzz",
                                    "venta": "1302",
                                    "venta_empleado": "2630867"
                                }
                            ]
                        },
                        "text/html": "<table><tr><th>ventas_id</th><th>Fecha</th><th>ID_local</th><th>clave_producto</th><th>venta</th><th>venta_empleado</th></tr><tr><td>1</td><td>2018-11-18 00:00:00</td><td>2</td><td>pzz</td><td>1302</td><td>2630867</td></tr></table>"
                    },
                    "metadata": {}
                }
            ],
            "execution_count": 14
        },
        {
            "cell_type": "code",
            "source": [
                "SELECT * FROM ventas WHERE ID_local = 2 OR ID_local = 4;"
            ],
            "metadata": {
                "azdata_cell_guid": "e3ddb069-8b9e-4ccf-a990-87fccc8a9111",
                "language": "sql"
            },
            "outputs": [
                {
                    "output_type": "display_data",
                    "data": {
                        "text/html": "(6 row(s) affected)"
                    },
                    "metadata": {}
                },
                {
                    "output_type": "display_data",
                    "data": {
                        "text/html": "Total execution time: 00:00:01.021"
                    },
                    "metadata": {}
                },
                {
                    "output_type": "execute_result",
                    "execution_count": 15,
                    "data": {
                        "application/vnd.dataresource+json": {
                            "schema": {
                                "fields": [
                                    {
                                        "name": "ventas_id"
                                    },
                                    {
                                        "name": "Fecha"
                                    },
                                    {
                                        "name": "ID_local"
                                    },
                                    {
                                        "name": "clave_producto"
                                    },
                                    {
                                        "name": "venta"
                                    },
                                    {
                                        "name": "venta_empleado"
                                    }
                                ]
                            },
                            "data": [
                                {
                                    "ventas_id": "1",
                                    "Fecha": "2018-11-18 00:00:00",
                                    "ID_local": "2",
                                    "clave_producto": "pzz",
                                    "venta": "1302",
                                    "venta_empleado": "2630867"
                                },
                                {
                                    "ventas_id": "2",
                                    "Fecha": "2018-09-17 00:00:00",
                                    "ID_local": "2",
                                    "clave_producto": "clz",
                                    "venta": "953",
                                    "venta_empleado": "2310967"
                                },
                                {
                                    "ventas_id": "19",
                                    "Fecha": "2019-08-14 00:00:00",
                                    "ID_local": "2",
                                    "clave_producto": "clz",
                                    "venta": "972",
                                    "venta_empleado": "2310967"
                                },
                                {
                                    "ventas_id": "3",
                                    "Fecha": "2018-10-18 00:00:00",
                                    "ID_local": "4",
                                    "clave_producto": "brr",
                                    "venta": "1286",
                                    "venta_empleado": "6931035"
                                },
                                {
                                    "ventas_id": "7",
                                    "Fecha": "2018-07-28 00:00:00",
                                    "ID_local": "4",
                                    "clave_producto": "pzz",
                                    "venta": "1444",
                                    "venta_empleado": "6332756"
                                },
                                {
                                    "ventas_id": "21",
                                    "Fecha": "2019-06-08 00:00:00",
                                    "ID_local": "4",
                                    "clave_producto": "qsd",
                                    "venta": "497",
                                    "venta_empleado": "5728566"
                                }
                            ]
                        },
                        "text/html": "<table><tr><th>ventas_id</th><th>Fecha</th><th>ID_local</th><th>clave_producto</th><th>venta</th><th>venta_empleado</th></tr><tr><td>1</td><td>2018-11-18 00:00:00</td><td>2</td><td>pzz</td><td>1302</td><td>2630867</td></tr><tr><td>2</td><td>2018-09-17 00:00:00</td><td>2</td><td>clz</td><td>953</td><td>2310967</td></tr><tr><td>19</td><td>2019-08-14 00:00:00</td><td>2</td><td>clz</td><td>972</td><td>2310967</td></tr><tr><td>3</td><td>2018-10-18 00:00:00</td><td>4</td><td>brr</td><td>1286</td><td>6931035</td></tr><tr><td>7</td><td>2018-07-28 00:00:00</td><td>4</td><td>pzz</td><td>1444</td><td>6332756</td></tr><tr><td>21</td><td>2019-06-08 00:00:00</td><td>4</td><td>qsd</td><td>497</td><td>5728566</td></tr></table>"
                    },
                    "metadata": {}
                }
            ],
            "execution_count": 15
        },
        {
            "cell_type": "code",
            "source": [
                "SELECT * FROM ventas WHERE clave_producto !=\"pzz\";"
            ],
            "metadata": {
                "azdata_cell_guid": "ffb2565e-719f-4932-97fc-10de76956916",
                "language": "sql"
            },
            "outputs": [
                {
                    "output_type": "display_data",
                    "data": {
                        "text/html": "(14 row(s) affected)"
                    },
                    "metadata": {}
                },
                {
                    "output_type": "display_data",
                    "data": {
                        "text/html": "Total execution time: 00:00:01.005"
                    },
                    "metadata": {}
                },
                {
                    "output_type": "execute_result",
                    "execution_count": 16,
                    "data": {
                        "application/vnd.dataresource+json": {
                            "schema": {
                                "fields": [
                                    {
                                        "name": "ventas_id"
                                    },
                                    {
                                        "name": "Fecha"
                                    },
                                    {
                                        "name": "ID_local"
                                    },
                                    {
                                        "name": "clave_producto"
                                    },
                                    {
                                        "name": "venta"
                                    },
                                    {
                                        "name": "venta_empleado"
                                    }
                                ]
                            },
                            "data": [
                                {
                                    "ventas_id": "2",
                                    "Fecha": "2018-09-17 00:00:00",
                                    "ID_local": "2",
                                    "clave_producto": "clz",
                                    "venta": "953",
                                    "venta_empleado": "2310967"
                                },
                                {
                                    "ventas_id": "3",
                                    "Fecha": "2018-10-18 00:00:00",
                                    "ID_local": "4",
                                    "clave_producto": "brr",
                                    "venta": "1286",
                                    "venta_empleado": "6931035"
                                },
                                {
                                    "ventas_id": "4",
                                    "Fecha": "2018-10-30 00:00:00",
                                    "ID_local": "1",
                                    "clave_producto": "brr",
                                    "venta": "889",
                                    "venta_empleado": "9922377"
                                },
                                {
                                    "ventas_id": "5",
                                    "Fecha": "2018-05-16 00:00:00",
                                    "ID_local": "1",
                                    "clave_producto": "qsd",
                                    "venta": "495",
                                    "venta_empleado": "2520477"
                                },
                                {
                                    "ventas_id": "9",
                                    "Fecha": "2018-04-20 00:00:00",
                                    "ID_local": "1",
                                    "clave_producto": "qsd",
                                    "venta": "1203",
                                    "venta_empleado": "9922377"
                                },
                                {
                                    "ventas_id": "10",
                                    "Fecha": "2018-06-08 00:00:00",
                                    "ID_local": "1",
                                    "clave_producto": "brr",
                                    "venta": "1038",
                                    "venta_empleado": "6332756"
                                },
                                {
                                    "ventas_id": "11",
                                    "Fecha": "2018-08-22 00:00:00",
                                    "ID_local": "1",
                                    "clave_producto": "brr",
                                    "venta": "404",
                                    "venta_empleado": "3833745"
                                },
                                {
                                    "ventas_id": "13",
                                    "Fecha": "2019-07-16 00:00:00",
                                    "ID_local": "3",
                                    "clave_producto": "qsd",
                                    "venta": "1054",
                                    "venta_empleado": "2310967"
                                },
                                {
                                    "ventas_id": "14",
                                    "Fecha": "2019-08-27 00:00:00",
                                    "ID_local": "3",
                                    "clave_producto": "clz",
                                    "venta": "303",
                                    "venta_empleado": "3833745"
                                },
                                {
                                    "ventas_id": "15",
                                    "Fecha": "2019-12-15 00:00:00",
                                    "ID_local": "1",
                                    "clave_producto": "brr",
                                    "venta": "871",
                                    "venta_empleado": "2520477"
                                },
                                {
                                    "ventas_id": "16",
                                    "Fecha": "2019-07-30 00:00:00",
                                    "ID_local": "3",
                                    "clave_producto": "brr",
                                    "venta": "1062",
                                    "venta_empleado": "5728566"
                                },
                                {
                                    "ventas_id": "19",
                                    "Fecha": "2019-08-14 00:00:00",
                                    "ID_local": "2",
                                    "clave_producto": "clz",
                                    "venta": "972",
                                    "venta_empleado": "2310967"
                                },
                                {
                                    "ventas_id": "21",
                                    "Fecha": "2019-06-08 00:00:00",
                                    "ID_local": "4",
                                    "clave_producto": "qsd",
                                    "venta": "497",
                                    "venta_empleado": "5728566"
                                },
                                {
                                    "ventas_id": "22",
                                    "Fecha": "2019-07-25 00:00:00",
                                    "ID_local": "3",
                                    "clave_producto": "clz",
                                    "venta": "1179",
                                    "venta_empleado": "2310967"
                                }
                            ]
                        },
                        "text/html": "<table><tr><th>ventas_id</th><th>Fecha</th><th>ID_local</th><th>clave_producto</th><th>venta</th><th>venta_empleado</th></tr><tr><td>2</td><td>2018-09-17 00:00:00</td><td>2</td><td>clz</td><td>953</td><td>2310967</td></tr><tr><td>3</td><td>2018-10-18 00:00:00</td><td>4</td><td>brr</td><td>1286</td><td>6931035</td></tr><tr><td>4</td><td>2018-10-30 00:00:00</td><td>1</td><td>brr</td><td>889</td><td>9922377</td></tr><tr><td>5</td><td>2018-05-16 00:00:00</td><td>1</td><td>qsd</td><td>495</td><td>2520477</td></tr><tr><td>9</td><td>2018-04-20 00:00:00</td><td>1</td><td>qsd</td><td>1203</td><td>9922377</td></tr><tr><td>10</td><td>2018-06-08 00:00:00</td><td>1</td><td>brr</td><td>1038</td><td>6332756</td></tr><tr><td>11</td><td>2018-08-22 00:00:00</td><td>1</td><td>brr</td><td>404</td><td>3833745</td></tr><tr><td>13</td><td>2019-07-16 00:00:00</td><td>3</td><td>qsd</td><td>1054</td><td>2310967</td></tr><tr><td>14</td><td>2019-08-27 00:00:00</td><td>3</td><td>clz</td><td>303</td><td>3833745</td></tr><tr><td>15</td><td>2019-12-15 00:00:00</td><td>1</td><td>brr</td><td>871</td><td>2520477</td></tr><tr><td>16</td><td>2019-07-30 00:00:00</td><td>3</td><td>brr</td><td>1062</td><td>5728566</td></tr><tr><td>19</td><td>2019-08-14 00:00:00</td><td>2</td><td>clz</td><td>972</td><td>2310967</td></tr><tr><td>21</td><td>2019-06-08 00:00:00</td><td>4</td><td>qsd</td><td>497</td><td>5728566</td></tr><tr><td>22</td><td>2019-07-25 00:00:00</td><td>3</td><td>clz</td><td>1179</td><td>2310967</td></tr></table>"
                    },
                    "metadata": {}
                }
            ],
            "execution_count": 16
        },
        {
            "cell_type": "code",
            "source": [
                "SELECT * FROM ventas WHERE NOT clave_producto = \"pzz\";"
            ],
            "metadata": {
                "azdata_cell_guid": "79efff9b-ba74-4319-aa77-c871c3ca6950",
                "language": "sql"
            },
            "outputs": [
                {
                    "output_type": "display_data",
                    "data": {
                        "text/html": "(14 row(s) affected)"
                    },
                    "metadata": {}
                },
                {
                    "output_type": "display_data",
                    "data": {
                        "text/html": "Total execution time: 00:00:01.018"
                    },
                    "metadata": {}
                },
                {
                    "output_type": "execute_result",
                    "execution_count": 17,
                    "data": {
                        "application/vnd.dataresource+json": {
                            "schema": {
                                "fields": [
                                    {
                                        "name": "ventas_id"
                                    },
                                    {
                                        "name": "Fecha"
                                    },
                                    {
                                        "name": "ID_local"
                                    },
                                    {
                                        "name": "clave_producto"
                                    },
                                    {
                                        "name": "venta"
                                    },
                                    {
                                        "name": "venta_empleado"
                                    }
                                ]
                            },
                            "data": [
                                {
                                    "ventas_id": "2",
                                    "Fecha": "2018-09-17 00:00:00",
                                    "ID_local": "2",
                                    "clave_producto": "clz",
                                    "venta": "953",
                                    "venta_empleado": "2310967"
                                },
                                {
                                    "ventas_id": "3",
                                    "Fecha": "2018-10-18 00:00:00",
                                    "ID_local": "4",
                                    "clave_producto": "brr",
                                    "venta": "1286",
                                    "venta_empleado": "6931035"
                                },
                                {
                                    "ventas_id": "4",
                                    "Fecha": "2018-10-30 00:00:00",
                                    "ID_local": "1",
                                    "clave_producto": "brr",
                                    "venta": "889",
                                    "venta_empleado": "9922377"
                                },
                                {
                                    "ventas_id": "5",
                                    "Fecha": "2018-05-16 00:00:00",
                                    "ID_local": "1",
                                    "clave_producto": "qsd",
                                    "venta": "495",
                                    "venta_empleado": "2520477"
                                },
                                {
                                    "ventas_id": "9",
                                    "Fecha": "2018-04-20 00:00:00",
                                    "ID_local": "1",
                                    "clave_producto": "qsd",
                                    "venta": "1203",
                                    "venta_empleado": "9922377"
                                },
                                {
                                    "ventas_id": "10",
                                    "Fecha": "2018-06-08 00:00:00",
                                    "ID_local": "1",
                                    "clave_producto": "brr",
                                    "venta": "1038",
                                    "venta_empleado": "6332756"
                                },
                                {
                                    "ventas_id": "11",
                                    "Fecha": "2018-08-22 00:00:00",
                                    "ID_local": "1",
                                    "clave_producto": "brr",
                                    "venta": "404",
                                    "venta_empleado": "3833745"
                                },
                                {
                                    "ventas_id": "13",
                                    "Fecha": "2019-07-16 00:00:00",
                                    "ID_local": "3",
                                    "clave_producto": "qsd",
                                    "venta": "1054",
                                    "venta_empleado": "2310967"
                                },
                                {
                                    "ventas_id": "14",
                                    "Fecha": "2019-08-27 00:00:00",
                                    "ID_local": "3",
                                    "clave_producto": "clz",
                                    "venta": "303",
                                    "venta_empleado": "3833745"
                                },
                                {
                                    "ventas_id": "15",
                                    "Fecha": "2019-12-15 00:00:00",
                                    "ID_local": "1",
                                    "clave_producto": "brr",
                                    "venta": "871",
                                    "venta_empleado": "2520477"
                                },
                                {
                                    "ventas_id": "16",
                                    "Fecha": "2019-07-30 00:00:00",
                                    "ID_local": "3",
                                    "clave_producto": "brr",
                                    "venta": "1062",
                                    "venta_empleado": "5728566"
                                },
                                {
                                    "ventas_id": "19",
                                    "Fecha": "2019-08-14 00:00:00",
                                    "ID_local": "2",
                                    "clave_producto": "clz",
                                    "venta": "972",
                                    "venta_empleado": "2310967"
                                },
                                {
                                    "ventas_id": "21",
                                    "Fecha": "2019-06-08 00:00:00",
                                    "ID_local": "4",
                                    "clave_producto": "qsd",
                                    "venta": "497",
                                    "venta_empleado": "5728566"
                                },
                                {
                                    "ventas_id": "22",
                                    "Fecha": "2019-07-25 00:00:00",
                                    "ID_local": "3",
                                    "clave_producto": "clz",
                                    "venta": "1179",
                                    "venta_empleado": "2310967"
                                }
                            ]
                        },
                        "text/html": "<table><tr><th>ventas_id</th><th>Fecha</th><th>ID_local</th><th>clave_producto</th><th>venta</th><th>venta_empleado</th></tr><tr><td>2</td><td>2018-09-17 00:00:00</td><td>2</td><td>clz</td><td>953</td><td>2310967</td></tr><tr><td>3</td><td>2018-10-18 00:00:00</td><td>4</td><td>brr</td><td>1286</td><td>6931035</td></tr><tr><td>4</td><td>2018-10-30 00:00:00</td><td>1</td><td>brr</td><td>889</td><td>9922377</td></tr><tr><td>5</td><td>2018-05-16 00:00:00</td><td>1</td><td>qsd</td><td>495</td><td>2520477</td></tr><tr><td>9</td><td>2018-04-20 00:00:00</td><td>1</td><td>qsd</td><td>1203</td><td>9922377</td></tr><tr><td>10</td><td>2018-06-08 00:00:00</td><td>1</td><td>brr</td><td>1038</td><td>6332756</td></tr><tr><td>11</td><td>2018-08-22 00:00:00</td><td>1</td><td>brr</td><td>404</td><td>3833745</td></tr><tr><td>13</td><td>2019-07-16 00:00:00</td><td>3</td><td>qsd</td><td>1054</td><td>2310967</td></tr><tr><td>14</td><td>2019-08-27 00:00:00</td><td>3</td><td>clz</td><td>303</td><td>3833745</td></tr><tr><td>15</td><td>2019-12-15 00:00:00</td><td>1</td><td>brr</td><td>871</td><td>2520477</td></tr><tr><td>16</td><td>2019-07-30 00:00:00</td><td>3</td><td>brr</td><td>1062</td><td>5728566</td></tr><tr><td>19</td><td>2019-08-14 00:00:00</td><td>2</td><td>clz</td><td>972</td><td>2310967</td></tr><tr><td>21</td><td>2019-06-08 00:00:00</td><td>4</td><td>qsd</td><td>497</td><td>5728566</td></tr><tr><td>22</td><td>2019-07-25 00:00:00</td><td>3</td><td>clz</td><td>1179</td><td>2310967</td></tr></table>"
                    },
                    "metadata": {}
                }
            ],
            "execution_count": 17
        },
        {
            "cell_type": "code",
            "source": [
                "SELECT * FROM ventas WHERE NOT clave_producto = \"pzz\" AND ID_local = 2;"
            ],
            "metadata": {
                "azdata_cell_guid": "d71f43da-b3db-45f7-8f79-d2c0c427bb16",
                "language": "sql"
            },
            "outputs": [
                {
                    "output_type": "display_data",
                    "data": {
                        "text/html": "(2 row(s) affected)"
                    },
                    "metadata": {}
                },
                {
                    "output_type": "display_data",
                    "data": {
                        "text/html": "Total execution time: 00:00:01.009"
                    },
                    "metadata": {}
                },
                {
                    "output_type": "execute_result",
                    "execution_count": 18,
                    "data": {
                        "application/vnd.dataresource+json": {
                            "schema": {
                                "fields": [
                                    {
                                        "name": "ventas_id"
                                    },
                                    {
                                        "name": "Fecha"
                                    },
                                    {
                                        "name": "ID_local"
                                    },
                                    {
                                        "name": "clave_producto"
                                    },
                                    {
                                        "name": "venta"
                                    },
                                    {
                                        "name": "venta_empleado"
                                    }
                                ]
                            },
                            "data": [
                                {
                                    "ventas_id": "2",
                                    "Fecha": "2018-09-17 00:00:00",
                                    "ID_local": "2",
                                    "clave_producto": "clz",
                                    "venta": "953",
                                    "venta_empleado": "2310967"
                                },
                                {
                                    "ventas_id": "19",
                                    "Fecha": "2019-08-14 00:00:00",
                                    "ID_local": "2",
                                    "clave_producto": "clz",
                                    "venta": "972",
                                    "venta_empleado": "2310967"
                                }
                            ]
                        },
                        "text/html": "<table><tr><th>ventas_id</th><th>Fecha</th><th>ID_local</th><th>clave_producto</th><th>venta</th><th>venta_empleado</th></tr><tr><td>2</td><td>2018-09-17 00:00:00</td><td>2</td><td>clz</td><td>953</td><td>2310967</td></tr><tr><td>19</td><td>2019-08-14 00:00:00</td><td>2</td><td>clz</td><td>972</td><td>2310967</td></tr></table>"
                    },
                    "metadata": {}
                }
            ],
            "execution_count": 18
        },
        {
            "cell_type": "code",
            "source": [
                "SELECT * FROM ventas WHERE NOT clave_producto = \"pzz\" AND NOT ID_local = 2;"
            ],
            "metadata": {
                "azdata_cell_guid": "d7ea0794-3c17-40bc-a893-9e2207a78ae8",
                "language": "sql"
            },
            "outputs": [
                {
                    "output_type": "display_data",
                    "data": {
                        "text/html": "(12 row(s) affected)"
                    },
                    "metadata": {}
                },
                {
                    "output_type": "display_data",
                    "data": {
                        "text/html": "Total execution time: 00:00:01.007"
                    },
                    "metadata": {}
                },
                {
                    "output_type": "execute_result",
                    "execution_count": 19,
                    "data": {
                        "application/vnd.dataresource+json": {
                            "schema": {
                                "fields": [
                                    {
                                        "name": "ventas_id"
                                    },
                                    {
                                        "name": "Fecha"
                                    },
                                    {
                                        "name": "ID_local"
                                    },
                                    {
                                        "name": "clave_producto"
                                    },
                                    {
                                        "name": "venta"
                                    },
                                    {
                                        "name": "venta_empleado"
                                    }
                                ]
                            },
                            "data": [
                                {
                                    "ventas_id": "3",
                                    "Fecha": "2018-10-18 00:00:00",
                                    "ID_local": "4",
                                    "clave_producto": "brr",
                                    "venta": "1286",
                                    "venta_empleado": "6931035"
                                },
                                {
                                    "ventas_id": "4",
                                    "Fecha": "2018-10-30 00:00:00",
                                    "ID_local": "1",
                                    "clave_producto": "brr",
                                    "venta": "889",
                                    "venta_empleado": "9922377"
                                },
                                {
                                    "ventas_id": "5",
                                    "Fecha": "2018-05-16 00:00:00",
                                    "ID_local": "1",
                                    "clave_producto": "qsd",
                                    "venta": "495",
                                    "venta_empleado": "2520477"
                                },
                                {
                                    "ventas_id": "9",
                                    "Fecha": "2018-04-20 00:00:00",
                                    "ID_local": "1",
                                    "clave_producto": "qsd",
                                    "venta": "1203",
                                    "venta_empleado": "9922377"
                                },
                                {
                                    "ventas_id": "10",
                                    "Fecha": "2018-06-08 00:00:00",
                                    "ID_local": "1",
                                    "clave_producto": "brr",
                                    "venta": "1038",
                                    "venta_empleado": "6332756"
                                },
                                {
                                    "ventas_id": "11",
                                    "Fecha": "2018-08-22 00:00:00",
                                    "ID_local": "1",
                                    "clave_producto": "brr",
                                    "venta": "404",
                                    "venta_empleado": "3833745"
                                },
                                {
                                    "ventas_id": "13",
                                    "Fecha": "2019-07-16 00:00:00",
                                    "ID_local": "3",
                                    "clave_producto": "qsd",
                                    "venta": "1054",
                                    "venta_empleado": "2310967"
                                },
                                {
                                    "ventas_id": "14",
                                    "Fecha": "2019-08-27 00:00:00",
                                    "ID_local": "3",
                                    "clave_producto": "clz",
                                    "venta": "303",
                                    "venta_empleado": "3833745"
                                },
                                {
                                    "ventas_id": "15",
                                    "Fecha": "2019-12-15 00:00:00",
                                    "ID_local": "1",
                                    "clave_producto": "brr",
                                    "venta": "871",
                                    "venta_empleado": "2520477"
                                },
                                {
                                    "ventas_id": "16",
                                    "Fecha": "2019-07-30 00:00:00",
                                    "ID_local": "3",
                                    "clave_producto": "brr",
                                    "venta": "1062",
                                    "venta_empleado": "5728566"
                                },
                                {
                                    "ventas_id": "21",
                                    "Fecha": "2019-06-08 00:00:00",
                                    "ID_local": "4",
                                    "clave_producto": "qsd",
                                    "venta": "497",
                                    "venta_empleado": "5728566"
                                },
                                {
                                    "ventas_id": "22",
                                    "Fecha": "2019-07-25 00:00:00",
                                    "ID_local": "3",
                                    "clave_producto": "clz",
                                    "venta": "1179",
                                    "venta_empleado": "2310967"
                                }
                            ]
                        },
                        "text/html": "<table><tr><th>ventas_id</th><th>Fecha</th><th>ID_local</th><th>clave_producto</th><th>venta</th><th>venta_empleado</th></tr><tr><td>3</td><td>2018-10-18 00:00:00</td><td>4</td><td>brr</td><td>1286</td><td>6931035</td></tr><tr><td>4</td><td>2018-10-30 00:00:00</td><td>1</td><td>brr</td><td>889</td><td>9922377</td></tr><tr><td>5</td><td>2018-05-16 00:00:00</td><td>1</td><td>qsd</td><td>495</td><td>2520477</td></tr><tr><td>9</td><td>2018-04-20 00:00:00</td><td>1</td><td>qsd</td><td>1203</td><td>9922377</td></tr><tr><td>10</td><td>2018-06-08 00:00:00</td><td>1</td><td>brr</td><td>1038</td><td>6332756</td></tr><tr><td>11</td><td>2018-08-22 00:00:00</td><td>1</td><td>brr</td><td>404</td><td>3833745</td></tr><tr><td>13</td><td>2019-07-16 00:00:00</td><td>3</td><td>qsd</td><td>1054</td><td>2310967</td></tr><tr><td>14</td><td>2019-08-27 00:00:00</td><td>3</td><td>clz</td><td>303</td><td>3833745</td></tr><tr><td>15</td><td>2019-12-15 00:00:00</td><td>1</td><td>brr</td><td>871</td><td>2520477</td></tr><tr><td>16</td><td>2019-07-30 00:00:00</td><td>3</td><td>brr</td><td>1062</td><td>5728566</td></tr><tr><td>21</td><td>2019-06-08 00:00:00</td><td>4</td><td>qsd</td><td>497</td><td>5728566</td></tr><tr><td>22</td><td>2019-07-25 00:00:00</td><td>3</td><td>clz</td><td>1179</td><td>2310967</td></tr></table>"
                    },
                    "metadata": {}
                }
            ],
            "execution_count": 19
        },
        {
            "cell_type": "code",
            "source": [
                "SELECT * FROM ventas WHERE clave_producto = \"clz\" OR clave_producto = \"pzz\" OR clave_producto = \"qsd\";"
            ],
            "metadata": {
                "azdata_cell_guid": "fb478b32-560c-4509-beec-4bbe6e005704",
                "language": "sql"
            },
            "outputs": [
                {
                    "output_type": "display_data",
                    "data": {
                        "text/html": "(16 row(s) affected)"
                    },
                    "metadata": {}
                },
                {
                    "output_type": "display_data",
                    "data": {
                        "text/html": "Total execution time: 00:00:01.008"
                    },
                    "metadata": {}
                },
                {
                    "output_type": "execute_result",
                    "execution_count": 20,
                    "data": {
                        "application/vnd.dataresource+json": {
                            "schema": {
                                "fields": [
                                    {
                                        "name": "ventas_id"
                                    },
                                    {
                                        "name": "Fecha"
                                    },
                                    {
                                        "name": "ID_local"
                                    },
                                    {
                                        "name": "clave_producto"
                                    },
                                    {
                                        "name": "venta"
                                    },
                                    {
                                        "name": "venta_empleado"
                                    }
                                ]
                            },
                            "data": [
                                {
                                    "ventas_id": "1",
                                    "Fecha": "2018-11-18 00:00:00",
                                    "ID_local": "2",
                                    "clave_producto": "pzz",
                                    "venta": "1302",
                                    "venta_empleado": "2630867"
                                },
                                {
                                    "ventas_id": "2",
                                    "Fecha": "2018-09-17 00:00:00",
                                    "ID_local": "2",
                                    "clave_producto": "clz",
                                    "venta": "953",
                                    "venta_empleado": "2310967"
                                },
                                {
                                    "ventas_id": "5",
                                    "Fecha": "2018-05-16 00:00:00",
                                    "ID_local": "1",
                                    "clave_producto": "qsd",
                                    "venta": "495",
                                    "venta_empleado": "2520477"
                                },
                                {
                                    "ventas_id": "6",
                                    "Fecha": "2018-12-15 00:00:00",
                                    "ID_local": "3",
                                    "clave_producto": "pzz",
                                    "venta": "544",
                                    "venta_empleado": "9611338"
                                },
                                {
                                    "ventas_id": "7",
                                    "Fecha": "2018-07-28 00:00:00",
                                    "ID_local": "4",
                                    "clave_producto": "pzz",
                                    "venta": "1444",
                                    "venta_empleado": "6332756"
                                },
                                {
                                    "ventas_id": "8",
                                    "Fecha": "2018-10-05 00:00:00",
                                    "ID_local": "1",
                                    "clave_producto": "pzz",
                                    "venta": "435",
                                    "venta_empleado": "2520477"
                                },
                                {
                                    "ventas_id": "9",
                                    "Fecha": "2018-04-20 00:00:00",
                                    "ID_local": "1",
                                    "clave_producto": "qsd",
                                    "venta": "1203",
                                    "venta_empleado": "9922377"
                                },
                                {
                                    "ventas_id": "12",
                                    "Fecha": "2019-09-03 00:00:00",
                                    "ID_local": "1",
                                    "clave_producto": "pzz",
                                    "venta": "1362",
                                    "venta_empleado": "5728566"
                                },
                                {
                                    "ventas_id": "13",
                                    "Fecha": "2019-07-16 00:00:00",
                                    "ID_local": "3",
                                    "clave_producto": "qsd",
                                    "venta": "1054",
                                    "venta_empleado": "2310967"
                                },
                                {
                                    "ventas_id": "14",
                                    "Fecha": "2019-08-27 00:00:00",
                                    "ID_local": "3",
                                    "clave_producto": "clz",
                                    "venta": "303",
                                    "venta_empleado": "3833745"
                                },
                                {
                                    "ventas_id": "17",
                                    "Fecha": "2019-10-25 00:00:00",
                                    "ID_local": "1",
                                    "clave_producto": "pzz",
                                    "venta": "1376",
                                    "venta_empleado": "6332756"
                                },
                                {
                                    "ventas_id": "18",
                                    "Fecha": "2019-12-14 00:00:00",
                                    "ID_local": "3",
                                    "clave_producto": "pzz",
                                    "venta": "957",
                                    "venta_empleado": "2310967"
                                },
                                {
                                    "ventas_id": "19",
                                    "Fecha": "2019-08-14 00:00:00",
                                    "ID_local": "2",
                                    "clave_producto": "clz",
                                    "venta": "972",
                                    "venta_empleado": "2310967"
                                },
                                {
                                    "ventas_id": "20",
                                    "Fecha": "2019-12-01 00:00:00",
                                    "ID_local": "1",
                                    "clave_producto": "pzz",
                                    "venta": "1455",
                                    "venta_empleado": "2310967"
                                },
                                {
                                    "ventas_id": "21",
                                    "Fecha": "2019-06-08 00:00:00",
                                    "ID_local": "4",
                                    "clave_producto": "qsd",
                                    "venta": "497",
                                    "venta_empleado": "5728566"
                                },
                                {
                                    "ventas_id": "22",
                                    "Fecha": "2019-07-25 00:00:00",
                                    "ID_local": "3",
                                    "clave_producto": "clz",
                                    "venta": "1179",
                                    "venta_empleado": "2310967"
                                }
                            ]
                        },
                        "text/html": "<table><tr><th>ventas_id</th><th>Fecha</th><th>ID_local</th><th>clave_producto</th><th>venta</th><th>venta_empleado</th></tr><tr><td>1</td><td>2018-11-18 00:00:00</td><td>2</td><td>pzz</td><td>1302</td><td>2630867</td></tr><tr><td>2</td><td>2018-09-17 00:00:00</td><td>2</td><td>clz</td><td>953</td><td>2310967</td></tr><tr><td>5</td><td>2018-05-16 00:00:00</td><td>1</td><td>qsd</td><td>495</td><td>2520477</td></tr><tr><td>6</td><td>2018-12-15 00:00:00</td><td>3</td><td>pzz</td><td>544</td><td>9611338</td></tr><tr><td>7</td><td>2018-07-28 00:00:00</td><td>4</td><td>pzz</td><td>1444</td><td>6332756</td></tr><tr><td>8</td><td>2018-10-05 00:00:00</td><td>1</td><td>pzz</td><td>435</td><td>2520477</td></tr><tr><td>9</td><td>2018-04-20 00:00:00</td><td>1</td><td>qsd</td><td>1203</td><td>9922377</td></tr><tr><td>12</td><td>2019-09-03 00:00:00</td><td>1</td><td>pzz</td><td>1362</td><td>5728566</td></tr><tr><td>13</td><td>2019-07-16 00:00:00</td><td>3</td><td>qsd</td><td>1054</td><td>2310967</td></tr><tr><td>14</td><td>2019-08-27 00:00:00</td><td>3</td><td>clz</td><td>303</td><td>3833745</td></tr><tr><td>17</td><td>2019-10-25 00:00:00</td><td>1</td><td>pzz</td><td>1376</td><td>6332756</td></tr><tr><td>18</td><td>2019-12-14 00:00:00</td><td>3</td><td>pzz</td><td>957</td><td>2310967</td></tr><tr><td>19</td><td>2019-08-14 00:00:00</td><td>2</td><td>clz</td><td>972</td><td>2310967</td></tr><tr><td>20</td><td>2019-12-01 00:00:00</td><td>1</td><td>pzz</td><td>1455</td><td>2310967</td></tr><tr><td>21</td><td>2019-06-08 00:00:00</td><td>4</td><td>qsd</td><td>497</td><td>5728566</td></tr><tr><td>22</td><td>2019-07-25 00:00:00</td><td>3</td><td>clz</td><td>1179</td><td>2310967</td></tr></table>"
                    },
                    "metadata": {}
                }
            ],
            "execution_count": 20
        },
        {
            "cell_type": "code",
            "source": [
                "SELECT * FROM ventas WHERE clave_producto IN (\"clz\",\"pzz\",\"qsd\");"
            ],
            "metadata": {
                "azdata_cell_guid": "0de5a7b9-6e2e-4096-938c-83f1b02687bb",
                "language": "sql"
            },
            "outputs": [
                {
                    "output_type": "display_data",
                    "data": {
                        "text/html": "(16 row(s) affected)"
                    },
                    "metadata": {}
                },
                {
                    "output_type": "display_data",
                    "data": {
                        "text/html": "Total execution time: 00:00:01.011"
                    },
                    "metadata": {}
                },
                {
                    "output_type": "execute_result",
                    "execution_count": 21,
                    "data": {
                        "application/vnd.dataresource+json": {
                            "schema": {
                                "fields": [
                                    {
                                        "name": "ventas_id"
                                    },
                                    {
                                        "name": "Fecha"
                                    },
                                    {
                                        "name": "ID_local"
                                    },
                                    {
                                        "name": "clave_producto"
                                    },
                                    {
                                        "name": "venta"
                                    },
                                    {
                                        "name": "venta_empleado"
                                    }
                                ]
                            },
                            "data": [
                                {
                                    "ventas_id": "1",
                                    "Fecha": "2018-11-18 00:00:00",
                                    "ID_local": "2",
                                    "clave_producto": "pzz",
                                    "venta": "1302",
                                    "venta_empleado": "2630867"
                                },
                                {
                                    "ventas_id": "2",
                                    "Fecha": "2018-09-17 00:00:00",
                                    "ID_local": "2",
                                    "clave_producto": "clz",
                                    "venta": "953",
                                    "venta_empleado": "2310967"
                                },
                                {
                                    "ventas_id": "5",
                                    "Fecha": "2018-05-16 00:00:00",
                                    "ID_local": "1",
                                    "clave_producto": "qsd",
                                    "venta": "495",
                                    "venta_empleado": "2520477"
                                },
                                {
                                    "ventas_id": "6",
                                    "Fecha": "2018-12-15 00:00:00",
                                    "ID_local": "3",
                                    "clave_producto": "pzz",
                                    "venta": "544",
                                    "venta_empleado": "9611338"
                                },
                                {
                                    "ventas_id": "7",
                                    "Fecha": "2018-07-28 00:00:00",
                                    "ID_local": "4",
                                    "clave_producto": "pzz",
                                    "venta": "1444",
                                    "venta_empleado": "6332756"
                                },
                                {
                                    "ventas_id": "8",
                                    "Fecha": "2018-10-05 00:00:00",
                                    "ID_local": "1",
                                    "clave_producto": "pzz",
                                    "venta": "435",
                                    "venta_empleado": "2520477"
                                },
                                {
                                    "ventas_id": "9",
                                    "Fecha": "2018-04-20 00:00:00",
                                    "ID_local": "1",
                                    "clave_producto": "qsd",
                                    "venta": "1203",
                                    "venta_empleado": "9922377"
                                },
                                {
                                    "ventas_id": "12",
                                    "Fecha": "2019-09-03 00:00:00",
                                    "ID_local": "1",
                                    "clave_producto": "pzz",
                                    "venta": "1362",
                                    "venta_empleado": "5728566"
                                },
                                {
                                    "ventas_id": "13",
                                    "Fecha": "2019-07-16 00:00:00",
                                    "ID_local": "3",
                                    "clave_producto": "qsd",
                                    "venta": "1054",
                                    "venta_empleado": "2310967"
                                },
                                {
                                    "ventas_id": "14",
                                    "Fecha": "2019-08-27 00:00:00",
                                    "ID_local": "3",
                                    "clave_producto": "clz",
                                    "venta": "303",
                                    "venta_empleado": "3833745"
                                },
                                {
                                    "ventas_id": "17",
                                    "Fecha": "2019-10-25 00:00:00",
                                    "ID_local": "1",
                                    "clave_producto": "pzz",
                                    "venta": "1376",
                                    "venta_empleado": "6332756"
                                },
                                {
                                    "ventas_id": "18",
                                    "Fecha": "2019-12-14 00:00:00",
                                    "ID_local": "3",
                                    "clave_producto": "pzz",
                                    "venta": "957",
                                    "venta_empleado": "2310967"
                                },
                                {
                                    "ventas_id": "19",
                                    "Fecha": "2019-08-14 00:00:00",
                                    "ID_local": "2",
                                    "clave_producto": "clz",
                                    "venta": "972",
                                    "venta_empleado": "2310967"
                                },
                                {
                                    "ventas_id": "20",
                                    "Fecha": "2019-12-01 00:00:00",
                                    "ID_local": "1",
                                    "clave_producto": "pzz",
                                    "venta": "1455",
                                    "venta_empleado": "2310967"
                                },
                                {
                                    "ventas_id": "21",
                                    "Fecha": "2019-06-08 00:00:00",
                                    "ID_local": "4",
                                    "clave_producto": "qsd",
                                    "venta": "497",
                                    "venta_empleado": "5728566"
                                },
                                {
                                    "ventas_id": "22",
                                    "Fecha": "2019-07-25 00:00:00",
                                    "ID_local": "3",
                                    "clave_producto": "clz",
                                    "venta": "1179",
                                    "venta_empleado": "2310967"
                                }
                            ]
                        },
                        "text/html": "<table><tr><th>ventas_id</th><th>Fecha</th><th>ID_local</th><th>clave_producto</th><th>venta</th><th>venta_empleado</th></tr><tr><td>1</td><td>2018-11-18 00:00:00</td><td>2</td><td>pzz</td><td>1302</td><td>2630867</td></tr><tr><td>2</td><td>2018-09-17 00:00:00</td><td>2</td><td>clz</td><td>953</td><td>2310967</td></tr><tr><td>5</td><td>2018-05-16 00:00:00</td><td>1</td><td>qsd</td><td>495</td><td>2520477</td></tr><tr><td>6</td><td>2018-12-15 00:00:00</td><td>3</td><td>pzz</td><td>544</td><td>9611338</td></tr><tr><td>7</td><td>2018-07-28 00:00:00</td><td>4</td><td>pzz</td><td>1444</td><td>6332756</td></tr><tr><td>8</td><td>2018-10-05 00:00:00</td><td>1</td><td>pzz</td><td>435</td><td>2520477</td></tr><tr><td>9</td><td>2018-04-20 00:00:00</td><td>1</td><td>qsd</td><td>1203</td><td>9922377</td></tr><tr><td>12</td><td>2019-09-03 00:00:00</td><td>1</td><td>pzz</td><td>1362</td><td>5728566</td></tr><tr><td>13</td><td>2019-07-16 00:00:00</td><td>3</td><td>qsd</td><td>1054</td><td>2310967</td></tr><tr><td>14</td><td>2019-08-27 00:00:00</td><td>3</td><td>clz</td><td>303</td><td>3833745</td></tr><tr><td>17</td><td>2019-10-25 00:00:00</td><td>1</td><td>pzz</td><td>1376</td><td>6332756</td></tr><tr><td>18</td><td>2019-12-14 00:00:00</td><td>3</td><td>pzz</td><td>957</td><td>2310967</td></tr><tr><td>19</td><td>2019-08-14 00:00:00</td><td>2</td><td>clz</td><td>972</td><td>2310967</td></tr><tr><td>20</td><td>2019-12-01 00:00:00</td><td>1</td><td>pzz</td><td>1455</td><td>2310967</td></tr><tr><td>21</td><td>2019-06-08 00:00:00</td><td>4</td><td>qsd</td><td>497</td><td>5728566</td></tr><tr><td>22</td><td>2019-07-25 00:00:00</td><td>3</td><td>clz</td><td>1179</td><td>2310967</td></tr></table>"
                    },
                    "metadata": {}
                }
            ],
            "execution_count": 21
        },
        {
            "cell_type": "code",
            "source": [
                "SELECT * FROM ventas WHERE ID_local IN (1,2,3) AND clave_producto = \"pzz\";"
            ],
            "metadata": {
                "azdata_cell_guid": "13973a3a-45b9-4a42-b9f8-76382040787d",
                "language": "sql"
            },
            "outputs": [
                {
                    "output_type": "display_data",
                    "data": {
                        "text/html": "(7 row(s) affected)"
                    },
                    "metadata": {}
                },
                {
                    "output_type": "display_data",
                    "data": {
                        "text/html": "Total execution time: 00:00:01.016"
                    },
                    "metadata": {}
                },
                {
                    "output_type": "execute_result",
                    "execution_count": 22,
                    "data": {
                        "application/vnd.dataresource+json": {
                            "schema": {
                                "fields": [
                                    {
                                        "name": "ventas_id"
                                    },
                                    {
                                        "name": "Fecha"
                                    },
                                    {
                                        "name": "ID_local"
                                    },
                                    {
                                        "name": "clave_producto"
                                    },
                                    {
                                        "name": "venta"
                                    },
                                    {
                                        "name": "venta_empleado"
                                    }
                                ]
                            },
                            "data": [
                                {
                                    "ventas_id": "1",
                                    "Fecha": "2018-11-18 00:00:00",
                                    "ID_local": "2",
                                    "clave_producto": "pzz",
                                    "venta": "1302",
                                    "venta_empleado": "2630867"
                                },
                                {
                                    "ventas_id": "6",
                                    "Fecha": "2018-12-15 00:00:00",
                                    "ID_local": "3",
                                    "clave_producto": "pzz",
                                    "venta": "544",
                                    "venta_empleado": "9611338"
                                },
                                {
                                    "ventas_id": "8",
                                    "Fecha": "2018-10-05 00:00:00",
                                    "ID_local": "1",
                                    "clave_producto": "pzz",
                                    "venta": "435",
                                    "venta_empleado": "2520477"
                                },
                                {
                                    "ventas_id": "12",
                                    "Fecha": "2019-09-03 00:00:00",
                                    "ID_local": "1",
                                    "clave_producto": "pzz",
                                    "venta": "1362",
                                    "venta_empleado": "5728566"
                                },
                                {
                                    "ventas_id": "17",
                                    "Fecha": "2019-10-25 00:00:00",
                                    "ID_local": "1",
                                    "clave_producto": "pzz",
                                    "venta": "1376",
                                    "venta_empleado": "6332756"
                                },
                                {
                                    "ventas_id": "18",
                                    "Fecha": "2019-12-14 00:00:00",
                                    "ID_local": "3",
                                    "clave_producto": "pzz",
                                    "venta": "957",
                                    "venta_empleado": "2310967"
                                },
                                {
                                    "ventas_id": "20",
                                    "Fecha": "2019-12-01 00:00:00",
                                    "ID_local": "1",
                                    "clave_producto": "pzz",
                                    "venta": "1455",
                                    "venta_empleado": "2310967"
                                }
                            ]
                        },
                        "text/html": "<table><tr><th>ventas_id</th><th>Fecha</th><th>ID_local</th><th>clave_producto</th><th>venta</th><th>venta_empleado</th></tr><tr><td>1</td><td>2018-11-18 00:00:00</td><td>2</td><td>pzz</td><td>1302</td><td>2630867</td></tr><tr><td>6</td><td>2018-12-15 00:00:00</td><td>3</td><td>pzz</td><td>544</td><td>9611338</td></tr><tr><td>8</td><td>2018-10-05 00:00:00</td><td>1</td><td>pzz</td><td>435</td><td>2520477</td></tr><tr><td>12</td><td>2019-09-03 00:00:00</td><td>1</td><td>pzz</td><td>1362</td><td>5728566</td></tr><tr><td>17</td><td>2019-10-25 00:00:00</td><td>1</td><td>pzz</td><td>1376</td><td>6332756</td></tr><tr><td>18</td><td>2019-12-14 00:00:00</td><td>3</td><td>pzz</td><td>957</td><td>2310967</td></tr><tr><td>20</td><td>2019-12-01 00:00:00</td><td>1</td><td>pzz</td><td>1455</td><td>2310967</td></tr></table>"
                    },
                    "metadata": {}
                }
            ],
            "execution_count": 22
        },
        {
            "cell_type": "code",
            "source": [
                "SELECT * FROM ventas WHERE ID_local IN (1,2,3) AND clave_producto IN (\"clz\", \"pzz\");"
            ],
            "metadata": {
                "azdata_cell_guid": "1f0d67e8-1b1e-444a-bb76-36371b44ccec",
                "language": "sql"
            },
            "outputs": [
                {
                    "output_type": "display_data",
                    "data": {
                        "text/html": "(11 row(s) affected)"
                    },
                    "metadata": {}
                },
                {
                    "output_type": "display_data",
                    "data": {
                        "text/html": "Total execution time: 00:00:01.005"
                    },
                    "metadata": {}
                },
                {
                    "output_type": "execute_result",
                    "execution_count": 23,
                    "data": {
                        "application/vnd.dataresource+json": {
                            "schema": {
                                "fields": [
                                    {
                                        "name": "ventas_id"
                                    },
                                    {
                                        "name": "Fecha"
                                    },
                                    {
                                        "name": "ID_local"
                                    },
                                    {
                                        "name": "clave_producto"
                                    },
                                    {
                                        "name": "venta"
                                    },
                                    {
                                        "name": "venta_empleado"
                                    }
                                ]
                            },
                            "data": [
                                {
                                    "ventas_id": "1",
                                    "Fecha": "2018-11-18 00:00:00",
                                    "ID_local": "2",
                                    "clave_producto": "pzz",
                                    "venta": "1302",
                                    "venta_empleado": "2630867"
                                },
                                {
                                    "ventas_id": "2",
                                    "Fecha": "2018-09-17 00:00:00",
                                    "ID_local": "2",
                                    "clave_producto": "clz",
                                    "venta": "953",
                                    "venta_empleado": "2310967"
                                },
                                {
                                    "ventas_id": "6",
                                    "Fecha": "2018-12-15 00:00:00",
                                    "ID_local": "3",
                                    "clave_producto": "pzz",
                                    "venta": "544",
                                    "venta_empleado": "9611338"
                                },
                                {
                                    "ventas_id": "8",
                                    "Fecha": "2018-10-05 00:00:00",
                                    "ID_local": "1",
                                    "clave_producto": "pzz",
                                    "venta": "435",
                                    "venta_empleado": "2520477"
                                },
                                {
                                    "ventas_id": "12",
                                    "Fecha": "2019-09-03 00:00:00",
                                    "ID_local": "1",
                                    "clave_producto": "pzz",
                                    "venta": "1362",
                                    "venta_empleado": "5728566"
                                },
                                {
                                    "ventas_id": "14",
                                    "Fecha": "2019-08-27 00:00:00",
                                    "ID_local": "3",
                                    "clave_producto": "clz",
                                    "venta": "303",
                                    "venta_empleado": "3833745"
                                },
                                {
                                    "ventas_id": "17",
                                    "Fecha": "2019-10-25 00:00:00",
                                    "ID_local": "1",
                                    "clave_producto": "pzz",
                                    "venta": "1376",
                                    "venta_empleado": "6332756"
                                },
                                {
                                    "ventas_id": "18",
                                    "Fecha": "2019-12-14 00:00:00",
                                    "ID_local": "3",
                                    "clave_producto": "pzz",
                                    "venta": "957",
                                    "venta_empleado": "2310967"
                                },
                                {
                                    "ventas_id": "19",
                                    "Fecha": "2019-08-14 00:00:00",
                                    "ID_local": "2",
                                    "clave_producto": "clz",
                                    "venta": "972",
                                    "venta_empleado": "2310967"
                                },
                                {
                                    "ventas_id": "20",
                                    "Fecha": "2019-12-01 00:00:00",
                                    "ID_local": "1",
                                    "clave_producto": "pzz",
                                    "venta": "1455",
                                    "venta_empleado": "2310967"
                                },
                                {
                                    "ventas_id": "22",
                                    "Fecha": "2019-07-25 00:00:00",
                                    "ID_local": "3",
                                    "clave_producto": "clz",
                                    "venta": "1179",
                                    "venta_empleado": "2310967"
                                }
                            ]
                        },
                        "text/html": "<table><tr><th>ventas_id</th><th>Fecha</th><th>ID_local</th><th>clave_producto</th><th>venta</th><th>venta_empleado</th></tr><tr><td>1</td><td>2018-11-18 00:00:00</td><td>2</td><td>pzz</td><td>1302</td><td>2630867</td></tr><tr><td>2</td><td>2018-09-17 00:00:00</td><td>2</td><td>clz</td><td>953</td><td>2310967</td></tr><tr><td>6</td><td>2018-12-15 00:00:00</td><td>3</td><td>pzz</td><td>544</td><td>9611338</td></tr><tr><td>8</td><td>2018-10-05 00:00:00</td><td>1</td><td>pzz</td><td>435</td><td>2520477</td></tr><tr><td>12</td><td>2019-09-03 00:00:00</td><td>1</td><td>pzz</td><td>1362</td><td>5728566</td></tr><tr><td>14</td><td>2019-08-27 00:00:00</td><td>3</td><td>clz</td><td>303</td><td>3833745</td></tr><tr><td>17</td><td>2019-10-25 00:00:00</td><td>1</td><td>pzz</td><td>1376</td><td>6332756</td></tr><tr><td>18</td><td>2019-12-14 00:00:00</td><td>3</td><td>pzz</td><td>957</td><td>2310967</td></tr><tr><td>19</td><td>2019-08-14 00:00:00</td><td>2</td><td>clz</td><td>972</td><td>2310967</td></tr><tr><td>20</td><td>2019-12-01 00:00:00</td><td>1</td><td>pzz</td><td>1455</td><td>2310967</td></tr><tr><td>22</td><td>2019-07-25 00:00:00</td><td>3</td><td>clz</td><td>1179</td><td>2310967</td></tr></table>"
                    },
                    "metadata": {}
                }
            ],
            "execution_count": 23
        },
        {
            "cell_type": "code",
            "source": [
                "SELECT * FROM ventas WHERE venta >= 500 AND venta < 1000;"
            ],
            "metadata": {
                "azdata_cell_guid": "f033ea38-d447-4da0-9533-2656c9fb314d",
                "language": "sql"
            },
            "outputs": [
                {
                    "output_type": "display_data",
                    "data": {
                        "text/html": "(6 row(s) affected)"
                    },
                    "metadata": {}
                },
                {
                    "output_type": "display_data",
                    "data": {
                        "text/html": "Total execution time: 00:00:01.018"
                    },
                    "metadata": {}
                },
                {
                    "output_type": "execute_result",
                    "execution_count": 24,
                    "data": {
                        "application/vnd.dataresource+json": {
                            "schema": {
                                "fields": [
                                    {
                                        "name": "ventas_id"
                                    },
                                    {
                                        "name": "Fecha"
                                    },
                                    {
                                        "name": "ID_local"
                                    },
                                    {
                                        "name": "clave_producto"
                                    },
                                    {
                                        "name": "venta"
                                    },
                                    {
                                        "name": "venta_empleado"
                                    }
                                ]
                            },
                            "data": [
                                {
                                    "ventas_id": "6",
                                    "Fecha": "2018-12-15 00:00:00",
                                    "ID_local": "3",
                                    "clave_producto": "pzz",
                                    "venta": "544",
                                    "venta_empleado": "9611338"
                                },
                                {
                                    "ventas_id": "15",
                                    "Fecha": "2019-12-15 00:00:00",
                                    "ID_local": "1",
                                    "clave_producto": "brr",
                                    "venta": "871",
                                    "venta_empleado": "2520477"
                                },
                                {
                                    "ventas_id": "4",
                                    "Fecha": "2018-10-30 00:00:00",
                                    "ID_local": "1",
                                    "clave_producto": "brr",
                                    "venta": "889",
                                    "venta_empleado": "9922377"
                                },
                                {
                                    "ventas_id": "2",
                                    "Fecha": "2018-09-17 00:00:00",
                                    "ID_local": "2",
                                    "clave_producto": "clz",
                                    "venta": "953",
                                    "venta_empleado": "2310967"
                                },
                                {
                                    "ventas_id": "18",
                                    "Fecha": "2019-12-14 00:00:00",
                                    "ID_local": "3",
                                    "clave_producto": "pzz",
                                    "venta": "957",
                                    "venta_empleado": "2310967"
                                },
                                {
                                    "ventas_id": "19",
                                    "Fecha": "2019-08-14 00:00:00",
                                    "ID_local": "2",
                                    "clave_producto": "clz",
                                    "venta": "972",
                                    "venta_empleado": "2310967"
                                }
                            ]
                        },
                        "text/html": "<table><tr><th>ventas_id</th><th>Fecha</th><th>ID_local</th><th>clave_producto</th><th>venta</th><th>venta_empleado</th></tr><tr><td>6</td><td>2018-12-15 00:00:00</td><td>3</td><td>pzz</td><td>544</td><td>9611338</td></tr><tr><td>15</td><td>2019-12-15 00:00:00</td><td>1</td><td>brr</td><td>871</td><td>2520477</td></tr><tr><td>4</td><td>2018-10-30 00:00:00</td><td>1</td><td>brr</td><td>889</td><td>9922377</td></tr><tr><td>2</td><td>2018-09-17 00:00:00</td><td>2</td><td>clz</td><td>953</td><td>2310967</td></tr><tr><td>18</td><td>2019-12-14 00:00:00</td><td>3</td><td>pzz</td><td>957</td><td>2310967</td></tr><tr><td>19</td><td>2019-08-14 00:00:00</td><td>2</td><td>clz</td><td>972</td><td>2310967</td></tr></table>"
                    },
                    "metadata": {}
                }
            ],
            "execution_count": 24
        },
        {
            "cell_type": "code",
            "source": [
                "SELECT * FROM ventas WHERE venta BETWEEN 500 AND 1000;"
            ],
            "metadata": {
                "azdata_cell_guid": "cf187ba0-f558-4775-9c70-ceaf43b0058f",
                "language": "sql"
            },
            "outputs": [
                {
                    "output_type": "display_data",
                    "data": {
                        "text/html": "(6 row(s) affected)"
                    },
                    "metadata": {}
                },
                {
                    "output_type": "display_data",
                    "data": {
                        "text/html": "Total execution time: 00:00:01.019"
                    },
                    "metadata": {}
                },
                {
                    "output_type": "execute_result",
                    "execution_count": 25,
                    "data": {
                        "application/vnd.dataresource+json": {
                            "schema": {
                                "fields": [
                                    {
                                        "name": "ventas_id"
                                    },
                                    {
                                        "name": "Fecha"
                                    },
                                    {
                                        "name": "ID_local"
                                    },
                                    {
                                        "name": "clave_producto"
                                    },
                                    {
                                        "name": "venta"
                                    },
                                    {
                                        "name": "venta_empleado"
                                    }
                                ]
                            },
                            "data": [
                                {
                                    "ventas_id": "6",
                                    "Fecha": "2018-12-15 00:00:00",
                                    "ID_local": "3",
                                    "clave_producto": "pzz",
                                    "venta": "544",
                                    "venta_empleado": "9611338"
                                },
                                {
                                    "ventas_id": "15",
                                    "Fecha": "2019-12-15 00:00:00",
                                    "ID_local": "1",
                                    "clave_producto": "brr",
                                    "venta": "871",
                                    "venta_empleado": "2520477"
                                },
                                {
                                    "ventas_id": "4",
                                    "Fecha": "2018-10-30 00:00:00",
                                    "ID_local": "1",
                                    "clave_producto": "brr",
                                    "venta": "889",
                                    "venta_empleado": "9922377"
                                },
                                {
                                    "ventas_id": "2",
                                    "Fecha": "2018-09-17 00:00:00",
                                    "ID_local": "2",
                                    "clave_producto": "clz",
                                    "venta": "953",
                                    "venta_empleado": "2310967"
                                },
                                {
                                    "ventas_id": "18",
                                    "Fecha": "2019-12-14 00:00:00",
                                    "ID_local": "3",
                                    "clave_producto": "pzz",
                                    "venta": "957",
                                    "venta_empleado": "2310967"
                                },
                                {
                                    "ventas_id": "19",
                                    "Fecha": "2019-08-14 00:00:00",
                                    "ID_local": "2",
                                    "clave_producto": "clz",
                                    "venta": "972",
                                    "venta_empleado": "2310967"
                                }
                            ]
                        },
                        "text/html": "<table><tr><th>ventas_id</th><th>Fecha</th><th>ID_local</th><th>clave_producto</th><th>venta</th><th>venta_empleado</th></tr><tr><td>6</td><td>2018-12-15 00:00:00</td><td>3</td><td>pzz</td><td>544</td><td>9611338</td></tr><tr><td>15</td><td>2019-12-15 00:00:00</td><td>1</td><td>brr</td><td>871</td><td>2520477</td></tr><tr><td>4</td><td>2018-10-30 00:00:00</td><td>1</td><td>brr</td><td>889</td><td>9922377</td></tr><tr><td>2</td><td>2018-09-17 00:00:00</td><td>2</td><td>clz</td><td>953</td><td>2310967</td></tr><tr><td>18</td><td>2019-12-14 00:00:00</td><td>3</td><td>pzz</td><td>957</td><td>2310967</td></tr><tr><td>19</td><td>2019-08-14 00:00:00</td><td>2</td><td>clz</td><td>972</td><td>2310967</td></tr></table>"
                    },
                    "metadata": {}
                }
            ],
            "execution_count": 25
        },
        {
            "cell_type": "code",
            "source": [
                "SELECT * FROM ventas WHERE clave_producto =\"z\";"
            ],
            "metadata": {
                "azdata_cell_guid": "03467891-64d9-42a0-a3f2-dcc68772a8fa",
                "language": "sql"
            },
            "outputs": [
                {
                    "output_type": "display_data",
                    "data": {
                        "text/html": "(0 row(s) affected)"
                    },
                    "metadata": {}
                },
                {
                    "output_type": "display_data",
                    "data": {
                        "text/html": "Total execution time: 00:00:01.017"
                    },
                    "metadata": {}
                },
                {
                    "output_type": "execute_result",
                    "execution_count": 26,
                    "data": {
                        "application/vnd.dataresource+json": {
                            "schema": {
                                "fields": [
                                    {
                                        "name": "ventas_id"
                                    },
                                    {
                                        "name": "Fecha"
                                    },
                                    {
                                        "name": "ID_local"
                                    },
                                    {
                                        "name": "clave_producto"
                                    },
                                    {
                                        "name": "venta"
                                    },
                                    {
                                        "name": "venta_empleado"
                                    }
                                ]
                            },
                            "data": []
                        },
                        "text/html": "<table><tr><th>ventas_id</th><th>Fecha</th><th>ID_local</th><th>clave_producto</th><th>venta</th><th>venta_empleado</th></tr></table>"
                    },
                    "metadata": {}
                }
            ],
            "execution_count": 26
        },
        {
            "cell_type": "code",
            "source": [
                "SELECT * FROM ventas WHERE clave_producto LIKE \"%z\";"
            ],
            "metadata": {
                "azdata_cell_guid": "7d5aa30d-5173-42d6-b9cb-4e3e569bcb46",
                "language": "sql"
            },
            "outputs": [
                {
                    "output_type": "display_data",
                    "data": {
                        "text/html": "(12 row(s) affected)"
                    },
                    "metadata": {}
                },
                {
                    "output_type": "display_data",
                    "data": {
                        "text/html": "Total execution time: 00:00:01.014"
                    },
                    "metadata": {}
                },
                {
                    "output_type": "execute_result",
                    "execution_count": 27,
                    "data": {
                        "application/vnd.dataresource+json": {
                            "schema": {
                                "fields": [
                                    {
                                        "name": "ventas_id"
                                    },
                                    {
                                        "name": "Fecha"
                                    },
                                    {
                                        "name": "ID_local"
                                    },
                                    {
                                        "name": "clave_producto"
                                    },
                                    {
                                        "name": "venta"
                                    },
                                    {
                                        "name": "venta_empleado"
                                    }
                                ]
                            },
                            "data": [
                                {
                                    "ventas_id": "1",
                                    "Fecha": "2018-11-18 00:00:00",
                                    "ID_local": "2",
                                    "clave_producto": "pzz",
                                    "venta": "1302",
                                    "venta_empleado": "2630867"
                                },
                                {
                                    "ventas_id": "2",
                                    "Fecha": "2018-09-17 00:00:00",
                                    "ID_local": "2",
                                    "clave_producto": "clz",
                                    "venta": "953",
                                    "venta_empleado": "2310967"
                                },
                                {
                                    "ventas_id": "6",
                                    "Fecha": "2018-12-15 00:00:00",
                                    "ID_local": "3",
                                    "clave_producto": "pzz",
                                    "venta": "544",
                                    "venta_empleado": "9611338"
                                },
                                {
                                    "ventas_id": "7",
                                    "Fecha": "2018-07-28 00:00:00",
                                    "ID_local": "4",
                                    "clave_producto": "pzz",
                                    "venta": "1444",
                                    "venta_empleado": "6332756"
                                },
                                {
                                    "ventas_id": "8",
                                    "Fecha": "2018-10-05 00:00:00",
                                    "ID_local": "1",
                                    "clave_producto": "pzz",
                                    "venta": "435",
                                    "venta_empleado": "2520477"
                                },
                                {
                                    "ventas_id": "12",
                                    "Fecha": "2019-09-03 00:00:00",
                                    "ID_local": "1",
                                    "clave_producto": "pzz",
                                    "venta": "1362",
                                    "venta_empleado": "5728566"
                                },
                                {
                                    "ventas_id": "14",
                                    "Fecha": "2019-08-27 00:00:00",
                                    "ID_local": "3",
                                    "clave_producto": "clz",
                                    "venta": "303",
                                    "venta_empleado": "3833745"
                                },
                                {
                                    "ventas_id": "17",
                                    "Fecha": "2019-10-25 00:00:00",
                                    "ID_local": "1",
                                    "clave_producto": "pzz",
                                    "venta": "1376",
                                    "venta_empleado": "6332756"
                                },
                                {
                                    "ventas_id": "18",
                                    "Fecha": "2019-12-14 00:00:00",
                                    "ID_local": "3",
                                    "clave_producto": "pzz",
                                    "venta": "957",
                                    "venta_empleado": "2310967"
                                },
                                {
                                    "ventas_id": "19",
                                    "Fecha": "2019-08-14 00:00:00",
                                    "ID_local": "2",
                                    "clave_producto": "clz",
                                    "venta": "972",
                                    "venta_empleado": "2310967"
                                },
                                {
                                    "ventas_id": "20",
                                    "Fecha": "2019-12-01 00:00:00",
                                    "ID_local": "1",
                                    "clave_producto": "pzz",
                                    "venta": "1455",
                                    "venta_empleado": "2310967"
                                },
                                {
                                    "ventas_id": "22",
                                    "Fecha": "2019-07-25 00:00:00",
                                    "ID_local": "3",
                                    "clave_producto": "clz",
                                    "venta": "1179",
                                    "venta_empleado": "2310967"
                                }
                            ]
                        },
                        "text/html": "<table><tr><th>ventas_id</th><th>Fecha</th><th>ID_local</th><th>clave_producto</th><th>venta</th><th>venta_empleado</th></tr><tr><td>1</td><td>2018-11-18 00:00:00</td><td>2</td><td>pzz</td><td>1302</td><td>2630867</td></tr><tr><td>2</td><td>2018-09-17 00:00:00</td><td>2</td><td>clz</td><td>953</td><td>2310967</td></tr><tr><td>6</td><td>2018-12-15 00:00:00</td><td>3</td><td>pzz</td><td>544</td><td>9611338</td></tr><tr><td>7</td><td>2018-07-28 00:00:00</td><td>4</td><td>pzz</td><td>1444</td><td>6332756</td></tr><tr><td>8</td><td>2018-10-05 00:00:00</td><td>1</td><td>pzz</td><td>435</td><td>2520477</td></tr><tr><td>12</td><td>2019-09-03 00:00:00</td><td>1</td><td>pzz</td><td>1362</td><td>5728566</td></tr><tr><td>14</td><td>2019-08-27 00:00:00</td><td>3</td><td>clz</td><td>303</td><td>3833745</td></tr><tr><td>17</td><td>2019-10-25 00:00:00</td><td>1</td><td>pzz</td><td>1376</td><td>6332756</td></tr><tr><td>18</td><td>2019-12-14 00:00:00</td><td>3</td><td>pzz</td><td>957</td><td>2310967</td></tr><tr><td>19</td><td>2019-08-14 00:00:00</td><td>2</td><td>clz</td><td>972</td><td>2310967</td></tr><tr><td>20</td><td>2019-12-01 00:00:00</td><td>1</td><td>pzz</td><td>1455</td><td>2310967</td></tr><tr><td>22</td><td>2019-07-25 00:00:00</td><td>3</td><td>clz</td><td>1179</td><td>2310967</td></tr></table>"
                    },
                    "metadata": {}
                }
            ],
            "execution_count": 27
        },
        {
            "cell_type": "code",
            "source": [
                "SELECT * FROM ventas WHERE clave_producto LIKE \"c%\";"
            ],
            "metadata": {
                "azdata_cell_guid": "d36babe1-18f5-4c62-93d0-bbc9e4073b5a",
                "language": "sql"
            },
            "outputs": [
                {
                    "output_type": "display_data",
                    "data": {
                        "text/html": "(4 row(s) affected)"
                    },
                    "metadata": {}
                },
                {
                    "output_type": "display_data",
                    "data": {
                        "text/html": "Total execution time: 00:00:01.008"
                    },
                    "metadata": {}
                },
                {
                    "output_type": "execute_result",
                    "execution_count": 28,
                    "data": {
                        "application/vnd.dataresource+json": {
                            "schema": {
                                "fields": [
                                    {
                                        "name": "ventas_id"
                                    },
                                    {
                                        "name": "Fecha"
                                    },
                                    {
                                        "name": "ID_local"
                                    },
                                    {
                                        "name": "clave_producto"
                                    },
                                    {
                                        "name": "venta"
                                    },
                                    {
                                        "name": "venta_empleado"
                                    }
                                ]
                            },
                            "data": [
                                {
                                    "ventas_id": "2",
                                    "Fecha": "2018-09-17 00:00:00",
                                    "ID_local": "2",
                                    "clave_producto": "clz",
                                    "venta": "953",
                                    "venta_empleado": "2310967"
                                },
                                {
                                    "ventas_id": "14",
                                    "Fecha": "2019-08-27 00:00:00",
                                    "ID_local": "3",
                                    "clave_producto": "clz",
                                    "venta": "303",
                                    "venta_empleado": "3833745"
                                },
                                {
                                    "ventas_id": "19",
                                    "Fecha": "2019-08-14 00:00:00",
                                    "ID_local": "2",
                                    "clave_producto": "clz",
                                    "venta": "972",
                                    "venta_empleado": "2310967"
                                },
                                {
                                    "ventas_id": "22",
                                    "Fecha": "2019-07-25 00:00:00",
                                    "ID_local": "3",
                                    "clave_producto": "clz",
                                    "venta": "1179",
                                    "venta_empleado": "2310967"
                                }
                            ]
                        },
                        "text/html": "<table><tr><th>ventas_id</th><th>Fecha</th><th>ID_local</th><th>clave_producto</th><th>venta</th><th>venta_empleado</th></tr><tr><td>2</td><td>2018-09-17 00:00:00</td><td>2</td><td>clz</td><td>953</td><td>2310967</td></tr><tr><td>14</td><td>2019-08-27 00:00:00</td><td>3</td><td>clz</td><td>303</td><td>3833745</td></tr><tr><td>19</td><td>2019-08-14 00:00:00</td><td>2</td><td>clz</td><td>972</td><td>2310967</td></tr><tr><td>22</td><td>2019-07-25 00:00:00</td><td>3</td><td>clz</td><td>1179</td><td>2310967</td></tr></table>"
                    },
                    "metadata": {}
                }
            ],
            "execution_count": 28
        },
        {
            "cell_type": "code",
            "source": [
                "SELECT * FROM ventas WHERE clave_producto LIKE \"%d\";"
            ],
            "metadata": {
                "azdata_cell_guid": "2b982b4f-65d5-4eec-afd3-e2b6aa542165",
                "language": "sql"
            },
            "outputs": [
                {
                    "output_type": "display_data",
                    "data": {
                        "text/html": "(4 row(s) affected)"
                    },
                    "metadata": {}
                },
                {
                    "output_type": "display_data",
                    "data": {
                        "text/html": "Total execution time: 00:00:01.016"
                    },
                    "metadata": {}
                },
                {
                    "output_type": "execute_result",
                    "execution_count": 29,
                    "data": {
                        "application/vnd.dataresource+json": {
                            "schema": {
                                "fields": [
                                    {
                                        "name": "ventas_id"
                                    },
                                    {
                                        "name": "Fecha"
                                    },
                                    {
                                        "name": "ID_local"
                                    },
                                    {
                                        "name": "clave_producto"
                                    },
                                    {
                                        "name": "venta"
                                    },
                                    {
                                        "name": "venta_empleado"
                                    }
                                ]
                            },
                            "data": [
                                {
                                    "ventas_id": "5",
                                    "Fecha": "2018-05-16 00:00:00",
                                    "ID_local": "1",
                                    "clave_producto": "qsd",
                                    "venta": "495",
                                    "venta_empleado": "2520477"
                                },
                                {
                                    "ventas_id": "9",
                                    "Fecha": "2018-04-20 00:00:00",
                                    "ID_local": "1",
                                    "clave_producto": "qsd",
                                    "venta": "1203",
                                    "venta_empleado": "9922377"
                                },
                                {
                                    "ventas_id": "13",
                                    "Fecha": "2019-07-16 00:00:00",
                                    "ID_local": "3",
                                    "clave_producto": "qsd",
                                    "venta": "1054",
                                    "venta_empleado": "2310967"
                                },
                                {
                                    "ventas_id": "21",
                                    "Fecha": "2019-06-08 00:00:00",
                                    "ID_local": "4",
                                    "clave_producto": "qsd",
                                    "venta": "497",
                                    "venta_empleado": "5728566"
                                }
                            ]
                        },
                        "text/html": "<table><tr><th>ventas_id</th><th>Fecha</th><th>ID_local</th><th>clave_producto</th><th>venta</th><th>venta_empleado</th></tr><tr><td>5</td><td>2018-05-16 00:00:00</td><td>1</td><td>qsd</td><td>495</td><td>2520477</td></tr><tr><td>9</td><td>2018-04-20 00:00:00</td><td>1</td><td>qsd</td><td>1203</td><td>9922377</td></tr><tr><td>13</td><td>2019-07-16 00:00:00</td><td>3</td><td>qsd</td><td>1054</td><td>2310967</td></tr><tr><td>21</td><td>2019-06-08 00:00:00</td><td>4</td><td>qsd</td><td>497</td><td>5728566</td></tr></table>"
                    },
                    "metadata": {}
                }
            ],
            "execution_count": 29
        },
        {
            "cell_type": "code",
            "source": [
                "SELECT * FROM ventas WHERE clave_producto LIKE \"_z\";"
            ],
            "metadata": {
                "azdata_cell_guid": "a3a3071b-4082-4fb2-914c-95c062c6e206",
                "language": "sql"
            },
            "outputs": [
                {
                    "output_type": "display_data",
                    "data": {
                        "text/html": "(0 row(s) affected)"
                    },
                    "metadata": {}
                },
                {
                    "output_type": "display_data",
                    "data": {
                        "text/html": "Total execution time: 00:00:01.007"
                    },
                    "metadata": {}
                },
                {
                    "output_type": "execute_result",
                    "execution_count": 30,
                    "data": {
                        "application/vnd.dataresource+json": {
                            "schema": {
                                "fields": [
                                    {
                                        "name": "ventas_id"
                                    },
                                    {
                                        "name": "Fecha"
                                    },
                                    {
                                        "name": "ID_local"
                                    },
                                    {
                                        "name": "clave_producto"
                                    },
                                    {
                                        "name": "venta"
                                    },
                                    {
                                        "name": "venta_empleado"
                                    }
                                ]
                            },
                            "data": []
                        },
                        "text/html": "<table><tr><th>ventas_id</th><th>Fecha</th><th>ID_local</th><th>clave_producto</th><th>venta</th><th>venta_empleado</th></tr></table>"
                    },
                    "metadata": {}
                }
            ],
            "execution_count": 30
        },
        {
            "cell_type": "code",
            "source": [
                "USE datos;"
            ],
            "metadata": {
                "azdata_cell_guid": "fc88da46-0ae9-4661-9735-001eb7fe638a",
                "language": "sql"
            },
            "outputs": [
                {
                    "output_type": "display_data",
                    "data": {
                        "text/html": "Commands completed successfully"
                    },
                    "metadata": {}
                },
                {
                    "output_type": "display_data",
                    "data": {
                        "text/html": "Total execution time: 00:00:00.001"
                    },
                    "metadata": {}
                }
            ],
            "execution_count": 3
        },
        {
            "cell_type": "code",
            "source": [
                "SELECT * FROM ventas WHERE clave_producto LIKE \"_z_\";"
            ],
            "metadata": {
                "azdata_cell_guid": "ace56ad8-66a0-4fee-8ecd-833d9489dfb5",
                "language": "sql"
            },
            "outputs": [
                {
                    "output_type": "display_data",
                    "data": {
                        "text/html": "(8 row(s) affected)"
                    },
                    "metadata": {}
                },
                {
                    "output_type": "display_data",
                    "data": {
                        "text/html": "Total execution time: 00:00:01.013"
                    },
                    "metadata": {}
                },
                {
                    "output_type": "execute_result",
                    "metadata": {},
                    "execution_count": 4,
                    "data": {
                        "application/vnd.dataresource+json": {
                            "schema": {
                                "fields": [
                                    {
                                        "name": "ventas_id"
                                    },
                                    {
                                        "name": "Fecha"
                                    },
                                    {
                                        "name": "ID_local"
                                    },
                                    {
                                        "name": "clave_producto"
                                    },
                                    {
                                        "name": "venta"
                                    },
                                    {
                                        "name": "venta_empleado"
                                    }
                                ]
                            },
                            "data": [
                                {
                                    "ventas_id": "1",
                                    "Fecha": "2018-11-18 00:00:00",
                                    "ID_local": "2",
                                    "clave_producto": "pzz",
                                    "venta": "1302",
                                    "venta_empleado": "2630867"
                                },
                                {
                                    "ventas_id": "6",
                                    "Fecha": "2018-12-15 00:00:00",
                                    "ID_local": "3",
                                    "clave_producto": "pzz",
                                    "venta": "544",
                                    "venta_empleado": "9611338"
                                },
                                {
                                    "ventas_id": "7",
                                    "Fecha": "2018-07-28 00:00:00",
                                    "ID_local": "4",
                                    "clave_producto": "pzz",
                                    "venta": "1444",
                                    "venta_empleado": "6332756"
                                },
                                {
                                    "ventas_id": "8",
                                    "Fecha": "2018-10-05 00:00:00",
                                    "ID_local": "1",
                                    "clave_producto": "pzz",
                                    "venta": "435",
                                    "venta_empleado": "2520477"
                                },
                                {
                                    "ventas_id": "12",
                                    "Fecha": "2019-09-03 00:00:00",
                                    "ID_local": "1",
                                    "clave_producto": "pzz",
                                    "venta": "1362",
                                    "venta_empleado": "5728566"
                                },
                                {
                                    "ventas_id": "17",
                                    "Fecha": "2019-10-25 00:00:00",
                                    "ID_local": "1",
                                    "clave_producto": "pzz",
                                    "venta": "1376",
                                    "venta_empleado": "6332756"
                                },
                                {
                                    "ventas_id": "18",
                                    "Fecha": "2019-12-14 00:00:00",
                                    "ID_local": "3",
                                    "clave_producto": "pzz",
                                    "venta": "957",
                                    "venta_empleado": "2310967"
                                },
                                {
                                    "ventas_id": "20",
                                    "Fecha": "2019-12-01 00:00:00",
                                    "ID_local": "1",
                                    "clave_producto": "pzz",
                                    "venta": "1455",
                                    "venta_empleado": "2310967"
                                }
                            ]
                        },
                        "text/html": [
                            "<table>",
                            "<tr><th>ventas_id</th><th>Fecha</th><th>ID_local</th><th>clave_producto</th><th>venta</th><th>venta_empleado</th></tr>",
                            "<tr><td>1</td><td>2018-11-18 00:00:00</td><td>2</td><td>pzz</td><td>1302</td><td>2630867</td></tr>",
                            "<tr><td>6</td><td>2018-12-15 00:00:00</td><td>3</td><td>pzz</td><td>544</td><td>9611338</td></tr>",
                            "<tr><td>7</td><td>2018-07-28 00:00:00</td><td>4</td><td>pzz</td><td>1444</td><td>6332756</td></tr>",
                            "<tr><td>8</td><td>2018-10-05 00:00:00</td><td>1</td><td>pzz</td><td>435</td><td>2520477</td></tr>",
                            "<tr><td>12</td><td>2019-09-03 00:00:00</td><td>1</td><td>pzz</td><td>1362</td><td>5728566</td></tr>",
                            "<tr><td>17</td><td>2019-10-25 00:00:00</td><td>1</td><td>pzz</td><td>1376</td><td>6332756</td></tr>",
                            "<tr><td>18</td><td>2019-12-14 00:00:00</td><td>3</td><td>pzz</td><td>957</td><td>2310967</td></tr>",
                            "<tr><td>20</td><td>2019-12-01 00:00:00</td><td>1</td><td>pzz</td><td>1455</td><td>2310967</td></tr>",
                            "</table>"
                        ]
                    }
                }
            ],
            "execution_count": 4
        },
        {
            "cell_type": "code",
            "source": [
                "SELECT * FROM ventas WHERE clave_producto LIKE \"__z\";"
            ],
            "metadata": {
                "azdata_cell_guid": "c6967a98-b936-4ef9-bae2-e017719104d2",
                "language": "sql"
            },
            "outputs": [
                {
                    "output_type": "display_data",
                    "data": {
                        "text/html": "(12 row(s) affected)"
                    },
                    "metadata": {}
                },
                {
                    "output_type": "display_data",
                    "data": {
                        "text/html": "Total execution time: 00:00:01.006"
                    },
                    "metadata": {}
                },
                {
                    "output_type": "execute_result",
                    "metadata": {},
                    "execution_count": 5,
                    "data": {
                        "application/vnd.dataresource+json": {
                            "schema": {
                                "fields": [
                                    {
                                        "name": "ventas_id"
                                    },
                                    {
                                        "name": "Fecha"
                                    },
                                    {
                                        "name": "ID_local"
                                    },
                                    {
                                        "name": "clave_producto"
                                    },
                                    {
                                        "name": "venta"
                                    },
                                    {
                                        "name": "venta_empleado"
                                    }
                                ]
                            },
                            "data": [
                                {
                                    "ventas_id": "1",
                                    "Fecha": "2018-11-18 00:00:00",
                                    "ID_local": "2",
                                    "clave_producto": "pzz",
                                    "venta": "1302",
                                    "venta_empleado": "2630867"
                                },
                                {
                                    "ventas_id": "2",
                                    "Fecha": "2018-09-17 00:00:00",
                                    "ID_local": "2",
                                    "clave_producto": "clz",
                                    "venta": "953",
                                    "venta_empleado": "2310967"
                                },
                                {
                                    "ventas_id": "6",
                                    "Fecha": "2018-12-15 00:00:00",
                                    "ID_local": "3",
                                    "clave_producto": "pzz",
                                    "venta": "544",
                                    "venta_empleado": "9611338"
                                },
                                {
                                    "ventas_id": "7",
                                    "Fecha": "2018-07-28 00:00:00",
                                    "ID_local": "4",
                                    "clave_producto": "pzz",
                                    "venta": "1444",
                                    "venta_empleado": "6332756"
                                },
                                {
                                    "ventas_id": "8",
                                    "Fecha": "2018-10-05 00:00:00",
                                    "ID_local": "1",
                                    "clave_producto": "pzz",
                                    "venta": "435",
                                    "venta_empleado": "2520477"
                                },
                                {
                                    "ventas_id": "12",
                                    "Fecha": "2019-09-03 00:00:00",
                                    "ID_local": "1",
                                    "clave_producto": "pzz",
                                    "venta": "1362",
                                    "venta_empleado": "5728566"
                                },
                                {
                                    "ventas_id": "14",
                                    "Fecha": "2019-08-27 00:00:00",
                                    "ID_local": "3",
                                    "clave_producto": "clz",
                                    "venta": "303",
                                    "venta_empleado": "3833745"
                                },
                                {
                                    "ventas_id": "17",
                                    "Fecha": "2019-10-25 00:00:00",
                                    "ID_local": "1",
                                    "clave_producto": "pzz",
                                    "venta": "1376",
                                    "venta_empleado": "6332756"
                                },
                                {
                                    "ventas_id": "18",
                                    "Fecha": "2019-12-14 00:00:00",
                                    "ID_local": "3",
                                    "clave_producto": "pzz",
                                    "venta": "957",
                                    "venta_empleado": "2310967"
                                },
                                {
                                    "ventas_id": "19",
                                    "Fecha": "2019-08-14 00:00:00",
                                    "ID_local": "2",
                                    "clave_producto": "clz",
                                    "venta": "972",
                                    "venta_empleado": "2310967"
                                },
                                {
                                    "ventas_id": "20",
                                    "Fecha": "2019-12-01 00:00:00",
                                    "ID_local": "1",
                                    "clave_producto": "pzz",
                                    "venta": "1455",
                                    "venta_empleado": "2310967"
                                },
                                {
                                    "ventas_id": "22",
                                    "Fecha": "2019-07-25 00:00:00",
                                    "ID_local": "3",
                                    "clave_producto": "clz",
                                    "venta": "1179",
                                    "venta_empleado": "2310967"
                                }
                            ]
                        },
                        "text/html": [
                            "<table>",
                            "<tr><th>ventas_id</th><th>Fecha</th><th>ID_local</th><th>clave_producto</th><th>venta</th><th>venta_empleado</th></tr>",
                            "<tr><td>1</td><td>2018-11-18 00:00:00</td><td>2</td><td>pzz</td><td>1302</td><td>2630867</td></tr>",
                            "<tr><td>2</td><td>2018-09-17 00:00:00</td><td>2</td><td>clz</td><td>953</td><td>2310967</td></tr>",
                            "<tr><td>6</td><td>2018-12-15 00:00:00</td><td>3</td><td>pzz</td><td>544</td><td>9611338</td></tr>",
                            "<tr><td>7</td><td>2018-07-28 00:00:00</td><td>4</td><td>pzz</td><td>1444</td><td>6332756</td></tr>",
                            "<tr><td>8</td><td>2018-10-05 00:00:00</td><td>1</td><td>pzz</td><td>435</td><td>2520477</td></tr>",
                            "<tr><td>12</td><td>2019-09-03 00:00:00</td><td>1</td><td>pzz</td><td>1362</td><td>5728566</td></tr>",
                            "<tr><td>14</td><td>2019-08-27 00:00:00</td><td>3</td><td>clz</td><td>303</td><td>3833745</td></tr>",
                            "<tr><td>17</td><td>2019-10-25 00:00:00</td><td>1</td><td>pzz</td><td>1376</td><td>6332756</td></tr>",
                            "<tr><td>18</td><td>2019-12-14 00:00:00</td><td>3</td><td>pzz</td><td>957</td><td>2310967</td></tr>",
                            "<tr><td>19</td><td>2019-08-14 00:00:00</td><td>2</td><td>clz</td><td>972</td><td>2310967</td></tr>",
                            "<tr><td>20</td><td>2019-12-01 00:00:00</td><td>1</td><td>pzz</td><td>1455</td><td>2310967</td></tr>",
                            "<tr><td>22</td><td>2019-07-25 00:00:00</td><td>3</td><td>clz</td><td>1179</td><td>2310967</td></tr>",
                            "</table>"
                        ]
                    }
                }
            ],
            "execution_count": 5
        },
        {
            "cell_type": "code",
            "source": [
                "SELECT * FROM empleados WHERE nombre LIKE \"A%\";"
            ],
            "metadata": {
                "azdata_cell_guid": "a51c4562-d610-430a-9b51-710b2c22bd62",
                "language": "sql"
            },
            "outputs": [
                {
                    "output_type": "display_data",
                    "data": {
                        "text/html": "(4 row(s) affected)"
                    },
                    "metadata": {}
                },
                {
                    "output_type": "display_data",
                    "data": {
                        "text/html": "Total execution time: 00:00:01.009"
                    },
                    "metadata": {}
                },
                {
                    "output_type": "execute_result",
                    "metadata": {},
                    "execution_count": 6,
                    "data": {
                        "application/vnd.dataresource+json": {
                            "schema": {
                                "fields": [
                                    {
                                        "name": "ID_empleado"
                                    },
                                    {
                                        "name": "Nombre"
                                    },
                                    {
                                        "name": "Apellido"
                                    },
                                    {
                                        "name": "Telefono"
                                    },
                                    {
                                        "name": "Edad"
                                    },
                                    {
                                        "name": "Domicilio"
                                    },
                                    {
                                        "name": "ID_Gerente"
                                    }
                                ]
                            },
                            "data": [
                                {
                                    "ID_empleado": "1111222",
                                    "Nombre": "Alberto",
                                    "Apellido": "Barrientos",
                                    "Telefono": "34766613",
                                    "Edad": "26",
                                    "Domicilio": "Federal 233",
                                    "ID_Gerente": "5942572"
                                },
                                {
                                    "ID_empleado": "4245367",
                                    "Nombre": "Alexandra",
                                    "Apellido": "Zapata",
                                    "Telefono": "33467136",
                                    "Edad": "31",
                                    "Domicilio": "Ingenieros 234",
                                    "ID_Gerente": "5942572"
                                },
                                {
                                    "ID_empleado": "6931035",
                                    "Nombre": "Albeiro",
                                    "Apellido": "Villa",
                                    "Telefono": "33631010",
                                    "Edad": "39",
                                    "Domicilio": "Carniceros 233",
                                    "ID_Gerente": "5942572"
                                },
                                {
                                    "ID_empleado": "9922377",
                                    "Nombre": "Alexander",
                                    "Apellido": "Martinez",
                                    "Telefono": "36554872",
                                    "Edad": "28",
                                    "Domicilio": "Camino viejo 123",
                                    "ID_Gerente": "5942572"
                                }
                            ]
                        },
                        "text/html": [
                            "<table>",
                            "<tr><th>ID_empleado</th><th>Nombre</th><th>Apellido</th><th>Telefono</th><th>Edad</th><th>Domicilio</th><th>ID_Gerente</th></tr>",
                            "<tr><td>1111222</td><td>Alberto</td><td>Barrientos</td><td>34766613</td><td>26</td><td>Federal 233</td><td>5942572</td></tr>",
                            "<tr><td>4245367</td><td>Alexandra</td><td>Zapata</td><td>33467136</td><td>31</td><td>Ingenieros 234</td><td>5942572</td></tr>",
                            "<tr><td>6931035</td><td>Albeiro</td><td>Villa</td><td>33631010</td><td>39</td><td>Carniceros 233</td><td>5942572</td></tr>",
                            "<tr><td>9922377</td><td>Alexander</td><td>Martinez</td><td>36554872</td><td>28</td><td>Camino viejo 123</td><td>5942572</td></tr>",
                            "</table>"
                        ]
                    }
                }
            ],
            "execution_count": 6
        },
        {
            "cell_type": "code",
            "source": [
                "SELECT * FROM empleados WHERE nombre LIKE \"%a\";"
            ],
            "metadata": {
                "azdata_cell_guid": "2c6df838-eee6-4323-8c56-ffb1c4bc5d5f",
                "language": "sql"
            },
            "outputs": [
                {
                    "output_type": "display_data",
                    "data": {
                        "text/html": "(3 row(s) affected)"
                    },
                    "metadata": {}
                },
                {
                    "output_type": "display_data",
                    "data": {
                        "text/html": "Total execution time: 00:00:01.003"
                    },
                    "metadata": {}
                },
                {
                    "output_type": "execute_result",
                    "metadata": {},
                    "execution_count": 7,
                    "data": {
                        "application/vnd.dataresource+json": {
                            "schema": {
                                "fields": [
                                    {
                                        "name": "ID_empleado"
                                    },
                                    {
                                        "name": "Nombre"
                                    },
                                    {
                                        "name": "Apellido"
                                    },
                                    {
                                        "name": "Telefono"
                                    },
                                    {
                                        "name": "Edad"
                                    },
                                    {
                                        "name": "Domicilio"
                                    },
                                    {
                                        "name": "ID_Gerente"
                                    }
                                ]
                            },
                            "data": [
                                {
                                    "ID_empleado": "2630867",
                                    "Nombre": "Elena",
                                    "Apellido": "Atehortua",
                                    "Telefono": "35581732",
                                    "Edad": "37",
                                    "Domicilio": "Sierra del tigre 299",
                                    "ID_Gerente": "5942572"
                                },
                                {
                                    "ID_empleado": "3833745",
                                    "Nombre": "Maria",
                                    "Apellido": "Zapata",
                                    "Telefono": "35354455",
                                    "Edad": "34",
                                    "Domicilio": "Boulevard 85",
                                    "ID_Gerente": "5942572"
                                },
                                {
                                    "ID_empleado": "4245367",
                                    "Nombre": "Alexandra",
                                    "Apellido": "Zapata",
                                    "Telefono": "33467136",
                                    "Edad": "31",
                                    "Domicilio": "Ingenieros 234",
                                    "ID_Gerente": "5942572"
                                }
                            ]
                        },
                        "text/html": [
                            "<table>",
                            "<tr><th>ID_empleado</th><th>Nombre</th><th>Apellido</th><th>Telefono</th><th>Edad</th><th>Domicilio</th><th>ID_Gerente</th></tr>",
                            "<tr><td>2630867</td><td>Elena</td><td>Atehortua</td><td>35581732</td><td>37</td><td>Sierra del tigre 299</td><td>5942572</td></tr>",
                            "<tr><td>3833745</td><td>Maria</td><td>Zapata</td><td>35354455</td><td>34</td><td>Boulevard 85</td><td>5942572</td></tr>",
                            "<tr><td>4245367</td><td>Alexandra</td><td>Zapata</td><td>33467136</td><td>31</td><td>Ingenieros 234</td><td>5942572</td></tr>",
                            "</table>"
                        ]
                    }
                }
            ],
            "execution_count": 7
        },
        {
            "cell_type": "code",
            "source": [
                "SELECT * FROM empleados WHERE apellido REGEXP \"ez\";"
            ],
            "metadata": {
                "azdata_cell_guid": "2f9d89ff-21d3-4128-ba8f-01ee45541104",
                "language": "sql"
            },
            "outputs": [
                {
                    "output_type": "display_data",
                    "data": {
                        "text/html": "(3 row(s) affected)"
                    },
                    "metadata": {}
                },
                {
                    "output_type": "display_data",
                    "data": {
                        "text/html": "Total execution time: 00:00:01.035"
                    },
                    "metadata": {}
                },
                {
                    "output_type": "execute_result",
                    "metadata": {},
                    "execution_count": 9,
                    "data": {
                        "application/vnd.dataresource+json": {
                            "schema": {
                                "fields": [
                                    {
                                        "name": "ID_empleado"
                                    },
                                    {
                                        "name": "Nombre"
                                    },
                                    {
                                        "name": "Apellido"
                                    },
                                    {
                                        "name": "Telefono"
                                    },
                                    {
                                        "name": "Edad"
                                    },
                                    {
                                        "name": "Domicilio"
                                    },
                                    {
                                        "name": "ID_Gerente"
                                    }
                                ]
                            },
                            "data": [
                                {
                                    "ID_empleado": "2520477",
                                    "Nombre": "Egidio",
                                    "Apellido": "Lopez",
                                    "Telefono": "33444383",
                                    "Edad": "24",
                                    "Domicilio": "Rosas 996",
                                    "ID_Gerente": "5942572"
                                },
                                {
                                    "ID_empleado": "6332756",
                                    "Nombre": "Reinaldo",
                                    "Apellido": "Gonzalez",
                                    "Telefono": "36642727",
                                    "Edad": "43",
                                    "Domicilio": "Vallarta 711",
                                    "ID_Gerente": "5942572"
                                },
                                {
                                    "ID_empleado": "9922377",
                                    "Nombre": "Alexander",
                                    "Apellido": "Martinez",
                                    "Telefono": "36554872",
                                    "Edad": "28",
                                    "Domicilio": "Camino viejo 123",
                                    "ID_Gerente": "5942572"
                                }
                            ]
                        },
                        "text/html": [
                            "<table>",
                            "<tr><th>ID_empleado</th><th>Nombre</th><th>Apellido</th><th>Telefono</th><th>Edad</th><th>Domicilio</th><th>ID_Gerente</th></tr>",
                            "<tr><td>2520477</td><td>Egidio</td><td>Lopez</td><td>33444383</td><td>24</td><td>Rosas 996</td><td>5942572</td></tr>",
                            "<tr><td>6332756</td><td>Reinaldo</td><td>Gonzalez</td><td>36642727</td><td>43</td><td>Vallarta 711</td><td>5942572</td></tr>",
                            "<tr><td>9922377</td><td>Alexander</td><td>Martinez</td><td>36554872</td><td>28</td><td>Camino viejo 123</td><td>5942572</td></tr>",
                            "</table>"
                        ]
                    }
                }
            ],
            "execution_count": 9
        },
        {
            "cell_type": "code",
            "source": [
                "SELECT * FROM empleados WHERE apellido REGEXP \"e\";"
            ],
            "metadata": {
                "azdata_cell_guid": "464c8d64-fbf9-44e5-b27a-6377bc8e7693",
                "language": "sql"
            },
            "outputs": [
                {
                    "output_type": "display_data",
                    "data": {
                        "text/html": "(6 row(s) affected)"
                    },
                    "metadata": {}
                },
                {
                    "output_type": "display_data",
                    "data": {
                        "text/html": "Total execution time: 00:00:01.004"
                    },
                    "metadata": {}
                },
                {
                    "output_type": "execute_result",
                    "metadata": {},
                    "execution_count": 10,
                    "data": {
                        "application/vnd.dataresource+json": {
                            "schema": {
                                "fields": [
                                    {
                                        "name": "ID_empleado"
                                    },
                                    {
                                        "name": "Nombre"
                                    },
                                    {
                                        "name": "Apellido"
                                    },
                                    {
                                        "name": "Telefono"
                                    },
                                    {
                                        "name": "Edad"
                                    },
                                    {
                                        "name": "Domicilio"
                                    },
                                    {
                                        "name": "ID_Gerente"
                                    }
                                ]
                            },
                            "data": [
                                {
                                    "ID_empleado": "1111222",
                                    "Nombre": "Alberto",
                                    "Apellido": "Barrientos",
                                    "Telefono": "34766613",
                                    "Edad": "26",
                                    "Domicilio": "Federal 233",
                                    "ID_Gerente": "5942572"
                                },
                                {
                                    "ID_empleado": "2520477",
                                    "Nombre": "Egidio",
                                    "Apellido": "Lopez",
                                    "Telefono": "33444383",
                                    "Edad": "24",
                                    "Domicilio": "Rosas 996",
                                    "ID_Gerente": "5942572"
                                },
                                {
                                    "ID_empleado": "2630867",
                                    "Nombre": "Elena",
                                    "Apellido": "Atehortua",
                                    "Telefono": "35581732",
                                    "Edad": "37",
                                    "Domicilio": "Sierra del tigre 299",
                                    "ID_Gerente": "5942572"
                                },
                                {
                                    "ID_empleado": "5942572",
                                    "Nombre": "Jesus",
                                    "Apellido": "Agudelo",
                                    "Telefono": "34616222",
                                    "Edad": "35",
                                    "Domicilio": "NULL",
                                    "ID_Gerente": "NULL"
                                },
                                {
                                    "ID_empleado": "6332756",
                                    "Nombre": "Reinaldo",
                                    "Apellido": "Gonzalez",
                                    "Telefono": "36642727",
                                    "Edad": "43",
                                    "Domicilio": "Vallarta 711",
                                    "ID_Gerente": "5942572"
                                },
                                {
                                    "ID_empleado": "9922377",
                                    "Nombre": "Alexander",
                                    "Apellido": "Martinez",
                                    "Telefono": "36554872",
                                    "Edad": "28",
                                    "Domicilio": "Camino viejo 123",
                                    "ID_Gerente": "5942572"
                                }
                            ]
                        },
                        "text/html": [
                            "<table>",
                            "<tr><th>ID_empleado</th><th>Nombre</th><th>Apellido</th><th>Telefono</th><th>Edad</th><th>Domicilio</th><th>ID_Gerente</th></tr>",
                            "<tr><td>1111222</td><td>Alberto</td><td>Barrientos</td><td>34766613</td><td>26</td><td>Federal 233</td><td>5942572</td></tr>",
                            "<tr><td>2520477</td><td>Egidio</td><td>Lopez</td><td>33444383</td><td>24</td><td>Rosas 996</td><td>5942572</td></tr>",
                            "<tr><td>2630867</td><td>Elena</td><td>Atehortua</td><td>35581732</td><td>37</td><td>Sierra del tigre 299</td><td>5942572</td></tr>",
                            "<tr><td>5942572</td><td>Jesus</td><td>Agudelo</td><td>34616222</td><td>35</td><td>NULL</td><td>NULL</td></tr>",
                            "<tr><td>6332756</td><td>Reinaldo</td><td>Gonzalez</td><td>36642727</td><td>43</td><td>Vallarta 711</td><td>5942572</td></tr>",
                            "<tr><td>9922377</td><td>Alexander</td><td>Martinez</td><td>36554872</td><td>28</td><td>Camino viejo 123</td><td>5942572</td></tr>",
                            "</table>"
                        ]
                    }
                }
            ],
            "execution_count": 10
        },
        {
            "cell_type": "code",
            "source": [
                "SELECT * FROM empleados WHERE apellido REGEXP \"^L\";"
            ],
            "metadata": {
                "azdata_cell_guid": "97d0eb72-2693-4f46-abc3-acc94e741cee",
                "language": "sql"
            },
            "outputs": [
                {
                    "output_type": "display_data",
                    "data": {
                        "text/html": "(1 row(s) affected)"
                    },
                    "metadata": {}
                },
                {
                    "output_type": "display_data",
                    "data": {
                        "text/html": "Total execution time: 00:00:01.033"
                    },
                    "metadata": {}
                },
                {
                    "output_type": "execute_result",
                    "metadata": {},
                    "execution_count": 11,
                    "data": {
                        "application/vnd.dataresource+json": {
                            "schema": {
                                "fields": [
                                    {
                                        "name": "ID_empleado"
                                    },
                                    {
                                        "name": "Nombre"
                                    },
                                    {
                                        "name": "Apellido"
                                    },
                                    {
                                        "name": "Telefono"
                                    },
                                    {
                                        "name": "Edad"
                                    },
                                    {
                                        "name": "Domicilio"
                                    },
                                    {
                                        "name": "ID_Gerente"
                                    }
                                ]
                            },
                            "data": [
                                {
                                    "ID_empleado": "2520477",
                                    "Nombre": "Egidio",
                                    "Apellido": "Lopez",
                                    "Telefono": "33444383",
                                    "Edad": "24",
                                    "Domicilio": "Rosas 996",
                                    "ID_Gerente": "5942572"
                                }
                            ]
                        },
                        "text/html": [
                            "<table>",
                            "<tr><th>ID_empleado</th><th>Nombre</th><th>Apellido</th><th>Telefono</th><th>Edad</th><th>Domicilio</th><th>ID_Gerente</th></tr>",
                            "<tr><td>2520477</td><td>Egidio</td><td>Lopez</td><td>33444383</td><td>24</td><td>Rosas 996</td><td>5942572</td></tr>",
                            "</table>"
                        ]
                    }
                }
            ],
            "execution_count": 11
        },
        {
            "cell_type": "code",
            "source": [
                "SELECT * FROM empleados WHERE apellido REGEXP \"^Lo\";"
            ],
            "metadata": {
                "azdata_cell_guid": "0382a6a5-6746-4a29-b5cb-2386705d6ad9",
                "language": "sql"
            },
            "outputs": [
                {
                    "output_type": "display_data",
                    "data": {
                        "text/html": "(1 row(s) affected)"
                    },
                    "metadata": {}
                },
                {
                    "output_type": "display_data",
                    "data": {
                        "text/html": "Total execution time: 00:00:01.010"
                    },
                    "metadata": {}
                },
                {
                    "output_type": "execute_result",
                    "metadata": {},
                    "execution_count": 12,
                    "data": {
                        "application/vnd.dataresource+json": {
                            "schema": {
                                "fields": [
                                    {
                                        "name": "ID_empleado"
                                    },
                                    {
                                        "name": "Nombre"
                                    },
                                    {
                                        "name": "Apellido"
                                    },
                                    {
                                        "name": "Telefono"
                                    },
                                    {
                                        "name": "Edad"
                                    },
                                    {
                                        "name": "Domicilio"
                                    },
                                    {
                                        "name": "ID_Gerente"
                                    }
                                ]
                            },
                            "data": [
                                {
                                    "ID_empleado": "2520477",
                                    "Nombre": "Egidio",
                                    "Apellido": "Lopez",
                                    "Telefono": "33444383",
                                    "Edad": "24",
                                    "Domicilio": "Rosas 996",
                                    "ID_Gerente": "5942572"
                                }
                            ]
                        },
                        "text/html": [
                            "<table>",
                            "<tr><th>ID_empleado</th><th>Nombre</th><th>Apellido</th><th>Telefono</th><th>Edad</th><th>Domicilio</th><th>ID_Gerente</th></tr>",
                            "<tr><td>2520477</td><td>Egidio</td><td>Lopez</td><td>33444383</td><td>24</td><td>Rosas 996</td><td>5942572</td></tr>",
                            "</table>"
                        ]
                    }
                }
            ],
            "execution_count": 12
        },
        {
            "cell_type": "code",
            "source": [
                "SELECT * FROM empleados WHERE apellido REGEXP \"ez$\";"
            ],
            "metadata": {
                "azdata_cell_guid": "2a9ecc05-7dba-48e7-abc4-7cf2ff765ef9",
                "language": "sql"
            },
            "outputs": [
                {
                    "output_type": "display_data",
                    "data": {
                        "text/html": "(3 row(s) affected)"
                    },
                    "metadata": {}
                },
                {
                    "output_type": "display_data",
                    "data": {
                        "text/html": "Total execution time: 00:00:01.014"
                    },
                    "metadata": {}
                },
                {
                    "output_type": "execute_result",
                    "metadata": {},
                    "execution_count": 13,
                    "data": {
                        "application/vnd.dataresource+json": {
                            "schema": {
                                "fields": [
                                    {
                                        "name": "ID_empleado"
                                    },
                                    {
                                        "name": "Nombre"
                                    },
                                    {
                                        "name": "Apellido"
                                    },
                                    {
                                        "name": "Telefono"
                                    },
                                    {
                                        "name": "Edad"
                                    },
                                    {
                                        "name": "Domicilio"
                                    },
                                    {
                                        "name": "ID_Gerente"
                                    }
                                ]
                            },
                            "data": [
                                {
                                    "ID_empleado": "2520477",
                                    "Nombre": "Egidio",
                                    "Apellido": "Lopez",
                                    "Telefono": "33444383",
                                    "Edad": "24",
                                    "Domicilio": "Rosas 996",
                                    "ID_Gerente": "5942572"
                                },
                                {
                                    "ID_empleado": "6332756",
                                    "Nombre": "Reinaldo",
                                    "Apellido": "Gonzalez",
                                    "Telefono": "36642727",
                                    "Edad": "43",
                                    "Domicilio": "Vallarta 711",
                                    "ID_Gerente": "5942572"
                                },
                                {
                                    "ID_empleado": "9922377",
                                    "Nombre": "Alexander",
                                    "Apellido": "Martinez",
                                    "Telefono": "36554872",
                                    "Edad": "28",
                                    "Domicilio": "Camino viejo 123",
                                    "ID_Gerente": "5942572"
                                }
                            ]
                        },
                        "text/html": [
                            "<table>",
                            "<tr><th>ID_empleado</th><th>Nombre</th><th>Apellido</th><th>Telefono</th><th>Edad</th><th>Domicilio</th><th>ID_Gerente</th></tr>",
                            "<tr><td>2520477</td><td>Egidio</td><td>Lopez</td><td>33444383</td><td>24</td><td>Rosas 996</td><td>5942572</td></tr>",
                            "<tr><td>6332756</td><td>Reinaldo</td><td>Gonzalez</td><td>36642727</td><td>43</td><td>Vallarta 711</td><td>5942572</td></tr>",
                            "<tr><td>9922377</td><td>Alexander</td><td>Martinez</td><td>36554872</td><td>28</td><td>Camino viejo 123</td><td>5942572</td></tr>",
                            "</table>"
                        ]
                    }
                }
            ],
            "execution_count": 13
        },
        {
            "cell_type": "code",
            "source": [
                "SELECT * FROM empleados WHERE apellido REGEXP \"ez|iz\";"
            ],
            "metadata": {
                "azdata_cell_guid": "83bf67c3-4003-4898-9505-77c80040fd60",
                "language": "sql"
            },
            "outputs": [
                {
                    "output_type": "display_data",
                    "data": {
                        "text/html": "(4 row(s) affected)"
                    },
                    "metadata": {}
                },
                {
                    "output_type": "display_data",
                    "data": {
                        "text/html": "Total execution time: 00:00:01.013"
                    },
                    "metadata": {}
                },
                {
                    "output_type": "execute_result",
                    "metadata": {},
                    "execution_count": 14,
                    "data": {
                        "application/vnd.dataresource+json": {
                            "schema": {
                                "fields": [
                                    {
                                        "name": "ID_empleado"
                                    },
                                    {
                                        "name": "Nombre"
                                    },
                                    {
                                        "name": "Apellido"
                                    },
                                    {
                                        "name": "Telefono"
                                    },
                                    {
                                        "name": "Edad"
                                    },
                                    {
                                        "name": "Domicilio"
                                    },
                                    {
                                        "name": "ID_Gerente"
                                    }
                                ]
                            },
                            "data": [
                                {
                                    "ID_empleado": "2520477",
                                    "Nombre": "Egidio",
                                    "Apellido": "Lopez",
                                    "Telefono": "33444383",
                                    "Edad": "24",
                                    "Domicilio": "Rosas 996",
                                    "ID_Gerente": "5942572"
                                },
                                {
                                    "ID_empleado": "6332756",
                                    "Nombre": "Reinaldo",
                                    "Apellido": "Gonzalez",
                                    "Telefono": "36642727",
                                    "Edad": "43",
                                    "Domicilio": "Vallarta 711",
                                    "ID_Gerente": "5942572"
                                },
                                {
                                    "ID_empleado": "9611338",
                                    "Nombre": "Haygnes",
                                    "Apellido": "Ortiz",
                                    "Telefono": "35400189",
                                    "Edad": "27",
                                    "Domicilio": "General Diaz 343",
                                    "ID_Gerente": "5942572"
                                },
                                {
                                    "ID_empleado": "9922377",
                                    "Nombre": "Alexander",
                                    "Apellido": "Martinez",
                                    "Telefono": "36554872",
                                    "Edad": "28",
                                    "Domicilio": "Camino viejo 123",
                                    "ID_Gerente": "5942572"
                                }
                            ]
                        },
                        "text/html": [
                            "<table>",
                            "<tr><th>ID_empleado</th><th>Nombre</th><th>Apellido</th><th>Telefono</th><th>Edad</th><th>Domicilio</th><th>ID_Gerente</th></tr>",
                            "<tr><td>2520477</td><td>Egidio</td><td>Lopez</td><td>33444383</td><td>24</td><td>Rosas 996</td><td>5942572</td></tr>",
                            "<tr><td>6332756</td><td>Reinaldo</td><td>Gonzalez</td><td>36642727</td><td>43</td><td>Vallarta 711</td><td>5942572</td></tr>",
                            "<tr><td>9611338</td><td>Haygnes</td><td>Ortiz</td><td>35400189</td><td>27</td><td>General Diaz 343</td><td>5942572</td></tr>",
                            "<tr><td>9922377</td><td>Alexander</td><td>Martinez</td><td>36554872</td><td>28</td><td>Camino viejo 123</td><td>5942572</td></tr>",
                            "</table>"
                        ]
                    }
                }
            ],
            "execution_count": 14
        },
        {
            "cell_type": "code",
            "source": [
                "SELECT * FROM empleados WHERE apellido REGEXP \"ez|iz|b\";"
            ],
            "metadata": {
                "azdata_cell_guid": "a52adc5a-df0d-4d76-85b9-4d6693f6c663",
                "language": "sql"
            },
            "outputs": [
                {
                    "output_type": "display_data",
                    "data": {
                        "text/html": "(5 row(s) affected)"
                    },
                    "metadata": {}
                },
                {
                    "output_type": "display_data",
                    "data": {
                        "text/html": "Total execution time: 00:00:01.008"
                    },
                    "metadata": {}
                },
                {
                    "output_type": "execute_result",
                    "metadata": {},
                    "execution_count": 15,
                    "data": {
                        "application/vnd.dataresource+json": {
                            "schema": {
                                "fields": [
                                    {
                                        "name": "ID_empleado"
                                    },
                                    {
                                        "name": "Nombre"
                                    },
                                    {
                                        "name": "Apellido"
                                    },
                                    {
                                        "name": "Telefono"
                                    },
                                    {
                                        "name": "Edad"
                                    },
                                    {
                                        "name": "Domicilio"
                                    },
                                    {
                                        "name": "ID_Gerente"
                                    }
                                ]
                            },
                            "data": [
                                {
                                    "ID_empleado": "1111222",
                                    "Nombre": "Alberto",
                                    "Apellido": "Barrientos",
                                    "Telefono": "34766613",
                                    "Edad": "26",
                                    "Domicilio": "Federal 233",
                                    "ID_Gerente": "5942572"
                                },
                                {
                                    "ID_empleado": "2520477",
                                    "Nombre": "Egidio",
                                    "Apellido": "Lopez",
                                    "Telefono": "33444383",
                                    "Edad": "24",
                                    "Domicilio": "Rosas 996",
                                    "ID_Gerente": "5942572"
                                },
                                {
                                    "ID_empleado": "6332756",
                                    "Nombre": "Reinaldo",
                                    "Apellido": "Gonzalez",
                                    "Telefono": "36642727",
                                    "Edad": "43",
                                    "Domicilio": "Vallarta 711",
                                    "ID_Gerente": "5942572"
                                },
                                {
                                    "ID_empleado": "9611338",
                                    "Nombre": "Haygnes",
                                    "Apellido": "Ortiz",
                                    "Telefono": "35400189",
                                    "Edad": "27",
                                    "Domicilio": "General Diaz 343",
                                    "ID_Gerente": "5942572"
                                },
                                {
                                    "ID_empleado": "9922377",
                                    "Nombre": "Alexander",
                                    "Apellido": "Martinez",
                                    "Telefono": "36554872",
                                    "Edad": "28",
                                    "Domicilio": "Camino viejo 123",
                                    "ID_Gerente": "5942572"
                                }
                            ]
                        },
                        "text/html": [
                            "<table>",
                            "<tr><th>ID_empleado</th><th>Nombre</th><th>Apellido</th><th>Telefono</th><th>Edad</th><th>Domicilio</th><th>ID_Gerente</th></tr>",
                            "<tr><td>1111222</td><td>Alberto</td><td>Barrientos</td><td>34766613</td><td>26</td><td>Federal 233</td><td>5942572</td></tr>",
                            "<tr><td>2520477</td><td>Egidio</td><td>Lopez</td><td>33444383</td><td>24</td><td>Rosas 996</td><td>5942572</td></tr>",
                            "<tr><td>6332756</td><td>Reinaldo</td><td>Gonzalez</td><td>36642727</td><td>43</td><td>Vallarta 711</td><td>5942572</td></tr>",
                            "<tr><td>9611338</td><td>Haygnes</td><td>Ortiz</td><td>35400189</td><td>27</td><td>General Diaz 343</td><td>5942572</td></tr>",
                            "<tr><td>9922377</td><td>Alexander</td><td>Martinez</td><td>36554872</td><td>28</td><td>Camino viejo 123</td><td>5942572</td></tr>",
                            "</table>"
                        ]
                    }
                }
            ],
            "execution_count": 15
        },
        {
            "cell_type": "code",
            "source": [
                "SELECT * FROM empleados WHERE apellido REGEXP \"ez|iz|b$\";"
            ],
            "metadata": {
                "azdata_cell_guid": "312d5051-4c9b-4eb7-9d84-4be7f5b84e15",
                "language": "sql"
            },
            "outputs": [
                {
                    "output_type": "display_data",
                    "data": {
                        "text/html": "(4 row(s) affected)"
                    },
                    "metadata": {}
                },
                {
                    "output_type": "display_data",
                    "data": {
                        "text/html": "Total execution time: 00:00:01.004"
                    },
                    "metadata": {}
                },
                {
                    "output_type": "execute_result",
                    "metadata": {},
                    "execution_count": 16,
                    "data": {
                        "application/vnd.dataresource+json": {
                            "schema": {
                                "fields": [
                                    {
                                        "name": "ID_empleado"
                                    },
                                    {
                                        "name": "Nombre"
                                    },
                                    {
                                        "name": "Apellido"
                                    },
                                    {
                                        "name": "Telefono"
                                    },
                                    {
                                        "name": "Edad"
                                    },
                                    {
                                        "name": "Domicilio"
                                    },
                                    {
                                        "name": "ID_Gerente"
                                    }
                                ]
                            },
                            "data": [
                                {
                                    "ID_empleado": "2520477",
                                    "Nombre": "Egidio",
                                    "Apellido": "Lopez",
                                    "Telefono": "33444383",
                                    "Edad": "24",
                                    "Domicilio": "Rosas 996",
                                    "ID_Gerente": "5942572"
                                },
                                {
                                    "ID_empleado": "6332756",
                                    "Nombre": "Reinaldo",
                                    "Apellido": "Gonzalez",
                                    "Telefono": "36642727",
                                    "Edad": "43",
                                    "Domicilio": "Vallarta 711",
                                    "ID_Gerente": "5942572"
                                },
                                {
                                    "ID_empleado": "9611338",
                                    "Nombre": "Haygnes",
                                    "Apellido": "Ortiz",
                                    "Telefono": "35400189",
                                    "Edad": "27",
                                    "Domicilio": "General Diaz 343",
                                    "ID_Gerente": "5942572"
                                },
                                {
                                    "ID_empleado": "9922377",
                                    "Nombre": "Alexander",
                                    "Apellido": "Martinez",
                                    "Telefono": "36554872",
                                    "Edad": "28",
                                    "Domicilio": "Camino viejo 123",
                                    "ID_Gerente": "5942572"
                                }
                            ]
                        },
                        "text/html": [
                            "<table>",
                            "<tr><th>ID_empleado</th><th>Nombre</th><th>Apellido</th><th>Telefono</th><th>Edad</th><th>Domicilio</th><th>ID_Gerente</th></tr>",
                            "<tr><td>2520477</td><td>Egidio</td><td>Lopez</td><td>33444383</td><td>24</td><td>Rosas 996</td><td>5942572</td></tr>",
                            "<tr><td>6332756</td><td>Reinaldo</td><td>Gonzalez</td><td>36642727</td><td>43</td><td>Vallarta 711</td><td>5942572</td></tr>",
                            "<tr><td>9611338</td><td>Haygnes</td><td>Ortiz</td><td>35400189</td><td>27</td><td>General Diaz 343</td><td>5942572</td></tr>",
                            "<tr><td>9922377</td><td>Alexander</td><td>Martinez</td><td>36554872</td><td>28</td><td>Camino viejo 123</td><td>5942572</td></tr>",
                            "</table>"
                        ]
                    }
                }
            ],
            "execution_count": 16
        },
        {
            "cell_type": "code",
            "source": [
                "SELECT * FROM empleados ORDER BY nombre;"
            ],
            "metadata": {
                "azdata_cell_guid": "2242c543-87a8-421b-9d45-cc5945a260e6",
                "language": "sql"
            },
            "outputs": [
                {
                    "output_type": "display_data",
                    "data": {
                        "text/html": "(11 row(s) affected)"
                    },
                    "metadata": {}
                },
                {
                    "output_type": "display_data",
                    "data": {
                        "text/html": "Total execution time: 00:00:01.017"
                    },
                    "metadata": {}
                },
                {
                    "output_type": "execute_result",
                    "metadata": {},
                    "execution_count": 17,
                    "data": {
                        "application/vnd.dataresource+json": {
                            "schema": {
                                "fields": [
                                    {
                                        "name": "ID_empleado"
                                    },
                                    {
                                        "name": "Nombre"
                                    },
                                    {
                                        "name": "Apellido"
                                    },
                                    {
                                        "name": "Telefono"
                                    },
                                    {
                                        "name": "Edad"
                                    },
                                    {
                                        "name": "Domicilio"
                                    },
                                    {
                                        "name": "ID_Gerente"
                                    }
                                ]
                            },
                            "data": [
                                {
                                    "ID_empleado": "6931035",
                                    "Nombre": "Albeiro",
                                    "Apellido": "Villa",
                                    "Telefono": "33631010",
                                    "Edad": "39",
                                    "Domicilio": "Carniceros 233",
                                    "ID_Gerente": "5942572"
                                },
                                {
                                    "ID_empleado": "1111222",
                                    "Nombre": "Alberto",
                                    "Apellido": "Barrientos",
                                    "Telefono": "34766613",
                                    "Edad": "26",
                                    "Domicilio": "Federal 233",
                                    "ID_Gerente": "5942572"
                                },
                                {
                                    "ID_empleado": "9922377",
                                    "Nombre": "Alexander",
                                    "Apellido": "Martinez",
                                    "Telefono": "36554872",
                                    "Edad": "28",
                                    "Domicilio": "Camino viejo 123",
                                    "ID_Gerente": "5942572"
                                },
                                {
                                    "ID_empleado": "4245367",
                                    "Nombre": "Alexandra",
                                    "Apellido": "Zapata",
                                    "Telefono": "33467136",
                                    "Edad": "31",
                                    "Domicilio": "Ingenieros 234",
                                    "ID_Gerente": "5942572"
                                },
                                {
                                    "ID_empleado": "2520477",
                                    "Nombre": "Egidio",
                                    "Apellido": "Lopez",
                                    "Telefono": "33444383",
                                    "Edad": "24",
                                    "Domicilio": "Rosas 996",
                                    "ID_Gerente": "5942572"
                                },
                                {
                                    "ID_empleado": "2630867",
                                    "Nombre": "Elena",
                                    "Apellido": "Atehortua",
                                    "Telefono": "35581732",
                                    "Edad": "37",
                                    "Domicilio": "Sierra del tigre 299",
                                    "ID_Gerente": "5942572"
                                },
                                {
                                    "ID_empleado": "9611338",
                                    "Nombre": "Haygnes",
                                    "Apellido": "Ortiz",
                                    "Telefono": "35400189",
                                    "Edad": "27",
                                    "Domicilio": "General Diaz 343",
                                    "ID_Gerente": "5942572"
                                },
                                {
                                    "ID_empleado": "2310967",
                                    "Nombre": "Jairo",
                                    "Apellido": "Mira",
                                    "Telefono": "36403810",
                                    "Edad": "29",
                                    "Domicilio": "Calle 25 interior 2",
                                    "ID_Gerente": "5942572"
                                },
                                {
                                    "ID_empleado": "5942572",
                                    "Nombre": "Jesus",
                                    "Apellido": "Agudelo",
                                    "Telefono": "34616222",
                                    "Edad": "35",
                                    "Domicilio": "NULL",
                                    "ID_Gerente": "NULL"
                                },
                                {
                                    "ID_empleado": "3833745",
                                    "Nombre": "Maria",
                                    "Apellido": "Zapata",
                                    "Telefono": "35354455",
                                    "Edad": "34",
                                    "Domicilio": "Boulevard 85",
                                    "ID_Gerente": "5942572"
                                },
                                {
                                    "ID_empleado": "6332756",
                                    "Nombre": "Reinaldo",
                                    "Apellido": "Gonzalez",
                                    "Telefono": "36642727",
                                    "Edad": "43",
                                    "Domicilio": "Vallarta 711",
                                    "ID_Gerente": "5942572"
                                }
                            ]
                        },
                        "text/html": [
                            "<table>",
                            "<tr><th>ID_empleado</th><th>Nombre</th><th>Apellido</th><th>Telefono</th><th>Edad</th><th>Domicilio</th><th>ID_Gerente</th></tr>",
                            "<tr><td>6931035</td><td>Albeiro</td><td>Villa</td><td>33631010</td><td>39</td><td>Carniceros 233</td><td>5942572</td></tr>",
                            "<tr><td>1111222</td><td>Alberto</td><td>Barrientos</td><td>34766613</td><td>26</td><td>Federal 233</td><td>5942572</td></tr>",
                            "<tr><td>9922377</td><td>Alexander</td><td>Martinez</td><td>36554872</td><td>28</td><td>Camino viejo 123</td><td>5942572</td></tr>",
                            "<tr><td>4245367</td><td>Alexandra</td><td>Zapata</td><td>33467136</td><td>31</td><td>Ingenieros 234</td><td>5942572</td></tr>",
                            "<tr><td>2520477</td><td>Egidio</td><td>Lopez</td><td>33444383</td><td>24</td><td>Rosas 996</td><td>5942572</td></tr>",
                            "<tr><td>2630867</td><td>Elena</td><td>Atehortua</td><td>35581732</td><td>37</td><td>Sierra del tigre 299</td><td>5942572</td></tr>",
                            "<tr><td>9611338</td><td>Haygnes</td><td>Ortiz</td><td>35400189</td><td>27</td><td>General Diaz 343</td><td>5942572</td></tr>",
                            "<tr><td>2310967</td><td>Jairo</td><td>Mira</td><td>36403810</td><td>29</td><td>Calle 25 interior 2</td><td>5942572</td></tr>",
                            "<tr><td>5942572</td><td>Jesus</td><td>Agudelo</td><td>34616222</td><td>35</td><td>NULL</td><td>NULL</td></tr>",
                            "<tr><td>3833745</td><td>Maria</td><td>Zapata</td><td>35354455</td><td>34</td><td>Boulevard 85</td><td>5942572</td></tr>",
                            "<tr><td>6332756</td><td>Reinaldo</td><td>Gonzalez</td><td>36642727</td><td>43</td><td>Vallarta 711</td><td>5942572</td></tr>",
                            "</table>"
                        ]
                    }
                }
            ],
            "execution_count": 17
        },
        {
            "cell_type": "code",
            "source": [
                "SELECT * FROM empleados ORDER BY nombre DESC;"
            ],
            "metadata": {
                "azdata_cell_guid": "2da8b5fc-1c26-43a1-bac7-d66aee2a6ed7",
                "language": "sql"
            },
            "outputs": [
                {
                    "output_type": "display_data",
                    "data": {
                        "text/html": "(11 row(s) affected)"
                    },
                    "metadata": {}
                },
                {
                    "output_type": "display_data",
                    "data": {
                        "text/html": "Total execution time: 00:00:01.033"
                    },
                    "metadata": {}
                },
                {
                    "output_type": "execute_result",
                    "metadata": {},
                    "execution_count": 18,
                    "data": {
                        "application/vnd.dataresource+json": {
                            "schema": {
                                "fields": [
                                    {
                                        "name": "ID_empleado"
                                    },
                                    {
                                        "name": "Nombre"
                                    },
                                    {
                                        "name": "Apellido"
                                    },
                                    {
                                        "name": "Telefono"
                                    },
                                    {
                                        "name": "Edad"
                                    },
                                    {
                                        "name": "Domicilio"
                                    },
                                    {
                                        "name": "ID_Gerente"
                                    }
                                ]
                            },
                            "data": [
                                {
                                    "ID_empleado": "6332756",
                                    "Nombre": "Reinaldo",
                                    "Apellido": "Gonzalez",
                                    "Telefono": "36642727",
                                    "Edad": "43",
                                    "Domicilio": "Vallarta 711",
                                    "ID_Gerente": "5942572"
                                },
                                {
                                    "ID_empleado": "3833745",
                                    "Nombre": "Maria",
                                    "Apellido": "Zapata",
                                    "Telefono": "35354455",
                                    "Edad": "34",
                                    "Domicilio": "Boulevard 85",
                                    "ID_Gerente": "5942572"
                                },
                                {
                                    "ID_empleado": "5942572",
                                    "Nombre": "Jesus",
                                    "Apellido": "Agudelo",
                                    "Telefono": "34616222",
                                    "Edad": "35",
                                    "Domicilio": "NULL",
                                    "ID_Gerente": "NULL"
                                },
                                {
                                    "ID_empleado": "2310967",
                                    "Nombre": "Jairo",
                                    "Apellido": "Mira",
                                    "Telefono": "36403810",
                                    "Edad": "29",
                                    "Domicilio": "Calle 25 interior 2",
                                    "ID_Gerente": "5942572"
                                },
                                {
                                    "ID_empleado": "9611338",
                                    "Nombre": "Haygnes",
                                    "Apellido": "Ortiz",
                                    "Telefono": "35400189",
                                    "Edad": "27",
                                    "Domicilio": "General Diaz 343",
                                    "ID_Gerente": "5942572"
                                },
                                {
                                    "ID_empleado": "2630867",
                                    "Nombre": "Elena",
                                    "Apellido": "Atehortua",
                                    "Telefono": "35581732",
                                    "Edad": "37",
                                    "Domicilio": "Sierra del tigre 299",
                                    "ID_Gerente": "5942572"
                                },
                                {
                                    "ID_empleado": "2520477",
                                    "Nombre": "Egidio",
                                    "Apellido": "Lopez",
                                    "Telefono": "33444383",
                                    "Edad": "24",
                                    "Domicilio": "Rosas 996",
                                    "ID_Gerente": "5942572"
                                },
                                {
                                    "ID_empleado": "4245367",
                                    "Nombre": "Alexandra",
                                    "Apellido": "Zapata",
                                    "Telefono": "33467136",
                                    "Edad": "31",
                                    "Domicilio": "Ingenieros 234",
                                    "ID_Gerente": "5942572"
                                },
                                {
                                    "ID_empleado": "9922377",
                                    "Nombre": "Alexander",
                                    "Apellido": "Martinez",
                                    "Telefono": "36554872",
                                    "Edad": "28",
                                    "Domicilio": "Camino viejo 123",
                                    "ID_Gerente": "5942572"
                                },
                                {
                                    "ID_empleado": "1111222",
                                    "Nombre": "Alberto",
                                    "Apellido": "Barrientos",
                                    "Telefono": "34766613",
                                    "Edad": "26",
                                    "Domicilio": "Federal 233",
                                    "ID_Gerente": "5942572"
                                },
                                {
                                    "ID_empleado": "6931035",
                                    "Nombre": "Albeiro",
                                    "Apellido": "Villa",
                                    "Telefono": "33631010",
                                    "Edad": "39",
                                    "Domicilio": "Carniceros 233",
                                    "ID_Gerente": "5942572"
                                }
                            ]
                        },
                        "text/html": [
                            "<table>",
                            "<tr><th>ID_empleado</th><th>Nombre</th><th>Apellido</th><th>Telefono</th><th>Edad</th><th>Domicilio</th><th>ID_Gerente</th></tr>",
                            "<tr><td>6332756</td><td>Reinaldo</td><td>Gonzalez</td><td>36642727</td><td>43</td><td>Vallarta 711</td><td>5942572</td></tr>",
                            "<tr><td>3833745</td><td>Maria</td><td>Zapata</td><td>35354455</td><td>34</td><td>Boulevard 85</td><td>5942572</td></tr>",
                            "<tr><td>5942572</td><td>Jesus</td><td>Agudelo</td><td>34616222</td><td>35</td><td>NULL</td><td>NULL</td></tr>",
                            "<tr><td>2310967</td><td>Jairo</td><td>Mira</td><td>36403810</td><td>29</td><td>Calle 25 interior 2</td><td>5942572</td></tr>",
                            "<tr><td>9611338</td><td>Haygnes</td><td>Ortiz</td><td>35400189</td><td>27</td><td>General Diaz 343</td><td>5942572</td></tr>",
                            "<tr><td>2630867</td><td>Elena</td><td>Atehortua</td><td>35581732</td><td>37</td><td>Sierra del tigre 299</td><td>5942572</td></tr>",
                            "<tr><td>2520477</td><td>Egidio</td><td>Lopez</td><td>33444383</td><td>24</td><td>Rosas 996</td><td>5942572</td></tr>",
                            "<tr><td>4245367</td><td>Alexandra</td><td>Zapata</td><td>33467136</td><td>31</td><td>Ingenieros 234</td><td>5942572</td></tr>",
                            "<tr><td>9922377</td><td>Alexander</td><td>Martinez</td><td>36554872</td><td>28</td><td>Camino viejo 123</td><td>5942572</td></tr>",
                            "<tr><td>1111222</td><td>Alberto</td><td>Barrientos</td><td>34766613</td><td>26</td><td>Federal 233</td><td>5942572</td></tr>",
                            "<tr><td>6931035</td><td>Albeiro</td><td>Villa</td><td>33631010</td><td>39</td><td>Carniceros 233</td><td>5942572</td></tr>",
                            "</table>"
                        ]
                    }
                }
            ],
            "execution_count": 18
        },
        {
            "cell_type": "code",
            "source": [
                "SELECT * FROM empleados ORDER BY apellido DESC;"
            ],
            "metadata": {
                "azdata_cell_guid": "85ca78eb-edf0-478f-9d4a-d8bed3d2ec43",
                "language": "sql"
            },
            "outputs": [
                {
                    "output_type": "display_data",
                    "data": {
                        "text/html": "(11 row(s) affected)"
                    },
                    "metadata": {}
                },
                {
                    "output_type": "display_data",
                    "data": {
                        "text/html": "Total execution time: 00:00:01.004"
                    },
                    "metadata": {}
                },
                {
                    "output_type": "execute_result",
                    "metadata": {},
                    "execution_count": 19,
                    "data": {
                        "application/vnd.dataresource+json": {
                            "schema": {
                                "fields": [
                                    {
                                        "name": "ID_empleado"
                                    },
                                    {
                                        "name": "Nombre"
                                    },
                                    {
                                        "name": "Apellido"
                                    },
                                    {
                                        "name": "Telefono"
                                    },
                                    {
                                        "name": "Edad"
                                    },
                                    {
                                        "name": "Domicilio"
                                    },
                                    {
                                        "name": "ID_Gerente"
                                    }
                                ]
                            },
                            "data": [
                                {
                                    "ID_empleado": "3833745",
                                    "Nombre": "Maria",
                                    "Apellido": "Zapata",
                                    "Telefono": "35354455",
                                    "Edad": "34",
                                    "Domicilio": "Boulevard 85",
                                    "ID_Gerente": "5942572"
                                },
                                {
                                    "ID_empleado": "4245367",
                                    "Nombre": "Alexandra",
                                    "Apellido": "Zapata",
                                    "Telefono": "33467136",
                                    "Edad": "31",
                                    "Domicilio": "Ingenieros 234",
                                    "ID_Gerente": "5942572"
                                },
                                {
                                    "ID_empleado": "6931035",
                                    "Nombre": "Albeiro",
                                    "Apellido": "Villa",
                                    "Telefono": "33631010",
                                    "Edad": "39",
                                    "Domicilio": "Carniceros 233",
                                    "ID_Gerente": "5942572"
                                },
                                {
                                    "ID_empleado": "9611338",
                                    "Nombre": "Haygnes",
                                    "Apellido": "Ortiz",
                                    "Telefono": "35400189",
                                    "Edad": "27",
                                    "Domicilio": "General Diaz 343",
                                    "ID_Gerente": "5942572"
                                },
                                {
                                    "ID_empleado": "2310967",
                                    "Nombre": "Jairo",
                                    "Apellido": "Mira",
                                    "Telefono": "36403810",
                                    "Edad": "29",
                                    "Domicilio": "Calle 25 interior 2",
                                    "ID_Gerente": "5942572"
                                },
                                {
                                    "ID_empleado": "9922377",
                                    "Nombre": "Alexander",
                                    "Apellido": "Martinez",
                                    "Telefono": "36554872",
                                    "Edad": "28",
                                    "Domicilio": "Camino viejo 123",
                                    "ID_Gerente": "5942572"
                                },
                                {
                                    "ID_empleado": "2520477",
                                    "Nombre": "Egidio",
                                    "Apellido": "Lopez",
                                    "Telefono": "33444383",
                                    "Edad": "24",
                                    "Domicilio": "Rosas 996",
                                    "ID_Gerente": "5942572"
                                },
                                {
                                    "ID_empleado": "6332756",
                                    "Nombre": "Reinaldo",
                                    "Apellido": "Gonzalez",
                                    "Telefono": "36642727",
                                    "Edad": "43",
                                    "Domicilio": "Vallarta 711",
                                    "ID_Gerente": "5942572"
                                },
                                {
                                    "ID_empleado": "1111222",
                                    "Nombre": "Alberto",
                                    "Apellido": "Barrientos",
                                    "Telefono": "34766613",
                                    "Edad": "26",
                                    "Domicilio": "Federal 233",
                                    "ID_Gerente": "5942572"
                                },
                                {
                                    "ID_empleado": "2630867",
                                    "Nombre": "Elena",
                                    "Apellido": "Atehortua",
                                    "Telefono": "35581732",
                                    "Edad": "37",
                                    "Domicilio": "Sierra del tigre 299",
                                    "ID_Gerente": "5942572"
                                },
                                {
                                    "ID_empleado": "5942572",
                                    "Nombre": "Jesus",
                                    "Apellido": "Agudelo",
                                    "Telefono": "34616222",
                                    "Edad": "35",
                                    "Domicilio": "NULL",
                                    "ID_Gerente": "NULL"
                                }
                            ]
                        },
                        "text/html": [
                            "<table>",
                            "<tr><th>ID_empleado</th><th>Nombre</th><th>Apellido</th><th>Telefono</th><th>Edad</th><th>Domicilio</th><th>ID_Gerente</th></tr>",
                            "<tr><td>3833745</td><td>Maria</td><td>Zapata</td><td>35354455</td><td>34</td><td>Boulevard 85</td><td>5942572</td></tr>",
                            "<tr><td>4245367</td><td>Alexandra</td><td>Zapata</td><td>33467136</td><td>31</td><td>Ingenieros 234</td><td>5942572</td></tr>",
                            "<tr><td>6931035</td><td>Albeiro</td><td>Villa</td><td>33631010</td><td>39</td><td>Carniceros 233</td><td>5942572</td></tr>",
                            "<tr><td>9611338</td><td>Haygnes</td><td>Ortiz</td><td>35400189</td><td>27</td><td>General Diaz 343</td><td>5942572</td></tr>",
                            "<tr><td>2310967</td><td>Jairo</td><td>Mira</td><td>36403810</td><td>29</td><td>Calle 25 interior 2</td><td>5942572</td></tr>",
                            "<tr><td>9922377</td><td>Alexander</td><td>Martinez</td><td>36554872</td><td>28</td><td>Camino viejo 123</td><td>5942572</td></tr>",
                            "<tr><td>2520477</td><td>Egidio</td><td>Lopez</td><td>33444383</td><td>24</td><td>Rosas 996</td><td>5942572</td></tr>",
                            "<tr><td>6332756</td><td>Reinaldo</td><td>Gonzalez</td><td>36642727</td><td>43</td><td>Vallarta 711</td><td>5942572</td></tr>",
                            "<tr><td>1111222</td><td>Alberto</td><td>Barrientos</td><td>34766613</td><td>26</td><td>Federal 233</td><td>5942572</td></tr>",
                            "<tr><td>2630867</td><td>Elena</td><td>Atehortua</td><td>35581732</td><td>37</td><td>Sierra del tigre 299</td><td>5942572</td></tr>",
                            "<tr><td>5942572</td><td>Jesus</td><td>Agudelo</td><td>34616222</td><td>35</td><td>NULL</td><td>NULL</td></tr>",
                            "</table>"
                        ]
                    }
                }
            ],
            "execution_count": 19
        },
        {
            "cell_type": "code",
            "source": [
                "SELECT * FROM empleados ORDER BY telefono DESC;"
            ],
            "metadata": {
                "azdata_cell_guid": "3789a9e6-6c59-4d40-8dd9-d6e782f08f96",
                "language": "sql"
            },
            "outputs": [
                {
                    "output_type": "display_data",
                    "data": {
                        "text/html": "(11 row(s) affected)"
                    },
                    "metadata": {}
                },
                {
                    "output_type": "display_data",
                    "data": {
                        "text/html": "Total execution time: 00:00:01.006"
                    },
                    "metadata": {}
                },
                {
                    "output_type": "execute_result",
                    "metadata": {},
                    "execution_count": 20,
                    "data": {
                        "application/vnd.dataresource+json": {
                            "schema": {
                                "fields": [
                                    {
                                        "name": "ID_empleado"
                                    },
                                    {
                                        "name": "Nombre"
                                    },
                                    {
                                        "name": "Apellido"
                                    },
                                    {
                                        "name": "Telefono"
                                    },
                                    {
                                        "name": "Edad"
                                    },
                                    {
                                        "name": "Domicilio"
                                    },
                                    {
                                        "name": "ID_Gerente"
                                    }
                                ]
                            },
                            "data": [
                                {
                                    "ID_empleado": "6332756",
                                    "Nombre": "Reinaldo",
                                    "Apellido": "Gonzalez",
                                    "Telefono": "36642727",
                                    "Edad": "43",
                                    "Domicilio": "Vallarta 711",
                                    "ID_Gerente": "5942572"
                                },
                                {
                                    "ID_empleado": "9922377",
                                    "Nombre": "Alexander",
                                    "Apellido": "Martinez",
                                    "Telefono": "36554872",
                                    "Edad": "28",
                                    "Domicilio": "Camino viejo 123",
                                    "ID_Gerente": "5942572"
                                },
                                {
                                    "ID_empleado": "2310967",
                                    "Nombre": "Jairo",
                                    "Apellido": "Mira",
                                    "Telefono": "36403810",
                                    "Edad": "29",
                                    "Domicilio": "Calle 25 interior 2",
                                    "ID_Gerente": "5942572"
                                },
                                {
                                    "ID_empleado": "2630867",
                                    "Nombre": "Elena",
                                    "Apellido": "Atehortua",
                                    "Telefono": "35581732",
                                    "Edad": "37",
                                    "Domicilio": "Sierra del tigre 299",
                                    "ID_Gerente": "5942572"
                                },
                                {
                                    "ID_empleado": "9611338",
                                    "Nombre": "Haygnes",
                                    "Apellido": "Ortiz",
                                    "Telefono": "35400189",
                                    "Edad": "27",
                                    "Domicilio": "General Diaz 343",
                                    "ID_Gerente": "5942572"
                                },
                                {
                                    "ID_empleado": "3833745",
                                    "Nombre": "Maria",
                                    "Apellido": "Zapata",
                                    "Telefono": "35354455",
                                    "Edad": "34",
                                    "Domicilio": "Boulevard 85",
                                    "ID_Gerente": "5942572"
                                },
                                {
                                    "ID_empleado": "1111222",
                                    "Nombre": "Alberto",
                                    "Apellido": "Barrientos",
                                    "Telefono": "34766613",
                                    "Edad": "26",
                                    "Domicilio": "Federal 233",
                                    "ID_Gerente": "5942572"
                                },
                                {
                                    "ID_empleado": "5942572",
                                    "Nombre": "Jesus",
                                    "Apellido": "Agudelo",
                                    "Telefono": "34616222",
                                    "Edad": "35",
                                    "Domicilio": "NULL",
                                    "ID_Gerente": "NULL"
                                },
                                {
                                    "ID_empleado": "6931035",
                                    "Nombre": "Albeiro",
                                    "Apellido": "Villa",
                                    "Telefono": "33631010",
                                    "Edad": "39",
                                    "Domicilio": "Carniceros 233",
                                    "ID_Gerente": "5942572"
                                },
                                {
                                    "ID_empleado": "4245367",
                                    "Nombre": "Alexandra",
                                    "Apellido": "Zapata",
                                    "Telefono": "33467136",
                                    "Edad": "31",
                                    "Domicilio": "Ingenieros 234",
                                    "ID_Gerente": "5942572"
                                },
                                {
                                    "ID_empleado": "2520477",
                                    "Nombre": "Egidio",
                                    "Apellido": "Lopez",
                                    "Telefono": "33444383",
                                    "Edad": "24",
                                    "Domicilio": "Rosas 996",
                                    "ID_Gerente": "5942572"
                                }
                            ]
                        },
                        "text/html": [
                            "<table>",
                            "<tr><th>ID_empleado</th><th>Nombre</th><th>Apellido</th><th>Telefono</th><th>Edad</th><th>Domicilio</th><th>ID_Gerente</th></tr>",
                            "<tr><td>6332756</td><td>Reinaldo</td><td>Gonzalez</td><td>36642727</td><td>43</td><td>Vallarta 711</td><td>5942572</td></tr>",
                            "<tr><td>9922377</td><td>Alexander</td><td>Martinez</td><td>36554872</td><td>28</td><td>Camino viejo 123</td><td>5942572</td></tr>",
                            "<tr><td>2310967</td><td>Jairo</td><td>Mira</td><td>36403810</td><td>29</td><td>Calle 25 interior 2</td><td>5942572</td></tr>",
                            "<tr><td>2630867</td><td>Elena</td><td>Atehortua</td><td>35581732</td><td>37</td><td>Sierra del tigre 299</td><td>5942572</td></tr>",
                            "<tr><td>9611338</td><td>Haygnes</td><td>Ortiz</td><td>35400189</td><td>27</td><td>General Diaz 343</td><td>5942572</td></tr>",
                            "<tr><td>3833745</td><td>Maria</td><td>Zapata</td><td>35354455</td><td>34</td><td>Boulevard 85</td><td>5942572</td></tr>",
                            "<tr><td>1111222</td><td>Alberto</td><td>Barrientos</td><td>34766613</td><td>26</td><td>Federal 233</td><td>5942572</td></tr>",
                            "<tr><td>5942572</td><td>Jesus</td><td>Agudelo</td><td>34616222</td><td>35</td><td>NULL</td><td>NULL</td></tr>",
                            "<tr><td>6931035</td><td>Albeiro</td><td>Villa</td><td>33631010</td><td>39</td><td>Carniceros 233</td><td>5942572</td></tr>",
                            "<tr><td>4245367</td><td>Alexandra</td><td>Zapata</td><td>33467136</td><td>31</td><td>Ingenieros 234</td><td>5942572</td></tr>",
                            "<tr><td>2520477</td><td>Egidio</td><td>Lopez</td><td>33444383</td><td>24</td><td>Rosas 996</td><td>5942572</td></tr>",
                            "</table>"
                        ]
                    }
                }
            ],
            "execution_count": 20
        },
        {
            "cell_type": "code",
            "source": [
                "SELECT * FROM empleados WHERE apellido lIKE \"%ez\" ORDER BY apellido DESC;"
            ],
            "metadata": {
                "azdata_cell_guid": "adb67543-2251-4d4b-b548-5f76e3f0ed16",
                "language": "sql"
            },
            "outputs": [
                {
                    "output_type": "display_data",
                    "data": {
                        "text/html": "(3 row(s) affected)"
                    },
                    "metadata": {}
                },
                {
                    "output_type": "display_data",
                    "data": {
                        "text/html": "Total execution time: 00:00:01.016"
                    },
                    "metadata": {}
                },
                {
                    "output_type": "execute_result",
                    "metadata": {},
                    "execution_count": 21,
                    "data": {
                        "application/vnd.dataresource+json": {
                            "schema": {
                                "fields": [
                                    {
                                        "name": "ID_empleado"
                                    },
                                    {
                                        "name": "Nombre"
                                    },
                                    {
                                        "name": "Apellido"
                                    },
                                    {
                                        "name": "Telefono"
                                    },
                                    {
                                        "name": "Edad"
                                    },
                                    {
                                        "name": "Domicilio"
                                    },
                                    {
                                        "name": "ID_Gerente"
                                    }
                                ]
                            },
                            "data": [
                                {
                                    "ID_empleado": "9922377",
                                    "Nombre": "Alexander",
                                    "Apellido": "Martinez",
                                    "Telefono": "36554872",
                                    "Edad": "28",
                                    "Domicilio": "Camino viejo 123",
                                    "ID_Gerente": "5942572"
                                },
                                {
                                    "ID_empleado": "2520477",
                                    "Nombre": "Egidio",
                                    "Apellido": "Lopez",
                                    "Telefono": "33444383",
                                    "Edad": "24",
                                    "Domicilio": "Rosas 996",
                                    "ID_Gerente": "5942572"
                                },
                                {
                                    "ID_empleado": "6332756",
                                    "Nombre": "Reinaldo",
                                    "Apellido": "Gonzalez",
                                    "Telefono": "36642727",
                                    "Edad": "43",
                                    "Domicilio": "Vallarta 711",
                                    "ID_Gerente": "5942572"
                                }
                            ]
                        },
                        "text/html": [
                            "<table>",
                            "<tr><th>ID_empleado</th><th>Nombre</th><th>Apellido</th><th>Telefono</th><th>Edad</th><th>Domicilio</th><th>ID_Gerente</th></tr>",
                            "<tr><td>9922377</td><td>Alexander</td><td>Martinez</td><td>36554872</td><td>28</td><td>Camino viejo 123</td><td>5942572</td></tr>",
                            "<tr><td>2520477</td><td>Egidio</td><td>Lopez</td><td>33444383</td><td>24</td><td>Rosas 996</td><td>5942572</td></tr>",
                            "<tr><td>6332756</td><td>Reinaldo</td><td>Gonzalez</td><td>36642727</td><td>43</td><td>Vallarta 711</td><td>5942572</td></tr>",
                            "</table>"
                        ]
                    }
                }
            ],
            "execution_count": 21
        },
        {
            "cell_type": "code",
            "source": [
                "SELECT * FROM empleados WHERE apellido lIKE \"%ez\" ORDER BY nombre DESC;"
            ],
            "metadata": {
                "azdata_cell_guid": "ac411205-6049-411b-9496-a684f6c2e59b",
                "language": "sql"
            },
            "outputs": [
                {
                    "output_type": "display_data",
                    "data": {
                        "text/html": "(3 row(s) affected)"
                    },
                    "metadata": {}
                },
                {
                    "output_type": "display_data",
                    "data": {
                        "text/html": "Total execution time: 00:00:01.006"
                    },
                    "metadata": {}
                },
                {
                    "output_type": "execute_result",
                    "metadata": {},
                    "execution_count": 22,
                    "data": {
                        "application/vnd.dataresource+json": {
                            "schema": {
                                "fields": [
                                    {
                                        "name": "ID_empleado"
                                    },
                                    {
                                        "name": "Nombre"
                                    },
                                    {
                                        "name": "Apellido"
                                    },
                                    {
                                        "name": "Telefono"
                                    },
                                    {
                                        "name": "Edad"
                                    },
                                    {
                                        "name": "Domicilio"
                                    },
                                    {
                                        "name": "ID_Gerente"
                                    }
                                ]
                            },
                            "data": [
                                {
                                    "ID_empleado": "6332756",
                                    "Nombre": "Reinaldo",
                                    "Apellido": "Gonzalez",
                                    "Telefono": "36642727",
                                    "Edad": "43",
                                    "Domicilio": "Vallarta 711",
                                    "ID_Gerente": "5942572"
                                },
                                {
                                    "ID_empleado": "2520477",
                                    "Nombre": "Egidio",
                                    "Apellido": "Lopez",
                                    "Telefono": "33444383",
                                    "Edad": "24",
                                    "Domicilio": "Rosas 996",
                                    "ID_Gerente": "5942572"
                                },
                                {
                                    "ID_empleado": "9922377",
                                    "Nombre": "Alexander",
                                    "Apellido": "Martinez",
                                    "Telefono": "36554872",
                                    "Edad": "28",
                                    "Domicilio": "Camino viejo 123",
                                    "ID_Gerente": "5942572"
                                }
                            ]
                        },
                        "text/html": [
                            "<table>",
                            "<tr><th>ID_empleado</th><th>Nombre</th><th>Apellido</th><th>Telefono</th><th>Edad</th><th>Domicilio</th><th>ID_Gerente</th></tr>",
                            "<tr><td>6332756</td><td>Reinaldo</td><td>Gonzalez</td><td>36642727</td><td>43</td><td>Vallarta 711</td><td>5942572</td></tr>",
                            "<tr><td>2520477</td><td>Egidio</td><td>Lopez</td><td>33444383</td><td>24</td><td>Rosas 996</td><td>5942572</td></tr>",
                            "<tr><td>9922377</td><td>Alexander</td><td>Martinez</td><td>36554872</td><td>28</td><td>Camino viejo 123</td><td>5942572</td></tr>",
                            "</table>"
                        ]
                    }
                }
            ],
            "execution_count": 22
        },
        {
            "cell_type": "code",
            "source": [
                "SELECT telefono, edad FROM empleados WHERE apellido LIKE \"%ez\" ORDER BY nombre DESC;"
            ],
            "metadata": {
                "azdata_cell_guid": "8e470510-49c4-46ec-bde8-3180ed43abd7",
                "language": "sql"
            },
            "outputs": [
                {
                    "output_type": "display_data",
                    "data": {
                        "text/html": "(3 row(s) affected)"
                    },
                    "metadata": {}
                },
                {
                    "output_type": "display_data",
                    "data": {
                        "text/html": "Total execution time: 00:00:01.013"
                    },
                    "metadata": {}
                },
                {
                    "output_type": "execute_result",
                    "metadata": {},
                    "execution_count": 23,
                    "data": {
                        "application/vnd.dataresource+json": {
                            "schema": {
                                "fields": [
                                    {
                                        "name": "telefono"
                                    },
                                    {
                                        "name": "edad"
                                    }
                                ]
                            },
                            "data": [
                                {
                                    "telefono": "36642727",
                                    "edad": "43"
                                },
                                {
                                    "telefono": "33444383",
                                    "edad": "24"
                                },
                                {
                                    "telefono": "36554872",
                                    "edad": "28"
                                }
                            ]
                        },
                        "text/html": [
                            "<table>",
                            "<tr><th>telefono</th><th>edad</th></tr>",
                            "<tr><td>36642727</td><td>43</td></tr>",
                            "<tr><td>33444383</td><td>24</td></tr>",
                            "<tr><td>36554872</td><td>28</td></tr>",
                            "</table>"
                        ]
                    }
                }
            ],
            "execution_count": 23
        },
        {
            "cell_type": "code",
            "source": [
                "SELECT * FROM empleados WHERE domicilio IS NULL;"
            ],
            "metadata": {
                "azdata_cell_guid": "e49ed316-cff6-45c2-9088-68953274ee7f",
                "language": "sql"
            },
            "outputs": [
                {
                    "output_type": "display_data",
                    "data": {
                        "text/html": "(1 row(s) affected)"
                    },
                    "metadata": {}
                },
                {
                    "output_type": "display_data",
                    "data": {
                        "text/html": "Total execution time: 00:00:01.004"
                    },
                    "metadata": {}
                },
                {
                    "output_type": "execute_result",
                    "metadata": {},
                    "execution_count": 24,
                    "data": {
                        "application/vnd.dataresource+json": {
                            "schema": {
                                "fields": [
                                    {
                                        "name": "ID_empleado"
                                    },
                                    {
                                        "name": "Nombre"
                                    },
                                    {
                                        "name": "Apellido"
                                    },
                                    {
                                        "name": "Telefono"
                                    },
                                    {
                                        "name": "Edad"
                                    },
                                    {
                                        "name": "Domicilio"
                                    },
                                    {
                                        "name": "ID_Gerente"
                                    }
                                ]
                            },
                            "data": [
                                {
                                    "ID_empleado": "5942572",
                                    "Nombre": "Jesus",
                                    "Apellido": "Agudelo",
                                    "Telefono": "34616222",
                                    "Edad": "35",
                                    "Domicilio": "NULL",
                                    "ID_Gerente": "NULL"
                                }
                            ]
                        },
                        "text/html": [
                            "<table>",
                            "<tr><th>ID_empleado</th><th>Nombre</th><th>Apellido</th><th>Telefono</th><th>Edad</th><th>Domicilio</th><th>ID_Gerente</th></tr>",
                            "<tr><td>5942572</td><td>Jesus</td><td>Agudelo</td><td>34616222</td><td>35</td><td>NULL</td><td>NULL</td></tr>",
                            "</table>"
                        ]
                    }
                }
            ],
            "execution_count": 24
        },
        {
            "cell_type": "code",
            "source": [
                "SELECT * FROM empleados WHERE domicilio IS NOT NULL;"
            ],
            "metadata": {
                "azdata_cell_guid": "024d453e-1325-47ed-a01b-a91b43886413",
                "language": "sql"
            },
            "outputs": [
                {
                    "output_type": "display_data",
                    "data": {
                        "text/html": "(10 row(s) affected)"
                    },
                    "metadata": {}
                },
                {
                    "output_type": "display_data",
                    "data": {
                        "text/html": "Total execution time: 00:00:01.012"
                    },
                    "metadata": {}
                },
                {
                    "output_type": "execute_result",
                    "metadata": {},
                    "execution_count": 25,
                    "data": {
                        "application/vnd.dataresource+json": {
                            "schema": {
                                "fields": [
                                    {
                                        "name": "ID_empleado"
                                    },
                                    {
                                        "name": "Nombre"
                                    },
                                    {
                                        "name": "Apellido"
                                    },
                                    {
                                        "name": "Telefono"
                                    },
                                    {
                                        "name": "Edad"
                                    },
                                    {
                                        "name": "Domicilio"
                                    },
                                    {
                                        "name": "ID_Gerente"
                                    }
                                ]
                            },
                            "data": [
                                {
                                    "ID_empleado": "1111222",
                                    "Nombre": "Alberto",
                                    "Apellido": "Barrientos",
                                    "Telefono": "34766613",
                                    "Edad": "26",
                                    "Domicilio": "Federal 233",
                                    "ID_Gerente": "5942572"
                                },
                                {
                                    "ID_empleado": "2310967",
                                    "Nombre": "Jairo",
                                    "Apellido": "Mira",
                                    "Telefono": "36403810",
                                    "Edad": "29",
                                    "Domicilio": "Calle 25 interior 2",
                                    "ID_Gerente": "5942572"
                                },
                                {
                                    "ID_empleado": "2520477",
                                    "Nombre": "Egidio",
                                    "Apellido": "Lopez",
                                    "Telefono": "33444383",
                                    "Edad": "24",
                                    "Domicilio": "Rosas 996",
                                    "ID_Gerente": "5942572"
                                },
                                {
                                    "ID_empleado": "2630867",
                                    "Nombre": "Elena",
                                    "Apellido": "Atehortua",
                                    "Telefono": "35581732",
                                    "Edad": "37",
                                    "Domicilio": "Sierra del tigre 299",
                                    "ID_Gerente": "5942572"
                                },
                                {
                                    "ID_empleado": "3833745",
                                    "Nombre": "Maria",
                                    "Apellido": "Zapata",
                                    "Telefono": "35354455",
                                    "Edad": "34",
                                    "Domicilio": "Boulevard 85",
                                    "ID_Gerente": "5942572"
                                },
                                {
                                    "ID_empleado": "4245367",
                                    "Nombre": "Alexandra",
                                    "Apellido": "Zapata",
                                    "Telefono": "33467136",
                                    "Edad": "31",
                                    "Domicilio": "Ingenieros 234",
                                    "ID_Gerente": "5942572"
                                },
                                {
                                    "ID_empleado": "6332756",
                                    "Nombre": "Reinaldo",
                                    "Apellido": "Gonzalez",
                                    "Telefono": "36642727",
                                    "Edad": "43",
                                    "Domicilio": "Vallarta 711",
                                    "ID_Gerente": "5942572"
                                },
                                {
                                    "ID_empleado": "6931035",
                                    "Nombre": "Albeiro",
                                    "Apellido": "Villa",
                                    "Telefono": "33631010",
                                    "Edad": "39",
                                    "Domicilio": "Carniceros 233",
                                    "ID_Gerente": "5942572"
                                },
                                {
                                    "ID_empleado": "9611338",
                                    "Nombre": "Haygnes",
                                    "Apellido": "Ortiz",
                                    "Telefono": "35400189",
                                    "Edad": "27",
                                    "Domicilio": "General Diaz 343",
                                    "ID_Gerente": "5942572"
                                },
                                {
                                    "ID_empleado": "9922377",
                                    "Nombre": "Alexander",
                                    "Apellido": "Martinez",
                                    "Telefono": "36554872",
                                    "Edad": "28",
                                    "Domicilio": "Camino viejo 123",
                                    "ID_Gerente": "5942572"
                                }
                            ]
                        },
                        "text/html": [
                            "<table>",
                            "<tr><th>ID_empleado</th><th>Nombre</th><th>Apellido</th><th>Telefono</th><th>Edad</th><th>Domicilio</th><th>ID_Gerente</th></tr>",
                            "<tr><td>1111222</td><td>Alberto</td><td>Barrientos</td><td>34766613</td><td>26</td><td>Federal 233</td><td>5942572</td></tr>",
                            "<tr><td>2310967</td><td>Jairo</td><td>Mira</td><td>36403810</td><td>29</td><td>Calle 25 interior 2</td><td>5942572</td></tr>",
                            "<tr><td>2520477</td><td>Egidio</td><td>Lopez</td><td>33444383</td><td>24</td><td>Rosas 996</td><td>5942572</td></tr>",
                            "<tr><td>2630867</td><td>Elena</td><td>Atehortua</td><td>35581732</td><td>37</td><td>Sierra del tigre 299</td><td>5942572</td></tr>",
                            "<tr><td>3833745</td><td>Maria</td><td>Zapata</td><td>35354455</td><td>34</td><td>Boulevard 85</td><td>5942572</td></tr>",
                            "<tr><td>4245367</td><td>Alexandra</td><td>Zapata</td><td>33467136</td><td>31</td><td>Ingenieros 234</td><td>5942572</td></tr>",
                            "<tr><td>6332756</td><td>Reinaldo</td><td>Gonzalez</td><td>36642727</td><td>43</td><td>Vallarta 711</td><td>5942572</td></tr>",
                            "<tr><td>6931035</td><td>Albeiro</td><td>Villa</td><td>33631010</td><td>39</td><td>Carniceros 233</td><td>5942572</td></tr>",
                            "<tr><td>9611338</td><td>Haygnes</td><td>Ortiz</td><td>35400189</td><td>27</td><td>General Diaz 343</td><td>5942572</td></tr>",
                            "<tr><td>9922377</td><td>Alexander</td><td>Martinez</td><td>36554872</td><td>28</td><td>Camino viejo 123</td><td>5942572</td></tr>",
                            "</table>"
                        ]
                    }
                }
            ],
            "execution_count": 25
        },
        {
            "cell_type": "code",
            "source": [
                "SELECT * FROM ventas;"
            ],
            "metadata": {
                "azdata_cell_guid": "5323a274-9cc0-4375-9932-87a42e2c9e33",
                "language": "sql"
            },
            "outputs": [
                {
                    "output_type": "display_data",
                    "data": {
                        "text/html": "(22 row(s) affected)"
                    },
                    "metadata": {}
                },
                {
                    "output_type": "display_data",
                    "data": {
                        "text/html": "Total execution time: 00:00:01.015"
                    },
                    "metadata": {}
                },
                {
                    "output_type": "execute_result",
                    "metadata": {},
                    "execution_count": 26,
                    "data": {
                        "application/vnd.dataresource+json": {
                            "schema": {
                                "fields": [
                                    {
                                        "name": "ventas_id"
                                    },
                                    {
                                        "name": "Fecha"
                                    },
                                    {
                                        "name": "ID_local"
                                    },
                                    {
                                        "name": "clave_producto"
                                    },
                                    {
                                        "name": "venta"
                                    },
                                    {
                                        "name": "venta_empleado"
                                    }
                                ]
                            },
                            "data": [
                                {
                                    "ventas_id": "1",
                                    "Fecha": "2018-11-18 00:00:00",
                                    "ID_local": "2",
                                    "clave_producto": "pzz",
                                    "venta": "1302",
                                    "venta_empleado": "2630867"
                                },
                                {
                                    "ventas_id": "2",
                                    "Fecha": "2018-09-17 00:00:00",
                                    "ID_local": "2",
                                    "clave_producto": "clz",
                                    "venta": "953",
                                    "venta_empleado": "2310967"
                                },
                                {
                                    "ventas_id": "3",
                                    "Fecha": "2018-10-18 00:00:00",
                                    "ID_local": "4",
                                    "clave_producto": "brr",
                                    "venta": "1286",
                                    "venta_empleado": "6931035"
                                },
                                {
                                    "ventas_id": "4",
                                    "Fecha": "2018-10-30 00:00:00",
                                    "ID_local": "1",
                                    "clave_producto": "brr",
                                    "venta": "889",
                                    "venta_empleado": "9922377"
                                },
                                {
                                    "ventas_id": "5",
                                    "Fecha": "2018-05-16 00:00:00",
                                    "ID_local": "1",
                                    "clave_producto": "qsd",
                                    "venta": "495",
                                    "venta_empleado": "2520477"
                                },
                                {
                                    "ventas_id": "6",
                                    "Fecha": "2018-12-15 00:00:00",
                                    "ID_local": "3",
                                    "clave_producto": "pzz",
                                    "venta": "544",
                                    "venta_empleado": "9611338"
                                },
                                {
                                    "ventas_id": "7",
                                    "Fecha": "2018-07-28 00:00:00",
                                    "ID_local": "4",
                                    "clave_producto": "pzz",
                                    "venta": "1444",
                                    "venta_empleado": "6332756"
                                },
                                {
                                    "ventas_id": "8",
                                    "Fecha": "2018-10-05 00:00:00",
                                    "ID_local": "1",
                                    "clave_producto": "pzz",
                                    "venta": "435",
                                    "venta_empleado": "2520477"
                                },
                                {
                                    "ventas_id": "9",
                                    "Fecha": "2018-04-20 00:00:00",
                                    "ID_local": "1",
                                    "clave_producto": "qsd",
                                    "venta": "1203",
                                    "venta_empleado": "9922377"
                                },
                                {
                                    "ventas_id": "10",
                                    "Fecha": "2018-06-08 00:00:00",
                                    "ID_local": "1",
                                    "clave_producto": "brr",
                                    "venta": "1038",
                                    "venta_empleado": "6332756"
                                },
                                {
                                    "ventas_id": "11",
                                    "Fecha": "2018-08-22 00:00:00",
                                    "ID_local": "1",
                                    "clave_producto": "brr",
                                    "venta": "404",
                                    "venta_empleado": "3833745"
                                },
                                {
                                    "ventas_id": "12",
                                    "Fecha": "2019-09-03 00:00:00",
                                    "ID_local": "1",
                                    "clave_producto": "pzz",
                                    "venta": "1362",
                                    "venta_empleado": "5728566"
                                },
                                {
                                    "ventas_id": "13",
                                    "Fecha": "2019-07-16 00:00:00",
                                    "ID_local": "3",
                                    "clave_producto": "qsd",
                                    "venta": "1054",
                                    "venta_empleado": "2310967"
                                },
                                {
                                    "ventas_id": "14",
                                    "Fecha": "2019-08-27 00:00:00",
                                    "ID_local": "3",
                                    "clave_producto": "clz",
                                    "venta": "303",
                                    "venta_empleado": "3833745"
                                },
                                {
                                    "ventas_id": "15",
                                    "Fecha": "2019-12-15 00:00:00",
                                    "ID_local": "1",
                                    "clave_producto": "brr",
                                    "venta": "871",
                                    "venta_empleado": "2520477"
                                },
                                {
                                    "ventas_id": "16",
                                    "Fecha": "2019-07-30 00:00:00",
                                    "ID_local": "3",
                                    "clave_producto": "brr",
                                    "venta": "1062",
                                    "venta_empleado": "5728566"
                                },
                                {
                                    "ventas_id": "17",
                                    "Fecha": "2019-10-25 00:00:00",
                                    "ID_local": "1",
                                    "clave_producto": "pzz",
                                    "venta": "1376",
                                    "venta_empleado": "6332756"
                                },
                                {
                                    "ventas_id": "18",
                                    "Fecha": "2019-12-14 00:00:00",
                                    "ID_local": "3",
                                    "clave_producto": "pzz",
                                    "venta": "957",
                                    "venta_empleado": "2310967"
                                },
                                {
                                    "ventas_id": "19",
                                    "Fecha": "2019-08-14 00:00:00",
                                    "ID_local": "2",
                                    "clave_producto": "clz",
                                    "venta": "972",
                                    "venta_empleado": "2310967"
                                },
                                {
                                    "ventas_id": "20",
                                    "Fecha": "2019-12-01 00:00:00",
                                    "ID_local": "1",
                                    "clave_producto": "pzz",
                                    "venta": "1455",
                                    "venta_empleado": "2310967"
                                },
                                {
                                    "ventas_id": "21",
                                    "Fecha": "2019-06-08 00:00:00",
                                    "ID_local": "4",
                                    "clave_producto": "qsd",
                                    "venta": "497",
                                    "venta_empleado": "5728566"
                                },
                                {
                                    "ventas_id": "22",
                                    "Fecha": "2019-07-25 00:00:00",
                                    "ID_local": "3",
                                    "clave_producto": "clz",
                                    "venta": "1179",
                                    "venta_empleado": "2310967"
                                }
                            ]
                        },
                        "text/html": [
                            "<table>",
                            "<tr><th>ventas_id</th><th>Fecha</th><th>ID_local</th><th>clave_producto</th><th>venta</th><th>venta_empleado</th></tr>",
                            "<tr><td>1</td><td>2018-11-18 00:00:00</td><td>2</td><td>pzz</td><td>1302</td><td>2630867</td></tr>",
                            "<tr><td>2</td><td>2018-09-17 00:00:00</td><td>2</td><td>clz</td><td>953</td><td>2310967</td></tr>",
                            "<tr><td>3</td><td>2018-10-18 00:00:00</td><td>4</td><td>brr</td><td>1286</td><td>6931035</td></tr>",
                            "<tr><td>4</td><td>2018-10-30 00:00:00</td><td>1</td><td>brr</td><td>889</td><td>9922377</td></tr>",
                            "<tr><td>5</td><td>2018-05-16 00:00:00</td><td>1</td><td>qsd</td><td>495</td><td>2520477</td></tr>",
                            "<tr><td>6</td><td>2018-12-15 00:00:00</td><td>3</td><td>pzz</td><td>544</td><td>9611338</td></tr>",
                            "<tr><td>7</td><td>2018-07-28 00:00:00</td><td>4</td><td>pzz</td><td>1444</td><td>6332756</td></tr>",
                            "<tr><td>8</td><td>2018-10-05 00:00:00</td><td>1</td><td>pzz</td><td>435</td><td>2520477</td></tr>",
                            "<tr><td>9</td><td>2018-04-20 00:00:00</td><td>1</td><td>qsd</td><td>1203</td><td>9922377</td></tr>",
                            "<tr><td>10</td><td>2018-06-08 00:00:00</td><td>1</td><td>brr</td><td>1038</td><td>6332756</td></tr>",
                            "<tr><td>11</td><td>2018-08-22 00:00:00</td><td>1</td><td>brr</td><td>404</td><td>3833745</td></tr>",
                            "<tr><td>12</td><td>2019-09-03 00:00:00</td><td>1</td><td>pzz</td><td>1362</td><td>5728566</td></tr>",
                            "<tr><td>13</td><td>2019-07-16 00:00:00</td><td>3</td><td>qsd</td><td>1054</td><td>2310967</td></tr>",
                            "<tr><td>14</td><td>2019-08-27 00:00:00</td><td>3</td><td>clz</td><td>303</td><td>3833745</td></tr>",
                            "<tr><td>15</td><td>2019-12-15 00:00:00</td><td>1</td><td>brr</td><td>871</td><td>2520477</td></tr>",
                            "<tr><td>16</td><td>2019-07-30 00:00:00</td><td>3</td><td>brr</td><td>1062</td><td>5728566</td></tr>",
                            "<tr><td>17</td><td>2019-10-25 00:00:00</td><td>1</td><td>pzz</td><td>1376</td><td>6332756</td></tr>",
                            "<tr><td>18</td><td>2019-12-14 00:00:00</td><td>3</td><td>pzz</td><td>957</td><td>2310967</td></tr>",
                            "<tr><td>19</td><td>2019-08-14 00:00:00</td><td>2</td><td>clz</td><td>972</td><td>2310967</td></tr>",
                            "<tr><td>20</td><td>2019-12-01 00:00:00</td><td>1</td><td>pzz</td><td>1455</td><td>2310967</td></tr>",
                            "<tr><td>21</td><td>2019-06-08 00:00:00</td><td>4</td><td>qsd</td><td>497</td><td>5728566</td></tr>",
                            "<tr><td>22</td><td>2019-07-25 00:00:00</td><td>3</td><td>clz</td><td>1179</td><td>2310967</td></tr>",
                            "</table>"
                        ]
                    }
                }
            ],
            "execution_count": 26
        },
        {
            "cell_type": "code",
            "source": [
                "SELECT * FROM ventas LIMIT 5;"
            ],
            "metadata": {
                "azdata_cell_guid": "9ada291f-4f39-4b5d-a556-e6cdb001a15d",
                "language": "sql"
            },
            "outputs": [
                {
                    "output_type": "display_data",
                    "data": {
                        "text/html": "(5 row(s) affected)"
                    },
                    "metadata": {}
                },
                {
                    "output_type": "display_data",
                    "data": {
                        "text/html": "Total execution time: 00:00:01.006"
                    },
                    "metadata": {}
                },
                {
                    "output_type": "execute_result",
                    "metadata": {},
                    "execution_count": 27,
                    "data": {
                        "application/vnd.dataresource+json": {
                            "schema": {
                                "fields": [
                                    {
                                        "name": "ventas_id"
                                    },
                                    {
                                        "name": "Fecha"
                                    },
                                    {
                                        "name": "ID_local"
                                    },
                                    {
                                        "name": "clave_producto"
                                    },
                                    {
                                        "name": "venta"
                                    },
                                    {
                                        "name": "venta_empleado"
                                    }
                                ]
                            },
                            "data": [
                                {
                                    "ventas_id": "1",
                                    "Fecha": "2018-11-18 00:00:00",
                                    "ID_local": "2",
                                    "clave_producto": "pzz",
                                    "venta": "1302",
                                    "venta_empleado": "2630867"
                                },
                                {
                                    "ventas_id": "2",
                                    "Fecha": "2018-09-17 00:00:00",
                                    "ID_local": "2",
                                    "clave_producto": "clz",
                                    "venta": "953",
                                    "venta_empleado": "2310967"
                                },
                                {
                                    "ventas_id": "3",
                                    "Fecha": "2018-10-18 00:00:00",
                                    "ID_local": "4",
                                    "clave_producto": "brr",
                                    "venta": "1286",
                                    "venta_empleado": "6931035"
                                },
                                {
                                    "ventas_id": "4",
                                    "Fecha": "2018-10-30 00:00:00",
                                    "ID_local": "1",
                                    "clave_producto": "brr",
                                    "venta": "889",
                                    "venta_empleado": "9922377"
                                },
                                {
                                    "ventas_id": "5",
                                    "Fecha": "2018-05-16 00:00:00",
                                    "ID_local": "1",
                                    "clave_producto": "qsd",
                                    "venta": "495",
                                    "venta_empleado": "2520477"
                                }
                            ]
                        },
                        "text/html": [
                            "<table>",
                            "<tr><th>ventas_id</th><th>Fecha</th><th>ID_local</th><th>clave_producto</th><th>venta</th><th>venta_empleado</th></tr>",
                            "<tr><td>1</td><td>2018-11-18 00:00:00</td><td>2</td><td>pzz</td><td>1302</td><td>2630867</td></tr>",
                            "<tr><td>2</td><td>2018-09-17 00:00:00</td><td>2</td><td>clz</td><td>953</td><td>2310967</td></tr>",
                            "<tr><td>3</td><td>2018-10-18 00:00:00</td><td>4</td><td>brr</td><td>1286</td><td>6931035</td></tr>",
                            "<tr><td>4</td><td>2018-10-30 00:00:00</td><td>1</td><td>brr</td><td>889</td><td>9922377</td></tr>",
                            "<tr><td>5</td><td>2018-05-16 00:00:00</td><td>1</td><td>qsd</td><td>495</td><td>2520477</td></tr>",
                            "</table>"
                        ]
                    }
                }
            ],
            "execution_count": 27
        },
        {
            "cell_type": "code",
            "source": [
                "SELECT * FROM ventas LIMIT 5,9;"
            ],
            "metadata": {
                "azdata_cell_guid": "5b4757f8-2ba9-4a31-9140-d003786e9dcf",
                "language": "sql"
            },
            "outputs": [
                {
                    "output_type": "display_data",
                    "data": {
                        "text/html": "(9 row(s) affected)"
                    },
                    "metadata": {}
                },
                {
                    "output_type": "display_data",
                    "data": {
                        "text/html": "Total execution time: 00:00:01.009"
                    },
                    "metadata": {}
                },
                {
                    "output_type": "execute_result",
                    "metadata": {},
                    "execution_count": 28,
                    "data": {
                        "application/vnd.dataresource+json": {
                            "schema": {
                                "fields": [
                                    {
                                        "name": "ventas_id"
                                    },
                                    {
                                        "name": "Fecha"
                                    },
                                    {
                                        "name": "ID_local"
                                    },
                                    {
                                        "name": "clave_producto"
                                    },
                                    {
                                        "name": "venta"
                                    },
                                    {
                                        "name": "venta_empleado"
                                    }
                                ]
                            },
                            "data": [
                                {
                                    "ventas_id": "6",
                                    "Fecha": "2018-12-15 00:00:00",
                                    "ID_local": "3",
                                    "clave_producto": "pzz",
                                    "venta": "544",
                                    "venta_empleado": "9611338"
                                },
                                {
                                    "ventas_id": "7",
                                    "Fecha": "2018-07-28 00:00:00",
                                    "ID_local": "4",
                                    "clave_producto": "pzz",
                                    "venta": "1444",
                                    "venta_empleado": "6332756"
                                },
                                {
                                    "ventas_id": "8",
                                    "Fecha": "2018-10-05 00:00:00",
                                    "ID_local": "1",
                                    "clave_producto": "pzz",
                                    "venta": "435",
                                    "venta_empleado": "2520477"
                                },
                                {
                                    "ventas_id": "9",
                                    "Fecha": "2018-04-20 00:00:00",
                                    "ID_local": "1",
                                    "clave_producto": "qsd",
                                    "venta": "1203",
                                    "venta_empleado": "9922377"
                                },
                                {
                                    "ventas_id": "10",
                                    "Fecha": "2018-06-08 00:00:00",
                                    "ID_local": "1",
                                    "clave_producto": "brr",
                                    "venta": "1038",
                                    "venta_empleado": "6332756"
                                },
                                {
                                    "ventas_id": "11",
                                    "Fecha": "2018-08-22 00:00:00",
                                    "ID_local": "1",
                                    "clave_producto": "brr",
                                    "venta": "404",
                                    "venta_empleado": "3833745"
                                },
                                {
                                    "ventas_id": "12",
                                    "Fecha": "2019-09-03 00:00:00",
                                    "ID_local": "1",
                                    "clave_producto": "pzz",
                                    "venta": "1362",
                                    "venta_empleado": "5728566"
                                },
                                {
                                    "ventas_id": "13",
                                    "Fecha": "2019-07-16 00:00:00",
                                    "ID_local": "3",
                                    "clave_producto": "qsd",
                                    "venta": "1054",
                                    "venta_empleado": "2310967"
                                },
                                {
                                    "ventas_id": "14",
                                    "Fecha": "2019-08-27 00:00:00",
                                    "ID_local": "3",
                                    "clave_producto": "clz",
                                    "venta": "303",
                                    "venta_empleado": "3833745"
                                }
                            ]
                        },
                        "text/html": [
                            "<table>",
                            "<tr><th>ventas_id</th><th>Fecha</th><th>ID_local</th><th>clave_producto</th><th>venta</th><th>venta_empleado</th></tr>",
                            "<tr><td>6</td><td>2018-12-15 00:00:00</td><td>3</td><td>pzz</td><td>544</td><td>9611338</td></tr>",
                            "<tr><td>7</td><td>2018-07-28 00:00:00</td><td>4</td><td>pzz</td><td>1444</td><td>6332756</td></tr>",
                            "<tr><td>8</td><td>2018-10-05 00:00:00</td><td>1</td><td>pzz</td><td>435</td><td>2520477</td></tr>",
                            "<tr><td>9</td><td>2018-04-20 00:00:00</td><td>1</td><td>qsd</td><td>1203</td><td>9922377</td></tr>",
                            "<tr><td>10</td><td>2018-06-08 00:00:00</td><td>1</td><td>brr</td><td>1038</td><td>6332756</td></tr>",
                            "<tr><td>11</td><td>2018-08-22 00:00:00</td><td>1</td><td>brr</td><td>404</td><td>3833745</td></tr>",
                            "<tr><td>12</td><td>2019-09-03 00:00:00</td><td>1</td><td>pzz</td><td>1362</td><td>5728566</td></tr>",
                            "<tr><td>13</td><td>2019-07-16 00:00:00</td><td>3</td><td>qsd</td><td>1054</td><td>2310967</td></tr>",
                            "<tr><td>14</td><td>2019-08-27 00:00:00</td><td>3</td><td>clz</td><td>303</td><td>3833745</td></tr>",
                            "</table>"
                        ]
                    }
                }
            ],
            "execution_count": 28
        },
        {
            "cell_type": "code",
            "source": [
                ""
            ],
            "metadata": {
                "azdata_cell_guid": "7cbeb7eb-5803-48aa-8775-831be9b4b782",
                "language": "sql"
            },
            "outputs": [],
            "execution_count": null
        }
    ]
}