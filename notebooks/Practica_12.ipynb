{
    "metadata": {
        "kernelspec": {
            "name": "SQL",
            "display_name": "SQL",
            "language": "sql"
        },
        "language_info": {
            "name": "sql",
            "version": ""
        }
    },
    "nbformat_minor": 2,
    "nbformat": 4,
    "cells": [
        {
            "cell_type": "markdown",
            "source": [
                "# Practica 12 - Funciones esenciales en SQL"
            ],
            "metadata": {
                "azdata_cell_guid": "340994e9-49a9-469b-ae0b-edbfb84e7052"
            },
            "attachments": {}
        },
        {
            "cell_type": "markdown",
            "source": [
                "## Parte 1. Responder utilizando el schema **base.sql**"
            ],
            "metadata": {
                "azdata_cell_guid": "7d5c20f0-61e7-4846-94db-5bb6c9154d1a"
            },
            "attachments": {}
        },
        {
            "cell_type": "markdown",
            "source": [
                "## Funciones String & Fecha"
            ],
            "metadata": {
                "azdata_cell_guid": "6ed64a62-e15f-43ed-b81b-3a159413d8de"
            },
            "attachments": {}
        },
        {
            "cell_type": "markdown",
            "source": [
                "**1\\. ¿Cuál es el nombre y apellido más largo de nuestros vendedores?**"
            ],
            "metadata": {
                "azdata_cell_guid": "d1a88cf2-a322-4ebe-a9b9-decc60f2cdda"
            },
            "attachments": {}
        },
        {
            "cell_type": "code",
            "source": [
                "USE base;\r\n",
                "SELECT Nombre, Apellido\r\n",
                "FROM vendedor\r\n",
                "ORDER BY CHAR_LENGTH(Nombre) DESC, CHAR_LENGTH(Apellido) DESC\r\n",
                "LIMIT 1;\r\n",
                ""
            ],
            "metadata": {
                "azdata_cell_guid": "dd12b97c-e864-42de-82cb-d8666dae007d",
                "language": "sql"
            },
            "outputs": [
                {
                    "output_type": "display_data",
                    "data": {
                        "text/html": "Commands completed successfully"
                    },
                    "metadata": {}
                },
                {
                    "output_type": "display_data",
                    "data": {
                        "text/html": "(1 row(s) affected)"
                    },
                    "metadata": {}
                },
                {
                    "output_type": "display_data",
                    "data": {
                        "text/html": "Total execution time: 00:00:01.012"
                    },
                    "metadata": {}
                },
                {
                    "output_type": "execute_result",
                    "metadata": {},
                    "execution_count": 2,
                    "data": {
                        "application/vnd.dataresource+json": {
                            "schema": {
                                "fields": [
                                    {
                                        "name": "Nombre"
                                    },
                                    {
                                        "name": "Apellido"
                                    }
                                ]
                            },
                            "data": [
                                {
                                    "Nombre": "FRANCISCO JAVIER",
                                    "Apellido": "GARCIA"
                                }
                            ]
                        },
                        "text/html": [
                            "<table>",
                            "<tr><th>Nombre</th><th>Apellido</th></tr>",
                            "<tr><td>FRANCISCO JAVIER</td><td>GARCIA</td></tr>",
                            "</table>"
                        ]
                    }
                }
            ],
            "execution_count": 2
        },
        {
            "cell_type": "markdown",
            "source": [
                "**2\\. Obtener las ventas totales para los últimos 3 años**"
            ],
            "metadata": {
                "language": "sql",
                "azdata_cell_guid": "945251e9-3b9a-4ca3-b879-85741d25ea5b"
            },
            "attachments": {}
        },
        {
            "cell_type": "code",
            "source": [
                "use base;\r\n",
                "SELECT SUM(Venta) AS VentasTotales\r\n",
                "FROM ventas\r\n",
                "WHERE YEAR(STR_TO_DATE(`Fecha venta`, '%d-%b-%y')) IN (2017, 2018, 2019);"
            ],
            "metadata": {
                "language": "sql",
                "azdata_cell_guid": "7c0804ce-0af2-4d6d-88c0-dac7bd100847"
            },
            "outputs": [
                {
                    "output_type": "display_data",
                    "data": {
                        "text/html": "Commands completed successfully"
                    },
                    "metadata": {}
                },
                {
                    "output_type": "display_data",
                    "data": {
                        "text/html": "(1 row(s) affected)"
                    },
                    "metadata": {}
                },
                {
                    "output_type": "display_data",
                    "data": {
                        "text/html": "Total execution time: 00:00:01.009"
                    },
                    "metadata": {}
                },
                {
                    "output_type": "execute_result",
                    "metadata": {},
                    "execution_count": 8,
                    "data": {
                        "application/vnd.dataresource+json": {
                            "schema": {
                                "fields": [
                                    {
                                        "name": "VentasTotales"
                                    }
                                ]
                            },
                            "data": [
                                {
                                    "VentasTotales": "2788149682"
                                }
                            ]
                        },
                        "text/html": [
                            "<table>",
                            "<tr><th>VentasTotales</th></tr>",
                            "<tr><td>2788149682</td></tr>",
                            "</table>"
                        ]
                    }
                }
            ],
            "execution_count": 8
        },
        {
            "cell_type": "markdown",
            "source": [
                "## Condicional IF"
            ],
            "metadata": {
                "language": "sql",
                "azdata_cell_guid": "58b9ed6b-9884-4c56-a813-8d731646fb70"
            },
            "attachments": {}
        },
        {
            "cell_type": "markdown",
            "source": [
                "**3\\. Genera una lista para dar seguimiento a las ventas mayores a $ 2.9 M en 2019**"
            ],
            "metadata": {
                "language": "sql",
                "azdata_cell_guid": "11763f1c-809f-4847-9b31-5ff0d0d8d177"
            },
            "attachments": {}
        },
        {
            "cell_type": "code",
            "source": [
                "SELECT v.ID_Venta, v.`Fecha venta`, v.ID_Producto, v.ID_Vendedor, v.ID_Cliente, p.pago\r\n",
                "FROM ventas v\r\n",
                "JOIN pagos p ON v.ID_Venta = p.id_venta\r\n",
                "WHERE p.pago > 2900000\r\n",
                "  AND v.`Fecha venta` LIKE '%19';"
            ],
            "metadata": {
                "language": "sql",
                "azdata_cell_guid": "28e3062e-2fcd-4f84-bf36-601d7c70f178"
            },
            "outputs": [
                {
                    "output_type": "display_data",
                    "data": {
                        "text/html": "(309 row(s) affected)"
                    },
                    "metadata": {}
                },
                {
                    "output_type": "display_data",
                    "data": {
                        "text/html": "Total execution time: 00:00:01.021"
                    },
                    "metadata": {}
                },
                {
                    "output_type": "execute_result",
                    "metadata": {},
                    "execution_count": 3,
                    "data": {
                        "application/vnd.dataresource+json": {
                            "schema": {
                                "fields": [
                                    {
                                        "name": "ID_Venta"
                                    },
                                    {
                                        "name": "Fecha venta"
                                    },
                                    {
                                        "name": "ID_Producto"
                                    },
                                    {
                                        "name": "ID_Vendedor"
                                    },
                                    {
                                        "name": "ID_Cliente"
                                    },
                                    {
                                        "name": "pago"
                                    }
                                ]
                            },
                            "data": [
                                {
                                    "ID_Venta": "3025",
                                    "Fecha venta": "1-Jan-19",
                                    "ID_Producto": "3",
                                    "ID_Vendedor": "26",
                                    "ID_Cliente": "2",
                                    "pago": "33284800"
                                },
                                {
                                    "ID_Venta": "3026",
                                    "Fecha venta": "1-Jan-19",
                                    "ID_Producto": "2",
                                    "ID_Vendedor": "40",
                                    "ID_Cliente": "10",
                                    "pago": "10271850"
                                },
                                {
                                    "ID_Venta": "3027",
                                    "Fecha venta": "1-Feb-19",
                                    "ID_Producto": "2",
                                    "ID_Vendedor": "38",
                                    "ID_Cliente": "9",
                                    "pago": "16693738"
                                },
                                {
                                    "ID_Venta": "3028",
                                    "Fecha venta": "1-Mar-19",
                                    "ID_Producto": "1",
                                    "ID_Vendedor": "7",
                                    "ID_Cliente": "7",
                                    "pago": "29982713"
                                },
                                {
                                    "ID_Venta": "3029",
                                    "Fecha venta": "1-Mar-19",
                                    "ID_Producto": "3",
                                    "ID_Vendedor": "15",
                                    "ID_Cliente": "8",
                                    "pago": "6080200"
                                },
                                {
                                    "ID_Venta": "3030",
                                    "Fecha venta": "1-Apr-19",
                                    "ID_Producto": "4",
                                    "ID_Vendedor": "49",
                                    "ID_Cliente": "6",
                                    "pago": "5371625"
                                },
                                {
                                    "ID_Venta": "3031",
                                    "Fecha venta": "1-Apr-19",
                                    "ID_Producto": "5",
                                    "ID_Vendedor": "49",
                                    "ID_Cliente": "8",
                                    "pago": "11304300"
                                },
                                {
                                    "ID_Venta": "3032",
                                    "Fecha venta": "1-May-19",
                                    "ID_Producto": "4",
                                    "ID_Vendedor": "47",
                                    "ID_Cliente": "2",
                                    "pago": "8040000"
                                },
                                {
                                    "ID_Venta": "3033",
                                    "Fecha venta": "1-May-19",
                                    "ID_Producto": "5",
                                    "ID_Vendedor": "28",
                                    "ID_Cliente": "7",
                                    "pago": "7145950"
                                },
                                {
                                    "ID_Venta": "3034",
                                    "Fecha venta": "1-May-19",
                                    "ID_Producto": "4",
                                    "ID_Vendedor": "44",
                                    "ID_Cliente": "9",
                                    "pago": "11074500"
                                },
                                {
                                    "ID_Venta": "3035",
                                    "Fecha venta": "1-May-19",
                                    "ID_Producto": "4",
                                    "ID_Vendedor": "38",
                                    "ID_Cliente": "2",
                                    "pago": "19001488"
                                },
                                {
                                    "ID_Venta": "3036",
                                    "Fecha venta": "1-Jun-19",
                                    "ID_Producto": "4",
                                    "ID_Vendedor": "24",
                                    "ID_Cliente": "1",
                                    "pago": "23687950"
                                },
                                {
                                    "ID_Venta": "3037",
                                    "Fecha venta": "1-Jun-19",
                                    "ID_Producto": "3",
                                    "ID_Vendedor": "8",
                                    "ID_Cliente": "4",
                                    "pago": "12776750"
                                },
                                {
                                    "ID_Venta": "3038",
                                    "Fecha venta": "1-Jun-19",
                                    "ID_Producto": "4",
                                    "ID_Vendedor": "21",
                                    "ID_Cliente": "8",
                                    "pago": "10782925"
                                },
                                {
                                    "ID_Venta": "3039",
                                    "Fecha venta": "1-Jun-19",
                                    "ID_Producto": "4",
                                    "ID_Vendedor": "24",
                                    "ID_Cliente": "10",
                                    "pago": "14462375"
                                },
                                {
                                    "ID_Venta": "3040",
                                    "Fecha venta": "1-Jun-19",
                                    "ID_Producto": "4",
                                    "ID_Vendedor": "25",
                                    "ID_Cliente": "2",
                                    "pago": "13851600"
                                },
                                {
                                    "ID_Venta": "3041",
                                    "Fecha venta": "1-Jun-19",
                                    "ID_Producto": "3",
                                    "ID_Vendedor": "1",
                                    "ID_Cliente": "6",
                                    "pago": "8915625"
                                },
                                {
                                    "ID_Venta": "3042",
                                    "Fecha venta": "1-Jun-19",
                                    "ID_Producto": "1",
                                    "ID_Vendedor": "2",
                                    "ID_Cliente": "1",
                                    "pago": "7635200"
                                },
                                {
                                    "ID_Venta": "3043",
                                    "Fecha venta": "1-Jun-19",
                                    "ID_Producto": "2",
                                    "ID_Vendedor": "32",
                                    "ID_Cliente": "6",
                                    "pago": "8869950"
                                },
                                {
                                    "ID_Venta": "3044",
                                    "Fecha venta": "1-Jun-19",
                                    "ID_Producto": "3",
                                    "ID_Vendedor": "20",
                                    "ID_Cliente": "4",
                                    "pago": "20442663"
                                },
                                {
                                    "ID_Venta": "3045",
                                    "Fecha venta": "1-Jul-19",
                                    "ID_Producto": "6",
                                    "ID_Vendedor": "14",
                                    "ID_Cliente": "4",
                                    "pago": "16203225"
                                },
                                {
                                    "ID_Venta": "3046",
                                    "Fecha venta": "1-Jul-19",
                                    "ID_Producto": "1",
                                    "ID_Vendedor": "34",
                                    "ID_Cliente": "3",
                                    "pago": "13473225"
                                },
                                {
                                    "ID_Venta": "3047",
                                    "Fecha venta": "1-Jul-19",
                                    "ID_Producto": "3",
                                    "ID_Vendedor": "31",
                                    "ID_Cliente": "4",
                                    "pago": "23500400"
                                },
                                {
                                    "ID_Venta": "3048",
                                    "Fecha venta": "1-Jul-19",
                                    "ID_Producto": "2",
                                    "ID_Vendedor": "47",
                                    "ID_Cliente": "3",
                                    "pago": "24176000"
                                },
                                {
                                    "ID_Venta": "3049",
                                    "Fecha venta": "1-Jul-19",
                                    "ID_Producto": "4",
                                    "ID_Vendedor": "2",
                                    "ID_Cliente": "4",
                                    "pago": "3371550"
                                },
                                {
                                    "ID_Venta": "3050",
                                    "Fecha venta": "1-Aug-19",
                                    "ID_Producto": "3",
                                    "ID_Vendedor": "11",
                                    "ID_Cliente": "10",
                                    "pago": "5506250"
                                },
                                {
                                    "ID_Venta": "3051",
                                    "Fecha venta": "1-Aug-19",
                                    "ID_Producto": "4",
                                    "ID_Vendedor": "24",
                                    "ID_Cliente": "5",
                                    "pago": "17116663"
                                },
                                {
                                    "ID_Venta": "3052",
                                    "Fecha venta": "1-Aug-19",
                                    "ID_Producto": "2",
                                    "ID_Vendedor": "9",
                                    "ID_Cliente": "3",
                                    "pago": "24568400"
                                },
                                {
                                    "ID_Venta": "3053",
                                    "Fecha venta": "1-Sep-19",
                                    "ID_Producto": "6",
                                    "ID_Vendedor": "43",
                                    "ID_Cliente": "2",
                                    "pago": "17818600"
                                },
                                {
                                    "ID_Venta": "3054",
                                    "Fecha venta": "1-Sep-19",
                                    "ID_Producto": "4",
                                    "ID_Vendedor": "15",
                                    "ID_Cliente": "9",
                                    "pago": "11210000"
                                },
                                {
                                    "ID_Venta": "3055",
                                    "Fecha venta": "1-Sep-19",
                                    "ID_Producto": "6",
                                    "ID_Vendedor": "38",
                                    "ID_Cliente": "2",
                                    "pago": "27554400"
                                },
                                {
                                    "ID_Venta": "3056",
                                    "Fecha venta": "1-Oct-19",
                                    "ID_Producto": "6",
                                    "ID_Vendedor": "32",
                                    "ID_Cliente": "4",
                                    "pago": "6396250"
                                },
                                {
                                    "ID_Venta": "3057",
                                    "Fecha venta": "1-Oct-19",
                                    "ID_Producto": "4",
                                    "ID_Vendedor": "8",
                                    "ID_Cliente": "1",
                                    "pago": "19733438"
                                },
                                {
                                    "ID_Venta": "3058",
                                    "Fecha venta": "1-Oct-19",
                                    "ID_Producto": "6",
                                    "ID_Vendedor": "25",
                                    "ID_Cliente": "9",
                                    "pago": "9130650"
                                },
                                {
                                    "ID_Venta": "3059",
                                    "Fecha venta": "1-Nov-19",
                                    "ID_Producto": "4",
                                    "ID_Vendedor": "33",
                                    "ID_Cliente": "4",
                                    "pago": "34963125"
                                },
                                {
                                    "ID_Venta": "3060",
                                    "Fecha venta": "1-Nov-19",
                                    "ID_Producto": "4",
                                    "ID_Vendedor": "20",
                                    "ID_Cliente": "4",
                                    "pago": "30341388"
                                },
                                {
                                    "ID_Venta": "3061",
                                    "Fecha venta": "1-Nov-19",
                                    "ID_Producto": "6",
                                    "ID_Vendedor": "29",
                                    "ID_Cliente": "1",
                                    "pago": "11653650"
                                },
                                {
                                    "ID_Venta": "3062",
                                    "Fecha venta": "1-Nov-19",
                                    "ID_Producto": "5",
                                    "ID_Vendedor": "32",
                                    "ID_Cliente": "3",
                                    "pago": "4665500"
                                },
                                {
                                    "ID_Venta": "3063",
                                    "Fecha venta": "1-Dec-19",
                                    "ID_Producto": "1",
                                    "ID_Vendedor": "43",
                                    "ID_Cliente": "5",
                                    "pago": "6722813"
                                },
                                {
                                    "ID_Venta": "3064",
                                    "Fecha venta": "1-Dec-19",
                                    "ID_Producto": "6",
                                    "ID_Vendedor": "14",
                                    "ID_Cliente": "8",
                                    "pago": "9519000"
                                },
                                {
                                    "ID_Venta": "3065",
                                    "Fecha venta": "1-Dec-19",
                                    "ID_Producto": "1",
                                    "ID_Vendedor": "11",
                                    "ID_Cliente": "4",
                                    "pago": "18575375"
                                },
                                {
                                    "ID_Venta": "3066",
                                    "Fecha venta": "1-Dec-19",
                                    "ID_Producto": "6",
                                    "ID_Vendedor": "45",
                                    "ID_Cliente": "4",
                                    "pago": "12103038"
                                },
                                {
                                    "ID_Venta": "3067",
                                    "Fecha venta": "13-Jan-19",
                                    "ID_Producto": "6",
                                    "ID_Vendedor": "12",
                                    "ID_Cliente": "6",
                                    "pago": "23200000"
                                },
                                {
                                    "ID_Venta": "3068",
                                    "Fecha venta": "14-Jan-19",
                                    "ID_Producto": "4",
                                    "ID_Vendedor": "49",
                                    "ID_Cliente": "4",
                                    "pago": "10179750"
                                },
                                {
                                    "ID_Venta": "3069",
                                    "Fecha venta": "14-Jan-19",
                                    "ID_Producto": "5",
                                    "ID_Vendedor": "9",
                                    "ID_Cliente": "8",
                                    "pago": "15383550"
                                },
                                {
                                    "ID_Venta": "3070",
                                    "Fecha venta": "15-Jan-19",
                                    "ID_Producto": "1",
                                    "ID_Vendedor": "2",
                                    "ID_Cliente": "6",
                                    "pago": "23221688"
                                },
                                {
                                    "ID_Venta": "3071",
                                    "Fecha venta": "15-Jan-19",
                                    "ID_Producto": "2",
                                    "ID_Vendedor": "8",
                                    "ID_Cliente": "7",
                                    "pago": "17003350"
                                },
                                {
                                    "ID_Venta": "3072",
                                    "Fecha venta": "15-Jan-19",
                                    "ID_Producto": "4",
                                    "ID_Vendedor": "8",
                                    "ID_Cliente": "1",
                                    "pago": "28642763"
                                },
                                {
                                    "ID_Venta": "3073",
                                    "Fecha venta": "16-Jan-19",
                                    "ID_Producto": "4",
                                    "ID_Vendedor": "28",
                                    "ID_Cliente": "1",
                                    "pago": "19983300"
                                },
                                {
                                    "ID_Venta": "3074",
                                    "Fecha venta": "17-Jan-19",
                                    "ID_Producto": "3",
                                    "ID_Vendedor": "27",
                                    "ID_Cliente": "8",
                                    "pago": "11074613"
                                },
                                {
                                    "ID_Venta": "3075",
                                    "Fecha venta": "17-Jan-19",
                                    "ID_Producto": "5",
                                    "ID_Vendedor": "34",
                                    "ID_Cliente": "8",
                                    "pago": "6065500"
                                },
                                {
                                    "ID_Venta": "3076",
                                    "Fecha venta": "17-Jan-19",
                                    "ID_Producto": "1",
                                    "ID_Vendedor": "29",
                                    "ID_Cliente": "7",
                                    "pago": "26792100"
                                },
                                {
                                    "ID_Venta": "3077",
                                    "Fecha venta": "17-Jan-19",
                                    "ID_Producto": "5",
                                    "ID_Vendedor": "12",
                                    "ID_Cliente": "4",
                                    "pago": "19632800"
                                },
                                {
                                    "ID_Venta": "3078",
                                    "Fecha venta": "17-Jan-19",
                                    "ID_Producto": "5",
                                    "ID_Vendedor": "9",
                                    "ID_Cliente": "1",
                                    "pago": "18973613"
                                },
                                {
                                    "ID_Venta": "3079",
                                    "Fecha venta": "18-Jan-19",
                                    "ID_Producto": "2",
                                    "ID_Vendedor": "27",
                                    "ID_Cliente": "4",
                                    "pago": "13098963"
                                },
                                {
                                    "ID_Venta": "3080",
                                    "Fecha venta": "18-Jan-19",
                                    "ID_Producto": "2",
                                    "ID_Vendedor": "26",
                                    "ID_Cliente": "8",
                                    "pago": "4921700"
                                },
                                {
                                    "ID_Venta": "3081",
                                    "Fecha venta": "18-Jan-19",
                                    "ID_Producto": "6",
                                    "ID_Vendedor": "40",
                                    "ID_Cliente": "2",
                                    "pago": "18649000"
                                },
                                {
                                    "ID_Venta": "3082",
                                    "Fecha venta": "18-Jan-19",
                                    "ID_Producto": "1",
                                    "ID_Vendedor": "10",
                                    "ID_Cliente": "6",
                                    "pago": "17751650"
                                },
                                {
                                    "ID_Venta": "3083",
                                    "Fecha venta": "19-Jan-19",
                                    "ID_Producto": "6",
                                    "ID_Vendedor": "25",
                                    "ID_Cliente": "5",
                                    "pago": "18899300"
                                },
                                {
                                    "ID_Venta": "3084",
                                    "Fecha venta": "20-Jan-19",
                                    "ID_Producto": "5",
                                    "ID_Vendedor": "17",
                                    "ID_Cliente": "1",
                                    "pago": "7113725"
                                },
                                {
                                    "ID_Venta": "3085",
                                    "Fecha venta": "20-Jan-19",
                                    "ID_Producto": "2",
                                    "ID_Vendedor": "4",
                                    "ID_Cliente": "7",
                                    "pago": "9801000"
                                },
                                {
                                    "ID_Venta": "3086",
                                    "Fecha venta": "20-Jan-19",
                                    "ID_Producto": "4",
                                    "ID_Vendedor": "26",
                                    "ID_Cliente": "10",
                                    "pago": "8215875"
                                },
                                {
                                    "ID_Venta": "3087",
                                    "Fecha venta": "20-Jan-19",
                                    "ID_Producto": "1",
                                    "ID_Vendedor": "9",
                                    "ID_Cliente": "4",
                                    "pago": "3354150"
                                },
                                {
                                    "ID_Venta": "3088",
                                    "Fecha venta": "20-Jan-19",
                                    "ID_Producto": "2",
                                    "ID_Vendedor": "10",
                                    "ID_Cliente": "9",
                                    "pago": "20968650"
                                },
                                {
                                    "ID_Venta": "3089",
                                    "Fecha venta": "20-Jan-19",
                                    "ID_Producto": "5",
                                    "ID_Vendedor": "38",
                                    "ID_Cliente": "3",
                                    "pago": "18677550"
                                },
                                {
                                    "ID_Venta": "3090",
                                    "Fecha venta": "21-Jan-19",
                                    "ID_Producto": "2",
                                    "ID_Vendedor": "6",
                                    "ID_Cliente": "6",
                                    "pago": "29016563"
                                },
                                {
                                    "ID_Venta": "3091",
                                    "Fecha venta": "22-Jan-19",
                                    "ID_Producto": "4",
                                    "ID_Vendedor": "41",
                                    "ID_Cliente": "6",
                                    "pago": "23704250"
                                },
                                {
                                    "ID_Venta": "3092",
                                    "Fecha venta": "23-Jan-19",
                                    "ID_Producto": "1",
                                    "ID_Vendedor": "8",
                                    "ID_Cliente": "4",
                                    "pago": "22361063"
                                },
                                {
                                    "ID_Venta": "3093",
                                    "Fecha venta": "23-Jan-19",
                                    "ID_Producto": "5",
                                    "ID_Vendedor": "49",
                                    "ID_Cliente": "3",
                                    "pago": "19429200"
                                },
                                {
                                    "ID_Venta": "3094",
                                    "Fecha venta": "23-Jan-19",
                                    "ID_Producto": "4",
                                    "ID_Vendedor": "13",
                                    "ID_Cliente": "6",
                                    "pago": "13580975"
                                },
                                {
                                    "ID_Venta": "3095",
                                    "Fecha venta": "24-Jan-19",
                                    "ID_Producto": "2",
                                    "ID_Vendedor": "45",
                                    "ID_Cliente": "4",
                                    "pago": "3776250"
                                },
                                {
                                    "ID_Venta": "3096",
                                    "Fecha venta": "24-Jan-19",
                                    "ID_Producto": "5",
                                    "ID_Vendedor": "12",
                                    "ID_Cliente": "10",
                                    "pago": "27364025"
                                },
                                {
                                    "ID_Venta": "3097",
                                    "Fecha venta": "25-Jan-19",
                                    "ID_Producto": "6",
                                    "ID_Vendedor": "30",
                                    "ID_Cliente": "1",
                                    "pago": "12686600"
                                },
                                {
                                    "ID_Venta": "3098",
                                    "Fecha venta": "26-Jan-19",
                                    "ID_Producto": "5",
                                    "ID_Vendedor": "12",
                                    "ID_Cliente": "1",
                                    "pago": "4765675"
                                },
                                {
                                    "ID_Venta": "3099",
                                    "Fecha venta": "26-Jan-19",
                                    "ID_Producto": "3",
                                    "ID_Vendedor": "38",
                                    "ID_Cliente": "10",
                                    "pago": "32038300"
                                },
                                {
                                    "ID_Venta": "3100",
                                    "Fecha venta": "26-Jan-19",
                                    "ID_Producto": "1",
                                    "ID_Vendedor": "20",
                                    "ID_Cliente": "8",
                                    "pago": "18063625"
                                },
                                {
                                    "ID_Venta": "3101",
                                    "Fecha venta": "26-Jan-19",
                                    "ID_Producto": "3",
                                    "ID_Vendedor": "41",
                                    "ID_Cliente": "4",
                                    "pago": "26859788"
                                },
                                {
                                    "ID_Venta": "3102",
                                    "Fecha venta": "27-Jan-19",
                                    "ID_Producto": "5",
                                    "ID_Vendedor": "41",
                                    "ID_Cliente": "9",
                                    "pago": "16196400"
                                },
                                {
                                    "ID_Venta": "3103",
                                    "Fecha venta": "28-Jan-19",
                                    "ID_Producto": "4",
                                    "ID_Vendedor": "15",
                                    "ID_Cliente": "5",
                                    "pago": "11522838"
                                },
                                {
                                    "ID_Venta": "3104",
                                    "Fecha venta": "28-Jan-19",
                                    "ID_Producto": "4",
                                    "ID_Vendedor": "36",
                                    "ID_Cliente": "5",
                                    "pago": "11449200"
                                },
                                {
                                    "ID_Venta": "3105",
                                    "Fecha venta": "29-Jan-19",
                                    "ID_Producto": "6",
                                    "ID_Vendedor": "26",
                                    "ID_Cliente": "1",
                                    "pago": "8247600"
                                },
                                {
                                    "ID_Venta": "3106",
                                    "Fecha venta": "29-Jan-19",
                                    "ID_Producto": "5",
                                    "ID_Vendedor": "14",
                                    "ID_Cliente": "1",
                                    "pago": "20458750"
                                },
                                {
                                    "ID_Venta": "3107",
                                    "Fecha venta": "29-Jan-19",
                                    "ID_Producto": "4",
                                    "ID_Vendedor": "14",
                                    "ID_Cliente": "9",
                                    "pago": "12472200"
                                },
                                {
                                    "ID_Venta": "3108",
                                    "Fecha venta": "29-Jan-19",
                                    "ID_Producto": "2",
                                    "ID_Vendedor": "36",
                                    "ID_Cliente": "6",
                                    "pago": "13324938"
                                },
                                {
                                    "ID_Venta": "3109",
                                    "Fecha venta": "30-Jan-19",
                                    "ID_Producto": "4",
                                    "ID_Vendedor": "20",
                                    "ID_Cliente": "1",
                                    "pago": "7495050"
                                },
                                {
                                    "ID_Venta": "3110",
                                    "Fecha venta": "30-Jan-19",
                                    "ID_Producto": "1",
                                    "ID_Vendedor": "6",
                                    "ID_Cliente": "9",
                                    "pago": "3766825"
                                },
                                {
                                    "ID_Venta": "3111",
                                    "Fecha venta": "30-Jan-19",
                                    "ID_Producto": "3",
                                    "ID_Vendedor": "25",
                                    "ID_Cliente": "10",
                                    "pago": "10758450"
                                },
                                {
                                    "ID_Venta": "3112",
                                    "Fecha venta": "30-Jan-19",
                                    "ID_Producto": "4",
                                    "ID_Vendedor": "47",
                                    "ID_Cliente": "10",
                                    "pago": "8554450"
                                },
                                {
                                    "ID_Venta": "3113",
                                    "Fecha venta": "31-Jan-19",
                                    "ID_Producto": "6",
                                    "ID_Vendedor": "17",
                                    "ID_Cliente": "7",
                                    "pago": "12570600"
                                },
                                {
                                    "ID_Venta": "3114",
                                    "Fecha venta": "31-Jan-19",
                                    "ID_Producto": "4",
                                    "ID_Vendedor": "28",
                                    "ID_Cliente": "5",
                                    "pago": "13068575"
                                },
                                {
                                    "ID_Venta": "3115",
                                    "Fecha venta": "31-Jan-19",
                                    "ID_Producto": "1",
                                    "ID_Vendedor": "25",
                                    "ID_Cliente": "1",
                                    "pago": "19111325"
                                },
                                {
                                    "ID_Venta": "3116",
                                    "Fecha venta": "2-Jan-19",
                                    "ID_Producto": "3",
                                    "ID_Vendedor": "10",
                                    "ID_Cliente": "1",
                                    "pago": "3564200"
                                },
                                {
                                    "ID_Venta": "3117",
                                    "Fecha venta": "2-Jan-19",
                                    "ID_Producto": "4",
                                    "ID_Vendedor": "26",
                                    "ID_Cliente": "9",
                                    "pago": "17888000"
                                },
                                {
                                    "ID_Venta": "3118",
                                    "Fecha venta": "2-Feb-19",
                                    "ID_Producto": "6",
                                    "ID_Vendedor": "17",
                                    "ID_Cliente": "10",
                                    "pago": "30613525"
                                },
                                {
                                    "ID_Venta": "3119",
                                    "Fecha venta": "2-Mar-19",
                                    "ID_Producto": "5",
                                    "ID_Vendedor": "10",
                                    "ID_Cliente": "1",
                                    "pago": "11911613"
                                },
                                {
                                    "ID_Venta": "3120",
                                    "Fecha venta": "2-Mar-19",
                                    "ID_Producto": "4",
                                    "ID_Vendedor": "1",
                                    "ID_Cliente": "6",
                                    "pago": "21830250"
                                },
                                {
                                    "ID_Venta": "3121",
                                    "Fecha venta": "2-Mar-19",
                                    "ID_Producto": "1",
                                    "ID_Vendedor": "30",
                                    "ID_Cliente": "2",
                                    "pago": "33225950"
                                },
                                {
                                    "ID_Venta": "3122",
                                    "Fecha venta": "2-Mar-19",
                                    "ID_Producto": "5",
                                    "ID_Vendedor": "18",
                                    "ID_Cliente": "2",
                                    "pago": "6200250"
                                },
                                {
                                    "ID_Venta": "3124",
                                    "Fecha venta": "2-Jun-19",
                                    "ID_Producto": "1",
                                    "ID_Vendedor": "43",
                                    "ID_Cliente": "5",
                                    "pago": "26926200"
                                },
                                {
                                    "ID_Venta": "3125",
                                    "Fecha venta": "2-Jul-19",
                                    "ID_Producto": "6",
                                    "ID_Vendedor": "40",
                                    "ID_Cliente": "9",
                                    "pago": "8600725"
                                },
                                {
                                    "ID_Venta": "3126",
                                    "Fecha venta": "2-Jul-19",
                                    "ID_Producto": "3",
                                    "ID_Vendedor": "27",
                                    "ID_Cliente": "6",
                                    "pago": "36278550"
                                },
                                {
                                    "ID_Venta": "3127",
                                    "Fecha venta": "2-Jul-19",
                                    "ID_Producto": "5",
                                    "ID_Vendedor": "19",
                                    "ID_Cliente": "10",
                                    "pago": "6547525"
                                },
                                {
                                    "ID_Venta": "3128",
                                    "Fecha venta": "2-Jul-19",
                                    "ID_Producto": "2",
                                    "ID_Vendedor": "10",
                                    "ID_Cliente": "1",
                                    "pago": "22718025"
                                },
                                {
                                    "ID_Venta": "3129",
                                    "Fecha venta": "2-Aug-19",
                                    "ID_Producto": "5",
                                    "ID_Vendedor": "36",
                                    "ID_Cliente": "4",
                                    "pago": "13133300"
                                },
                                {
                                    "ID_Venta": "3130",
                                    "Fecha venta": "2-Aug-19",
                                    "ID_Producto": "1",
                                    "ID_Vendedor": "47",
                                    "ID_Cliente": "9",
                                    "pago": "5542025"
                                },
                                {
                                    "ID_Venta": "3131",
                                    "Fecha venta": "2-Aug-19",
                                    "ID_Producto": "4",
                                    "ID_Vendedor": "8",
                                    "ID_Cliente": "7",
                                    "pago": "10498913"
                                },
                                {
                                    "ID_Venta": "3132",
                                    "Fecha venta": "2-Aug-19",
                                    "ID_Producto": "1",
                                    "ID_Vendedor": "42",
                                    "ID_Cliente": "7",
                                    "pago": "6523875"
                                },
                                {
                                    "ID_Venta": "3133",
                                    "Fecha venta": "2-Sep-19",
                                    "ID_Producto": "4",
                                    "ID_Vendedor": "34",
                                    "ID_Cliente": "10",
                                    "pago": "6487788"
                                },
                                {
                                    "ID_Venta": "3134",
                                    "Fecha venta": "2-Sep-19",
                                    "ID_Producto": "2",
                                    "ID_Vendedor": "26",
                                    "ID_Cliente": "5",
                                    "pago": "18359250"
                                },
                                {
                                    "ID_Venta": "3135",
                                    "Fecha venta": "2-Sep-19",
                                    "ID_Producto": "2",
                                    "ID_Vendedor": "13",
                                    "ID_Cliente": "4",
                                    "pago": "13108925"
                                },
                                {
                                    "ID_Venta": "3136",
                                    "Fecha venta": "2-Sep-19",
                                    "ID_Producto": "2",
                                    "ID_Vendedor": "8",
                                    "ID_Cliente": "1",
                                    "pago": "5220325"
                                },
                                {
                                    "ID_Venta": "3137",
                                    "Fecha venta": "2-Oct-19",
                                    "ID_Producto": "4",
                                    "ID_Vendedor": "2",
                                    "ID_Cliente": "5",
                                    "pago": "3356100"
                                },
                                {
                                    "ID_Venta": "3138",
                                    "Fecha venta": "2-Nov-19",
                                    "ID_Producto": "2",
                                    "ID_Vendedor": "46",
                                    "ID_Cliente": "9",
                                    "pago": "13857550"
                                },
                                {
                                    "ID_Venta": "3139",
                                    "Fecha venta": "2-Dec-19",
                                    "ID_Producto": "3",
                                    "ID_Vendedor": "41",
                                    "ID_Cliente": "3",
                                    "pago": "29465500"
                                },
                                {
                                    "ID_Venta": "3140",
                                    "Fecha venta": "2-Dec-19",
                                    "ID_Producto": "5",
                                    "ID_Vendedor": "41",
                                    "ID_Cliente": "6",
                                    "pago": "15600900"
                                },
                                {
                                    "ID_Venta": "3141",
                                    "Fecha venta": "13-Feb-19",
                                    "ID_Producto": "5",
                                    "ID_Vendedor": "8",
                                    "ID_Cliente": "7",
                                    "pago": "21355425"
                                },
                                {
                                    "ID_Venta": "3142",
                                    "Fecha venta": "13-Feb-19",
                                    "ID_Producto": "5",
                                    "ID_Vendedor": "22",
                                    "ID_Cliente": "5",
                                    "pago": "10029913"
                                },
                                {
                                    "ID_Venta": "3143",
                                    "Fecha venta": "14-Feb-19",
                                    "ID_Producto": "6",
                                    "ID_Vendedor": "36",
                                    "ID_Cliente": "3",
                                    "pago": "12239788"
                                },
                                {
                                    "ID_Venta": "3144",
                                    "Fecha venta": "14-Feb-19",
                                    "ID_Producto": "5",
                                    "ID_Vendedor": "46",
                                    "ID_Cliente": "4",
                                    "pago": "24735600"
                                },
                                {
                                    "ID_Venta": "3145",
                                    "Fecha venta": "14-Feb-19",
                                    "ID_Producto": "3",
                                    "ID_Vendedor": "12",
                                    "ID_Cliente": "7",
                                    "pago": "22373325"
                                },
                                {
                                    "ID_Venta": "3146",
                                    "Fecha venta": "15-Feb-19",
                                    "ID_Producto": "3",
                                    "ID_Vendedor": "29",
                                    "ID_Cliente": "6",
                                    "pago": "19607625"
                                },
                                {
                                    "ID_Venta": "3147",
                                    "Fecha venta": "15-Feb-19",
                                    "ID_Producto": "5",
                                    "ID_Vendedor": "27",
                                    "ID_Cliente": "4",
                                    "pago": "16571625"
                                },
                                {
                                    "ID_Venta": "3148",
                                    "Fecha venta": "15-Feb-19",
                                    "ID_Producto": "5",
                                    "ID_Vendedor": "25",
                                    "ID_Cliente": "8",
                                    "pago": "23197125"
                                },
                                {
                                    "ID_Venta": "3149",
                                    "Fecha venta": "15-Feb-19",
                                    "ID_Producto": "6",
                                    "ID_Vendedor": "16",
                                    "ID_Cliente": "6",
                                    "pago": "4058100"
                                },
                                {
                                    "ID_Venta": "3150",
                                    "Fecha venta": "16-Feb-19",
                                    "ID_Producto": "4",
                                    "ID_Vendedor": "3",
                                    "ID_Cliente": "9",
                                    "pago": "14486175"
                                },
                                {
                                    "ID_Venta": "3151",
                                    "Fecha venta": "16-Feb-19",
                                    "ID_Producto": "3",
                                    "ID_Vendedor": "45",
                                    "ID_Cliente": "9",
                                    "pago": "3666288"
                                },
                                {
                                    "ID_Venta": "3152",
                                    "Fecha venta": "16-Feb-19",
                                    "ID_Producto": "4",
                                    "ID_Vendedor": "14",
                                    "ID_Cliente": "6",
                                    "pago": "3259688"
                                },
                                {
                                    "ID_Venta": "3153",
                                    "Fecha venta": "16-Feb-19",
                                    "ID_Producto": "4",
                                    "ID_Vendedor": "29",
                                    "ID_Cliente": "7",
                                    "pago": "13007938"
                                },
                                {
                                    "ID_Venta": "3154",
                                    "Fecha venta": "17-Feb-19",
                                    "ID_Producto": "4",
                                    "ID_Vendedor": "6",
                                    "ID_Cliente": "6",
                                    "pago": "19093950"
                                },
                                {
                                    "ID_Venta": "3155",
                                    "Fecha venta": "17-Feb-19",
                                    "ID_Producto": "5",
                                    "ID_Vendedor": "19",
                                    "ID_Cliente": "1",
                                    "pago": "7384813"
                                },
                                {
                                    "ID_Venta": "3156",
                                    "Fecha venta": "18-Feb-19",
                                    "ID_Producto": "6",
                                    "ID_Vendedor": "42",
                                    "ID_Cliente": "2",
                                    "pago": "10733925"
                                },
                                {
                                    "ID_Venta": "3157",
                                    "Fecha venta": "19-Feb-19",
                                    "ID_Producto": "2",
                                    "ID_Vendedor": "49",
                                    "ID_Cliente": "6",
                                    "pago": "5445875"
                                },
                                {
                                    "ID_Venta": "3158",
                                    "Fecha venta": "19-Feb-19",
                                    "ID_Producto": "2",
                                    "ID_Vendedor": "29",
                                    "ID_Cliente": "10",
                                    "pago": "14090925"
                                },
                                {
                                    "ID_Venta": "3159",
                                    "Fecha venta": "19-Feb-19",
                                    "ID_Producto": "3",
                                    "ID_Vendedor": "17",
                                    "ID_Cliente": "10",
                                    "pago": "3824313"
                                },
                                {
                                    "ID_Venta": "3160",
                                    "Fecha venta": "19-Feb-19",
                                    "ID_Producto": "5",
                                    "ID_Vendedor": "37",
                                    "ID_Cliente": "9",
                                    "pago": "12408725"
                                },
                                {
                                    "ID_Venta": "3161",
                                    "Fecha venta": "20-Feb-19",
                                    "ID_Producto": "1",
                                    "ID_Vendedor": "1",
                                    "ID_Cliente": "4",
                                    "pago": "8101150"
                                },
                                {
                                    "ID_Venta": "3162",
                                    "Fecha venta": "20-Feb-19",
                                    "ID_Producto": "5",
                                    "ID_Vendedor": "19",
                                    "ID_Cliente": "5",
                                    "pago": "27333225"
                                },
                                {
                                    "ID_Venta": "3163",
                                    "Fecha venta": "20-Feb-19",
                                    "ID_Producto": "2",
                                    "ID_Vendedor": "47",
                                    "ID_Cliente": "1",
                                    "pago": "12165075"
                                },
                                {
                                    "ID_Venta": "3164",
                                    "Fecha venta": "20-Feb-19",
                                    "ID_Producto": "4",
                                    "ID_Vendedor": "47",
                                    "ID_Cliente": "8",
                                    "pago": "14688000"
                                },
                                {
                                    "ID_Venta": "3165",
                                    "Fecha venta": "21-Feb-19",
                                    "ID_Producto": "2",
                                    "ID_Vendedor": "23",
                                    "ID_Cliente": "8",
                                    "pago": "17922450"
                                },
                                {
                                    "ID_Venta": "3166",
                                    "Fecha venta": "21-Feb-19",
                                    "ID_Producto": "4",
                                    "ID_Vendedor": "17",
                                    "ID_Cliente": "4",
                                    "pago": "4358700"
                                },
                                {
                                    "ID_Venta": "3167",
                                    "Fecha venta": "22-Feb-19",
                                    "ID_Producto": "2",
                                    "ID_Vendedor": "40",
                                    "ID_Cliente": "9",
                                    "pago": "9233750"
                                },
                                {
                                    "ID_Venta": "3168",
                                    "Fecha venta": "22-Feb-19",
                                    "ID_Producto": "1",
                                    "ID_Vendedor": "11",
                                    "ID_Cliente": "8",
                                    "pago": "17187188"
                                },
                                {
                                    "ID_Venta": "3169",
                                    "Fecha venta": "23-Feb-19",
                                    "ID_Producto": "5",
                                    "ID_Vendedor": "11",
                                    "ID_Cliente": "9",
                                    "pago": "25826250"
                                },
                                {
                                    "ID_Venta": "3170",
                                    "Fecha venta": "23-Feb-19",
                                    "ID_Producto": "4",
                                    "ID_Vendedor": "27",
                                    "ID_Cliente": "4",
                                    "pago": "19710600"
                                },
                                {
                                    "ID_Venta": "3171",
                                    "Fecha venta": "23-Feb-19",
                                    "ID_Producto": "3",
                                    "ID_Vendedor": "46",
                                    "ID_Cliente": "4",
                                    "pago": "8557350"
                                },
                                {
                                    "ID_Venta": "3172",
                                    "Fecha venta": "23-Feb-19",
                                    "ID_Producto": "4",
                                    "ID_Vendedor": "21",
                                    "ID_Cliente": "4",
                                    "pago": "18482163"
                                },
                                {
                                    "ID_Venta": "3173",
                                    "Fecha venta": "24-Feb-19",
                                    "ID_Producto": "4",
                                    "ID_Vendedor": "32",
                                    "ID_Cliente": "1",
                                    "pago": "17447963"
                                },
                                {
                                    "ID_Venta": "3174",
                                    "Fecha venta": "24-Feb-19",
                                    "ID_Producto": "6",
                                    "ID_Vendedor": "19",
                                    "ID_Cliente": "3",
                                    "pago": "6504800"
                                },
                                {
                                    "ID_Venta": "3175",
                                    "Fecha venta": "24-Feb-19",
                                    "ID_Producto": "2",
                                    "ID_Vendedor": "45",
                                    "ID_Cliente": "6",
                                    "pago": "22260150"
                                },
                                {
                                    "ID_Venta": "3176",
                                    "Fecha venta": "24-Feb-19",
                                    "ID_Producto": "2",
                                    "ID_Vendedor": "36",
                                    "ID_Cliente": "4",
                                    "pago": "10321988"
                                },
                                {
                                    "ID_Venta": "3177",
                                    "Fecha venta": "25-Feb-19",
                                    "ID_Producto": "6",
                                    "ID_Vendedor": "16",
                                    "ID_Cliente": "5",
                                    "pago": "10017600"
                                },
                                {
                                    "ID_Venta": "3178",
                                    "Fecha venta": "25-Feb-19",
                                    "ID_Producto": "4",
                                    "ID_Vendedor": "38",
                                    "ID_Cliente": "7",
                                    "pago": "12850925"
                                },
                                {
                                    "ID_Venta": "3179",
                                    "Fecha venta": "26-Feb-19",
                                    "ID_Producto": "1",
                                    "ID_Vendedor": "38",
                                    "ID_Cliente": "4",
                                    "pago": "11311688"
                                },
                                {
                                    "ID_Venta": "3180",
                                    "Fecha venta": "26-Feb-19",
                                    "ID_Producto": "6",
                                    "ID_Vendedor": "45",
                                    "ID_Cliente": "5",
                                    "pago": "20188350"
                                },
                                {
                                    "ID_Venta": "3181",
                                    "Fecha venta": "28-Feb-19",
                                    "ID_Producto": "6",
                                    "ID_Vendedor": "4",
                                    "ID_Cliente": "7",
                                    "pago": "11968163"
                                },
                                {
                                    "ID_Venta": "3182",
                                    "Fecha venta": "28-Feb-19",
                                    "ID_Producto": "4",
                                    "ID_Vendedor": "16",
                                    "ID_Cliente": "5",
                                    "pago": "19847100"
                                },
                                {
                                    "ID_Venta": "3183",
                                    "Fecha venta": "28-Feb-19",
                                    "ID_Producto": "3",
                                    "ID_Vendedor": "2",
                                    "ID_Cliente": "4",
                                    "pago": "7578488"
                                },
                                {
                                    "ID_Venta": "3184",
                                    "Fecha venta": "28-Feb-19",
                                    "ID_Producto": "6",
                                    "ID_Vendedor": "31",
                                    "ID_Cliente": "4",
                                    "pago": "27920025"
                                },
                                {
                                    "ID_Venta": "3185",
                                    "Fecha venta": "28-Feb-19",
                                    "ID_Producto": "5",
                                    "ID_Vendedor": "31",
                                    "ID_Cliente": "7",
                                    "pago": "23920300"
                                },
                                {
                                    "ID_Venta": "3186",
                                    "Fecha venta": "3-Jan-19",
                                    "ID_Producto": "5",
                                    "ID_Vendedor": "30",
                                    "ID_Cliente": "7",
                                    "pago": "19796075"
                                },
                                {
                                    "ID_Venta": "3187",
                                    "Fecha venta": "3-Jan-19",
                                    "ID_Producto": "6",
                                    "ID_Vendedor": "45",
                                    "ID_Cliente": "9",
                                    "pago": "17750250"
                                },
                                {
                                    "ID_Venta": "3188",
                                    "Fecha venta": "3-Jan-19",
                                    "ID_Producto": "6",
                                    "ID_Vendedor": "25",
                                    "ID_Cliente": "7",
                                    "pago": "3888625"
                                },
                                {
                                    "ID_Venta": "3189",
                                    "Fecha venta": "3-Jan-19",
                                    "ID_Producto": "5",
                                    "ID_Vendedor": "45",
                                    "ID_Cliente": "2",
                                    "pago": "9150350"
                                },
                                {
                                    "ID_Venta": "3190",
                                    "Fecha venta": "3-Feb-19",
                                    "ID_Producto": "1",
                                    "ID_Vendedor": "19",
                                    "ID_Cliente": "8",
                                    "pago": "16550100"
                                },
                                {
                                    "ID_Venta": "3191",
                                    "Fecha venta": "3-Feb-19",
                                    "ID_Producto": "2",
                                    "ID_Vendedor": "3",
                                    "ID_Cliente": "9",
                                    "pago": "13216375"
                                },
                                {
                                    "ID_Venta": "3192",
                                    "Fecha venta": "3-Feb-19",
                                    "ID_Producto": "6",
                                    "ID_Vendedor": "33",
                                    "ID_Cliente": "9",
                                    "pago": "30495500"
                                },
                                {
                                    "ID_Venta": "3193",
                                    "Fecha venta": "3-Apr-19",
                                    "ID_Producto": "5",
                                    "ID_Vendedor": "42",
                                    "ID_Cliente": "6",
                                    "pago": "25239000"
                                },
                                {
                                    "ID_Venta": "3194",
                                    "Fecha venta": "3-Apr-19",
                                    "ID_Producto": "1",
                                    "ID_Vendedor": "19",
                                    "ID_Cliente": "9",
                                    "pago": "4970075"
                                },
                                {
                                    "ID_Venta": "3195",
                                    "Fecha venta": "3-Apr-19",
                                    "ID_Producto": "4",
                                    "ID_Vendedor": "27",
                                    "ID_Cliente": "10",
                                    "pago": "13863438"
                                },
                                {
                                    "ID_Venta": "3196",
                                    "Fecha venta": "3-Apr-19",
                                    "ID_Producto": "4",
                                    "ID_Vendedor": "5",
                                    "ID_Cliente": "9",
                                    "pago": "25945400"
                                },
                                {
                                    "ID_Venta": "3197",
                                    "Fecha venta": "3-Apr-19",
                                    "ID_Producto": "1",
                                    "ID_Vendedor": "21",
                                    "ID_Cliente": "6",
                                    "pago": "28283850"
                                },
                                {
                                    "ID_Venta": "3198",
                                    "Fecha venta": "3-May-19",
                                    "ID_Producto": "6",
                                    "ID_Vendedor": "40",
                                    "ID_Cliente": "1",
                                    "pago": "21054250"
                                },
                                {
                                    "ID_Venta": "3199",
                                    "Fecha venta": "3-May-19",
                                    "ID_Producto": "3",
                                    "ID_Vendedor": "41",
                                    "ID_Cliente": "9",
                                    "pago": "23240250"
                                },
                                {
                                    "ID_Venta": "3201",
                                    "Fecha venta": "3-Jun-19",
                                    "ID_Producto": "1",
                                    "ID_Vendedor": "43",
                                    "ID_Cliente": "8",
                                    "pago": "10618275"
                                },
                                {
                                    "ID_Venta": "3202",
                                    "Fecha venta": "3-Jun-19",
                                    "ID_Producto": "3",
                                    "ID_Vendedor": "19",
                                    "ID_Cliente": "4",
                                    "pago": "17012075"
                                },
                                {
                                    "ID_Venta": "3203",
                                    "Fecha venta": "3-Jun-19",
                                    "ID_Producto": "4",
                                    "ID_Vendedor": "15",
                                    "ID_Cliente": "7",
                                    "pago": "21184538"
                                },
                                {
                                    "ID_Venta": "3204",
                                    "Fecha venta": "3-Jun-19",
                                    "ID_Producto": "1",
                                    "ID_Vendedor": "1",
                                    "ID_Cliente": "5",
                                    "pago": "4385900"
                                },
                                {
                                    "ID_Venta": "3205",
                                    "Fecha venta": "3-Jul-19",
                                    "ID_Producto": "4",
                                    "ID_Vendedor": "10",
                                    "ID_Cliente": "8",
                                    "pago": "10885463"
                                },
                                {
                                    "ID_Venta": "3206",
                                    "Fecha venta": "3-Aug-19",
                                    "ID_Producto": "1",
                                    "ID_Vendedor": "22",
                                    "ID_Cliente": "9",
                                    "pago": "20284875"
                                },
                                {
                                    "ID_Venta": "3207",
                                    "Fecha venta": "3-Aug-19",
                                    "ID_Producto": "3",
                                    "ID_Vendedor": "3",
                                    "ID_Cliente": "8",
                                    "pago": "14943425"
                                },
                                {
                                    "ID_Venta": "3208",
                                    "Fecha venta": "3-Aug-19",
                                    "ID_Producto": "1",
                                    "ID_Vendedor": "23",
                                    "ID_Cliente": "8",
                                    "pago": "13540763"
                                },
                                {
                                    "ID_Venta": "3209",
                                    "Fecha venta": "3-Sep-19",
                                    "ID_Producto": "4",
                                    "ID_Vendedor": "13",
                                    "ID_Cliente": "2",
                                    "pago": "11484025"
                                },
                                {
                                    "ID_Venta": "3210",
                                    "Fecha venta": "3-Sep-19",
                                    "ID_Producto": "2",
                                    "ID_Vendedor": "45",
                                    "ID_Cliente": "7",
                                    "pago": "12474600"
                                },
                                {
                                    "ID_Venta": "3211",
                                    "Fecha venta": "3-Sep-19",
                                    "ID_Producto": "2",
                                    "ID_Vendedor": "45",
                                    "ID_Cliente": "8",
                                    "pago": "7516325"
                                },
                                {
                                    "ID_Venta": "3212",
                                    "Fecha venta": "3-Oct-19",
                                    "ID_Producto": "2",
                                    "ID_Vendedor": "17",
                                    "ID_Cliente": "1",
                                    "pago": "5314663"
                                },
                                {
                                    "ID_Venta": "3213",
                                    "Fecha venta": "3-Nov-19",
                                    "ID_Producto": "4",
                                    "ID_Vendedor": "26",
                                    "ID_Cliente": "3",
                                    "pago": "6298388"
                                },
                                {
                                    "ID_Venta": "3214",
                                    "Fecha venta": "3-Nov-19",
                                    "ID_Producto": "4",
                                    "ID_Vendedor": "38",
                                    "ID_Cliente": "10",
                                    "pago": "20094850"
                                },
                                {
                                    "ID_Venta": "3215",
                                    "Fecha venta": "3-Nov-19",
                                    "ID_Producto": "5",
                                    "ID_Vendedor": "23",
                                    "ID_Cliente": "8",
                                    "pago": "6536400"
                                },
                                {
                                    "ID_Venta": "3216",
                                    "Fecha venta": "3-Nov-19",
                                    "ID_Producto": "4",
                                    "ID_Vendedor": "45",
                                    "ID_Cliente": "5",
                                    "pago": "3991838"
                                },
                                {
                                    "ID_Venta": "3217",
                                    "Fecha venta": "3-Nov-19",
                                    "ID_Producto": "5",
                                    "ID_Vendedor": "33",
                                    "ID_Cliente": "9",
                                    "pago": "12753213"
                                },
                                {
                                    "ID_Venta": "3218",
                                    "Fecha venta": "3-Nov-19",
                                    "ID_Producto": "6",
                                    "ID_Vendedor": "18",
                                    "ID_Cliente": "10",
                                    "pago": "10161413"
                                },
                                {
                                    "ID_Venta": "3219",
                                    "Fecha venta": "3-Dec-19",
                                    "ID_Producto": "3",
                                    "ID_Vendedor": "43",
                                    "ID_Cliente": "3",
                                    "pago": "11324000"
                                },
                                {
                                    "ID_Venta": "3220",
                                    "Fecha venta": "3-Dec-19",
                                    "ID_Producto": "3",
                                    "ID_Vendedor": "21",
                                    "ID_Cliente": "6",
                                    "pago": "11319150"
                                },
                                {
                                    "ID_Venta": "3221",
                                    "Fecha venta": "13-Mar-19",
                                    "ID_Producto": "2",
                                    "ID_Vendedor": "22",
                                    "ID_Cliente": "4",
                                    "pago": "14185500"
                                },
                                {
                                    "ID_Venta": "3222",
                                    "Fecha venta": "13-Mar-19",
                                    "ID_Producto": "1",
                                    "ID_Vendedor": "47",
                                    "ID_Cliente": "4",
                                    "pago": "12925425"
                                },
                                {
                                    "ID_Venta": "3223",
                                    "Fecha venta": "13-Mar-19",
                                    "ID_Producto": "5",
                                    "ID_Vendedor": "23",
                                    "ID_Cliente": "1",
                                    "pago": "11863250"
                                },
                                {
                                    "ID_Venta": "3224",
                                    "Fecha venta": "13-Mar-19",
                                    "ID_Producto": "5",
                                    "ID_Vendedor": "12",
                                    "ID_Cliente": "3",
                                    "pago": "15532800"
                                },
                                {
                                    "ID_Venta": "3225",
                                    "Fecha venta": "13-Mar-19",
                                    "ID_Producto": "7",
                                    "ID_Vendedor": "10",
                                    "ID_Cliente": "5",
                                    "pago": "18206088"
                                },
                                {
                                    "ID_Venta": "3226",
                                    "Fecha venta": "13-Mar-19",
                                    "ID_Producto": "2",
                                    "ID_Vendedor": "43",
                                    "ID_Cliente": "2",
                                    "pago": "14104875"
                                },
                                {
                                    "ID_Venta": "3227",
                                    "Fecha venta": "14-Mar-19",
                                    "ID_Producto": "4",
                                    "ID_Vendedor": "6",
                                    "ID_Cliente": "2",
                                    "pago": "9007200"
                                },
                                {
                                    "ID_Venta": "3228",
                                    "Fecha venta": "14-Mar-19",
                                    "ID_Producto": "6",
                                    "ID_Vendedor": "23",
                                    "ID_Cliente": "3",
                                    "pago": "4067750"
                                },
                                {
                                    "ID_Venta": "3229",
                                    "Fecha venta": "14-Mar-19",
                                    "ID_Producto": "2",
                                    "ID_Vendedor": "12",
                                    "ID_Cliente": "3",
                                    "pago": "14929275"
                                },
                                {
                                    "ID_Venta": "3230",
                                    "Fecha venta": "14-Mar-19",
                                    "ID_Producto": "4",
                                    "ID_Vendedor": "7",
                                    "ID_Cliente": "3",
                                    "pago": "5959800"
                                },
                                {
                                    "ID_Venta": "3231",
                                    "Fecha venta": "15-Mar-19",
                                    "ID_Producto": "3",
                                    "ID_Vendedor": "44",
                                    "ID_Cliente": "4",
                                    "pago": "6508400"
                                },
                                {
                                    "ID_Venta": "3232",
                                    "Fecha venta": "15-Mar-19",
                                    "ID_Producto": "5",
                                    "ID_Vendedor": "1",
                                    "ID_Cliente": "10",
                                    "pago": "3825250"
                                },
                                {
                                    "ID_Venta": "3233",
                                    "Fecha venta": "16-Mar-19",
                                    "ID_Producto": "3",
                                    "ID_Vendedor": "36",
                                    "ID_Cliente": "4",
                                    "pago": "8921000"
                                },
                                {
                                    "ID_Venta": "3234",
                                    "Fecha venta": "16-Mar-19",
                                    "ID_Producto": "5",
                                    "ID_Vendedor": "30",
                                    "ID_Cliente": "4",
                                    "pago": "9549788"
                                },
                                {
                                    "ID_Venta": "3235",
                                    "Fecha venta": "16-Mar-19",
                                    "ID_Producto": "3",
                                    "ID_Vendedor": "34",
                                    "ID_Cliente": "8",
                                    "pago": "4347200"
                                },
                                {
                                    "ID_Venta": "3236",
                                    "Fecha venta": "17-Mar-19",
                                    "ID_Producto": "4",
                                    "ID_Vendedor": "45",
                                    "ID_Cliente": "5",
                                    "pago": "34565500"
                                },
                                {
                                    "ID_Venta": "3237",
                                    "Fecha venta": "17-Mar-19",
                                    "ID_Producto": "3",
                                    "ID_Vendedor": "22",
                                    "ID_Cliente": "4",
                                    "pago": "5876475"
                                },
                                {
                                    "ID_Venta": "3238",
                                    "Fecha venta": "17-Mar-19",
                                    "ID_Producto": "4",
                                    "ID_Vendedor": "3",
                                    "ID_Cliente": "7",
                                    "pago": "9078300"
                                },
                                {
                                    "ID_Venta": "3239",
                                    "Fecha venta": "17-Mar-19",
                                    "ID_Producto": "2",
                                    "ID_Vendedor": "43",
                                    "ID_Cliente": "7",
                                    "pago": "13208925"
                                },
                                {
                                    "ID_Venta": "3240",
                                    "Fecha venta": "18-Mar-19",
                                    "ID_Producto": "3",
                                    "ID_Vendedor": "31",
                                    "ID_Cliente": "9",
                                    "pago": "9684900"
                                },
                                {
                                    "ID_Venta": "3241",
                                    "Fecha venta": "18-Mar-19",
                                    "ID_Producto": "5",
                                    "ID_Vendedor": "23",
                                    "ID_Cliente": "7",
                                    "pago": "6937663"
                                },
                                {
                                    "ID_Venta": "3242",
                                    "Fecha venta": "18-Mar-19",
                                    "ID_Producto": "4",
                                    "ID_Vendedor": "19",
                                    "ID_Cliente": "4",
                                    "pago": "7336500"
                                },
                                {
                                    "ID_Venta": "3243",
                                    "Fecha venta": "19-Mar-19",
                                    "ID_Producto": "4",
                                    "ID_Vendedor": "47",
                                    "ID_Cliente": "9",
                                    "pago": "13705875"
                                },
                                {
                                    "ID_Venta": "3244",
                                    "Fecha venta": "19-Mar-19",
                                    "ID_Producto": "6",
                                    "ID_Vendedor": "6",
                                    "ID_Cliente": "7",
                                    "pago": "17058625"
                                },
                                {
                                    "ID_Venta": "3245",
                                    "Fecha venta": "19-Mar-19",
                                    "ID_Producto": "5",
                                    "ID_Vendedor": "2",
                                    "ID_Cliente": "7",
                                    "pago": "22509113"
                                },
                                {
                                    "ID_Venta": "3246",
                                    "Fecha venta": "20-Mar-19",
                                    "ID_Producto": "1",
                                    "ID_Vendedor": "26",
                                    "ID_Cliente": "1",
                                    "pago": "12945600"
                                },
                                {
                                    "ID_Venta": "3247",
                                    "Fecha venta": "20-Mar-19",
                                    "ID_Producto": "3",
                                    "ID_Vendedor": "2",
                                    "ID_Cliente": "6",
                                    "pago": "11753875"
                                },
                                {
                                    "ID_Venta": "3248",
                                    "Fecha venta": "20-Mar-19",
                                    "ID_Producto": "6",
                                    "ID_Vendedor": "27",
                                    "ID_Cliente": "10",
                                    "pago": "16225313"
                                },
                                {
                                    "ID_Venta": "3250",
                                    "Fecha venta": "20-Mar-19",
                                    "ID_Producto": "4",
                                    "ID_Vendedor": "22",
                                    "ID_Cliente": "7",
                                    "pago": "15035138"
                                },
                                {
                                    "ID_Venta": "3251",
                                    "Fecha venta": "21-Mar-19",
                                    "ID_Producto": "1",
                                    "ID_Vendedor": "1",
                                    "ID_Cliente": "8",
                                    "pago": "4584750"
                                },
                                {
                                    "ID_Venta": "3252",
                                    "Fecha venta": "21-Mar-19",
                                    "ID_Producto": "2",
                                    "ID_Vendedor": "31",
                                    "ID_Cliente": "6",
                                    "pago": "24582688"
                                },
                                {
                                    "ID_Venta": "3253",
                                    "Fecha venta": "21-Mar-19",
                                    "ID_Producto": "4",
                                    "ID_Vendedor": "46",
                                    "ID_Cliente": "8",
                                    "pago": "17363400"
                                },
                                {
                                    "ID_Venta": "3254",
                                    "Fecha venta": "22-Mar-19",
                                    "ID_Producto": "7",
                                    "ID_Vendedor": "5",
                                    "ID_Cliente": "6",
                                    "pago": "6188663"
                                },
                                {
                                    "ID_Venta": "3255",
                                    "Fecha venta": "23-Mar-19",
                                    "ID_Producto": "3",
                                    "ID_Vendedor": "49",
                                    "ID_Cliente": "8",
                                    "pago": "14934075"
                                },
                                {
                                    "ID_Venta": "3256",
                                    "Fecha venta": "23-Mar-19",
                                    "ID_Producto": "6",
                                    "ID_Vendedor": "34",
                                    "ID_Cliente": "1",
                                    "pago": "25137000"
                                },
                                {
                                    "ID_Venta": "3257",
                                    "Fecha venta": "23-Mar-19",
                                    "ID_Producto": "4",
                                    "ID_Vendedor": "7",
                                    "ID_Cliente": "2",
                                    "pago": "11403200"
                                },
                                {
                                    "ID_Venta": "3258",
                                    "Fecha venta": "24-Mar-19",
                                    "ID_Producto": "2",
                                    "ID_Vendedor": "3",
                                    "ID_Cliente": "2",
                                    "pago": "9723350"
                                },
                                {
                                    "ID_Venta": "3259",
                                    "Fecha venta": "24-Mar-19",
                                    "ID_Producto": "5",
                                    "ID_Vendedor": "42",
                                    "ID_Cliente": "6",
                                    "pago": "13934325"
                                },
                                {
                                    "ID_Venta": "3260",
                                    "Fecha venta": "24-Mar-19",
                                    "ID_Producto": "4",
                                    "ID_Vendedor": "32",
                                    "ID_Cliente": "1",
                                    "pago": "12858450"
                                },
                                {
                                    "ID_Venta": "3261",
                                    "Fecha venta": "24-Mar-19",
                                    "ID_Producto": "5",
                                    "ID_Vendedor": "35",
                                    "ID_Cliente": "5",
                                    "pago": "20934925"
                                },
                                {
                                    "ID_Venta": "3262",
                                    "Fecha venta": "25-Mar-19",
                                    "ID_Producto": "4",
                                    "ID_Vendedor": "38",
                                    "ID_Cliente": "9",
                                    "pago": "20111288"
                                },
                                {
                                    "ID_Venta": "3263",
                                    "Fecha venta": "26-Mar-19",
                                    "ID_Producto": "4",
                                    "ID_Vendedor": "2",
                                    "ID_Cliente": "1",
                                    "pago": "20382113"
                                },
                                {
                                    "ID_Venta": "3264",
                                    "Fecha venta": "26-Mar-19",
                                    "ID_Producto": "2",
                                    "ID_Vendedor": "31",
                                    "ID_Cliente": "4",
                                    "pago": "18449400"
                                },
                                {
                                    "ID_Venta": "3265",
                                    "Fecha venta": "27-Mar-19",
                                    "ID_Producto": "1",
                                    "ID_Vendedor": "23",
                                    "ID_Cliente": "7",
                                    "pago": "4913213"
                                },
                                {
                                    "ID_Venta": "3266",
                                    "Fecha venta": "27-Mar-19",
                                    "ID_Producto": "4",
                                    "ID_Vendedor": "22",
                                    "ID_Cliente": "3",
                                    "pago": "24074188"
                                },
                                {
                                    "ID_Venta": "3267",
                                    "Fecha venta": "28-Mar-19",
                                    "ID_Producto": "4",
                                    "ID_Vendedor": "41",
                                    "ID_Cliente": "9",
                                    "pago": "21029325"
                                },
                                {
                                    "ID_Venta": "3268",
                                    "Fecha venta": "29-Mar-19",
                                    "ID_Producto": "5",
                                    "ID_Vendedor": "43",
                                    "ID_Cliente": "10",
                                    "pago": "36356250"
                                },
                                {
                                    "ID_Venta": "3269",
                                    "Fecha venta": "29-Mar-19",
                                    "ID_Producto": "4",
                                    "ID_Vendedor": "28",
                                    "ID_Cliente": "3",
                                    "pago": "14732625"
                                },
                                {
                                    "ID_Venta": "3270",
                                    "Fecha venta": "29-Mar-19",
                                    "ID_Producto": "4",
                                    "ID_Vendedor": "9",
                                    "ID_Cliente": "6",
                                    "pago": "7786363"
                                },
                                {
                                    "ID_Venta": "3271",
                                    "Fecha venta": "30-Mar-19",
                                    "ID_Producto": "1",
                                    "ID_Vendedor": "37",
                                    "ID_Cliente": "1",
                                    "pago": "13210488"
                                },
                                {
                                    "ID_Venta": "3272",
                                    "Fecha venta": "30-Mar-19",
                                    "ID_Producto": "3",
                                    "ID_Vendedor": "6",
                                    "ID_Cliente": "7",
                                    "pago": "20704550"
                                },
                                {
                                    "ID_Venta": "3273",
                                    "Fecha venta": "30-Mar-19",
                                    "ID_Producto": "2",
                                    "ID_Vendedor": "24",
                                    "ID_Cliente": "9",
                                    "pago": "9248400"
                                },
                                {
                                    "ID_Venta": "3274",
                                    "Fecha venta": "30-Mar-19",
                                    "ID_Producto": "2",
                                    "ID_Vendedor": "16",
                                    "ID_Cliente": "5",
                                    "pago": "11227613"
                                },
                                {
                                    "ID_Venta": "3275",
                                    "Fecha venta": "31-Mar-19",
                                    "ID_Producto": "4",
                                    "ID_Vendedor": "9",
                                    "ID_Cliente": "1",
                                    "pago": "5219550"
                                },
                                {
                                    "ID_Venta": "3276",
                                    "Fecha venta": "31-Mar-19",
                                    "ID_Producto": "3",
                                    "ID_Vendedor": "1",
                                    "ID_Cliente": "6",
                                    "pago": "7387550"
                                },
                                {
                                    "ID_Venta": "3277",
                                    "Fecha venta": "4-Jan-19",
                                    "ID_Producto": "1",
                                    "ID_Vendedor": "40",
                                    "ID_Cliente": "3",
                                    "pago": "22526950"
                                },
                                {
                                    "ID_Venta": "3278",
                                    "Fecha venta": "4-Feb-19",
                                    "ID_Producto": "3",
                                    "ID_Vendedor": "6",
                                    "ID_Cliente": "6",
                                    "pago": "9068425"
                                },
                                {
                                    "ID_Venta": "3279",
                                    "Fecha venta": "4-Feb-19",
                                    "ID_Producto": "3",
                                    "ID_Vendedor": "15",
                                    "ID_Cliente": "4",
                                    "pago": "10570500"
                                },
                                {
                                    "ID_Venta": "3280",
                                    "Fecha venta": "4-Mar-19",
                                    "ID_Producto": "5",
                                    "ID_Vendedor": "41",
                                    "ID_Cliente": "9",
                                    "pago": "9519200"
                                },
                                {
                                    "ID_Venta": "3281",
                                    "Fecha venta": "4-Mar-19",
                                    "ID_Producto": "4",
                                    "ID_Vendedor": "19",
                                    "ID_Cliente": "7",
                                    "pago": "29204250"
                                },
                                {
                                    "ID_Venta": "3282",
                                    "Fecha venta": "4-Mar-19",
                                    "ID_Producto": "1",
                                    "ID_Vendedor": "44",
                                    "ID_Cliente": "8",
                                    "pago": "16211250"
                                },
                                {
                                    "ID_Venta": "3283",
                                    "Fecha venta": "4-Apr-19",
                                    "ID_Producto": "3",
                                    "ID_Vendedor": "5",
                                    "ID_Cliente": "7",
                                    "pago": "29804175"
                                },
                                {
                                    "ID_Venta": "3284",
                                    "Fecha venta": "4-Apr-19",
                                    "ID_Producto": "2",
                                    "ID_Vendedor": "38",
                                    "ID_Cliente": "3",
                                    "pago": "18966150"
                                },
                                {
                                    "ID_Venta": "3285",
                                    "Fecha venta": "4-Apr-19",
                                    "ID_Producto": "4",
                                    "ID_Vendedor": "33",
                                    "ID_Cliente": "6",
                                    "pago": "7888213"
                                },
                                {
                                    "ID_Venta": "3286",
                                    "Fecha venta": "4-Apr-19",
                                    "ID_Producto": "4",
                                    "ID_Vendedor": "4",
                                    "ID_Cliente": "4",
                                    "pago": "31132338"
                                },
                                {
                                    "ID_Venta": "3287",
                                    "Fecha venta": "4-May-19",
                                    "ID_Producto": "1",
                                    "ID_Vendedor": "7",
                                    "ID_Cliente": "7",
                                    "pago": "5543250"
                                },
                                {
                                    "ID_Venta": "3288",
                                    "Fecha venta": "4-Jun-19",
                                    "ID_Producto": "2",
                                    "ID_Vendedor": "45",
                                    "ID_Cliente": "7",
                                    "pago": "25816963"
                                },
                                {
                                    "ID_Venta": "3289",
                                    "Fecha venta": "4-Jun-19",
                                    "ID_Producto": "1",
                                    "ID_Vendedor": "13",
                                    "ID_Cliente": "8",
                                    "pago": "36430200"
                                },
                                {
                                    "ID_Venta": "3290",
                                    "Fecha venta": "4-Jun-19",
                                    "ID_Producto": "5",
                                    "ID_Vendedor": "9",
                                    "ID_Cliente": "7",
                                    "pago": "14337500"
                                },
                                {
                                    "ID_Venta": "3291",
                                    "Fecha venta": "4-Jul-19",
                                    "ID_Producto": "6",
                                    "ID_Vendedor": "7",
                                    "ID_Cliente": "9",
                                    "pago": "19597925"
                                },
                                {
                                    "ID_Venta": "3292",
                                    "Fecha venta": "4-Jul-19",
                                    "ID_Producto": "3",
                                    "ID_Vendedor": "23",
                                    "ID_Cliente": "1",
                                    "pago": "9842500"
                                },
                                {
                                    "ID_Venta": "3293",
                                    "Fecha venta": "4-Jul-19",
                                    "ID_Producto": "2",
                                    "ID_Vendedor": "39",
                                    "ID_Cliente": "7",
                                    "pago": "12851988"
                                },
                                {
                                    "ID_Venta": "3294",
                                    "Fecha venta": "4-Jul-19",
                                    "ID_Producto": "6",
                                    "ID_Vendedor": "17",
                                    "ID_Cliente": "4",
                                    "pago": "10227200"
                                },
                                {
                                    "ID_Venta": "3295",
                                    "Fecha venta": "4-Aug-19",
                                    "ID_Producto": "1",
                                    "ID_Vendedor": "38",
                                    "ID_Cliente": "3",
                                    "pago": "13602263"
                                },
                                {
                                    "ID_Venta": "3296",
                                    "Fecha venta": "4-Aug-19",
                                    "ID_Producto": "5",
                                    "ID_Vendedor": "24",
                                    "ID_Cliente": "3",
                                    "pago": "5185363"
                                },
                                {
                                    "ID_Venta": "3297",
                                    "Fecha venta": "4-Aug-19",
                                    "ID_Producto": "4",
                                    "ID_Vendedor": "5",
                                    "ID_Cliente": "6",
                                    "pago": "18714150"
                                },
                                {
                                    "ID_Venta": "3298",
                                    "Fecha venta": "4-Sep-19",
                                    "ID_Producto": "4",
                                    "ID_Vendedor": "28",
                                    "ID_Cliente": "1",
                                    "pago": "33617925"
                                },
                                {
                                    "ID_Venta": "3299",
                                    "Fecha venta": "4-Sep-19",
                                    "ID_Producto": "1",
                                    "ID_Vendedor": "42",
                                    "ID_Cliente": "5",
                                    "pago": "15310625"
                                },
                                {
                                    "ID_Venta": "3300",
                                    "Fecha venta": "4-Sep-19",
                                    "ID_Producto": "2",
                                    "ID_Vendedor": "17",
                                    "ID_Cliente": "7",
                                    "pago": "11023350"
                                },
                                {
                                    "ID_Venta": "3301",
                                    "Fecha venta": "4-Sep-19",
                                    "ID_Producto": "5",
                                    "ID_Vendedor": "41",
                                    "ID_Cliente": "9",
                                    "pago": "5600813"
                                },
                                {
                                    "ID_Venta": "3302",
                                    "Fecha venta": "4-Sep-19",
                                    "ID_Producto": "5",
                                    "ID_Vendedor": "46",
                                    "ID_Cliente": "8",
                                    "pago": "27239063"
                                },
                                {
                                    "ID_Venta": "3303",
                                    "Fecha venta": "4-Sep-19",
                                    "ID_Producto": "2",
                                    "ID_Vendedor": "10",
                                    "ID_Cliente": "1",
                                    "pago": "11452863"
                                },
                                {
                                    "ID_Venta": "3304",
                                    "Fecha venta": "4-Sep-19",
                                    "ID_Producto": "6",
                                    "ID_Vendedor": "11",
                                    "ID_Cliente": "3",
                                    "pago": "15880000"
                                },
                                {
                                    "ID_Venta": "3305",
                                    "Fecha venta": "4-Oct-19",
                                    "ID_Producto": "5",
                                    "ID_Vendedor": "9",
                                    "ID_Cliente": "6",
                                    "pago": "12831350"
                                },
                                {
                                    "ID_Venta": "3306",
                                    "Fecha venta": "4-Nov-19",
                                    "ID_Producto": "2",
                                    "ID_Vendedor": "33",
                                    "ID_Cliente": "5",
                                    "pago": "22000000"
                                },
                                {
                                    "ID_Venta": "3307",
                                    "Fecha venta": "4-Nov-19",
                                    "ID_Producto": "1",
                                    "ID_Vendedor": "34",
                                    "ID_Cliente": "4",
                                    "pago": "19163463"
                                },
                                {
                                    "ID_Venta": "3308",
                                    "Fecha venta": "13-Apr-19",
                                    "ID_Producto": "2",
                                    "ID_Vendedor": "27",
                                    "ID_Cliente": "6",
                                    "pago": "14750450"
                                },
                                {
                                    "ID_Venta": "3309",
                                    "Fecha venta": "13-Apr-19",
                                    "ID_Producto": "6",
                                    "ID_Vendedor": "39",
                                    "ID_Cliente": "9",
                                    "pago": "9507750"
                                },
                                {
                                    "ID_Venta": "3310",
                                    "Fecha venta": "13-Apr-19",
                                    "ID_Producto": "1",
                                    "ID_Vendedor": "15",
                                    "ID_Cliente": "5",
                                    "pago": "10317875"
                                },
                                {
                                    "ID_Venta": "3311",
                                    "Fecha venta": "14-Apr-19",
                                    "ID_Producto": "4",
                                    "ID_Vendedor": "2",
                                    "ID_Cliente": "9",
                                    "pago": "10385375"
                                },
                                {
                                    "ID_Venta": "3312",
                                    "Fecha venta": "14-Apr-19",
                                    "ID_Producto": "5",
                                    "ID_Vendedor": "27",
                                    "ID_Cliente": "4",
                                    "pago": "26619700"
                                },
                                {
                                    "ID_Venta": "3313",
                                    "Fecha venta": "15-Apr-19",
                                    "ID_Producto": "1",
                                    "ID_Vendedor": "21",
                                    "ID_Cliente": "6",
                                    "pago": "16222250"
                                },
                                {
                                    "ID_Venta": "3314",
                                    "Fecha venta": "15-Apr-19",
                                    "ID_Producto": "4",
                                    "ID_Vendedor": "45",
                                    "ID_Cliente": "7",
                                    "pago": "22606400"
                                },
                                {
                                    "ID_Venta": "3315",
                                    "Fecha venta": "15-Apr-19",
                                    "ID_Producto": "5",
                                    "ID_Vendedor": "23",
                                    "ID_Cliente": "2",
                                    "pago": "17336150"
                                },
                                {
                                    "ID_Venta": "3316",
                                    "Fecha venta": "16-Apr-19",
                                    "ID_Producto": "3",
                                    "ID_Vendedor": "10",
                                    "ID_Cliente": "2",
                                    "pago": "13298775"
                                },
                                {
                                    "ID_Venta": "3317",
                                    "Fecha venta": "17-Apr-19",
                                    "ID_Producto": "4",
                                    "ID_Vendedor": "9",
                                    "ID_Cliente": "7",
                                    "pago": "22551100"
                                },
                                {
                                    "ID_Venta": "3318",
                                    "Fecha venta": "18-Apr-19",
                                    "ID_Producto": "3",
                                    "ID_Vendedor": "47",
                                    "ID_Cliente": "5",
                                    "pago": "4928125"
                                },
                                {
                                    "ID_Venta": "3319",
                                    "Fecha venta": "18-Apr-19",
                                    "ID_Producto": "5",
                                    "ID_Vendedor": "8",
                                    "ID_Cliente": "5",
                                    "pago": "6750225"
                                },
                                {
                                    "ID_Venta": "3320",
                                    "Fecha venta": "19-Apr-19",
                                    "ID_Producto": "3",
                                    "ID_Vendedor": "27",
                                    "ID_Cliente": "10",
                                    "pago": "3664650"
                                },
                                {
                                    "ID_Venta": "3321",
                                    "Fecha venta": "20-Apr-19",
                                    "ID_Producto": "1",
                                    "ID_Vendedor": "14",
                                    "ID_Cliente": "8",
                                    "pago": "7587675"
                                },
                                {
                                    "ID_Venta": "3323",
                                    "Fecha venta": "20-Apr-19",
                                    "ID_Producto": "6",
                                    "ID_Vendedor": "19",
                                    "ID_Cliente": "8",
                                    "pago": "33577950"
                                },
                                {
                                    "ID_Venta": "3324",
                                    "Fecha venta": "21-Apr-19",
                                    "ID_Producto": "3",
                                    "ID_Vendedor": "2",
                                    "ID_Cliente": "3",
                                    "pago": "10092900"
                                },
                                {
                                    "ID_Venta": "3325",
                                    "Fecha venta": "21-Apr-19",
                                    "ID_Producto": "3",
                                    "ID_Vendedor": "9",
                                    "ID_Cliente": "7",
                                    "pago": "5792800"
                                },
                                {
                                    "ID_Venta": "3326",
                                    "Fecha venta": "22-Apr-19",
                                    "ID_Producto": "5",
                                    "ID_Vendedor": "34",
                                    "ID_Cliente": "2",
                                    "pago": "25977700"
                                },
                                {
                                    "ID_Venta": "3327",
                                    "Fecha venta": "22-Apr-19",
                                    "ID_Producto": "4",
                                    "ID_Vendedor": "29",
                                    "ID_Cliente": "8",
                                    "pago": "12487563"
                                },
                                {
                                    "ID_Venta": "3328",
                                    "Fecha venta": "23-Apr-19",
                                    "ID_Producto": "4",
                                    "ID_Vendedor": "37",
                                    "ID_Cliente": "10",
                                    "pago": "4439188"
                                },
                                {
                                    "ID_Venta": "3329",
                                    "Fecha venta": "23-Apr-19",
                                    "ID_Producto": "6",
                                    "ID_Vendedor": "3",
                                    "ID_Cliente": "10",
                                    "pago": "31468800"
                                },
                                {
                                    "ID_Venta": "3330",
                                    "Fecha venta": "24-Apr-19",
                                    "ID_Producto": "1",
                                    "ID_Vendedor": "10",
                                    "ID_Cliente": "8",
                                    "pago": "7657100"
                                },
                                {
                                    "ID_Venta": "3331",
                                    "Fecha venta": "24-Apr-19",
                                    "ID_Producto": "2",
                                    "ID_Vendedor": "36",
                                    "ID_Cliente": "5",
                                    "pago": "10572375"
                                },
                                {
                                    "ID_Venta": "3332",
                                    "Fecha venta": "26-Apr-19",
                                    "ID_Producto": "3",
                                    "ID_Vendedor": "31",
                                    "ID_Cliente": "2",
                                    "pago": "12891500"
                                },
                                {
                                    "ID_Venta": "3333",
                                    "Fecha venta": "26-Apr-19",
                                    "ID_Producto": "5",
                                    "ID_Vendedor": "4",
                                    "ID_Cliente": "4",
                                    "pago": "18133050"
                                },
                                {
                                    "ID_Venta": "3334",
                                    "Fecha venta": "26-Apr-19",
                                    "ID_Producto": "6",
                                    "ID_Vendedor": "19",
                                    "ID_Cliente": "1",
                                    "pago": "5676000"
                                },
                                {
                                    "ID_Venta": "3335",
                                    "Fecha venta": "27-Apr-19",
                                    "ID_Producto": "4",
                                    "ID_Vendedor": "31",
                                    "ID_Cliente": "1",
                                    "pago": "9258600"
                                },
                                {
                                    "ID_Venta": "3336",
                                    "Fecha venta": "27-Apr-19",
                                    "ID_Producto": "6",
                                    "ID_Vendedor": "44",
                                    "ID_Cliente": "4",
                                    "pago": "4967600"
                                },
                                {
                                    "ID_Venta": "3337",
                                    "Fecha venta": "27-Apr-19",
                                    "ID_Producto": "1",
                                    "ID_Vendedor": "4",
                                    "ID_Cliente": "8",
                                    "pago": "26758900"
                                }
                            ]
                        },
                        "text/html": [
                            "<table>",
                            "<tr><th>ID_Venta</th><th>Fecha venta</th><th>ID_Producto</th><th>ID_Vendedor</th><th>ID_Cliente</th><th>pago</th></tr>",
                            "<tr><td>3025</td><td>1-Jan-19</td><td>3</td><td>26</td><td>2</td><td>33284800</td></tr>",
                            "<tr><td>3026</td><td>1-Jan-19</td><td>2</td><td>40</td><td>10</td><td>10271850</td></tr>",
                            "<tr><td>3027</td><td>1-Feb-19</td><td>2</td><td>38</td><td>9</td><td>16693738</td></tr>",
                            "<tr><td>3028</td><td>1-Mar-19</td><td>1</td><td>7</td><td>7</td><td>29982713</td></tr>",
                            "<tr><td>3029</td><td>1-Mar-19</td><td>3</td><td>15</td><td>8</td><td>6080200</td></tr>",
                            "<tr><td>3030</td><td>1-Apr-19</td><td>4</td><td>49</td><td>6</td><td>5371625</td></tr>",
                            "<tr><td>3031</td><td>1-Apr-19</td><td>5</td><td>49</td><td>8</td><td>11304300</td></tr>",
                            "<tr><td>3032</td><td>1-May-19</td><td>4</td><td>47</td><td>2</td><td>8040000</td></tr>",
                            "<tr><td>3033</td><td>1-May-19</td><td>5</td><td>28</td><td>7</td><td>7145950</td></tr>",
                            "<tr><td>3034</td><td>1-May-19</td><td>4</td><td>44</td><td>9</td><td>11074500</td></tr>",
                            "<tr><td>3035</td><td>1-May-19</td><td>4</td><td>38</td><td>2</td><td>19001488</td></tr>",
                            "<tr><td>3036</td><td>1-Jun-19</td><td>4</td><td>24</td><td>1</td><td>23687950</td></tr>",
                            "<tr><td>3037</td><td>1-Jun-19</td><td>3</td><td>8</td><td>4</td><td>12776750</td></tr>",
                            "<tr><td>3038</td><td>1-Jun-19</td><td>4</td><td>21</td><td>8</td><td>10782925</td></tr>",
                            "<tr><td>3039</td><td>1-Jun-19</td><td>4</td><td>24</td><td>10</td><td>14462375</td></tr>",
                            "<tr><td>3040</td><td>1-Jun-19</td><td>4</td><td>25</td><td>2</td><td>13851600</td></tr>",
                            "<tr><td>3041</td><td>1-Jun-19</td><td>3</td><td>1</td><td>6</td><td>8915625</td></tr>",
                            "<tr><td>3042</td><td>1-Jun-19</td><td>1</td><td>2</td><td>1</td><td>7635200</td></tr>",
                            "<tr><td>3043</td><td>1-Jun-19</td><td>2</td><td>32</td><td>6</td><td>8869950</td></tr>",
                            "<tr><td>3044</td><td>1-Jun-19</td><td>3</td><td>20</td><td>4</td><td>20442663</td></tr>",
                            "<tr><td>3045</td><td>1-Jul-19</td><td>6</td><td>14</td><td>4</td><td>16203225</td></tr>",
                            "<tr><td>3046</td><td>1-Jul-19</td><td>1</td><td>34</td><td>3</td><td>13473225</td></tr>",
                            "<tr><td>3047</td><td>1-Jul-19</td><td>3</td><td>31</td><td>4</td><td>23500400</td></tr>",
                            "<tr><td>3048</td><td>1-Jul-19</td><td>2</td><td>47</td><td>3</td><td>24176000</td></tr>",
                            "<tr><td>3049</td><td>1-Jul-19</td><td>4</td><td>2</td><td>4</td><td>3371550</td></tr>",
                            "<tr><td>3050</td><td>1-Aug-19</td><td>3</td><td>11</td><td>10</td><td>5506250</td></tr>",
                            "<tr><td>3051</td><td>1-Aug-19</td><td>4</td><td>24</td><td>5</td><td>17116663</td></tr>",
                            "<tr><td>3052</td><td>1-Aug-19</td><td>2</td><td>9</td><td>3</td><td>24568400</td></tr>",
                            "<tr><td>3053</td><td>1-Sep-19</td><td>6</td><td>43</td><td>2</td><td>17818600</td></tr>",
                            "<tr><td>3054</td><td>1-Sep-19</td><td>4</td><td>15</td><td>9</td><td>11210000</td></tr>",
                            "<tr><td>3055</td><td>1-Sep-19</td><td>6</td><td>38</td><td>2</td><td>27554400</td></tr>",
                            "<tr><td>3056</td><td>1-Oct-19</td><td>6</td><td>32</td><td>4</td><td>6396250</td></tr>",
                            "<tr><td>3057</td><td>1-Oct-19</td><td>4</td><td>8</td><td>1</td><td>19733438</td></tr>",
                            "<tr><td>3058</td><td>1-Oct-19</td><td>6</td><td>25</td><td>9</td><td>9130650</td></tr>",
                            "<tr><td>3059</td><td>1-Nov-19</td><td>4</td><td>33</td><td>4</td><td>34963125</td></tr>",
                            "<tr><td>3060</td><td>1-Nov-19</td><td>4</td><td>20</td><td>4</td><td>30341388</td></tr>",
                            "<tr><td>3061</td><td>1-Nov-19</td><td>6</td><td>29</td><td>1</td><td>11653650</td></tr>",
                            "<tr><td>3062</td><td>1-Nov-19</td><td>5</td><td>32</td><td>3</td><td>4665500</td></tr>",
                            "<tr><td>3063</td><td>1-Dec-19</td><td>1</td><td>43</td><td>5</td><td>6722813</td></tr>",
                            "<tr><td>3064</td><td>1-Dec-19</td><td>6</td><td>14</td><td>8</td><td>9519000</td></tr>",
                            "<tr><td>3065</td><td>1-Dec-19</td><td>1</td><td>11</td><td>4</td><td>18575375</td></tr>",
                            "<tr><td>3066</td><td>1-Dec-19</td><td>6</td><td>45</td><td>4</td><td>12103038</td></tr>",
                            "<tr><td>3067</td><td>13-Jan-19</td><td>6</td><td>12</td><td>6</td><td>23200000</td></tr>",
                            "<tr><td>3068</td><td>14-Jan-19</td><td>4</td><td>49</td><td>4</td><td>10179750</td></tr>",
                            "<tr><td>3069</td><td>14-Jan-19</td><td>5</td><td>9</td><td>8</td><td>15383550</td></tr>",
                            "<tr><td>3070</td><td>15-Jan-19</td><td>1</td><td>2</td><td>6</td><td>23221688</td></tr>",
                            "<tr><td>3071</td><td>15-Jan-19</td><td>2</td><td>8</td><td>7</td><td>17003350</td></tr>",
                            "<tr><td>3072</td><td>15-Jan-19</td><td>4</td><td>8</td><td>1</td><td>28642763</td></tr>",
                            "<tr><td>3073</td><td>16-Jan-19</td><td>4</td><td>28</td><td>1</td><td>19983300</td></tr>",
                            "<tr><td>3074</td><td>17-Jan-19</td><td>3</td><td>27</td><td>8</td><td>11074613</td></tr>",
                            "<tr><td>3075</td><td>17-Jan-19</td><td>5</td><td>34</td><td>8</td><td>6065500</td></tr>",
                            "<tr><td>3076</td><td>17-Jan-19</td><td>1</td><td>29</td><td>7</td><td>26792100</td></tr>",
                            "<tr><td>3077</td><td>17-Jan-19</td><td>5</td><td>12</td><td>4</td><td>19632800</td></tr>",
                            "<tr><td>3078</td><td>17-Jan-19</td><td>5</td><td>9</td><td>1</td><td>18973613</td></tr>",
                            "<tr><td>3079</td><td>18-Jan-19</td><td>2</td><td>27</td><td>4</td><td>13098963</td></tr>",
                            "<tr><td>3080</td><td>18-Jan-19</td><td>2</td><td>26</td><td>8</td><td>4921700</td></tr>",
                            "<tr><td>3081</td><td>18-Jan-19</td><td>6</td><td>40</td><td>2</td><td>18649000</td></tr>",
                            "<tr><td>3082</td><td>18-Jan-19</td><td>1</td><td>10</td><td>6</td><td>17751650</td></tr>",
                            "<tr><td>3083</td><td>19-Jan-19</td><td>6</td><td>25</td><td>5</td><td>18899300</td></tr>",
                            "<tr><td>3084</td><td>20-Jan-19</td><td>5</td><td>17</td><td>1</td><td>7113725</td></tr>",
                            "<tr><td>3085</td><td>20-Jan-19</td><td>2</td><td>4</td><td>7</td><td>9801000</td></tr>",
                            "<tr><td>3086</td><td>20-Jan-19</td><td>4</td><td>26</td><td>10</td><td>8215875</td></tr>",
                            "<tr><td>3087</td><td>20-Jan-19</td><td>1</td><td>9</td><td>4</td><td>3354150</td></tr>",
                            "<tr><td>3088</td><td>20-Jan-19</td><td>2</td><td>10</td><td>9</td><td>20968650</td></tr>",
                            "<tr><td>3089</td><td>20-Jan-19</td><td>5</td><td>38</td><td>3</td><td>18677550</td></tr>",
                            "<tr><td>3090</td><td>21-Jan-19</td><td>2</td><td>6</td><td>6</td><td>29016563</td></tr>",
                            "<tr><td>3091</td><td>22-Jan-19</td><td>4</td><td>41</td><td>6</td><td>23704250</td></tr>",
                            "<tr><td>3092</td><td>23-Jan-19</td><td>1</td><td>8</td><td>4</td><td>22361063</td></tr>",
                            "<tr><td>3093</td><td>23-Jan-19</td><td>5</td><td>49</td><td>3</td><td>19429200</td></tr>",
                            "<tr><td>3094</td><td>23-Jan-19</td><td>4</td><td>13</td><td>6</td><td>13580975</td></tr>",
                            "<tr><td>3095</td><td>24-Jan-19</td><td>2</td><td>45</td><td>4</td><td>3776250</td></tr>",
                            "<tr><td>3096</td><td>24-Jan-19</td><td>5</td><td>12</td><td>10</td><td>27364025</td></tr>",
                            "<tr><td>3097</td><td>25-Jan-19</td><td>6</td><td>30</td><td>1</td><td>12686600</td></tr>",
                            "<tr><td>3098</td><td>26-Jan-19</td><td>5</td><td>12</td><td>1</td><td>4765675</td></tr>",
                            "<tr><td>3099</td><td>26-Jan-19</td><td>3</td><td>38</td><td>10</td><td>32038300</td></tr>",
                            "<tr><td>3100</td><td>26-Jan-19</td><td>1</td><td>20</td><td>8</td><td>18063625</td></tr>",
                            "<tr><td>3101</td><td>26-Jan-19</td><td>3</td><td>41</td><td>4</td><td>26859788</td></tr>",
                            "<tr><td>3102</td><td>27-Jan-19</td><td>5</td><td>41</td><td>9</td><td>16196400</td></tr>",
                            "<tr><td>3103</td><td>28-Jan-19</td><td>4</td><td>15</td><td>5</td><td>11522838</td></tr>",
                            "<tr><td>3104</td><td>28-Jan-19</td><td>4</td><td>36</td><td>5</td><td>11449200</td></tr>",
                            "<tr><td>3105</td><td>29-Jan-19</td><td>6</td><td>26</td><td>1</td><td>8247600</td></tr>",
                            "<tr><td>3106</td><td>29-Jan-19</td><td>5</td><td>14</td><td>1</td><td>20458750</td></tr>",
                            "<tr><td>3107</td><td>29-Jan-19</td><td>4</td><td>14</td><td>9</td><td>12472200</td></tr>",
                            "<tr><td>3108</td><td>29-Jan-19</td><td>2</td><td>36</td><td>6</td><td>13324938</td></tr>",
                            "<tr><td>3109</td><td>30-Jan-19</td><td>4</td><td>20</td><td>1</td><td>7495050</td></tr>",
                            "<tr><td>3110</td><td>30-Jan-19</td><td>1</td><td>6</td><td>9</td><td>3766825</td></tr>",
                            "<tr><td>3111</td><td>30-Jan-19</td><td>3</td><td>25</td><td>10</td><td>10758450</td></tr>",
                            "<tr><td>3112</td><td>30-Jan-19</td><td>4</td><td>47</td><td>10</td><td>8554450</td></tr>",
                            "<tr><td>3113</td><td>31-Jan-19</td><td>6</td><td>17</td><td>7</td><td>12570600</td></tr>",
                            "<tr><td>3114</td><td>31-Jan-19</td><td>4</td><td>28</td><td>5</td><td>13068575</td></tr>",
                            "<tr><td>3115</td><td>31-Jan-19</td><td>1</td><td>25</td><td>1</td><td>19111325</td></tr>",
                            "<tr><td>3116</td><td>2-Jan-19</td><td>3</td><td>10</td><td>1</td><td>3564200</td></tr>",
                            "<tr><td>3117</td><td>2-Jan-19</td><td>4</td><td>26</td><td>9</td><td>17888000</td></tr>",
                            "<tr><td>3118</td><td>2-Feb-19</td><td>6</td><td>17</td><td>10</td><td>30613525</td></tr>",
                            "<tr><td>3119</td><td>2-Mar-19</td><td>5</td><td>10</td><td>1</td><td>11911613</td></tr>",
                            "<tr><td>3120</td><td>2-Mar-19</td><td>4</td><td>1</td><td>6</td><td>21830250</td></tr>",
                            "<tr><td>3121</td><td>2-Mar-19</td><td>1</td><td>30</td><td>2</td><td>33225950</td></tr>",
                            "<tr><td>3122</td><td>2-Mar-19</td><td>5</td><td>18</td><td>2</td><td>6200250</td></tr>",
                            "<tr><td>3124</td><td>2-Jun-19</td><td>1</td><td>43</td><td>5</td><td>26926200</td></tr>",
                            "<tr><td>3125</td><td>2-Jul-19</td><td>6</td><td>40</td><td>9</td><td>8600725</td></tr>",
                            "<tr><td>3126</td><td>2-Jul-19</td><td>3</td><td>27</td><td>6</td><td>36278550</td></tr>",
                            "<tr><td>3127</td><td>2-Jul-19</td><td>5</td><td>19</td><td>10</td><td>6547525</td></tr>",
                            "<tr><td>3128</td><td>2-Jul-19</td><td>2</td><td>10</td><td>1</td><td>22718025</td></tr>",
                            "<tr><td>3129</td><td>2-Aug-19</td><td>5</td><td>36</td><td>4</td><td>13133300</td></tr>",
                            "<tr><td>3130</td><td>2-Aug-19</td><td>1</td><td>47</td><td>9</td><td>5542025</td></tr>",
                            "<tr><td>3131</td><td>2-Aug-19</td><td>4</td><td>8</td><td>7</td><td>10498913</td></tr>",
                            "<tr><td>3132</td><td>2-Aug-19</td><td>1</td><td>42</td><td>7</td><td>6523875</td></tr>",
                            "<tr><td>3133</td><td>2-Sep-19</td><td>4</td><td>34</td><td>10</td><td>6487788</td></tr>",
                            "<tr><td>3134</td><td>2-Sep-19</td><td>2</td><td>26</td><td>5</td><td>18359250</td></tr>",
                            "<tr><td>3135</td><td>2-Sep-19</td><td>2</td><td>13</td><td>4</td><td>13108925</td></tr>",
                            "<tr><td>3136</td><td>2-Sep-19</td><td>2</td><td>8</td><td>1</td><td>5220325</td></tr>",
                            "<tr><td>3137</td><td>2-Oct-19</td><td>4</td><td>2</td><td>5</td><td>3356100</td></tr>",
                            "<tr><td>3138</td><td>2-Nov-19</td><td>2</td><td>46</td><td>9</td><td>13857550</td></tr>",
                            "<tr><td>3139</td><td>2-Dec-19</td><td>3</td><td>41</td><td>3</td><td>29465500</td></tr>",
                            "<tr><td>3140</td><td>2-Dec-19</td><td>5</td><td>41</td><td>6</td><td>15600900</td></tr>",
                            "<tr><td>3141</td><td>13-Feb-19</td><td>5</td><td>8</td><td>7</td><td>21355425</td></tr>",
                            "<tr><td>3142</td><td>13-Feb-19</td><td>5</td><td>22</td><td>5</td><td>10029913</td></tr>",
                            "<tr><td>3143</td><td>14-Feb-19</td><td>6</td><td>36</td><td>3</td><td>12239788</td></tr>",
                            "<tr><td>3144</td><td>14-Feb-19</td><td>5</td><td>46</td><td>4</td><td>24735600</td></tr>",
                            "<tr><td>3145</td><td>14-Feb-19</td><td>3</td><td>12</td><td>7</td><td>22373325</td></tr>",
                            "<tr><td>3146</td><td>15-Feb-19</td><td>3</td><td>29</td><td>6</td><td>19607625</td></tr>",
                            "<tr><td>3147</td><td>15-Feb-19</td><td>5</td><td>27</td><td>4</td><td>16571625</td></tr>",
                            "<tr><td>3148</td><td>15-Feb-19</td><td>5</td><td>25</td><td>8</td><td>23197125</td></tr>",
                            "<tr><td>3149</td><td>15-Feb-19</td><td>6</td><td>16</td><td>6</td><td>4058100</td></tr>",
                            "<tr><td>3150</td><td>16-Feb-19</td><td>4</td><td>3</td><td>9</td><td>14486175</td></tr>",
                            "<tr><td>3151</td><td>16-Feb-19</td><td>3</td><td>45</td><td>9</td><td>3666288</td></tr>",
                            "<tr><td>3152</td><td>16-Feb-19</td><td>4</td><td>14</td><td>6</td><td>3259688</td></tr>",
                            "<tr><td>3153</td><td>16-Feb-19</td><td>4</td><td>29</td><td>7</td><td>13007938</td></tr>",
                            "<tr><td>3154</td><td>17-Feb-19</td><td>4</td><td>6</td><td>6</td><td>19093950</td></tr>",
                            "<tr><td>3155</td><td>17-Feb-19</td><td>5</td><td>19</td><td>1</td><td>7384813</td></tr>",
                            "<tr><td>3156</td><td>18-Feb-19</td><td>6</td><td>42</td><td>2</td><td>10733925</td></tr>",
                            "<tr><td>3157</td><td>19-Feb-19</td><td>2</td><td>49</td><td>6</td><td>5445875</td></tr>",
                            "<tr><td>3158</td><td>19-Feb-19</td><td>2</td><td>29</td><td>10</td><td>14090925</td></tr>",
                            "<tr><td>3159</td><td>19-Feb-19</td><td>3</td><td>17</td><td>10</td><td>3824313</td></tr>",
                            "<tr><td>3160</td><td>19-Feb-19</td><td>5</td><td>37</td><td>9</td><td>12408725</td></tr>",
                            "<tr><td>3161</td><td>20-Feb-19</td><td>1</td><td>1</td><td>4</td><td>8101150</td></tr>",
                            "<tr><td>3162</td><td>20-Feb-19</td><td>5</td><td>19</td><td>5</td><td>27333225</td></tr>",
                            "<tr><td>3163</td><td>20-Feb-19</td><td>2</td><td>47</td><td>1</td><td>12165075</td></tr>",
                            "<tr><td>3164</td><td>20-Feb-19</td><td>4</td><td>47</td><td>8</td><td>14688000</td></tr>",
                            "<tr><td>3165</td><td>21-Feb-19</td><td>2</td><td>23</td><td>8</td><td>17922450</td></tr>",
                            "<tr><td>3166</td><td>21-Feb-19</td><td>4</td><td>17</td><td>4</td><td>4358700</td></tr>",
                            "<tr><td>3167</td><td>22-Feb-19</td><td>2</td><td>40</td><td>9</td><td>9233750</td></tr>",
                            "<tr><td>3168</td><td>22-Feb-19</td><td>1</td><td>11</td><td>8</td><td>17187188</td></tr>",
                            "<tr><td>3169</td><td>23-Feb-19</td><td>5</td><td>11</td><td>9</td><td>25826250</td></tr>",
                            "<tr><td>3170</td><td>23-Feb-19</td><td>4</td><td>27</td><td>4</td><td>19710600</td></tr>",
                            "<tr><td>3171</td><td>23-Feb-19</td><td>3</td><td>46</td><td>4</td><td>8557350</td></tr>",
                            "<tr><td>3172</td><td>23-Feb-19</td><td>4</td><td>21</td><td>4</td><td>18482163</td></tr>",
                            "<tr><td>3173</td><td>24-Feb-19</td><td>4</td><td>32</td><td>1</td><td>17447963</td></tr>",
                            "<tr><td>3174</td><td>24-Feb-19</td><td>6</td><td>19</td><td>3</td><td>6504800</td></tr>",
                            "<tr><td>3175</td><td>24-Feb-19</td><td>2</td><td>45</td><td>6</td><td>22260150</td></tr>",
                            "<tr><td>3176</td><td>24-Feb-19</td><td>2</td><td>36</td><td>4</td><td>10321988</td></tr>",
                            "<tr><td>3177</td><td>25-Feb-19</td><td>6</td><td>16</td><td>5</td><td>10017600</td></tr>",
                            "<tr><td>3178</td><td>25-Feb-19</td><td>4</td><td>38</td><td>7</td><td>12850925</td></tr>",
                            "<tr><td>3179</td><td>26-Feb-19</td><td>1</td><td>38</td><td>4</td><td>11311688</td></tr>",
                            "<tr><td>3180</td><td>26-Feb-19</td><td>6</td><td>45</td><td>5</td><td>20188350</td></tr>",
                            "<tr><td>3181</td><td>28-Feb-19</td><td>6</td><td>4</td><td>7</td><td>11968163</td></tr>",
                            "<tr><td>3182</td><td>28-Feb-19</td><td>4</td><td>16</td><td>5</td><td>19847100</td></tr>",
                            "<tr><td>3183</td><td>28-Feb-19</td><td>3</td><td>2</td><td>4</td><td>7578488</td></tr>",
                            "<tr><td>3184</td><td>28-Feb-19</td><td>6</td><td>31</td><td>4</td><td>27920025</td></tr>",
                            "<tr><td>3185</td><td>28-Feb-19</td><td>5</td><td>31</td><td>7</td><td>23920300</td></tr>",
                            "<tr><td>3186</td><td>3-Jan-19</td><td>5</td><td>30</td><td>7</td><td>19796075</td></tr>",
                            "<tr><td>3187</td><td>3-Jan-19</td><td>6</td><td>45</td><td>9</td><td>17750250</td></tr>",
                            "<tr><td>3188</td><td>3-Jan-19</td><td>6</td><td>25</td><td>7</td><td>3888625</td></tr>",
                            "<tr><td>3189</td><td>3-Jan-19</td><td>5</td><td>45</td><td>2</td><td>9150350</td></tr>",
                            "<tr><td>3190</td><td>3-Feb-19</td><td>1</td><td>19</td><td>8</td><td>16550100</td></tr>",
                            "<tr><td>3191</td><td>3-Feb-19</td><td>2</td><td>3</td><td>9</td><td>13216375</td></tr>",
                            "<tr><td>3192</td><td>3-Feb-19</td><td>6</td><td>33</td><td>9</td><td>30495500</td></tr>",
                            "<tr><td>3193</td><td>3-Apr-19</td><td>5</td><td>42</td><td>6</td><td>25239000</td></tr>",
                            "<tr><td>3194</td><td>3-Apr-19</td><td>1</td><td>19</td><td>9</td><td>4970075</td></tr>",
                            "<tr><td>3195</td><td>3-Apr-19</td><td>4</td><td>27</td><td>10</td><td>13863438</td></tr>",
                            "<tr><td>3196</td><td>3-Apr-19</td><td>4</td><td>5</td><td>9</td><td>25945400</td></tr>",
                            "<tr><td>3197</td><td>3-Apr-19</td><td>1</td><td>21</td><td>6</td><td>28283850</td></tr>",
                            "<tr><td>3198</td><td>3-May-19</td><td>6</td><td>40</td><td>1</td><td>21054250</td></tr>",
                            "<tr><td>3199</td><td>3-May-19</td><td>3</td><td>41</td><td>9</td><td>23240250</td></tr>",
                            "<tr><td>3201</td><td>3-Jun-19</td><td>1</td><td>43</td><td>8</td><td>10618275</td></tr>",
                            "<tr><td>3202</td><td>3-Jun-19</td><td>3</td><td>19</td><td>4</td><td>17012075</td></tr>",
                            "<tr><td>3203</td><td>3-Jun-19</td><td>4</td><td>15</td><td>7</td><td>21184538</td></tr>",
                            "<tr><td>3204</td><td>3-Jun-19</td><td>1</td><td>1</td><td>5</td><td>4385900</td></tr>",
                            "<tr><td>3205</td><td>3-Jul-19</td><td>4</td><td>10</td><td>8</td><td>10885463</td></tr>",
                            "<tr><td>3206</td><td>3-Aug-19</td><td>1</td><td>22</td><td>9</td><td>20284875</td></tr>",
                            "<tr><td>3207</td><td>3-Aug-19</td><td>3</td><td>3</td><td>8</td><td>14943425</td></tr>",
                            "<tr><td>3208</td><td>3-Aug-19</td><td>1</td><td>23</td><td>8</td><td>13540763</td></tr>",
                            "<tr><td>3209</td><td>3-Sep-19</td><td>4</td><td>13</td><td>2</td><td>11484025</td></tr>",
                            "<tr><td>3210</td><td>3-Sep-19</td><td>2</td><td>45</td><td>7</td><td>12474600</td></tr>",
                            "<tr><td>3211</td><td>3-Sep-19</td><td>2</td><td>45</td><td>8</td><td>7516325</td></tr>",
                            "<tr><td>3212</td><td>3-Oct-19</td><td>2</td><td>17</td><td>1</td><td>5314663</td></tr>",
                            "<tr><td>3213</td><td>3-Nov-19</td><td>4</td><td>26</td><td>3</td><td>6298388</td></tr>",
                            "<tr><td>3214</td><td>3-Nov-19</td><td>4</td><td>38</td><td>10</td><td>20094850</td></tr>",
                            "<tr><td>3215</td><td>3-Nov-19</td><td>5</td><td>23</td><td>8</td><td>6536400</td></tr>",
                            "<tr><td>3216</td><td>3-Nov-19</td><td>4</td><td>45</td><td>5</td><td>3991838</td></tr>",
                            "<tr><td>3217</td><td>3-Nov-19</td><td>5</td><td>33</td><td>9</td><td>12753213</td></tr>",
                            "<tr><td>3218</td><td>3-Nov-19</td><td>6</td><td>18</td><td>10</td><td>10161413</td></tr>",
                            "<tr><td>3219</td><td>3-Dec-19</td><td>3</td><td>43</td><td>3</td><td>11324000</td></tr>",
                            "<tr><td>3220</td><td>3-Dec-19</td><td>3</td><td>21</td><td>6</td><td>11319150</td></tr>",
                            "<tr><td>3221</td><td>13-Mar-19</td><td>2</td><td>22</td><td>4</td><td>14185500</td></tr>",
                            "<tr><td>3222</td><td>13-Mar-19</td><td>1</td><td>47</td><td>4</td><td>12925425</td></tr>",
                            "<tr><td>3223</td><td>13-Mar-19</td><td>5</td><td>23</td><td>1</td><td>11863250</td></tr>",
                            "<tr><td>3224</td><td>13-Mar-19</td><td>5</td><td>12</td><td>3</td><td>15532800</td></tr>",
                            "<tr><td>3225</td><td>13-Mar-19</td><td>7</td><td>10</td><td>5</td><td>18206088</td></tr>",
                            "<tr><td>3226</td><td>13-Mar-19</td><td>2</td><td>43</td><td>2</td><td>14104875</td></tr>",
                            "<tr><td>3227</td><td>14-Mar-19</td><td>4</td><td>6</td><td>2</td><td>9007200</td></tr>",
                            "<tr><td>3228</td><td>14-Mar-19</td><td>6</td><td>23</td><td>3</td><td>4067750</td></tr>",
                            "<tr><td>3229</td><td>14-Mar-19</td><td>2</td><td>12</td><td>3</td><td>14929275</td></tr>",
                            "<tr><td>3230</td><td>14-Mar-19</td><td>4</td><td>7</td><td>3</td><td>5959800</td></tr>",
                            "<tr><td>3231</td><td>15-Mar-19</td><td>3</td><td>44</td><td>4</td><td>6508400</td></tr>",
                            "<tr><td>3232</td><td>15-Mar-19</td><td>5</td><td>1</td><td>10</td><td>3825250</td></tr>",
                            "<tr><td>3233</td><td>16-Mar-19</td><td>3</td><td>36</td><td>4</td><td>8921000</td></tr>",
                            "<tr><td>3234</td><td>16-Mar-19</td><td>5</td><td>30</td><td>4</td><td>9549788</td></tr>",
                            "<tr><td>3235</td><td>16-Mar-19</td><td>3</td><td>34</td><td>8</td><td>4347200</td></tr>",
                            "<tr><td>3236</td><td>17-Mar-19</td><td>4</td><td>45</td><td>5</td><td>34565500</td></tr>",
                            "<tr><td>3237</td><td>17-Mar-19</td><td>3</td><td>22</td><td>4</td><td>5876475</td></tr>",
                            "<tr><td>3238</td><td>17-Mar-19</td><td>4</td><td>3</td><td>7</td><td>9078300</td></tr>",
                            "<tr><td>3239</td><td>17-Mar-19</td><td>2</td><td>43</td><td>7</td><td>13208925</td></tr>",
                            "<tr><td>3240</td><td>18-Mar-19</td><td>3</td><td>31</td><td>9</td><td>9684900</td></tr>",
                            "<tr><td>3241</td><td>18-Mar-19</td><td>5</td><td>23</td><td>7</td><td>6937663</td></tr>",
                            "<tr><td>3242</td><td>18-Mar-19</td><td>4</td><td>19</td><td>4</td><td>7336500</td></tr>",
                            "<tr><td>3243</td><td>19-Mar-19</td><td>4</td><td>47</td><td>9</td><td>13705875</td></tr>",
                            "<tr><td>3244</td><td>19-Mar-19</td><td>6</td><td>6</td><td>7</td><td>17058625</td></tr>",
                            "<tr><td>3245</td><td>19-Mar-19</td><td>5</td><td>2</td><td>7</td><td>22509113</td></tr>",
                            "<tr><td>3246</td><td>20-Mar-19</td><td>1</td><td>26</td><td>1</td><td>12945600</td></tr>",
                            "<tr><td>3247</td><td>20-Mar-19</td><td>3</td><td>2</td><td>6</td><td>11753875</td></tr>",
                            "<tr><td>3248</td><td>20-Mar-19</td><td>6</td><td>27</td><td>10</td><td>16225313</td></tr>",
                            "<tr><td>3250</td><td>20-Mar-19</td><td>4</td><td>22</td><td>7</td><td>15035138</td></tr>",
                            "<tr><td>3251</td><td>21-Mar-19</td><td>1</td><td>1</td><td>8</td><td>4584750</td></tr>",
                            "<tr><td>3252</td><td>21-Mar-19</td><td>2</td><td>31</td><td>6</td><td>24582688</td></tr>",
                            "<tr><td>3253</td><td>21-Mar-19</td><td>4</td><td>46</td><td>8</td><td>17363400</td></tr>",
                            "<tr><td>3254</td><td>22-Mar-19</td><td>7</td><td>5</td><td>6</td><td>6188663</td></tr>",
                            "<tr><td>3255</td><td>23-Mar-19</td><td>3</td><td>49</td><td>8</td><td>14934075</td></tr>",
                            "<tr><td>3256</td><td>23-Mar-19</td><td>6</td><td>34</td><td>1</td><td>25137000</td></tr>",
                            "<tr><td>3257</td><td>23-Mar-19</td><td>4</td><td>7</td><td>2</td><td>11403200</td></tr>",
                            "<tr><td>3258</td><td>24-Mar-19</td><td>2</td><td>3</td><td>2</td><td>9723350</td></tr>",
                            "<tr><td>3259</td><td>24-Mar-19</td><td>5</td><td>42</td><td>6</td><td>13934325</td></tr>",
                            "<tr><td>3260</td><td>24-Mar-19</td><td>4</td><td>32</td><td>1</td><td>12858450</td></tr>",
                            "<tr><td>3261</td><td>24-Mar-19</td><td>5</td><td>35</td><td>5</td><td>20934925</td></tr>",
                            "<tr><td>3262</td><td>25-Mar-19</td><td>4</td><td>38</td><td>9</td><td>20111288</td></tr>",
                            "<tr><td>3263</td><td>26-Mar-19</td><td>4</td><td>2</td><td>1</td><td>20382113</td></tr>",
                            "<tr><td>3264</td><td>26-Mar-19</td><td>2</td><td>31</td><td>4</td><td>18449400</td></tr>",
                            "<tr><td>3265</td><td>27-Mar-19</td><td>1</td><td>23</td><td>7</td><td>4913213</td></tr>",
                            "<tr><td>3266</td><td>27-Mar-19</td><td>4</td><td>22</td><td>3</td><td>24074188</td></tr>",
                            "<tr><td>3267</td><td>28-Mar-19</td><td>4</td><td>41</td><td>9</td><td>21029325</td></tr>",
                            "<tr><td>3268</td><td>29-Mar-19</td><td>5</td><td>43</td><td>10</td><td>36356250</td></tr>",
                            "<tr><td>3269</td><td>29-Mar-19</td><td>4</td><td>28</td><td>3</td><td>14732625</td></tr>",
                            "<tr><td>3270</td><td>29-Mar-19</td><td>4</td><td>9</td><td>6</td><td>7786363</td></tr>",
                            "<tr><td>3271</td><td>30-Mar-19</td><td>1</td><td>37</td><td>1</td><td>13210488</td></tr>",
                            "<tr><td>3272</td><td>30-Mar-19</td><td>3</td><td>6</td><td>7</td><td>20704550</td></tr>",
                            "<tr><td>3273</td><td>30-Mar-19</td><td>2</td><td>24</td><td>9</td><td>9248400</td></tr>",
                            "<tr><td>3274</td><td>30-Mar-19</td><td>2</td><td>16</td><td>5</td><td>11227613</td></tr>",
                            "<tr><td>3275</td><td>31-Mar-19</td><td>4</td><td>9</td><td>1</td><td>5219550</td></tr>",
                            "<tr><td>3276</td><td>31-Mar-19</td><td>3</td><td>1</td><td>6</td><td>7387550</td></tr>",
                            "<tr><td>3277</td><td>4-Jan-19</td><td>1</td><td>40</td><td>3</td><td>22526950</td></tr>",
                            "<tr><td>3278</td><td>4-Feb-19</td><td>3</td><td>6</td><td>6</td><td>9068425</td></tr>",
                            "<tr><td>3279</td><td>4-Feb-19</td><td>3</td><td>15</td><td>4</td><td>10570500</td></tr>",
                            "<tr><td>3280</td><td>4-Mar-19</td><td>5</td><td>41</td><td>9</td><td>9519200</td></tr>",
                            "<tr><td>3281</td><td>4-Mar-19</td><td>4</td><td>19</td><td>7</td><td>29204250</td></tr>",
                            "<tr><td>3282</td><td>4-Mar-19</td><td>1</td><td>44</td><td>8</td><td>16211250</td></tr>",
                            "<tr><td>3283</td><td>4-Apr-19</td><td>3</td><td>5</td><td>7</td><td>29804175</td></tr>",
                            "<tr><td>3284</td><td>4-Apr-19</td><td>2</td><td>38</td><td>3</td><td>18966150</td></tr>",
                            "<tr><td>3285</td><td>4-Apr-19</td><td>4</td><td>33</td><td>6</td><td>7888213</td></tr>",
                            "<tr><td>3286</td><td>4-Apr-19</td><td>4</td><td>4</td><td>4</td><td>31132338</td></tr>",
                            "<tr><td>3287</td><td>4-May-19</td><td>1</td><td>7</td><td>7</td><td>5543250</td></tr>",
                            "<tr><td>3288</td><td>4-Jun-19</td><td>2</td><td>45</td><td>7</td><td>25816963</td></tr>",
                            "<tr><td>3289</td><td>4-Jun-19</td><td>1</td><td>13</td><td>8</td><td>36430200</td></tr>",
                            "<tr><td>3290</td><td>4-Jun-19</td><td>5</td><td>9</td><td>7</td><td>14337500</td></tr>",
                            "<tr><td>3291</td><td>4-Jul-19</td><td>6</td><td>7</td><td>9</td><td>19597925</td></tr>",
                            "<tr><td>3292</td><td>4-Jul-19</td><td>3</td><td>23</td><td>1</td><td>9842500</td></tr>",
                            "<tr><td>3293</td><td>4-Jul-19</td><td>2</td><td>39</td><td>7</td><td>12851988</td></tr>",
                            "<tr><td>3294</td><td>4-Jul-19</td><td>6</td><td>17</td><td>4</td><td>10227200</td></tr>",
                            "<tr><td>3295</td><td>4-Aug-19</td><td>1</td><td>38</td><td>3</td><td>13602263</td></tr>",
                            "<tr><td>3296</td><td>4-Aug-19</td><td>5</td><td>24</td><td>3</td><td>5185363</td></tr>",
                            "<tr><td>3297</td><td>4-Aug-19</td><td>4</td><td>5</td><td>6</td><td>18714150</td></tr>",
                            "<tr><td>3298</td><td>4-Sep-19</td><td>4</td><td>28</td><td>1</td><td>33617925</td></tr>",
                            "<tr><td>3299</td><td>4-Sep-19</td><td>1</td><td>42</td><td>5</td><td>15310625</td></tr>",
                            "<tr><td>3300</td><td>4-Sep-19</td><td>2</td><td>17</td><td>7</td><td>11023350</td></tr>",
                            "<tr><td>3301</td><td>4-Sep-19</td><td>5</td><td>41</td><td>9</td><td>5600813</td></tr>",
                            "<tr><td>3302</td><td>4-Sep-19</td><td>5</td><td>46</td><td>8</td><td>27239063</td></tr>",
                            "<tr><td>3303</td><td>4-Sep-19</td><td>2</td><td>10</td><td>1</td><td>11452863</td></tr>",
                            "<tr><td>3304</td><td>4-Sep-19</td><td>6</td><td>11</td><td>3</td><td>15880000</td></tr>",
                            "<tr><td>3305</td><td>4-Oct-19</td><td>5</td><td>9</td><td>6</td><td>12831350</td></tr>",
                            "<tr><td>3306</td><td>4-Nov-19</td><td>2</td><td>33</td><td>5</td><td>22000000</td></tr>",
                            "<tr><td>3307</td><td>4-Nov-19</td><td>1</td><td>34</td><td>4</td><td>19163463</td></tr>",
                            "<tr><td>3308</td><td>13-Apr-19</td><td>2</td><td>27</td><td>6</td><td>14750450</td></tr>",
                            "<tr><td>3309</td><td>13-Apr-19</td><td>6</td><td>39</td><td>9</td><td>9507750</td></tr>",
                            "<tr><td>3310</td><td>13-Apr-19</td><td>1</td><td>15</td><td>5</td><td>10317875</td></tr>",
                            "<tr><td>3311</td><td>14-Apr-19</td><td>4</td><td>2</td><td>9</td><td>10385375</td></tr>",
                            "<tr><td>3312</td><td>14-Apr-19</td><td>5</td><td>27</td><td>4</td><td>26619700</td></tr>",
                            "<tr><td>3313</td><td>15-Apr-19</td><td>1</td><td>21</td><td>6</td><td>16222250</td></tr>",
                            "<tr><td>3314</td><td>15-Apr-19</td><td>4</td><td>45</td><td>7</td><td>22606400</td></tr>",
                            "<tr><td>3315</td><td>15-Apr-19</td><td>5</td><td>23</td><td>2</td><td>17336150</td></tr>",
                            "<tr><td>3316</td><td>16-Apr-19</td><td>3</td><td>10</td><td>2</td><td>13298775</td></tr>",
                            "<tr><td>3317</td><td>17-Apr-19</td><td>4</td><td>9</td><td>7</td><td>22551100</td></tr>",
                            "<tr><td>3318</td><td>18-Apr-19</td><td>3</td><td>47</td><td>5</td><td>4928125</td></tr>",
                            "<tr><td>3319</td><td>18-Apr-19</td><td>5</td><td>8</td><td>5</td><td>6750225</td></tr>",
                            "<tr><td>3320</td><td>19-Apr-19</td><td>3</td><td>27</td><td>10</td><td>3664650</td></tr>",
                            "<tr><td>3321</td><td>20-Apr-19</td><td>1</td><td>14</td><td>8</td><td>7587675</td></tr>",
                            "<tr><td>3323</td><td>20-Apr-19</td><td>6</td><td>19</td><td>8</td><td>33577950</td></tr>",
                            "<tr><td>3324</td><td>21-Apr-19</td><td>3</td><td>2</td><td>3</td><td>10092900</td></tr>",
                            "<tr><td>3325</td><td>21-Apr-19</td><td>3</td><td>9</td><td>7</td><td>5792800</td></tr>",
                            "<tr><td>3326</td><td>22-Apr-19</td><td>5</td><td>34</td><td>2</td><td>25977700</td></tr>",
                            "<tr><td>3327</td><td>22-Apr-19</td><td>4</td><td>29</td><td>8</td><td>12487563</td></tr>",
                            "<tr><td>3328</td><td>23-Apr-19</td><td>4</td><td>37</td><td>10</td><td>4439188</td></tr>",
                            "<tr><td>3329</td><td>23-Apr-19</td><td>6</td><td>3</td><td>10</td><td>31468800</td></tr>",
                            "<tr><td>3330</td><td>24-Apr-19</td><td>1</td><td>10</td><td>8</td><td>7657100</td></tr>",
                            "<tr><td>3331</td><td>24-Apr-19</td><td>2</td><td>36</td><td>5</td><td>10572375</td></tr>",
                            "<tr><td>3332</td><td>26-Apr-19</td><td>3</td><td>31</td><td>2</td><td>12891500</td></tr>",
                            "<tr><td>3333</td><td>26-Apr-19</td><td>5</td><td>4</td><td>4</td><td>18133050</td></tr>",
                            "<tr><td>3334</td><td>26-Apr-19</td><td>6</td><td>19</td><td>1</td><td>5676000</td></tr>",
                            "<tr><td>3335</td><td>27-Apr-19</td><td>4</td><td>31</td><td>1</td><td>9258600</td></tr>",
                            "<tr><td>3336</td><td>27-Apr-19</td><td>6</td><td>44</td><td>4</td><td>4967600</td></tr>",
                            "<tr><td>3337</td><td>27-Apr-19</td><td>1</td><td>4</td><td>8</td><td>26758900</td></tr>",
                            "</table>"
                        ]
                    }
                }
            ],
            "execution_count": 3
        },
        {
            "cell_type": "markdown",
            "source": [
                "## Parte 2. Uso de IF y CASE. Responder usando otra base de datos que se creará a continuación:"
            ],
            "metadata": {
                "language": "sql",
                "azdata_cell_guid": "7fcc3630-8bc0-4383-be50-70a2a1239de7"
            },
            "attachments": {}
        },
        {
            "cell_type": "markdown",
            "source": [
                "-  <span style=\"color: var(--cib-color-syntax-gray); font-family: Menlo, Monaco, Consolas, &quot;Droid Sans Mono&quot;, &quot;Courier New&quot;, monospace, &quot;Droid Sans Fallback&quot;; font-size: var(--cib-type-body1-font-size); font-weight: var(--cib-type-body1-font-weight); white-space-collapse: preserve;\">Crear la base de datos 'market' si no existe:</span>"
            ],
            "metadata": {
                "language": "sql",
                "azdata_cell_guid": "9368c130-8b6d-4705-8d7a-7680025d47d6"
            },
            "attachments": {}
        },
        {
            "cell_type": "code",
            "source": [
                "CREATE DATABASE IF NOT EXISTS market;\r\n",
                "USE market;"
            ],
            "metadata": {
                "language": "sql",
                "azdata_cell_guid": "45580aeb-3fe8-401c-9328-9621da5e71f6",
                "tags": []
            },
            "outputs": [
                {
                    "output_type": "display_data",
                    "data": {
                        "text/html": "Commands completed successfully"
                    },
                    "metadata": {}
                },
                {
                    "output_type": "display_data",
                    "data": {
                        "text/html": "Commands completed successfully"
                    },
                    "metadata": {}
                },
                {
                    "output_type": "display_data",
                    "data": {
                        "text/html": "Total execution time: 00:00:00.019"
                    },
                    "metadata": {}
                }
            ],
            "execution_count": 4
        },
        {
            "cell_type": "markdown",
            "source": [
                "- Crear la tabla 'Ventas'"
            ],
            "metadata": {
                "language": "sql",
                "azdata_cell_guid": "0cf1937c-a5cc-4c6b-b9ef-cdb8252eeea0"
            },
            "attachments": {}
        },
        {
            "cell_type": "code",
            "source": [
                "CREATE TABLE Ventas (\r\n",
                "    ID INT AUTO_INCREMENT PRIMARY KEY,\r\n",
                "    Producto VARCHAR(100),\r\n",
                "    Cantidad INT,\r\n",
                "    Precio DECIMAL(10,2),\r\n",
                "    Descuento DECIMAL(5,2)\r\n",
                ");"
            ],
            "metadata": {
                "language": "sql",
                "azdata_cell_guid": "dcdfd2ab-9822-41b5-90d0-6e374e3f055b"
            },
            "outputs": [
                {
                    "output_type": "display_data",
                    "data": {
                        "text/html": "Commands completed successfully"
                    },
                    "metadata": {}
                },
                {
                    "output_type": "display_data",
                    "data": {
                        "text/html": "Total execution time: 00:00:00.039"
                    },
                    "metadata": {}
                }
            ],
            "execution_count": 5
        },
        {
            "cell_type": "markdown",
            "source": [
                "- Insertar 10 registros en 'Ventas'"
            ],
            "metadata": {
                "language": "sql",
                "azdata_cell_guid": "4f96d700-ff32-49b5-9da1-3ec376cfc611"
            },
            "attachments": {}
        },
        {
            "cell_type": "code",
            "source": [
                "INSERT INTO Ventas (Producto, Cantidad, Precio, Descuento) VALUES\r\n",
                "('Laptop', 1, 1200.00, 0),\r\n",
                "('Smartphone', 2, 300.00, 15.00),\r\n",
                "('Teclado', 5, 50.00, 5.00),\r\n",
                "('Monitor', 2, 200.00, 10.00),\r\n",
                "('Mouse', 10, 20.00, 2.00),\r\n",
                "('Cámara Web', 3, 70.00, 5.00),\r\n",
                "('Altavoces', 4, 35.00, 3.50),\r\n",
                "('Impresora', 1, 85.00, 0),\r\n",
                "('Router', 2, 60.00, 0),\r\n",
                "('Tablet', 5, 250.00, 12.50);"
            ],
            "metadata": {
                "language": "sql",
                "azdata_cell_guid": "9a9722ea-eb80-4751-91d9-de0c8c186ce8"
            },
            "outputs": [
                {
                    "output_type": "display_data",
                    "data": {
                        "text/html": "Commands completed successfully"
                    },
                    "metadata": {}
                },
                {
                    "output_type": "display_data",
                    "data": {
                        "text/html": "Total execution time: 00:00:00.015"
                    },
                    "metadata": {}
                }
            ],
            "execution_count": 6
        },
        {
            "cell_type": "markdown",
            "source": [
                "### _Una vez creada la base de datos y la tabla responder las siguientes preguntas usando IF y/o CASE_"
            ],
            "metadata": {
                "language": "sql",
                "azdata_cell_guid": "0c960f01-2b69-4e63-8692-b673f89ae3f9"
            },
            "attachments": {}
        },
        {
            "cell_type": "markdown",
            "source": [
                "**4.**  <span style=\"color: var(--cib-color-syntax-gray); font-family: Menlo, Monaco, Consolas, &quot;Droid Sans Mono&quot;, &quot;Courier New&quot;, monospace, &quot;Droid Sans Fallback&quot;; font-size: var(--cib-type-body1-font-size); white-space-collapse: preserve;\"><b>Aplicar descuento si la cantidad es mayor a 3</b></span>"
            ],
            "metadata": {
                "language": "sql",
                "azdata_cell_guid": "79da35c0-46e3-4a33-a24f-62d4883fbe3f"
            },
            "attachments": {}
        },
        {
            "cell_type": "code",
            "source": [
                "USE market;\r\n",
                "SELECT \r\n",
                "    ID, \r\n",
                "    Producto, \r\n",
                "    Cantidad, \r\n",
                "    Precio, \r\n",
                "    Descuento,\r\n",
                "    CASE \r\n",
                "        WHEN Cantidad > 3 THEN (Precio - Descuento) * Cantidad\r\n",
                "        ELSE Precio * Cantidad\r\n",
                "    END AS PrecioFinal\r\n",
                "FROM \r\n",
                "    ventas;"
            ],
            "metadata": {
                "language": "sql",
                "azdata_cell_guid": "24b4f8c8-9c50-45f6-b754-df5d54cf4bb9"
            },
            "outputs": [
                {
                    "output_type": "display_data",
                    "data": {
                        "text/html": "Commands completed successfully"
                    },
                    "metadata": {}
                },
                {
                    "output_type": "display_data",
                    "data": {
                        "text/html": "(10 row(s) affected)"
                    },
                    "metadata": {}
                },
                {
                    "output_type": "display_data",
                    "data": {
                        "text/html": "Total execution time: 00:00:01.008"
                    },
                    "metadata": {}
                },
                {
                    "output_type": "execute_result",
                    "metadata": {},
                    "execution_count": 9,
                    "data": {
                        "application/vnd.dataresource+json": {
                            "schema": {
                                "fields": [
                                    {
                                        "name": "ID"
                                    },
                                    {
                                        "name": "Producto"
                                    },
                                    {
                                        "name": "Cantidad"
                                    },
                                    {
                                        "name": "Precio"
                                    },
                                    {
                                        "name": "Descuento"
                                    },
                                    {
                                        "name": "PrecioFinal"
                                    }
                                ]
                            },
                            "data": [
                                {
                                    "ID": "1",
                                    "Producto": "Laptop",
                                    "Cantidad": "1",
                                    "Precio": "1200.00",
                                    "Descuento": "0.00",
                                    "PrecioFinal": "1200.00"
                                },
                                {
                                    "ID": "2",
                                    "Producto": "Smartphone",
                                    "Cantidad": "2",
                                    "Precio": "300.00",
                                    "Descuento": "15.00",
                                    "PrecioFinal": "600.00"
                                },
                                {
                                    "ID": "3",
                                    "Producto": "Teclado",
                                    "Cantidad": "5",
                                    "Precio": "50.00",
                                    "Descuento": "5.00",
                                    "PrecioFinal": "225.00"
                                },
                                {
                                    "ID": "4",
                                    "Producto": "Monitor",
                                    "Cantidad": "2",
                                    "Precio": "200.00",
                                    "Descuento": "10.00",
                                    "PrecioFinal": "400.00"
                                },
                                {
                                    "ID": "5",
                                    "Producto": "Mouse",
                                    "Cantidad": "10",
                                    "Precio": "20.00",
                                    "Descuento": "2.00",
                                    "PrecioFinal": "180.00"
                                },
                                {
                                    "ID": "6",
                                    "Producto": "Cámara Web",
                                    "Cantidad": "3",
                                    "Precio": "70.00",
                                    "Descuento": "5.00",
                                    "PrecioFinal": "210.00"
                                },
                                {
                                    "ID": "7",
                                    "Producto": "Altavoces",
                                    "Cantidad": "4",
                                    "Precio": "35.00",
                                    "Descuento": "3.50",
                                    "PrecioFinal": "126.00"
                                },
                                {
                                    "ID": "8",
                                    "Producto": "Impresora",
                                    "Cantidad": "1",
                                    "Precio": "85.00",
                                    "Descuento": "0.00",
                                    "PrecioFinal": "85.00"
                                },
                                {
                                    "ID": "9",
                                    "Producto": "Router",
                                    "Cantidad": "2",
                                    "Precio": "60.00",
                                    "Descuento": "0.00",
                                    "PrecioFinal": "120.00"
                                },
                                {
                                    "ID": "10",
                                    "Producto": "Tablet",
                                    "Cantidad": "5",
                                    "Precio": "250.00",
                                    "Descuento": "12.50",
                                    "PrecioFinal": "1187.50"
                                }
                            ]
                        },
                        "text/html": [
                            "<table>",
                            "<tr><th>ID</th><th>Producto</th><th>Cantidad</th><th>Precio</th><th>Descuento</th><th>PrecioFinal</th></tr>",
                            "<tr><td>1</td><td>Laptop</td><td>1</td><td>1200.00</td><td>0.00</td><td>1200.00</td></tr>",
                            "<tr><td>2</td><td>Smartphone</td><td>2</td><td>300.00</td><td>15.00</td><td>600.00</td></tr>",
                            "<tr><td>3</td><td>Teclado</td><td>5</td><td>50.00</td><td>5.00</td><td>225.00</td></tr>",
                            "<tr><td>4</td><td>Monitor</td><td>2</td><td>200.00</td><td>10.00</td><td>400.00</td></tr>",
                            "<tr><td>5</td><td>Mouse</td><td>10</td><td>20.00</td><td>2.00</td><td>180.00</td></tr>",
                            "<tr><td>6</td><td>Cámara Web</td><td>3</td><td>70.00</td><td>5.00</td><td>210.00</td></tr>",
                            "<tr><td>7</td><td>Altavoces</td><td>4</td><td>35.00</td><td>3.50</td><td>126.00</td></tr>",
                            "<tr><td>8</td><td>Impresora</td><td>1</td><td>85.00</td><td>0.00</td><td>85.00</td></tr>",
                            "<tr><td>9</td><td>Router</td><td>2</td><td>60.00</td><td>0.00</td><td>120.00</td></tr>",
                            "<tr><td>10</td><td>Tablet</td><td>5</td><td>250.00</td><td>12.50</td><td>1187.50</td></tr>",
                            "</table>"
                        ]
                    }
                }
            ],
            "execution_count": 9
        },
        {
            "cell_type": "markdown",
            "source": [
                "**5.** <span style=\"color: var(--cib-color-syntax-gray); font-family: Menlo, Monaco, Consolas, &quot;Droid Sans Mono&quot;, &quot;Courier New&quot;, monospace, &quot;Droid Sans Fallback&quot;; font-size: var(--cib-type-body1-font-size); white-space-collapse: preserve;\"><b>Clasificar productos como 'Caro' o 'Barato' basado en el precio. Establezca usted mismo el criterio de 'Caro' y 'Barato'</b></span>"
            ],
            "metadata": {
                "language": "sql",
                "azdata_cell_guid": "e7ad562d-09a6-4417-9b17-a2bd5a6f06cc"
            },
            "attachments": {}
        },
        {
            "cell_type": "code",
            "source": [
                "SELECT \r\n",
                "    ID, \r\n",
                "    Producto, \r\n",
                "    Precio,\r\n",
                "    CASE \r\n",
                "        WHEN Precio >= 200 THEN 'Caro'\r\n",
                "        ELSE 'Barato'\r\n",
                "    END AS Clasificacion\r\n",
                "FROM \r\n",
                "    ventas;"
            ],
            "metadata": {
                "language": "sql",
                "azdata_cell_guid": "5f0bd861-67c4-4688-8451-1cf5ce09b673"
            },
            "outputs": [
                {
                    "output_type": "display_data",
                    "data": {
                        "text/html": "(10 row(s) affected)"
                    },
                    "metadata": {}
                },
                {
                    "output_type": "display_data",
                    "data": {
                        "text/html": "Total execution time: 00:00:01.019"
                    },
                    "metadata": {}
                },
                {
                    "output_type": "execute_result",
                    "metadata": {},
                    "execution_count": 10,
                    "data": {
                        "application/vnd.dataresource+json": {
                            "schema": {
                                "fields": [
                                    {
                                        "name": "ID"
                                    },
                                    {
                                        "name": "Producto"
                                    },
                                    {
                                        "name": "Precio"
                                    },
                                    {
                                        "name": "Clasificacion"
                                    }
                                ]
                            },
                            "data": [
                                {
                                    "ID": "1",
                                    "Producto": "Laptop",
                                    "Precio": "1200.00",
                                    "Clasificacion": "Caro"
                                },
                                {
                                    "ID": "2",
                                    "Producto": "Smartphone",
                                    "Precio": "300.00",
                                    "Clasificacion": "Caro"
                                },
                                {
                                    "ID": "3",
                                    "Producto": "Teclado",
                                    "Precio": "50.00",
                                    "Clasificacion": "Barato"
                                },
                                {
                                    "ID": "4",
                                    "Producto": "Monitor",
                                    "Precio": "200.00",
                                    "Clasificacion": "Caro"
                                },
                                {
                                    "ID": "5",
                                    "Producto": "Mouse",
                                    "Precio": "20.00",
                                    "Clasificacion": "Barato"
                                },
                                {
                                    "ID": "6",
                                    "Producto": "Cámara Web",
                                    "Precio": "70.00",
                                    "Clasificacion": "Barato"
                                },
                                {
                                    "ID": "7",
                                    "Producto": "Altavoces",
                                    "Precio": "35.00",
                                    "Clasificacion": "Barato"
                                },
                                {
                                    "ID": "8",
                                    "Producto": "Impresora",
                                    "Precio": "85.00",
                                    "Clasificacion": "Barato"
                                },
                                {
                                    "ID": "9",
                                    "Producto": "Router",
                                    "Precio": "60.00",
                                    "Clasificacion": "Barato"
                                },
                                {
                                    "ID": "10",
                                    "Producto": "Tablet",
                                    "Precio": "250.00",
                                    "Clasificacion": "Caro"
                                }
                            ]
                        },
                        "text/html": [
                            "<table>",
                            "<tr><th>ID</th><th>Producto</th><th>Precio</th><th>Clasificacion</th></tr>",
                            "<tr><td>1</td><td>Laptop</td><td>1200.00</td><td>Caro</td></tr>",
                            "<tr><td>2</td><td>Smartphone</td><td>300.00</td><td>Caro</td></tr>",
                            "<tr><td>3</td><td>Teclado</td><td>50.00</td><td>Barato</td></tr>",
                            "<tr><td>4</td><td>Monitor</td><td>200.00</td><td>Caro</td></tr>",
                            "<tr><td>5</td><td>Mouse</td><td>20.00</td><td>Barato</td></tr>",
                            "<tr><td>6</td><td>Cámara Web</td><td>70.00</td><td>Barato</td></tr>",
                            "<tr><td>7</td><td>Altavoces</td><td>35.00</td><td>Barato</td></tr>",
                            "<tr><td>8</td><td>Impresora</td><td>85.00</td><td>Barato</td></tr>",
                            "<tr><td>9</td><td>Router</td><td>60.00</td><td>Barato</td></tr>",
                            "<tr><td>10</td><td>Tablet</td><td>250.00</td><td>Caro</td></tr>",
                            "</table>"
                        ]
                    }
                }
            ],
            "execution_count": 10
        },
        {
            "cell_type": "markdown",
            "source": [
                "**6.** <span style=\"color: var(--cib-color-syntax-gray); font-family: Menlo, Monaco, Consolas, &quot;Droid Sans Mono&quot;, &quot;Courier New&quot;, monospace, &quot;Droid Sans Fallback&quot;; font-size: var(--cib-type-body1-font-size); white-space-collapse: preserve;\"><b>Calcular el total de ventas con y sin descuento</b></span>"
            ],
            "metadata": {
                "language": "sql",
                "azdata_cell_guid": "8f064a70-41a5-449e-8a46-052a2627d897"
            },
            "attachments": {}
        },
        {
            "cell_type": "code",
            "source": [
                "SELECT\r\n",
                "    SUM(Precio * Cantidad) AS TotalSinDescuento,\r\n",
                "    SUM((Precio - Descuento) * Cantidad) AS TotalConDescuento\r\n",
                "FROM\r\n",
                "    ventas;"
            ],
            "metadata": {
                "language": "sql",
                "azdata_cell_guid": "e8bd708c-dfad-460e-845a-0d41bba21746"
            },
            "outputs": [
                {
                    "output_type": "display_data",
                    "data": {
                        "text/html": "(1 row(s) affected)"
                    },
                    "metadata": {}
                },
                {
                    "output_type": "display_data",
                    "data": {
                        "text/html": "Total execution time: 00:00:01.040"
                    },
                    "metadata": {}
                },
                {
                    "output_type": "execute_result",
                    "metadata": {},
                    "execution_count": 11,
                    "data": {
                        "application/vnd.dataresource+json": {
                            "schema": {
                                "fields": [
                                    {
                                        "name": "TotalSinDescuento"
                                    },
                                    {
                                        "name": "TotalConDescuento"
                                    }
                                ]
                            },
                            "data": [
                                {
                                    "TotalSinDescuento": "4455.00",
                                    "TotalConDescuento": "4268.50"
                                }
                            ]
                        },
                        "text/html": [
                            "<table>",
                            "<tr><th>TotalSinDescuento</th><th>TotalConDescuento</th></tr>",
                            "<tr><td>4455.00</td><td>4268.50</td></tr>",
                            "</table>"
                        ]
                    }
                }
            ],
            "execution_count": 11
        },
        {
            "cell_type": "markdown",
            "source": [
                "**7.** <span style=\"color: var(--cib-color-syntax-gray); font-family: Menlo, Monaco, Consolas, &quot;Droid Sans Mono&quot;, &quot;Courier New&quot;, monospace, &quot;Droid Sans Fallback&quot;; font-size: var(--cib-type-body1-font-size); white-space-collapse: preserve;\"><b>Aplicar un descuento adicional del 10% a los productos que ya tienen descuento</b></span>"
            ],
            "metadata": {
                "language": "sql",
                "azdata_cell_guid": "7164efcb-8e88-4310-9408-e9bee7fdaf79"
            },
            "attachments": {}
        },
        {
            "cell_type": "code",
            "source": [
                "SELECT \r\n",
                "    ID, \r\n",
                "    Producto, \r\n",
                "    Precio, \r\n",
                "    Descuento,\r\n",
                "    Cantidad,\r\n",
                "    CASE\r\n",
                "        WHEN Descuento > 0 THEN (Precio - Descuento - (Precio * 0.1)) * Cantidad\r\n",
                "        ELSE Precio * Cantidad\r\n",
                "    END AS Precio_con_2descuentos\r\n",
                "FROM \r\n",
                "    ventas;"
            ],
            "metadata": {
                "language": "sql",
                "azdata_cell_guid": "4373f678-0f79-4490-917d-76a7ffc410d8"
            },
            "outputs": [
                {
                    "output_type": "display_data",
                    "data": {
                        "text/html": "(10 row(s) affected)"
                    },
                    "metadata": {}
                },
                {
                    "output_type": "display_data",
                    "data": {
                        "text/html": "Total execution time: 00:00:01.015"
                    },
                    "metadata": {}
                },
                {
                    "output_type": "execute_result",
                    "metadata": {},
                    "execution_count": 12,
                    "data": {
                        "application/vnd.dataresource+json": {
                            "schema": {
                                "fields": [
                                    {
                                        "name": "ID"
                                    },
                                    {
                                        "name": "Producto"
                                    },
                                    {
                                        "name": "Precio"
                                    },
                                    {
                                        "name": "Descuento"
                                    },
                                    {
                                        "name": "Cantidad"
                                    },
                                    {
                                        "name": "Precio_con_2descuentos"
                                    }
                                ]
                            },
                            "data": [
                                {
                                    "ID": "1",
                                    "Producto": "Laptop",
                                    "Precio": "1200.00",
                                    "Descuento": "0.00",
                                    "Cantidad": "1",
                                    "Precio_con_2descuentos": "1200.00"
                                },
                                {
                                    "ID": "2",
                                    "Producto": "Smartphone",
                                    "Precio": "300.00",
                                    "Descuento": "15.00",
                                    "Cantidad": "2",
                                    "Precio_con_2descuentos": "510.000"
                                },
                                {
                                    "ID": "3",
                                    "Producto": "Teclado",
                                    "Precio": "50.00",
                                    "Descuento": "5.00",
                                    "Cantidad": "5",
                                    "Precio_con_2descuentos": "200.000"
                                },
                                {
                                    "ID": "4",
                                    "Producto": "Monitor",
                                    "Precio": "200.00",
                                    "Descuento": "10.00",
                                    "Cantidad": "2",
                                    "Precio_con_2descuentos": "340.000"
                                },
                                {
                                    "ID": "5",
                                    "Producto": "Mouse",
                                    "Precio": "20.00",
                                    "Descuento": "2.00",
                                    "Cantidad": "10",
                                    "Precio_con_2descuentos": "160.000"
                                },
                                {
                                    "ID": "6",
                                    "Producto": "Cámara Web",
                                    "Precio": "70.00",
                                    "Descuento": "5.00",
                                    "Cantidad": "3",
                                    "Precio_con_2descuentos": "174.000"
                                },
                                {
                                    "ID": "7",
                                    "Producto": "Altavoces",
                                    "Precio": "35.00",
                                    "Descuento": "3.50",
                                    "Cantidad": "4",
                                    "Precio_con_2descuentos": "112.000"
                                },
                                {
                                    "ID": "8",
                                    "Producto": "Impresora",
                                    "Precio": "85.00",
                                    "Descuento": "0.00",
                                    "Cantidad": "1",
                                    "Precio_con_2descuentos": "85.00"
                                },
                                {
                                    "ID": "9",
                                    "Producto": "Router",
                                    "Precio": "60.00",
                                    "Descuento": "0.00",
                                    "Cantidad": "2",
                                    "Precio_con_2descuentos": "120.00"
                                },
                                {
                                    "ID": "10",
                                    "Producto": "Tablet",
                                    "Precio": "250.00",
                                    "Descuento": "12.50",
                                    "Cantidad": "5",
                                    "Precio_con_2descuentos": "1062.500"
                                }
                            ]
                        },
                        "text/html": [
                            "<table>",
                            "<tr><th>ID</th><th>Producto</th><th>Precio</th><th>Descuento</th><th>Cantidad</th><th>Precio_con_2descuentos</th></tr>",
                            "<tr><td>1</td><td>Laptop</td><td>1200.00</td><td>0.00</td><td>1</td><td>1200.00</td></tr>",
                            "<tr><td>2</td><td>Smartphone</td><td>300.00</td><td>15.00</td><td>2</td><td>510.000</td></tr>",
                            "<tr><td>3</td><td>Teclado</td><td>50.00</td><td>5.00</td><td>5</td><td>200.000</td></tr>",
                            "<tr><td>4</td><td>Monitor</td><td>200.00</td><td>10.00</td><td>2</td><td>340.000</td></tr>",
                            "<tr><td>5</td><td>Mouse</td><td>20.00</td><td>2.00</td><td>10</td><td>160.000</td></tr>",
                            "<tr><td>6</td><td>Cámara Web</td><td>70.00</td><td>5.00</td><td>3</td><td>174.000</td></tr>",
                            "<tr><td>7</td><td>Altavoces</td><td>35.00</td><td>3.50</td><td>4</td><td>112.000</td></tr>",
                            "<tr><td>8</td><td>Impresora</td><td>85.00</td><td>0.00</td><td>1</td><td>85.00</td></tr>",
                            "<tr><td>9</td><td>Router</td><td>60.00</td><td>0.00</td><td>2</td><td>120.00</td></tr>",
                            "<tr><td>10</td><td>Tablet</td><td>250.00</td><td>12.50</td><td>5</td><td>1062.500</td></tr>",
                            "</table>"
                        ]
                    }
                }
            ],
            "execution_count": 12
        },
        {
            "cell_type": "markdown",
            "source": [
                "**8.** <span style=\"color: var(--cib-color-syntax-gray); font-family: Menlo, Monaco, Consolas, &quot;Droid Sans Mono&quot;, &quot;Courier New&quot;, monospace, &quot;Droid Sans Fallback&quot;; font-size: var(--cib-type-body1-font-size); white-space-collapse: preserve;\"><b>Aumentar el precio de los productos en un 20% si se venden menos de 3 unidades</b></span>"
            ],
            "metadata": {
                "language": "sql",
                "azdata_cell_guid": "5bfac967-7f23-46f1-b9cb-771848bf797f"
            },
            "attachments": {}
        },
        {
            "cell_type": "code",
            "source": [
                " \r\n",
                "SELECT \r\n",
                "    ID, \r\n",
                "    Producto, \r\n",
                "    Cantidad,\r\n",
                "    Precio,\r\n",
                "    Descuento,\r\n",
                "    CASE\r\n",
                "        WHEN Cantidad < 3 THEN Precio * 1.20\r\n",
                "        ELSE Precio\r\n",
                "    END AS PrecioAjustado\r\n",
                "FROM \r\n",
                "    ventas;"
            ],
            "metadata": {
                "language": "sql",
                "azdata_cell_guid": "df0d953a-dac0-43c5-9258-ef9f4e8a1f02"
            },
            "outputs": [
                {
                    "output_type": "display_data",
                    "data": {
                        "text/html": "(10 row(s) affected)"
                    },
                    "metadata": {}
                },
                {
                    "output_type": "display_data",
                    "data": {
                        "text/html": "Total execution time: 00:00:01.007"
                    },
                    "metadata": {}
                },
                {
                    "output_type": "execute_result",
                    "metadata": {},
                    "execution_count": 13,
                    "data": {
                        "application/vnd.dataresource+json": {
                            "schema": {
                                "fields": [
                                    {
                                        "name": "ID"
                                    },
                                    {
                                        "name": "Producto"
                                    },
                                    {
                                        "name": "Cantidad"
                                    },
                                    {
                                        "name": "Precio"
                                    },
                                    {
                                        "name": "Descuento"
                                    },
                                    {
                                        "name": "PrecioAjustado"
                                    }
                                ]
                            },
                            "data": [
                                {
                                    "ID": "1",
                                    "Producto": "Laptop",
                                    "Cantidad": "1",
                                    "Precio": "1200.00",
                                    "Descuento": "0.00",
                                    "PrecioAjustado": "1440.0000"
                                },
                                {
                                    "ID": "2",
                                    "Producto": "Smartphone",
                                    "Cantidad": "2",
                                    "Precio": "300.00",
                                    "Descuento": "15.00",
                                    "PrecioAjustado": "360.0000"
                                },
                                {
                                    "ID": "3",
                                    "Producto": "Teclado",
                                    "Cantidad": "5",
                                    "Precio": "50.00",
                                    "Descuento": "5.00",
                                    "PrecioAjustado": "50.00"
                                },
                                {
                                    "ID": "4",
                                    "Producto": "Monitor",
                                    "Cantidad": "2",
                                    "Precio": "200.00",
                                    "Descuento": "10.00",
                                    "PrecioAjustado": "240.0000"
                                },
                                {
                                    "ID": "5",
                                    "Producto": "Mouse",
                                    "Cantidad": "10",
                                    "Precio": "20.00",
                                    "Descuento": "2.00",
                                    "PrecioAjustado": "20.00"
                                },
                                {
                                    "ID": "6",
                                    "Producto": "Cámara Web",
                                    "Cantidad": "3",
                                    "Precio": "70.00",
                                    "Descuento": "5.00",
                                    "PrecioAjustado": "70.00"
                                },
                                {
                                    "ID": "7",
                                    "Producto": "Altavoces",
                                    "Cantidad": "4",
                                    "Precio": "35.00",
                                    "Descuento": "3.50",
                                    "PrecioAjustado": "35.00"
                                },
                                {
                                    "ID": "8",
                                    "Producto": "Impresora",
                                    "Cantidad": "1",
                                    "Precio": "85.00",
                                    "Descuento": "0.00",
                                    "PrecioAjustado": "102.0000"
                                },
                                {
                                    "ID": "9",
                                    "Producto": "Router",
                                    "Cantidad": "2",
                                    "Precio": "60.00",
                                    "Descuento": "0.00",
                                    "PrecioAjustado": "72.0000"
                                },
                                {
                                    "ID": "10",
                                    "Producto": "Tablet",
                                    "Cantidad": "5",
                                    "Precio": "250.00",
                                    "Descuento": "12.50",
                                    "PrecioAjustado": "250.00"
                                }
                            ]
                        },
                        "text/html": [
                            "<table>",
                            "<tr><th>ID</th><th>Producto</th><th>Cantidad</th><th>Precio</th><th>Descuento</th><th>PrecioAjustado</th></tr>",
                            "<tr><td>1</td><td>Laptop</td><td>1</td><td>1200.00</td><td>0.00</td><td>1440.0000</td></tr>",
                            "<tr><td>2</td><td>Smartphone</td><td>2</td><td>300.00</td><td>15.00</td><td>360.0000</td></tr>",
                            "<tr><td>3</td><td>Teclado</td><td>5</td><td>50.00</td><td>5.00</td><td>50.00</td></tr>",
                            "<tr><td>4</td><td>Monitor</td><td>2</td><td>200.00</td><td>10.00</td><td>240.0000</td></tr>",
                            "<tr><td>5</td><td>Mouse</td><td>10</td><td>20.00</td><td>2.00</td><td>20.00</td></tr>",
                            "<tr><td>6</td><td>Cámara Web</td><td>3</td><td>70.00</td><td>5.00</td><td>70.00</td></tr>",
                            "<tr><td>7</td><td>Altavoces</td><td>4</td><td>35.00</td><td>3.50</td><td>35.00</td></tr>",
                            "<tr><td>8</td><td>Impresora</td><td>1</td><td>85.00</td><td>0.00</td><td>102.0000</td></tr>",
                            "<tr><td>9</td><td>Router</td><td>2</td><td>60.00</td><td>0.00</td><td>72.0000</td></tr>",
                            "<tr><td>10</td><td>Tablet</td><td>5</td><td>250.00</td><td>12.50</td><td>250.00</td></tr>",
                            "</table>"
                        ]
                    }
                }
            ],
            "execution_count": 13
        },
        {
            "cell_type": "markdown",
            "source": [
                "**9. <span style=\"color: var(--cib-color-syntax-gray); font-family: Menlo, Monaco, Consolas, &quot;Droid Sans Mono&quot;, &quot;Courier New&quot;, monospace, &quot;Droid Sans Fallback&quot;; font-size: var(--cib-type-body1-font-size); white-space-collapse: preserve;\">Asignar un rango de ventas basado en la cantidad vendida. Establezca usted mismo los criterios, por ejemplo: ALTO, MEDIO o BAJO según en valor que consideres.</span>**"
            ],
            "metadata": {
                "language": "sql",
                "azdata_cell_guid": "36319839-fff7-450e-b1dc-717faebe2db0"
            },
            "attachments": {}
        },
        {
            "cell_type": "code",
            "source": [
                "SELECT \r\n",
                "    ID, \r\n",
                "    Producto, \r\n",
                "    Cantidad,\r\n",
                "    Precio,\r\n",
                "    Descuento,\r\n",
                "    CASE\r\n",
                "        WHEN Cantidad >= 10 THEN 'ALTO'\r\n",
                "        WHEN Cantidad >= 5 THEN 'MEDIO'\r\n",
                "        ELSE 'BAJO'\r\n",
                "    END AS RangoVentas\r\n",
                "FROM \r\n",
                "    ventas;"
            ],
            "metadata": {
                "language": "sql",
                "azdata_cell_guid": "b39682cb-6ae2-4a51-a354-73431fb87ee1"
            },
            "outputs": [
                {
                    "output_type": "display_data",
                    "data": {
                        "text/html": "(10 row(s) affected)"
                    },
                    "metadata": {}
                },
                {
                    "output_type": "display_data",
                    "data": {
                        "text/html": "Total execution time: 00:00:01.006"
                    },
                    "metadata": {}
                },
                {
                    "output_type": "execute_result",
                    "metadata": {},
                    "execution_count": 14,
                    "data": {
                        "application/vnd.dataresource+json": {
                            "schema": {
                                "fields": [
                                    {
                                        "name": "ID"
                                    },
                                    {
                                        "name": "Producto"
                                    },
                                    {
                                        "name": "Cantidad"
                                    },
                                    {
                                        "name": "Precio"
                                    },
                                    {
                                        "name": "Descuento"
                                    },
                                    {
                                        "name": "RangoVentas"
                                    }
                                ]
                            },
                            "data": [
                                {
                                    "ID": "1",
                                    "Producto": "Laptop",
                                    "Cantidad": "1",
                                    "Precio": "1200.00",
                                    "Descuento": "0.00",
                                    "RangoVentas": "BAJO"
                                },
                                {
                                    "ID": "2",
                                    "Producto": "Smartphone",
                                    "Cantidad": "2",
                                    "Precio": "300.00",
                                    "Descuento": "15.00",
                                    "RangoVentas": "BAJO"
                                },
                                {
                                    "ID": "3",
                                    "Producto": "Teclado",
                                    "Cantidad": "5",
                                    "Precio": "50.00",
                                    "Descuento": "5.00",
                                    "RangoVentas": "MEDIO"
                                },
                                {
                                    "ID": "4",
                                    "Producto": "Monitor",
                                    "Cantidad": "2",
                                    "Precio": "200.00",
                                    "Descuento": "10.00",
                                    "RangoVentas": "BAJO"
                                },
                                {
                                    "ID": "5",
                                    "Producto": "Mouse",
                                    "Cantidad": "10",
                                    "Precio": "20.00",
                                    "Descuento": "2.00",
                                    "RangoVentas": "ALTO"
                                },
                                {
                                    "ID": "6",
                                    "Producto": "Cámara Web",
                                    "Cantidad": "3",
                                    "Precio": "70.00",
                                    "Descuento": "5.00",
                                    "RangoVentas": "BAJO"
                                },
                                {
                                    "ID": "7",
                                    "Producto": "Altavoces",
                                    "Cantidad": "4",
                                    "Precio": "35.00",
                                    "Descuento": "3.50",
                                    "RangoVentas": "BAJO"
                                },
                                {
                                    "ID": "8",
                                    "Producto": "Impresora",
                                    "Cantidad": "1",
                                    "Precio": "85.00",
                                    "Descuento": "0.00",
                                    "RangoVentas": "BAJO"
                                },
                                {
                                    "ID": "9",
                                    "Producto": "Router",
                                    "Cantidad": "2",
                                    "Precio": "60.00",
                                    "Descuento": "0.00",
                                    "RangoVentas": "BAJO"
                                },
                                {
                                    "ID": "10",
                                    "Producto": "Tablet",
                                    "Cantidad": "5",
                                    "Precio": "250.00",
                                    "Descuento": "12.50",
                                    "RangoVentas": "MEDIO"
                                }
                            ]
                        },
                        "text/html": [
                            "<table>",
                            "<tr><th>ID</th><th>Producto</th><th>Cantidad</th><th>Precio</th><th>Descuento</th><th>RangoVentas</th></tr>",
                            "<tr><td>1</td><td>Laptop</td><td>1</td><td>1200.00</td><td>0.00</td><td>BAJO</td></tr>",
                            "<tr><td>2</td><td>Smartphone</td><td>2</td><td>300.00</td><td>15.00</td><td>BAJO</td></tr>",
                            "<tr><td>3</td><td>Teclado</td><td>5</td><td>50.00</td><td>5.00</td><td>MEDIO</td></tr>",
                            "<tr><td>4</td><td>Monitor</td><td>2</td><td>200.00</td><td>10.00</td><td>BAJO</td></tr>",
                            "<tr><td>5</td><td>Mouse</td><td>10</td><td>20.00</td><td>2.00</td><td>ALTO</td></tr>",
                            "<tr><td>6</td><td>Cámara Web</td><td>3</td><td>70.00</td><td>5.00</td><td>BAJO</td></tr>",
                            "<tr><td>7</td><td>Altavoces</td><td>4</td><td>35.00</td><td>3.50</td><td>BAJO</td></tr>",
                            "<tr><td>8</td><td>Impresora</td><td>1</td><td>85.00</td><td>0.00</td><td>BAJO</td></tr>",
                            "<tr><td>9</td><td>Router</td><td>2</td><td>60.00</td><td>0.00</td><td>BAJO</td></tr>",
                            "<tr><td>10</td><td>Tablet</td><td>5</td><td>250.00</td><td>12.50</td><td>MEDIO</td></tr>",
                            "</table>"
                        ]
                    }
                }
            ],
            "execution_count": 14
        },
        {
            "cell_type": "markdown",
            "source": [
                "**10.** <span style=\"color: var(--cib-color-syntax-gray); font-family: Menlo, Monaco, Consolas, &quot;Droid Sans Mono&quot;, &quot;Courier New&quot;, monospace, &quot;Droid Sans Fallback&quot;; font-size: var(--cib-type-body1-font-size); white-space-collapse: preserve;\"><b>Determinar la categoría del producto basado en el precio</b></span>"
            ],
            "metadata": {
                "language": "sql",
                "azdata_cell_guid": "521ef5f6-5b1d-423f-b6ca-ab1db1c5a6ca"
            },
            "attachments": {}
        },
        {
            "cell_type": "code",
            "source": [
                "SELECT \r\n",
                "    ID, \r\n",
                "    Producto, \r\n",
                "    Precio,\r\n",
                "    CASE\r\n",
                "        WHEN Precio >= 500 THEN 'Premium'\r\n",
                "        WHEN Precio >= 200 THEN 'Estándar'\r\n",
                "        ELSE 'Económico'\r\n",
                "    END AS Categoria\r\n",
                "FROM \r\n",
                "    ventas;\r\n",
                ""
            ],
            "metadata": {
                "language": "sql",
                "azdata_cell_guid": "e6183f4d-d35d-437f-8027-0fad1e857e38"
            },
            "outputs": [
                {
                    "output_type": "display_data",
                    "data": {
                        "text/html": "(10 row(s) affected)"
                    },
                    "metadata": {}
                },
                {
                    "output_type": "display_data",
                    "data": {
                        "text/html": "Total execution time: 00:00:01.009"
                    },
                    "metadata": {}
                },
                {
                    "output_type": "execute_result",
                    "metadata": {},
                    "execution_count": 15,
                    "data": {
                        "application/vnd.dataresource+json": {
                            "schema": {
                                "fields": [
                                    {
                                        "name": "ID"
                                    },
                                    {
                                        "name": "Producto"
                                    },
                                    {
                                        "name": "Precio"
                                    },
                                    {
                                        "name": "Categoria"
                                    }
                                ]
                            },
                            "data": [
                                {
                                    "ID": "1",
                                    "Producto": "Laptop",
                                    "Precio": "1200.00",
                                    "Categoria": "Premium"
                                },
                                {
                                    "ID": "2",
                                    "Producto": "Smartphone",
                                    "Precio": "300.00",
                                    "Categoria": "Estándar"
                                },
                                {
                                    "ID": "3",
                                    "Producto": "Teclado",
                                    "Precio": "50.00",
                                    "Categoria": "Económico"
                                },
                                {
                                    "ID": "4",
                                    "Producto": "Monitor",
                                    "Precio": "200.00",
                                    "Categoria": "Estándar"
                                },
                                {
                                    "ID": "5",
                                    "Producto": "Mouse",
                                    "Precio": "20.00",
                                    "Categoria": "Económico"
                                },
                                {
                                    "ID": "6",
                                    "Producto": "Cámara Web",
                                    "Precio": "70.00",
                                    "Categoria": "Económico"
                                },
                                {
                                    "ID": "7",
                                    "Producto": "Altavoces",
                                    "Precio": "35.00",
                                    "Categoria": "Económico"
                                },
                                {
                                    "ID": "8",
                                    "Producto": "Impresora",
                                    "Precio": "85.00",
                                    "Categoria": "Económico"
                                },
                                {
                                    "ID": "9",
                                    "Producto": "Router",
                                    "Precio": "60.00",
                                    "Categoria": "Económico"
                                },
                                {
                                    "ID": "10",
                                    "Producto": "Tablet",
                                    "Precio": "250.00",
                                    "Categoria": "Estándar"
                                }
                            ]
                        },
                        "text/html": [
                            "<table>",
                            "<tr><th>ID</th><th>Producto</th><th>Precio</th><th>Categoria</th></tr>",
                            "<tr><td>1</td><td>Laptop</td><td>1200.00</td><td>Premium</td></tr>",
                            "<tr><td>2</td><td>Smartphone</td><td>300.00</td><td>Estándar</td></tr>",
                            "<tr><td>3</td><td>Teclado</td><td>50.00</td><td>Económico</td></tr>",
                            "<tr><td>4</td><td>Monitor</td><td>200.00</td><td>Estándar</td></tr>",
                            "<tr><td>5</td><td>Mouse</td><td>20.00</td><td>Económico</td></tr>",
                            "<tr><td>6</td><td>Cámara Web</td><td>70.00</td><td>Económico</td></tr>",
                            "<tr><td>7</td><td>Altavoces</td><td>35.00</td><td>Económico</td></tr>",
                            "<tr><td>8</td><td>Impresora</td><td>85.00</td><td>Económico</td></tr>",
                            "<tr><td>9</td><td>Router</td><td>60.00</td><td>Económico</td></tr>",
                            "<tr><td>10</td><td>Tablet</td><td>250.00</td><td>Estándar</td></tr>",
                            "</table>"
                        ]
                    }
                }
            ],
            "execution_count": 15
        },
        {
            "cell_type": "markdown",
            "source": [
                "**11.**  <span style=\"color: var(--cib-color-syntax-gray); font-family: Menlo, Monaco, Consolas, &quot;Droid Sans Mono&quot;, &quot;Courier New&quot;, monospace, &quot;Droid Sans Fallback&quot;; font-size: var(--cib-type-body1-font-size); white-space-collapse: preserve;\"><b>Aplicar un impuesto adicional para productos caros</b></span>"
            ],
            "metadata": {
                "language": "sql",
                "azdata_cell_guid": "d40e15dc-862c-4116-8e01-19b00438c775"
            },
            "attachments": {}
        },
        {
            "cell_type": "code",
            "source": [
                "SELECT \r\n",
                "    ID, \r\n",
                "    Producto, \r\n",
                "    Precio,\r\n",
                "    CASE\r\n",
                "        WHEN Precio >= 200 THEN Precio * 0.15\r\n",
                "        ELSE 0\r\n",
                "    END AS ImpuestoAdicional,\r\n",
                "    Precio + CASE\r\n",
                "        WHEN Precio >= 200 THEN Precio * 0.15\r\n",
                "        ELSE 0\r\n",
                "    END AS PrecioConImpuesto\r\n",
                "FROM \r\n",
                "    ventas;"
            ],
            "metadata": {
                "language": "sql",
                "azdata_cell_guid": "b88e4243-79dc-4c96-9ff7-5a0c5c3e80e4"
            },
            "outputs": [
                {
                    "output_type": "display_data",
                    "data": {
                        "text/html": "(10 row(s) affected)"
                    },
                    "metadata": {}
                },
                {
                    "output_type": "display_data",
                    "data": {
                        "text/html": "Total execution time: 00:00:01.012"
                    },
                    "metadata": {}
                },
                {
                    "output_type": "execute_result",
                    "metadata": {},
                    "execution_count": 16,
                    "data": {
                        "application/vnd.dataresource+json": {
                            "schema": {
                                "fields": [
                                    {
                                        "name": "ID"
                                    },
                                    {
                                        "name": "Producto"
                                    },
                                    {
                                        "name": "Precio"
                                    },
                                    {
                                        "name": "ImpuestoAdicional"
                                    },
                                    {
                                        "name": "PrecioConImpuesto"
                                    }
                                ]
                            },
                            "data": [
                                {
                                    "ID": "1",
                                    "Producto": "Laptop",
                                    "Precio": "1200.00",
                                    "ImpuestoAdicional": "180.0000",
                                    "PrecioConImpuesto": "1380.0000"
                                },
                                {
                                    "ID": "2",
                                    "Producto": "Smartphone",
                                    "Precio": "300.00",
                                    "ImpuestoAdicional": "45.0000",
                                    "PrecioConImpuesto": "345.0000"
                                },
                                {
                                    "ID": "3",
                                    "Producto": "Teclado",
                                    "Precio": "50.00",
                                    "ImpuestoAdicional": "0",
                                    "PrecioConImpuesto": "50.0000"
                                },
                                {
                                    "ID": "4",
                                    "Producto": "Monitor",
                                    "Precio": "200.00",
                                    "ImpuestoAdicional": "30.0000",
                                    "PrecioConImpuesto": "230.0000"
                                },
                                {
                                    "ID": "5",
                                    "Producto": "Mouse",
                                    "Precio": "20.00",
                                    "ImpuestoAdicional": "0",
                                    "PrecioConImpuesto": "20.0000"
                                },
                                {
                                    "ID": "6",
                                    "Producto": "Cámara Web",
                                    "Precio": "70.00",
                                    "ImpuestoAdicional": "0",
                                    "PrecioConImpuesto": "70.0000"
                                },
                                {
                                    "ID": "7",
                                    "Producto": "Altavoces",
                                    "Precio": "35.00",
                                    "ImpuestoAdicional": "0",
                                    "PrecioConImpuesto": "35.0000"
                                },
                                {
                                    "ID": "8",
                                    "Producto": "Impresora",
                                    "Precio": "85.00",
                                    "ImpuestoAdicional": "0",
                                    "PrecioConImpuesto": "85.0000"
                                },
                                {
                                    "ID": "9",
                                    "Producto": "Router",
                                    "Precio": "60.00",
                                    "ImpuestoAdicional": "0",
                                    "PrecioConImpuesto": "60.0000"
                                },
                                {
                                    "ID": "10",
                                    "Producto": "Tablet",
                                    "Precio": "250.00",
                                    "ImpuestoAdicional": "37.5000",
                                    "PrecioConImpuesto": "287.5000"
                                }
                            ]
                        },
                        "text/html": [
                            "<table>",
                            "<tr><th>ID</th><th>Producto</th><th>Precio</th><th>ImpuestoAdicional</th><th>PrecioConImpuesto</th></tr>",
                            "<tr><td>1</td><td>Laptop</td><td>1200.00</td><td>180.0000</td><td>1380.0000</td></tr>",
                            "<tr><td>2</td><td>Smartphone</td><td>300.00</td><td>45.0000</td><td>345.0000</td></tr>",
                            "<tr><td>3</td><td>Teclado</td><td>50.00</td><td>0</td><td>50.0000</td></tr>",
                            "<tr><td>4</td><td>Monitor</td><td>200.00</td><td>30.0000</td><td>230.0000</td></tr>",
                            "<tr><td>5</td><td>Mouse</td><td>20.00</td><td>0</td><td>20.0000</td></tr>",
                            "<tr><td>6</td><td>Cámara Web</td><td>70.00</td><td>0</td><td>70.0000</td></tr>",
                            "<tr><td>7</td><td>Altavoces</td><td>35.00</td><td>0</td><td>35.0000</td></tr>",
                            "<tr><td>8</td><td>Impresora</td><td>85.00</td><td>0</td><td>85.0000</td></tr>",
                            "<tr><td>9</td><td>Router</td><td>60.00</td><td>0</td><td>60.0000</td></tr>",
                            "<tr><td>10</td><td>Tablet</td><td>250.00</td><td>37.5000</td><td>287.5000</td></tr>",
                            "</table>"
                        ]
                    }
                }
            ],
            "execution_count": 16
        },
        {
            "cell_type": "markdown",
            "source": [
                "**12.** <span style=\"color: var(--cib-color-syntax-gray); font-family: Menlo, Monaco, Consolas, &quot;Droid Sans Mono&quot;, &quot;Courier New&quot;, monospace, &quot;Droid Sans Fallback&quot;; font-size: var(--cib-type-body1-font-size); white-space-collapse: preserve;\"><b>Asignar un nivel de stock basado en la cantidad. Establece tu mismo los criterios, por ejemplo: Sobrestock, stock adecuado, bajo stock.</b></span>"
            ],
            "metadata": {
                "language": "sql",
                "azdata_cell_guid": "fc74d4b7-9e5d-44bf-bb47-81eecf095707"
            },
            "attachments": {}
        },
        {
            "cell_type": "code",
            "source": [
                "SELECT \r\n",
                "    ID, \r\n",
                "    Producto, \r\n",
                "    Cantidad,\r\n",
                "    CASE\r\n",
                "        WHEN Cantidad >= 10 THEN 'Sobrestock'\r\n",
                "        WHEN Cantidad >= 5 THEN 'Stock adecuado'\r\n",
                "        ELSE 'Bajo stock'\r\n",
                "    END AS NivelDeStock\r\n",
                "FROM \r\n",
                "    ventas;"
            ],
            "metadata": {
                "language": "sql",
                "azdata_cell_guid": "d15ff687-2124-4e8d-969a-fa9455a68cd7"
            },
            "outputs": [
                {
                    "output_type": "display_data",
                    "data": {
                        "text/html": "(10 row(s) affected)"
                    },
                    "metadata": {}
                },
                {
                    "output_type": "display_data",
                    "data": {
                        "text/html": "Total execution time: 00:00:01.016"
                    },
                    "metadata": {}
                },
                {
                    "output_type": "execute_result",
                    "metadata": {},
                    "execution_count": 17,
                    "data": {
                        "application/vnd.dataresource+json": {
                            "schema": {
                                "fields": [
                                    {
                                        "name": "ID"
                                    },
                                    {
                                        "name": "Producto"
                                    },
                                    {
                                        "name": "Cantidad"
                                    },
                                    {
                                        "name": "NivelDeStock"
                                    }
                                ]
                            },
                            "data": [
                                {
                                    "ID": "1",
                                    "Producto": "Laptop",
                                    "Cantidad": "1",
                                    "NivelDeStock": "Bajo stock"
                                },
                                {
                                    "ID": "2",
                                    "Producto": "Smartphone",
                                    "Cantidad": "2",
                                    "NivelDeStock": "Bajo stock"
                                },
                                {
                                    "ID": "3",
                                    "Producto": "Teclado",
                                    "Cantidad": "5",
                                    "NivelDeStock": "Stock adecuado"
                                },
                                {
                                    "ID": "4",
                                    "Producto": "Monitor",
                                    "Cantidad": "2",
                                    "NivelDeStock": "Bajo stock"
                                },
                                {
                                    "ID": "5",
                                    "Producto": "Mouse",
                                    "Cantidad": "10",
                                    "NivelDeStock": "Sobrestock"
                                },
                                {
                                    "ID": "6",
                                    "Producto": "Cámara Web",
                                    "Cantidad": "3",
                                    "NivelDeStock": "Bajo stock"
                                },
                                {
                                    "ID": "7",
                                    "Producto": "Altavoces",
                                    "Cantidad": "4",
                                    "NivelDeStock": "Bajo stock"
                                },
                                {
                                    "ID": "8",
                                    "Producto": "Impresora",
                                    "Cantidad": "1",
                                    "NivelDeStock": "Bajo stock"
                                },
                                {
                                    "ID": "9",
                                    "Producto": "Router",
                                    "Cantidad": "2",
                                    "NivelDeStock": "Bajo stock"
                                },
                                {
                                    "ID": "10",
                                    "Producto": "Tablet",
                                    "Cantidad": "5",
                                    "NivelDeStock": "Stock adecuado"
                                }
                            ]
                        },
                        "text/html": [
                            "<table>",
                            "<tr><th>ID</th><th>Producto</th><th>Cantidad</th><th>NivelDeStock</th></tr>",
                            "<tr><td>1</td><td>Laptop</td><td>1</td><td>Bajo stock</td></tr>",
                            "<tr><td>2</td><td>Smartphone</td><td>2</td><td>Bajo stock</td></tr>",
                            "<tr><td>3</td><td>Teclado</td><td>5</td><td>Stock adecuado</td></tr>",
                            "<tr><td>4</td><td>Monitor</td><td>2</td><td>Bajo stock</td></tr>",
                            "<tr><td>5</td><td>Mouse</td><td>10</td><td>Sobrestock</td></tr>",
                            "<tr><td>6</td><td>Cámara Web</td><td>3</td><td>Bajo stock</td></tr>",
                            "<tr><td>7</td><td>Altavoces</td><td>4</td><td>Bajo stock</td></tr>",
                            "<tr><td>8</td><td>Impresora</td><td>1</td><td>Bajo stock</td></tr>",
                            "<tr><td>9</td><td>Router</td><td>2</td><td>Bajo stock</td></tr>",
                            "<tr><td>10</td><td>Tablet</td><td>5</td><td>Stock adecuado</td></tr>",
                            "</table>"
                        ]
                    }
                }
            ],
            "execution_count": 17
        }
    ]
}