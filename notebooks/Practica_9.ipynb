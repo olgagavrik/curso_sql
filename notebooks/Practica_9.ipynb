{
    "metadata": {
        "kernelspec": {
            "name": "SQL",
            "display_name": "SQL",
            "language": "sql"
        },
        "language_info": {
            "name": "sql",
            "version": ""
        }
    },
    "nbformat_minor": 2,
    "nbformat": 4,
    "cells": [
        {
            "cell_type": "markdown",
            "source": [
                "# Práctica 9 -  Agregaciones"
            ],
            "metadata": {
                "azdata_cell_guid": "b2133633-b3b0-44d2-9730-c7f4cb4c9414"
            },
            "attachments": {}
        },
        {
            "cell_type": "markdown",
            "source": [
                "## Se tiene que entregar un informe por cliente donde entregues la siguiente información:"
            ],
            "metadata": {
                "azdata_cell_guid": "72ef3449-99b2-4e95-9d78-251053853a29"
            },
            "attachments": {}
        },
        {
            "cell_type": "markdown",
            "source": [
                "### **1. ¿Cuál cliente realizó la compra máxima en el año 2018?**"
            ],
            "metadata": {
                "azdata_cell_guid": "0a08074e-e0a9-47b7-ac1a-c41f335ac83e"
            },
            "attachments": {}
        },
        {
            "cell_type": "code",
            "source": [
                "USE base;\r\n",
                "\r\n",
                "SELECT \r\n",
                "    ID_Cliente, \r\n",
                "    MAX(Venta) AS Compra_maxima\r\n",
                "FROM \r\n",
                "    ventas \r\n",
                "WHERE \r\n",
                "    `Fecha venta` LIKE '%-18'\r\n",
                "GROUP BY \r\n",
                "    ID_Cliente\r\n",
                "ORDER BY \r\n",
                "    Compra_maxima DESC\r\n",
                "LIMIT 1;"
            ],
            "metadata": {
                "azdata_cell_guid": "a6a0b6ff-2e98-4178-bc92-7eda97af6268",
                "language": "sql"
            },
            "outputs": [
                {
                    "output_type": "display_data",
                    "data": {
                        "text/html": "Commands completed successfully"
                    },
                    "metadata": {}
                },
                {
                    "output_type": "display_data",
                    "data": {
                        "text/html": "(1 row(s) affected)"
                    },
                    "metadata": {}
                },
                {
                    "output_type": "display_data",
                    "data": {
                        "text/html": "Total execution time: 00:00:01.022"
                    },
                    "metadata": {}
                },
                {
                    "output_type": "execute_result",
                    "metadata": {},
                    "execution_count": 1,
                    "data": {
                        "application/vnd.dataresource+json": {
                            "schema": {
                                "fields": [
                                    {
                                        "name": "ID_Cliente"
                                    },
                                    {
                                        "name": "Compra_maxima"
                                    }
                                ]
                            },
                            "data": [
                                {
                                    "ID_Cliente": "8",
                                    "Compra_maxima": "2977318"
                                }
                            ]
                        },
                        "text/html": [
                            "<table>",
                            "<tr><th>ID_Cliente</th><th>Compra_maxima</th></tr>",
                            "<tr><td>8</td><td>2977318</td></tr>",
                            "</table>"
                        ]
                    }
                }
            ],
            "execution_count": 1
        },
        {
            "cell_type": "markdown",
            "source": [
                "### **2. ¿Cuál fue el pago menor que recibimos en el año 2018?**"
            ],
            "metadata": {
                "azdata_cell_guid": "6444333b-a105-4f0c-b316-30d1caf60a8e"
            },
            "attachments": {}
        },
        {
            "cell_type": "code",
            "source": [
                "USE base;\r\n",
                "\r\n",
                "SELECT MIN(pago) AS Pago_menor\r\n",
                "FROM pagos\r\n",
                "WHERE `fecha_pago` LIKE '%2018';"
            ],
            "metadata": {
                "azdata_cell_guid": "758fedac-227a-4881-8538-74e996f9286c",
                "language": "sql"
            },
            "outputs": [
                {
                    "output_type": "display_data",
                    "data": {
                        "text/html": "Commands completed successfully"
                    },
                    "metadata": {}
                },
                {
                    "output_type": "display_data",
                    "data": {
                        "text/html": "(1 row(s) affected)"
                    },
                    "metadata": {}
                },
                {
                    "output_type": "display_data",
                    "data": {
                        "text/html": "Total execution time: 00:00:01.027"
                    },
                    "metadata": {}
                },
                {
                    "output_type": "execute_result",
                    "metadata": {},
                    "execution_count": 3,
                    "data": {
                        "application/vnd.dataresource+json": {
                            "schema": {
                                "fields": [
                                    {
                                        "name": "Pago_menor"
                                    }
                                ]
                            },
                            "data": [
                                {
                                    "Pago_menor": "7441"
                                }
                            ]
                        },
                        "text/html": [
                            "<table>",
                            "<tr><th>Pago_menor</th></tr>",
                            "<tr><td>7441</td></tr>",
                            "</table>"
                        ]
                    }
                }
            ],
            "execution_count": 3
        },
        {
            "cell_type": "markdown",
            "source": [
                "### **3. ¿Cuántas ventas se lograron en el 2do semestre del año 2018?**"
            ],
            "metadata": {
                "azdata_cell_guid": "0a95ce09-6c3b-4601-9aea-47b801c69e3b"
            },
            "attachments": {}
        },
        {
            "cell_type": "code",
            "source": [
                "SELECT COUNT(*) AS Ventas_Segundo_Semestre\r\n",
                "FROM ventas\r\n",
                "WHERE STR_TO_DATE(`Fecha venta`, '%d-%b-%y') BETWEEN '2018-07-01' AND '2018-12-31';"
            ],
            "metadata": {
                "azdata_cell_guid": "564bf35c-e92a-431f-a164-c4064b355220",
                "language": "sql"
            },
            "outputs": [
                {
                    "output_type": "display_data",
                    "data": {
                        "text/html": "(1 row(s) affected)"
                    },
                    "metadata": {}
                },
                {
                    "output_type": "display_data",
                    "data": {
                        "text/html": "Total execution time: 00:00:01.017"
                    },
                    "metadata": {}
                },
                {
                    "output_type": "execute_result",
                    "metadata": {},
                    "execution_count": 4,
                    "data": {
                        "application/vnd.dataresource+json": {
                            "schema": {
                                "fields": [
                                    {
                                        "name": "Ventas_Segundo_Semestre"
                                    }
                                ]
                            },
                            "data": [
                                {
                                    "Ventas_Segundo_Semestre": "468"
                                }
                            ]
                        },
                        "text/html": [
                            "<table>",
                            "<tr><th>Ventas_Segundo_Semestre</th></tr>",
                            "<tr><td>468</td></tr>",
                            "</table>"
                        ]
                    }
                }
            ],
            "execution_count": 4
        },
        {
            "cell_type": "markdown",
            "source": [
                "# **Resumir on GROUP BY**"
            ],
            "metadata": {
                "azdata_cell_guid": "645a78f9-efb4-4de9-860d-382258cc4d1d"
            },
            "attachments": {}
        },
        {
            "cell_type": "markdown",
            "source": [
                "## <span style=\"color: var(--vscode-foreground);\">Genera una vista para entregar el informe que contenga:</span>"
            ],
            "metadata": {
                "azdata_cell_guid": "558226f2-4c27-437d-8afc-39754f4ce31f"
            },
            "attachments": {}
        },
        {
            "cell_type": "markdown",
            "source": [
                "### **4. Las ventas por vendendor**"
            ],
            "metadata": {
                "azdata_cell_guid": "793b42a7-7afe-4791-a958-a48f6a41886c"
            },
            "attachments": {}
        },
        {
            "cell_type": "code",
            "source": [
                "CREATE VIEW VentasPorVendedor AS\r\n",
                "SELECT \r\n",
                "    v.ID_Vendedor,\r\n",
                "    CONCAT(v.Nombre, ' ', v.Apellido) AS Nombre_Vendedor,\r\n",
                "    COUNT(ve.ID_Venta) AS Numero_Ventas\r\n",
                "FROM \r\n",
                "    vendedor v\r\n",
                "LEFT JOIN \r\n",
                "    ventas ve ON v.ID_Vendedor = ve.ID_Vendedor\r\n",
                "GROUP BY \r\n",
                "    v.ID_Vendedor;"
            ],
            "metadata": {
                "azdata_cell_guid": "f1c45a33-8039-4b8d-89c9-c5bc4af715cd",
                "language": "sql"
            },
            "outputs": [
                {
                    "output_type": "display_data",
                    "data": {
                        "text/html": "Total execution time: 00:00:00"
                    },
                    "metadata": {}
                }
            ],
            "execution_count": 4
        },
        {
            "cell_type": "markdown",
            "source": [
                "VISTA VENTAS POR VENDEDOR\n",
                "\n",
                "![](data:image/png;base64,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)"
            ],
            "metadata": {
                "azdata_cell_guid": "ccfb7b72-7979-461c-aebf-ef01264e9815"
            },
            "attachments": {}
        },
        {
            "cell_type": "markdown",
            "source": [
                "### **5. Ventas por producto**"
            ],
            "metadata": {
                "azdata_cell_guid": "814eed9f-2886-48bf-84d3-f856e3cbd8ce"
            },
            "attachments": {}
        },
        {
            "cell_type": "code",
            "source": [
                "CREATE VIEW VentasPorProducto AS\r\n",
                "SELECT \r\n",
                "    p.ID_Producto,\r\n",
                "    p.Producto,\r\n",
                "    COUNT(v.ID_Venta) AS Numero_Ventas\r\n",
                "FROM \r\n",
                "    producto p\r\n",
                "LEFT JOIN \r\n",
                "    ventas v ON p.ID_Producto = v.ID_producto\r\n",
                "GROUP BY \r\n",
                "    p.ID_Producto, p.Producto;"
            ],
            "metadata": {
                "azdata_cell_guid": "db5adfb9-03b9-40c7-9971-08c782da6e0d",
                "language": "sql"
            },
            "outputs": [
                {
                    "output_type": "display_data",
                    "data": {
                        "text/html": "Total execution time: 00:00:00.003"
                    },
                    "metadata": {}
                },
                {
                    "output_type": "error",
                    "evalue": "1050 (42S01): Table 'VentasPorProducto' already exists",
                    "ename": "",
                    "traceback": []
                }
            ],
            "execution_count": 5
        },
        {
            "cell_type": "markdown",
            "source": [
                "VISTA VENTAS POR PRODUCTO\n",
                "\n",
                "![](data:image/png;base64,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)"
            ],
            "metadata": {
                "azdata_cell_guid": "e589a350-f86c-4d5c-aae2-c2c761044bd2"
            },
            "attachments": {}
        },
        {
            "cell_type": "markdown",
            "source": [
                "### **6. Resumen de compras por cliente en 2017**"
            ],
            "metadata": {
                "azdata_cell_guid": "dd50b4e9-4ec1-42ff-999e-05dfd6a3f522"
            },
            "attachments": {}
        },
        {
            "cell_type": "code",
            "source": [
                "CREATE VIEW ResumenComprasPorCliente2017 AS\r\n",
                "SELECT \r\n",
                "    c.ID_Cliente,\r\n",
                "    c.Nombre,\r\n",
                "    COUNT(v.ID_Venta) AS Numero_Compras\r\n",
                "FROM \r\n",
                "    clientes c\r\n",
                "LEFT JOIN \r\n",
                "    ventas v ON c.ID_Cliente = v.ID_Cliente\r\n",
                "WHERE \r\n",
                "    STR_TO_DATE(`v`.`Fecha venta`, '%d-%b-%y') BETWEEN '2017-01-01' AND '2017-12-31'\r\n",
                "GROUP BY \r\n",
                "    c.ID_Cliente, c.Nombre;\r\n",
                ""
            ],
            "metadata": {
                "azdata_cell_guid": "6ef12e21-0e15-4e57-84c9-db49c0726e74",
                "language": "sql"
            },
            "outputs": [
                {
                    "output_type": "display_data",
                    "data": {
                        "text/html": "Total execution time: 00:00:00.001"
                    },
                    "metadata": {}
                },
                {
                    "output_type": "error",
                    "evalue": "1050 (42S01): Table 'ResumenComprasPorCliente2017' already exists",
                    "ename": "",
                    "traceback": []
                }
            ],
            "execution_count": 6
        },
        {
            "cell_type": "markdown",
            "source": [
                "VISTA RESUMEN DE COMPRAS POR CLIENTE EN 2017\n",
                "\n",
                "  \n",
                "\n",
                "![](data:image/png;base64,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)"
            ],
            "metadata": {
                "azdata_cell_guid": "34e4c325-0142-47ee-8d03-cfcfd0144b94"
            },
            "attachments": {}
        },
        {
            "cell_type": "markdown",
            "source": [
                "# **Having**"
            ],
            "metadata": {
                "azdata_cell_guid": "87c9164e-c69e-45c4-a1f0-2367249b9ce3"
            },
            "attachments": {}
        },
        {
            "cell_type": "markdown",
            "source": [
                "## **Tomando en cuenta el ejercicio anterior:**"
            ],
            "metadata": {
                "azdata_cell_guid": "72aac73e-6c28-49f2-80da-b914a74aec6f"
            },
            "attachments": {}
        },
        {
            "cell_type": "markdown",
            "source": [
                "### **7. Resumen de compras por cliente en 2017 que hayan sido mayores a 150000**"
            ],
            "metadata": {
                "azdata_cell_guid": "6109c9c2-b981-4629-bfb0-3f6e15b1c12f"
            },
            "attachments": {}
        },
        {
            "cell_type": "code",
            "source": [
                "CREATE VIEW ResumenComprasPorCliente2017Mayores150000 AS\r\n",
                "SELECT \r\n",
                "    c.ID_Cliente,\r\n",
                "    c.Nombre, \r\n",
                "    COUNT(v.ID_Venta) AS Numero_Compras,\r\n",
                "    SUM(v.Venta) AS Total_Compras\r\n",
                "FROM \r\n",
                "    clientes c\r\n",
                "LEFT JOIN \r\n",
                "    ventas v ON c.ID_Cliente = v.ID_Cliente\r\n",
                "WHERE \r\n",
                "    STR_TO_DATE(`v`.`Fecha venta`, '%d-%b-%y') BETWEEN '2017-01-01' AND '2017-12-31'\r\n",
                "GROUP BY \r\n",
                "    c.ID_Cliente, c.Nombre\r\n",
                "HAVING \r\n",
                "    SUM(v.Venta) > 150000;"
            ],
            "metadata": {
                "azdata_cell_guid": "b96ce058-4ed5-4ed8-97b7-9138a68987ed",
                "language": "sql"
            },
            "outputs": [
                {
                    "output_type": "display_data",
                    "data": {
                        "text/html": "Total execution time: 00:00:00.001"
                    },
                    "metadata": {}
                },
                {
                    "output_type": "error",
                    "evalue": "1050 (42S01): Table 'ResumenComprasPorCliente2017Mayores150000' already exists",
                    "ename": "",
                    "traceback": []
                }
            ],
            "execution_count": 7
        },
        {
            "cell_type": "markdown",
            "source": [
                "VISTA \n",
                "\n",
                "![](data:image/png;base64,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)"
            ],
            "metadata": {
                "azdata_cell_guid": "62a02347-f39e-4fa9-accc-03f57616469c"
            },
            "attachments": {}
        },
        {
            "cell_type": "markdown",
            "source": [
                "# **Extra**"
            ],
            "metadata": {
                "language": "sql",
                "azdata_cell_guid": "a6ce9855-33af-4337-8a39-0c20128a6e96"
            },
            "attachments": {}
        },
        {
            "cell_type": "markdown",
            "source": [
                "### **8. Proporcione la lista de los clientes morosos**"
            ],
            "metadata": {
                "language": "sql",
                "azdata_cell_guid": "c20f5934-fd10-4388-9562-0af32d4ae437"
            },
            "attachments": {}
        },
        {
            "cell_type": "code",
            "source": [
                "SELECT \r\n",
                "    c.Nombre AS Nombre_Cliente,\r\n",
                "    v.ID_Venta,\r\n",
                "    v.`Fecha venta` AS Fecha_Venta,\r\n",
                "    p.fecha_pago,\r\n",
                "    DATEDIFF(STR_TO_DATE(p.fecha_pago, '%d/%m/%Y'), STR_TO_DATE(v.`Fecha venta`, '%d-%b-%y')) AS Dias_Retraso\r\n",
                "FROM \r\n",
                "    clientes c\r\n",
                "JOIN \r\n",
                "    ventas v ON c.ID_Cliente = v.ID_Cliente\r\n",
                "JOIN \r\n",
                "    pagos p ON v.ID_Venta = p.id_venta\r\n",
                "WHERE \r\n",
                "    DATEDIFF(STR_TO_DATE(p.fecha_pago, '%d/%m/%Y'), STR_TO_DATE(v.`Fecha venta`, '%d-%b-%y')) > 180\r\n",
                "ORDER BY \r\n",
                "    c.Nombre, v.`Fecha venta`;"
            ],
            "metadata": {
                "language": "sql",
                "azdata_cell_guid": "60fcc87b-8b1b-433c-9de9-0303c1c7c4cc"
            },
            "outputs": [
                {
                    "output_type": "display_data",
                    "data": {
                        "text/html": "(169 row(s) affected)"
                    },
                    "metadata": {}
                },
                {
                    "output_type": "display_data",
                    "data": {
                        "text/html": "Total execution time: 00:00:01.042"
                    },
                    "metadata": {}
                },
                {
                    "output_type": "execute_result",
                    "metadata": {},
                    "execution_count": 8,
                    "data": {
                        "application/vnd.dataresource+json": {
                            "schema": {
                                "fields": [
                                    {
                                        "name": "Nombre_Cliente"
                                    },
                                    {
                                        "name": "ID_Venta"
                                    },
                                    {
                                        "name": "Fecha_Venta"
                                    },
                                    {
                                        "name": "fecha_pago"
                                    },
                                    {
                                        "name": "Dias_Retraso"
                                    }
                                ]
                            },
                            "data": [
                                {
                                    "Nombre_Cliente": "Agora e Tudo MM",
                                    "ID_Venta": "1794",
                                    "Fecha_Venta": "10-Feb-17",
                                    "fecha_pago": "28/10/2017",
                                    "Dias_Retraso": "260"
                                },
                                {
                                    "Nombre_Cliente": "Agora e Tudo MM",
                                    "ID_Venta": "1795",
                                    "Fecha_Venta": "10-Feb-17",
                                    "fecha_pago": "15/10/2017",
                                    "Dias_Retraso": "247"
                                },
                                {
                                    "Nombre_Cliente": "Agora e Tudo MM",
                                    "ID_Venta": "2782",
                                    "Fecha_Venta": "10-Feb-18",
                                    "fecha_pago": "08/10/2018",
                                    "Dias_Retraso": "240"
                                },
                                {
                                    "Nombre_Cliente": "Agora e Tudo MM",
                                    "ID_Venta": "770",
                                    "Fecha_Venta": "10-Jan-16",
                                    "fecha_pago": "31/10/2016",
                                    "Dias_Retraso": "295"
                                },
                                {
                                    "Nombre_Cliente": "Agora e Tudo MM",
                                    "ID_Venta": "1789",
                                    "Fecha_Venta": "10-Jan-17",
                                    "fecha_pago": "27/10/2017",
                                    "Dias_Retraso": "290"
                                },
                                {
                                    "Nombre_Cliente": "Agora e Tudo MM",
                                    "ID_Venta": "786",
                                    "Fecha_Venta": "10-Mar-16",
                                    "fecha_pago": "24/10/2016",
                                    "Dias_Retraso": "228"
                                },
                                {
                                    "Nombre_Cliente": "Agora e Tudo MM",
                                    "ID_Venta": "1797",
                                    "Fecha_Venta": "10-Mar-17",
                                    "fecha_pago": "29/10/2017",
                                    "Dias_Retraso": "233"
                                },
                                {
                                    "Nombre_Cliente": "Agora e Tudo MM",
                                    "ID_Venta": "2869",
                                    "Fecha_Venta": "11-Feb-18",
                                    "fecha_pago": "28/11/2018",
                                    "Dias_Retraso": "290"
                                },
                                {
                                    "Nombre_Cliente": "Agora e Tudo MM",
                                    "ID_Venta": "862",
                                    "Fecha_Venta": "11-Jan-16",
                                    "fecha_pago": "02/11/2016",
                                    "Dias_Retraso": "296"
                                },
                                {
                                    "Nombre_Cliente": "Agora e Tudo MM",
                                    "ID_Venta": "949",
                                    "Fecha_Venta": "12-Feb-16",
                                    "fecha_pago": "13/12/2016",
                                    "Dias_Retraso": "305"
                                },
                                {
                                    "Nombre_Cliente": "Agora e Tudo MM",
                                    "ID_Venta": "948",
                                    "Fecha_Venta": "12-Feb-16",
                                    "fecha_pago": "28/12/2016",
                                    "Dias_Retraso": "320"
                                },
                                {
                                    "Nombre_Cliente": "Agora e Tudo MM",
                                    "ID_Venta": "1948",
                                    "Fecha_Venta": "12-Jan-17",
                                    "fecha_pago": "03/12/2017",
                                    "Dias_Retraso": "325"
                                },
                                {
                                    "Nombre_Cliente": "Agora e Tudo MM",
                                    "ID_Venta": "956",
                                    "Fecha_Venta": "12-Jun-16",
                                    "fecha_pago": "13/12/2016",
                                    "Dias_Retraso": "184"
                                },
                                {
                                    "Nombre_Cliente": "Agora e Tudo MM",
                                    "ID_Venta": "1961",
                                    "Fecha_Venta": "12-Jun-17",
                                    "fecha_pago": "31/12/2017",
                                    "Dias_Retraso": "202"
                                },
                                {
                                    "Nombre_Cliente": "Bienes de Occidente",
                                    "ID_Venta": "790",
                                    "Fecha_Venta": "10-Apr-16",
                                    "fecha_pago": "11/10/2016",
                                    "Dias_Retraso": "184"
                                },
                                {
                                    "Nombre_Cliente": "Bienes de Occidente",
                                    "ID_Venta": "788",
                                    "Fecha_Venta": "10-Apr-16",
                                    "fecha_pago": "26/10/2016",
                                    "Dias_Retraso": "199"
                                },
                                {
                                    "Nombre_Cliente": "Bienes de Occidente",
                                    "ID_Venta": "1805",
                                    "Fecha_Venta": "10-Apr-17",
                                    "fecha_pago": "30/10/2017",
                                    "Dias_Retraso": "203"
                                },
                                {
                                    "Nombre_Cliente": "Bienes de Occidente",
                                    "ID_Venta": "771",
                                    "Fecha_Venta": "10-Jan-16",
                                    "fecha_pago": "08/10/2016",
                                    "Dias_Retraso": "272"
                                },
                                {
                                    "Nombre_Cliente": "Bienes de Occidente",
                                    "ID_Venta": "783",
                                    "Fecha_Venta": "10-Mar-16",
                                    "fecha_pago": "10/10/2016",
                                    "Dias_Retraso": "214"
                                },
                                {
                                    "Nombre_Cliente": "Bienes de Occidente",
                                    "ID_Venta": "1799",
                                    "Fecha_Venta": "10-Mar-17",
                                    "fecha_pago": "28/10/2017",
                                    "Dias_Retraso": "232"
                                },
                                {
                                    "Nombre_Cliente": "Bienes de Occidente",
                                    "ID_Venta": "2783",
                                    "Fecha_Venta": "10-Mar-18",
                                    "fecha_pago": "10/10/2018",
                                    "Dias_Retraso": "214"
                                },
                                {
                                    "Nombre_Cliente": "Bienes de Occidente",
                                    "ID_Venta": "869",
                                    "Fecha_Venta": "11-Apr-16",
                                    "fecha_pago": "21/11/2016",
                                    "Dias_Retraso": "224"
                                },
                                {
                                    "Nombre_Cliente": "Bienes de Occidente",
                                    "ID_Venta": "2874",
                                    "Fecha_Venta": "11-Apr-18",
                                    "fecha_pago": "23/11/2018",
                                    "Dias_Retraso": "226"
                                },
                                {
                                    "Nombre_Cliente": "Bienes de Occidente",
                                    "ID_Venta": "2875",
                                    "Fecha_Venta": "11-Apr-18",
                                    "fecha_pago": "17/11/2018",
                                    "Dias_Retraso": "220"
                                },
                                {
                                    "Nombre_Cliente": "Bienes de Occidente",
                                    "ID_Venta": "864",
                                    "Fecha_Venta": "11-Mar-16",
                                    "fecha_pago": "21/11/2016",
                                    "Dias_Retraso": "255"
                                },
                                {
                                    "Nombre_Cliente": "Bienes de Occidente",
                                    "ID_Venta": "1879",
                                    "Fecha_Venta": "11-May-17",
                                    "fecha_pago": "25/11/2017",
                                    "Dias_Retraso": "198"
                                },
                                {
                                    "Nombre_Cliente": "Bienes de Occidente",
                                    "ID_Venta": "2952",
                                    "Fecha_Venta": "12-Apr-18",
                                    "fecha_pago": "19/12/2018",
                                    "Dias_Retraso": "251"
                                },
                                {
                                    "Nombre_Cliente": "Bienes de Occidente",
                                    "ID_Venta": "2944",
                                    "Fecha_Venta": "12-Jan-18",
                                    "fecha_pago": "18/12/2018",
                                    "Dias_Retraso": "340"
                                },
                                {
                                    "Nombre_Cliente": "Bienes de Occidente",
                                    "ID_Venta": "2956",
                                    "Fecha_Venta": "12-May-18",
                                    "fecha_pago": "15/12/2018",
                                    "Dias_Retraso": "217"
                                },
                                {
                                    "Nombre_Cliente": "Bienes de Occidente",
                                    "ID_Venta": "1536",
                                    "Fecha_Venta": "7-Jan-17",
                                    "fecha_pago": "18/07/2017",
                                    "Dias_Retraso": "192"
                                },
                                {
                                    "Nombre_Cliente": "Bienes de Occidente",
                                    "ID_Venta": "597",
                                    "Fecha_Venta": "8-Feb-16",
                                    "fecha_pago": "27/08/2016",
                                    "Dias_Retraso": "201"
                                },
                                {
                                    "Nombre_Cliente": "Bienes de Occidente",
                                    "ID_Venta": "594",
                                    "Fecha_Venta": "8-Jan-16",
                                    "fecha_pago": "17/08/2016",
                                    "Dias_Retraso": "222"
                                },
                                {
                                    "Nombre_Cliente": "Bienes de Occidente",
                                    "ID_Venta": "1620",
                                    "Fecha_Venta": "8-Jan-17",
                                    "fecha_pago": "21/08/2017",
                                    "Dias_Retraso": "225"
                                },
                                {
                                    "Nombre_Cliente": "Bienes de Occidente",
                                    "ID_Venta": "697",
                                    "Fecha_Venta": "9-Jan-16",
                                    "fecha_pago": "26/09/2016",
                                    "Dias_Retraso": "261"
                                },
                                {
                                    "Nombre_Cliente": "Bienestar Land",
                                    "ID_Venta": "2787",
                                    "Fecha_Venta": "10-Apr-18",
                                    "fecha_pago": "30/10/2018",
                                    "Dias_Retraso": "203"
                                },
                                {
                                    "Nombre_Cliente": "Bienestar Land",
                                    "ID_Venta": "775",
                                    "Fecha_Venta": "10-Feb-16",
                                    "fecha_pago": "20/10/2016",
                                    "Dias_Retraso": "253"
                                },
                                {
                                    "Nombre_Cliente": "Bienestar Land",
                                    "ID_Venta": "778",
                                    "Fecha_Venta": "10-Mar-16",
                                    "fecha_pago": "13/10/2016",
                                    "Dias_Retraso": "217"
                                },
                                {
                                    "Nombre_Cliente": "Bienestar Land",
                                    "ID_Venta": "2876",
                                    "Fecha_Venta": "11-Apr-18",
                                    "fecha_pago": "28/11/2018",
                                    "Dias_Retraso": "231"
                                },
                                {
                                    "Nombre_Cliente": "Bienestar Land",
                                    "ID_Venta": "863",
                                    "Fecha_Venta": "11-Mar-16",
                                    "fecha_pago": "06/11/2016",
                                    "Dias_Retraso": "240"
                                },
                                {
                                    "Nombre_Cliente": "Bienestar Land",
                                    "ID_Venta": "2879",
                                    "Fecha_Venta": "11-May-18",
                                    "fecha_pago": "30/11/2018",
                                    "Dias_Retraso": "203"
                                },
                                {
                                    "Nombre_Cliente": "Bienestar Land",
                                    "ID_Venta": "1955",
                                    "Fecha_Venta": "12-Apr-17",
                                    "fecha_pago": "19/12/2017",
                                    "Dias_Retraso": "251"
                                },
                                {
                                    "Nombre_Cliente": "Bienestar Land",
                                    "ID_Venta": "2951",
                                    "Fecha_Venta": "12-Apr-18",
                                    "fecha_pago": "18/12/2018",
                                    "Dias_Retraso": "250"
                                },
                                {
                                    "Nombre_Cliente": "Bienestar Land",
                                    "ID_Venta": "957",
                                    "Fecha_Venta": "12-Jun-16",
                                    "fecha_pago": "11/12/2016",
                                    "Dias_Retraso": "182"
                                },
                                {
                                    "Nombre_Cliente": "Bienestar Land",
                                    "ID_Venta": "2958",
                                    "Fecha_Venta": "12-Jun-18",
                                    "fecha_pago": "23/12/2018",
                                    "Dias_Retraso": "194"
                                },
                                {
                                    "Nombre_Cliente": "Bienestar Land",
                                    "ID_Venta": "2706",
                                    "Fecha_Venta": "9-Jan-18",
                                    "fecha_pago": "16/09/2018",
                                    "Dias_Retraso": "250"
                                },
                                {
                                    "Nombre_Cliente": "Bienestar Land",
                                    "ID_Venta": "700",
                                    "Fecha_Venta": "9-Mar-16",
                                    "fecha_pago": "02/10/2016",
                                    "Dias_Retraso": "207"
                                },
                                {
                                    "Nombre_Cliente": "Honduland",
                                    "ID_Venta": "774",
                                    "Fecha_Venta": "10-Feb-16",
                                    "fecha_pago": "23/10/2016",
                                    "Dias_Retraso": "256"
                                },
                                {
                                    "Nombre_Cliente": "Honduland",
                                    "ID_Venta": "2781",
                                    "Fecha_Venta": "10-Feb-18",
                                    "fecha_pago": "31/10/2018",
                                    "Dias_Retraso": "263"
                                },
                                {
                                    "Nombre_Cliente": "Honduland",
                                    "ID_Venta": "1790",
                                    "Fecha_Venta": "10-Jan-17",
                                    "fecha_pago": "14/10/2017",
                                    "Dias_Retraso": "277"
                                },
                                {
                                    "Nombre_Cliente": "Honduland",
                                    "ID_Venta": "1798",
                                    "Fecha_Venta": "10-Mar-17",
                                    "fecha_pago": "26/10/2017",
                                    "Dias_Retraso": "230"
                                },
                                {
                                    "Nombre_Cliente": "Honduland",
                                    "ID_Venta": "867",
                                    "Fecha_Venta": "11-Apr-16",
                                    "fecha_pago": "23/11/2016",
                                    "Dias_Retraso": "226"
                                },
                                {
                                    "Nombre_Cliente": "Honduland",
                                    "ID_Venta": "2873",
                                    "Fecha_Venta": "11-Apr-18",
                                    "fecha_pago": "21/11/2018",
                                    "Dias_Retraso": "224"
                                },
                                {
                                    "Nombre_Cliente": "Honduland",
                                    "ID_Venta": "1871",
                                    "Fecha_Venta": "11-Feb-17",
                                    "fecha_pago": "01/12/2017",
                                    "Dias_Retraso": "293"
                                },
                                {
                                    "Nombre_Cliente": "Honduland",
                                    "ID_Venta": "1868",
                                    "Fecha_Venta": "11-Jan-17",
                                    "fecha_pago": "19/11/2017",
                                    "Dias_Retraso": "312"
                                },
                                {
                                    "Nombre_Cliente": "Honduland",
                                    "ID_Venta": "2866",
                                    "Fecha_Venta": "11-Jan-18",
                                    "fecha_pago": "02/11/2018",
                                    "Dias_Retraso": "295"
                                },
                                {
                                    "Nombre_Cliente": "Honduland",
                                    "ID_Venta": "2878",
                                    "Fecha_Venta": "11-May-18",
                                    "fecha_pago": "20/11/2018",
                                    "Dias_Retraso": "193"
                                },
                                {
                                    "Nombre_Cliente": "Honduland",
                                    "ID_Venta": "2950",
                                    "Fecha_Venta": "12-Apr-18",
                                    "fecha_pago": "17/12/2018",
                                    "Dias_Retraso": "249"
                                },
                                {
                                    "Nombre_Cliente": "Honduland",
                                    "ID_Venta": "950",
                                    "Fecha_Venta": "12-Feb-16",
                                    "fecha_pago": "18/12/2016",
                                    "Dias_Retraso": "310"
                                },
                                {
                                    "Nombre_Cliente": "Honduland",
                                    "ID_Venta": "1950",
                                    "Fecha_Venta": "12-Feb-17",
                                    "fecha_pago": "19/12/2017",
                                    "Dias_Retraso": "310"
                                },
                                {
                                    "Nombre_Cliente": "Honduland",
                                    "ID_Venta": "1951",
                                    "Fecha_Venta": "12-Feb-17",
                                    "fecha_pago": "19/12/2017",
                                    "Dias_Retraso": "310"
                                },
                                {
                                    "Nombre_Cliente": "Honduland",
                                    "ID_Venta": "1954",
                                    "Fecha_Venta": "12-Mar-17",
                                    "fecha_pago": "22/12/2017",
                                    "Dias_Retraso": "285"
                                },
                                {
                                    "Nombre_Cliente": "Honduland",
                                    "ID_Venta": "954",
                                    "Fecha_Venta": "12-May-16",
                                    "fecha_pago": "09/12/2016",
                                    "Dias_Retraso": "211"
                                },
                                {
                                    "Nombre_Cliente": "Honduland",
                                    "ID_Venta": "1957",
                                    "Fecha_Venta": "12-May-17",
                                    "fecha_pago": "20/12/2017",
                                    "Dias_Retraso": "222"
                                },
                                {
                                    "Nombre_Cliente": "Honduland",
                                    "ID_Venta": "499",
                                    "Fecha_Venta": "7-Jan-16",
                                    "fecha_pago": "31/07/2016",
                                    "Dias_Retraso": "206"
                                },
                                {
                                    "Nombre_Cliente": "Honduland",
                                    "ID_Venta": "2554",
                                    "Fecha_Venta": "7-Jan-18",
                                    "fecha_pago": "20/07/2018",
                                    "Dias_Retraso": "194"
                                },
                                {
                                    "Nombre_Cliente": "Honduland",
                                    "ID_Venta": "595",
                                    "Fecha_Venta": "8-Jan-16",
                                    "fecha_pago": "29/08/2016",
                                    "Dias_Retraso": "234"
                                },
                                {
                                    "Nombre_Cliente": "Honduland",
                                    "ID_Venta": "2633",
                                    "Fecha_Venta": "8-Jan-18",
                                    "fecha_pago": "13/08/2018",
                                    "Dias_Retraso": "217"
                                },
                                {
                                    "Nombre_Cliente": "Honduland",
                                    "ID_Venta": "698",
                                    "Fecha_Venta": "9-Feb-16",
                                    "fecha_pago": "20/09/2016",
                                    "Dias_Retraso": "224"
                                },
                                {
                                    "Nombre_Cliente": "JKP Asesores",
                                    "ID_Venta": "1804",
                                    "Fecha_Venta": "10-Apr-17",
                                    "fecha_pago": "26/10/2017",
                                    "Dias_Retraso": "199"
                                },
                                {
                                    "Nombre_Cliente": "JKP Asesores",
                                    "ID_Venta": "2785",
                                    "Fecha_Venta": "10-Apr-18",
                                    "fecha_pago": "10/10/2018",
                                    "Dias_Retraso": "183"
                                },
                                {
                                    "Nombre_Cliente": "JKP Asesores",
                                    "ID_Venta": "1791",
                                    "Fecha_Venta": "10-Jan-17",
                                    "fecha_pago": "03/10/2017",
                                    "Dias_Retraso": "266"
                                },
                                {
                                    "Nombre_Cliente": "JKP Asesores",
                                    "ID_Venta": "2776",
                                    "Fecha_Venta": "10-Jan-18",
                                    "fecha_pago": "09/10/2018",
                                    "Dias_Retraso": "272"
                                },
                                {
                                    "Nombre_Cliente": "JKP Asesores",
                                    "ID_Venta": "787",
                                    "Fecha_Venta": "10-Mar-16",
                                    "fecha_pago": "18/10/2016",
                                    "Dias_Retraso": "222"
                                },
                                {
                                    "Nombre_Cliente": "JKP Asesores",
                                    "ID_Venta": "866",
                                    "Fecha_Venta": "11-Apr-16",
                                    "fecha_pago": "27/11/2016",
                                    "Dias_Retraso": "230"
                                },
                                {
                                    "Nombre_Cliente": "JKP Asesores",
                                    "ID_Venta": "1874",
                                    "Fecha_Venta": "11-Apr-17",
                                    "fecha_pago": "16/11/2017",
                                    "Dias_Retraso": "219"
                                },
                                {
                                    "Nombre_Cliente": "JKP Asesores",
                                    "ID_Venta": "2871",
                                    "Fecha_Venta": "11-Feb-18",
                                    "fecha_pago": "20/11/2018",
                                    "Dias_Retraso": "282"
                                },
                                {
                                    "Nombre_Cliente": "JKP Asesores",
                                    "ID_Venta": "2870",
                                    "Fecha_Venta": "11-Feb-18",
                                    "fecha_pago": "20/11/2018",
                                    "Dias_Retraso": "282"
                                },
                                {
                                    "Nombre_Cliente": "JKP Asesores",
                                    "ID_Venta": "2865",
                                    "Fecha_Venta": "11-Jan-18",
                                    "fecha_pago": "25/11/2018",
                                    "Dias_Retraso": "318"
                                },
                                {
                                    "Nombre_Cliente": "JKP Asesores",
                                    "ID_Venta": "871",
                                    "Fecha_Venta": "11-May-16",
                                    "fecha_pago": "15/11/2016",
                                    "Dias_Retraso": "188"
                                },
                                {
                                    "Nombre_Cliente": "JKP Asesores",
                                    "ID_Venta": "1877",
                                    "Fecha_Venta": "11-May-17",
                                    "fecha_pago": "20/11/2017",
                                    "Dias_Retraso": "193"
                                },
                                {
                                    "Nombre_Cliente": "JKP Asesores",
                                    "ID_Venta": "2877",
                                    "Fecha_Venta": "11-May-18",
                                    "fecha_pago": "27/11/2018",
                                    "Dias_Retraso": "200"
                                },
                                {
                                    "Nombre_Cliente": "JKP Asesores",
                                    "ID_Venta": "952",
                                    "Fecha_Venta": "12-Apr-16",
                                    "fecha_pago": "29/12/2016",
                                    "Dias_Retraso": "261"
                                },
                                {
                                    "Nombre_Cliente": "JKP Asesores",
                                    "ID_Venta": "1949",
                                    "Fecha_Venta": "12-Feb-17",
                                    "fecha_pago": "24/12/2017",
                                    "Dias_Retraso": "315"
                                },
                                {
                                    "Nombre_Cliente": "JKP Asesores",
                                    "ID_Venta": "1952",
                                    "Fecha_Venta": "12-Mar-17",
                                    "fecha_pago": "09/12/2017",
                                    "Dias_Retraso": "272"
                                },
                                {
                                    "Nombre_Cliente": "JKP Asesores",
                                    "ID_Venta": "2556",
                                    "Fecha_Venta": "7-Jan-18",
                                    "fecha_pago": "24/07/2018",
                                    "Dias_Retraso": "198"
                                },
                                {
                                    "Nombre_Cliente": "JKP Asesores",
                                    "ID_Venta": "1618",
                                    "Fecha_Venta": "8-Jan-17",
                                    "fecha_pago": "05/08/2017",
                                    "Dias_Retraso": "209"
                                },
                                {
                                    "Nombre_Cliente": "JKP Asesores",
                                    "ID_Venta": "2704",
                                    "Fecha_Venta": "9-Jan-18",
                                    "fecha_pago": "08/09/2018",
                                    "Dias_Retraso": "242"
                                },
                                {
                                    "Nombre_Cliente": "JKP Asesores",
                                    "ID_Venta": "1704",
                                    "Fecha_Venta": "9-Mar-17",
                                    "fecha_pago": "11/09/2017",
                                    "Dias_Retraso": "186"
                                },
                                {
                                    "Nombre_Cliente": "Mart B & C",
                                    "ID_Venta": "2786",
                                    "Fecha_Venta": "10-Apr-18",
                                    "fecha_pago": "09/10/2018",
                                    "Dias_Retraso": "182"
                                },
                                {
                                    "Nombre_Cliente": "Mart B & C",
                                    "ID_Venta": "773",
                                    "Fecha_Venta": "10-Jan-16",
                                    "fecha_pago": "09/10/2016",
                                    "Dias_Retraso": "273"
                                },
                                {
                                    "Nombre_Cliente": "Mart B & C",
                                    "ID_Venta": "1801",
                                    "Fecha_Venta": "10-Mar-17",
                                    "fecha_pago": "29/10/2017",
                                    "Dias_Retraso": "233"
                                },
                                {
                                    "Nombre_Cliente": "Mart B & C",
                                    "ID_Venta": "868",
                                    "Fecha_Venta": "11-Apr-16",
                                    "fecha_pago": "28/11/2016",
                                    "Dias_Retraso": "231"
                                },
                                {
                                    "Nombre_Cliente": "Mart B & C",
                                    "ID_Venta": "945",
                                    "Fecha_Venta": "12-Jan-16",
                                    "fecha_pago": "05/12/2016",
                                    "Dias_Retraso": "328"
                                },
                                {
                                    "Nombre_Cliente": "Mart B & C",
                                    "ID_Venta": "947",
                                    "Fecha_Venta": "12-Jan-16",
                                    "fecha_pago": "04/12/2016",
                                    "Dias_Retraso": "327"
                                },
                                {
                                    "Nombre_Cliente": "Mart B & C",
                                    "ID_Venta": "1960",
                                    "Fecha_Venta": "12-Jun-17",
                                    "fecha_pago": "23/12/2017",
                                    "Dias_Retraso": "194"
                                },
                                {
                                    "Nombre_Cliente": "Mart B & C",
                                    "ID_Venta": "2957",
                                    "Fecha_Venta": "12-Jun-18",
                                    "fecha_pago": "20/12/2018",
                                    "Dias_Retraso": "191"
                                },
                                {
                                    "Nombre_Cliente": "Mart B & C",
                                    "ID_Venta": "2947",
                                    "Fecha_Venta": "12-Mar-18",
                                    "fecha_pago": "04/12/2018",
                                    "Dias_Retraso": "267"
                                },
                                {
                                    "Nombre_Cliente": "Mart B & C",
                                    "ID_Venta": "1539",
                                    "Fecha_Venta": "7-Jan-17",
                                    "fecha_pago": "11/07/2017",
                                    "Dias_Retraso": "185"
                                },
                                {
                                    "Nombre_Cliente": "Mart B & C",
                                    "ID_Venta": "1624",
                                    "Fecha_Venta": "8-Jan-17",
                                    "fecha_pago": "10/08/2017",
                                    "Dias_Retraso": "214"
                                },
                                {
                                    "Nombre_Cliente": "Mart B & C",
                                    "ID_Venta": "1622",
                                    "Fecha_Venta": "8-Jan-17",
                                    "fecha_pago": "18/08/2017",
                                    "Dias_Retraso": "222"
                                },
                                {
                                    "Nombre_Cliente": "Mart B & C",
                                    "ID_Venta": "1621",
                                    "Fecha_Venta": "8-Jan-17",
                                    "fecha_pago": "02/08/2017",
                                    "Dias_Retraso": "206"
                                },
                                {
                                    "Nombre_Cliente": "Mart B & C",
                                    "ID_Venta": "2632",
                                    "Fecha_Venta": "8-Jan-18",
                                    "fecha_pago": "28/08/2018",
                                    "Dias_Retraso": "232"
                                },
                                {
                                    "Nombre_Cliente": "Mart B & C",
                                    "ID_Venta": "2710",
                                    "Fecha_Venta": "9-Mar-18",
                                    "fecha_pago": "30/09/2018",
                                    "Dias_Retraso": "205"
                                },
                                {
                                    "Nombre_Cliente": "Mart B & C",
                                    "ID_Venta": "2709",
                                    "Fecha_Venta": "9-Mar-18",
                                    "fecha_pago": "01/10/2018",
                                    "Dias_Retraso": "206"
                                },
                                {
                                    "Nombre_Cliente": "Pacifico Norte & CO",
                                    "ID_Venta": "777",
                                    "Fecha_Venta": "10-Feb-16",
                                    "fecha_pago": "30/10/2016",
                                    "Dias_Retraso": "263"
                                },
                                {
                                    "Nombre_Cliente": "Pacifico Norte & CO",
                                    "ID_Venta": "776",
                                    "Fecha_Venta": "10-Feb-16",
                                    "fecha_pago": "09/10/2016",
                                    "Dias_Retraso": "242"
                                },
                                {
                                    "Nombre_Cliente": "Pacifico Norte & CO",
                                    "ID_Venta": "1792",
                                    "Fecha_Venta": "10-Feb-17",
                                    "fecha_pago": "03/10/2017",
                                    "Dias_Retraso": "235"
                                },
                                {
                                    "Nombre_Cliente": "Pacifico Norte & CO",
                                    "ID_Venta": "2780",
                                    "Fecha_Venta": "10-Feb-18",
                                    "fecha_pago": "20/10/2018",
                                    "Dias_Retraso": "252"
                                },
                                {
                                    "Nombre_Cliente": "Pacifico Norte & CO",
                                    "ID_Venta": "2777",
                                    "Fecha_Venta": "10-Jan-18",
                                    "fecha_pago": "02/10/2018",
                                    "Dias_Retraso": "265"
                                },
                                {
                                    "Nombre_Cliente": "Pacifico Norte & CO",
                                    "ID_Venta": "785",
                                    "Fecha_Venta": "10-Mar-16",
                                    "fecha_pago": "24/10/2016",
                                    "Dias_Retraso": "228"
                                },
                                {
                                    "Nombre_Cliente": "Pacifico Norte & CO",
                                    "ID_Venta": "780",
                                    "Fecha_Venta": "10-Mar-16",
                                    "fecha_pago": "11/10/2016",
                                    "Dias_Retraso": "215"
                                },
                                {
                                    "Nombre_Cliente": "Pacifico Norte & CO",
                                    "ID_Venta": "1872",
                                    "Fecha_Venta": "11-Feb-17",
                                    "fecha_pago": "13/11/2017",
                                    "Dias_Retraso": "275"
                                },
                                {
                                    "Nombre_Cliente": "Pacifico Norte & CO",
                                    "ID_Venta": "1873",
                                    "Fecha_Venta": "11-Feb-17",
                                    "fecha_pago": "22/11/2017",
                                    "Dias_Retraso": "284"
                                },
                                {
                                    "Nombre_Cliente": "Pacifico Norte & CO",
                                    "ID_Venta": "2864",
                                    "Fecha_Venta": "11-Jan-18",
                                    "fecha_pago": "30/11/2018",
                                    "Dias_Retraso": "323"
                                },
                                {
                                    "Nombre_Cliente": "Pacifico Norte & CO",
                                    "ID_Venta": "2953",
                                    "Fecha_Venta": "12-Apr-18",
                                    "fecha_pago": "01/01/2019",
                                    "Dias_Retraso": "264"
                                },
                                {
                                    "Nombre_Cliente": "Pacifico Norte & CO",
                                    "ID_Venta": "2949",
                                    "Fecha_Venta": "12-Apr-18",
                                    "fecha_pago": "29/12/2018",
                                    "Dias_Retraso": "261"
                                },
                                {
                                    "Nombre_Cliente": "Pacifico Norte & CO",
                                    "ID_Venta": "2943",
                                    "Fecha_Venta": "12-Jan-18",
                                    "fecha_pago": "05/12/2018",
                                    "Dias_Retraso": "327"
                                },
                                {
                                    "Nombre_Cliente": "Pacifico Norte & CO",
                                    "ID_Venta": "951",
                                    "Fecha_Venta": "12-Mar-16",
                                    "fecha_pago": "30/12/2016",
                                    "Dias_Retraso": "293"
                                },
                                {
                                    "Nombre_Cliente": "Pacifico Norte & CO",
                                    "ID_Venta": "500",
                                    "Fecha_Venta": "7-Jan-16",
                                    "fecha_pago": "15/07/2016",
                                    "Dias_Retraso": "190"
                                },
                                {
                                    "Nombre_Cliente": "Pacifico Norte & CO",
                                    "ID_Venta": "1537",
                                    "Fecha_Venta": "7-Jan-17",
                                    "fecha_pago": "09/07/2017",
                                    "Dias_Retraso": "183"
                                },
                                {
                                    "Nombre_Cliente": "Pacifico Norte & CO",
                                    "ID_Venta": "1626",
                                    "Fecha_Venta": "8-Feb-17",
                                    "fecha_pago": "09/08/2017",
                                    "Dias_Retraso": "182"
                                },
                                {
                                    "Nombre_Cliente": "Pacifico Norte & CO",
                                    "ID_Venta": "1625",
                                    "Fecha_Venta": "8-Feb-17",
                                    "fecha_pago": "22/08/2017",
                                    "Dias_Retraso": "195"
                                },
                                {
                                    "Nombre_Cliente": "Pacifico Norte & CO",
                                    "ID_Venta": "1619",
                                    "Fecha_Venta": "8-Jan-17",
                                    "fecha_pago": "12/08/2017",
                                    "Dias_Retraso": "216"
                                },
                                {
                                    "Nombre_Cliente": "Pacifico Norte & CO",
                                    "ID_Venta": "699",
                                    "Fecha_Venta": "9-Feb-16",
                                    "fecha_pago": "26/09/2016",
                                    "Dias_Retraso": "230"
                                },
                                {
                                    "Nombre_Cliente": "Pacifico Norte & CO",
                                    "ID_Venta": "696",
                                    "Fecha_Venta": "9-Jan-16",
                                    "fecha_pago": "19/09/2016",
                                    "Dias_Retraso": "254"
                                },
                                {
                                    "Nombre_Cliente": "Pacifico Norte & CO",
                                    "ID_Venta": "1702",
                                    "Fecha_Venta": "9-Jan-17",
                                    "fecha_pago": "27/09/2017",
                                    "Dias_Retraso": "261"
                                },
                                {
                                    "Nombre_Cliente": "The LandLord",
                                    "ID_Venta": "789",
                                    "Fecha_Venta": "10-Apr-16",
                                    "fecha_pago": "31/10/2016",
                                    "Dias_Retraso": "204"
                                },
                                {
                                    "Nombre_Cliente": "The LandLord",
                                    "ID_Venta": "1800",
                                    "Fecha_Venta": "10-Mar-17",
                                    "fecha_pago": "12/10/2017",
                                    "Dias_Retraso": "216"
                                },
                                {
                                    "Nombre_Cliente": "The LandLord",
                                    "ID_Venta": "1796",
                                    "Fecha_Venta": "10-Mar-17",
                                    "fecha_pago": "09/10/2017",
                                    "Dias_Retraso": "213"
                                },
                                {
                                    "Nombre_Cliente": "The LandLord",
                                    "ID_Venta": "865",
                                    "Fecha_Venta": "11-Mar-16",
                                    "fecha_pago": "16/11/2016",
                                    "Dias_Retraso": "250"
                                },
                                {
                                    "Nombre_Cliente": "The LandLord",
                                    "ID_Venta": "2872",
                                    "Fecha_Venta": "11-Mar-18",
                                    "fecha_pago": "24/11/2018",
                                    "Dias_Retraso": "258"
                                },
                                {
                                    "Nombre_Cliente": "The LandLord",
                                    "ID_Venta": "1876",
                                    "Fecha_Venta": "11-May-17",
                                    "fecha_pago": "28/11/2017",
                                    "Dias_Retraso": "201"
                                },
                                {
                                    "Nombre_Cliente": "The LandLord",
                                    "ID_Venta": "955",
                                    "Fecha_Venta": "12-Jun-16",
                                    "fecha_pago": "01/01/2017",
                                    "Dias_Retraso": "203"
                                },
                                {
                                    "Nombre_Cliente": "The LandLord",
                                    "ID_Venta": "2954",
                                    "Fecha_Venta": "12-May-18",
                                    "fecha_pago": "03/01/2019",
                                    "Dias_Retraso": "236"
                                },
                                {
                                    "Nombre_Cliente": "The LandLord",
                                    "ID_Venta": "593",
                                    "Fecha_Venta": "8-Jan-16",
                                    "fecha_pago": "02/08/2016",
                                    "Dias_Retraso": "207"
                                },
                                {
                                    "Nombre_Cliente": "The LandLord",
                                    "ID_Venta": "2708",
                                    "Fecha_Venta": "9-Feb-18",
                                    "fecha_pago": "20/09/2018",
                                    "Dias_Retraso": "223"
                                },
                                {
                                    "Nombre_Cliente": "Tierra y Paz",
                                    "ID_Venta": "2778",
                                    "Fecha_Venta": "10-Jan-18",
                                    "fecha_pago": "19/10/2018",
                                    "Dias_Retraso": "282"
                                },
                                {
                                    "Nombre_Cliente": "Tierra y Paz",
                                    "ID_Venta": "779",
                                    "Fecha_Venta": "10-Mar-16",
                                    "fecha_pago": "08/10/2016",
                                    "Dias_Retraso": "212"
                                },
                                {
                                    "Nombre_Cliente": "Tierra y Paz",
                                    "ID_Venta": "784",
                                    "Fecha_Venta": "10-Mar-16",
                                    "fecha_pago": "18/10/2016",
                                    "Dias_Retraso": "222"
                                },
                                {
                                    "Nombre_Cliente": "Tierra y Paz",
                                    "ID_Venta": "1875",
                                    "Fecha_Venta": "11-Apr-17",
                                    "fecha_pago": "02/12/2017",
                                    "Dias_Retraso": "235"
                                },
                                {
                                    "Nombre_Cliente": "Tierra y Paz",
                                    "ID_Venta": "2867",
                                    "Fecha_Venta": "11-Feb-18",
                                    "fecha_pago": "18/11/2018",
                                    "Dias_Retraso": "280"
                                },
                                {
                                    "Nombre_Cliente": "Tierra y Paz",
                                    "ID_Venta": "2868",
                                    "Fecha_Venta": "11-Feb-18",
                                    "fecha_pago": "08/11/2018",
                                    "Dias_Retraso": "270"
                                },
                                {
                                    "Nombre_Cliente": "Tierra y Paz",
                                    "ID_Venta": "1869",
                                    "Fecha_Venta": "11-Jan-17",
                                    "fecha_pago": "20/11/2017",
                                    "Dias_Retraso": "313"
                                },
                                {
                                    "Nombre_Cliente": "Tierra y Paz",
                                    "ID_Venta": "1870",
                                    "Fecha_Venta": "11-Jan-17",
                                    "fecha_pago": "16/11/2017",
                                    "Dias_Retraso": "309"
                                },
                                {
                                    "Nombre_Cliente": "Tierra y Paz",
                                    "ID_Venta": "1878",
                                    "Fecha_Venta": "11-May-17",
                                    "fecha_pago": "09/11/2017",
                                    "Dias_Retraso": "182"
                                },
                                {
                                    "Nombre_Cliente": "Tierra y Paz",
                                    "ID_Venta": "953",
                                    "Fecha_Venta": "12-Apr-16",
                                    "fecha_pago": "28/12/2016",
                                    "Dias_Retraso": "260"
                                },
                                {
                                    "Nombre_Cliente": "Tierra y Paz",
                                    "ID_Venta": "1956",
                                    "Fecha_Venta": "12-Apr-17",
                                    "fecha_pago": "08/12/2017",
                                    "Dias_Retraso": "240"
                                },
                                {
                                    "Nombre_Cliente": "Tierra y Paz",
                                    "ID_Venta": "2946",
                                    "Fecha_Venta": "12-Feb-18",
                                    "fecha_pago": "04/12/2018",
                                    "Dias_Retraso": "295"
                                },
                                {
                                    "Nombre_Cliente": "Tierra y Paz",
                                    "ID_Venta": "2945",
                                    "Fecha_Venta": "12-Feb-18",
                                    "fecha_pago": "12/12/2018",
                                    "Dias_Retraso": "303"
                                },
                                {
                                    "Nombre_Cliente": "Tierra y Paz",
                                    "ID_Venta": "1953",
                                    "Fecha_Venta": "12-Mar-17",
                                    "fecha_pago": "26/12/2017",
                                    "Dias_Retraso": "289"
                                },
                                {
                                    "Nombre_Cliente": "Tierra y Paz",
                                    "ID_Venta": "2948",
                                    "Fecha_Venta": "12-Mar-18",
                                    "fecha_pago": "19/12/2018",
                                    "Dias_Retraso": "282"
                                },
                                {
                                    "Nombre_Cliente": "Tierra y Paz",
                                    "ID_Venta": "2955",
                                    "Fecha_Venta": "12-May-18",
                                    "fecha_pago": "15/12/2018",
                                    "Dias_Retraso": "217"
                                },
                                {
                                    "Nombre_Cliente": "Tierra y Paz",
                                    "ID_Venta": "1535",
                                    "Fecha_Venta": "7-Jan-17",
                                    "fecha_pago": "12/07/2017",
                                    "Dias_Retraso": "186"
                                },
                                {
                                    "Nombre_Cliente": "Tierra y Paz",
                                    "ID_Venta": "1623",
                                    "Fecha_Venta": "8-Jan-17",
                                    "fecha_pago": "22/08/2017",
                                    "Dias_Retraso": "226"
                                },
                                {
                                    "Nombre_Cliente": "Tierra y Paz",
                                    "ID_Venta": "2707",
                                    "Fecha_Venta": "9-Feb-18",
                                    "fecha_pago": "20/09/2018",
                                    "Dias_Retraso": "223"
                                },
                                {
                                    "Nombre_Cliente": "Tierra y Paz",
                                    "ID_Venta": "2703",
                                    "Fecha_Venta": "9-Jan-18",
                                    "fecha_pago": "28/09/2018",
                                    "Dias_Retraso": "262"
                                },
                                {
                                    "Nombre_Cliente": "Tierra y Paz",
                                    "ID_Venta": "701",
                                    "Fecha_Venta": "9-Mar-16",
                                    "fecha_pago": "27/09/2016",
                                    "Dias_Retraso": "202"
                                },
                                {
                                    "Nombre_Cliente": "Tierra y Paz",
                                    "ID_Venta": "1705",
                                    "Fecha_Venta": "9-Mar-17",
                                    "fecha_pago": "16/09/2017",
                                    "Dias_Retraso": "191"
                                },
                                {
                                    "Nombre_Cliente": "Too & A",
                                    "ID_Venta": "1793",
                                    "Fecha_Venta": "10-Feb-17",
                                    "fecha_pago": "14/10/2017",
                                    "Dias_Retraso": "246"
                                },
                                {
                                    "Nombre_Cliente": "Too & A",
                                    "ID_Venta": "772",
                                    "Fecha_Venta": "10-Jan-16",
                                    "fecha_pago": "07/10/2016",
                                    "Dias_Retraso": "271"
                                },
                                {
                                    "Nombre_Cliente": "Too & A",
                                    "ID_Venta": "2779",
                                    "Fecha_Venta": "10-Jan-18",
                                    "fecha_pago": "18/10/2018",
                                    "Dias_Retraso": "281"
                                },
                                {
                                    "Nombre_Cliente": "Too & A",
                                    "ID_Venta": "782",
                                    "Fecha_Venta": "10-Mar-16",
                                    "fecha_pago": "21/10/2016",
                                    "Dias_Retraso": "225"
                                },
                                {
                                    "Nombre_Cliente": "Too & A",
                                    "ID_Venta": "781",
                                    "Fecha_Venta": "10-Mar-16",
                                    "fecha_pago": "19/10/2016",
                                    "Dias_Retraso": "223"
                                },
                                {
                                    "Nombre_Cliente": "Too & A",
                                    "ID_Venta": "2784",
                                    "Fecha_Venta": "10-Mar-18",
                                    "fecha_pago": "19/10/2018",
                                    "Dias_Retraso": "223"
                                },
                                {
                                    "Nombre_Cliente": "Too & A",
                                    "ID_Venta": "870",
                                    "Fecha_Venta": "11-May-16",
                                    "fecha_pago": "12/11/2016",
                                    "Dias_Retraso": "185"
                                },
                                {
                                    "Nombre_Cliente": "Too & A",
                                    "ID_Venta": "946",
                                    "Fecha_Venta": "12-Jan-16",
                                    "fecha_pago": "27/12/2016",
                                    "Dias_Retraso": "350"
                                },
                                {
                                    "Nombre_Cliente": "Too & A",
                                    "ID_Venta": "1959",
                                    "Fecha_Venta": "12-Jun-17",
                                    "fecha_pago": "16/12/2017",
                                    "Dias_Retraso": "187"
                                },
                                {
                                    "Nombre_Cliente": "Too & A",
                                    "ID_Venta": "596",
                                    "Fecha_Venta": "8-Jan-16",
                                    "fecha_pago": "28/08/2016",
                                    "Dias_Retraso": "233"
                                },
                                {
                                    "Nombre_Cliente": "Too & A",
                                    "ID_Venta": "2705",
                                    "Fecha_Venta": "9-Jan-18",
                                    "fecha_pago": "30/09/2018",
                                    "Dias_Retraso": "264"
                                }
                            ]
                        },
                        "text/html": [
                            "<table>",
                            "<tr><th>Nombre_Cliente</th><th>ID_Venta</th><th>Fecha_Venta</th><th>fecha_pago</th><th>Dias_Retraso</th></tr>",
                            "<tr><td>Agora e Tudo MM</td><td>1794</td><td>10-Feb-17</td><td>28/10/2017</td><td>260</td></tr>",
                            "<tr><td>Agora e Tudo MM</td><td>1795</td><td>10-Feb-17</td><td>15/10/2017</td><td>247</td></tr>",
                            "<tr><td>Agora e Tudo MM</td><td>2782</td><td>10-Feb-18</td><td>08/10/2018</td><td>240</td></tr>",
                            "<tr><td>Agora e Tudo MM</td><td>770</td><td>10-Jan-16</td><td>31/10/2016</td><td>295</td></tr>",
                            "<tr><td>Agora e Tudo MM</td><td>1789</td><td>10-Jan-17</td><td>27/10/2017</td><td>290</td></tr>",
                            "<tr><td>Agora e Tudo MM</td><td>786</td><td>10-Mar-16</td><td>24/10/2016</td><td>228</td></tr>",
                            "<tr><td>Agora e Tudo MM</td><td>1797</td><td>10-Mar-17</td><td>29/10/2017</td><td>233</td></tr>",
                            "<tr><td>Agora e Tudo MM</td><td>2869</td><td>11-Feb-18</td><td>28/11/2018</td><td>290</td></tr>",
                            "<tr><td>Agora e Tudo MM</td><td>862</td><td>11-Jan-16</td><td>02/11/2016</td><td>296</td></tr>",
                            "<tr><td>Agora e Tudo MM</td><td>949</td><td>12-Feb-16</td><td>13/12/2016</td><td>305</td></tr>",
                            "<tr><td>Agora e Tudo MM</td><td>948</td><td>12-Feb-16</td><td>28/12/2016</td><td>320</td></tr>",
                            "<tr><td>Agora e Tudo MM</td><td>1948</td><td>12-Jan-17</td><td>03/12/2017</td><td>325</td></tr>",
                            "<tr><td>Agora e Tudo MM</td><td>956</td><td>12-Jun-16</td><td>13/12/2016</td><td>184</td></tr>",
                            "<tr><td>Agora e Tudo MM</td><td>1961</td><td>12-Jun-17</td><td>31/12/2017</td><td>202</td></tr>",
                            "<tr><td>Bienes de Occidente</td><td>790</td><td>10-Apr-16</td><td>11/10/2016</td><td>184</td></tr>",
                            "<tr><td>Bienes de Occidente</td><td>788</td><td>10-Apr-16</td><td>26/10/2016</td><td>199</td></tr>",
                            "<tr><td>Bienes de Occidente</td><td>1805</td><td>10-Apr-17</td><td>30/10/2017</td><td>203</td></tr>",
                            "<tr><td>Bienes de Occidente</td><td>771</td><td>10-Jan-16</td><td>08/10/2016</td><td>272</td></tr>",
                            "<tr><td>Bienes de Occidente</td><td>783</td><td>10-Mar-16</td><td>10/10/2016</td><td>214</td></tr>",
                            "<tr><td>Bienes de Occidente</td><td>1799</td><td>10-Mar-17</td><td>28/10/2017</td><td>232</td></tr>",
                            "<tr><td>Bienes de Occidente</td><td>2783</td><td>10-Mar-18</td><td>10/10/2018</td><td>214</td></tr>",
                            "<tr><td>Bienes de Occidente</td><td>869</td><td>11-Apr-16</td><td>21/11/2016</td><td>224</td></tr>",
                            "<tr><td>Bienes de Occidente</td><td>2874</td><td>11-Apr-18</td><td>23/11/2018</td><td>226</td></tr>",
                            "<tr><td>Bienes de Occidente</td><td>2875</td><td>11-Apr-18</td><td>17/11/2018</td><td>220</td></tr>",
                            "<tr><td>Bienes de Occidente</td><td>864</td><td>11-Mar-16</td><td>21/11/2016</td><td>255</td></tr>",
                            "<tr><td>Bienes de Occidente</td><td>1879</td><td>11-May-17</td><td>25/11/2017</td><td>198</td></tr>",
                            "<tr><td>Bienes de Occidente</td><td>2952</td><td>12-Apr-18</td><td>19/12/2018</td><td>251</td></tr>",
                            "<tr><td>Bienes de Occidente</td><td>2944</td><td>12-Jan-18</td><td>18/12/2018</td><td>340</td></tr>",
                            "<tr><td>Bienes de Occidente</td><td>2956</td><td>12-May-18</td><td>15/12/2018</td><td>217</td></tr>",
                            "<tr><td>Bienes de Occidente</td><td>1536</td><td>7-Jan-17</td><td>18/07/2017</td><td>192</td></tr>",
                            "<tr><td>Bienes de Occidente</td><td>597</td><td>8-Feb-16</td><td>27/08/2016</td><td>201</td></tr>",
                            "<tr><td>Bienes de Occidente</td><td>594</td><td>8-Jan-16</td><td>17/08/2016</td><td>222</td></tr>",
                            "<tr><td>Bienes de Occidente</td><td>1620</td><td>8-Jan-17</td><td>21/08/2017</td><td>225</td></tr>",
                            "<tr><td>Bienes de Occidente</td><td>697</td><td>9-Jan-16</td><td>26/09/2016</td><td>261</td></tr>",
                            "<tr><td>Bienestar Land</td><td>2787</td><td>10-Apr-18</td><td>30/10/2018</td><td>203</td></tr>",
                            "<tr><td>Bienestar Land</td><td>775</td><td>10-Feb-16</td><td>20/10/2016</td><td>253</td></tr>",
                            "<tr><td>Bienestar Land</td><td>778</td><td>10-Mar-16</td><td>13/10/2016</td><td>217</td></tr>",
                            "<tr><td>Bienestar Land</td><td>2876</td><td>11-Apr-18</td><td>28/11/2018</td><td>231</td></tr>",
                            "<tr><td>Bienestar Land</td><td>863</td><td>11-Mar-16</td><td>06/11/2016</td><td>240</td></tr>",
                            "<tr><td>Bienestar Land</td><td>2879</td><td>11-May-18</td><td>30/11/2018</td><td>203</td></tr>",
                            "<tr><td>Bienestar Land</td><td>1955</td><td>12-Apr-17</td><td>19/12/2017</td><td>251</td></tr>",
                            "<tr><td>Bienestar Land</td><td>2951</td><td>12-Apr-18</td><td>18/12/2018</td><td>250</td></tr>",
                            "<tr><td>Bienestar Land</td><td>957</td><td>12-Jun-16</td><td>11/12/2016</td><td>182</td></tr>",
                            "<tr><td>Bienestar Land</td><td>2958</td><td>12-Jun-18</td><td>23/12/2018</td><td>194</td></tr>",
                            "<tr><td>Bienestar Land</td><td>2706</td><td>9-Jan-18</td><td>16/09/2018</td><td>250</td></tr>",
                            "<tr><td>Bienestar Land</td><td>700</td><td>9-Mar-16</td><td>02/10/2016</td><td>207</td></tr>",
                            "<tr><td>Honduland</td><td>774</td><td>10-Feb-16</td><td>23/10/2016</td><td>256</td></tr>",
                            "<tr><td>Honduland</td><td>2781</td><td>10-Feb-18</td><td>31/10/2018</td><td>263</td></tr>",
                            "<tr><td>Honduland</td><td>1790</td><td>10-Jan-17</td><td>14/10/2017</td><td>277</td></tr>",
                            "<tr><td>Honduland</td><td>1798</td><td>10-Mar-17</td><td>26/10/2017</td><td>230</td></tr>",
                            "<tr><td>Honduland</td><td>867</td><td>11-Apr-16</td><td>23/11/2016</td><td>226</td></tr>",
                            "<tr><td>Honduland</td><td>2873</td><td>11-Apr-18</td><td>21/11/2018</td><td>224</td></tr>",
                            "<tr><td>Honduland</td><td>1871</td><td>11-Feb-17</td><td>01/12/2017</td><td>293</td></tr>",
                            "<tr><td>Honduland</td><td>1868</td><td>11-Jan-17</td><td>19/11/2017</td><td>312</td></tr>",
                            "<tr><td>Honduland</td><td>2866</td><td>11-Jan-18</td><td>02/11/2018</td><td>295</td></tr>",
                            "<tr><td>Honduland</td><td>2878</td><td>11-May-18</td><td>20/11/2018</td><td>193</td></tr>",
                            "<tr><td>Honduland</td><td>2950</td><td>12-Apr-18</td><td>17/12/2018</td><td>249</td></tr>",
                            "<tr><td>Honduland</td><td>950</td><td>12-Feb-16</td><td>18/12/2016</td><td>310</td></tr>",
                            "<tr><td>Honduland</td><td>1950</td><td>12-Feb-17</td><td>19/12/2017</td><td>310</td></tr>",
                            "<tr><td>Honduland</td><td>1951</td><td>12-Feb-17</td><td>19/12/2017</td><td>310</td></tr>",
                            "<tr><td>Honduland</td><td>1954</td><td>12-Mar-17</td><td>22/12/2017</td><td>285</td></tr>",
                            "<tr><td>Honduland</td><td>954</td><td>12-May-16</td><td>09/12/2016</td><td>211</td></tr>",
                            "<tr><td>Honduland</td><td>1957</td><td>12-May-17</td><td>20/12/2017</td><td>222</td></tr>",
                            "<tr><td>Honduland</td><td>499</td><td>7-Jan-16</td><td>31/07/2016</td><td>206</td></tr>",
                            "<tr><td>Honduland</td><td>2554</td><td>7-Jan-18</td><td>20/07/2018</td><td>194</td></tr>",
                            "<tr><td>Honduland</td><td>595</td><td>8-Jan-16</td><td>29/08/2016</td><td>234</td></tr>",
                            "<tr><td>Honduland</td><td>2633</td><td>8-Jan-18</td><td>13/08/2018</td><td>217</td></tr>",
                            "<tr><td>Honduland</td><td>698</td><td>9-Feb-16</td><td>20/09/2016</td><td>224</td></tr>",
                            "<tr><td>JKP Asesores</td><td>1804</td><td>10-Apr-17</td><td>26/10/2017</td><td>199</td></tr>",
                            "<tr><td>JKP Asesores</td><td>2785</td><td>10-Apr-18</td><td>10/10/2018</td><td>183</td></tr>",
                            "<tr><td>JKP Asesores</td><td>1791</td><td>10-Jan-17</td><td>03/10/2017</td><td>266</td></tr>",
                            "<tr><td>JKP Asesores</td><td>2776</td><td>10-Jan-18</td><td>09/10/2018</td><td>272</td></tr>",
                            "<tr><td>JKP Asesores</td><td>787</td><td>10-Mar-16</td><td>18/10/2016</td><td>222</td></tr>",
                            "<tr><td>JKP Asesores</td><td>866</td><td>11-Apr-16</td><td>27/11/2016</td><td>230</td></tr>",
                            "<tr><td>JKP Asesores</td><td>1874</td><td>11-Apr-17</td><td>16/11/2017</td><td>219</td></tr>",
                            "<tr><td>JKP Asesores</td><td>2871</td><td>11-Feb-18</td><td>20/11/2018</td><td>282</td></tr>",
                            "<tr><td>JKP Asesores</td><td>2870</td><td>11-Feb-18</td><td>20/11/2018</td><td>282</td></tr>",
                            "<tr><td>JKP Asesores</td><td>2865</td><td>11-Jan-18</td><td>25/11/2018</td><td>318</td></tr>",
                            "<tr><td>JKP Asesores</td><td>871</td><td>11-May-16</td><td>15/11/2016</td><td>188</td></tr>",
                            "<tr><td>JKP Asesores</td><td>1877</td><td>11-May-17</td><td>20/11/2017</td><td>193</td></tr>",
                            "<tr><td>JKP Asesores</td><td>2877</td><td>11-May-18</td><td>27/11/2018</td><td>200</td></tr>",
                            "<tr><td>JKP Asesores</td><td>952</td><td>12-Apr-16</td><td>29/12/2016</td><td>261</td></tr>",
                            "<tr><td>JKP Asesores</td><td>1949</td><td>12-Feb-17</td><td>24/12/2017</td><td>315</td></tr>",
                            "<tr><td>JKP Asesores</td><td>1952</td><td>12-Mar-17</td><td>09/12/2017</td><td>272</td></tr>",
                            "<tr><td>JKP Asesores</td><td>2556</td><td>7-Jan-18</td><td>24/07/2018</td><td>198</td></tr>",
                            "<tr><td>JKP Asesores</td><td>1618</td><td>8-Jan-17</td><td>05/08/2017</td><td>209</td></tr>",
                            "<tr><td>JKP Asesores</td><td>2704</td><td>9-Jan-18</td><td>08/09/2018</td><td>242</td></tr>",
                            "<tr><td>JKP Asesores</td><td>1704</td><td>9-Mar-17</td><td>11/09/2017</td><td>186</td></tr>",
                            "<tr><td>Mart B &amp; C</td><td>2786</td><td>10-Apr-18</td><td>09/10/2018</td><td>182</td></tr>",
                            "<tr><td>Mart B &amp; C</td><td>773</td><td>10-Jan-16</td><td>09/10/2016</td><td>273</td></tr>",
                            "<tr><td>Mart B &amp; C</td><td>1801</td><td>10-Mar-17</td><td>29/10/2017</td><td>233</td></tr>",
                            "<tr><td>Mart B &amp; C</td><td>868</td><td>11-Apr-16</td><td>28/11/2016</td><td>231</td></tr>",
                            "<tr><td>Mart B &amp; C</td><td>945</td><td>12-Jan-16</td><td>05/12/2016</td><td>328</td></tr>",
                            "<tr><td>Mart B &amp; C</td><td>947</td><td>12-Jan-16</td><td>04/12/2016</td><td>327</td></tr>",
                            "<tr><td>Mart B &amp; C</td><td>1960</td><td>12-Jun-17</td><td>23/12/2017</td><td>194</td></tr>",
                            "<tr><td>Mart B &amp; C</td><td>2957</td><td>12-Jun-18</td><td>20/12/2018</td><td>191</td></tr>",
                            "<tr><td>Mart B &amp; C</td><td>2947</td><td>12-Mar-18</td><td>04/12/2018</td><td>267</td></tr>",
                            "<tr><td>Mart B &amp; C</td><td>1539</td><td>7-Jan-17</td><td>11/07/2017</td><td>185</td></tr>",
                            "<tr><td>Mart B &amp; C</td><td>1624</td><td>8-Jan-17</td><td>10/08/2017</td><td>214</td></tr>",
                            "<tr><td>Mart B &amp; C</td><td>1622</td><td>8-Jan-17</td><td>18/08/2017</td><td>222</td></tr>",
                            "<tr><td>Mart B &amp; C</td><td>1621</td><td>8-Jan-17</td><td>02/08/2017</td><td>206</td></tr>",
                            "<tr><td>Mart B &amp; C</td><td>2632</td><td>8-Jan-18</td><td>28/08/2018</td><td>232</td></tr>",
                            "<tr><td>Mart B &amp; C</td><td>2710</td><td>9-Mar-18</td><td>30/09/2018</td><td>205</td></tr>",
                            "<tr><td>Mart B &amp; C</td><td>2709</td><td>9-Mar-18</td><td>01/10/2018</td><td>206</td></tr>",
                            "<tr><td>Pacifico Norte &amp; CO</td><td>777</td><td>10-Feb-16</td><td>30/10/2016</td><td>263</td></tr>",
                            "<tr><td>Pacifico Norte &amp; CO</td><td>776</td><td>10-Feb-16</td><td>09/10/2016</td><td>242</td></tr>",
                            "<tr><td>Pacifico Norte &amp; CO</td><td>1792</td><td>10-Feb-17</td><td>03/10/2017</td><td>235</td></tr>",
                            "<tr><td>Pacifico Norte &amp; CO</td><td>2780</td><td>10-Feb-18</td><td>20/10/2018</td><td>252</td></tr>",
                            "<tr><td>Pacifico Norte &amp; CO</td><td>2777</td><td>10-Jan-18</td><td>02/10/2018</td><td>265</td></tr>",
                            "<tr><td>Pacifico Norte &amp; CO</td><td>785</td><td>10-Mar-16</td><td>24/10/2016</td><td>228</td></tr>",
                            "<tr><td>Pacifico Norte &amp; CO</td><td>780</td><td>10-Mar-16</td><td>11/10/2016</td><td>215</td></tr>",
                            "<tr><td>Pacifico Norte &amp; CO</td><td>1872</td><td>11-Feb-17</td><td>13/11/2017</td><td>275</td></tr>",
                            "<tr><td>Pacifico Norte &amp; CO</td><td>1873</td><td>11-Feb-17</td><td>22/11/2017</td><td>284</td></tr>",
                            "<tr><td>Pacifico Norte &amp; CO</td><td>2864</td><td>11-Jan-18</td><td>30/11/2018</td><td>323</td></tr>",
                            "<tr><td>Pacifico Norte &amp; CO</td><td>2953</td><td>12-Apr-18</td><td>01/01/2019</td><td>264</td></tr>",
                            "<tr><td>Pacifico Norte &amp; CO</td><td>2949</td><td>12-Apr-18</td><td>29/12/2018</td><td>261</td></tr>",
                            "<tr><td>Pacifico Norte &amp; CO</td><td>2943</td><td>12-Jan-18</td><td>05/12/2018</td><td>327</td></tr>",
                            "<tr><td>Pacifico Norte &amp; CO</td><td>951</td><td>12-Mar-16</td><td>30/12/2016</td><td>293</td></tr>",
                            "<tr><td>Pacifico Norte &amp; CO</td><td>500</td><td>7-Jan-16</td><td>15/07/2016</td><td>190</td></tr>",
                            "<tr><td>Pacifico Norte &amp; CO</td><td>1537</td><td>7-Jan-17</td><td>09/07/2017</td><td>183</td></tr>",
                            "<tr><td>Pacifico Norte &amp; CO</td><td>1626</td><td>8-Feb-17</td><td>09/08/2017</td><td>182</td></tr>",
                            "<tr><td>Pacifico Norte &amp; CO</td><td>1625</td><td>8-Feb-17</td><td>22/08/2017</td><td>195</td></tr>",
                            "<tr><td>Pacifico Norte &amp; CO</td><td>1619</td><td>8-Jan-17</td><td>12/08/2017</td><td>216</td></tr>",
                            "<tr><td>Pacifico Norte &amp; CO</td><td>699</td><td>9-Feb-16</td><td>26/09/2016</td><td>230</td></tr>",
                            "<tr><td>Pacifico Norte &amp; CO</td><td>696</td><td>9-Jan-16</td><td>19/09/2016</td><td>254</td></tr>",
                            "<tr><td>Pacifico Norte &amp; CO</td><td>1702</td><td>9-Jan-17</td><td>27/09/2017</td><td>261</td></tr>",
                            "<tr><td>The LandLord</td><td>789</td><td>10-Apr-16</td><td>31/10/2016</td><td>204</td></tr>",
                            "<tr><td>The LandLord</td><td>1800</td><td>10-Mar-17</td><td>12/10/2017</td><td>216</td></tr>",
                            "<tr><td>The LandLord</td><td>1796</td><td>10-Mar-17</td><td>09/10/2017</td><td>213</td></tr>",
                            "<tr><td>The LandLord</td><td>865</td><td>11-Mar-16</td><td>16/11/2016</td><td>250</td></tr>",
                            "<tr><td>The LandLord</td><td>2872</td><td>11-Mar-18</td><td>24/11/2018</td><td>258</td></tr>",
                            "<tr><td>The LandLord</td><td>1876</td><td>11-May-17</td><td>28/11/2017</td><td>201</td></tr>",
                            "<tr><td>The LandLord</td><td>955</td><td>12-Jun-16</td><td>01/01/2017</td><td>203</td></tr>",
                            "<tr><td>The LandLord</td><td>2954</td><td>12-May-18</td><td>03/01/2019</td><td>236</td></tr>",
                            "<tr><td>The LandLord</td><td>593</td><td>8-Jan-16</td><td>02/08/2016</td><td>207</td></tr>",
                            "<tr><td>The LandLord</td><td>2708</td><td>9-Feb-18</td><td>20/09/2018</td><td>223</td></tr>",
                            "<tr><td>Tierra y Paz</td><td>2778</td><td>10-Jan-18</td><td>19/10/2018</td><td>282</td></tr>",
                            "<tr><td>Tierra y Paz</td><td>779</td><td>10-Mar-16</td><td>08/10/2016</td><td>212</td></tr>",
                            "<tr><td>Tierra y Paz</td><td>784</td><td>10-Mar-16</td><td>18/10/2016</td><td>222</td></tr>",
                            "<tr><td>Tierra y Paz</td><td>1875</td><td>11-Apr-17</td><td>02/12/2017</td><td>235</td></tr>",
                            "<tr><td>Tierra y Paz</td><td>2867</td><td>11-Feb-18</td><td>18/11/2018</td><td>280</td></tr>",
                            "<tr><td>Tierra y Paz</td><td>2868</td><td>11-Feb-18</td><td>08/11/2018</td><td>270</td></tr>",
                            "<tr><td>Tierra y Paz</td><td>1869</td><td>11-Jan-17</td><td>20/11/2017</td><td>313</td></tr>",
                            "<tr><td>Tierra y Paz</td><td>1870</td><td>11-Jan-17</td><td>16/11/2017</td><td>309</td></tr>",
                            "<tr><td>Tierra y Paz</td><td>1878</td><td>11-May-17</td><td>09/11/2017</td><td>182</td></tr>",
                            "<tr><td>Tierra y Paz</td><td>953</td><td>12-Apr-16</td><td>28/12/2016</td><td>260</td></tr>",
                            "<tr><td>Tierra y Paz</td><td>1956</td><td>12-Apr-17</td><td>08/12/2017</td><td>240</td></tr>",
                            "<tr><td>Tierra y Paz</td><td>2946</td><td>12-Feb-18</td><td>04/12/2018</td><td>295</td></tr>",
                            "<tr><td>Tierra y Paz</td><td>2945</td><td>12-Feb-18</td><td>12/12/2018</td><td>303</td></tr>",
                            "<tr><td>Tierra y Paz</td><td>1953</td><td>12-Mar-17</td><td>26/12/2017</td><td>289</td></tr>",
                            "<tr><td>Tierra y Paz</td><td>2948</td><td>12-Mar-18</td><td>19/12/2018</td><td>282</td></tr>",
                            "<tr><td>Tierra y Paz</td><td>2955</td><td>12-May-18</td><td>15/12/2018</td><td>217</td></tr>",
                            "<tr><td>Tierra y Paz</td><td>1535</td><td>7-Jan-17</td><td>12/07/2017</td><td>186</td></tr>",
                            "<tr><td>Tierra y Paz</td><td>1623</td><td>8-Jan-17</td><td>22/08/2017</td><td>226</td></tr>",
                            "<tr><td>Tierra y Paz</td><td>2707</td><td>9-Feb-18</td><td>20/09/2018</td><td>223</td></tr>",
                            "<tr><td>Tierra y Paz</td><td>2703</td><td>9-Jan-18</td><td>28/09/2018</td><td>262</td></tr>",
                            "<tr><td>Tierra y Paz</td><td>701</td><td>9-Mar-16</td><td>27/09/2016</td><td>202</td></tr>",
                            "<tr><td>Tierra y Paz</td><td>1705</td><td>9-Mar-17</td><td>16/09/2017</td><td>191</td></tr>",
                            "<tr><td>Too &amp; A</td><td>1793</td><td>10-Feb-17</td><td>14/10/2017</td><td>246</td></tr>",
                            "<tr><td>Too &amp; A</td><td>772</td><td>10-Jan-16</td><td>07/10/2016</td><td>271</td></tr>",
                            "<tr><td>Too &amp; A</td><td>2779</td><td>10-Jan-18</td><td>18/10/2018</td><td>281</td></tr>",
                            "<tr><td>Too &amp; A</td><td>782</td><td>10-Mar-16</td><td>21/10/2016</td><td>225</td></tr>",
                            "<tr><td>Too &amp; A</td><td>781</td><td>10-Mar-16</td><td>19/10/2016</td><td>223</td></tr>",
                            "<tr><td>Too &amp; A</td><td>2784</td><td>10-Mar-18</td><td>19/10/2018</td><td>223</td></tr>",
                            "<tr><td>Too &amp; A</td><td>870</td><td>11-May-16</td><td>12/11/2016</td><td>185</td></tr>",
                            "<tr><td>Too &amp; A</td><td>946</td><td>12-Jan-16</td><td>27/12/2016</td><td>350</td></tr>",
                            "<tr><td>Too &amp; A</td><td>1959</td><td>12-Jun-17</td><td>16/12/2017</td><td>187</td></tr>",
                            "<tr><td>Too &amp; A</td><td>596</td><td>8-Jan-16</td><td>28/08/2016</td><td>233</td></tr>",
                            "<tr><td>Too &amp; A</td><td>2705</td><td>9-Jan-18</td><td>30/09/2018</td><td>264</td></tr>",
                            "</table>"
                        ]
                    }
                }
            ],
            "execution_count": 8
        },
        {
            "cell_type": "markdown",
            "source": [
                "TODOS CLIENTES SON MOROSOS,  \n",
                "\n",
                "<span style=\"color: rgb(13, 13, 13); font-family: Söhne, ui-sans-serif, system-ui, -apple-system, &quot;Segoe UI&quot;, Roboto, Ubuntu, Cantarell, &quot;Noto Sans&quot;, sans-serif, &quot;Helvetica Neue&quot;, Arial, &quot;Apple Color Emoji&quot;, &quot;Segoe UI Emoji&quot;, &quot;Segoe UI Symbol&quot;, &quot;Noto Color Emoji&quot;; font-size: 16px; white-space-collapse: preserve; background-color: rgb(255, 255, 255);\">Para determinar y listar los clientes morosos basándose en la información proporcionada, necesitao definir qué se considera un \"cliente moroso\". Supongamos que un cliente es considerado moroso si su pago fue realizado más de <b>180 !!!</b> días después de la fecha de la venta.</span>"
            ],
            "metadata": {
                "azdata_cell_guid": "740cd91b-ac9b-4671-84fb-d6b05b9170f1"
            },
            "attachments": {}
        }
    ]
}