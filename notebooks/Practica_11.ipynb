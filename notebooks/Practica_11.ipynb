{
    "metadata": {
        "kernelspec": {
            "name": "SQL",
            "display_name": "SQL",
            "language": "sql"
        },
        "language_info": {
            "name": "sql",
            "version": ""
        }
    },
    "nbformat_minor": 2,
    "nbformat": 4,
    "cells": [
        {
            "cell_type": "markdown",
            "source": [
                "# Practica 11"
            ],
            "metadata": {
                "azdata_cell_guid": "9d8c75b4-287a-4eb8-b3c6-920707d3f126"
            },
            "attachments": {}
        },
        {
            "cell_type": "markdown",
            "source": [
                "## Operador IN"
            ],
            "metadata": {
                "azdata_cell_guid": "09aeda61-cce3-4720-a3f3-703b960dee88"
            },
            "attachments": {}
        },
        {
            "cell_type": "markdown",
            "source": [
                "### Crea un subquery para generar una vista con:"
            ],
            "metadata": {
                "azdata_cell_guid": "212d2bdb-5734-42f9-aa68-9ce85933c47a"
            },
            "attachments": {}
        },
        {
            "cell_type": "markdown",
            "source": [
                "**1 Los vendedores que no vendieron en 2018**"
            ],
            "metadata": {
                "azdata_cell_guid": "91e35023-dd97-4e4f-bdf8-f2d3b2b8a2b3"
            },
            "attachments": {}
        },
        {
            "cell_type": "code",
            "source": [
                "CREATE VIEW Vendedores_Sin_Ventas_2018 AS\r\n",
                "SELECT v.ID_Vendedor, v.Nombre, v.Apellido\r\n",
                "FROM vendedor AS v\r\n",
                "WHERE v.ID_Vendedor NOT IN (\r\n",
                "    SELECT DISTINCT ve.ID_Vendedor\r\n",
                "    FROM ventas AS ve\r\n",
                "    WHERE YEAR(ve.`Fecha venta`) = 2018\r\n",
                ");\r\n",
                ""
            ],
            "metadata": {
                "azdata_cell_guid": "a3b2d15c-84d6-4b67-92ae-b13ef143d62d",
                "language": "sql"
            },
            "outputs": [],
            "execution_count": null
        },
        {
            "cell_type": "markdown",
            "source": [
                "![](data:image/png;base64,iVBORw0KGgoAAAANSUhEUgAAATQAAAHWCAYAAAD5DXUWAAAgAElEQVR4nOy9f3Bbx53g+YEVO8kkyvzQ7E4mc7EjEhCXQ+O0OZNzAeTVZDVSREDUDiJWQbtOIq4nISiVSiLIO1ZJiZRzrRTbe7wDQLtUIhnPWOIlrjNmxUHKMECNeNqJ1iK1JfqyPErDyADBOLnLzNyexmNzEjuJ6Xd/4AF4eHgAARIEQPD7qUJJr/v1t/t9u/vb328/omF66613FJPpA9bKwsLCmmUIgiCshQeq3QBBEIRyIQZNEIS6QQyaIAh1g6lce2iCIAjVRjw0QRDqBjFogiDUDWLQBEGoG8SgCYJQN4hBEwShbhCDJghC3fAhgAcf/HC12yEIgrBmPlTtBghCpfnWt85VuwmChm9842zZZIlBEzYl3/rWt6rdBAH4xje+UVZ5socmCELdkGPQfH86Xo121DSiE0GoHGuZbxJyrpHxif+Ydf3PFpw59/ywMQLAe++9y9/9zd/Qd+yrFWmbIGw2xKCtkY98+CG+8C93pa9jF+CxrifS13P/4Xv8q/Z/mb4+961/v25t+f7cLwj953/k4d/6EI62j/HPPi3dK2wuZMSvkeX3l/mHt99JX5tM2fkmE+n8999/nw8+UMpW93+4/R7/9WcKxz7/UQAafuP/xfKxv+XV//N3uD77Nn+y/7f5ov3XylafINQ6tfdS4LXz7N79OE+/VqH6fvJdvrr7cb760o9XVfzdd9/l+ven0x8jg5bK+4vvRVCU8hzVNH3vl1z9G4Uf/Fxh/PZ7AHz605/mj3d/it3bf8LyByZemPh7/uPsu2WpL82Nb/LlsTfLK1MQykTpHtpr59n99YmsJMvRl/jTJx4uV5ty6sor/yff5atfukhMk9T+9Gt8/fFVyFolH/nwQzj3Z0LKxeHs/AdMcOhf7U9ff/N/Or/mOud/8isu//UvWTY9AL+AyP/zAb/9sV+w+/c/zO/93u/xb/Ytk/gP/8j/vfTrvHD17/mDpk/xsY+YVhYMwA2eeqyXV7RJzV78X7hKX+Ior+9J3fZNHru+l9ef2l36A9z4Jo/1ZWpo7g3xnSOPlC5H2Dy8eZkvHwowr007OJQz/lYdciYNA7z01ScYHn6Kl/7Fn/HEp1crbRWkjVk7T984w+MAr53nqz/+MWBgsB4/w40bZ8rejPd/9T5vvfV2+tqk93kfIJ3//vvvo3ywNg/tR3/3KwK33uOXH9rCB79KyvpgywO8ePd9Pv5h+O8aP8zDDz+M9VM/4G9+9FssvW/ixv/1Do4/+PUSajmI//V/R/ZQ6eJ1gBuTa2p/porUYLzBU4+dZuwPX0JsmlCQZi/j3+mi0DBZY8j5Y34UA2jgYdWYvfb04+zenfqc5zVIh3Xp9Kdf4ycv/UkmtFTDzOyw7zWeVj3B2PATGVmp3P8t6Zm1P60aM4DHz6je12s8nVXPeV7LCmXV/N2Ps1vn4ZXKz372cyb+8q/Snwd0jtADkM4L/nmID9Zo0CI/+Ace+sU7PPDz9/hgGZRleHDpHba++//xV3/9Fr96P7lH95lP/QYf/ELhgQcf4LW/fof3lxXeX17D/l1WqPlXPNX3CrzSy2OPfZMbvMnYlz/LY499Vr0muaJ++Qm+rE3Li5nPqKP0xlMpOZ/lsS9f5k3gzbEneEoV8ObYEzyWurjxzeT/b3wzU0bNy7pPqFOS4y41Lt8ce2L1Hlps+Al2DwMaD+knL/0JX5/YwdHv/hlPfPo1nt59iq8//XmeRudJAT956c9WqOFxvv50OxOGYeKP+fECwA4+80jSiKai4JTnCMDEKb4EQEOW5NeePsUEajtJenqr5aMfeQjXHzvS1z95ITvfZIJ/c/iP09enT6/tax62T/6UHQ/+V26++evEP/rP+NX7Cr/Pj/ncwz/jE5/4dV6+8SAziwrv/PzDgIn33/2AN+5/hIHvvsXvfeID/kfXbxdRyyv0PaYJOpu9jHu0+Z/nKf8Cr6gh55tjTzD6hRCvf+eRpCF76ga7nwTmzXhefwnDoPSVXpJVNNM7nrznzbEnGG0I8frrSev25tgTfGPs83znM2biP3oTdsP3E/vpZZIb7OaRH8U5uOffceN6Lwf9P2A10a+wgZgPcOixQPqyuTfEd74Tgi+fZuwz+/nLv9y/tpDzyR89wdcnJnjxpSM8/sTDvPmjNwAY/tLjaLeSHt/dDhMTfH33RLrsU6utGICHebgRiL3Bj96EJ77+Gjd25+7t0f4sN1Ibaq+l9q5SxlD1Kn+ypobw/q9+xf37b6Wvczw0E+n85eW1h5z/fOd/i8lkQrn5Q/76r9/n/WV44Ld+m89//g8AWPrPf03kHz7Oz97fygMPJev65fsP8Df/8D62334TKMagGYScN76Z9+43E/PMv+LisSE1odnLmwDNjfnDg4NDvP4UPPVYL4k3gUeScsx7MiUe+cP98OKbcGQv5tG/4s0/hETD53nqMws8deNNGv7SzJ7vwO5HvIwe+iyPkdmPe+TIS8kQWagf8oScR75zlKcem8Tz+r9bW8j5+NefpR2IDT/FSz+BRz6zA9jB0e++xo0b6ufrj6v7V69x48ZLHLVA7P/4T6z1Pdnju9sBmHjxuyXaJNUYkuDHazRmAD/7x58TfuVq+qPfQzM9QDrvpe8EUdb4Zxsm9TVqa8vvsvXnf4uyDHf+7kF+/t4yAI+1PMwXHr7HRz78C7Z8+EEeeOhDbHlQ4XNb/wt/9N9vX1Pd+XikoZmD/h/w+uvqZ4V9jgy7eWrcS7wvGZI+0tDMK9czYeKb378KDY8Au9ljXuD731+g4Q8fgd174fqfkjDvTRrdR7r4zus/4PXXhzD/5V+lw1QJOTcDbzL25WEaeqHvy5fX+ndombBw+EvnefjGn/H0jx7n61oPrf1ZnuYUWuep/ekv8fjjj9A+fIqJrz/OhJFogMc/TzsTTAw/we7h7JCVx89w47vb+eqXLvKl3ZmQsfHhh4HCf4Lx+FeOYZm4mOVJWkp9dJWP/tpHcLtd6eu/vfRkVr7JBF3/9l+nrwf+h1OrrCmb3/j1T7Bn+x3+IvEbLJk+zuXr9znm/Kd8/OMf54tf+APe+d4M33/nDzCZtrDzwR/wrx1Wtm3bVpa6AXikkeZXennslYP4X3+Ghi9/lsf61LyDQ7z+ZMHSGjldfKv3CQ499k38r7+E/6nP8thjal6zl/HvJE3j7j3QN9rI+BGA3eyhl9GG5Dcubjz1WVIvTZt7QzwCa14whRpEF3Jy0EtvPMBffiHplX8m8dnkz9g99NCD6Xt8fzpO/1cPVaG1tUshnYx998/5wv49KErS8/og8mksnZlvCixGv8cHn/8hAMvLy/wv//5/JeD/n8vSrrfeeoux773O9H0zv9jycQ5ZFb7yR/8EgL/927/lYuge733wYTz7/wmNjY1lqbMe+Na3zslpGzXCN77xjZzjg9Zig+SbAmvk5//4M/737wb5+c9/BsC//RTEr7yUdc+lFy4B8Iv3fgFK+b4p8Ju/+Zscbn+Ufzr1X5j7m1/jP/3wv+G9X/yKr7b/Lp/85Cf58h+9w3vvvSfGTNg0iEFbI/v2/ous63f5Ys49h9ex/k9+8pP8cftu/vmbP+KnP03wO7/zO5hMvwuAxbJjHWsWhNojx6BJuJlLIZ3Ugvfza7/2azQ3/z7Nzb9f7aYIwppZiw0SD03YlJT7pFShNsh5KSAIgrBRqb3TNgRBEFbJhwD+/M9frnY7BEGoA7q6uqpaf3oP7YtfzH07V07+4i/+Yt3rEARhc5P1UuATn/jEula23vLrmZ/+9Kd86lOfqnYzNg2i79L56U9/WvU5LntogiDUDWLQBEGoG8SgCYJQN4hBW4l4ALs9QHy97q9V6uU5ap2UnlfSt/RHUdSGQYsHsJtMmEwmTKYeolnXyU9PtAgZWR0eJ2C3E9gMI0DVl137sDIBKkCcgN2EqZx6ln5bE7Vh0MxepmJ+bDY/MWUEB4DNT0xRUBQFJeZnzrmCUTN34CZIODUS4mGCuOkwr3/zawKbB2vwyOYw4LVCPEwQDx7tuFsrZi9TU142y7AtN7Vh0FZCNXhz5wqtXGY63BBMjazYPLg7kgMjy+NTvTZ1JQz0GHiB2vstfUxjkG7SeH9F3d9DFH29alpZaGbgrJW+QQOJedvRQ4899eyqt5HlDc8zaC+kN40sI73UOfFwENwDuKzTmXGn02vecZVPT1oPrZRxJQAbxaABmJuwTs8X/IUmc5OV6fnkHdHQKNYmMxClxzLP2bS35yZ4RB0w033Mu9T0iIfRcwHiROmx9GGNZLxDW1JiHjmF7s+kx/xzOFMjO12v6o2WC8cIEZw6T7ZQO+ZoHlOf3XkExrR60OQrCjE/9OXobQRHIf3WNXHCQXB3mHG4PEwHw5ln1ugtqdseoiXraRXjSthABq0YHC48oyGixLk358HlAOL3mGMUp3alSxlGm5+BlEWxNCcHTPwec9r0FPnkFLpfk27ucGMbDSVXU6P7y6WCAZ0nW7Adakhuacam/X+qrC0Tsps73NiM9FZIv/WMdkvD4cIzrQk7NXrD4cLDHPeiJeppNeNK2EAGLX6POVvzCmf/O3B55rgXDRO0ujLej3Y/TlmDZ1QuOeuJ2cuYO8hguIJ1bgS9lJl4OMj0dB8WkwmTyckomrAzH5tQT5Vmgxg01c0+u/JmqcNlpc/Zh9WVWsKasE73YbS1ZIi5CatmtY2Hg8m9i3xyirw/Hg4y7XFVZACbvWehr6+s7chbrlT91gVxwsFpPBGNcYrows4U0RCjNjcdjvUZh5UcVxuB2jBo8QB2S5+64qmbnOnVz4TJdI7mmMJIMb3mcOFBDTeTCYyob0nTfwZS8LW4g5GIlT5L8t4j81Y1BMsnp7j7LX1WIkU9QDlwMBLxZP6/2nZo+sASdBMzLFeqfuuAeJggunAwFXbGyB67TohMeTGv0zis7LiqfUxvvfWO8r3vjfPFL35xXb9Yevny5aofLbKRkS9LV5ZV6zsewH4Exjbhn17UwhitDQ+tJKL06P7odrP9uYAgCMZswN8UcDCiKIxUuxmCYITZy9RUtRuxedmAHpogCIIxYtAEQagb0i8FBEEQ1kq1X/xl/aaAvOUUBGEjIyGnIAh1gxg0QRDqBjFogiDUDQX/Du3dd9/FZDLx0EMP8cADYvsEQahtVrRSJ06c4O///u9ZXl5epyZE6an37/6tGwZHQOc9jjv70EHtJ3VvPGA3TC94xHeewwbzytqo6I6Ft2c9Tyn9oLkn2pPdFz1R4yO4DXWt/YZM5nDOzf7NmRUNWiKR4PTp07z11ltlN2rJQe9ktKxSNxH5joA2PI67mYEpzWGBmqNsprxm4gF78gvo6aNtIlj7LJkJme+Ib4Pj01eUteGI0mMJ4o5pnmdec5JZSf2gFgnYk19c1xwnFKGIc81yjiCawms2453KPvkj60y2TURRcWQikeDkyZP88Ic/5Fe/+lXZKjd7pzQncQqlYngENFDwOG5Dogz2gX9M+4Xq5KkOpI/EKVZmMbI2Ilaa0g/kYERzwkXp/ZA87dYfyz4PzTFSjvPRovQ453T63zwUvTH2d3/3d5w+fZo33niDX/7yl+vZJqEoChwBDXmO484n6h5zRiu6/tjzYmQWK2tD4cDlUU+bzXn4VfRDPExwWmsgdWQdnaX7PQF9ni48jfY4mfOP4d2M1owS33L+7Gc/4/Tp07zzzjtl9dSEVVDoCGiVnOO4y8B6yNwIOEbUcM4Vyux3wer7odDpy/qwUhvF6PO0xxRFe3DO+RnbrNaMEg3axz72MZ555hk+8YlP8OCDD65Xm4QiKOoI6GKP49adjpqpxODY85VkliJrI+IYQVEi6m9XrLIf8uloTWzuUDNF0QYtZcwsFgsPPfTQerZJWJHij4DOOo47Lw4GtL/qBKSOPU//FGDRMkuTtSGIB7BrY8a0cV5tP6g6smT/BF20Z/U/SbfZQ80URRm0hoYGnn/+eZqamspqzOIBu/rrN8kVTn6Nq0hWOgI6C+1x3Pkxe6eIuYOa/RknRJJvQHPRyDQ4Pr00WRsAcwfuOadmTyuIe8yLeQ39YPZOJX+CTrMf5qSI3wbQ76GZ7ATiUUKjMN1n0aRvzt/rLHgE97vvvsvJkyd55pln+M3f/E22bNmy6orky+mCIKw3K3po5TBmgiAIlaDgV58++tGP8tGPfrRSbREEQVgTWQbtpz/9abXaIQiCsGayDNp6/wTV3//jB+sqv575rY8/IPqrIKLv0vmtj1f/AIvqt0AQBKFMiEETBKFuEIMmCELdIAZNEIS6oXoGLTHE/q1b2KZ+9l9YqFpTNhwp3Z2cyEqePLmFbXuGWEynLHBxjy5NLZul78QQ+/cMsZj6V19XKk/TX8nPLi5eMyhTt+TXp1Yv/dfy562sM4M6hKKpnkFbmKdlfJn7S8vcX3qVllNHuJioWms2Hm3ddN05l9FZYojBO5+jVXtPIkyIbroIMpHILttyZRX6bvMxs5Tqs2XuL93kWOOanmJjkVefGr3M+rh7SGPUStVZvjqEoqieQds3jG9f6sKCpa1qLdmgNOPshFA06WlNBvpp6XRn3bEYDULnAM5Hb6XvS5U9cdrKmUC2hycUJr8+NTT0cnXWx91nVudhFVWHkJfa2ENLhAnhpr2h2g3ZWDQeP0vLqUEmE0MM3vFxIuubzQtMXAGXo5G9B7uZuRLOnmD7hnmZAxlPohhu99OqDZ82VVi0gj61NDTRcnueBShRZyXUIRhSAwZtgv6dQVwv9LK92k3ZcLTjfPLbHN7ZT8tpnf60i8Q+F123c0OYvd4SPQl9+HR9E/VZEfo0pBSdrbYOIU2VDdoE/VvPYZm9yTHxzlbFXq+PVrpx7stOX4wGmUl7Bwe4jEEI09DLcGeQ5zfjOTMlUpQ+UyTucbetmVK3F0uqQzCkym85xZitmYZeri4NszcrcYGJK7foGtd4BuPGIcz242fhVD8zoIZK2V7BYjTIzKNNm8cTM6R4fSYjDgOPuax1CPmomkFbjAaZ4RZndsqfbpSdRJgQPk5ovbZUCJOj4nZ8492Z/8+6CWn6pPWKm5nn2pPZ+v2grbu4uKBPP8rkuj9ghVlJn1nPfw7L7HLmhVexOitUh4SdRVPwgMdycvnyZQ52fmXd5Nc78mXpyiL6Lh35crogCEIZEYMmCELdUNEDHmvBJd3IiP4qi+h741HRAx4FQRDWE1mCBEGoG8SgCYJQN4hBEwShbhCDJghC3VBFgxalR/uT9j3yhcLSiBOwq7qzB4inUgP2jE5NJuyBuKZIALs+T5eW/NjRFtv0pHSkG6PRnmzdp/tEm5aj35RuNf2n+9h7ejRleoiqMuz6vrQHiOftPyP59d+v1TNo0RBEFBRFQVFi+OfO1b2yy4sZ75SCEvNjU1PiATuWoJuYktJrBGufRZ0IUXosQdwxTd58LFnQ5teUUVCUKbzmKj1WrWLz4NGO0XiAc3O2tO6TaWGCePAQJKwdy1r9xtwELT1EU/2nqH2ouWdqZISpdNoIDrV+a/CI8Rwx7D+NfEVBiXjA5qajzvu1egbNMcJI+vyuGPPTVprqXNnrS5TBPvCPecmo0cFIzA/BsOoxaHXsYGTEkStGyEMzLjcEVUsVHezD6s4+UDMeDoJ7AJd1On1fDuYmrKusf+Cslb7B1UQyUXqcc7qxUZ9UeQ8t5RaHcKVWImF1xO8xZ7QCm5uwTs8Tw4HLM4rTKLyf7sOiDU2ywighhcV7FmvfINF4gHNzfgY6tLlxwkFwd5hxuDxMpxcRHdEQo7ZmLKtpgGOECE5ydmdW6L9oj5M5/9im8LqrbNBSbrGL0CaI76uNY0QNP1yh7H1LfcgyVf8r+epQFwVLH9azOh3FwwRRFxSHC8+0JuzUGpxzzcTWoF/HgJ+5c7oFp1D/RXtwzvkZ2wzWjKobtBQOXJ5pUls6wiowN2Gd1u3dgOq56TwCxwiKEsEzGkJexZSGY8CPDQ8uXTgRDweZThsuJ6Nows6UwYn5sU3Ps6ZhbvYy5g4yGC7m5s0TaqaomkGLB3o0HlmU0KiN5lX54Zuc2DzTADgY8EPfEe3qHaXH0gfuDszxAHZtrGJk6ISVMXuZytkeiRMOTuOJZG/C54SdZi9TEXCaeta0kJi9Z6GvT+33/GymUDNF1QyauQn6LKm43wkRebNWPJo/edGswGbvFDF3ULOf4oSIwpTXDOYO3HPOzD6LJYg7tXLr92Ak/C+NeJggfga0Vi4VdurdMccIMf8czkI6jgewW/pUj8/I+DkYiXgyl4b9FyU0CtN9Fk362gzpRqCiBzx2dXWtm3xBEIQa2UMTBEFYO2LQBEGoGyp6wKMgCMJ6UtEDHuVHJ1aP/GhHZRF9l04tnPBb/RYIgiCUCTFogiDUDWLQBEGoG8SgCYJQN9SEQZs8uYVte4ZYrHZDNgqJIfZv3cK2rM9RJnPSd3ExoS+8wMU9On2r5fZfWMiuQ3vPtaPZ9Z2c0LXjKJMGbcuSaSRDZfHCrqy8rHK1QoH2F9KrYX+stq8MytaVjtdI1Q3a5MktDNJNa7UbstFo8zGztMz99GeYvfr0WTehnaqhSZEIE6KbLoJMaCdQWzctV44YTCp1IhyClzX1vUyIyYZers76aG3zMbM0zF4m6N8ZxDWbuu9VWu7FCstQ81qvuDXP8yotp3bU1IQr1H6ggF4L9Meq+qp+dVwOqmrQFi/sYrDpDa56m6vZjPqloYkWXdJiNAidAzgfvUUoqh3MzZw4beVMYEJXYoGJK3B+VjWYKnufy77OYMXSkPp/O77n2leQMcHzp+D8C71sR1Nu1gdXwjXita+sg/x61WDQH4Xy8susRx2Xh6oZtMULuzjKGFePN1arCRub2/206kNO/T3XQlxuayaj4eSgdzka2Xuwmxn9YN43zMscoP+aJi0RJnRbO4EK0Y7zyW9zWB+OFZKRuMfdNjft+ryGJlpuz1MT/sOKOlhBryly+qNQXj6ZdarjMlElg7bAxJVbzJzakZyMO/uZud1Pq+yjFU++kFNr6J5pZua6ZlVOhAmhDux9Lrpu68IjYK/Xx91ndP2QbxIasPc5tT0HQ9l7OCXIqEkKtb+QXgv1xyr7qm51XAaqZNAaOXZdMxlT+zDaDhVWR8rQzfpo1a2+i9FgcuHYuoVtWw9wGYPwqKGX4c4gz6fOmWloosXA8K3IvmHuL71K14shJgvJyJeXuMfdWpmgK+igoF4L9Mea+6qedFwmqv5SQFgnGnq5Og6H06Fo0ivuGtcsJOPG4dH242fhVD8zALRz4lk4o9uwnjxpEOImhtifFQalJkwhGWre17Re4QT9O/uhs6NGFrhC7S9Srzn9USivgMy61XF5+NDKtwgbln3DzDy7i9atuzg/7iaEj+F92nwXXYfOMbHg1hVsxzfezeVnklfbj99khl20bt2SueXJV7mfGGL/zqTha906z8tLA7ju7GDb1tRNn+P87M3khMknIyuvP53VNb7MVW1bq0x+HYQZLFavuv4olJe3rxirWx2Xg4oe8Hiw8yvrJr/ekS9LVxbRd+nIl9MFQRDKiBg0QRDqhooe8FgLLulGRvRXWUTfG4+KHvAoCIKwnsgSJAhC3SAGTRCEukEMmiAIdYMYNEEQ6oYqGrQoPTk/X1+91mwo4gHsWboz0RPNuYmA3YTJHiCuLae9Jk7AbicQ1crrIVqU/E1ItCdLJ6aeqIFOyaQZ6NFkUvVt1A9x7bWu71JyNbLsMmFyqLKH5iGiKCiKgqJM4TVXtzUbCpufWEp3MT9zTp3RiYcJ4sFDkHBq3Js7cGuv42GCuOlweJmK+bHZ/MSUERzFyN9kxAN2TE4041UhQogVVaLVY2qcO/L0g1l7res7ovRYgrhjKTkRrPOx9XjUDY2EnPWAOWmQ5s5lVvR4OAjuAVzWaYIZi0aHm8x1bB7cHay4jhjI31zECQfBH1ONvYpjJPu6eAr3g3HfAVhpSneWg5GR1dVez1TZoI3iFPe5PJibsE7Pk1yzkxPQ3WHG4fIwHQynDZG5ycq0urJHQ6NYm4p0i7PkbzLiYYLTWmNSAtN9WLQhpxpG5u+HfH3nwOVR58tmdpVXoIoGzcGIonGf+47IHlq50IYwDheeaU3o4nDhGQ0RJc69OQ8uWeSLw9aMZVXldCHnlDfpieXrhwJ95xhRZbhCmT08IYsaCTktNNuq3YYNTvwec+qki4eDTKc9AyejaEMXBy7PHPeiYYJWV/Ehk0b+psPchFW7KJQF434o3HepoiMoSkQ1iIKW6hm0aE9mk3ktLr1AcsO4D+tZL2bihIPTeCIaryCSHXY6XFb6nH1Yi3bPtPI3Iw4G/NBn6ckyINGeHqIGxi4eDjJtbVpRV7n9UKDv4gHsWo9sMy8whXjrrXeUS5cuKW+//baynly6dCk7IeZXbKCgfjyRda2+vtDpDmyKP6bJs/mVWFaBiOLR3qNEFA8eJWIoz6NECsnfxMT8No1OUEgNWr2+UvrP0aNelwb9kLfvYorfJn2yEhU94LGrq2vd5AuCINTIHpogCMLaEYMmCELdUNEDHgVBENaTih7wKD86sXrkRzsqi+i7dGrhhN/qt0AQBKFMiEETBKFuEIMmCELdIAZNEIS6oboG7dpRtm3dwratW9h/YaGqTdl4LHBxT1J32/YMsZgYYv+eIRa1t+SkqWW0aYkh9uv1byRrM6PqaFvW5yiThum7uHhNn76Li4l8sgrlFSFPZfHCrqxym3U+Vc+gXTvKtkPw8tIy95eWuXq8sWpN2Zg0cuz6MvdnfbQWWyQRJkQ3XQSZ0E6Itm5arhzJmSSChjYfM+pYTX6G2WuYfpNjjbr0WTehnUeZNJJVKK9IeYsXdtF6xa0p9yotp3ZsSqNWNYM2+coc52fVQSFUhMVoEDoHcD56i1BUO9ibOXHaypnARNXaVtc0NNGymryiykzw/Ck4/0Iv29Np7fhmfXAlvOm87CoZtAkiL4lRu/MAACAASURBVN7izM6Mi9x/rTot2TwsMHEFXI5G9h7sZkY/2PcN8zIHpB/ycbufVn3IaZRuFKpfC3G5rRnDGESfV6q8xD3utrlpb9Dd09BEy+15NpuPVsU9tO50uHl/1sfdQxq3Wyg/iTAh1IG/z0XXbV3YCez1+rj7jOydGVJsyHld9ZS0humZZmauazyoQnmrkSekqY23nA0duNrmiMkezrqxGA0yk54UB7iMPuwEGnoZ7gzyvJwauHZShmnWR6veUyqUV6q8hiZaDBanpOeWxyusY6pk0NpxPvltBlOblokwodtWLHq3WViZhXlmwHBgL0aDzDzaxHYWmLhyi65xzco/bhB2AtuPn4VT/UmZwtpp6OXqOBzeahCBFMorWl47J56FM1/TetYT9O/sh86OTefFVc1D2/vcG7iu7Ei60DuDuOQFQQlM0J8KPw7NqRvC7fhm3YQ0+5KtV9zMPNeuhps+TuzTiEiFnTnuQTu+8e4KPssGJ2dvbRcX9TrdN8zMs3McLiavVHkJ2H78JjOdQU25AzC+Of9yoKIHPB7s/Mq6ya935MvSlUX0XTry5XRBEIQyIgZNEIS6oaIHPNaCS7qREf1VFtH3xqOiBzwKgiCsJ7IECYJQN4hBEwShbhCDJghC3SAGTRCEuqFqBi0esGMymbI/PfIlwuKJE7CrerMHiKdSdXq1B+KaIgHs+jxdWvJjR1ssp05NfanyOfXYe+ix6+VmtylvW/PKDBDPam8P0XR2gedeK6k6deMz2qPTRQH9aNvWE82fZzLZCUT16bn9sa7Pu4GpmkEze6dQFCX9iXjA1mypVnM2IGa8UwpKzI9NTYkH7FiCbmJpvUaw9lnUwR6lxxLEHdPkzceSBW1+TRkFRZnCazaoMh4miAcPQcLa+WPzYA0e0U26ZgamVHkxPzZNHVNe8wptzScTMHuZSssbwbHic5cJmwfP3LlMe+IBzs3Z0rovrB+NfmN+5pwao2ake4u+jJugJdt4r/vzblBqI+SMBzg36uGs4SwSiiPKYB/4x7xktOhgJOaHYFj1GKw0mTV5I46SaoiHg+AewGWdJpg1Y5sZOGulb7BYD7uYthYrsxhZ5aAZl5v0c0cH+7C63Vl35NePBtUgz50LFN82cxPW9EWlnndjUhMGLTrYB/4BSpteQhbxe8zZ3HTo1wRzE9bpeWI4cHlGcRqF9tN9WLQhjt1ossUJB8HdYcbh8jCtnzyOESI4KWrXYMW2liCzWFllwOI9i7VvkGg8wLk5PwMdWQ0prJ98bStG99EQo7ZmLFDR592IVN+giXdWMRwjaojiCmXvWerDnint6q8SDxNEnUgOF55pXVgFOAZK9DyKafM6yFw96qJg6cN6VqejIvRjSD7daw3duWZiRn0i5FB1gybeWZkwN2E1mkTxe8ylVvcUjhEUJYJnNESxQWI8HGQ6PcmcjGIQVpm9jLmDDIbL2NaVZJYiqww4BvzY8ODSDdii9FNK21KGLubHpvW8Kvy8G43qGjTxztZObJ5pABwM+KHviNabidJj6QN3B+Z4ALs2ditpAsQJB6fxRDSeRMQ4rDJ7z0Jfn9qmfKzQ1pJkliZrzZi9TKkvIzIUr59U23I8vEL1RcCZfqNb4efdYFTRoMUJHBHvbHVE6UmFI8659Aax2TtFzB3U7Mk4IZJ8q4i5A/ecM7NXYwniHjMIb4z+TCAeJoifAW1HpcKqnE0bByMRz4pPULCtOWhkxgPYLX2qN5Sc5KXJWgdW0k+Wfs/RHFNIv48x0r1ep44RYv45nGq/VP15a5iKHvDY1dW1bvIFQRCqvocmCIJQLsSgCYJQN1T0gEdBEIT1pKIHPMqPTqwe+dGOyiL6Lp1aOOG3+i0QBEEoE2LQBEGoG8SgCYJQN4hBEwShbqieQUsMsV/7c/eJqrVkg7LAxT2q/vYMsahP16Ylhtifc88uLl7T9sFRJrP6RNM31/Tpm6y/cvSHbvzm6mXxwq6svP0XFrLKpa/zyRdWRZUM2gIXvxbENbvM/aVl7o9bOfM16dDSaOTY9WXuz/po1SYnwoToposgEymj09CBS3udCBPCTfu+Xq7O+mht8zGzNMxegDYfM0tqvywtc3/pJscademzbkI7jzJZwaetSYx01ZA0Zq1X3Jq8V2k5tSNjxNq6ablyZHMtChWiNkLOxubsSSmsmsVoEDoHcD56i1A05QU00t5J5nphHjo72L7aShqaaClDW+uTCZ4/Bedf6NXotx3frA+uhNVFu5kTp62cCUxUq5F1S5UMWiPHrp8ltlN1yXcGcWUNAGF1LDBxBVyORvYe7GYmPYFg+w4rM/eS33qefOXbtOxoNBZxu59WbRhlFApdC3G5rZk8EjYPRrpK3ONum5v2Bt29DU203J4nHWjuG+ZlDtB/rcJtrnOq5qFNnjwA48vcX3qD8223ZLUqB6lQsgHY56LrtibM3Oei68UQkywQu9ONc18eGfow6rq60Ggn7zPNzFyXBSivropkr9fH3Wdkq6WcVMegJYYYvOPjxD5IemtvcP7OOdlTWCOL0SAzacNzgMtow852nE/OEbsWJvSoK7lfVgqpyTvro1XraQjZNDTRol1IUiTucVfv1Tb0MtwZ5Hn5sbOyUR2D1tBEy+1+nk+524kwodtWLHo3XViZhXlmkv9h4sotusY1HsN4dti596CVM4f6aTnYvvr6Gnq5Og6Ht8pLAWPaOfEsupdcE/Tv7Dfct9x+/Cyc6lf7UFgrVQo5k5ukdw9p9tBmh0v3GjYtE/Snwr9Dc8kN6ESYECmvV8Uo7EQTbiaG2L+zX/XqVAOl3xfauouLends3zAzz85xeDP9+UaWXgroKgHbj99kpjOoyUtur1w9brTr2I5vvLvCD1O/VPSAx4OdX1k3+fWOfFm6soi+S0e+nC4IglBGxKAJglA3VPSAx1pwSTcyor/KIvreeFT0gEdBEIT1RJYgQRDqBjFogiDUDWLQBEGoG8SgCYJQN1TRoEXpSf+UfQ/ydbYSiAewp3WX/PTkKDBOwG7CZA8Q15WzB+LZsuwB4lkye4ga1GEy2QlE1fsr8qA1QtzgmQ31ptOTPi2uKZuvHzIJa+g/3ZjI18a4Wke+dm5AqmTQ4gTsTogoKIqCEgHnZpska8XmJ6ao+ov5mXPqjFo8TBAPHoKEtYq1ebAGj+QOWrOXqZgfm81PTBnBoa9DUVCUKbyWdX+yjUc+PWX1kZugRbNw5+uHFKX2n74d+jFh1EazGe+UJi3iAZubDnOZ9FIFqmTQYsxPe3A51EuHC8/0PLHqNGbjoxqjuXOZRSEeDoJ7AJd1mmDWjGhm4KyVvkHxiSuKuQlrVkLhflhz/xmMicJE6XHO4R/zsoHtWTVDzjnupTVtodmmvRZKxtyENb0oxAkHwd1hxuHyMB0MZw9qxwgRnAZhqo7pPizacGQze9F6XVj6mM6XZ6SnaIhRWzNZDm7efihT/2nHxAptjPY4mfOP4d3I1oyqGTQHIzE3QUtKwRb6pq00bXBl1gzxMEHU0MHhwjOtC1sAx0ARq7c+TJna2Kv3mtDrIubHli8vpSetETnXTMxAf4b9UK7+K9R+bVuiPTjn/IxtdGtGNT00s5cp7eDQr15CacTvMafqMB4OMp2eTE5G0YctgNnLmDvIYLgqrd0cpIxIzI8t35aKQT+Urf80YyI/9RFqpqiBP9uIEzjSB+6OulBodYjSY+nDetaLmTjh4DSeSPZmb07YApi9Z6FPEzoJ64PZy1QEnHne5mf3Q7n6Tzsm8lMvoWaK6hm0aE863Ay6Y0zVi0YrRdaeyDmaYwojDtRwxc+AQ3NvKmzJcREcjEQ8yf/GA9gtfapnoE48/b6LyU4gpk+XP7nJqyctjhFi/jmcRnlZ/bDK/stph2ZM5GtjPEpoFKb7LJr0jd2fFT3gsaura93kC4Ig1EDIKQiCUB7EoAmCUDdU9IBHQRCE9aSiBzzKj06sHvnRjsoi+i6dWjjht/otEARBKBNi0ARBqBvEoAmCUDeIQRMEoW6oAYM2Qf+eIRa111u3sG3rFrZtPcpkFVtW2yxwcY+qJ43+Fi/sUnWX/Oy/sJApkhhivz5Pl5b87OJiguxyWX20QlqWTLUPjereKKTafnIiK3nyZLbu032iTcvRb0q3mv7TffafPJqtP1VGTl/m6Fpbh5F8Xb/WIVU1aMnJd4DLmrTJkwdgfJn7S8vMPDvHYd0gElI0cuz6MvdnfbSqKYsXdtF6xc3MUlJ/95depeXUDnUiTNC/M4hrVpN3T/0uTZtPU2aZ+0s3OdawhqY19HJ11kdrm4+ZpWH2Fqp7o9DWTdedcxmDkBhi8M7n0rpPpoUJ0U0XQSa0hkOr31k3oZ1HmUz135Lah5p7rj43rNNfsv6WK0eMDZJh/2nkLy1zf7wb2ty0r6VfNwBVNWjbj9/MmpAwQeTFbpz71HyHm9Y797K9ACEPEzx/Cs6/0Mv2dFo7vlkfXAmrOrRiadDkPddewfZVs+5y0IyzE0LRpJc0GeinpdOddcdiNAidAzgfvZW+L4eGJlpWWf+J01bOBFazwE/Qf2hONzbqkxoIOQvQ0ETL7Xk2UHBSPRL3uGu0Aqd12I7zyW9z2CB04nY/rdrQRB9KrpkCdW8gGo+fpeXUIJOJIQbv+Dih/QI5C0xcAZejkb0Hu5lJLyI6roW43NZM42oasG+YlzlA/zVd+gr9N3nyAHefHVub171BqG2DJpSVvc+p4cfBUHLgp4yLPmS5Xv6VPG/dGwrVMO/sp+W0TkeJMCHUBWWfi67bmrBTa3CeaWZmDfrd6/Vx9xndglOo/64d5fAdH8PHV2VCNxy1bdAS97i72tVss9HQRMtt3d4NGOtw3zD3l16l68VQ5V+6VLPuMrDX66OVzLZIisVokJm04TrAZTRhZ8rgzPpoXWvE0dDLcGeQ54s642fzhJopasygJVfAiOpSL0aDzDzatGk6Y1UszDMDQDsnnoUzX9O9Md7ZD50dbE8MsV/rFa11sTAwoHn7q9x1V5OGXq6mNurTLDBx5RZd49mb8DlhZ0MvV8fh8Brf3m8/fhZO9av9np/NFGqm+NDKt6wfixd20XrqFgCtW/vpGl/G99yrRLZuYRsA3by8tNE2jyvBBP3pt8Of4/zscNKIHL/JDLto3dqfvrNrfJmr+wA6cN3ZwbatqZzPcX72JtsZUkOifo38ZF7WRMi6p5uXl4bxzd5j/84tnEnd0+Zj5np70oDtTE641q3zvLw0kKfuOiERJoSPYa3Xts9F16FzTCxkvzhg3zAzz+6ideuuXB2n5en0N9usu6Ed33g3l59RLw377yyxF2GGHWw7lUpP9lu2Ma4vKnrA48HOr6yb/HpHvixdWUTfpSNfThcEQSgjYtAEQagbKnrAYy24pBsZ0V9lEX1vPCp6wKMgCMJ6IkuQIAh1gxg0QRDqBjFogiDUDWLQBEGoG2rAoEXpsQeIF50uEA9gN5kwZX16iOak2wnkKDBOwG7CpNWtWs6uvTkewK69J9qTXV9PVNeOHqIGbcuSaSQjXZ09K8+e2/Ds9pt0z1ABCrcxv14L9kexes1Xh5BFVQ1acoA4GS0yXdBg8xNTFJT0ZwSHPj3mJmjRTgggHiaIBw9BwtpZYfNgDR4xMIBqfzghoqkvQoio2ctUzI/N5iemjOAgSo8liDuWui+CdT5WWIaaZwm6Nc8TwdpnyWPUzHinFJSYH1uZVFkMuW2M4Z4Pa4xXPr3m74/i9bpCHUKaqho0s3fKcGDmSxdKxNyEVZcUDwfBPYDLOk0wa1Y0M3DWSt+g/hiHOOEg+GOaiQU4RrKvM1hpMqfvYmTEsYKMKIN94B/zYkZTLuaHYLhGPBGjNprxjmSu8+tVQ1Z/lKrXIuvY5NRAyCmsiuk+LPqQU39PNMSorRlLOiE5idwdZhwuD9N6g+EYIYKTHq2geJjgtNZIFcKByzOKUxdOFpQRv8eczU2HPs/chHV6npo4qDtfGzM3FNZrCm1/lKTXEurY5IhB26jkCzm1hu5cM7EpjVcRDxNEnZgOF57p3NDFMeBn7pxujybLKBbGMaK2xxXK3icrQUZtY7CHV0ivhfqjFJ0U0XeCGLT6I2XoYn5sOg8nHg4ynZ5gTkYxCF3MXsbcQQbDqesmrKuZPI4RFCWCZzREtJCMfHnxe8zVihHMamPuHl5BvebrjxL1WlTfCWLQ6hazl6kIONOhaJxwcBpPROPVRYxDF7P3LPT1MQ2AgwE/9OleLkR7DELceAB7VqiZMkqFZKh5R7ReYZQeSx+4O8gbkcXm1fap9WpD7pWuS8aojWnhxek1pz9K0GsJfbfpeeutd5RLly4pb7/9trKeXLp0KSct5rcpQPrjiRROF1RifsVm8yuxItKTurQp/ohRmYjiyZcX8Sho0vR9gieSrC+d5lEiSkzx2zT3YFP8GqGGMvLkGfd5RPEYyY75FRseJaIUeb1K9G20+WN5+iK/XtP9ESugE71eC9WRMwg2NxU94LGrq2vd5AuCIEjIKQhC3SAGTRCEuqGiBzwKgiCsJxU94FF+dGL1yI92VBbRd+nUwgm/1W+BIAhCmRCDJghC3SAGTRCEukEMmiAIdUMNGLQJ+vcMsZi6TAyxf+sWtqmf/RcWqtm42uba0bSetm3dwraTE5rMBS7u2cK2ArrdtnUXFxOaPO29GhYv7MqqJ6tPNkN/5ehtC9u2HmXSMH0XF6+toGcjHWbpPn/fGZYzaEf/tUJt38XFhFpHvnZuUKpq0JIT5QCXtYkL87SML3N/aZn7S6/ScurIhlfyerB4YRfbDsHLSyldLfMyISZTNyTChOimiyATWv21+ZhJlZl1E9p5NFMmTz2tV9yZMkuv0nJqhzqxJujfGcQ1q8m7VxMH/pQfrd6Wlrm/NMxew/SbHGuksJ7bumm5UmBc5+27AuWy6vNx95DGqBm1saGRY9c1aePd0OamvaEs2qoaVTVo24/f5P6sj1Zt4r5hfPtSFxYsbZVvV+2zwMQVOD+rTiqVvc9lrhejQegcwPnoLULRPF5TQxMtBeuZ4PlTcP6FXran09rxzfrgSlj1HqxYGjR5z7Wv6onqmhw9N3PitJUzgQnD2/P3XeFymfp6uTrr4+4zxh53LhP0H5rT9fPGpAZCzgIkwoTY+KtG2UmECd3WGhI9SYPncjSy92A3M2njo+NaiMttzTTmreced41W7YYmWm7Ps0A7zie/zeGccLcOud1Pqz7kNEo3CtuN9LxvmJc5kPGi0qzQd3nL6Uj30cptnDx5gLvPjnGsDuZZDRs0NZypg1VjXShoiDQLwT4XXbc1oYt2cD/TzMz1tel373NqyHIwZLCPV0cUG3Km9FmEnvd6DbyoQn1XqFwpbde25dpRDt/xMXw872jaUNSoQZugf+s5LLM362LVKDsNTbQYDPQUi9EgM+kJdYDLaEKX1OCe9dGaWsFLrSdxj7sGHsf9pVfpejFUcE9u01CMnht6Ge4M8rzmALSCfVegXA5GfZRD/YSaKWrPoCWG2C/GbAXaOfEsnNFt6E+ePMokC0xcuUXXePaGb07o0tDL1XE4vLXQSwG1nq9pvYEJ+nf2Q2cH2xND7Nd6ZEVNok3GCnrefvwsnOpnBqDYvssppyfZRy2nCxuqego1U1T/LefO/vSK1H9NXaG4xZmddf6nAGtk+/GbzDw7l9y/Uj+HcbE3ESaEjxP7NDenQhe9GvcNqzJ2cXEB3V5LcgJuP36Tmc6gJv0AjC9z9XgjNHTgunMgszezGbcIcvbWVF1q0es5i3Z8493J/5bSd9pyOe04h2V2OfNyzaiNiQkiL8LMqR25+4IbmIoe8Hiw8yvrJr/ekS9LVxbRd+nIl9MFQRDKiBg0QRDqhooe8FgLLulGRvRXWUTfG4+KHvAoCIKwnsgSJAhC3SAGTRCEukEMmiAIdYMYNEEQ6oYaMGhReuwB4tprkwlT6tNT6Atrm5k4AbuqI3uAeDyAXas3kwmTyU4gDujy7IF4Mi1L72SnGZXZrOTotoeoYbqq86g+Xe2HQmXimv40KicURVUNWjxgx2RyMqpNjIYgoqAoCooSwz93TjrVEDPeKQUl5seWSrL5iSkp3SkoyhRec5QeSxB3LJUWwTq/0iGMqylT52h1GwFnyvAb6dyiS4+5CVpUI5ivjFntz3QdHrC56TBX7Yk3JFU1aGbvVPaEBHCMMOJIXcSYn7bSJJ26RrQ6dDCSUXCZy2wSHC480/MUbeLNTVhLqiBKj3MO/5gXGfqlUQMhpxEp9zuESxlBplKRTPdh0YYs9gBxHLg8ozhLCt9XU2bzEA+cY9TWjAXy6FxHNJS5v4gy0R4nc/4xvGLNSqZGDVrK/XYRkn2E4tGHMlPJFd4xol67QkXvS66mTF2jMUKWoJuYqtt8Os8yWueaM/cXKgMQ7cE552dMrNmqqFGDlsKByzPNZt++KRuOERQlgmc0RNHmaTVl6hGtEZoqIhRM3R/zYys6PJVQc63UnEGLB3o0HlmU0KiNZkuhEpuc2DzThfLjAexa7yp+jzlbMxZzE9bpIGGN9xsPB5m2NmHOV6bcbd8MmL1MRcBp6llxQZBQswy89dY7yqVLl5S3335bWU8uXbqUkxbz2xQg/fFEFEWJeHLTBB0RxZPWkU3xxxRFifkVm0ZvmbyY4rfp01Qx+jI2v5LMKlBmMxLzK7a0bnTpRjqP5N6fHOtqnmE/afs09fEoMvxLo6IHPHZ1da2bfEEQhJoLOQVBEFaLGDRBEOqGih7wKAiCsJ5U9IBH+dGJ1SM/2lFZRN+lUwsn/Fa/BYIgCGVCDJogCHWDGDRBEOoGMWiCINQNNWDQJujfM8SiQc7kyS1sy5MnACxwcY9OR4kh9ut1lhhi/9YtbMv67OJiQiNjq17XeWRv3cL+CwvZsvcMsWhQR/+1fPWn6s6weGFXVtmsOmoCnZ6ynukok6nrkxNZpdJjOF8fXCtNp0ndadpSQKebkaoatOQgPsBlg7zJk1sYpJvWirdqA5EIE6KbLoJMrDSY23zMLC1zP/25ybEGgEaOXV/m/qwvW9f5ZLd103LliPHk0dYx6+PuIY1Ry8pzE9p5lEk1a/HCLlqvuDXte5WWUztqzKjp9NTQy9VZH61tPmaWhtkL0NZN151zGd0khhi887mMXo36oJHidZruN7UtqbTxbmhz096w7kqoeapq0LYfv5k7kUgO8MGmN7jqba5KuzYKi9EgdA7gfPQWoWh5J39+2c2cOG3lTGAib1kgPeHvPmPgYTc00ZK+mOD5U3D+hV62p9Pa8c364Ep4g3nnzTg7SetrMtBPS6e7qHJF6dSQCfoPzen0t3mpgZAzm8ULuzjKGFePN1a7KTXOAhNXwOVoZO/BbmZWmvy3+2nVhigFQ/kVZO8b5mUOZLyvfDQ00XJ7nhxTey3E5bZmGgES97hr5F3kK1vjNB4/S8upQSYTQwze8XFCezppoT7Ip9MV+m3y5AHuPjumettCjRm0BSau3GLm1I5k5+3sZ+Z2P62yj5ZLIkwI1RDsc9F1e4WwUx+6XC+wohche683j/eVD+3EfKaZmUL1b2jacT75bQ7v7KfltO4ZV+gDQ50WKnPtKIfv+BiWxT9NjRk03d5Aao+ibgf/6lmMBpPGfusWdR+yfGFnUbIbehnuDPJ8oUO+Eve4m/LEUhNz1ker1vNqaKLFyBhry24w9np9tNKNc1+JBYvRaRoJNY2oMYMmFEfSk+0az94YXjHsLChynpkSZW8/fhZO9avl9EzQb+SlNPRydRwOb029FGjnxLNw5mtazyRZls6O2pusaT0VoKGXq6kXBSVSWKcZJNQ0pvpvOVNhpfY1v1CYRJgQPk5oPYBUaLiAbt9FNRz6vZitu7iYmKA/dZ1a7VeSnUU7vvHuzGVWHeewzC7jM/JS9g0z8+wch9U/Ndh+/CYznUFN2QMwvlxD+6hGehpif3rsZt7YFsSoD0rSaabfIi+S2ZrR9vMmp6IHPB7s/Mq6ya935MvSlUX0XTry5XRBEIQyIgZNEIS6oaIHPNaCS7qREf1VFtH3xqOiBzwKgiCsJ7IECYJQN4hBEwShbhCDJghC3SAGTRCEuqEGDFqUHnuAuPbaZMKU/tgJxAsU34zEA9hNJkw92V/6i/aYMNkDxFP5JhMmUw/RdDG7Rq8m7IF4UlaW/smkZcnR9EfUoEw9k6MHzZgsWn89RIkTsBvoc9Mocv2pqkFLTjAnozk5HiKKgqIoKMoUXnMVGlfr2Dx45s5lTaxzczZsAGYvUzE/NpufmDKCg6SuLUE3sbReY7jnwysbJZtfU0btD8t6PliNotVDzE3Qklko8pLTD2a8UxpdRjxgc9Mh47tsVNWgmb1TKDF/chIKJdKMyw3BcNIkRQf7sLrzHSYYZbAP/GNeMnPHjHdEey0UjbkJ65qFROlxzun6RFgrNRByGjGKUxsWCYZYvGex9g0SjQc4N+dnoCPPjfF7zK3WE5juw6INkTZTqJmPaIhRWzNrcVSjPU7m/GMSfZSZGjRoDkbS4U0Ea98R2WPIiwOXZxSnpQ/r2WJXes0+TjHGSR9yTm1Sj0Jr2M81E1uLHqI9OOf8jIk1Kzs1aNC0WGiWeLQgjgE/Njy4HAVuMjdhnQ6SjE7VfRwJ9UsjZdhjfmzT88RWLUhCzfWk9gxatIf0y7t4mOC0lSbp+fyYvUypG//5cTDgh74jBh5ZlrFLEg8HmbY2yYQzwuxlKgLO1NvjEvUnoeY689Zb7yiXLl1S3n77bWU9uXTpUk5azG9TgPTHE1EUJeZXbPo0IZuYX7HZ/EosX3qWDj1KJJ2drW+bP5Ypp0knJVufDgrYFH9En56poy4x0HdSlzbFH1OK1J9HiSgRxZOjzzrXXYWp6AGPXV1d6yZfEASh9kJOQRCEVSIGTRCEuqGiBzwKgiCsJxU94FF+dGL1yI92VBbRd+nUwgm/1W+BIxUSwwAAIABJREFUIAhCmRCDJghC3SAGTRCEukEMmiAIdUMNGLQJ+vcMsahNunY0/RP3+y8sVKthtUtiiP1bt7Dt5ERW8uTJLWzL0uUCF/fo0lJl059dXEwY5R1lspAco/ZoPv3Xsm9ZvLArKz/dr4kh9ueRW7BMUc+gy9fllTS2CpYtRs9qO64l07PKp3Wgysn3bMKKVNWgJQfsAS5rE68dZdsheHlpmftLy1w93lit5tU2bd103TmXNZEH73yOVu09iTAhuukiyIR2UrT5mFH1e3/WTWinarwaerk666O1zcfM0jB7V5JDPpk+7h7KGLXFC7toveLO5C+9SsupHQUNyopl8j2DPm9pmftLNznWMEH/ziCuWY28e8V+xXyFssXoOdWORqCtm5YrRwwMVSPHrmvuH++GNjftDUU2U6iuQdt+/Cb3Z31Zk3DylTnOz2omk5CHZpydEIomJ/hkoJ+WzuwDHhejQegcwPnorfR9OTQ00bJCTUXJyZKZNIx3nxlikQmePwXnX+hle/qGdnyzPrgSNvb4Si1TxDMksWJJG4d2fM+1F1VqpbIl64dmTpy2ciYwUeCeCfoPzel0IKxEDYScWiaIvHiLMzvzhy5ChsbjZ2k5NchkYojBOz5OZB25scDEFXA5Gtl7sJuZfMbjWojLbc3k94OLlKOnoYmW2/MsJO5x18jLSOUblS21jP4ZbvfTqg3b9gyxSDvOJ7/NYYNQfWUKlS2gH8N2qOwb5mUO5B3fkycPcPfZMY6Jd1YSNWbQALrT4WYydNHu5QjZqBNtZz8tp3UreSJMCNUo7HPRdVsTDmkn2jPNzFwv4AUUklNNCj2DPtRT8/Y+p14fDCXLlWDY8pYtpJ887UjL9Ka8WB3XjnL4jo9h2W4pmRo0aBoaOnC1zRGrhQlUo+z1+milG+e+7PTFaJCZ9KQ/wGU04VBqos36aM3nJRUjpxCJe9xta6axoYkWIyOYyjcqW0yZEp4hh33D3F96la4XQ6Uvlrqyq9YPQEMvw51Bns/6tRUJNddCjRm0pMcxmH6bFSZ0W7t3IeTQ0MvVJf2e4wITV27RNZ69wZwTLjb0cnUcDm/N5wUXKSeHCfrTXmM7J56FM1/TeiLJfDo78kzaEsqs+AwqiSH2az2yQga16LKr1U+G7cfPwql+ZtRrCTXXRvXfcu7sT69w/ddg73Nv4LqyI+nW7wzikhcEpZMIE8LHCa3XlgqH9M7DvmFmnp3jcOpPCtL9cZTJQnL03lPWftE5LLPL+NRy24/fZKYzqMk/AOOaN9hZZZOGacUy+Z5hQS9P/dMHOnDdOZBJ2xnEVawX1JCn7Ep6NmpHjvPWjm+8W/3/BJEXYebUDk0Z2XIphYoe8Hiw8yvrJr/ekS9LVxbRd+nIl9MFQRDKiBg0QRDqhooe8FgLLulGRvRXWUTfG4+KHvAoCIKwnsgSJAhC3SAGTRCEukEMmiAIdYMYNEEQ6oYaMGhReuwB4upVPGDHZDJlf3qiBSVsOuIB7Bqd6TIJ2E2YtPlG96fS4gHsWfq2E8gRbCBzE6Ifm3aNovLmqfrV3pvpD1WvefVfQl/q54zJTiC+kvz6o6oGLTkInIxq0szeKRRFSX8iHrA1W6rWxg1HPEwQDx6ChIsduDY/sZTOY26Clh6ylpDVyKwz4gE7lqA7oyclhns+TNwwL4K1z5IxYjYP1uARA0NixjuVGetKxAM2Nx3mVKUl6F3bh4qCokzhNa8gvw6pqkEze6dQYn5s+W6IBzg36uGst457oMzEw0FwD+CyThNcjfUxN2Ett8wNT5TBPvCPecmMRDPeES9mwzwHIzE/BMOqJ9XMwFkrfYOFIo0oPc65LDnl1Xuu/HqkBkLO/EQH+8A/gGPlWwUA4oSD4O4w43B5mE5PqBKIhhi1NZPxicsgc6MTv8dcPs8mX565Cev0POmDuh0jRHCSb/ck2uNkzj9GZu0uUe/TfVi0oaUuLM2VX5/UrkET76x04mGCqJPL4cIzXWSIqJ0M55qJTWlW8dXKrFs0+1Il7ik6BvzMnTMoE+3BOednTDvWS9W7PuTU9qGR/DqlZg2aeGelEw8HmU4bJyejFBmqpCZDzI9N61WsRWY9YW7CmjYo6r5UaqskK09D/B5zWZ4uYPYy5g4yGNYmGoeC5dP75gg1U9SmQRPvbBXECQen8USyN4Gng2HiBpMuHg4ybW3KHuRmL1MRcJpSLwUKyKzos1UbBwN+6Dti5JEZ5UXpsfSBuyPHiJi9Z6Gvj+nUnYahYPn0vllCzTRvvfWOcunSJeXtt99W1pNLly7lpMX8NgVIfzwRRVGUmOK3odj8sXVtz4Ym5ldsGr2BR4nE/IrN5leytRZRPNgUf8ygTOpeg3LJfrEp/sgKMjcZ+vGqHaPGY1kx1K8S8aj6jyierH4soi8jefo+R45N8cfyyF93TVWPih7w2NXVtW7yBUEQajPkFARBWAVi0ARBqBsqesCjIAjCelLRAx7lRydWj/xoR2URfZdOLZzwW/0WCIIglAkxaIIg1A1i0ARBqBvEoAmCUDfUgEGboH/PEIupy8QQ+7duYdvWLWzbuouLiWq2rUZJ6ejkRFby5MktbNPqkgUu7tGlZelXp+OsvKNMFpKjz9ua+9l/8qiuLrW+a8W2QZevy9t/YSG3HYZtXCOJIfbnkbt4YVf2M6falPMcqj7zPp+RHmX8l0pVDVpyMBzgcjplgYtfC+KaXeb+0jL3x62c+do6DNB6oK2brjvnsgzB4J3P0aq9JxEmRDddBJnQTow2HzNLqo5n3YR2qpOtoZersz5a23zMLA2zdyU5ADRy7HpKVqps8vqqtzm7rqVl7i/d5FhjgTbo25cq0zBB/07N2Fh6lZZ7mq/RF2zj+rB4YRetV9yatr5Ky6kdGaOmfY5xOJwyiobPp9Hj0jL3x7uhzU17Q2WepV6oqkHbfvxmchLku6GxOX/epqcZZyeEosnJMxnop6XTnXXHYjQInQM4H72Vvi+HhiZaVqipKDlroYg2JLFiSU/wdnzPtVeujTlM8PwpOP9CL9vTae34Zn1wJZy7CO9z0XV7nuJaNkH/oTmdbKEYaiDk1NLIsetnie1UXe6dQVzSqXlpPH6WllODTCaGGLzj40TWWUsLTFwBl6ORvQe7mTGaZADXQlxua6Yxby1FysnH7X5atWGUUeimb4NhmXacT36bwwah9prbuBoS97hr5EE1NNFiYLgWL5zLPOMKOpk8eYC7z45xTLyzkqkxg5bsTMaXub/0BufbbnEmoB+8QgZ1ku/sp+W0zvAnwoRQJ9w+F123NaGYdkI908zM9QKLRiE5xaAPr1J1FWpDnjJ7n1OvD4aS5VKGba1tXC80z9h6xZ15xnw6Abh2lMN3fAwfz7/ECPmpLYOW8jT2QdJbe4Pz2n0iIYe9Xh+tdOPcl52+GA0yk55QB7iMJhRLTahZH60rhEEF5ayFEtqQw75h7i+9SteLISbXs42FaGiixchwJu5xN+WJaQ1XoUUjjYSaa6W2DFpDEy23+3n+mnqdCBO6rd03EXJo6OWqdgMfSIZgt+gaz95kzgnFGnq5Og6Hs95orkLOWttfsA0qiSH2a0PNtOGoQBsNaefEs+heWk3Qv7MfOjtWZZAk1Fw71X/LubM/vbr2X0tuqt49pNlDm9VPVmFFEmFCpDxdlVQopndc9g0z8+wch1N/TpHuj6NMFpJTrNes3y/auouLhdqwkKcMHbjuHMikpfZXy9HGkp8jaXy3H7/JTGdQk57cLrm6Urho9HyJCSIvwsypHbl/6iEUTUUPeDzY+ZV1k1/vyJelK4vou3Tky+mCIAhlRAyaIAh1Q0UPeKwFl3QjI/qrLKLvjUdFD3gUBEFYT2QJEgShbhCDJghC3SAGTRCEukEMmiAIdUMNGLQoPfYAce21yYTJZMJk6iFaxZbVPnECdhMmrf7iAewmE/ZAXHNbAHuWjg3KCSsSD9jVcZn82DU6zpun9oepJ3skR3tU/afysz52AnG1j3LSK/e8G5GqGrTkIHAymkkhYHdCREFRFJQIOGXS5SceJogHD0HCWiXZPFiDR/IP/nzlhLzEA3YsQTcxRR2bSgz3fJi4YV4Ea58lY9RsHjxz5zL9EQ9wbs6GLSXc5teUVVCUKbxmM94pTVrEAzY3HeaKP/qGoqoGzeydQon5Mx1LjPlpD67UuV4OF57peWLGxTc98XAQ3AO4rNMEsyxTMwNnrfQNGvu3+csJxkQZ7AP/mJeMPTHjHfFiNsxzMBLzQzCsLsbNuNykdR0d7MPqzj6Mc6X6e5xzujoEI2og5NQzx730HLPQbNNeCxnihIPg7jDjcHmYTk8eFccIEZz05Ni0FcoJucTvMZfPO8qXZ27CqlmMLd6zWPsGicYDnJvzM9ChuXe6D4s2tPz/2zufl7a2tY9/xHcqXPAvqCZHxBOcKNzo7KBobAuhQjq6lQvXaCnVJCD0QDuycApCYnso1d4D57SzbqhkkCaRSmc1hWYitognMU7vOyiH+zqWvIPsJGvv7MQk1fx8PhBwr7X2s9b+rr2etZ61zY4pKoktzXEYeo1PvNmFtJhDc7Gd8qDZ851rx59wMCQdWUo6goY+kFxuvInS8NG1FuJw3RSyV3GeUAllb6um7RAXbu9L5ux+HI9MKy1zyLmv5MeWmDsM8Vq8WVW0mEMDbD728x2bCuF0DmNvdptakHREI1GY2ed4iUX4aPPx2qOxEanxPMGIbQhHwfHre1v5rRJDnkL6mEPTvetaC+FE2VK5EAk1a6X1HFqBNJt3/OC5IZ1ZQpqIlsAbNW4aW4WPNt8j8PtJ1HieoOJiLQT+O1YrMqu8GEt2i3vX5mM/u021/kxCzdpp/lNOu7+wYliKAbGlQripeVLsS2+Wko6gEWJNHRn58LHkCYqL7aj34vPEo1XE5tsn5dGKe12KwyrJ68k9qa/63jXvofVMsJmOEX4JCb9dSZd/Y7qIhr7gcWFh4crsC4IgtHDIKQiCUBvi0ARB6Bga+oJHQRCEq6ShL3iUH52oH/nRjsYietdOK7zht/ktEARBuCTEoQmC0DGIQxMEoWMQhyYIQsfQPIeWecpM4Sfve5l5fqJnxAkU0pfZa1oD24D3ywX9+vt66V+Jl+ja3zfJi4xe3pCna1vSD3Fe/NRrtJvPW1k2nq+fW+w73d5PTzktJJzk7BnS2oxKmuqcPp80apXXpOTcXgLvq7Br1Vfl6inRnGKaRf25ek4s+rn0utqN5jm0kyNGds75dnbOt7N3jDy4w4sM7K1cBz09+eSQ2yvxpjWxlTl9Pkn/LXhzltfwnDeEczf+eJBkPv3AQ3hUHxADq+weBBkbD5I822KKOIFRDfeB0g/HcPdD/tx82dzx7rMt0/nA+CIjb++UHwiZCGEWWUAj3s6DpZym5Ppi7K2nmH/2jpEHPxSdmuHcIF9vKU6t6r6yqudP3MeRiycKtY6zc76dfeTuwGCxn8/O+bazCOMeZgeuQLsG0jyHNr1FcDp/YMc+DhAn+vsic3r6NZeHsS/H7TuzXxknxN/C4wPdqehMPTMeAzAwxEhFWw7shZt4luCz2RrbMsz9nx083LSeeE5jGsyvMffjJ8KxE8sybYdB0zi/PoDHv61yrZA2S/AgCG8tnI3uqL7+YrFirdhXVvUMcveZelwvcQK3Dk2225PW2EPLRAhjMTsMDDHy+YgOGQaXRyZC+LPqiCrwPsyr8WEGLTNnmfvnv7mdD1frZXqLN1wvrjoK5Byv2zXI1M1FklYDvB1RNc0c89VqZVPp3i2XV6mvytVTDZ8DjKmhpSk83Vu5ztcnr7nb5qszaAmHpoc9HTA7NJSyTgrjDfzLMMkP5bWdeqaHHDfDxX24OpjyWaw61Ilq2s3C5zYOO2vQ9OrtKvtf1exNmkNOtY73y9z+EmTrXtm7qa1oskOLE+hbx37w0Xp2yBzztdLA7VYGhhip5BzyN/BBkLFqV7jTW3w7e8fC7+H6HsQMrLI1r/Gr8n6b05hGsjBgr/OKNg47y2lari8q3btqXrV9ZahH3/86CDL2XRfVOaFmniY/5TQ7s1wIFNVDl9OYRvLHoY4R+/KY5f4TeDhqfAq8t2J6Kjywyu4O3C73tDjzlBl1RfadE8i1e4/gQYAkkAs3P7GwY9x4bvuws0RTvS/+pa6U4gRGAzB/w+LezeWN/GxyIhf1lWU9+XNLnWo1Y6eTQs08/3NxkavhNKaR5BPJ0V4e6mljT/5k99k7on299AOwyJuzWjepu4Nr9z6SZJKxvt5i4j/f8Y1jNtSC01skn0wy1jfJ4x0P4Vs5hzPWd8SbszXcX36gvy9f+O88PvhYfhBknjIzqpx/MGwqMEtwZ5FXv6CHm0G2ppXsaTcLt9aJZ1bbexCpmh585G6hLwKFIgs75+xOAxn0sDKf93ceH5znrt+8qqvYV1tMWdQz9uRPrjFI8OCYGWUsMR4k+WEWMsem+vNteETqd0jyA/0P8umLuXouTajG09AXPN6c/8eV2e905MvSjUX0rh35crogCMIlIg5NEISOoaEveGyFJWk7I/o1FtG7/WjoCx4FQRCuEpmCBEHoGMShCYLQMYhDEwShYxCHJghCx9A8h5beZKLwE/c9TGymTQViLE1sYk4VKGq3FDMkx5Z66DFolmZzwpRm0r2nZ4Kc9HrZntLPRKFvLOx1A1Xqnd6csNatrOZWeXp+LJc+oY6L9CYT1dTXxTTPoaWOcESzZLNZstkoDv8div0/QU/PHC+b1rg2wOnFe7huGBjrh06capl0BA0vXjQi6r3uDJHK6tqnPGj2JWLY8O3n00I4lTL7Pltle93ABXqnNyewa56irtkoDr+96GQsNac0L5slm93HZ8/V6dCK40Llwvq6lOY5NNc22678gZ1hZSTafPu5QdWMdrUNw7g9oOmeJbbhx+HxGEqkIxp41nA7EoVyJdiGcFRZY1X2OpZKesfY8EPotQ9bobyL7VQItEjparZqzYdZe+TAvxEzpddYXxfRGnto6QgaHm7YLi4qFLH7HuHwbxBLb7J+GGLthpqbJqKB54YNl9tLotyNHgvz0jmM/cLaqrTXwZTVO33ModPi/rUN4UgckTIbMmue8GNXQ041pHdtE2UOQ7Rba31dRAs4tBhLdg2PYbYRqsOF2/uSObsfxyOTfuok4XLjTShhojqA1odJ7VehfSV7XUMFvS+ikubmkNPUH661EIfrXbZvWSdNdmgxlnrWGU7t4xNvVheutRBOvLhdxvR0RCNRGERzvEQJE/MDKBXCWeWMXtFeF2Gpt20Ih5WDTx9zmF+J1aF50b6P1x6NjUgN9XUpTX7KKc7su7H52M9uY/RnaSJaAm9UmfWjFmGizcd+FOZ6lA1qS6q01w1Y6u1iLQT+O+oqKsaS3Q+eG8aVXNWam6t9BH4/iVrr6zKa5tDSEY0ECfz20sfO6c0Jeuz+wopgqZaeF/TwMMSaOuryYaJ5aeDaJhU6ZE79V4Ja7HWdR7PG5tsn5dGUvbA5iCpPiFVUzVOU7qHl040nsR311ldfF9HQFzwuLCxcmX1BEIQWeCggCIJwOYhDEwShY2joCx4FQRCukoa+4FF+dKJ+5Ec7GovoXTut8Ibf5rdAEAThkhCHJghCxyAOTRCEjkEcmiAIHUPzHFrmKTN9vfTrn5nnJ5XThSJ5jVbihuS9lV76f3rKaSHlhBc/mdJM+vb3TfIiY5W3zF4lO5aUr8/Qj5mnzChlTp9PKu3Ry5a0U2/re+O51tekXNel3k9lrq+MLpbXVY0mFdpc1qYANNOhnRwxsnPOt7Nzvp29Y+TBndwNWC5dMDK+yMKXdYMz2vjyd8bUMpkIYRZZQCOuajgeJHmma3zgITyqO6+BVXYPgoyNB0mebTF1kR0zZetbZOStdT+ePp9k7K2n2J6zP3EfR3IDW23n2Tnfzj5yd7CcHhZlB+IERjXcB8r9dPwdL9epVgfL63rHyIMfig6orCbl23yhTaGJDm16i+B0/sCOffyCdMHEMHPzEI7lbua9zQAj88YXPJ7GNJhfY+7HT4VyJQwMMXJBTVXZqVhumPs/O3i4GTedEefXB/D4t1WuFdIGuftMPf5eHNgH8n/PEnw2W7elanWwvq5ZggdBeKs767KalGtzNTaF1thDy0QI42F2oMp0AYDBe48YebDBXuYpG1+C3De8AuKE+FtwuwaZurlIstxN/z7Mq/Fhyi18qrZzUbnpLd5wncB7JS1zzNfxCv37OcCYGkZWCnkty84y989/c9siPK+danWocF0DQ4x8PqLgCq00Kdfmam12OS3g0PQl9m/mWblculBEv/lHA4z8bNJJnQym3Sx8VsIkdfD/MkzyQwWNK9mpsdyUL8jXX8o5JX1/SnVc5jCyUjvLlJ16ph/fDOds1+vYqtWhRqw0ubQ2dyFNdmhxAn3r2A8+cnegmnTBzJQvyBiLzE0b009jGsmC47rOK5QwKT/4D4KMXTC7V7RTa7mBVbbmNX7Nvw5qYIiRgmMY5O4HvU11alGR6S2+nb1j4few8rCjeqrVATBdl0LmmK/m1bBZk3JtrsVmF9Pkp5wWTqtcumDNwCq76gY+kAuPPrGwo6xYdizCpIFVdnfgtuGJZh12qi4H1+49ggcBkgDMcv8JPPzXRU9P6yTzlJmSsK2ewV/99eWwuq44gdEAzN8oWWUaNCnb5tpsditNc2inMY0kn3g4anwEXS5dqIFMhDBB7qurtnyYZJZyeovkk0Nu5/8lYjSgr0SW2atkR10p1FIfswR3FgtH1+59JDmvFUNgdYCa98X6JnlxYk7XnbFVWW7g/nK9mFbvFsZF12fRnpLr6rsOO+fs3rNyp4omA+XbXJvN7qShL3i8Of+PK7Pf6ciXpRuL6F078uV0QRCES0QcmiAIHUNDX/DYCkvSdkb0ayyid/vR0Bc8CoIgXCUyBQmC0DGIQxMEoWMQhyYIQscgDk0QhI6heQ4tvclE4Wfse5jYTOsZMZaU9J4lqy+5dTkm7XKfJWIl6RMUZC2ezOZEDz0Tm6RN9ibUwulNJtQysSVjfUsxUzuWiFm0zWDTykaldrUKJbrq11osYN32WrUwa563YUgr03+tqFsTaJ5DSx3hiGbJZrNks1Ec/ju5wRcLQyE9Rehw3WJQCjhDpLJ5nbJks9u4zOkpD5rdNPjSETS8eNGIqLo6vTi0O5Zapzcn6JmDqFJflDAxm4/9VAinM0Qqu42LGEt2DU9K6dejVGUbF7WrVVB1jcKcwaFYtf07tKhEq+vUZJrn0FzbbBfe32Vn2GmVnuIo4WDI1vDWdQa2IRympHREA88abkcCzTAihll75MC/YR5WaSIahFK6w9RxbRuPi6j95WJ721WVjfLtakFcbryJI/Lvvi3f9vq0qERb6dQEWmMPLR1Bw8ONQufry+qeMO5sdR3ddST82CuGQUAszEvnMPZCQm4weW7YcLm9JLSIMUxxbRNlDmMkGEGrelJx4fa+ZM4cTl5o44J2tRjpzXVF13Jtr1eLijW3lU7NoAUcmr40f+2j2Mc2fPtZslk3Yct9IKFsyKk6uvVhUvuKrurE4XLjTZSGLa61EIfrpv0Yg1OsjGtbb487bNwnq2SjinY1HUVXu+Yp6lqh7XVpUYl20KnJNNmhxVjqWWc4tY/PcsZy4fYmOPqO37XoOvKOLhXCqYRFkAtXEoWBOcdLLMIWm4/XHo2NSP54CEc9A8e1TTYbxfsyTOwCG1W1q9moE4gySVTV9hq0qERb6NRkmvyUs9SZpTeXlBVZjPBLJ8N1TWddjs3HfhTmCqFomoiWwBtVVnVR67DF5nsEfj8JAFyshcBvergQW7IIcdObTBjCq2MOncPYK9qovl2tR4W216OFhbNLRzQSjiFsba1TA/nrr//L/vHHH9n//ve/2avkjz/+MBynQs4sYPg4Q6lsNuo1pHmjV9qs9iQVyjqdoWyqivSczs5sKGp1TjTrLZcX9WZR0kr6yxvN1VdI82aj2VQ25FT71JkNKUbL2ijXrpILbBI16F1sex1a5G2q6Xn7leqKms7Bm+3WYdPQFzwuLCxcmX1BEIQWeCggCIJwOYhDEwShY2joCx4FQRCukoa+4FF+dKJ+5Ec7GovoXTut8Ibf5rdAEAThkhCHJghCxyAOTRCEjkEcmiAIHUPzHFrmKTOFn7TvZeb5SUmRvZVe+n96ymkTmtfSZJ4yY9almrT3ywW9+/t66V+Jm/phmb3CySe8+En0Vzl9PmnQb+b5SQXdlwn81GvUO3/eyrJRc9NYyH0mefHenD7Ji4xSR9V5+Xy9T8ud1wE0z6GdHDGyc863s3O+nb1j5MEdg7B7K71ssMhY0xrYWZw+n6T/Frw5y2t+zhvC7A2ssnsQZGw8SPJsi6n8CZkIYRZZQCPeQTd8vZw+n2TsrYdkQb8/cR9HKjj7Ye5/0MsW9M0d7z7bKtVcyc99PnJ30JR+4CE8qkw61ebl7Q0McveDkrazCOMeZgeuUrnG0jyHNr1FcDp/YMc+Xsw6fT7JxtCf7PqGm9GyDuSE+Ft4fKA4LGDqmfFY5TSmwfwacz9+IhwrXT13F3F+fQCPf1vlWiFtkLvP1OMGMDDESD15lsQJ3Do0XVP70xp7aJkIYXIzxenzSZZ5ze69wWa3qnPIRAh/dmCveibOOUC3a5Cpm4sk31ZaiXQBmWO+XvVK5nOAMTUUtAr134d5NT6M5cgw511gb2/lOl+fvOZuB63OoCUcWpzAqIb7t1WucUL87SeSD37IdcJogOTnAGOyj/P9lBsIVigTDNNuFj5L2FlE2Ye6zPvSHCJ+0FdOqmP6ZZjkB2VFVSmvnD2A98vc/hJkqwMXDU12aHECfevYDz7qM4Upxs/vM3zorGVxwxkYYqQGp3Qa03ITSV8v/X3XeUWXh50G/fR79CDYmP3dvGM6CDL2+YiTavPK0pmhZp4mP+VUnZl5f298AAABLklEQVTwXVg4rdOYRvLHIa4xy/0n8FDdNAb2VozHOXKr5IUd4+Zxd4edun7/sliRVdT9EhlYZXcHbvdZ9FmlPBOdGmrmaZpDO41pJPnEw9HK/7ohlMGwR7LMHrMEDzyEFT3H3npIPpsF4Nq9jySfHHJb2Ve5jZupzFNm8qF93zJ7mQhhgtyfVuqSsDOn37xW1Hw0APM3uHaB7paYNYfSPa++SV6Yh8P0lt6HVeRZ2cvEif5OcUun5F912p+GvuDx5vw/rsx+pyNflm4sonftyJfTBUEQLhFxaIIgdAwNfcFjKyxJ2xnRr7GI3u1HQ1/wKAiCcJXIFCQIQscgDk0QhI5BHJogCB1Dz19//V/2b3/ra3Y7upb//Od/m90EQegYZIUmCELHIA5NEISO4f8B1VmidMDkEJMAAAAASUVORK5CYII=)"
            ],
            "metadata": {
                "azdata_cell_guid": "10824274-92c8-4aa8-93c6-e8965302bf0f"
            },
            "attachments": {}
        },
        {
            "cell_type": "markdown",
            "source": [
                "**2 Productos que no se vendieron en marzo del 2017**"
            ],
            "metadata": {
                "language": "sql",
                "azdata_cell_guid": "58fef5bf-c696-42e0-aa14-e5d69607dfaf"
            },
            "attachments": {}
        },
        {
            "cell_type": "code",
            "source": [
                "USE base;\r\n",
                "SELECT p.ID_Producto, p.Producto\r\n",
                "FROM producto AS p\r\n",
                "WHERE p.ID_Producto NOT IN (\r\n",
                "    SELECT DISTINCT ve.ID_producto\r\n",
                "    FROM ventas AS ve\r\n",
                "    WHERE YEAR(ve.`Fecha venta`) = 2017 AND MONTH(ve.`Fecha venta`) = 3\r\n",
                ");\r\n",
                ""
            ],
            "metadata": {
                "language": "sql",
                "azdata_cell_guid": "0a595e32-c955-46a9-acbf-f02cb45cda57"
            },
            "outputs": [
                {
                    "output_type": "display_data",
                    "data": {
                        "text/html": "Commands completed successfully"
                    },
                    "metadata": {}
                },
                {
                    "output_type": "display_data",
                    "data": {
                        "text/html": "(7 row(s) affected)"
                    },
                    "metadata": {}
                },
                {
                    "output_type": "display_data",
                    "data": {
                        "text/html": "Total execution time: 00:00:01.016"
                    },
                    "metadata": {}
                },
                {
                    "output_type": "execute_result",
                    "metadata": {},
                    "execution_count": 2,
                    "data": {
                        "application/vnd.dataresource+json": {
                            "schema": {
                                "fields": [
                                    {
                                        "name": "ID_Producto"
                                    },
                                    {
                                        "name": "Producto"
                                    }
                                ]
                            },
                            "data": [
                                {
                                    "ID_Producto": "1",
                                    "Producto": "Terreno"
                                },
                                {
                                    "ID_Producto": "2",
                                    "Producto": "Oficina"
                                },
                                {
                                    "ID_Producto": "3",
                                    "Producto": "Local"
                                },
                                {
                                    "ID_Producto": "4",
                                    "Producto": "Nave"
                                },
                                {
                                    "ID_Producto": "5",
                                    "Producto": "Isla"
                                },
                                {
                                    "ID_Producto": "6",
                                    "Producto": "Consultorio"
                                },
                                {
                                    "ID_Producto": "7",
                                    "Producto": "Remates"
                                }
                            ]
                        },
                        "text/html": [
                            "<table>",
                            "<tr><th>ID_Producto</th><th>Producto</th></tr>",
                            "<tr><td>1</td><td>Terreno</td></tr>",
                            "<tr><td>2</td><td>Oficina</td></tr>",
                            "<tr><td>3</td><td>Local</td></tr>",
                            "<tr><td>4</td><td>Nave</td></tr>",
                            "<tr><td>5</td><td>Isla</td></tr>",
                            "<tr><td>6</td><td>Consultorio</td></tr>",
                            "<tr><td>7</td><td>Remates</td></tr>",
                            "</table>"
                        ]
                    }
                }
            ],
            "execution_count": 2
        },
        {
            "cell_type": "markdown",
            "source": [
                "**3. Clientes que compraron propiedas de remates Bancarios en el primer cuarto de 2016**"
            ],
            "metadata": {
                "language": "sql",
                "azdata_cell_guid": "576cb8c7-eb68-4f3a-87d8-5497571b0c2d"
            },
            "attachments": {}
        },
        {
            "cell_type": "code",
            "source": [
                "SELECT DISTINCT c.ID_Cliente, c.Nombre, v.`Fecha venta`\r\n",
                "FROM clientes AS c\r\n",
                "JOIN ventas AS v ON c.ID_Cliente = v.ID_Cliente\r\n",
                "WHERE STR_TO_DATE(v.`Fecha venta`, '%d-%b-%y') BETWEEN '2016-01-01' AND '2016-03-31'\r\n",
                "AND v.ID_producto IN (SELECT ID_Producto FROM producto WHERE Producto ='Remates');"
            ],
            "metadata": {
                "language": "sql",
                "azdata_cell_guid": "0a296db5-2ea0-4761-b0ba-eacaa589c50a"
            },
            "outputs": [
                {
                    "output_type": "display_data",
                    "data": {
                        "text/html": "(9 row(s) affected)"
                    },
                    "metadata": {}
                },
                {
                    "output_type": "display_data",
                    "data": {
                        "text/html": "Total execution time: 00:00:01.020"
                    },
                    "metadata": {}
                },
                {
                    "output_type": "execute_result",
                    "metadata": {},
                    "execution_count": 3,
                    "data": {
                        "application/vnd.dataresource+json": {
                            "schema": {
                                "fields": [
                                    {
                                        "name": "ID_Cliente"
                                    },
                                    {
                                        "name": "Nombre"
                                    },
                                    {
                                        "name": "Fecha venta"
                                    }
                                ]
                            },
                            "data": [
                                {
                                    "ID_Cliente": "3",
                                    "Nombre": "Tierra y Paz",
                                    "Fecha venta": "1-Feb-16"
                                },
                                {
                                    "ID_Cliente": "7",
                                    "Nombre": "The LandLord",
                                    "Fecha venta": "29-Feb-16"
                                },
                                {
                                    "ID_Cliente": "1",
                                    "Nombre": "Mart B & C",
                                    "Fecha venta": "13-Mar-16"
                                },
                                {
                                    "ID_Cliente": "4",
                                    "Nombre": "Agora e Tudo MM",
                                    "Fecha venta": "13-Mar-16"
                                },
                                {
                                    "ID_Cliente": "10",
                                    "Nombre": "Bienestar Land",
                                    "Fecha venta": "20-Mar-16"
                                },
                                {
                                    "ID_Cliente": "4",
                                    "Nombre": "Agora e Tudo MM",
                                    "Fecha venta": "22-Mar-16"
                                },
                                {
                                    "ID_Cliente": "3",
                                    "Nombre": "Tierra y Paz",
                                    "Fecha venta": "27-Mar-16"
                                },
                                {
                                    "ID_Cliente": "3",
                                    "Nombre": "Tierra y Paz",
                                    "Fecha venta": "29-Mar-16"
                                },
                                {
                                    "ID_Cliente": "9",
                                    "Nombre": "JKP Asesores",
                                    "Fecha venta": "4-Feb-16"
                                }
                            ]
                        },
                        "text/html": [
                            "<table>",
                            "<tr><th>ID_Cliente</th><th>Nombre</th><th>Fecha venta</th></tr>",
                            "<tr><td>3</td><td>Tierra y Paz</td><td>1-Feb-16</td></tr>",
                            "<tr><td>7</td><td>The LandLord</td><td>29-Feb-16</td></tr>",
                            "<tr><td>1</td><td>Mart B &amp; C</td><td>13-Mar-16</td></tr>",
                            "<tr><td>4</td><td>Agora e Tudo MM</td><td>13-Mar-16</td></tr>",
                            "<tr><td>10</td><td>Bienestar Land</td><td>20-Mar-16</td></tr>",
                            "<tr><td>4</td><td>Agora e Tudo MM</td><td>22-Mar-16</td></tr>",
                            "<tr><td>3</td><td>Tierra y Paz</td><td>27-Mar-16</td></tr>",
                            "<tr><td>3</td><td>Tierra y Paz</td><td>29-Mar-16</td></tr>",
                            "<tr><td>9</td><td>JKP Asesores</td><td>4-Feb-16</td></tr>",
                            "</table>"
                        ]
                    }
                }
            ],
            "execution_count": 3
        },
        {
            "cell_type": "markdown",
            "source": [
                "### <span style=\"font-size: 16.38px;\">Uso de ALL &amp; ANY</span>"
            ],
            "metadata": {
                "language": "sql",
                "azdata_cell_guid": "189178dc-907f-4dcb-8828-e9f6798fd5f1"
            },
            "attachments": {}
        },
        {
            "cell_type": "markdown",
            "source": [
                "### <span style=\"font-size: 16.38px;\">Genera una vista para entregar el informe que contenga:</span>"
            ],
            "metadata": {
                "language": "sql",
                "azdata_cell_guid": "aa0b693b-99a3-483d-aa2d-e4ae70ca3652"
            },
            "attachments": {}
        },
        {
            "cell_type": "markdown",
            "source": [
                "**4. Todas las ventas superiores a la venta más cara de una oficina**"
            ],
            "metadata": {
                "language": "sql",
                "azdata_cell_guid": "e3446a7d-efd1-4618-8beb-19978a16b343"
            },
            "attachments": {}
        },
        {
            "cell_type": "code",
            "source": [
                "\r\n",
                "SELECT v.*\r\n",
                "FROM ventas AS v\r\n",
                "WHERE v.Venta > ALL (\r\n",
                "    SELECT v2.Venta\r\n",
                "    FROM ventas AS v2\r\n",
                "    JOIN producto AS p2 ON v2.ID_Producto = p2.ID_Producto\r\n",
                "    WHERE p2.Producto = 'Oficina'\r\n",
                ");"
            ],
            "metadata": {
                "language": "sql",
                "azdata_cell_guid": "b143f804-d972-43db-a8e4-d0813b162bab"
            },
            "outputs": [
                {
                    "output_type": "display_data",
                    "data": {
                        "text/html": "(7 row(s) affected)"
                    },
                    "metadata": {}
                },
                {
                    "output_type": "display_data",
                    "data": {
                        "text/html": "Total execution time: 00:00:01.016"
                    },
                    "metadata": {}
                },
                {
                    "output_type": "execute_result",
                    "metadata": {},
                    "execution_count": 4,
                    "data": {
                        "application/vnd.dataresource+json": {
                            "schema": {
                                "fields": [
                                    {
                                        "name": "ID_Venta"
                                    },
                                    {
                                        "name": "Fecha venta"
                                    },
                                    {
                                        "name": "ID_producto"
                                    },
                                    {
                                        "name": "ID_Zona"
                                    },
                                    {
                                        "name": "Venta"
                                    },
                                    {
                                        "name": "ID_Vendedor"
                                    },
                                    {
                                        "name": "ID_Cliente"
                                    }
                                ]
                            },
                            "data": [
                                {
                                    "ID_Venta": "13",
                                    "Fecha venta": "1-Jan-16",
                                    "ID_producto": "1",
                                    "ID_Zona": "4",
                                    "Venta": "2937300",
                                    "ID_Vendedor": "28",
                                    "ID_Cliente": "5"
                                },
                                {
                                    "ID_Venta": "873",
                                    "Fecha venta": "11-Jun-16",
                                    "ID_producto": "5",
                                    "ID_Zona": "1",
                                    "Venta": "2923155",
                                    "ID_Vendedor": "49",
                                    "ID_Cliente": "3"
                                },
                                {
                                    "ID_Venta": "2654",
                                    "Fecha venta": "8-Oct-18",
                                    "ID_producto": "6",
                                    "ID_Zona": "2",
                                    "Venta": "2909412",
                                    "ID_Vendedor": "45",
                                    "ID_Cliente": "10"
                                },
                                {
                                    "ID_Venta": "2697",
                                    "Fecha venta": "28-Aug-18",
                                    "ID_producto": "3",
                                    "ID_Zona": "4",
                                    "Venta": "2977318",
                                    "ID_Vendedor": "10",
                                    "ID_Cliente": "8"
                                },
                                {
                                    "ID_Venta": "3126",
                                    "Fecha venta": "2-Jul-19",
                                    "ID_producto": "3",
                                    "ID_Zona": "3",
                                    "Venta": "2902284",
                                    "ID_Vendedor": "27",
                                    "ID_Cliente": "6"
                                },
                                {
                                    "ID_Venta": "3268",
                                    "Fecha venta": "29-Mar-19",
                                    "ID_producto": "5",
                                    "ID_Zona": "4",
                                    "Venta": "2908500",
                                    "ID_Vendedor": "43",
                                    "ID_Cliente": "10"
                                },
                                {
                                    "ID_Venta": "3289",
                                    "Fecha venta": "4-Jun-19",
                                    "ID_producto": "1",
                                    "ID_Zona": "1",
                                    "Venta": "2914416",
                                    "ID_Vendedor": "13",
                                    "ID_Cliente": "8"
                                }
                            ]
                        },
                        "text/html": [
                            "<table>",
                            "<tr><th>ID_Venta</th><th>Fecha venta</th><th>ID_producto</th><th>ID_Zona</th><th>Venta</th><th>ID_Vendedor</th><th>ID_Cliente</th></tr>",
                            "<tr><td>13</td><td>1-Jan-16</td><td>1</td><td>4</td><td>2937300</td><td>28</td><td>5</td></tr>",
                            "<tr><td>873</td><td>11-Jun-16</td><td>5</td><td>1</td><td>2923155</td><td>49</td><td>3</td></tr>",
                            "<tr><td>2654</td><td>8-Oct-18</td><td>6</td><td>2</td><td>2909412</td><td>45</td><td>10</td></tr>",
                            "<tr><td>2697</td><td>28-Aug-18</td><td>3</td><td>4</td><td>2977318</td><td>10</td><td>8</td></tr>",
                            "<tr><td>3126</td><td>2-Jul-19</td><td>3</td><td>3</td><td>2902284</td><td>27</td><td>6</td></tr>",
                            "<tr><td>3268</td><td>29-Mar-19</td><td>5</td><td>4</td><td>2908500</td><td>43</td><td>10</td></tr>",
                            "<tr><td>3289</td><td>4-Jun-19</td><td>1</td><td>1</td><td>2914416</td><td>13</td><td>8</td></tr>",
                            "</table>"
                        ]
                    }
                }
            ],
            "execution_count": 4
        },
        {
            "cell_type": "markdown",
            "source": [
                "**5. Cualquier venta mayor al de una oficina**"
            ],
            "metadata": {
                "language": "sql",
                "azdata_cell_guid": "c37d6fd0-2ca4-4181-a278-0acfca0870bc"
            },
            "attachments": {}
        },
        {
            "cell_type": "code",
            "source": [
                "SELECT v.*\r\n",
                "FROM ventas AS v\r\n",
                "WHERE v.Venta > ANY (\r\n",
                "    SELECT v2.Venta\r\n",
                "    FROM ventas AS v2\r\n",
                "    JOIN producto AS p2 ON v2.ID_Producto = p2.ID_Producto\r\n",
                "    WHERE p2.Producto = 'Oficina')\r\n",
                "    LIMIT 100;"
            ],
            "metadata": {
                "language": "sql",
                "azdata_cell_guid": "84bcc79e-e15d-409d-bc1c-2193635bb655"
            },
            "outputs": [
                {
                    "output_type": "display_data",
                    "data": {
                        "text/html": "(100 row(s) affected)"
                    },
                    "metadata": {}
                },
                {
                    "output_type": "display_data",
                    "data": {
                        "text/html": "Total execution time: 00:00:01.011"
                    },
                    "metadata": {}
                },
                {
                    "output_type": "execute_result",
                    "metadata": {},
                    "execution_count": 5,
                    "data": {
                        "application/vnd.dataresource+json": {
                            "schema": {
                                "fields": [
                                    {
                                        "name": "ID_Venta"
                                    },
                                    {
                                        "name": "Fecha venta"
                                    },
                                    {
                                        "name": "ID_producto"
                                    },
                                    {
                                        "name": "ID_Zona"
                                    },
                                    {
                                        "name": "Venta"
                                    },
                                    {
                                        "name": "ID_Vendedor"
                                    },
                                    {
                                        "name": "ID_Cliente"
                                    }
                                ]
                            },
                            "data": [
                                {
                                    "ID_Venta": "1",
                                    "Fecha venta": "29-Dec-15",
                                    "ID_producto": "1",
                                    "ID_Zona": "1",
                                    "Venta": "2133903",
                                    "ID_Vendedor": "42",
                                    "ID_Cliente": "3"
                                },
                                {
                                    "ID_Venta": "2",
                                    "Fecha venta": "29-Dec-15",
                                    "ID_producto": "2",
                                    "ID_Zona": "2",
                                    "Venta": "1945424",
                                    "ID_Vendedor": "5",
                                    "ID_Cliente": "1"
                                },
                                {
                                    "ID_Venta": "3",
                                    "Fecha venta": "29-Dec-15",
                                    "ID_producto": "3",
                                    "ID_Zona": "2",
                                    "Venta": "712416",
                                    "ID_Vendedor": "20",
                                    "ID_Cliente": "10"
                                },
                                {
                                    "ID_Venta": "4",
                                    "Fecha venta": "30-Dec-15",
                                    "ID_producto": "1",
                                    "ID_Zona": "2",
                                    "Venta": "1815450",
                                    "ID_Vendedor": "30",
                                    "ID_Cliente": "9"
                                },
                                {
                                    "ID_Venta": "5",
                                    "Fecha venta": "30-Dec-15",
                                    "ID_producto": "4",
                                    "ID_Zona": "3",
                                    "Venta": "1138024",
                                    "ID_Vendedor": "41",
                                    "ID_Cliente": "8"
                                },
                                {
                                    "ID_Venta": "6",
                                    "Fecha venta": "31-Dec-15",
                                    "ID_producto": "5",
                                    "ID_Zona": "2",
                                    "Venta": "953156",
                                    "ID_Vendedor": "18",
                                    "ID_Cliente": "3"
                                },
                                {
                                    "ID_Venta": "7",
                                    "Fecha venta": "31-Dec-15",
                                    "ID_producto": "1",
                                    "ID_Zona": "3",
                                    "Venta": "406686",
                                    "ID_Vendedor": "36",
                                    "ID_Cliente": "9"
                                },
                                {
                                    "ID_Venta": "8",
                                    "Fecha venta": "31-Dec-15",
                                    "ID_producto": "3",
                                    "ID_Zona": "2",
                                    "Venta": "2158475",
                                    "ID_Vendedor": "21",
                                    "ID_Cliente": "6"
                                },
                                {
                                    "ID_Venta": "9",
                                    "Fecha venta": "1-Jan-16",
                                    "ID_producto": "6",
                                    "ID_Zona": "1",
                                    "Venta": "1024380",
                                    "ID_Vendedor": "13",
                                    "ID_Cliente": "10"
                                },
                                {
                                    "ID_Venta": "10",
                                    "Fecha venta": "1-Jan-16",
                                    "ID_producto": "1",
                                    "ID_Zona": "1",
                                    "Venta": "2042768",
                                    "ID_Vendedor": "43",
                                    "ID_Cliente": "7"
                                },
                                {
                                    "ID_Venta": "11",
                                    "Fecha venta": "1-Jan-16",
                                    "ID_producto": "3",
                                    "ID_Zona": "2",
                                    "Venta": "627068",
                                    "ID_Vendedor": "5",
                                    "ID_Cliente": "8"
                                },
                                {
                                    "ID_Venta": "12",
                                    "Fecha venta": "1-Jan-16",
                                    "ID_producto": "5",
                                    "ID_Zona": "2",
                                    "Venta": "999328",
                                    "ID_Vendedor": "30",
                                    "ID_Cliente": "2"
                                },
                                {
                                    "ID_Venta": "13",
                                    "Fecha venta": "1-Jan-16",
                                    "ID_producto": "1",
                                    "ID_Zona": "4",
                                    "Venta": "2937300",
                                    "ID_Vendedor": "28",
                                    "ID_Cliente": "5"
                                },
                                {
                                    "ID_Venta": "14",
                                    "Fecha venta": "1-Jan-16",
                                    "ID_producto": "2",
                                    "ID_Zona": "3",
                                    "Venta": "664700",
                                    "ID_Vendedor": "15",
                                    "ID_Cliente": "6"
                                },
                                {
                                    "ID_Venta": "15",
                                    "Fecha venta": "1-Jan-16",
                                    "ID_producto": "5",
                                    "ID_Zona": "2",
                                    "Venta": "820336",
                                    "ID_Vendedor": "5",
                                    "ID_Cliente": "1"
                                },
                                {
                                    "ID_Venta": "16",
                                    "Fecha venta": "1-Feb-16",
                                    "ID_producto": "4",
                                    "ID_Zona": "2",
                                    "Venta": "937960",
                                    "ID_Vendedor": "17",
                                    "ID_Cliente": "4"
                                },
                                {
                                    "ID_Venta": "17",
                                    "Fecha venta": "1-Feb-16",
                                    "ID_producto": "7",
                                    "ID_Zona": "3",
                                    "Venta": "358846",
                                    "ID_Vendedor": "16",
                                    "ID_Cliente": "3"
                                },
                                {
                                    "ID_Venta": "18",
                                    "Fecha venta": "1-Mar-16",
                                    "ID_producto": "4",
                                    "ID_Zona": "4",
                                    "Venta": "1679605",
                                    "ID_Vendedor": "6",
                                    "ID_Cliente": "3"
                                },
                                {
                                    "ID_Venta": "19",
                                    "Fecha venta": "1-Apr-16",
                                    "ID_producto": "6",
                                    "ID_Zona": "2",
                                    "Venta": "472615",
                                    "ID_Vendedor": "39",
                                    "ID_Cliente": "3"
                                },
                                {
                                    "ID_Venta": "20",
                                    "Fecha venta": "1-May-16",
                                    "ID_producto": "3",
                                    "ID_Zona": "4",
                                    "Venta": "1169496",
                                    "ID_Vendedor": "19",
                                    "ID_Cliente": "3"
                                },
                                {
                                    "ID_Venta": "21",
                                    "Fecha venta": "1-Jun-16",
                                    "ID_producto": "5",
                                    "ID_Zona": "4",
                                    "Venta": "2020992",
                                    "ID_Vendedor": "38",
                                    "ID_Cliente": "10"
                                },
                                {
                                    "ID_Venta": "22",
                                    "Fecha venta": "1-Jun-16",
                                    "ID_producto": "3",
                                    "ID_Zona": "1",
                                    "Venta": "727552",
                                    "ID_Vendedor": "14",
                                    "ID_Cliente": "10"
                                },
                                {
                                    "ID_Venta": "23",
                                    "Fecha venta": "1-Jul-16",
                                    "ID_producto": "4",
                                    "ID_Zona": "2",
                                    "Venta": "1438929",
                                    "ID_Vendedor": "4",
                                    "ID_Cliente": "8"
                                },
                                {
                                    "ID_Venta": "24",
                                    "Fecha venta": "1-Jul-16",
                                    "ID_producto": "3",
                                    "ID_Zona": "3",
                                    "Venta": "427390",
                                    "ID_Vendedor": "45",
                                    "ID_Cliente": "2"
                                },
                                {
                                    "ID_Venta": "25",
                                    "Fecha venta": "1-Jul-16",
                                    "ID_producto": "3",
                                    "ID_Zona": "4",
                                    "Venta": "1170684",
                                    "ID_Vendedor": "4",
                                    "ID_Cliente": "8"
                                },
                                {
                                    "ID_Venta": "26",
                                    "Fecha venta": "1-Jul-16",
                                    "ID_producto": "2",
                                    "ID_Zona": "3",
                                    "Venta": "549780",
                                    "ID_Vendedor": "12",
                                    "ID_Cliente": "4"
                                },
                                {
                                    "ID_Venta": "27",
                                    "Fecha venta": "1-Aug-16",
                                    "ID_producto": "2",
                                    "ID_Zona": "3",
                                    "Venta": "659330",
                                    "ID_Vendedor": "38",
                                    "ID_Cliente": "4"
                                },
                                {
                                    "ID_Venta": "28",
                                    "Fecha venta": "1-Sep-16",
                                    "ID_producto": "4",
                                    "ID_Zona": "4",
                                    "Venta": "1660560",
                                    "ID_Vendedor": "41",
                                    "ID_Cliente": "8"
                                },
                                {
                                    "ID_Venta": "29",
                                    "Fecha venta": "1-Sep-16",
                                    "ID_producto": "4",
                                    "ID_Zona": "3",
                                    "Venta": "753571",
                                    "ID_Vendedor": "43",
                                    "ID_Cliente": "1"
                                },
                                {
                                    "ID_Venta": "30",
                                    "Fecha venta": "1-Sep-16",
                                    "ID_producto": "2",
                                    "ID_Zona": "3",
                                    "Venta": "939072",
                                    "ID_Vendedor": "31",
                                    "ID_Cliente": "5"
                                },
                                {
                                    "ID_Venta": "31",
                                    "Fecha venta": "1-Oct-16",
                                    "ID_producto": "5",
                                    "ID_Zona": "4",
                                    "Venta": "1405374",
                                    "ID_Vendedor": "46",
                                    "ID_Cliente": "6"
                                },
                                {
                                    "ID_Venta": "32",
                                    "Fecha venta": "1-Oct-16",
                                    "ID_producto": "7",
                                    "ID_Zona": "2",
                                    "Venta": "627348",
                                    "ID_Vendedor": "1",
                                    "ID_Cliente": "5"
                                },
                                {
                                    "ID_Venta": "33",
                                    "Fecha venta": "1-Dec-16",
                                    "ID_producto": "2",
                                    "ID_Zona": "4",
                                    "Venta": "1504110",
                                    "ID_Vendedor": "29",
                                    "ID_Cliente": "1"
                                },
                                {
                                    "ID_Venta": "34",
                                    "Fecha venta": "1-Dec-16",
                                    "ID_producto": "4",
                                    "ID_Zona": "4",
                                    "Venta": "2483197",
                                    "ID_Vendedor": "29",
                                    "ID_Cliente": "3"
                                },
                                {
                                    "ID_Venta": "35",
                                    "Fecha venta": "1-Dec-16",
                                    "ID_producto": "5",
                                    "ID_Zona": "3",
                                    "Venta": "1799771",
                                    "ID_Vendedor": "13",
                                    "ID_Cliente": "9"
                                },
                                {
                                    "ID_Venta": "36",
                                    "Fecha venta": "13-Jan-16",
                                    "ID_producto": "5",
                                    "ID_Zona": "3",
                                    "Venta": "1054340",
                                    "ID_Vendedor": "6",
                                    "ID_Cliente": "2"
                                },
                                {
                                    "ID_Venta": "37",
                                    "Fecha venta": "13-Jan-16",
                                    "ID_producto": "2",
                                    "ID_Zona": "2",
                                    "Venta": "1160572",
                                    "ID_Vendedor": "43",
                                    "ID_Cliente": "6"
                                },
                                {
                                    "ID_Venta": "38",
                                    "Fecha venta": "14-Jan-16",
                                    "ID_producto": "4",
                                    "ID_Zona": "3",
                                    "Venta": "1492800",
                                    "ID_Vendedor": "30",
                                    "ID_Cliente": "1"
                                },
                                {
                                    "ID_Venta": "39",
                                    "Fecha venta": "15-Jan-16",
                                    "ID_producto": "1",
                                    "ID_Zona": "3",
                                    "Venta": "1154980",
                                    "ID_Vendedor": "7",
                                    "ID_Cliente": "5"
                                },
                                {
                                    "ID_Venta": "40",
                                    "Fecha venta": "15-Jan-16",
                                    "ID_producto": "3",
                                    "ID_Zona": "2",
                                    "Venta": "1057784",
                                    "ID_Vendedor": "9",
                                    "ID_Cliente": "2"
                                },
                                {
                                    "ID_Venta": "41",
                                    "Fecha venta": "15-Jan-16",
                                    "ID_producto": "6",
                                    "ID_Zona": "4",
                                    "Venta": "1421860",
                                    "ID_Vendedor": "36",
                                    "ID_Cliente": "3"
                                },
                                {
                                    "ID_Venta": "42",
                                    "Fecha venta": "16-Jan-16",
                                    "ID_producto": "3",
                                    "ID_Zona": "3",
                                    "Venta": "1426992",
                                    "ID_Vendedor": "44",
                                    "ID_Cliente": "4"
                                },
                                {
                                    "ID_Venta": "43",
                                    "Fecha venta": "16-Jan-16",
                                    "ID_producto": "3",
                                    "ID_Zona": "2",
                                    "Venta": "579716",
                                    "ID_Vendedor": "31",
                                    "ID_Cliente": "5"
                                },
                                {
                                    "ID_Venta": "44",
                                    "Fecha venta": "16-Jan-16",
                                    "ID_producto": "4",
                                    "ID_Zona": "2",
                                    "Venta": "1537062",
                                    "ID_Vendedor": "32",
                                    "ID_Cliente": "8"
                                },
                                {
                                    "ID_Venta": "45",
                                    "Fecha venta": "17-Jan-16",
                                    "ID_producto": "3",
                                    "ID_Zona": "4",
                                    "Venta": "2851058",
                                    "ID_Vendedor": "22",
                                    "ID_Cliente": "5"
                                },
                                {
                                    "ID_Venta": "46",
                                    "Fecha venta": "17-Jan-16",
                                    "ID_producto": "3",
                                    "ID_Zona": "1",
                                    "Venta": "1294048",
                                    "ID_Vendedor": "22",
                                    "ID_Cliente": "1"
                                },
                                {
                                    "ID_Venta": "47",
                                    "Fecha venta": "17-Jan-16",
                                    "ID_producto": "6",
                                    "ID_Zona": "4",
                                    "Venta": "249418",
                                    "ID_Vendedor": "13",
                                    "ID_Cliente": "10"
                                },
                                {
                                    "ID_Venta": "48",
                                    "Fecha venta": "17-Jan-16",
                                    "ID_producto": "5",
                                    "ID_Zona": "4",
                                    "Venta": "1457488",
                                    "ID_Vendedor": "35",
                                    "ID_Cliente": "3"
                                },
                                {
                                    "ID_Venta": "49",
                                    "Fecha venta": "17-Jan-16",
                                    "ID_producto": "2",
                                    "ID_Zona": "2",
                                    "Venta": "321680",
                                    "ID_Vendedor": "46",
                                    "ID_Cliente": "2"
                                },
                                {
                                    "ID_Venta": "50",
                                    "Fecha venta": "17-Jan-16",
                                    "ID_producto": "2",
                                    "ID_Zona": "3",
                                    "Venta": "957625",
                                    "ID_Vendedor": "31",
                                    "ID_Cliente": "2"
                                },
                                {
                                    "ID_Venta": "51",
                                    "Fecha venta": "17-Jan-16",
                                    "ID_producto": "5",
                                    "ID_Zona": "1",
                                    "Venta": "568620",
                                    "ID_Vendedor": "27",
                                    "ID_Cliente": "2"
                                },
                                {
                                    "ID_Venta": "52",
                                    "Fecha venta": "19-Jan-16",
                                    "ID_producto": "2",
                                    "ID_Zona": "1",
                                    "Venta": "1605564",
                                    "ID_Vendedor": "33",
                                    "ID_Cliente": "10"
                                },
                                {
                                    "ID_Venta": "53",
                                    "Fecha venta": "19-Jan-16",
                                    "ID_producto": "4",
                                    "ID_Zona": "3",
                                    "Venta": "1438748",
                                    "ID_Vendedor": "45",
                                    "ID_Cliente": "4"
                                },
                                {
                                    "ID_Venta": "54",
                                    "Fecha venta": "19-Jan-16",
                                    "ID_producto": "4",
                                    "ID_Zona": "4",
                                    "Venta": "686996",
                                    "ID_Vendedor": "42",
                                    "ID_Cliente": "3"
                                },
                                {
                                    "ID_Venta": "55",
                                    "Fecha venta": "19-Jan-16",
                                    "ID_producto": "2",
                                    "ID_Zona": "2",
                                    "Venta": "983234",
                                    "ID_Vendedor": "39",
                                    "ID_Cliente": "8"
                                },
                                {
                                    "ID_Venta": "56",
                                    "Fecha venta": "20-Jan-16",
                                    "ID_producto": "6",
                                    "ID_Zona": "1",
                                    "Venta": "239220",
                                    "ID_Vendedor": "11",
                                    "ID_Cliente": "2"
                                },
                                {
                                    "ID_Venta": "57",
                                    "Fecha venta": "20-Jan-16",
                                    "ID_producto": "3",
                                    "ID_Zona": "1",
                                    "Venta": "512730",
                                    "ID_Vendedor": "15",
                                    "ID_Cliente": "1"
                                },
                                {
                                    "ID_Venta": "58",
                                    "Fecha venta": "21-Jan-16",
                                    "ID_producto": "2",
                                    "ID_Zona": "2",
                                    "Venta": "2287626",
                                    "ID_Vendedor": "29",
                                    "ID_Cliente": "2"
                                },
                                {
                                    "ID_Venta": "59",
                                    "Fecha venta": "21-Jan-16",
                                    "ID_producto": "5",
                                    "ID_Zona": "3",
                                    "Venta": "1373816",
                                    "ID_Vendedor": "3",
                                    "ID_Cliente": "4"
                                },
                                {
                                    "ID_Venta": "60",
                                    "Fecha venta": "21-Jan-16",
                                    "ID_producto": "3",
                                    "ID_Zona": "1",
                                    "Venta": "1920240",
                                    "ID_Vendedor": "2",
                                    "ID_Cliente": "9"
                                },
                                {
                                    "ID_Venta": "61",
                                    "Fecha venta": "21-Jan-16",
                                    "ID_producto": "4",
                                    "ID_Zona": "3",
                                    "Venta": "1140840",
                                    "ID_Vendedor": "40",
                                    "ID_Cliente": "7"
                                },
                                {
                                    "ID_Venta": "62",
                                    "Fecha venta": "21-Jan-16",
                                    "ID_producto": "5",
                                    "ID_Zona": "3",
                                    "Venta": "1142938",
                                    "ID_Vendedor": "22",
                                    "ID_Cliente": "8"
                                },
                                {
                                    "ID_Venta": "63",
                                    "Fecha venta": "22-Jan-16",
                                    "ID_producto": "6",
                                    "ID_Zona": "4",
                                    "Venta": "738144",
                                    "ID_Vendedor": "30",
                                    "ID_Cliente": "3"
                                },
                                {
                                    "ID_Venta": "64",
                                    "Fecha venta": "23-Jan-16",
                                    "ID_producto": "5",
                                    "ID_Zona": "1",
                                    "Venta": "509010",
                                    "ID_Vendedor": "40",
                                    "ID_Cliente": "9"
                                },
                                {
                                    "ID_Venta": "65",
                                    "Fecha venta": "23-Jan-16",
                                    "ID_producto": "3",
                                    "ID_Zona": "3",
                                    "Venta": "1436832",
                                    "ID_Vendedor": "38",
                                    "ID_Cliente": "5"
                                },
                                {
                                    "ID_Venta": "66",
                                    "Fecha venta": "24-Jan-16",
                                    "ID_producto": "4",
                                    "ID_Zona": "1",
                                    "Venta": "2119424",
                                    "ID_Vendedor": "38",
                                    "ID_Cliente": "10"
                                },
                                {
                                    "ID_Venta": "67",
                                    "Fecha venta": "24-Jan-16",
                                    "ID_producto": "5",
                                    "ID_Zona": "4",
                                    "Venta": "948927",
                                    "ID_Vendedor": "11",
                                    "ID_Cliente": "2"
                                },
                                {
                                    "ID_Venta": "68",
                                    "Fecha venta": "24-Jan-16",
                                    "ID_producto": "2",
                                    "ID_Zona": "4",
                                    "Venta": "376992",
                                    "ID_Vendedor": "13",
                                    "ID_Cliente": "9"
                                },
                                {
                                    "ID_Venta": "69",
                                    "Fecha venta": "24-Jan-16",
                                    "ID_producto": "2",
                                    "ID_Zona": "2",
                                    "Venta": "2212408",
                                    "ID_Vendedor": "32",
                                    "ID_Cliente": "5"
                                },
                                {
                                    "ID_Venta": "70",
                                    "Fecha venta": "25-Jan-16",
                                    "ID_producto": "4",
                                    "ID_Zona": "3",
                                    "Venta": "1647695",
                                    "ID_Vendedor": "39",
                                    "ID_Cliente": "9"
                                },
                                {
                                    "ID_Venta": "71",
                                    "Fecha venta": "25-Jan-16",
                                    "ID_producto": "4",
                                    "ID_Zona": "2",
                                    "Venta": "1939925",
                                    "ID_Vendedor": "15",
                                    "ID_Cliente": "6"
                                },
                                {
                                    "ID_Venta": "72",
                                    "Fecha venta": "25-Jan-16",
                                    "ID_producto": "4",
                                    "ID_Zona": "3",
                                    "Venta": "1478952",
                                    "ID_Vendedor": "14",
                                    "ID_Cliente": "3"
                                },
                                {
                                    "ID_Venta": "73",
                                    "Fecha venta": "25-Jan-16",
                                    "ID_producto": "1",
                                    "ID_Zona": "4",
                                    "Venta": "320044",
                                    "ID_Vendedor": "3",
                                    "ID_Cliente": "10"
                                },
                                {
                                    "ID_Venta": "74",
                                    "Fecha venta": "26-Jan-16",
                                    "ID_producto": "5",
                                    "ID_Zona": "2",
                                    "Venta": "1098055",
                                    "ID_Vendedor": "47",
                                    "ID_Cliente": "3"
                                },
                                {
                                    "ID_Venta": "75",
                                    "Fecha venta": "26-Jan-16",
                                    "ID_producto": "4",
                                    "ID_Zona": "3",
                                    "Venta": "187862",
                                    "ID_Vendedor": "25",
                                    "ID_Cliente": "5"
                                },
                                {
                                    "ID_Venta": "76",
                                    "Fecha venta": "26-Jan-16",
                                    "ID_producto": "4",
                                    "ID_Zona": "3",
                                    "Venta": "1757106",
                                    "ID_Vendedor": "26",
                                    "ID_Cliente": "6"
                                },
                                {
                                    "ID_Venta": "77",
                                    "Fecha venta": "27-Jan-16",
                                    "ID_producto": "5",
                                    "ID_Zona": "3",
                                    "Venta": "1104992",
                                    "ID_Vendedor": "3",
                                    "ID_Cliente": "6"
                                },
                                {
                                    "ID_Venta": "78",
                                    "Fecha venta": "28-Jan-16",
                                    "ID_producto": "6",
                                    "ID_Zona": "1",
                                    "Venta": "448485",
                                    "ID_Vendedor": "16",
                                    "ID_Cliente": "1"
                                },
                                {
                                    "ID_Venta": "79",
                                    "Fecha venta": "28-Jan-16",
                                    "ID_producto": "1",
                                    "ID_Zona": "4",
                                    "Venta": "2520484",
                                    "ID_Vendedor": "25",
                                    "ID_Cliente": "1"
                                },
                                {
                                    "ID_Venta": "80",
                                    "Fecha venta": "28-Jan-16",
                                    "ID_producto": "1",
                                    "ID_Zona": "4",
                                    "Venta": "1339107",
                                    "ID_Vendedor": "23",
                                    "ID_Cliente": "3"
                                },
                                {
                                    "ID_Venta": "81",
                                    "Fecha venta": "29-Jan-16",
                                    "ID_producto": "5",
                                    "ID_Zona": "4",
                                    "Venta": "1812244",
                                    "ID_Vendedor": "14",
                                    "ID_Cliente": "6"
                                },
                                {
                                    "ID_Venta": "82",
                                    "Fecha venta": "30-Jan-16",
                                    "ID_producto": "1",
                                    "ID_Zona": "2",
                                    "Venta": "1069731",
                                    "ID_Vendedor": "15",
                                    "ID_Cliente": "10"
                                },
                                {
                                    "ID_Venta": "83",
                                    "Fecha venta": "30-Jan-16",
                                    "ID_producto": "4",
                                    "ID_Zona": "1",
                                    "Venta": "471072",
                                    "ID_Vendedor": "34",
                                    "ID_Cliente": "8"
                                },
                                {
                                    "ID_Venta": "84",
                                    "Fecha venta": "30-Jan-16",
                                    "ID_producto": "6",
                                    "ID_Zona": "4",
                                    "Venta": "470940",
                                    "ID_Vendedor": "41",
                                    "ID_Cliente": "10"
                                },
                                {
                                    "ID_Venta": "85",
                                    "Fecha venta": "30-Jan-16",
                                    "ID_producto": "2",
                                    "ID_Zona": "4",
                                    "Venta": "925322",
                                    "ID_Vendedor": "19",
                                    "ID_Cliente": "10"
                                },
                                {
                                    "ID_Venta": "86",
                                    "Fecha venta": "31-Jan-16",
                                    "ID_producto": "6",
                                    "ID_Zona": "2",
                                    "Venta": "2141700",
                                    "ID_Vendedor": "36",
                                    "ID_Cliente": "1"
                                },
                                {
                                    "ID_Venta": "87",
                                    "Fecha venta": "31-Jan-16",
                                    "ID_producto": "5",
                                    "ID_Zona": "4",
                                    "Venta": "778875",
                                    "ID_Vendedor": "32",
                                    "ID_Cliente": "10"
                                },
                                {
                                    "ID_Venta": "88",
                                    "Fecha venta": "31-Jan-16",
                                    "ID_producto": "1",
                                    "ID_Zona": "3",
                                    "Venta": "421196",
                                    "ID_Vendedor": "24",
                                    "ID_Cliente": "1"
                                },
                                {
                                    "ID_Venta": "89",
                                    "Fecha venta": "2-Jan-16",
                                    "ID_producto": "2",
                                    "ID_Zona": "4",
                                    "Venta": "219716",
                                    "ID_Vendedor": "30",
                                    "ID_Cliente": "1"
                                },
                                {
                                    "ID_Venta": "90",
                                    "Fecha venta": "2-Jan-16",
                                    "ID_producto": "4",
                                    "ID_Zona": "2",
                                    "Venta": "2685816",
                                    "ID_Vendedor": "1",
                                    "ID_Cliente": "4"
                                },
                                {
                                    "ID_Venta": "91",
                                    "Fecha venta": "2-Jan-16",
                                    "ID_producto": "5",
                                    "ID_Zona": "4",
                                    "Venta": "723609",
                                    "ID_Vendedor": "24",
                                    "ID_Cliente": "7"
                                },
                                {
                                    "ID_Venta": "92",
                                    "Fecha venta": "2-Feb-16",
                                    "ID_producto": "6",
                                    "ID_Zona": "4",
                                    "Venta": "388032",
                                    "ID_Vendedor": "8",
                                    "ID_Cliente": "9"
                                },
                                {
                                    "ID_Venta": "93",
                                    "Fecha venta": "2-Feb-16",
                                    "ID_producto": "5",
                                    "ID_Zona": "3",
                                    "Venta": "922020",
                                    "ID_Vendedor": "11",
                                    "ID_Cliente": "10"
                                },
                                {
                                    "ID_Venta": "94",
                                    "Fecha venta": "2-Mar-16",
                                    "ID_producto": "5",
                                    "ID_Zona": "4",
                                    "Venta": "965358",
                                    "ID_Vendedor": "18",
                                    "ID_Cliente": "7"
                                },
                                {
                                    "ID_Venta": "95",
                                    "Fecha venta": "2-Mar-16",
                                    "ID_producto": "2",
                                    "ID_Zona": "4",
                                    "Venta": "663816",
                                    "ID_Vendedor": "22",
                                    "ID_Cliente": "5"
                                },
                                {
                                    "ID_Venta": "96",
                                    "Fecha venta": "2-Apr-16",
                                    "ID_producto": "5",
                                    "ID_Zona": "3",
                                    "Venta": "728931",
                                    "ID_Vendedor": "8",
                                    "ID_Cliente": "6"
                                },
                                {
                                    "ID_Venta": "97",
                                    "Fecha venta": "2-Apr-16",
                                    "ID_producto": "4",
                                    "ID_Zona": "3",
                                    "Venta": "625536",
                                    "ID_Vendedor": "25",
                                    "ID_Cliente": "5"
                                },
                                {
                                    "ID_Venta": "98",
                                    "Fecha venta": "2-Apr-16",
                                    "ID_producto": "7",
                                    "ID_Zona": "1",
                                    "Venta": "1467782",
                                    "ID_Vendedor": "47",
                                    "ID_Cliente": "5"
                                },
                                {
                                    "ID_Venta": "99",
                                    "Fecha venta": "2-Apr-16",
                                    "ID_producto": "5",
                                    "ID_Zona": "2",
                                    "Venta": "2067236",
                                    "ID_Vendedor": "11",
                                    "ID_Cliente": "6"
                                },
                                {
                                    "ID_Venta": "100",
                                    "Fecha venta": "2-May-16",
                                    "ID_producto": "2",
                                    "ID_Zona": "3",
                                    "Venta": "531375",
                                    "ID_Vendedor": "45",
                                    "ID_Cliente": "3"
                                }
                            ]
                        },
                        "text/html": [
                            "<table>",
                            "<tr><th>ID_Venta</th><th>Fecha venta</th><th>ID_producto</th><th>ID_Zona</th><th>Venta</th><th>ID_Vendedor</th><th>ID_Cliente</th></tr>",
                            "<tr><td>1</td><td>29-Dec-15</td><td>1</td><td>1</td><td>2133903</td><td>42</td><td>3</td></tr>",
                            "<tr><td>2</td><td>29-Dec-15</td><td>2</td><td>2</td><td>1945424</td><td>5</td><td>1</td></tr>",
                            "<tr><td>3</td><td>29-Dec-15</td><td>3</td><td>2</td><td>712416</td><td>20</td><td>10</td></tr>",
                            "<tr><td>4</td><td>30-Dec-15</td><td>1</td><td>2</td><td>1815450</td><td>30</td><td>9</td></tr>",
                            "<tr><td>5</td><td>30-Dec-15</td><td>4</td><td>3</td><td>1138024</td><td>41</td><td>8</td></tr>",
                            "<tr><td>6</td><td>31-Dec-15</td><td>5</td><td>2</td><td>953156</td><td>18</td><td>3</td></tr>",
                            "<tr><td>7</td><td>31-Dec-15</td><td>1</td><td>3</td><td>406686</td><td>36</td><td>9</td></tr>",
                            "<tr><td>8</td><td>31-Dec-15</td><td>3</td><td>2</td><td>2158475</td><td>21</td><td>6</td></tr>",
                            "<tr><td>9</td><td>1-Jan-16</td><td>6</td><td>1</td><td>1024380</td><td>13</td><td>10</td></tr>",
                            "<tr><td>10</td><td>1-Jan-16</td><td>1</td><td>1</td><td>2042768</td><td>43</td><td>7</td></tr>",
                            "<tr><td>11</td><td>1-Jan-16</td><td>3</td><td>2</td><td>627068</td><td>5</td><td>8</td></tr>",
                            "<tr><td>12</td><td>1-Jan-16</td><td>5</td><td>2</td><td>999328</td><td>30</td><td>2</td></tr>",
                            "<tr><td>13</td><td>1-Jan-16</td><td>1</td><td>4</td><td>2937300</td><td>28</td><td>5</td></tr>",
                            "<tr><td>14</td><td>1-Jan-16</td><td>2</td><td>3</td><td>664700</td><td>15</td><td>6</td></tr>",
                            "<tr><td>15</td><td>1-Jan-16</td><td>5</td><td>2</td><td>820336</td><td>5</td><td>1</td></tr>",
                            "<tr><td>16</td><td>1-Feb-16</td><td>4</td><td>2</td><td>937960</td><td>17</td><td>4</td></tr>",
                            "<tr><td>17</td><td>1-Feb-16</td><td>7</td><td>3</td><td>358846</td><td>16</td><td>3</td></tr>",
                            "<tr><td>18</td><td>1-Mar-16</td><td>4</td><td>4</td><td>1679605</td><td>6</td><td>3</td></tr>",
                            "<tr><td>19</td><td>1-Apr-16</td><td>6</td><td>2</td><td>472615</td><td>39</td><td>3</td></tr>",
                            "<tr><td>20</td><td>1-May-16</td><td>3</td><td>4</td><td>1169496</td><td>19</td><td>3</td></tr>",
                            "<tr><td>21</td><td>1-Jun-16</td><td>5</td><td>4</td><td>2020992</td><td>38</td><td>10</td></tr>",
                            "<tr><td>22</td><td>1-Jun-16</td><td>3</td><td>1</td><td>727552</td><td>14</td><td>10</td></tr>",
                            "<tr><td>23</td><td>1-Jul-16</td><td>4</td><td>2</td><td>1438929</td><td>4</td><td>8</td></tr>",
                            "<tr><td>24</td><td>1-Jul-16</td><td>3</td><td>3</td><td>427390</td><td>45</td><td>2</td></tr>",
                            "<tr><td>25</td><td>1-Jul-16</td><td>3</td><td>4</td><td>1170684</td><td>4</td><td>8</td></tr>",
                            "<tr><td>26</td><td>1-Jul-16</td><td>2</td><td>3</td><td>549780</td><td>12</td><td>4</td></tr>",
                            "<tr><td>27</td><td>1-Aug-16</td><td>2</td><td>3</td><td>659330</td><td>38</td><td>4</td></tr>",
                            "<tr><td>28</td><td>1-Sep-16</td><td>4</td><td>4</td><td>1660560</td><td>41</td><td>8</td></tr>",
                            "<tr><td>29</td><td>1-Sep-16</td><td>4</td><td>3</td><td>753571</td><td>43</td><td>1</td></tr>",
                            "<tr><td>30</td><td>1-Sep-16</td><td>2</td><td>3</td><td>939072</td><td>31</td><td>5</td></tr>",
                            "<tr><td>31</td><td>1-Oct-16</td><td>5</td><td>4</td><td>1405374</td><td>46</td><td>6</td></tr>",
                            "<tr><td>32</td><td>1-Oct-16</td><td>7</td><td>2</td><td>627348</td><td>1</td><td>5</td></tr>",
                            "<tr><td>33</td><td>1-Dec-16</td><td>2</td><td>4</td><td>1504110</td><td>29</td><td>1</td></tr>",
                            "<tr><td>34</td><td>1-Dec-16</td><td>4</td><td>4</td><td>2483197</td><td>29</td><td>3</td></tr>",
                            "<tr><td>35</td><td>1-Dec-16</td><td>5</td><td>3</td><td>1799771</td><td>13</td><td>9</td></tr>",
                            "<tr><td>36</td><td>13-Jan-16</td><td>5</td><td>3</td><td>1054340</td><td>6</td><td>2</td></tr>",
                            "<tr><td>37</td><td>13-Jan-16</td><td>2</td><td>2</td><td>1160572</td><td>43</td><td>6</td></tr>",
                            "<tr><td>38</td><td>14-Jan-16</td><td>4</td><td>3</td><td>1492800</td><td>30</td><td>1</td></tr>",
                            "<tr><td>39</td><td>15-Jan-16</td><td>1</td><td>3</td><td>1154980</td><td>7</td><td>5</td></tr>",
                            "<tr><td>40</td><td>15-Jan-16</td><td>3</td><td>2</td><td>1057784</td><td>9</td><td>2</td></tr>",
                            "<tr><td>41</td><td>15-Jan-16</td><td>6</td><td>4</td><td>1421860</td><td>36</td><td>3</td></tr>",
                            "<tr><td>42</td><td>16-Jan-16</td><td>3</td><td>3</td><td>1426992</td><td>44</td><td>4</td></tr>",
                            "<tr><td>43</td><td>16-Jan-16</td><td>3</td><td>2</td><td>579716</td><td>31</td><td>5</td></tr>",
                            "<tr><td>44</td><td>16-Jan-16</td><td>4</td><td>2</td><td>1537062</td><td>32</td><td>8</td></tr>",
                            "<tr><td>45</td><td>17-Jan-16</td><td>3</td><td>4</td><td>2851058</td><td>22</td><td>5</td></tr>",
                            "<tr><td>46</td><td>17-Jan-16</td><td>3</td><td>1</td><td>1294048</td><td>22</td><td>1</td></tr>",
                            "<tr><td>47</td><td>17-Jan-16</td><td>6</td><td>4</td><td>249418</td><td>13</td><td>10</td></tr>",
                            "<tr><td>48</td><td>17-Jan-16</td><td>5</td><td>4</td><td>1457488</td><td>35</td><td>3</td></tr>",
                            "<tr><td>49</td><td>17-Jan-16</td><td>2</td><td>2</td><td>321680</td><td>46</td><td>2</td></tr>",
                            "<tr><td>50</td><td>17-Jan-16</td><td>2</td><td>3</td><td>957625</td><td>31</td><td>2</td></tr>",
                            "<tr><td>51</td><td>17-Jan-16</td><td>5</td><td>1</td><td>568620</td><td>27</td><td>2</td></tr>",
                            "<tr><td>52</td><td>19-Jan-16</td><td>2</td><td>1</td><td>1605564</td><td>33</td><td>10</td></tr>",
                            "<tr><td>53</td><td>19-Jan-16</td><td>4</td><td>3</td><td>1438748</td><td>45</td><td>4</td></tr>",
                            "<tr><td>54</td><td>19-Jan-16</td><td>4</td><td>4</td><td>686996</td><td>42</td><td>3</td></tr>",
                            "<tr><td>55</td><td>19-Jan-16</td><td>2</td><td>2</td><td>983234</td><td>39</td><td>8</td></tr>",
                            "<tr><td>56</td><td>20-Jan-16</td><td>6</td><td>1</td><td>239220</td><td>11</td><td>2</td></tr>",
                            "<tr><td>57</td><td>20-Jan-16</td><td>3</td><td>1</td><td>512730</td><td>15</td><td>1</td></tr>",
                            "<tr><td>58</td><td>21-Jan-16</td><td>2</td><td>2</td><td>2287626</td><td>29</td><td>2</td></tr>",
                            "<tr><td>59</td><td>21-Jan-16</td><td>5</td><td>3</td><td>1373816</td><td>3</td><td>4</td></tr>",
                            "<tr><td>60</td><td>21-Jan-16</td><td>3</td><td>1</td><td>1920240</td><td>2</td><td>9</td></tr>",
                            "<tr><td>61</td><td>21-Jan-16</td><td>4</td><td>3</td><td>1140840</td><td>40</td><td>7</td></tr>",
                            "<tr><td>62</td><td>21-Jan-16</td><td>5</td><td>3</td><td>1142938</td><td>22</td><td>8</td></tr>",
                            "<tr><td>63</td><td>22-Jan-16</td><td>6</td><td>4</td><td>738144</td><td>30</td><td>3</td></tr>",
                            "<tr><td>64</td><td>23-Jan-16</td><td>5</td><td>1</td><td>509010</td><td>40</td><td>9</td></tr>",
                            "<tr><td>65</td><td>23-Jan-16</td><td>3</td><td>3</td><td>1436832</td><td>38</td><td>5</td></tr>",
                            "<tr><td>66</td><td>24-Jan-16</td><td>4</td><td>1</td><td>2119424</td><td>38</td><td>10</td></tr>",
                            "<tr><td>67</td><td>24-Jan-16</td><td>5</td><td>4</td><td>948927</td><td>11</td><td>2</td></tr>",
                            "<tr><td>68</td><td>24-Jan-16</td><td>2</td><td>4</td><td>376992</td><td>13</td><td>9</td></tr>",
                            "<tr><td>69</td><td>24-Jan-16</td><td>2</td><td>2</td><td>2212408</td><td>32</td><td>5</td></tr>",
                            "<tr><td>70</td><td>25-Jan-16</td><td>4</td><td>3</td><td>1647695</td><td>39</td><td>9</td></tr>",
                            "<tr><td>71</td><td>25-Jan-16</td><td>4</td><td>2</td><td>1939925</td><td>15</td><td>6</td></tr>",
                            "<tr><td>72</td><td>25-Jan-16</td><td>4</td><td>3</td><td>1478952</td><td>14</td><td>3</td></tr>",
                            "<tr><td>73</td><td>25-Jan-16</td><td>1</td><td>4</td><td>320044</td><td>3</td><td>10</td></tr>",
                            "<tr><td>74</td><td>26-Jan-16</td><td>5</td><td>2</td><td>1098055</td><td>47</td><td>3</td></tr>",
                            "<tr><td>75</td><td>26-Jan-16</td><td>4</td><td>3</td><td>187862</td><td>25</td><td>5</td></tr>",
                            "<tr><td>76</td><td>26-Jan-16</td><td>4</td><td>3</td><td>1757106</td><td>26</td><td>6</td></tr>",
                            "<tr><td>77</td><td>27-Jan-16</td><td>5</td><td>3</td><td>1104992</td><td>3</td><td>6</td></tr>",
                            "<tr><td>78</td><td>28-Jan-16</td><td>6</td><td>1</td><td>448485</td><td>16</td><td>1</td></tr>",
                            "<tr><td>79</td><td>28-Jan-16</td><td>1</td><td>4</td><td>2520484</td><td>25</td><td>1</td></tr>",
                            "<tr><td>80</td><td>28-Jan-16</td><td>1</td><td>4</td><td>1339107</td><td>23</td><td>3</td></tr>",
                            "<tr><td>81</td><td>29-Jan-16</td><td>5</td><td>4</td><td>1812244</td><td>14</td><td>6</td></tr>",
                            "<tr><td>82</td><td>30-Jan-16</td><td>1</td><td>2</td><td>1069731</td><td>15</td><td>10</td></tr>",
                            "<tr><td>83</td><td>30-Jan-16</td><td>4</td><td>1</td><td>471072</td><td>34</td><td>8</td></tr>",
                            "<tr><td>84</td><td>30-Jan-16</td><td>6</td><td>4</td><td>470940</td><td>41</td><td>10</td></tr>",
                            "<tr><td>85</td><td>30-Jan-16</td><td>2</td><td>4</td><td>925322</td><td>19</td><td>10</td></tr>",
                            "<tr><td>86</td><td>31-Jan-16</td><td>6</td><td>2</td><td>2141700</td><td>36</td><td>1</td></tr>",
                            "<tr><td>87</td><td>31-Jan-16</td><td>5</td><td>4</td><td>778875</td><td>32</td><td>10</td></tr>",
                            "<tr><td>88</td><td>31-Jan-16</td><td>1</td><td>3</td><td>421196</td><td>24</td><td>1</td></tr>",
                            "<tr><td>89</td><td>2-Jan-16</td><td>2</td><td>4</td><td>219716</td><td>30</td><td>1</td></tr>",
                            "<tr><td>90</td><td>2-Jan-16</td><td>4</td><td>2</td><td>2685816</td><td>1</td><td>4</td></tr>",
                            "<tr><td>91</td><td>2-Jan-16</td><td>5</td><td>4</td><td>723609</td><td>24</td><td>7</td></tr>",
                            "<tr><td>92</td><td>2-Feb-16</td><td>6</td><td>4</td><td>388032</td><td>8</td><td>9</td></tr>",
                            "<tr><td>93</td><td>2-Feb-16</td><td>5</td><td>3</td><td>922020</td><td>11</td><td>10</td></tr>",
                            "<tr><td>94</td><td>2-Mar-16</td><td>5</td><td>4</td><td>965358</td><td>18</td><td>7</td></tr>",
                            "<tr><td>95</td><td>2-Mar-16</td><td>2</td><td>4</td><td>663816</td><td>22</td><td>5</td></tr>",
                            "<tr><td>96</td><td>2-Apr-16</td><td>5</td><td>3</td><td>728931</td><td>8</td><td>6</td></tr>",
                            "<tr><td>97</td><td>2-Apr-16</td><td>4</td><td>3</td><td>625536</td><td>25</td><td>5</td></tr>",
                            "<tr><td>98</td><td>2-Apr-16</td><td>7</td><td>1</td><td>1467782</td><td>47</td><td>5</td></tr>",
                            "<tr><td>99</td><td>2-Apr-16</td><td>5</td><td>2</td><td>2067236</td><td>11</td><td>6</td></tr>",
                            "<tr><td>100</td><td>2-May-16</td><td>2</td><td>3</td><td>531375</td><td>45</td><td>3</td></tr>",
                            "</table>"
                        ]
                    }
                }
            ],
            "execution_count": 5
        },
        {
            "cell_type": "markdown",
            "source": [
                "## EXISTS"
            ],
            "metadata": {
                "language": "sql",
                "azdata_cell_guid": "78d01d67-89d0-4b2e-bb78-2bb9e6072171"
            },
            "attachments": {}
        },
        {
            "cell_type": "markdown",
            "source": [
                "## Buscaremos a todos los vendedores que no vendieron usando EXISTS y el uso de un query correlacionado:"
            ],
            "metadata": {
                "language": "sql",
                "azdata_cell_guid": "d3d6a176-4893-4a8c-bfff-af776ab074a4"
            },
            "attachments": {}
        },
        {
            "cell_type": "markdown",
            "source": [
                "**6. Todos los vendedores que no han vendido nada**"
            ],
            "metadata": {
                "language": "sql",
                "azdata_cell_guid": "982d6af5-0833-4e9c-9c1d-817dbf02ef23"
            },
            "attachments": {}
        },
        {
            "cell_type": "code",
            "source": [
                "SELECT v.ID_Vendedor, v.Nombre, v.Apellido\r\n",
                "FROM vendedor AS v\r\n",
                "WHERE NOT EXISTS (\r\n",
                "    SELECT 1\r\n",
                "    FROM ventas AS ve\r\n",
                "    WHERE ve.ID_Vendedor = v.ID_Vendedor\r\n",
                ");\r\n",
                ""
            ],
            "metadata": {
                "language": "sql",
                "azdata_cell_guid": "9d7c6d2c-1e68-4a57-8b50-c710034f97b6",
                "tags": []
            },
            "outputs": [
                {
                    "output_type": "display_data",
                    "data": {
                        "text/html": "(1 row(s) affected)"
                    },
                    "metadata": {}
                },
                {
                    "output_type": "display_data",
                    "data": {
                        "text/html": "Total execution time: 00:00:01.007"
                    },
                    "metadata": {}
                },
                {
                    "output_type": "execute_result",
                    "metadata": {},
                    "execution_count": 7,
                    "data": {
                        "application/vnd.dataresource+json": {
                            "schema": {
                                "fields": [
                                    {
                                        "name": "ID_Vendedor"
                                    },
                                    {
                                        "name": "Nombre"
                                    },
                                    {
                                        "name": "Apellido"
                                    }
                                ]
                            },
                            "data": [
                                {
                                    "ID_Vendedor": "48",
                                    "Nombre": "ROBERTO",
                                    "Apellido": "MARTIN"
                                }
                            ]
                        },
                        "text/html": [
                            "<table>",
                            "<tr><th>ID_Vendedor</th><th>Nombre</th><th>Apellido</th></tr>",
                            "<tr><td>48</td><td>ROBERTO</td><td>MARTIN</td></tr>",
                            "</table>"
                        ]
                    }
                }
            ],
            "execution_count": 7
        },
        {
            "cell_type": "markdown",
            "source": [
                "## Subqueries en SELECT"
            ],
            "metadata": {
                "language": "sql",
                "azdata_cell_guid": "5d3e12c9-8781-4f4a-b80a-f7a2dc6ce19b"
            },
            "attachments": {}
        },
        {
            "cell_type": "markdown",
            "source": [
                "## Crea un subquery en SELECT para:"
            ],
            "metadata": {
                "language": "sql",
                "azdata_cell_guid": "ccf76291-e48e-4a14-abd0-27b02242a299"
            },
            "attachments": {}
        },
        {
            "cell_type": "markdown",
            "source": [
                "**7. Obtener el % que representa cada venta del total por cliente**"
            ],
            "metadata": {
                "language": "sql",
                "azdata_cell_guid": "4b873944-0d1e-451f-b0ff-b5587b0a8625"
            },
            "attachments": {}
        },
        {
            "cell_type": "code",
            "source": [
                "SELECT v.ID_Venta,\r\n",
                "       v.ID_Cliente,\r\n",
                "       v.Venta,\r\n",
                "       (v.Venta / c.Total_Ventas) * 100 AS Porcentaje_del_Total\r\n",
                "FROM ventas AS v\r\n",
                "JOIN (\r\n",
                "    SELECT ID_Cliente, SUM(Venta) AS Total_Ventas\r\n",
                "    FROM ventas\r\n",
                "    GROUP BY ID_Cliente\r\n",
                ") AS c ON v.ID_Cliente = c.ID_Cliente\r\n",
                "LIMIT 100;"
            ],
            "metadata": {
                "language": "sql",
                "azdata_cell_guid": "d765aa2d-080a-4e5e-8c40-ccae0371af31"
            },
            "outputs": [
                {
                    "output_type": "display_data",
                    "data": {
                        "text/html": "(100 row(s) affected)"
                    },
                    "metadata": {}
                },
                {
                    "output_type": "display_data",
                    "data": {
                        "text/html": "Total execution time: 00:00:01.007"
                    },
                    "metadata": {}
                },
                {
                    "output_type": "execute_result",
                    "metadata": {},
                    "execution_count": 8,
                    "data": {
                        "application/vnd.dataresource+json": {
                            "schema": {
                                "fields": [
                                    {
                                        "name": "ID_Venta"
                                    },
                                    {
                                        "name": "ID_Cliente"
                                    },
                                    {
                                        "name": "Venta"
                                    },
                                    {
                                        "name": "Porcentaje_del_Total"
                                    }
                                ]
                            },
                            "data": [
                                {
                                    "ID_Venta": "1",
                                    "ID_Cliente": "3",
                                    "Venta": "2133903",
                                    "Porcentaje_del_Total": "0.5378"
                                },
                                {
                                    "ID_Venta": "2",
                                    "ID_Cliente": "1",
                                    "Venta": "1945424",
                                    "Porcentaje_del_Total": "0.5003"
                                },
                                {
                                    "ID_Venta": "3",
                                    "ID_Cliente": "10",
                                    "Venta": "712416",
                                    "Porcentaje_del_Total": "0.1787"
                                },
                                {
                                    "ID_Venta": "4",
                                    "ID_Cliente": "9",
                                    "Venta": "1815450",
                                    "Porcentaje_del_Total": "0.4470"
                                },
                                {
                                    "ID_Venta": "5",
                                    "ID_Cliente": "8",
                                    "Venta": "1138024",
                                    "Porcentaje_del_Total": "0.2961"
                                },
                                {
                                    "ID_Venta": "6",
                                    "ID_Cliente": "3",
                                    "Venta": "953156",
                                    "Porcentaje_del_Total": "0.2402"
                                },
                                {
                                    "ID_Venta": "7",
                                    "ID_Cliente": "9",
                                    "Venta": "406686",
                                    "Porcentaje_del_Total": "0.1001"
                                },
                                {
                                    "ID_Venta": "8",
                                    "ID_Cliente": "6",
                                    "Venta": "2158475",
                                    "Porcentaje_del_Total": "0.5232"
                                },
                                {
                                    "ID_Venta": "9",
                                    "ID_Cliente": "10",
                                    "Venta": "1024380",
                                    "Porcentaje_del_Total": "0.2569"
                                },
                                {
                                    "ID_Venta": "10",
                                    "ID_Cliente": "7",
                                    "Venta": "2042768",
                                    "Porcentaje_del_Total": "0.5158"
                                },
                                {
                                    "ID_Venta": "11",
                                    "ID_Cliente": "8",
                                    "Venta": "627068",
                                    "Porcentaje_del_Total": "0.1631"
                                },
                                {
                                    "ID_Venta": "12",
                                    "ID_Cliente": "2",
                                    "Venta": "999328",
                                    "Porcentaje_del_Total": "0.2344"
                                },
                                {
                                    "ID_Venta": "13",
                                    "ID_Cliente": "5",
                                    "Venta": "2937300",
                                    "Porcentaje_del_Total": "0.7344"
                                },
                                {
                                    "ID_Venta": "14",
                                    "ID_Cliente": "6",
                                    "Venta": "664700",
                                    "Porcentaje_del_Total": "0.1611"
                                },
                                {
                                    "ID_Venta": "15",
                                    "ID_Cliente": "1",
                                    "Venta": "820336",
                                    "Porcentaje_del_Total": "0.2109"
                                },
                                {
                                    "ID_Venta": "16",
                                    "ID_Cliente": "4",
                                    "Venta": "937960",
                                    "Porcentaje_del_Total": "0.2329"
                                },
                                {
                                    "ID_Venta": "17",
                                    "ID_Cliente": "3",
                                    "Venta": "358846",
                                    "Porcentaje_del_Total": "0.0904"
                                },
                                {
                                    "ID_Venta": "18",
                                    "ID_Cliente": "3",
                                    "Venta": "1679605",
                                    "Porcentaje_del_Total": "0.4233"
                                },
                                {
                                    "ID_Venta": "19",
                                    "ID_Cliente": "3",
                                    "Venta": "472615",
                                    "Porcentaje_del_Total": "0.1191"
                                },
                                {
                                    "ID_Venta": "20",
                                    "ID_Cliente": "3",
                                    "Venta": "1169496",
                                    "Porcentaje_del_Total": "0.2948"
                                },
                                {
                                    "ID_Venta": "21",
                                    "ID_Cliente": "10",
                                    "Venta": "2020992",
                                    "Porcentaje_del_Total": "0.5069"
                                },
                                {
                                    "ID_Venta": "22",
                                    "ID_Cliente": "10",
                                    "Venta": "727552",
                                    "Porcentaje_del_Total": "0.1825"
                                },
                                {
                                    "ID_Venta": "23",
                                    "ID_Cliente": "8",
                                    "Venta": "1438929",
                                    "Porcentaje_del_Total": "0.3743"
                                },
                                {
                                    "ID_Venta": "24",
                                    "ID_Cliente": "2",
                                    "Venta": "427390",
                                    "Porcentaje_del_Total": "0.1003"
                                },
                                {
                                    "ID_Venta": "25",
                                    "ID_Cliente": "8",
                                    "Venta": "1170684",
                                    "Porcentaje_del_Total": "0.3046"
                                },
                                {
                                    "ID_Venta": "26",
                                    "ID_Cliente": "4",
                                    "Venta": "549780",
                                    "Porcentaje_del_Total": "0.1365"
                                },
                                {
                                    "ID_Venta": "27",
                                    "ID_Cliente": "4",
                                    "Venta": "659330",
                                    "Porcentaje_del_Total": "0.1637"
                                },
                                {
                                    "ID_Venta": "28",
                                    "ID_Cliente": "8",
                                    "Venta": "1660560",
                                    "Porcentaje_del_Total": "0.4320"
                                },
                                {
                                    "ID_Venta": "29",
                                    "ID_Cliente": "1",
                                    "Venta": "753571",
                                    "Porcentaje_del_Total": "0.1938"
                                },
                                {
                                    "ID_Venta": "30",
                                    "ID_Cliente": "5",
                                    "Venta": "939072",
                                    "Porcentaje_del_Total": "0.2348"
                                },
                                {
                                    "ID_Venta": "31",
                                    "ID_Cliente": "6",
                                    "Venta": "1405374",
                                    "Porcentaje_del_Total": "0.3406"
                                },
                                {
                                    "ID_Venta": "32",
                                    "ID_Cliente": "5",
                                    "Venta": "627348",
                                    "Porcentaje_del_Total": "0.1569"
                                },
                                {
                                    "ID_Venta": "33",
                                    "ID_Cliente": "1",
                                    "Venta": "1504110",
                                    "Porcentaje_del_Total": "0.3868"
                                },
                                {
                                    "ID_Venta": "34",
                                    "ID_Cliente": "3",
                                    "Venta": "2483197",
                                    "Porcentaje_del_Total": "0.6258"
                                },
                                {
                                    "ID_Venta": "35",
                                    "ID_Cliente": "9",
                                    "Venta": "1799771",
                                    "Porcentaje_del_Total": "0.4431"
                                },
                                {
                                    "ID_Venta": "36",
                                    "ID_Cliente": "2",
                                    "Venta": "1054340",
                                    "Porcentaje_del_Total": "0.2473"
                                },
                                {
                                    "ID_Venta": "37",
                                    "ID_Cliente": "6",
                                    "Venta": "1160572",
                                    "Porcentaje_del_Total": "0.2813"
                                },
                                {
                                    "ID_Venta": "38",
                                    "ID_Cliente": "1",
                                    "Venta": "1492800",
                                    "Porcentaje_del_Total": "0.3839"
                                },
                                {
                                    "ID_Venta": "39",
                                    "ID_Cliente": "5",
                                    "Venta": "1154980",
                                    "Porcentaje_del_Total": "0.2888"
                                },
                                {
                                    "ID_Venta": "40",
                                    "ID_Cliente": "2",
                                    "Venta": "1057784",
                                    "Porcentaje_del_Total": "0.2482"
                                },
                                {
                                    "ID_Venta": "41",
                                    "ID_Cliente": "3",
                                    "Venta": "1421860",
                                    "Porcentaje_del_Total": "0.3584"
                                },
                                {
                                    "ID_Venta": "42",
                                    "ID_Cliente": "4",
                                    "Venta": "1426992",
                                    "Porcentaje_del_Total": "0.3543"
                                },
                                {
                                    "ID_Venta": "43",
                                    "ID_Cliente": "5",
                                    "Venta": "579716",
                                    "Porcentaje_del_Total": "0.1449"
                                },
                                {
                                    "ID_Venta": "44",
                                    "ID_Cliente": "8",
                                    "Venta": "1537062",
                                    "Porcentaje_del_Total": "0.3999"
                                },
                                {
                                    "ID_Venta": "45",
                                    "ID_Cliente": "5",
                                    "Venta": "2851058",
                                    "Porcentaje_del_Total": "0.7129"
                                },
                                {
                                    "ID_Venta": "46",
                                    "ID_Cliente": "1",
                                    "Venta": "1294048",
                                    "Porcentaje_del_Total": "0.3328"
                                },
                                {
                                    "ID_Venta": "47",
                                    "ID_Cliente": "10",
                                    "Venta": "249418",
                                    "Porcentaje_del_Total": "0.0626"
                                },
                                {
                                    "ID_Venta": "48",
                                    "ID_Cliente": "3",
                                    "Venta": "1457488",
                                    "Porcentaje_del_Total": "0.3673"
                                },
                                {
                                    "ID_Venta": "49",
                                    "ID_Cliente": "2",
                                    "Venta": "321680",
                                    "Porcentaje_del_Total": "0.0755"
                                },
                                {
                                    "ID_Venta": "50",
                                    "ID_Cliente": "2",
                                    "Venta": "957625",
                                    "Porcentaje_del_Total": "0.2247"
                                },
                                {
                                    "ID_Venta": "51",
                                    "ID_Cliente": "2",
                                    "Venta": "568620",
                                    "Porcentaje_del_Total": "0.1334"
                                },
                                {
                                    "ID_Venta": "52",
                                    "ID_Cliente": "10",
                                    "Venta": "1605564",
                                    "Porcentaje_del_Total": "0.4027"
                                },
                                {
                                    "ID_Venta": "53",
                                    "ID_Cliente": "4",
                                    "Venta": "1438748",
                                    "Porcentaje_del_Total": "0.3572"
                                },
                                {
                                    "ID_Venta": "54",
                                    "ID_Cliente": "3",
                                    "Venta": "686996",
                                    "Porcentaje_del_Total": "0.1731"
                                },
                                {
                                    "ID_Venta": "55",
                                    "ID_Cliente": "8",
                                    "Venta": "983234",
                                    "Porcentaje_del_Total": "0.2558"
                                },
                                {
                                    "ID_Venta": "56",
                                    "ID_Cliente": "2",
                                    "Venta": "239220",
                                    "Porcentaje_del_Total": "0.0561"
                                },
                                {
                                    "ID_Venta": "57",
                                    "ID_Cliente": "1",
                                    "Venta": "512730",
                                    "Porcentaje_del_Total": "0.1318"
                                },
                                {
                                    "ID_Venta": "58",
                                    "ID_Cliente": "2",
                                    "Venta": "2287626",
                                    "Porcentaje_del_Total": "0.5367"
                                },
                                {
                                    "ID_Venta": "59",
                                    "ID_Cliente": "4",
                                    "Venta": "1373816",
                                    "Porcentaje_del_Total": "0.3411"
                                },
                                {
                                    "ID_Venta": "60",
                                    "ID_Cliente": "9",
                                    "Venta": "1920240",
                                    "Porcentaje_del_Total": "0.4728"
                                },
                                {
                                    "ID_Venta": "61",
                                    "ID_Cliente": "7",
                                    "Venta": "1140840",
                                    "Porcentaje_del_Total": "0.2880"
                                },
                                {
                                    "ID_Venta": "62",
                                    "ID_Cliente": "8",
                                    "Venta": "1142938",
                                    "Porcentaje_del_Total": "0.2973"
                                },
                                {
                                    "ID_Venta": "63",
                                    "ID_Cliente": "3",
                                    "Venta": "738144",
                                    "Porcentaje_del_Total": "0.1860"
                                },
                                {
                                    "ID_Venta": "64",
                                    "ID_Cliente": "9",
                                    "Venta": "509010",
                                    "Porcentaje_del_Total": "0.1253"
                                },
                                {
                                    "ID_Venta": "65",
                                    "ID_Cliente": "5",
                                    "Venta": "1436832",
                                    "Porcentaje_del_Total": "0.3593"
                                },
                                {
                                    "ID_Venta": "66",
                                    "ID_Cliente": "10",
                                    "Venta": "2119424",
                                    "Porcentaje_del_Total": "0.5315"
                                },
                                {
                                    "ID_Venta": "67",
                                    "ID_Cliente": "2",
                                    "Venta": "948927",
                                    "Porcentaje_del_Total": "0.2226"
                                },
                                {
                                    "ID_Venta": "68",
                                    "ID_Cliente": "9",
                                    "Venta": "376992",
                                    "Porcentaje_del_Total": "0.0928"
                                },
                                {
                                    "ID_Venta": "69",
                                    "ID_Cliente": "5",
                                    "Venta": "2212408",
                                    "Porcentaje_del_Total": "0.5532"
                                },
                                {
                                    "ID_Venta": "70",
                                    "ID_Cliente": "9",
                                    "Venta": "1647695",
                                    "Porcentaje_del_Total": "0.4057"
                                },
                                {
                                    "ID_Venta": "71",
                                    "ID_Cliente": "6",
                                    "Venta": "1939925",
                                    "Porcentaje_del_Total": "0.4702"
                                },
                                {
                                    "ID_Venta": "72",
                                    "ID_Cliente": "3",
                                    "Venta": "1478952",
                                    "Porcentaje_del_Total": "0.3727"
                                },
                                {
                                    "ID_Venta": "73",
                                    "ID_Cliente": "10",
                                    "Venta": "320044",
                                    "Porcentaje_del_Total": "0.0803"
                                },
                                {
                                    "ID_Venta": "74",
                                    "ID_Cliente": "3",
                                    "Venta": "1098055",
                                    "Porcentaje_del_Total": "0.2767"
                                },
                                {
                                    "ID_Venta": "75",
                                    "ID_Cliente": "5",
                                    "Venta": "187862",
                                    "Porcentaje_del_Total": "0.0470"
                                },
                                {
                                    "ID_Venta": "76",
                                    "ID_Cliente": "6",
                                    "Venta": "1757106",
                                    "Porcentaje_del_Total": "0.4259"
                                },
                                {
                                    "ID_Venta": "77",
                                    "ID_Cliente": "6",
                                    "Venta": "1104992",
                                    "Porcentaje_del_Total": "0.2678"
                                },
                                {
                                    "ID_Venta": "78",
                                    "ID_Cliente": "1",
                                    "Venta": "448485",
                                    "Porcentaje_del_Total": "0.1153"
                                },
                                {
                                    "ID_Venta": "79",
                                    "ID_Cliente": "1",
                                    "Venta": "2520484",
                                    "Porcentaje_del_Total": "0.6481"
                                },
                                {
                                    "ID_Venta": "80",
                                    "ID_Cliente": "3",
                                    "Venta": "1339107",
                                    "Porcentaje_del_Total": "0.3375"
                                },
                                {
                                    "ID_Venta": "81",
                                    "ID_Cliente": "6",
                                    "Venta": "1812244",
                                    "Porcentaje_del_Total": "0.4392"
                                },
                                {
                                    "ID_Venta": "82",
                                    "ID_Cliente": "10",
                                    "Venta": "1069731",
                                    "Porcentaje_del_Total": "0.2683"
                                },
                                {
                                    "ID_Venta": "83",
                                    "ID_Cliente": "8",
                                    "Venta": "471072",
                                    "Porcentaje_del_Total": "0.1226"
                                },
                                {
                                    "ID_Venta": "84",
                                    "ID_Cliente": "10",
                                    "Venta": "470940",
                                    "Porcentaje_del_Total": "0.1181"
                                },
                                {
                                    "ID_Venta": "85",
                                    "ID_Cliente": "10",
                                    "Venta": "925322",
                                    "Porcentaje_del_Total": "0.2321"
                                },
                                {
                                    "ID_Venta": "86",
                                    "ID_Cliente": "1",
                                    "Venta": "2141700",
                                    "Porcentaje_del_Total": "0.5507"
                                },
                                {
                                    "ID_Venta": "87",
                                    "ID_Cliente": "10",
                                    "Venta": "778875",
                                    "Porcentaje_del_Total": "0.1953"
                                },
                                {
                                    "ID_Venta": "88",
                                    "ID_Cliente": "1",
                                    "Venta": "421196",
                                    "Porcentaje_del_Total": "0.1083"
                                },
                                {
                                    "ID_Venta": "89",
                                    "ID_Cliente": "1",
                                    "Venta": "219716",
                                    "Porcentaje_del_Total": "0.0565"
                                },
                                {
                                    "ID_Venta": "90",
                                    "ID_Cliente": "4",
                                    "Venta": "2685816",
                                    "Porcentaje_del_Total": "0.6668"
                                },
                                {
                                    "ID_Venta": "91",
                                    "ID_Cliente": "7",
                                    "Venta": "723609",
                                    "Porcentaje_del_Total": "0.1827"
                                },
                                {
                                    "ID_Venta": "92",
                                    "ID_Cliente": "9",
                                    "Venta": "388032",
                                    "Porcentaje_del_Total": "0.0955"
                                },
                                {
                                    "ID_Venta": "93",
                                    "ID_Cliente": "10",
                                    "Venta": "922020",
                                    "Porcentaje_del_Total": "0.2312"
                                },
                                {
                                    "ID_Venta": "94",
                                    "ID_Cliente": "7",
                                    "Venta": "965358",
                                    "Porcentaje_del_Total": "0.2437"
                                },
                                {
                                    "ID_Venta": "95",
                                    "ID_Cliente": "5",
                                    "Venta": "663816",
                                    "Porcentaje_del_Total": "0.1660"
                                },
                                {
                                    "ID_Venta": "96",
                                    "ID_Cliente": "6",
                                    "Venta": "728931",
                                    "Porcentaje_del_Total": "0.1767"
                                },
                                {
                                    "ID_Venta": "97",
                                    "ID_Cliente": "5",
                                    "Venta": "625536",
                                    "Porcentaje_del_Total": "0.1564"
                                },
                                {
                                    "ID_Venta": "98",
                                    "ID_Cliente": "5",
                                    "Venta": "1467782",
                                    "Porcentaje_del_Total": "0.3670"
                                },
                                {
                                    "ID_Venta": "99",
                                    "ID_Cliente": "6",
                                    "Venta": "2067236",
                                    "Porcentaje_del_Total": "0.5010"
                                },
                                {
                                    "ID_Venta": "100",
                                    "ID_Cliente": "3",
                                    "Venta": "531375",
                                    "Porcentaje_del_Total": "0.1339"
                                }
                            ]
                        },
                        "text/html": [
                            "<table>",
                            "<tr><th>ID_Venta</th><th>ID_Cliente</th><th>Venta</th><th>Porcentaje_del_Total</th></tr>",
                            "<tr><td>1</td><td>3</td><td>2133903</td><td>0.5378</td></tr>",
                            "<tr><td>2</td><td>1</td><td>1945424</td><td>0.5003</td></tr>",
                            "<tr><td>3</td><td>10</td><td>712416</td><td>0.1787</td></tr>",
                            "<tr><td>4</td><td>9</td><td>1815450</td><td>0.4470</td></tr>",
                            "<tr><td>5</td><td>8</td><td>1138024</td><td>0.2961</td></tr>",
                            "<tr><td>6</td><td>3</td><td>953156</td><td>0.2402</td></tr>",
                            "<tr><td>7</td><td>9</td><td>406686</td><td>0.1001</td></tr>",
                            "<tr><td>8</td><td>6</td><td>2158475</td><td>0.5232</td></tr>",
                            "<tr><td>9</td><td>10</td><td>1024380</td><td>0.2569</td></tr>",
                            "<tr><td>10</td><td>7</td><td>2042768</td><td>0.5158</td></tr>",
                            "<tr><td>11</td><td>8</td><td>627068</td><td>0.1631</td></tr>",
                            "<tr><td>12</td><td>2</td><td>999328</td><td>0.2344</td></tr>",
                            "<tr><td>13</td><td>5</td><td>2937300</td><td>0.7344</td></tr>",
                            "<tr><td>14</td><td>6</td><td>664700</td><td>0.1611</td></tr>",
                            "<tr><td>15</td><td>1</td><td>820336</td><td>0.2109</td></tr>",
                            "<tr><td>16</td><td>4</td><td>937960</td><td>0.2329</td></tr>",
                            "<tr><td>17</td><td>3</td><td>358846</td><td>0.0904</td></tr>",
                            "<tr><td>18</td><td>3</td><td>1679605</td><td>0.4233</td></tr>",
                            "<tr><td>19</td><td>3</td><td>472615</td><td>0.1191</td></tr>",
                            "<tr><td>20</td><td>3</td><td>1169496</td><td>0.2948</td></tr>",
                            "<tr><td>21</td><td>10</td><td>2020992</td><td>0.5069</td></tr>",
                            "<tr><td>22</td><td>10</td><td>727552</td><td>0.1825</td></tr>",
                            "<tr><td>23</td><td>8</td><td>1438929</td><td>0.3743</td></tr>",
                            "<tr><td>24</td><td>2</td><td>427390</td><td>0.1003</td></tr>",
                            "<tr><td>25</td><td>8</td><td>1170684</td><td>0.3046</td></tr>",
                            "<tr><td>26</td><td>4</td><td>549780</td><td>0.1365</td></tr>",
                            "<tr><td>27</td><td>4</td><td>659330</td><td>0.1637</td></tr>",
                            "<tr><td>28</td><td>8</td><td>1660560</td><td>0.4320</td></tr>",
                            "<tr><td>29</td><td>1</td><td>753571</td><td>0.1938</td></tr>",
                            "<tr><td>30</td><td>5</td><td>939072</td><td>0.2348</td></tr>",
                            "<tr><td>31</td><td>6</td><td>1405374</td><td>0.3406</td></tr>",
                            "<tr><td>32</td><td>5</td><td>627348</td><td>0.1569</td></tr>",
                            "<tr><td>33</td><td>1</td><td>1504110</td><td>0.3868</td></tr>",
                            "<tr><td>34</td><td>3</td><td>2483197</td><td>0.6258</td></tr>",
                            "<tr><td>35</td><td>9</td><td>1799771</td><td>0.4431</td></tr>",
                            "<tr><td>36</td><td>2</td><td>1054340</td><td>0.2473</td></tr>",
                            "<tr><td>37</td><td>6</td><td>1160572</td><td>0.2813</td></tr>",
                            "<tr><td>38</td><td>1</td><td>1492800</td><td>0.3839</td></tr>",
                            "<tr><td>39</td><td>5</td><td>1154980</td><td>0.2888</td></tr>",
                            "<tr><td>40</td><td>2</td><td>1057784</td><td>0.2482</td></tr>",
                            "<tr><td>41</td><td>3</td><td>1421860</td><td>0.3584</td></tr>",
                            "<tr><td>42</td><td>4</td><td>1426992</td><td>0.3543</td></tr>",
                            "<tr><td>43</td><td>5</td><td>579716</td><td>0.1449</td></tr>",
                            "<tr><td>44</td><td>8</td><td>1537062</td><td>0.3999</td></tr>",
                            "<tr><td>45</td><td>5</td><td>2851058</td><td>0.7129</td></tr>",
                            "<tr><td>46</td><td>1</td><td>1294048</td><td>0.3328</td></tr>",
                            "<tr><td>47</td><td>10</td><td>249418</td><td>0.0626</td></tr>",
                            "<tr><td>48</td><td>3</td><td>1457488</td><td>0.3673</td></tr>",
                            "<tr><td>49</td><td>2</td><td>321680</td><td>0.0755</td></tr>",
                            "<tr><td>50</td><td>2</td><td>957625</td><td>0.2247</td></tr>",
                            "<tr><td>51</td><td>2</td><td>568620</td><td>0.1334</td></tr>",
                            "<tr><td>52</td><td>10</td><td>1605564</td><td>0.4027</td></tr>",
                            "<tr><td>53</td><td>4</td><td>1438748</td><td>0.3572</td></tr>",
                            "<tr><td>54</td><td>3</td><td>686996</td><td>0.1731</td></tr>",
                            "<tr><td>55</td><td>8</td><td>983234</td><td>0.2558</td></tr>",
                            "<tr><td>56</td><td>2</td><td>239220</td><td>0.0561</td></tr>",
                            "<tr><td>57</td><td>1</td><td>512730</td><td>0.1318</td></tr>",
                            "<tr><td>58</td><td>2</td><td>2287626</td><td>0.5367</td></tr>",
                            "<tr><td>59</td><td>4</td><td>1373816</td><td>0.3411</td></tr>",
                            "<tr><td>60</td><td>9</td><td>1920240</td><td>0.4728</td></tr>",
                            "<tr><td>61</td><td>7</td><td>1140840</td><td>0.2880</td></tr>",
                            "<tr><td>62</td><td>8</td><td>1142938</td><td>0.2973</td></tr>",
                            "<tr><td>63</td><td>3</td><td>738144</td><td>0.1860</td></tr>",
                            "<tr><td>64</td><td>9</td><td>509010</td><td>0.1253</td></tr>",
                            "<tr><td>65</td><td>5</td><td>1436832</td><td>0.3593</td></tr>",
                            "<tr><td>66</td><td>10</td><td>2119424</td><td>0.5315</td></tr>",
                            "<tr><td>67</td><td>2</td><td>948927</td><td>0.2226</td></tr>",
                            "<tr><td>68</td><td>9</td><td>376992</td><td>0.0928</td></tr>",
                            "<tr><td>69</td><td>5</td><td>2212408</td><td>0.5532</td></tr>",
                            "<tr><td>70</td><td>9</td><td>1647695</td><td>0.4057</td></tr>",
                            "<tr><td>71</td><td>6</td><td>1939925</td><td>0.4702</td></tr>",
                            "<tr><td>72</td><td>3</td><td>1478952</td><td>0.3727</td></tr>",
                            "<tr><td>73</td><td>10</td><td>320044</td><td>0.0803</td></tr>",
                            "<tr><td>74</td><td>3</td><td>1098055</td><td>0.2767</td></tr>",
                            "<tr><td>75</td><td>5</td><td>187862</td><td>0.0470</td></tr>",
                            "<tr><td>76</td><td>6</td><td>1757106</td><td>0.4259</td></tr>",
                            "<tr><td>77</td><td>6</td><td>1104992</td><td>0.2678</td></tr>",
                            "<tr><td>78</td><td>1</td><td>448485</td><td>0.1153</td></tr>",
                            "<tr><td>79</td><td>1</td><td>2520484</td><td>0.6481</td></tr>",
                            "<tr><td>80</td><td>3</td><td>1339107</td><td>0.3375</td></tr>",
                            "<tr><td>81</td><td>6</td><td>1812244</td><td>0.4392</td></tr>",
                            "<tr><td>82</td><td>10</td><td>1069731</td><td>0.2683</td></tr>",
                            "<tr><td>83</td><td>8</td><td>471072</td><td>0.1226</td></tr>",
                            "<tr><td>84</td><td>10</td><td>470940</td><td>0.1181</td></tr>",
                            "<tr><td>85</td><td>10</td><td>925322</td><td>0.2321</td></tr>",
                            "<tr><td>86</td><td>1</td><td>2141700</td><td>0.5507</td></tr>",
                            "<tr><td>87</td><td>10</td><td>778875</td><td>0.1953</td></tr>",
                            "<tr><td>88</td><td>1</td><td>421196</td><td>0.1083</td></tr>",
                            "<tr><td>89</td><td>1</td><td>219716</td><td>0.0565</td></tr>",
                            "<tr><td>90</td><td>4</td><td>2685816</td><td>0.6668</td></tr>",
                            "<tr><td>91</td><td>7</td><td>723609</td><td>0.1827</td></tr>",
                            "<tr><td>92</td><td>9</td><td>388032</td><td>0.0955</td></tr>",
                            "<tr><td>93</td><td>10</td><td>922020</td><td>0.2312</td></tr>",
                            "<tr><td>94</td><td>7</td><td>965358</td><td>0.2437</td></tr>",
                            "<tr><td>95</td><td>5</td><td>663816</td><td>0.1660</td></tr>",
                            "<tr><td>96</td><td>6</td><td>728931</td><td>0.1767</td></tr>",
                            "<tr><td>97</td><td>5</td><td>625536</td><td>0.1564</td></tr>",
                            "<tr><td>98</td><td>5</td><td>1467782</td><td>0.3670</td></tr>",
                            "<tr><td>99</td><td>6</td><td>2067236</td><td>0.5010</td></tr>",
                            "<tr><td>100</td><td>3</td><td>531375</td><td>0.1339</td></tr>",
                            "</table>"
                        ]
                    }
                }
            ],
            "execution_count": 8
        }
    ]
}