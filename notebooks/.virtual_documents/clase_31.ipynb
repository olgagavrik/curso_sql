use datos;





SELECT * FROM empleados;





SELECT * from ventas;


SELECT venta FROM ventas;


SELECT venta, fecha FROM ventas;


SELECT venta, fecha, venta*0.16 FROM ventas;


SELECT venta, fecha, venta*0.16 AS IVA FROM ventas;


SELECT venta, fecha, venta*0.16 AS IVA_cobrado FROM ventas;


SELECT fecha, venta FROM ventas WHERE ID_local = 2;


SELECT fecha, venta FROM ventas WHERE ID_local = 2;


SELECT * FROM ventas WHERE venta < 1000;


SELECT * FROM ventas WHERE venta <=1000;


SELECT * FROM ventas WHERE ID_local !=2;


SELECT * FROM ventas WHERE ID_local = 2 AND clave_producto = "pzz";


SELECT * FROM ventas WHERE ID_local = 2 OR ID_local = 4;


SELECT * FROM ventas WHERE clave_producto !="pzz";


SELECT * FROM ventas WHERE NOT clave_producto = "pzz";


SELECT * FROM ventas WHERE NOT clave_producto = "pzz" AND ID_local = 2;


SELECT * FROM ventas WHERE NOT clave_producto = "pzz" AND NOT ID_local = 2;


SELECT * FROM ventas WHERE clave_producto = "clz" OR clave_producto = "pzz" OR clave_producto = "qsd";


SELECT * FROM ventas WHERE clave_producto IN ("clz","pzz","qsd");


SELECT * FROM ventas WHERE ID_local IN (1,2,3) AND clave_producto = "pzz";


SELECT * FROM ventas WHERE ID_local IN (1,2,3) AND clave_producto IN ("clz", "pzz");


SELECT * FROM ventas WHERE venta >= 500 AND venta < 1000;


SELECT * FROM ventas WHERE venta BETWEEN 500 AND 1000;


SELECT * FROM ventas WHERE clave_producto ="z";


SELECT * FROM ventas WHERE clave_producto LIKE "%z";


SELECT * FROM ventas WHERE clave_producto LIKE "c%";


SELECT * FROM ventas WHERE clave_producto LIKE "%d";


SELECT * FROM ventas WHERE clave_producto LIKE "_z";


USE datos;


SELECT * FROM ventas WHERE clave_producto LIKE "_z_";


SELECT * FROM ventas WHERE clave_producto LIKE "__z";


SELECT * FROM empleados WHERE nombre LIKE "A%";


SELECT * FROM empleados WHERE nombre LIKE "%a";


SELECT * FROM empleados WHERE apellido REGEXP "ez";


SELECT * FROM empleados WHERE apellido REGEXP "e";


SELECT * FROM empleados WHERE apellido REGEXP "^L";


SELECT * FROM empleados WHERE apellido REGEXP "^Lo";


SELECT * FROM empleados WHERE apellido REGEXP "ez$";


SELECT * FROM empleados WHERE apellido REGEXP "ez|iz";


SELECT * FROM empleados WHERE apellido REGEXP "ez|iz|b";


SELECT * FROM empleados WHERE apellido REGEXP "ez|iz|b$";


SELECT * FROM empleados ORDER BY nombre;


SELECT * FROM empleados ORDER BY nombre DESC;


SELECT * FROM empleados ORDER BY apellido DESC;


SELECT * FROM empleados ORDER BY telefono DESC;


SELECT * FROM empleados WHERE apellido lIKE "%ez" ORDER BY apellido DESC;


SELECT * FROM empleados WHERE apellido lIKE "%ez" ORDER BY nombre DESC;


SELECT telefono, edad FROM empleados WHERE apellido LIKE "%ez" ORDER BY nombre DESC;


SELECT * FROM empleados WHERE domicilio IS NULL;


SELECT * FROM empleados WHERE domicilio IS NOT NULL;


SELECT * FROM ventas;


SELECT * FROM ventas LIMIT 5;


SELECT * FROM ventas LIMIT 5,9;



