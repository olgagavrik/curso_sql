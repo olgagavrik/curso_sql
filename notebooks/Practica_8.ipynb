{
    "metadata": {
        "kernelspec": {
            "name": "SQL",
            "display_name": "SQL",
            "language": "sql"
        },
        "language_info": {
            "name": "sql",
            "version": ""
        }
    },
    "nbformat_minor": 2,
    "nbformat": 4,
    "cells": [
        {
            "cell_type": "markdown",
            "source": [
                "# Practica 8 - Modificación de tablas y registros"
            ],
            "metadata": {
                "azdata_cell_guid": "e0a7d209-e537-4dee-bee8-10d881270854"
            },
            "attachments": {}
        },
        {
            "cell_type": "markdown",
            "source": [
                "### Trabajar con el esquema **base.sql**"
            ],
            "metadata": {
                "azdata_cell_guid": "59f07c1f-f176-4b51-8ec1-f5a9e88daedb"
            },
            "attachments": {}
        },
        {
            "cell_type": "markdown",
            "source": [
                "## 1. Inserta 2 productos nuevos en la tabla producto, puedes llamarlos producto1 y producto2."
            ],
            "metadata": {
                "azdata_cell_guid": "610528c4-d521-4907-bbcc-4d8d929ed1c9"
            },
            "attachments": {}
        },
        {
            "cell_type": "code",
            "source": [
                "USE base;\r\n",
                "INSERT INTO producto (ID_Producto, Producto)\r\n",
                "VALUES\r\n",
                "    (8, 'producto1'),  \r\n",
                "    (9, 'producto2');\r\n",
                "SELECT *FROM producto;\r\n",
                "\r\n",
                ""
            ],
            "metadata": {
                "azdata_cell_guid": "8096d2e8-1c81-4d34-9197-8dd11a235803",
                "language": "sql",
                "tags": []
            },
            "outputs": [
                {
                    "output_type": "display_data",
                    "data": {
                        "text/html": "Commands completed successfully"
                    },
                    "metadata": {}
                },
                {
                    "output_type": "display_data",
                    "data": {
                        "text/html": "Commands completed successfully"
                    },
                    "metadata": {}
                },
                {
                    "output_type": "display_data",
                    "data": {
                        "text/html": "(9 row(s) affected)"
                    },
                    "metadata": {}
                },
                {
                    "output_type": "display_data",
                    "data": {
                        "text/html": "Total execution time: 00:00:01.030"
                    },
                    "metadata": {}
                },
                {
                    "output_type": "execute_result",
                    "metadata": {},
                    "execution_count": 10,
                    "data": {
                        "application/vnd.dataresource+json": {
                            "schema": {
                                "fields": [
                                    {
                                        "name": "ID_Producto"
                                    },
                                    {
                                        "name": "Producto"
                                    }
                                ]
                            },
                            "data": [
                                {
                                    "ID_Producto": "1",
                                    "Producto": "Terreno"
                                },
                                {
                                    "ID_Producto": "2",
                                    "Producto": "Oficina"
                                },
                                {
                                    "ID_Producto": "3",
                                    "Producto": "Local"
                                },
                                {
                                    "ID_Producto": "4",
                                    "Producto": "Nave"
                                },
                                {
                                    "ID_Producto": "5",
                                    "Producto": "Isla"
                                },
                                {
                                    "ID_Producto": "6",
                                    "Producto": "Consultorio"
                                },
                                {
                                    "ID_Producto": "7",
                                    "Producto": "Remates"
                                },
                                {
                                    "ID_Producto": "8",
                                    "Producto": "producto1"
                                },
                                {
                                    "ID_Producto": "9",
                                    "Producto": "producto2"
                                }
                            ]
                        },
                        "text/html": [
                            "<table>",
                            "<tr><th>ID_Producto</th><th>Producto</th></tr>",
                            "<tr><td>1</td><td>Terreno</td></tr>",
                            "<tr><td>2</td><td>Oficina</td></tr>",
                            "<tr><td>3</td><td>Local</td></tr>",
                            "<tr><td>4</td><td>Nave</td></tr>",
                            "<tr><td>5</td><td>Isla</td></tr>",
                            "<tr><td>6</td><td>Consultorio</td></tr>",
                            "<tr><td>7</td><td>Remates</td></tr>",
                            "<tr><td>8</td><td>producto1</td></tr>",
                            "<tr><td>9</td><td>producto2</td></tr>",
                            "</table>"
                        ]
                    }
                }
            ],
            "execution_count": 10
        },
        {
            "cell_type": "markdown",
            "source": [
                "## 2. Ahora vamos a actualizar los nombres de los productos anteriores:  \n",
                "2.1 Producto1 será 'Casa'"
            ],
            "metadata": {
                "language": "sql",
                "azdata_cell_guid": "940c4ea4-da40-44e3-bba3-1140290953f1"
            },
            "attachments": {}
        },
        {
            "cell_type": "code",
            "source": [
                "UPDATE producto\r\n",
                "SET Producto = CASE \r\n",
                "    WHEN Producto = 'producto1' THEN 'Casa'\r\n",
                "END\r\n",
                "WHERE Producto = 'producto1';\r\n",
                "\r\n",
                "SELECT * FROM producto\r\n",
                "WHERE Producto = 'Casa';\r\n",
                "\r\n",
                ""
            ],
            "metadata": {
                "language": "sql",
                "azdata_cell_guid": "7849ccca-e0eb-422d-acd5-15a17fc9bf95"
            },
            "outputs": [
                {
                    "output_type": "display_data",
                    "data": {
                        "text/html": "Commands completed successfully"
                    },
                    "metadata": {}
                },
                {
                    "output_type": "display_data",
                    "data": {
                        "text/html": "(1 row(s) affected)"
                    },
                    "metadata": {}
                },
                {
                    "output_type": "display_data",
                    "data": {
                        "text/html": "Total execution time: 00:00:01.032"
                    },
                    "metadata": {}
                },
                {
                    "output_type": "execute_result",
                    "metadata": {},
                    "execution_count": 11,
                    "data": {
                        "application/vnd.dataresource+json": {
                            "schema": {
                                "fields": [
                                    {
                                        "name": "ID_Producto"
                                    },
                                    {
                                        "name": "Producto"
                                    }
                                ]
                            },
                            "data": [
                                {
                                    "ID_Producto": "8",
                                    "Producto": "Casa"
                                }
                            ]
                        },
                        "text/html": [
                            "<table>",
                            "<tr><th>ID_Producto</th><th>Producto</th></tr>",
                            "<tr><td>8</td><td>Casa</td></tr>",
                            "</table>"
                        ]
                    }
                }
            ],
            "execution_count": 11
        },
        {
            "cell_type": "markdown",
            "source": [
                "2.2 Producto2 será 'Departamento'"
            ],
            "metadata": {
                "language": "sql",
                "azdata_cell_guid": "0251e0ab-a322-4f7e-9553-9c15b8b5ab5e"
            },
            "attachments": {}
        },
        {
            "cell_type": "code",
            "source": [
                "UPDATE producto\r\n",
                "SET Producto = CASE \r\n",
                "    WHEN Producto = 'producto2' THEN 'Departamento'\r\n",
                "END\r\n",
                "WHERE Producto = 'producto2';\r\n",
                "\r\n",
                "SELECT * FROM producto\r\n",
                "WHERE Producto = 'Departamento';"
            ],
            "metadata": {
                "language": "sql",
                "azdata_cell_guid": "78bbce10-c44d-4fb6-81c3-287a091c8205"
            },
            "outputs": [
                {
                    "output_type": "display_data",
                    "data": {
                        "text/html": "Commands completed successfully"
                    },
                    "metadata": {}
                },
                {
                    "output_type": "display_data",
                    "data": {
                        "text/html": "(1 row(s) affected)"
                    },
                    "metadata": {}
                },
                {
                    "output_type": "display_data",
                    "data": {
                        "text/html": "Total execution time: 00:00:01.026"
                    },
                    "metadata": {}
                },
                {
                    "output_type": "execute_result",
                    "metadata": {},
                    "execution_count": 12,
                    "data": {
                        "application/vnd.dataresource+json": {
                            "schema": {
                                "fields": [
                                    {
                                        "name": "ID_Producto"
                                    },
                                    {
                                        "name": "Producto"
                                    }
                                ]
                            },
                            "data": [
                                {
                                    "ID_Producto": "9",
                                    "Producto": "Departamento"
                                }
                            ]
                        },
                        "text/html": [
                            "<table>",
                            "<tr><th>ID_Producto</th><th>Producto</th></tr>",
                            "<tr><td>9</td><td>Departamento</td></tr>",
                            "</table>"
                        ]
                    }
                }
            ],
            "execution_count": 12
        },
        {
            "cell_type": "markdown",
            "source": [
                "## 3. Eliminar casa y departamento de la tabla 'producto'"
            ],
            "metadata": {
                "language": "sql",
                "azdata_cell_guid": "de82bf49-3c39-4aec-aee2-55c32d3a4a82"
            },
            "attachments": {}
        },
        {
            "cell_type": "code",
            "source": [
                "DELETE FROM producto\r\n",
                "WHERE Producto IN ('Casa', 'Departamento');\r\n",
                "\r\n",
                "SELECT * FROM producto;\r\n",
                ""
            ],
            "metadata": {
                "language": "sql",
                "azdata_cell_guid": "b2001569-e9e5-44d3-8674-048c23c3b6c0"
            },
            "outputs": [
                {
                    "output_type": "display_data",
                    "data": {
                        "text/html": "Commands completed successfully"
                    },
                    "metadata": {}
                },
                {
                    "output_type": "display_data",
                    "data": {
                        "text/html": "(7 row(s) affected)"
                    },
                    "metadata": {}
                },
                {
                    "output_type": "display_data",
                    "data": {
                        "text/html": "Total execution time: 00:00:01.018"
                    },
                    "metadata": {}
                },
                {
                    "output_type": "execute_result",
                    "metadata": {},
                    "execution_count": 13,
                    "data": {
                        "application/vnd.dataresource+json": {
                            "schema": {
                                "fields": [
                                    {
                                        "name": "ID_Producto"
                                    },
                                    {
                                        "name": "Producto"
                                    }
                                ]
                            },
                            "data": [
                                {
                                    "ID_Producto": "1",
                                    "Producto": "Terreno"
                                },
                                {
                                    "ID_Producto": "2",
                                    "Producto": "Oficina"
                                },
                                {
                                    "ID_Producto": "3",
                                    "Producto": "Local"
                                },
                                {
                                    "ID_Producto": "4",
                                    "Producto": "Nave"
                                },
                                {
                                    "ID_Producto": "5",
                                    "Producto": "Isla"
                                },
                                {
                                    "ID_Producto": "6",
                                    "Producto": "Consultorio"
                                },
                                {
                                    "ID_Producto": "7",
                                    "Producto": "Remates"
                                }
                            ]
                        },
                        "text/html": [
                            "<table>",
                            "<tr><th>ID_Producto</th><th>Producto</th></tr>",
                            "<tr><td>1</td><td>Terreno</td></tr>",
                            "<tr><td>2</td><td>Oficina</td></tr>",
                            "<tr><td>3</td><td>Local</td></tr>",
                            "<tr><td>4</td><td>Nave</td></tr>",
                            "<tr><td>5</td><td>Isla</td></tr>",
                            "<tr><td>6</td><td>Consultorio</td></tr>",
                            "<tr><td>7</td><td>Remates</td></tr>",
                            "</table>"
                        ]
                    }
                }
            ],
            "execution_count": 13
        }
    ]
}