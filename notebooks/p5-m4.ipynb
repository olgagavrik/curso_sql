{
    "metadata": {
        "kernelspec": {
            "name": "SQL",
            "display_name": "SQL",
            "language": "sql"
        },
        "language_info": {
            "name": "sql",
            "version": ""
        }
    },
    "nbformat_minor": 2,
    "nbformat": 4,
    "cells": [
        {
            "cell_type": "markdown",
            "source": [
                "# Practica 5 - Consultas en sobre una tabla"
            ],
            "metadata": {
                "azdata_cell_guid": "d015962e-9236-48c7-9e27-71b407d8be22"
            },
            "attachments": {}
        },
        {
            "cell_type": "markdown",
            "source": [
                "1. Conectarse a MySQL Workbench (suele aparecer como **localhost, \\<default\\> (root)**<span style=\"font-size:14px;\">)</span>\n",
                "2. Verificar desde Azure Data Studio (conectado a MySQL) que la base de datos: **empleadoss\\_departamentoss** aparece en <mark>Databases</mark>.\n",
                "3. Empezar a resolver las 'querys' (consultas) que se te plantean mas abajo.\n",
                "4. Las respuestas de cada consulta se encuentran al final de este Notebook.\n",
                "5. Una vez terminada la practica, guardar los cambios en tu repo local y en remoto. \n",
                "6. Realizar la entrega de tu notebook en un archivo comprimido en .zip"
            ],
            "metadata": {
                "azdata_cell_guid": "5d2b0223-2a5b-4202-8a90-e4589c19462c"
            },
            "attachments": {}
        },
        {
            "cell_type": "markdown",
            "source": [
                "## **Preguntas:**"
            ],
            "metadata": {
                "azdata_cell_guid": "4da0a939-e568-42ae-824e-db6c183338b1"
            },
            "attachments": {}
        },
        {
            "cell_type": "markdown",
            "source": [
                "### \n",
                "\n",
                "1. <span style=\"color: rgb(102, 102, 102); font-family: Poppins; font-size: 15px; background-color: rgb(255, 255, 255);\">Obtener los datos completos de los empleados.</span>"
            ],
            "metadata": {
                "azdata_cell_guid": "aa984013-bea9-47bc-bc3e-f81c332e182c"
            },
            "attachments": {}
        },
        {
            "cell_type": "code",
            "source": [
                "use empleados;\r\n",
                "SELECT * FROM empleados;"
            ],
            "metadata": {
                "azdata_cell_guid": "c408c09d-d498-421f-9cae-03cfc9d09a06",
                "language": "sql"
            },
            "outputs": [
                {
                    "output_type": "display_data",
                    "data": {
                        "text/html": "Commands completed successfully"
                    },
                    "metadata": {}
                },
                {
                    "output_type": "display_data",
                    "data": {
                        "text/html": "(26 row(s) affected)"
                    },
                    "metadata": {}
                },
                {
                    "output_type": "display_data",
                    "data": {
                        "text/html": "Total execution time: 00:00:01.015"
                    },
                    "metadata": {}
                },
                {
                    "output_type": "execute_result",
                    "metadata": {},
                    "execution_count": 6,
                    "data": {
                        "application/vnd.dataresource+json": {
                            "schema": {
                                "fields": [
                                    {
                                        "name": "nDIEmp"
                                    },
                                    {
                                        "name": "nomEmp"
                                    },
                                    {
                                        "name": "sexEmp"
                                    },
                                    {
                                        "name": "fecNac"
                                    },
                                    {
                                        "name": "fecIncorporacion"
                                    },
                                    {
                                        "name": "salEmp"
                                    },
                                    {
                                        "name": "comisionE"
                                    },
                                    {
                                        "name": "cargoE"
                                    },
                                    {
                                        "name": "jefeID"
                                    },
                                    {
                                        "name": "codDepto"
                                    }
                                ]
                            },
                            "data": [
                                {
                                    "nDIEmp": "1.130.222",
                                    "nomEmp": "José Giraldo",
                                    "sexEmp": "M",
                                    "fecNac": "1985-01-20",
                                    "fecIncorporacion": "2000-11-01",
                                    "salEmp": "1200000.0",
                                    "comisionE": "400000.0",
                                    "cargoE": "Asesor",
                                    "jefeID": "22.222.222",
                                    "codDepto": "3500"
                                },
                                {
                                    "nDIEmp": "1.130.333",
                                    "nomEmp": "Pedro Blanco",
                                    "sexEmp": "M",
                                    "fecNac": "1987-10-28",
                                    "fecIncorporacion": "2000-10-01",
                                    "salEmp": "800000.0",
                                    "comisionE": "3000000.0",
                                    "cargoE": "Vendedor",
                                    "jefeID": "31.178.144",
                                    "codDepto": "2000"
                                },
                                {
                                    "nDIEmp": "1.130.444",
                                    "nomEmp": "Jesús Alfonso",
                                    "sexEmp": "M",
                                    "fecNac": "1988-03-14",
                                    "fecIncorporacion": "2000-10-01",
                                    "salEmp": "800000.0",
                                    "comisionE": "3500000.0",
                                    "cargoE": "Vendedor",
                                    "jefeID": "31.178.144",
                                    "codDepto": "2000"
                                },
                                {
                                    "nDIEmp": "1.130.555",
                                    "nomEmp": "Julián Mora",
                                    "sexEmp": "M",
                                    "fecNac": "1989-07-03",
                                    "fecIncorporacion": "2000-10-01",
                                    "salEmp": "800000.0",
                                    "comisionE": "3100000.0",
                                    "cargoE": "Vendedor",
                                    "jefeID": "31.178.144",
                                    "codDepto": "2200"
                                },
                                {
                                    "nDIEmp": "1.130.666",
                                    "nomEmp": "Manuel Millán",
                                    "sexEmp": "M",
                                    "fecNac": "1990-12-08",
                                    "fecIncorporacion": "2004-06-01",
                                    "salEmp": "800000.0",
                                    "comisionE": "3700000.0",
                                    "cargoE": "Vendedor",
                                    "jefeID": "31.178.144",
                                    "codDepto": "2300"
                                },
                                {
                                    "nDIEmp": "1.130.777",
                                    "nomEmp": "Marcos Cortez",
                                    "sexEmp": "M",
                                    "fecNac": "1986-06-23",
                                    "fecIncorporacion": "2000-04-16",
                                    "salEmp": "2550000.0",
                                    "comisionE": "500000.0",
                                    "cargoE": "Mecánico",
                                    "jefeID": "333.333.333",
                                    "codDepto": "4000"
                                },
                                {
                                    "nDIEmp": "1.130.782",
                                    "nomEmp": "Antonio Gil",
                                    "sexEmp": "M",
                                    "fecNac": "1980-01-23",
                                    "fecIncorporacion": "2010-04-16",
                                    "salEmp": "850000.0",
                                    "comisionE": "1500000.0",
                                    "cargoE": "Técnico",
                                    "jefeID": "16.211.383",
                                    "codDepto": "1500"
                                },
                                {
                                    "nDIEmp": "1.751.219",
                                    "nomEmp": "Melissa Roa",
                                    "sexEmp": "F",
                                    "fecNac": "1960-06-19",
                                    "fecIncorporacion": "2001-03-16",
                                    "salEmp": "2250000.0",
                                    "comisionE": "2500000.0",
                                    "cargoE": "Vendedor",
                                    "jefeID": "31.178.144",
                                    "codDepto": "2100"
                                },
                                {
                                    "nDIEmp": "11.111.111",
                                    "nomEmp": "Irene Díaz",
                                    "sexEmp": "F",
                                    "fecNac": "1979-09-28",
                                    "fecIncorporacion": "2004-06-01",
                                    "salEmp": "1050000.0",
                                    "comisionE": "200000.0",
                                    "cargoE": "Mecánico",
                                    "jefeID": "333.333.333",
                                    "codDepto": "4200"
                                },
                                {
                                    "nDIEmp": "16.211.383",
                                    "nomEmp": "Luis Pérez",
                                    "sexEmp": "M",
                                    "fecNac": "1956-02-25",
                                    "fecIncorporacion": "2000-01-01",
                                    "salEmp": "5050000.0",
                                    "comisionE": "0.0",
                                    "cargoE": "Director",
                                    "jefeID": "31.840.269",
                                    "codDepto": "1500"
                                },
                                {
                                    "nDIEmp": "16.759.060",
                                    "nomEmp": "Darío Casas",
                                    "sexEmp": "M",
                                    "fecNac": "1960-04-05",
                                    "fecIncorporacion": "1992-11-01",
                                    "salEmp": "4500000.0",
                                    "comisionE": "500000.0",
                                    "cargoE": "Investigador",
                                    "jefeID": "31.840.269",
                                    "codDepto": "3000"
                                },
                                {
                                    "nDIEmp": "19.709.802",
                                    "nomEmp": "William Daza",
                                    "sexEmp": "M",
                                    "fecNac": "1982-10-09",
                                    "fecIncorporacion": "1999-12-16",
                                    "salEmp": "2250000.0",
                                    "comisionE": "1000000.0",
                                    "cargoE": "Investigador",
                                    "jefeID": "16.759.060",
                                    "codDepto": "3000"
                                },
                                {
                                    "nDIEmp": "22.222.222",
                                    "nomEmp": "Carla López",
                                    "sexEmp": "F",
                                    "fecNac": "1975-05-11",
                                    "fecIncorporacion": "2005-07-16",
                                    "salEmp": "4500000.0",
                                    "comisionE": "500000.0",
                                    "cargoE": "Jefe Mercadeo",
                                    "jefeID": "31.840.269",
                                    "codDepto": "3500"
                                },
                                {
                                    "nDIEmp": "22.222.333",
                                    "nomEmp": "Carlos Rozo",
                                    "sexEmp": "M",
                                    "fecNac": "1975-05-11",
                                    "fecIncorporacion": "2001-09-16",
                                    "salEmp": "750000.0",
                                    "comisionE": "500000.0",
                                    "cargoE": "Vigilante",
                                    "jefeID": "31.840.269",
                                    "codDepto": "3500"
                                },
                                {
                                    "nDIEmp": "31.174.099",
                                    "nomEmp": "Diana Solarte",
                                    "sexEmp": "F",
                                    "fecNac": "1957-11-19",
                                    "fecIncorporacion": "1990-05-16",
                                    "salEmp": "1250000.0",
                                    "comisionE": "500000.0",
                                    "cargoE": "Secretaria",
                                    "jefeID": "31.840.269",
                                    "codDepto": "1000"
                                },
                                {
                                    "nDIEmp": "31.178.144",
                                    "nomEmp": "Rosa Angulo",
                                    "sexEmp": "F",
                                    "fecNac": "1957-03-15",
                                    "fecIncorporacion": "1998-08-16",
                                    "salEmp": "3250000.0",
                                    "comisionE": "3500000.0",
                                    "cargoE": "Jefe Ventas",
                                    "jefeID": "31.840.269",
                                    "codDepto": "2000"
                                },
                                {
                                    "nDIEmp": "31.840.269",
                                    "nomEmp": "María Rojas",
                                    "sexEmp": "F",
                                    "fecNac": "1959-01-15",
                                    "fecIncorporacion": "1990-05-16",
                                    "salEmp": "6250000.0",
                                    "comisionE": "1500000.0",
                                    "cargoE": "Gerente",
                                    "jefeID": "NULL",
                                    "codDepto": "1000"
                                },
                                {
                                    "nDIEmp": "333.333.333",
                                    "nomEmp": "Elisa Rojas",
                                    "sexEmp": "F",
                                    "fecNac": "1979-09-28",
                                    "fecIncorporacion": "2004-06-01",
                                    "salEmp": "3000000.0",
                                    "comisionE": "1000000.0",
                                    "cargoE": "Jefe Mecánicos",
                                    "jefeID": "31.840.269",
                                    "codDepto": "4000"
                                },
                                {
                                    "nDIEmp": "333.333.334",
                                    "nomEmp": "Marisol Pulido",
                                    "sexEmp": "F",
                                    "fecNac": "1979-10-01",
                                    "fecIncorporacion": "1990-05-16",
                                    "salEmp": "3250000.0",
                                    "comisionE": "1000000.0",
                                    "cargoE": "Investigador",
                                    "jefeID": "16.759.060",
                                    "codDepto": "3000"
                                },
                                {
                                    "nDIEmp": "333.333.335",
                                    "nomEmp": "Ana Moreno",
                                    "sexEmp": "F",
                                    "fecNac": "1992-01-05",
                                    "fecIncorporacion": "2004-06-01",
                                    "salEmp": "1200000.0",
                                    "comisionE": "400000.0",
                                    "cargoE": "Secretaria",
                                    "jefeID": "16.759.060",
                                    "codDepto": "3000"
                                },
                                {
                                    "nDIEmp": "333.333.336",
                                    "nomEmp": "Carolina Ríos",
                                    "sexEmp": "F",
                                    "fecNac": "1992-02-15",
                                    "fecIncorporacion": "2000-10-01",
                                    "salEmp": "1250000.0",
                                    "comisionE": "500000.0",
                                    "cargoE": "Secretaria",
                                    "jefeID": "16.211.383",
                                    "codDepto": "1500"
                                },
                                {
                                    "nDIEmp": "333.333.337",
                                    "nomEmp": "Edith Muñoz",
                                    "sexEmp": "F",
                                    "fecNac": "1992-03-31",
                                    "fecIncorporacion": "2000-10-01",
                                    "salEmp": "800000.0",
                                    "comisionE": "3600000.0",
                                    "cargoE": "Vendedor",
                                    "jefeID": "31.178.144",
                                    "codDepto": "2100"
                                },
                                {
                                    "nDIEmp": "444.444",
                                    "nomEmp": "Abel Gómez",
                                    "sexEmp": "M",
                                    "fecNac": "1939-12-24",
                                    "fecIncorporacion": "2000-10-01",
                                    "salEmp": "1050000.0",
                                    "comisionE": "200000.0",
                                    "cargoE": "Mecánico",
                                    "jefeID": "333.333.333",
                                    "codDepto": "4300"
                                },
                                {
                                    "nDIEmp": "737.689",
                                    "nomEmp": "Mario Llano",
                                    "sexEmp": "M",
                                    "fecNac": "1945-08-30",
                                    "fecIncorporacion": "1990-05-16",
                                    "salEmp": "2250000.0",
                                    "comisionE": "2500000.0",
                                    "cargoE": "Vendedor",
                                    "jefeID": "31.178.144",
                                    "codDepto": "2300"
                                },
                                {
                                    "nDIEmp": "768.782",
                                    "nomEmp": "Joaquín Rosas",
                                    "sexEmp": "M",
                                    "fecNac": "1947-07-07",
                                    "fecIncorporacion": "1990-05-16",
                                    "salEmp": "2250000.0",
                                    "comisionE": "2500000.0",
                                    "cargoE": "Vendedor",
                                    "jefeID": "31.178.144",
                                    "codDepto": "2200"
                                },
                                {
                                    "nDIEmp": "888.888",
                                    "nomEmp": "Iván Duarte",
                                    "sexEmp": "M",
                                    "fecNac": "1955-08-12",
                                    "fecIncorporacion": "1998-05-16",
                                    "salEmp": "1050000.0",
                                    "comisionE": "200000.0",
                                    "cargoE": "Mecánico",
                                    "jefeID": "333.333.333",
                                    "codDepto": "4100"
                                }
                            ]
                        },
                        "text/html": [
                            "<table>",
                            "<tr><th>nDIEmp</th><th>nomEmp</th><th>sexEmp</th><th>fecNac</th><th>fecIncorporacion</th><th>salEmp</th><th>comisionE</th><th>cargoE</th><th>jefeID</th><th>codDepto</th></tr>",
                            "<tr><td>1.130.222</td><td>José Giraldo</td><td>M</td><td>1985-01-20</td><td>2000-11-01</td><td>1200000.0</td><td>400000.0</td><td>Asesor</td><td>22.222.222</td><td>3500</td></tr>",
                            "<tr><td>1.130.333</td><td>Pedro Blanco</td><td>M</td><td>1987-10-28</td><td>2000-10-01</td><td>800000.0</td><td>3000000.0</td><td>Vendedor</td><td>31.178.144</td><td>2000</td></tr>",
                            "<tr><td>1.130.444</td><td>Jesús Alfonso</td><td>M</td><td>1988-03-14</td><td>2000-10-01</td><td>800000.0</td><td>3500000.0</td><td>Vendedor</td><td>31.178.144</td><td>2000</td></tr>",
                            "<tr><td>1.130.555</td><td>Julián Mora</td><td>M</td><td>1989-07-03</td><td>2000-10-01</td><td>800000.0</td><td>3100000.0</td><td>Vendedor</td><td>31.178.144</td><td>2200</td></tr>",
                            "<tr><td>1.130.666</td><td>Manuel Millán</td><td>M</td><td>1990-12-08</td><td>2004-06-01</td><td>800000.0</td><td>3700000.0</td><td>Vendedor</td><td>31.178.144</td><td>2300</td></tr>",
                            "<tr><td>1.130.777</td><td>Marcos Cortez</td><td>M</td><td>1986-06-23</td><td>2000-04-16</td><td>2550000.0</td><td>500000.0</td><td>Mecánico</td><td>333.333.333</td><td>4000</td></tr>",
                            "<tr><td>1.130.782</td><td>Antonio Gil</td><td>M</td><td>1980-01-23</td><td>2010-04-16</td><td>850000.0</td><td>1500000.0</td><td>Técnico</td><td>16.211.383</td><td>1500</td></tr>",
                            "<tr><td>1.751.219</td><td>Melissa Roa</td><td>F</td><td>1960-06-19</td><td>2001-03-16</td><td>2250000.0</td><td>2500000.0</td><td>Vendedor</td><td>31.178.144</td><td>2100</td></tr>",
                            "<tr><td>11.111.111</td><td>Irene Díaz</td><td>F</td><td>1979-09-28</td><td>2004-06-01</td><td>1050000.0</td><td>200000.0</td><td>Mecánico</td><td>333.333.333</td><td>4200</td></tr>",
                            "<tr><td>16.211.383</td><td>Luis Pérez</td><td>M</td><td>1956-02-25</td><td>2000-01-01</td><td>5050000.0</td><td>0.0</td><td>Director</td><td>31.840.269</td><td>1500</td></tr>",
                            "<tr><td>16.759.060</td><td>Darío Casas</td><td>M</td><td>1960-04-05</td><td>1992-11-01</td><td>4500000.0</td><td>500000.0</td><td>Investigador</td><td>31.840.269</td><td>3000</td></tr>",
                            "<tr><td>19.709.802</td><td>William Daza</td><td>M</td><td>1982-10-09</td><td>1999-12-16</td><td>2250000.0</td><td>1000000.0</td><td>Investigador</td><td>16.759.060</td><td>3000</td></tr>",
                            "<tr><td>22.222.222</td><td>Carla López</td><td>F</td><td>1975-05-11</td><td>2005-07-16</td><td>4500000.0</td><td>500000.0</td><td>Jefe Mercadeo</td><td>31.840.269</td><td>3500</td></tr>",
                            "<tr><td>22.222.333</td><td>Carlos Rozo</td><td>M</td><td>1975-05-11</td><td>2001-09-16</td><td>750000.0</td><td>500000.0</td><td>Vigilante</td><td>31.840.269</td><td>3500</td></tr>",
                            "<tr><td>31.174.099</td><td>Diana Solarte</td><td>F</td><td>1957-11-19</td><td>1990-05-16</td><td>1250000.0</td><td>500000.0</td><td>Secretaria</td><td>31.840.269</td><td>1000</td></tr>",
                            "<tr><td>31.178.144</td><td>Rosa Angulo</td><td>F</td><td>1957-03-15</td><td>1998-08-16</td><td>3250000.0</td><td>3500000.0</td><td>Jefe Ventas</td><td>31.840.269</td><td>2000</td></tr>",
                            "<tr><td>31.840.269</td><td>María Rojas</td><td>F</td><td>1959-01-15</td><td>1990-05-16</td><td>6250000.0</td><td>1500000.0</td><td>Gerente</td><td>NULL</td><td>1000</td></tr>",
                            "<tr><td>333.333.333</td><td>Elisa Rojas</td><td>F</td><td>1979-09-28</td><td>2004-06-01</td><td>3000000.0</td><td>1000000.0</td><td>Jefe Mecánicos</td><td>31.840.269</td><td>4000</td></tr>",
                            "<tr><td>333.333.334</td><td>Marisol Pulido</td><td>F</td><td>1979-10-01</td><td>1990-05-16</td><td>3250000.0</td><td>1000000.0</td><td>Investigador</td><td>16.759.060</td><td>3000</td></tr>",
                            "<tr><td>333.333.335</td><td>Ana Moreno</td><td>F</td><td>1992-01-05</td><td>2004-06-01</td><td>1200000.0</td><td>400000.0</td><td>Secretaria</td><td>16.759.060</td><td>3000</td></tr>",
                            "<tr><td>333.333.336</td><td>Carolina Ríos</td><td>F</td><td>1992-02-15</td><td>2000-10-01</td><td>1250000.0</td><td>500000.0</td><td>Secretaria</td><td>16.211.383</td><td>1500</td></tr>",
                            "<tr><td>333.333.337</td><td>Edith Muñoz</td><td>F</td><td>1992-03-31</td><td>2000-10-01</td><td>800000.0</td><td>3600000.0</td><td>Vendedor</td><td>31.178.144</td><td>2100</td></tr>",
                            "<tr><td>444.444</td><td>Abel Gómez</td><td>M</td><td>1939-12-24</td><td>2000-10-01</td><td>1050000.0</td><td>200000.0</td><td>Mecánico</td><td>333.333.333</td><td>4300</td></tr>",
                            "<tr><td>737.689</td><td>Mario Llano</td><td>M</td><td>1945-08-30</td><td>1990-05-16</td><td>2250000.0</td><td>2500000.0</td><td>Vendedor</td><td>31.178.144</td><td>2300</td></tr>",
                            "<tr><td>768.782</td><td>Joaquín Rosas</td><td>M</td><td>1947-07-07</td><td>1990-05-16</td><td>2250000.0</td><td>2500000.0</td><td>Vendedor</td><td>31.178.144</td><td>2200</td></tr>",
                            "<tr><td>888.888</td><td>Iván Duarte</td><td>M</td><td>1955-08-12</td><td>1998-05-16</td><td>1050000.0</td><td>200000.0</td><td>Mecánico</td><td>333.333.333</td><td>4100</td></tr>",
                            "</table>"
                        ]
                    }
                }
            ],
            "execution_count": 6
        },
        {
            "cell_type": "markdown",
            "source": [
                "### 2\\. Obtener los datos completos de los departamentos."
            ],
            "metadata": {
                "azdata_cell_guid": "abf9c7e2-52bf-424d-a89e-6328102ad7a0"
            },
            "attachments": {}
        },
        {
            "cell_type": "code",
            "source": [
                "SELECT * FROM departamentos;"
            ],
            "metadata": {
                "azdata_cell_guid": "25a78000-9a23-45dc-a4e6-bf901d3033c4",
                "language": "sql"
            },
            "outputs": [
                {
                    "output_type": "display_data",
                    "data": {
                        "text/html": "(12 row(s) affected)"
                    },
                    "metadata": {}
                },
                {
                    "output_type": "display_data",
                    "data": {
                        "text/html": "Total execution time: 00:00:01.015"
                    },
                    "metadata": {}
                },
                {
                    "output_type": "execute_result",
                    "metadata": {},
                    "execution_count": 3,
                    "data": {
                        "application/vnd.dataresource+json": {
                            "schema": {
                                "fields": [
                                    {
                                        "name": "codDepto"
                                    },
                                    {
                                        "name": "nombreDpto"
                                    },
                                    {
                                        "name": "ciudad"
                                    },
                                    {
                                        "name": "codDirector"
                                    }
                                ]
                            },
                            "data": [
                                {
                                    "codDepto": "1000",
                                    "nombreDpto": "GERENCIA",
                                    "ciudad": "CIUDAD REAL",
                                    "codDirector": "31.840.269"
                                },
                                {
                                    "codDepto": "1500",
                                    "nombreDpto": "PRODUCCIÓN",
                                    "ciudad": "CIUDAD REAL",
                                    "codDirector": "16.211.383"
                                },
                                {
                                    "codDepto": "2000",
                                    "nombreDpto": "VENTAS",
                                    "ciudad": "CIUDAD REAL",
                                    "codDirector": "31.178.144"
                                },
                                {
                                    "codDepto": "2100",
                                    "nombreDpto": "VENTAS",
                                    "ciudad": "BARCELONA",
                                    "codDirector": "16.211.383"
                                },
                                {
                                    "codDepto": "2200",
                                    "nombreDpto": "VENTAS",
                                    "ciudad": "VALENCIA",
                                    "codDirector": "16.211.383"
                                },
                                {
                                    "codDepto": "2300",
                                    "nombreDpto": "VENTAS",
                                    "ciudad": "MADRID",
                                    "codDirector": "16.759.060"
                                },
                                {
                                    "codDepto": "3000",
                                    "nombreDpto": "INVESTIGACIÓN",
                                    "ciudad": "CIUDAD REAL",
                                    "codDirector": "16.759.060"
                                },
                                {
                                    "codDepto": "3500",
                                    "nombreDpto": "MERCADEO",
                                    "ciudad": "CIUDAD REAL",
                                    "codDirector": "22.222.222"
                                },
                                {
                                    "codDepto": "4000",
                                    "nombreDpto": "MANTENIMIENTO",
                                    "ciudad": "CIUDAD REAL",
                                    "codDirector": "333.333.333"
                                },
                                {
                                    "codDepto": "4100",
                                    "nombreDpto": "MANTENIMIENTO",
                                    "ciudad": "BARCELONA",
                                    "codDirector": "16.759.060"
                                },
                                {
                                    "codDepto": "4200",
                                    "nombreDpto": "MANTENIMIENTO",
                                    "ciudad": "VALENCIA",
                                    "codDirector": "16.759.060"
                                },
                                {
                                    "codDepto": "4300",
                                    "nombreDpto": "MANTENIMIENTO",
                                    "ciudad": "MADRID",
                                    "codDirector": "16.759.060"
                                }
                            ]
                        },
                        "text/html": [
                            "<table>",
                            "<tr><th>codDepto</th><th>nombreDpto</th><th>ciudad</th><th>codDirector</th></tr>",
                            "<tr><td>1000</td><td>GERENCIA</td><td>CIUDAD REAL</td><td>31.840.269</td></tr>",
                            "<tr><td>1500</td><td>PRODUCCIÓN</td><td>CIUDAD REAL</td><td>16.211.383</td></tr>",
                            "<tr><td>2000</td><td>VENTAS</td><td>CIUDAD REAL</td><td>31.178.144</td></tr>",
                            "<tr><td>2100</td><td>VENTAS</td><td>BARCELONA</td><td>16.211.383</td></tr>",
                            "<tr><td>2200</td><td>VENTAS</td><td>VALENCIA</td><td>16.211.383</td></tr>",
                            "<tr><td>2300</td><td>VENTAS</td><td>MADRID</td><td>16.759.060</td></tr>",
                            "<tr><td>3000</td><td>INVESTIGACIÓN</td><td>CIUDAD REAL</td><td>16.759.060</td></tr>",
                            "<tr><td>3500</td><td>MERCADEO</td><td>CIUDAD REAL</td><td>22.222.222</td></tr>",
                            "<tr><td>4000</td><td>MANTENIMIENTO</td><td>CIUDAD REAL</td><td>333.333.333</td></tr>",
                            "<tr><td>4100</td><td>MANTENIMIENTO</td><td>BARCELONA</td><td>16.759.060</td></tr>",
                            "<tr><td>4200</td><td>MANTENIMIENTO</td><td>VALENCIA</td><td>16.759.060</td></tr>",
                            "<tr><td>4300</td><td>MANTENIMIENTO</td><td>MADRID</td><td>16.759.060</td></tr>",
                            "</table>"
                        ]
                    }
                }
            ],
            "execution_count": 3
        },
        {
            "cell_type": "markdown",
            "source": [
                "3. <span style=\"color: rgb(102, 102, 102); font-family: Poppins; font-size: 15px; background-color: rgb(255, 255, 255);\">Obtener los datos de los empleados con cargo ‘Secretaria’.</span>"
            ],
            "metadata": {
                "language": "sql",
                "azdata_cell_guid": "d4c45a72-c626-4a98-a5b1-c7dc94193cbc"
            },
            "attachments": {}
        },
        {
            "cell_type": "code",
            "source": [
                "SELECT * FROM empleados WHERE cargoE = 'Secretaria';"
            ],
            "metadata": {
                "language": "sql",
                "azdata_cell_guid": "102420fb-b617-4793-b27f-27439f0826af"
            },
            "outputs": [
                {
                    "output_type": "display_data",
                    "data": {
                        "text/html": "(3 row(s) affected)"
                    },
                    "metadata": {}
                },
                {
                    "output_type": "display_data",
                    "data": {
                        "text/html": "Total execution time: 00:00:01.010"
                    },
                    "metadata": {}
                },
                {
                    "output_type": "execute_result",
                    "metadata": {},
                    "execution_count": 8,
                    "data": {
                        "application/vnd.dataresource+json": {
                            "schema": {
                                "fields": [
                                    {
                                        "name": "nDIEmp"
                                    },
                                    {
                                        "name": "nomEmp"
                                    },
                                    {
                                        "name": "sexEmp"
                                    },
                                    {
                                        "name": "fecNac"
                                    },
                                    {
                                        "name": "fecIncorporacion"
                                    },
                                    {
                                        "name": "salEmp"
                                    },
                                    {
                                        "name": "comisionE"
                                    },
                                    {
                                        "name": "cargoE"
                                    },
                                    {
                                        "name": "jefeID"
                                    },
                                    {
                                        "name": "codDepto"
                                    }
                                ]
                            },
                            "data": [
                                {
                                    "nDIEmp": "31.174.099",
                                    "nomEmp": "Diana Solarte",
                                    "sexEmp": "F",
                                    "fecNac": "1957-11-19",
                                    "fecIncorporacion": "1990-05-16",
                                    "salEmp": "1250000.0",
                                    "comisionE": "500000.0",
                                    "cargoE": "Secretaria",
                                    "jefeID": "31.840.269",
                                    "codDepto": "1000"
                                },
                                {
                                    "nDIEmp": "333.333.335",
                                    "nomEmp": "Ana Moreno",
                                    "sexEmp": "F",
                                    "fecNac": "1992-01-05",
                                    "fecIncorporacion": "2004-06-01",
                                    "salEmp": "1200000.0",
                                    "comisionE": "400000.0",
                                    "cargoE": "Secretaria",
                                    "jefeID": "16.759.060",
                                    "codDepto": "3000"
                                },
                                {
                                    "nDIEmp": "333.333.336",
                                    "nomEmp": "Carolina Ríos",
                                    "sexEmp": "F",
                                    "fecNac": "1992-02-15",
                                    "fecIncorporacion": "2000-10-01",
                                    "salEmp": "1250000.0",
                                    "comisionE": "500000.0",
                                    "cargoE": "Secretaria",
                                    "jefeID": "16.211.383",
                                    "codDepto": "1500"
                                }
                            ]
                        },
                        "text/html": [
                            "<table>",
                            "<tr><th>nDIEmp</th><th>nomEmp</th><th>sexEmp</th><th>fecNac</th><th>fecIncorporacion</th><th>salEmp</th><th>comisionE</th><th>cargoE</th><th>jefeID</th><th>codDepto</th></tr>",
                            "<tr><td>31.174.099</td><td>Diana Solarte</td><td>F</td><td>1957-11-19</td><td>1990-05-16</td><td>1250000.0</td><td>500000.0</td><td>Secretaria</td><td>31.840.269</td><td>1000</td></tr>",
                            "<tr><td>333.333.335</td><td>Ana Moreno</td><td>F</td><td>1992-01-05</td><td>2004-06-01</td><td>1200000.0</td><td>400000.0</td><td>Secretaria</td><td>16.759.060</td><td>3000</td></tr>",
                            "<tr><td>333.333.336</td><td>Carolina Ríos</td><td>F</td><td>1992-02-15</td><td>2000-10-01</td><td>1250000.0</td><td>500000.0</td><td>Secretaria</td><td>16.211.383</td><td>1500</td></tr>",
                            "</table>"
                        ]
                    }
                }
            ],
            "execution_count": 8
        },
        {
            "cell_type": "markdown",
            "source": [
                "4. <span style=\"color: rgb(102, 102, 102); font-family: Poppins; font-size: 15px; background-color: rgb(255, 255, 255);\">Obtener el nombre y salario de los empleados.</span>"
            ],
            "metadata": {
                "language": "sql",
                "azdata_cell_guid": "707ad5e9-b047-4973-9db1-d7f8e2c80b5d"
            },
            "attachments": {}
        },
        {
            "cell_type": "code",
            "source": [
                "SELECT nomEmp, salEmp from empleados;"
            ],
            "metadata": {
                "language": "sql",
                "azdata_cell_guid": "2d3330e4-e4a5-4cf9-b929-2d33b3540fd0"
            },
            "outputs": [
                {
                    "output_type": "display_data",
                    "data": {
                        "text/html": "(26 row(s) affected)"
                    },
                    "metadata": {}
                },
                {
                    "output_type": "display_data",
                    "data": {
                        "text/html": "Total execution time: 00:00:01.012"
                    },
                    "metadata": {}
                },
                {
                    "output_type": "execute_result",
                    "metadata": {},
                    "execution_count": 12,
                    "data": {
                        "application/vnd.dataresource+json": {
                            "schema": {
                                "fields": [
                                    {
                                        "name": "nomEmp"
                                    },
                                    {
                                        "name": "salEmp"
                                    }
                                ]
                            },
                            "data": [
                                {
                                    "nomEmp": "José Giraldo",
                                    "salEmp": "1200000.0"
                                },
                                {
                                    "nomEmp": "Pedro Blanco",
                                    "salEmp": "800000.0"
                                },
                                {
                                    "nomEmp": "Jesús Alfonso",
                                    "salEmp": "800000.0"
                                },
                                {
                                    "nomEmp": "Julián Mora",
                                    "salEmp": "800000.0"
                                },
                                {
                                    "nomEmp": "Manuel Millán",
                                    "salEmp": "800000.0"
                                },
                                {
                                    "nomEmp": "Marcos Cortez",
                                    "salEmp": "2550000.0"
                                },
                                {
                                    "nomEmp": "Antonio Gil",
                                    "salEmp": "850000.0"
                                },
                                {
                                    "nomEmp": "Melissa Roa",
                                    "salEmp": "2250000.0"
                                },
                                {
                                    "nomEmp": "Irene Díaz",
                                    "salEmp": "1050000.0"
                                },
                                {
                                    "nomEmp": "Luis Pérez",
                                    "salEmp": "5050000.0"
                                },
                                {
                                    "nomEmp": "Darío Casas",
                                    "salEmp": "4500000.0"
                                },
                                {
                                    "nomEmp": "William Daza",
                                    "salEmp": "2250000.0"
                                },
                                {
                                    "nomEmp": "Carla López",
                                    "salEmp": "4500000.0"
                                },
                                {
                                    "nomEmp": "Carlos Rozo",
                                    "salEmp": "750000.0"
                                },
                                {
                                    "nomEmp": "Diana Solarte",
                                    "salEmp": "1250000.0"
                                },
                                {
                                    "nomEmp": "Rosa Angulo",
                                    "salEmp": "3250000.0"
                                },
                                {
                                    "nomEmp": "María Rojas",
                                    "salEmp": "6250000.0"
                                },
                                {
                                    "nomEmp": "Elisa Rojas",
                                    "salEmp": "3000000.0"
                                },
                                {
                                    "nomEmp": "Marisol Pulido",
                                    "salEmp": "3250000.0"
                                },
                                {
                                    "nomEmp": "Ana Moreno",
                                    "salEmp": "1200000.0"
                                },
                                {
                                    "nomEmp": "Carolina Ríos",
                                    "salEmp": "1250000.0"
                                },
                                {
                                    "nomEmp": "Edith Muñoz",
                                    "salEmp": "800000.0"
                                },
                                {
                                    "nomEmp": "Abel Gómez",
                                    "salEmp": "1050000.0"
                                },
                                {
                                    "nomEmp": "Mario Llano",
                                    "salEmp": "2250000.0"
                                },
                                {
                                    "nomEmp": "Joaquín Rosas",
                                    "salEmp": "2250000.0"
                                },
                                {
                                    "nomEmp": "Iván Duarte",
                                    "salEmp": "1050000.0"
                                }
                            ]
                        },
                        "text/html": [
                            "<table>",
                            "<tr><th>nomEmp</th><th>salEmp</th></tr>",
                            "<tr><td>José Giraldo</td><td>1200000.0</td></tr>",
                            "<tr><td>Pedro Blanco</td><td>800000.0</td></tr>",
                            "<tr><td>Jesús Alfonso</td><td>800000.0</td></tr>",
                            "<tr><td>Julián Mora</td><td>800000.0</td></tr>",
                            "<tr><td>Manuel Millán</td><td>800000.0</td></tr>",
                            "<tr><td>Marcos Cortez</td><td>2550000.0</td></tr>",
                            "<tr><td>Antonio Gil</td><td>850000.0</td></tr>",
                            "<tr><td>Melissa Roa</td><td>2250000.0</td></tr>",
                            "<tr><td>Irene Díaz</td><td>1050000.0</td></tr>",
                            "<tr><td>Luis Pérez</td><td>5050000.0</td></tr>",
                            "<tr><td>Darío Casas</td><td>4500000.0</td></tr>",
                            "<tr><td>William Daza</td><td>2250000.0</td></tr>",
                            "<tr><td>Carla López</td><td>4500000.0</td></tr>",
                            "<tr><td>Carlos Rozo</td><td>750000.0</td></tr>",
                            "<tr><td>Diana Solarte</td><td>1250000.0</td></tr>",
                            "<tr><td>Rosa Angulo</td><td>3250000.0</td></tr>",
                            "<tr><td>María Rojas</td><td>6250000.0</td></tr>",
                            "<tr><td>Elisa Rojas</td><td>3000000.0</td></tr>",
                            "<tr><td>Marisol Pulido</td><td>3250000.0</td></tr>",
                            "<tr><td>Ana Moreno</td><td>1200000.0</td></tr>",
                            "<tr><td>Carolina Ríos</td><td>1250000.0</td></tr>",
                            "<tr><td>Edith Muñoz</td><td>800000.0</td></tr>",
                            "<tr><td>Abel Gómez</td><td>1050000.0</td></tr>",
                            "<tr><td>Mario Llano</td><td>2250000.0</td></tr>",
                            "<tr><td>Joaquín Rosas</td><td>2250000.0</td></tr>",
                            "<tr><td>Iván Duarte</td><td>1050000.0</td></tr>",
                            "</table>"
                        ]
                    }
                }
            ],
            "execution_count": 12
        },
        {
            "cell_type": "markdown",
            "source": [
                "5. <span style=\"color: rgb(102, 102, 102); font-family: Poppins; font-size: 15px; background-color: rgb(255, 255, 255);\">Obtener los datos de los empleados vendedores, ordenado por nombre.</span>"
            ],
            "metadata": {
                "language": "sql",
                "azdata_cell_guid": "5f863e0d-42f0-40d2-bd9f-3f544cf6bc3e"
            },
            "attachments": {}
        },
        {
            "cell_type": "code",
            "source": [
                "SELECT * FROM empleados WHERE cargoE = 'Vendedor' ORDER BY nomEmp;"
            ],
            "metadata": {
                "language": "sql",
                "azdata_cell_guid": "a437028f-e539-4fdc-ab8c-a9181e3fd81f"
            },
            "outputs": [
                {
                    "output_type": "display_data",
                    "data": {
                        "text/html": "(8 row(s) affected)"
                    },
                    "metadata": {}
                },
                {
                    "output_type": "display_data",
                    "data": {
                        "text/html": "Total execution time: 00:00:01.009"
                    },
                    "metadata": {}
                },
                {
                    "output_type": "execute_result",
                    "metadata": {},
                    "execution_count": 11,
                    "data": {
                        "application/vnd.dataresource+json": {
                            "schema": {
                                "fields": [
                                    {
                                        "name": "nDIEmp"
                                    },
                                    {
                                        "name": "nomEmp"
                                    },
                                    {
                                        "name": "sexEmp"
                                    },
                                    {
                                        "name": "fecNac"
                                    },
                                    {
                                        "name": "fecIncorporacion"
                                    },
                                    {
                                        "name": "salEmp"
                                    },
                                    {
                                        "name": "comisionE"
                                    },
                                    {
                                        "name": "cargoE"
                                    },
                                    {
                                        "name": "jefeID"
                                    },
                                    {
                                        "name": "codDepto"
                                    }
                                ]
                            },
                            "data": [
                                {
                                    "nDIEmp": "333.333.337",
                                    "nomEmp": "Edith Muñoz",
                                    "sexEmp": "F",
                                    "fecNac": "1992-03-31",
                                    "fecIncorporacion": "2000-10-01",
                                    "salEmp": "800000.0",
                                    "comisionE": "3600000.0",
                                    "cargoE": "Vendedor",
                                    "jefeID": "31.178.144",
                                    "codDepto": "2100"
                                },
                                {
                                    "nDIEmp": "1.130.444",
                                    "nomEmp": "Jesús Alfonso",
                                    "sexEmp": "M",
                                    "fecNac": "1988-03-14",
                                    "fecIncorporacion": "2000-10-01",
                                    "salEmp": "800000.0",
                                    "comisionE": "3500000.0",
                                    "cargoE": "Vendedor",
                                    "jefeID": "31.178.144",
                                    "codDepto": "2000"
                                },
                                {
                                    "nDIEmp": "768.782",
                                    "nomEmp": "Joaquín Rosas",
                                    "sexEmp": "M",
                                    "fecNac": "1947-07-07",
                                    "fecIncorporacion": "1990-05-16",
                                    "salEmp": "2250000.0",
                                    "comisionE": "2500000.0",
                                    "cargoE": "Vendedor",
                                    "jefeID": "31.178.144",
                                    "codDepto": "2200"
                                },
                                {
                                    "nDIEmp": "1.130.555",
                                    "nomEmp": "Julián Mora",
                                    "sexEmp": "M",
                                    "fecNac": "1989-07-03",
                                    "fecIncorporacion": "2000-10-01",
                                    "salEmp": "800000.0",
                                    "comisionE": "3100000.0",
                                    "cargoE": "Vendedor",
                                    "jefeID": "31.178.144",
                                    "codDepto": "2200"
                                },
                                {
                                    "nDIEmp": "1.130.666",
                                    "nomEmp": "Manuel Millán",
                                    "sexEmp": "M",
                                    "fecNac": "1990-12-08",
                                    "fecIncorporacion": "2004-06-01",
                                    "salEmp": "800000.0",
                                    "comisionE": "3700000.0",
                                    "cargoE": "Vendedor",
                                    "jefeID": "31.178.144",
                                    "codDepto": "2300"
                                },
                                {
                                    "nDIEmp": "737.689",
                                    "nomEmp": "Mario Llano",
                                    "sexEmp": "M",
                                    "fecNac": "1945-08-30",
                                    "fecIncorporacion": "1990-05-16",
                                    "salEmp": "2250000.0",
                                    "comisionE": "2500000.0",
                                    "cargoE": "Vendedor",
                                    "jefeID": "31.178.144",
                                    "codDepto": "2300"
                                },
                                {
                                    "nDIEmp": "1.751.219",
                                    "nomEmp": "Melissa Roa",
                                    "sexEmp": "F",
                                    "fecNac": "1960-06-19",
                                    "fecIncorporacion": "2001-03-16",
                                    "salEmp": "2250000.0",
                                    "comisionE": "2500000.0",
                                    "cargoE": "Vendedor",
                                    "jefeID": "31.178.144",
                                    "codDepto": "2100"
                                },
                                {
                                    "nDIEmp": "1.130.333",
                                    "nomEmp": "Pedro Blanco",
                                    "sexEmp": "M",
                                    "fecNac": "1987-10-28",
                                    "fecIncorporacion": "2000-10-01",
                                    "salEmp": "800000.0",
                                    "comisionE": "3000000.0",
                                    "cargoE": "Vendedor",
                                    "jefeID": "31.178.144",
                                    "codDepto": "2000"
                                }
                            ]
                        },
                        "text/html": [
                            "<table>",
                            "<tr><th>nDIEmp</th><th>nomEmp</th><th>sexEmp</th><th>fecNac</th><th>fecIncorporacion</th><th>salEmp</th><th>comisionE</th><th>cargoE</th><th>jefeID</th><th>codDepto</th></tr>",
                            "<tr><td>333.333.337</td><td>Edith Muñoz</td><td>F</td><td>1992-03-31</td><td>2000-10-01</td><td>800000.0</td><td>3600000.0</td><td>Vendedor</td><td>31.178.144</td><td>2100</td></tr>",
                            "<tr><td>1.130.444</td><td>Jesús Alfonso</td><td>M</td><td>1988-03-14</td><td>2000-10-01</td><td>800000.0</td><td>3500000.0</td><td>Vendedor</td><td>31.178.144</td><td>2000</td></tr>",
                            "<tr><td>768.782</td><td>Joaquín Rosas</td><td>M</td><td>1947-07-07</td><td>1990-05-16</td><td>2250000.0</td><td>2500000.0</td><td>Vendedor</td><td>31.178.144</td><td>2200</td></tr>",
                            "<tr><td>1.130.555</td><td>Julián Mora</td><td>M</td><td>1989-07-03</td><td>2000-10-01</td><td>800000.0</td><td>3100000.0</td><td>Vendedor</td><td>31.178.144</td><td>2200</td></tr>",
                            "<tr><td>1.130.666</td><td>Manuel Millán</td><td>M</td><td>1990-12-08</td><td>2004-06-01</td><td>800000.0</td><td>3700000.0</td><td>Vendedor</td><td>31.178.144</td><td>2300</td></tr>",
                            "<tr><td>737.689</td><td>Mario Llano</td><td>M</td><td>1945-08-30</td><td>1990-05-16</td><td>2250000.0</td><td>2500000.0</td><td>Vendedor</td><td>31.178.144</td><td>2300</td></tr>",
                            "<tr><td>1.751.219</td><td>Melissa Roa</td><td>F</td><td>1960-06-19</td><td>2001-03-16</td><td>2250000.0</td><td>2500000.0</td><td>Vendedor</td><td>31.178.144</td><td>2100</td></tr>",
                            "<tr><td>1.130.333</td><td>Pedro Blanco</td><td>M</td><td>1987-10-28</td><td>2000-10-01</td><td>800000.0</td><td>3000000.0</td><td>Vendedor</td><td>31.178.144</td><td>2000</td></tr>",
                            "</table>"
                        ]
                    }
                }
            ],
            "execution_count": 11
        },
        {
            "cell_type": "markdown",
            "source": [
                "6. <span style=\"color: rgb(102, 102, 102); font-family: Poppins; font-size: 15px; background-color: rgb(255, 255, 255);\">Listar el nombre de los departamentos.</span>"
            ],
            "metadata": {
                "language": "sql",
                "azdata_cell_guid": "9881e817-6a8d-4190-a6a9-a5eaeb318174"
            },
            "attachments": {}
        },
        {
            "cell_type": "code",
            "source": [
                "SELECT DISTINCT nombreDpto FROM departamentos;\r\n",
                ""
            ],
            "metadata": {
                "language": "sql",
                "azdata_cell_guid": "128baf46-2b53-4308-91b4-dd51f762d575"
            },
            "outputs": [
                {
                    "output_type": "display_data",
                    "data": {
                        "text/html": "(6 row(s) affected)"
                    },
                    "metadata": {}
                },
                {
                    "output_type": "display_data",
                    "data": {
                        "text/html": "Total execution time: 00:00:01.019"
                    },
                    "metadata": {}
                },
                {
                    "output_type": "execute_result",
                    "metadata": {},
                    "execution_count": 14,
                    "data": {
                        "application/vnd.dataresource+json": {
                            "schema": {
                                "fields": [
                                    {
                                        "name": "nombreDpto"
                                    }
                                ]
                            },
                            "data": [
                                {
                                    "nombreDpto": "GERENCIA"
                                },
                                {
                                    "nombreDpto": "PRODUCCIÓN"
                                },
                                {
                                    "nombreDpto": "VENTAS"
                                },
                                {
                                    "nombreDpto": "INVESTIGACIÓN"
                                },
                                {
                                    "nombreDpto": "MERCADEO"
                                },
                                {
                                    "nombreDpto": "MANTENIMIENTO"
                                }
                            ]
                        },
                        "text/html": [
                            "<table>",
                            "<tr><th>nombreDpto</th></tr>",
                            "<tr><td>GERENCIA</td></tr>",
                            "<tr><td>PRODUCCIÓN</td></tr>",
                            "<tr><td>VENTAS</td></tr>",
                            "<tr><td>INVESTIGACIÓN</td></tr>",
                            "<tr><td>MERCADEO</td></tr>",
                            "<tr><td>MANTENIMIENTO</td></tr>",
                            "</table>"
                        ]
                    }
                }
            ],
            "execution_count": 14
        },
        {
            "cell_type": "markdown",
            "source": [
                "7. <span style=\"color: rgb(102, 102, 102); font-family: Poppins; font-size: 15px; background-color: rgb(255, 255, 255);\">Obtener el nombre y cargo de todos los empleados, ordenado por salario.</span>"
            ],
            "metadata": {
                "language": "sql",
                "azdata_cell_guid": "73cf48f0-f411-433d-a1f9-3a56b425c1fa"
            },
            "attachments": {}
        },
        {
            "cell_type": "code",
            "source": [
                "SELECT nomEmp, cargoE, salEmp FROM empleados ORDER BY salEmp;\r\n",
                ""
            ],
            "metadata": {
                "language": "sql",
                "azdata_cell_guid": "c53e20bd-02f4-4e26-b6ce-4a1d02ea7334"
            },
            "outputs": [
                {
                    "output_type": "display_data",
                    "data": {
                        "text/html": "(26 row(s) affected)"
                    },
                    "metadata": {}
                },
                {
                    "output_type": "display_data",
                    "data": {
                        "text/html": "Total execution time: 00:00:01.010"
                    },
                    "metadata": {}
                },
                {
                    "output_type": "execute_result",
                    "metadata": {},
                    "execution_count": 16,
                    "data": {
                        "application/vnd.dataresource+json": {
                            "schema": {
                                "fields": [
                                    {
                                        "name": "nomEmp"
                                    },
                                    {
                                        "name": "cargoE"
                                    },
                                    {
                                        "name": "salEmp"
                                    }
                                ]
                            },
                            "data": [
                                {
                                    "nomEmp": "Carlos Rozo",
                                    "cargoE": "Vigilante",
                                    "salEmp": "750000.0"
                                },
                                {
                                    "nomEmp": "Pedro Blanco",
                                    "cargoE": "Vendedor",
                                    "salEmp": "800000.0"
                                },
                                {
                                    "nomEmp": "Jesús Alfonso",
                                    "cargoE": "Vendedor",
                                    "salEmp": "800000.0"
                                },
                                {
                                    "nomEmp": "Julián Mora",
                                    "cargoE": "Vendedor",
                                    "salEmp": "800000.0"
                                },
                                {
                                    "nomEmp": "Manuel Millán",
                                    "cargoE": "Vendedor",
                                    "salEmp": "800000.0"
                                },
                                {
                                    "nomEmp": "Edith Muñoz",
                                    "cargoE": "Vendedor",
                                    "salEmp": "800000.0"
                                },
                                {
                                    "nomEmp": "Antonio Gil",
                                    "cargoE": "Técnico",
                                    "salEmp": "850000.0"
                                },
                                {
                                    "nomEmp": "Irene Díaz",
                                    "cargoE": "Mecánico",
                                    "salEmp": "1050000.0"
                                },
                                {
                                    "nomEmp": "Abel Gómez",
                                    "cargoE": "Mecánico",
                                    "salEmp": "1050000.0"
                                },
                                {
                                    "nomEmp": "Iván Duarte",
                                    "cargoE": "Mecánico",
                                    "salEmp": "1050000.0"
                                },
                                {
                                    "nomEmp": "José Giraldo",
                                    "cargoE": "Asesor",
                                    "salEmp": "1200000.0"
                                },
                                {
                                    "nomEmp": "Ana Moreno",
                                    "cargoE": "Secretaria",
                                    "salEmp": "1200000.0"
                                },
                                {
                                    "nomEmp": "Diana Solarte",
                                    "cargoE": "Secretaria",
                                    "salEmp": "1250000.0"
                                },
                                {
                                    "nomEmp": "Carolina Ríos",
                                    "cargoE": "Secretaria",
                                    "salEmp": "1250000.0"
                                },
                                {
                                    "nomEmp": "Melissa Roa",
                                    "cargoE": "Vendedor",
                                    "salEmp": "2250000.0"
                                },
                                {
                                    "nomEmp": "William Daza",
                                    "cargoE": "Investigador",
                                    "salEmp": "2250000.0"
                                },
                                {
                                    "nomEmp": "Mario Llano",
                                    "cargoE": "Vendedor",
                                    "salEmp": "2250000.0"
                                },
                                {
                                    "nomEmp": "Joaquín Rosas",
                                    "cargoE": "Vendedor",
                                    "salEmp": "2250000.0"
                                },
                                {
                                    "nomEmp": "Marcos Cortez",
                                    "cargoE": "Mecánico",
                                    "salEmp": "2550000.0"
                                },
                                {
                                    "nomEmp": "Elisa Rojas",
                                    "cargoE": "Jefe Mecánicos",
                                    "salEmp": "3000000.0"
                                },
                                {
                                    "nomEmp": "Rosa Angulo",
                                    "cargoE": "Jefe Ventas",
                                    "salEmp": "3250000.0"
                                },
                                {
                                    "nomEmp": "Marisol Pulido",
                                    "cargoE": "Investigador",
                                    "salEmp": "3250000.0"
                                },
                                {
                                    "nomEmp": "Darío Casas",
                                    "cargoE": "Investigador",
                                    "salEmp": "4500000.0"
                                },
                                {
                                    "nomEmp": "Carla López",
                                    "cargoE": "Jefe Mercadeo",
                                    "salEmp": "4500000.0"
                                },
                                {
                                    "nomEmp": "Luis Pérez",
                                    "cargoE": "Director",
                                    "salEmp": "5050000.0"
                                },
                                {
                                    "nomEmp": "María Rojas",
                                    "cargoE": "Gerente",
                                    "salEmp": "6250000.0"
                                }
                            ]
                        },
                        "text/html": [
                            "<table>",
                            "<tr><th>nomEmp</th><th>cargoE</th><th>salEmp</th></tr>",
                            "<tr><td>Carlos Rozo</td><td>Vigilante</td><td>750000.0</td></tr>",
                            "<tr><td>Pedro Blanco</td><td>Vendedor</td><td>800000.0</td></tr>",
                            "<tr><td>Jesús Alfonso</td><td>Vendedor</td><td>800000.0</td></tr>",
                            "<tr><td>Julián Mora</td><td>Vendedor</td><td>800000.0</td></tr>",
                            "<tr><td>Manuel Millán</td><td>Vendedor</td><td>800000.0</td></tr>",
                            "<tr><td>Edith Muñoz</td><td>Vendedor</td><td>800000.0</td></tr>",
                            "<tr><td>Antonio Gil</td><td>Técnico</td><td>850000.0</td></tr>",
                            "<tr><td>Irene Díaz</td><td>Mecánico</td><td>1050000.0</td></tr>",
                            "<tr><td>Abel Gómez</td><td>Mecánico</td><td>1050000.0</td></tr>",
                            "<tr><td>Iván Duarte</td><td>Mecánico</td><td>1050000.0</td></tr>",
                            "<tr><td>José Giraldo</td><td>Asesor</td><td>1200000.0</td></tr>",
                            "<tr><td>Ana Moreno</td><td>Secretaria</td><td>1200000.0</td></tr>",
                            "<tr><td>Diana Solarte</td><td>Secretaria</td><td>1250000.0</td></tr>",
                            "<tr><td>Carolina Ríos</td><td>Secretaria</td><td>1250000.0</td></tr>",
                            "<tr><td>Melissa Roa</td><td>Vendedor</td><td>2250000.0</td></tr>",
                            "<tr><td>William Daza</td><td>Investigador</td><td>2250000.0</td></tr>",
                            "<tr><td>Mario Llano</td><td>Vendedor</td><td>2250000.0</td></tr>",
                            "<tr><td>Joaquín Rosas</td><td>Vendedor</td><td>2250000.0</td></tr>",
                            "<tr><td>Marcos Cortez</td><td>Mecánico</td><td>2550000.0</td></tr>",
                            "<tr><td>Elisa Rojas</td><td>Jefe Mecánicos</td><td>3000000.0</td></tr>",
                            "<tr><td>Rosa Angulo</td><td>Jefe Ventas</td><td>3250000.0</td></tr>",
                            "<tr><td>Marisol Pulido</td><td>Investigador</td><td>3250000.0</td></tr>",
                            "<tr><td>Darío Casas</td><td>Investigador</td><td>4500000.0</td></tr>",
                            "<tr><td>Carla López</td><td>Jefe Mercadeo</td><td>4500000.0</td></tr>",
                            "<tr><td>Luis Pérez</td><td>Director</td><td>5050000.0</td></tr>",
                            "<tr><td>María Rojas</td><td>Gerente</td><td>6250000.0</td></tr>",
                            "</table>"
                        ]
                    }
                }
            ],
            "execution_count": 16
        },
        {
            "cell_type": "markdown",
            "source": [
                "8. <span style=\"color: rgb(102, 102, 102); font-family: Poppins; font-size: 15px; background-color: rgb(255, 255, 255);\">Listar los salarios y comisiones de los empleados del departamento 2000, ordenado por comisión.</span>"
            ],
            "metadata": {
                "language": "sql",
                "azdata_cell_guid": "c0365b63-4550-40eb-9f62-0329523ae4d2"
            },
            "attachments": {}
        },
        {
            "cell_type": "code",
            "source": [
                "SELECT nomEmp, salEmp, comisionE FROM empleados WHERE codDepto = 2000\r\n",
                " ORDER BY comisionE;\r\n",
                ""
            ],
            "metadata": {
                "language": "sql",
                "azdata_cell_guid": "3cad710a-d193-4596-bf5f-09d5317e93fe",
                "tags": []
            },
            "outputs": [
                {
                    "output_type": "display_data",
                    "data": {
                        "text/html": "(3 row(s) affected)"
                    },
                    "metadata": {}
                },
                {
                    "output_type": "display_data",
                    "data": {
                        "text/html": "Total execution time: 00:00:01.008"
                    },
                    "metadata": {}
                },
                {
                    "output_type": "execute_result",
                    "metadata": {},
                    "execution_count": 17,
                    "data": {
                        "application/vnd.dataresource+json": {
                            "schema": {
                                "fields": [
                                    {
                                        "name": "nomEmp"
                                    },
                                    {
                                        "name": "salEmp"
                                    },
                                    {
                                        "name": "comisionE"
                                    }
                                ]
                            },
                            "data": [
                                {
                                    "nomEmp": "Pedro Blanco",
                                    "salEmp": "800000.0",
                                    "comisionE": "3000000.0"
                                },
                                {
                                    "nomEmp": "Jesús Alfonso",
                                    "salEmp": "800000.0",
                                    "comisionE": "3500000.0"
                                },
                                {
                                    "nomEmp": "Rosa Angulo",
                                    "salEmp": "3250000.0",
                                    "comisionE": "3500000.0"
                                }
                            ]
                        },
                        "text/html": [
                            "<table>",
                            "<tr><th>nomEmp</th><th>salEmp</th><th>comisionE</th></tr>",
                            "<tr><td>Pedro Blanco</td><td>800000.0</td><td>3000000.0</td></tr>",
                            "<tr><td>Jesús Alfonso</td><td>800000.0</td><td>3500000.0</td></tr>",
                            "<tr><td>Rosa Angulo</td><td>3250000.0</td><td>3500000.0</td></tr>",
                            "</table>"
                        ]
                    }
                }
            ],
            "execution_count": 17
        },
        {
            "cell_type": "markdown",
            "source": [
                "9. <span style=\"color: rgb(102, 102, 102); font-family: Poppins; font-size: 15px; background-color: rgb(255, 255, 255);\">Listar todas las comisiones.</span>"
            ],
            "metadata": {
                "language": "sql",
                "azdata_cell_guid": "b9fbeee4-7a17-4241-ab10-dca4c95d7098"
            },
            "attachments": {}
        },
        {
            "cell_type": "code",
            "source": [
                "SELECT nomEmp, comisionE FROM empleados;\r\n",
                ""
            ],
            "metadata": {
                "language": "sql",
                "azdata_cell_guid": "468a3c0c-5312-49a9-aca6-f09780c114df"
            },
            "outputs": [
                {
                    "output_type": "display_data",
                    "data": {
                        "text/html": "(26 row(s) affected)"
                    },
                    "metadata": {}
                },
                {
                    "output_type": "display_data",
                    "data": {
                        "text/html": "Total execution time: 00:00:01.008"
                    },
                    "metadata": {}
                },
                {
                    "output_type": "execute_result",
                    "metadata": {},
                    "execution_count": 18,
                    "data": {
                        "application/vnd.dataresource+json": {
                            "schema": {
                                "fields": [
                                    {
                                        "name": "nomEmp"
                                    },
                                    {
                                        "name": "comisionE"
                                    }
                                ]
                            },
                            "data": [
                                {
                                    "nomEmp": "José Giraldo",
                                    "comisionE": "400000.0"
                                },
                                {
                                    "nomEmp": "Pedro Blanco",
                                    "comisionE": "3000000.0"
                                },
                                {
                                    "nomEmp": "Jesús Alfonso",
                                    "comisionE": "3500000.0"
                                },
                                {
                                    "nomEmp": "Julián Mora",
                                    "comisionE": "3100000.0"
                                },
                                {
                                    "nomEmp": "Manuel Millán",
                                    "comisionE": "3700000.0"
                                },
                                {
                                    "nomEmp": "Marcos Cortez",
                                    "comisionE": "500000.0"
                                },
                                {
                                    "nomEmp": "Antonio Gil",
                                    "comisionE": "1500000.0"
                                },
                                {
                                    "nomEmp": "Melissa Roa",
                                    "comisionE": "2500000.0"
                                },
                                {
                                    "nomEmp": "Irene Díaz",
                                    "comisionE": "200000.0"
                                },
                                {
                                    "nomEmp": "Luis Pérez",
                                    "comisionE": "0.0"
                                },
                                {
                                    "nomEmp": "Darío Casas",
                                    "comisionE": "500000.0"
                                },
                                {
                                    "nomEmp": "William Daza",
                                    "comisionE": "1000000.0"
                                },
                                {
                                    "nomEmp": "Carla López",
                                    "comisionE": "500000.0"
                                },
                                {
                                    "nomEmp": "Carlos Rozo",
                                    "comisionE": "500000.0"
                                },
                                {
                                    "nomEmp": "Diana Solarte",
                                    "comisionE": "500000.0"
                                },
                                {
                                    "nomEmp": "Rosa Angulo",
                                    "comisionE": "3500000.0"
                                },
                                {
                                    "nomEmp": "María Rojas",
                                    "comisionE": "1500000.0"
                                },
                                {
                                    "nomEmp": "Elisa Rojas",
                                    "comisionE": "1000000.0"
                                },
                                {
                                    "nomEmp": "Marisol Pulido",
                                    "comisionE": "1000000.0"
                                },
                                {
                                    "nomEmp": "Ana Moreno",
                                    "comisionE": "400000.0"
                                },
                                {
                                    "nomEmp": "Carolina Ríos",
                                    "comisionE": "500000.0"
                                },
                                {
                                    "nomEmp": "Edith Muñoz",
                                    "comisionE": "3600000.0"
                                },
                                {
                                    "nomEmp": "Abel Gómez",
                                    "comisionE": "200000.0"
                                },
                                {
                                    "nomEmp": "Mario Llano",
                                    "comisionE": "2500000.0"
                                },
                                {
                                    "nomEmp": "Joaquín Rosas",
                                    "comisionE": "2500000.0"
                                },
                                {
                                    "nomEmp": "Iván Duarte",
                                    "comisionE": "200000.0"
                                }
                            ]
                        },
                        "text/html": [
                            "<table>",
                            "<tr><th>nomEmp</th><th>comisionE</th></tr>",
                            "<tr><td>José Giraldo</td><td>400000.0</td></tr>",
                            "<tr><td>Pedro Blanco</td><td>3000000.0</td></tr>",
                            "<tr><td>Jesús Alfonso</td><td>3500000.0</td></tr>",
                            "<tr><td>Julián Mora</td><td>3100000.0</td></tr>",
                            "<tr><td>Manuel Millán</td><td>3700000.0</td></tr>",
                            "<tr><td>Marcos Cortez</td><td>500000.0</td></tr>",
                            "<tr><td>Antonio Gil</td><td>1500000.0</td></tr>",
                            "<tr><td>Melissa Roa</td><td>2500000.0</td></tr>",
                            "<tr><td>Irene Díaz</td><td>200000.0</td></tr>",
                            "<tr><td>Luis Pérez</td><td>0.0</td></tr>",
                            "<tr><td>Darío Casas</td><td>500000.0</td></tr>",
                            "<tr><td>William Daza</td><td>1000000.0</td></tr>",
                            "<tr><td>Carla López</td><td>500000.0</td></tr>",
                            "<tr><td>Carlos Rozo</td><td>500000.0</td></tr>",
                            "<tr><td>Diana Solarte</td><td>500000.0</td></tr>",
                            "<tr><td>Rosa Angulo</td><td>3500000.0</td></tr>",
                            "<tr><td>María Rojas</td><td>1500000.0</td></tr>",
                            "<tr><td>Elisa Rojas</td><td>1000000.0</td></tr>",
                            "<tr><td>Marisol Pulido</td><td>1000000.0</td></tr>",
                            "<tr><td>Ana Moreno</td><td>400000.0</td></tr>",
                            "<tr><td>Carolina Ríos</td><td>500000.0</td></tr>",
                            "<tr><td>Edith Muñoz</td><td>3600000.0</td></tr>",
                            "<tr><td>Abel Gómez</td><td>200000.0</td></tr>",
                            "<tr><td>Mario Llano</td><td>2500000.0</td></tr>",
                            "<tr><td>Joaquín Rosas</td><td>2500000.0</td></tr>",
                            "<tr><td>Iván Duarte</td><td>200000.0</td></tr>",
                            "</table>"
                        ]
                    }
                }
            ],
            "execution_count": 18
        },
        {
            "cell_type": "markdown",
            "source": [
                "10. <span style=\"color: rgb(102, 102, 102); font-family: Poppins; font-size: 15px; background-color: rgb(255, 255, 255);\">Obtener el valor total a pagar que resulta de sumar a los empleados del departamento 3000 una bonificación de 500.000, en orden alfabético del empleado</span>"
            ],
            "metadata": {
                "language": "sql",
                "azdata_cell_guid": "6deeeb74-f453-49fa-9af3-546ebf4ac062"
            },
            "attachments": {}
        },
        {
            "cell_type": "code",
            "source": [
                "SELECT nomEmp, (salEmp + comisionE + 500000) AS totalPagar\r\n",
                "FROM empleados\r\n",
                "WHERE codDepto = 3000\r\n",
                "ORDER BY nomEmp ASC;\r\n",
                ""
            ],
            "metadata": {
                "language": "sql",
                "azdata_cell_guid": "df8d4b62-4a3e-4887-bc89-f3e0f10c7d96"
            },
            "outputs": [
                {
                    "output_type": "display_data",
                    "data": {
                        "text/html": "(4 row(s) affected)"
                    },
                    "metadata": {}
                },
                {
                    "output_type": "display_data",
                    "data": {
                        "text/html": "Total execution time: 00:00:01.028"
                    },
                    "metadata": {}
                },
                {
                    "output_type": "execute_result",
                    "metadata": {},
                    "execution_count": 19,
                    "data": {
                        "application/vnd.dataresource+json": {
                            "schema": {
                                "fields": [
                                    {
                                        "name": "nomEmp"
                                    },
                                    {
                                        "name": "totalPagar"
                                    }
                                ]
                            },
                            "data": [
                                {
                                    "nomEmp": "Ana Moreno",
                                    "totalPagar": "2100000.0"
                                },
                                {
                                    "nomEmp": "Darío Casas",
                                    "totalPagar": "5500000.0"
                                },
                                {
                                    "nomEmp": "Marisol Pulido",
                                    "totalPagar": "4750000.0"
                                },
                                {
                                    "nomEmp": "William Daza",
                                    "totalPagar": "3750000.0"
                                }
                            ]
                        },
                        "text/html": [
                            "<table>",
                            "<tr><th>nomEmp</th><th>totalPagar</th></tr>",
                            "<tr><td>Ana Moreno</td><td>2100000.0</td></tr>",
                            "<tr><td>Darío Casas</td><td>5500000.0</td></tr>",
                            "<tr><td>Marisol Pulido</td><td>4750000.0</td></tr>",
                            "<tr><td>William Daza</td><td>3750000.0</td></tr>",
                            "</table>"
                        ]
                    }
                }
            ],
            "execution_count": 19
        },
        {
            "cell_type": "markdown",
            "source": [
                "11. <span style=\"color: rgb(102, 102, 102); font-family: Poppins; font-size: 15px; background-color: rgb(255, 255, 255);\">Obtener la lista de los empleados que ganan una comisión superior a su sueldo.</span>"
            ],
            "metadata": {
                "language": "sql",
                "azdata_cell_guid": "998a16a6-45fa-47eb-98ae-4d41b005ce6a"
            },
            "attachments": {}
        },
        {
            "cell_type": "code",
            "source": [
                "SELECT nomEmp, salEmp, comisionE\r\n",
                "FROM empleados\r\n",
                "WHERE comisionE > salEmp;\r\n",
                ""
            ],
            "metadata": {
                "language": "sql",
                "azdata_cell_guid": "c159a6aa-56fc-4d9e-8f7b-a071ca435ddf"
            },
            "outputs": [
                {
                    "output_type": "display_data",
                    "data": {
                        "text/html": "(10 row(s) affected)"
                    },
                    "metadata": {}
                },
                {
                    "output_type": "display_data",
                    "data": {
                        "text/html": "Total execution time: 00:00:01.016"
                    },
                    "metadata": {}
                },
                {
                    "output_type": "execute_result",
                    "metadata": {},
                    "execution_count": 20,
                    "data": {
                        "application/vnd.dataresource+json": {
                            "schema": {
                                "fields": [
                                    {
                                        "name": "nomEmp"
                                    },
                                    {
                                        "name": "salEmp"
                                    },
                                    {
                                        "name": "comisionE"
                                    }
                                ]
                            },
                            "data": [
                                {
                                    "nomEmp": "Pedro Blanco",
                                    "salEmp": "800000.0",
                                    "comisionE": "3000000.0"
                                },
                                {
                                    "nomEmp": "Jesús Alfonso",
                                    "salEmp": "800000.0",
                                    "comisionE": "3500000.0"
                                },
                                {
                                    "nomEmp": "Julián Mora",
                                    "salEmp": "800000.0",
                                    "comisionE": "3100000.0"
                                },
                                {
                                    "nomEmp": "Manuel Millán",
                                    "salEmp": "800000.0",
                                    "comisionE": "3700000.0"
                                },
                                {
                                    "nomEmp": "Antonio Gil",
                                    "salEmp": "850000.0",
                                    "comisionE": "1500000.0"
                                },
                                {
                                    "nomEmp": "Melissa Roa",
                                    "salEmp": "2250000.0",
                                    "comisionE": "2500000.0"
                                },
                                {
                                    "nomEmp": "Rosa Angulo",
                                    "salEmp": "3250000.0",
                                    "comisionE": "3500000.0"
                                },
                                {
                                    "nomEmp": "Edith Muñoz",
                                    "salEmp": "800000.0",
                                    "comisionE": "3600000.0"
                                },
                                {
                                    "nomEmp": "Mario Llano",
                                    "salEmp": "2250000.0",
                                    "comisionE": "2500000.0"
                                },
                                {
                                    "nomEmp": "Joaquín Rosas",
                                    "salEmp": "2250000.0",
                                    "comisionE": "2500000.0"
                                }
                            ]
                        },
                        "text/html": [
                            "<table>",
                            "<tr><th>nomEmp</th><th>salEmp</th><th>comisionE</th></tr>",
                            "<tr><td>Pedro Blanco</td><td>800000.0</td><td>3000000.0</td></tr>",
                            "<tr><td>Jesús Alfonso</td><td>800000.0</td><td>3500000.0</td></tr>",
                            "<tr><td>Julián Mora</td><td>800000.0</td><td>3100000.0</td></tr>",
                            "<tr><td>Manuel Millán</td><td>800000.0</td><td>3700000.0</td></tr>",
                            "<tr><td>Antonio Gil</td><td>850000.0</td><td>1500000.0</td></tr>",
                            "<tr><td>Melissa Roa</td><td>2250000.0</td><td>2500000.0</td></tr>",
                            "<tr><td>Rosa Angulo</td><td>3250000.0</td><td>3500000.0</td></tr>",
                            "<tr><td>Edith Muñoz</td><td>800000.0</td><td>3600000.0</td></tr>",
                            "<tr><td>Mario Llano</td><td>2250000.0</td><td>2500000.0</td></tr>",
                            "<tr><td>Joaquín Rosas</td><td>2250000.0</td><td>2500000.0</td></tr>",
                            "</table>"
                        ]
                    }
                }
            ],
            "execution_count": 20
        },
        {
            "cell_type": "markdown",
            "source": [
                "12.  <span style=\"color: rgb(102, 102, 102); font-family: Poppins; font-size: 15px; background-color: rgb(255, 255, 255);\">&nbsp;Listar los empleados cuya comisión es menor o igual que el 30% de su sueldo.</span>"
            ],
            "metadata": {
                "language": "sql",
                "azdata_cell_guid": "3d14af06-4aee-4851-bc32-a7aa75594afc"
            },
            "attachments": {}
        },
        {
            "cell_type": "code",
            "source": [
                "SELECT nomEmp, salEmp, comisionE\r\n",
                "FROM empleados\r\n",
                "WHERE comisionE <= 0.30 * salEmp;\r\n",
                ""
            ],
            "metadata": {
                "language": "sql",
                "azdata_cell_guid": "9c4460d8-ba5a-40cf-b65e-fc0b3f73c410"
            },
            "outputs": [
                {
                    "output_type": "display_data",
                    "data": {
                        "text/html": "(8 row(s) affected)"
                    },
                    "metadata": {}
                },
                {
                    "output_type": "display_data",
                    "data": {
                        "text/html": "Total execution time: 00:00:01.017"
                    },
                    "metadata": {}
                },
                {
                    "output_type": "execute_result",
                    "metadata": {},
                    "execution_count": 21,
                    "data": {
                        "application/vnd.dataresource+json": {
                            "schema": {
                                "fields": [
                                    {
                                        "name": "nomEmp"
                                    },
                                    {
                                        "name": "salEmp"
                                    },
                                    {
                                        "name": "comisionE"
                                    }
                                ]
                            },
                            "data": [
                                {
                                    "nomEmp": "Marcos Cortez",
                                    "salEmp": "2550000.0",
                                    "comisionE": "500000.0"
                                },
                                {
                                    "nomEmp": "Irene Díaz",
                                    "salEmp": "1050000.0",
                                    "comisionE": "200000.0"
                                },
                                {
                                    "nomEmp": "Luis Pérez",
                                    "salEmp": "5050000.0",
                                    "comisionE": "0.0"
                                },
                                {
                                    "nomEmp": "Darío Casas",
                                    "salEmp": "4500000.0",
                                    "comisionE": "500000.0"
                                },
                                {
                                    "nomEmp": "Carla López",
                                    "salEmp": "4500000.0",
                                    "comisionE": "500000.0"
                                },
                                {
                                    "nomEmp": "María Rojas",
                                    "salEmp": "6250000.0",
                                    "comisionE": "1500000.0"
                                },
                                {
                                    "nomEmp": "Abel Gómez",
                                    "salEmp": "1050000.0",
                                    "comisionE": "200000.0"
                                },
                                {
                                    "nomEmp": "Iván Duarte",
                                    "salEmp": "1050000.0",
                                    "comisionE": "200000.0"
                                }
                            ]
                        },
                        "text/html": [
                            "<table>",
                            "<tr><th>nomEmp</th><th>salEmp</th><th>comisionE</th></tr>",
                            "<tr><td>Marcos Cortez</td><td>2550000.0</td><td>500000.0</td></tr>",
                            "<tr><td>Irene Díaz</td><td>1050000.0</td><td>200000.0</td></tr>",
                            "<tr><td>Luis Pérez</td><td>5050000.0</td><td>0.0</td></tr>",
                            "<tr><td>Darío Casas</td><td>4500000.0</td><td>500000.0</td></tr>",
                            "<tr><td>Carla López</td><td>4500000.0</td><td>500000.0</td></tr>",
                            "<tr><td>María Rojas</td><td>6250000.0</td><td>1500000.0</td></tr>",
                            "<tr><td>Abel Gómez</td><td>1050000.0</td><td>200000.0</td></tr>",
                            "<tr><td>Iván Duarte</td><td>1050000.0</td><td>200000.0</td></tr>",
                            "</table>"
                        ]
                    }
                }
            ],
            "execution_count": 21
        },
        {
            "cell_type": "markdown",
            "source": [
                "13. <span style=\"color: rgb(102, 102, 102); font-family: Poppins; font-size: 15px; background-color: rgb(255, 255, 255);\">Elabore un listado donde para cada fila, figure ‘Nombre’ y ‘Cargo’ antes del valor respectivo para cada empleado.</span>"
            ],
            "metadata": {
                "language": "sql",
                "azdata_cell_guid": "432e0691-03f8-4397-9060-8ce9d84d7283"
            },
            "attachments": {}
        },
        {
            "cell_type": "code",
            "source": [
                "SELECT CONCAT('Nombre: ', nomEmp) AS Nombre, CONCAT('Cargo: ', cargoE) AS Cargo\r\n",
                "FROM empleados;\r\n",
                ""
            ],
            "metadata": {
                "language": "sql",
                "azdata_cell_guid": "e1739c5d-2d02-4dc8-8226-c3c664352b75"
            },
            "outputs": [
                {
                    "output_type": "display_data",
                    "data": {
                        "text/html": "(26 row(s) affected)"
                    },
                    "metadata": {}
                },
                {
                    "output_type": "display_data",
                    "data": {
                        "text/html": "Total execution time: 00:00:01.014"
                    },
                    "metadata": {}
                },
                {
                    "output_type": "execute_result",
                    "metadata": {},
                    "execution_count": 22,
                    "data": {
                        "application/vnd.dataresource+json": {
                            "schema": {
                                "fields": [
                                    {
                                        "name": "Nombre"
                                    },
                                    {
                                        "name": "Cargo"
                                    }
                                ]
                            },
                            "data": [
                                {
                                    "Nombre": "Nombre: José Giraldo",
                                    "Cargo": "Cargo: Asesor"
                                },
                                {
                                    "Nombre": "Nombre: Pedro Blanco",
                                    "Cargo": "Cargo: Vendedor"
                                },
                                {
                                    "Nombre": "Nombre: Jesús Alfonso",
                                    "Cargo": "Cargo: Vendedor"
                                },
                                {
                                    "Nombre": "Nombre: Julián Mora",
                                    "Cargo": "Cargo: Vendedor"
                                },
                                {
                                    "Nombre": "Nombre: Manuel Millán",
                                    "Cargo": "Cargo: Vendedor"
                                },
                                {
                                    "Nombre": "Nombre: Marcos Cortez",
                                    "Cargo": "Cargo: Mecánico"
                                },
                                {
                                    "Nombre": "Nombre: Antonio Gil",
                                    "Cargo": "Cargo: Técnico"
                                },
                                {
                                    "Nombre": "Nombre: Melissa Roa",
                                    "Cargo": "Cargo: Vendedor"
                                },
                                {
                                    "Nombre": "Nombre: Irene Díaz",
                                    "Cargo": "Cargo: Mecánico"
                                },
                                {
                                    "Nombre": "Nombre: Luis Pérez",
                                    "Cargo": "Cargo: Director"
                                },
                                {
                                    "Nombre": "Nombre: Darío Casas",
                                    "Cargo": "Cargo: Investigador"
                                },
                                {
                                    "Nombre": "Nombre: William Daza",
                                    "Cargo": "Cargo: Investigador"
                                },
                                {
                                    "Nombre": "Nombre: Carla López",
                                    "Cargo": "Cargo: Jefe Mercadeo"
                                },
                                {
                                    "Nombre": "Nombre: Carlos Rozo",
                                    "Cargo": "Cargo: Vigilante"
                                },
                                {
                                    "Nombre": "Nombre: Diana Solarte",
                                    "Cargo": "Cargo: Secretaria"
                                },
                                {
                                    "Nombre": "Nombre: Rosa Angulo",
                                    "Cargo": "Cargo: Jefe Ventas"
                                },
                                {
                                    "Nombre": "Nombre: María Rojas",
                                    "Cargo": "Cargo: Gerente"
                                },
                                {
                                    "Nombre": "Nombre: Elisa Rojas",
                                    "Cargo": "Cargo: Jefe Mecánicos"
                                },
                                {
                                    "Nombre": "Nombre: Marisol Pulido",
                                    "Cargo": "Cargo: Investigador"
                                },
                                {
                                    "Nombre": "Nombre: Ana Moreno",
                                    "Cargo": "Cargo: Secretaria"
                                },
                                {
                                    "Nombre": "Nombre: Carolina Ríos",
                                    "Cargo": "Cargo: Secretaria"
                                },
                                {
                                    "Nombre": "Nombre: Edith Muñoz",
                                    "Cargo": "Cargo: Vendedor"
                                },
                                {
                                    "Nombre": "Nombre: Abel Gómez",
                                    "Cargo": "Cargo: Mecánico"
                                },
                                {
                                    "Nombre": "Nombre: Mario Llano",
                                    "Cargo": "Cargo: Vendedor"
                                },
                                {
                                    "Nombre": "Nombre: Joaquín Rosas",
                                    "Cargo": "Cargo: Vendedor"
                                },
                                {
                                    "Nombre": "Nombre: Iván Duarte",
                                    "Cargo": "Cargo: Mecánico"
                                }
                            ]
                        },
                        "text/html": [
                            "<table>",
                            "<tr><th>Nombre</th><th>Cargo</th></tr>",
                            "<tr><td>Nombre: José Giraldo</td><td>Cargo: Asesor</td></tr>",
                            "<tr><td>Nombre: Pedro Blanco</td><td>Cargo: Vendedor</td></tr>",
                            "<tr><td>Nombre: Jesús Alfonso</td><td>Cargo: Vendedor</td></tr>",
                            "<tr><td>Nombre: Julián Mora</td><td>Cargo: Vendedor</td></tr>",
                            "<tr><td>Nombre: Manuel Millán</td><td>Cargo: Vendedor</td></tr>",
                            "<tr><td>Nombre: Marcos Cortez</td><td>Cargo: Mecánico</td></tr>",
                            "<tr><td>Nombre: Antonio Gil</td><td>Cargo: Técnico</td></tr>",
                            "<tr><td>Nombre: Melissa Roa</td><td>Cargo: Vendedor</td></tr>",
                            "<tr><td>Nombre: Irene Díaz</td><td>Cargo: Mecánico</td></tr>",
                            "<tr><td>Nombre: Luis Pérez</td><td>Cargo: Director</td></tr>",
                            "<tr><td>Nombre: Darío Casas</td><td>Cargo: Investigador</td></tr>",
                            "<tr><td>Nombre: William Daza</td><td>Cargo: Investigador</td></tr>",
                            "<tr><td>Nombre: Carla López</td><td>Cargo: Jefe Mercadeo</td></tr>",
                            "<tr><td>Nombre: Carlos Rozo</td><td>Cargo: Vigilante</td></tr>",
                            "<tr><td>Nombre: Diana Solarte</td><td>Cargo: Secretaria</td></tr>",
                            "<tr><td>Nombre: Rosa Angulo</td><td>Cargo: Jefe Ventas</td></tr>",
                            "<tr><td>Nombre: María Rojas</td><td>Cargo: Gerente</td></tr>",
                            "<tr><td>Nombre: Elisa Rojas</td><td>Cargo: Jefe Mecánicos</td></tr>",
                            "<tr><td>Nombre: Marisol Pulido</td><td>Cargo: Investigador</td></tr>",
                            "<tr><td>Nombre: Ana Moreno</td><td>Cargo: Secretaria</td></tr>",
                            "<tr><td>Nombre: Carolina Ríos</td><td>Cargo: Secretaria</td></tr>",
                            "<tr><td>Nombre: Edith Muñoz</td><td>Cargo: Vendedor</td></tr>",
                            "<tr><td>Nombre: Abel Gómez</td><td>Cargo: Mecánico</td></tr>",
                            "<tr><td>Nombre: Mario Llano</td><td>Cargo: Vendedor</td></tr>",
                            "<tr><td>Nombre: Joaquín Rosas</td><td>Cargo: Vendedor</td></tr>",
                            "<tr><td>Nombre: Iván Duarte</td><td>Cargo: Mecánico</td></tr>",
                            "</table>"
                        ]
                    }
                }
            ],
            "execution_count": 22
        },
        {
            "cell_type": "markdown",
            "source": [
                "14. <span style=\"color: rgb(102, 102, 102); font-family: Poppins; font-size: 15px; background-color: rgb(255, 255, 255);\">Hallar el salario y la comisión de aquellos empleados cuyo número de documento de identidad es superior al ‘19.709.802’.</span>"
            ],
            "metadata": {
                "language": "sql",
                "azdata_cell_guid": "f1a30612-8e12-4787-a12e-172eb3981200"
            },
            "attachments": {}
        },
        {
            "cell_type": "code",
            "source": [
                "SELECT nDIEmp, nomEmp, salEmp, comisionE\r\n",
                "FROM empleados\r\n",
                "WHERE nDIEmp > '19.709.802';\r\n",
                ""
            ],
            "metadata": {
                "language": "sql",
                "azdata_cell_guid": "5fbb1c45-9e0f-4793-8bf7-2de34c6dcbf2",
                "tags": []
            },
            "outputs": [
                {
                    "output_type": "display_data",
                    "data": {
                        "text/html": "(14 row(s) affected)"
                    },
                    "metadata": {}
                },
                {
                    "output_type": "display_data",
                    "data": {
                        "text/html": "Total execution time: 00:00:01.008"
                    },
                    "metadata": {}
                },
                {
                    "output_type": "execute_result",
                    "metadata": {},
                    "execution_count": 25,
                    "data": {
                        "application/vnd.dataresource+json": {
                            "schema": {
                                "fields": [
                                    {
                                        "name": "nDIEmp"
                                    },
                                    {
                                        "name": "nomEmp"
                                    },
                                    {
                                        "name": "salEmp"
                                    },
                                    {
                                        "name": "comisionE"
                                    }
                                ]
                            },
                            "data": [
                                {
                                    "nDIEmp": "22.222.222",
                                    "nomEmp": "Carla López",
                                    "salEmp": "4500000.0",
                                    "comisionE": "500000.0"
                                },
                                {
                                    "nDIEmp": "22.222.333",
                                    "nomEmp": "Carlos Rozo",
                                    "salEmp": "750000.0",
                                    "comisionE": "500000.0"
                                },
                                {
                                    "nDIEmp": "31.174.099",
                                    "nomEmp": "Diana Solarte",
                                    "salEmp": "1250000.0",
                                    "comisionE": "500000.0"
                                },
                                {
                                    "nDIEmp": "31.178.144",
                                    "nomEmp": "Rosa Angulo",
                                    "salEmp": "3250000.0",
                                    "comisionE": "3500000.0"
                                },
                                {
                                    "nDIEmp": "31.840.269",
                                    "nomEmp": "María Rojas",
                                    "salEmp": "6250000.0",
                                    "comisionE": "1500000.0"
                                },
                                {
                                    "nDIEmp": "333.333.333",
                                    "nomEmp": "Elisa Rojas",
                                    "salEmp": "3000000.0",
                                    "comisionE": "1000000.0"
                                },
                                {
                                    "nDIEmp": "333.333.334",
                                    "nomEmp": "Marisol Pulido",
                                    "salEmp": "3250000.0",
                                    "comisionE": "1000000.0"
                                },
                                {
                                    "nDIEmp": "333.333.335",
                                    "nomEmp": "Ana Moreno",
                                    "salEmp": "1200000.0",
                                    "comisionE": "400000.0"
                                },
                                {
                                    "nDIEmp": "333.333.336",
                                    "nomEmp": "Carolina Ríos",
                                    "salEmp": "1250000.0",
                                    "comisionE": "500000.0"
                                },
                                {
                                    "nDIEmp": "333.333.337",
                                    "nomEmp": "Edith Muñoz",
                                    "salEmp": "800000.0",
                                    "comisionE": "3600000.0"
                                },
                                {
                                    "nDIEmp": "444.444",
                                    "nomEmp": "Abel Gómez",
                                    "salEmp": "1050000.0",
                                    "comisionE": "200000.0"
                                },
                                {
                                    "nDIEmp": "737.689",
                                    "nomEmp": "Mario Llano",
                                    "salEmp": "2250000.0",
                                    "comisionE": "2500000.0"
                                },
                                {
                                    "nDIEmp": "768.782",
                                    "nomEmp": "Joaquín Rosas",
                                    "salEmp": "2250000.0",
                                    "comisionE": "2500000.0"
                                },
                                {
                                    "nDIEmp": "888.888",
                                    "nomEmp": "Iván Duarte",
                                    "salEmp": "1050000.0",
                                    "comisionE": "200000.0"
                                }
                            ]
                        },
                        "text/html": [
                            "<table>",
                            "<tr><th>nDIEmp</th><th>nomEmp</th><th>salEmp</th><th>comisionE</th></tr>",
                            "<tr><td>22.222.222</td><td>Carla López</td><td>4500000.0</td><td>500000.0</td></tr>",
                            "<tr><td>22.222.333</td><td>Carlos Rozo</td><td>750000.0</td><td>500000.0</td></tr>",
                            "<tr><td>31.174.099</td><td>Diana Solarte</td><td>1250000.0</td><td>500000.0</td></tr>",
                            "<tr><td>31.178.144</td><td>Rosa Angulo</td><td>3250000.0</td><td>3500000.0</td></tr>",
                            "<tr><td>31.840.269</td><td>María Rojas</td><td>6250000.0</td><td>1500000.0</td></tr>",
                            "<tr><td>333.333.333</td><td>Elisa Rojas</td><td>3000000.0</td><td>1000000.0</td></tr>",
                            "<tr><td>333.333.334</td><td>Marisol Pulido</td><td>3250000.0</td><td>1000000.0</td></tr>",
                            "<tr><td>333.333.335</td><td>Ana Moreno</td><td>1200000.0</td><td>400000.0</td></tr>",
                            "<tr><td>333.333.336</td><td>Carolina Ríos</td><td>1250000.0</td><td>500000.0</td></tr>",
                            "<tr><td>333.333.337</td><td>Edith Muñoz</td><td>800000.0</td><td>3600000.0</td></tr>",
                            "<tr><td>444.444</td><td>Abel Gómez</td><td>1050000.0</td><td>200000.0</td></tr>",
                            "<tr><td>737.689</td><td>Mario Llano</td><td>2250000.0</td><td>2500000.0</td></tr>",
                            "<tr><td>768.782</td><td>Joaquín Rosas</td><td>2250000.0</td><td>2500000.0</td></tr>",
                            "<tr><td>888.888</td><td>Iván Duarte</td><td>1050000.0</td><td>200000.0</td></tr>",
                            "</table>"
                        ]
                    }
                }
            ],
            "execution_count": 25
        },
        {
            "cell_type": "markdown",
            "source": [
                "15. <span style=\"color: rgb(102, 102, 102); font-family: Poppins; font-size: 15px; background-color: rgb(255, 255, 255);\">Muestra los empleados cuyo nombre empiece entre las letras J y Z (rango).</span>  \n",
                "<span style=\"color: rgb(102, 102, 102); font-family: Poppins; font-size: 15px; background-color: rgb(255, 255, 255);\">Liste estos empleados y su cargo por orden alfabético.</span>"
            ],
            "metadata": {
                "language": "sql",
                "azdata_cell_guid": "92201b5b-db29-4491-b991-35d5abf578f8"
            },
            "attachments": {}
        },
        {
            "cell_type": "code",
            "source": [
                "SELECT nomEmp, cargoE\r\n",
                "FROM empleados\r\n",
                "WHERE nomEmp REGEXP '^[J-Z]'\r\n",
                "ORDER BY nomEmp;\r\n",
                ""
            ],
            "metadata": {
                "language": "sql",
                "azdata_cell_guid": "52c57bf1-12df-45f9-ab38-b2b8f5415df6"
            },
            "outputs": [
                {
                    "output_type": "display_data",
                    "data": {
                        "text/html": "(14 row(s) affected)"
                    },
                    "metadata": {}
                },
                {
                    "output_type": "display_data",
                    "data": {
                        "text/html": "Total execution time: 00:00:01.035"
                    },
                    "metadata": {}
                },
                {
                    "output_type": "execute_result",
                    "metadata": {},
                    "execution_count": 26,
                    "data": {
                        "application/vnd.dataresource+json": {
                            "schema": {
                                "fields": [
                                    {
                                        "name": "nomEmp"
                                    },
                                    {
                                        "name": "cargoE"
                                    }
                                ]
                            },
                            "data": [
                                {
                                    "nomEmp": "Jesús Alfonso",
                                    "cargoE": "Vendedor"
                                },
                                {
                                    "nomEmp": "Joaquín Rosas",
                                    "cargoE": "Vendedor"
                                },
                                {
                                    "nomEmp": "José Giraldo",
                                    "cargoE": "Asesor"
                                },
                                {
                                    "nomEmp": "Julián Mora",
                                    "cargoE": "Vendedor"
                                },
                                {
                                    "nomEmp": "Luis Pérez",
                                    "cargoE": "Director"
                                },
                                {
                                    "nomEmp": "Manuel Millán",
                                    "cargoE": "Vendedor"
                                },
                                {
                                    "nomEmp": "Marcos Cortez",
                                    "cargoE": "Mecánico"
                                },
                                {
                                    "nomEmp": "Mario Llano",
                                    "cargoE": "Vendedor"
                                },
                                {
                                    "nomEmp": "Marisol Pulido",
                                    "cargoE": "Investigador"
                                },
                                {
                                    "nomEmp": "María Rojas",
                                    "cargoE": "Gerente"
                                },
                                {
                                    "nomEmp": "Melissa Roa",
                                    "cargoE": "Vendedor"
                                },
                                {
                                    "nomEmp": "Pedro Blanco",
                                    "cargoE": "Vendedor"
                                },
                                {
                                    "nomEmp": "Rosa Angulo",
                                    "cargoE": "Jefe Ventas"
                                },
                                {
                                    "nomEmp": "William Daza",
                                    "cargoE": "Investigador"
                                }
                            ]
                        },
                        "text/html": [
                            "<table>",
                            "<tr><th>nomEmp</th><th>cargoE</th></tr>",
                            "<tr><td>Jesús Alfonso</td><td>Vendedor</td></tr>",
                            "<tr><td>Joaquín Rosas</td><td>Vendedor</td></tr>",
                            "<tr><td>José Giraldo</td><td>Asesor</td></tr>",
                            "<tr><td>Julián Mora</td><td>Vendedor</td></tr>",
                            "<tr><td>Luis Pérez</td><td>Director</td></tr>",
                            "<tr><td>Manuel Millán</td><td>Vendedor</td></tr>",
                            "<tr><td>Marcos Cortez</td><td>Mecánico</td></tr>",
                            "<tr><td>Mario Llano</td><td>Vendedor</td></tr>",
                            "<tr><td>Marisol Pulido</td><td>Investigador</td></tr>",
                            "<tr><td>María Rojas</td><td>Gerente</td></tr>",
                            "<tr><td>Melissa Roa</td><td>Vendedor</td></tr>",
                            "<tr><td>Pedro Blanco</td><td>Vendedor</td></tr>",
                            "<tr><td>Rosa Angulo</td><td>Jefe Ventas</td></tr>",
                            "<tr><td>William Daza</td><td>Investigador</td></tr>",
                            "</table>"
                        ]
                    }
                }
            ],
            "execution_count": 26
        },
        {
            "cell_type": "markdown",
            "source": [
                "<span style=\"color: rgb(102, 102, 102); font-family: Poppins; font-size: 15px; background-color: rgb(255, 255, 255);\">16. Listar el salario, la comisión, el salario total (salario + comisión), documento de identidad del empleado y nombre, de aquellos empleados que tienen comisión superior a 1.000.000, ordenar el informe por el número del documento de identidad</span>"
            ],
            "metadata": {
                "language": "sql",
                "azdata_cell_guid": "9dcbd6e9-d5b2-4ba5-9fd1-89b7324fd795"
            },
            "attachments": {}
        },
        {
            "cell_type": "code",
            "source": [
                "SELECT nDIEmp, nomEmp, salEmp, comisionE, (salEmp + comisionE) AS salarioTotal\r\n",
                "FROM empleados\r\n",
                "WHERE comisionE > 1000000\r\n",
                "ORDER BY nDIEmp;\r\n",
                ""
            ],
            "metadata": {
                "azdata_cell_guid": "716b4a1a-edc6-4567-adc9-d407f809fdeb",
                "language": "sql"
            },
            "outputs": [
                {
                    "output_type": "display_data",
                    "data": {
                        "text/html": "(11 row(s) affected)"
                    },
                    "metadata": {}
                },
                {
                    "output_type": "display_data",
                    "data": {
                        "text/html": "Total execution time: 00:00:01.007"
                    },
                    "metadata": {}
                },
                {
                    "output_type": "execute_result",
                    "metadata": {},
                    "execution_count": 28,
                    "data": {
                        "application/vnd.dataresource+json": {
                            "schema": {
                                "fields": [
                                    {
                                        "name": "nDIEmp"
                                    },
                                    {
                                        "name": "nomEmp"
                                    },
                                    {
                                        "name": "salEmp"
                                    },
                                    {
                                        "name": "comisionE"
                                    },
                                    {
                                        "name": "salarioTotal"
                                    }
                                ]
                            },
                            "data": [
                                {
                                    "nDIEmp": "1.130.333",
                                    "nomEmp": "Pedro Blanco",
                                    "salEmp": "800000.0",
                                    "comisionE": "3000000.0",
                                    "salarioTotal": "3800000.0"
                                },
                                {
                                    "nDIEmp": "1.130.444",
                                    "nomEmp": "Jesús Alfonso",
                                    "salEmp": "800000.0",
                                    "comisionE": "3500000.0",
                                    "salarioTotal": "4300000.0"
                                },
                                {
                                    "nDIEmp": "1.130.555",
                                    "nomEmp": "Julián Mora",
                                    "salEmp": "800000.0",
                                    "comisionE": "3100000.0",
                                    "salarioTotal": "3900000.0"
                                },
                                {
                                    "nDIEmp": "1.130.666",
                                    "nomEmp": "Manuel Millán",
                                    "salEmp": "800000.0",
                                    "comisionE": "3700000.0",
                                    "salarioTotal": "4500000.0"
                                },
                                {
                                    "nDIEmp": "1.130.782",
                                    "nomEmp": "Antonio Gil",
                                    "salEmp": "850000.0",
                                    "comisionE": "1500000.0",
                                    "salarioTotal": "2350000.0"
                                },
                                {
                                    "nDIEmp": "1.751.219",
                                    "nomEmp": "Melissa Roa",
                                    "salEmp": "2250000.0",
                                    "comisionE": "2500000.0",
                                    "salarioTotal": "4750000.0"
                                },
                                {
                                    "nDIEmp": "31.178.144",
                                    "nomEmp": "Rosa Angulo",
                                    "salEmp": "3250000.0",
                                    "comisionE": "3500000.0",
                                    "salarioTotal": "6750000.0"
                                },
                                {
                                    "nDIEmp": "31.840.269",
                                    "nomEmp": "María Rojas",
                                    "salEmp": "6250000.0",
                                    "comisionE": "1500000.0",
                                    "salarioTotal": "7750000.0"
                                },
                                {
                                    "nDIEmp": "333.333.337",
                                    "nomEmp": "Edith Muñoz",
                                    "salEmp": "800000.0",
                                    "comisionE": "3600000.0",
                                    "salarioTotal": "4400000.0"
                                },
                                {
                                    "nDIEmp": "737.689",
                                    "nomEmp": "Mario Llano",
                                    "salEmp": "2250000.0",
                                    "comisionE": "2500000.0",
                                    "salarioTotal": "4750000.0"
                                },
                                {
                                    "nDIEmp": "768.782",
                                    "nomEmp": "Joaquín Rosas",
                                    "salEmp": "2250000.0",
                                    "comisionE": "2500000.0",
                                    "salarioTotal": "4750000.0"
                                }
                            ]
                        },
                        "text/html": [
                            "<table>",
                            "<tr><th>nDIEmp</th><th>nomEmp</th><th>salEmp</th><th>comisionE</th><th>salarioTotal</th></tr>",
                            "<tr><td>1.130.333</td><td>Pedro Blanco</td><td>800000.0</td><td>3000000.0</td><td>3800000.0</td></tr>",
                            "<tr><td>1.130.444</td><td>Jesús Alfonso</td><td>800000.0</td><td>3500000.0</td><td>4300000.0</td></tr>",
                            "<tr><td>1.130.555</td><td>Julián Mora</td><td>800000.0</td><td>3100000.0</td><td>3900000.0</td></tr>",
                            "<tr><td>1.130.666</td><td>Manuel Millán</td><td>800000.0</td><td>3700000.0</td><td>4500000.0</td></tr>",
                            "<tr><td>1.130.782</td><td>Antonio Gil</td><td>850000.0</td><td>1500000.0</td><td>2350000.0</td></tr>",
                            "<tr><td>1.751.219</td><td>Melissa Roa</td><td>2250000.0</td><td>2500000.0</td><td>4750000.0</td></tr>",
                            "<tr><td>31.178.144</td><td>Rosa Angulo</td><td>3250000.0</td><td>3500000.0</td><td>6750000.0</td></tr>",
                            "<tr><td>31.840.269</td><td>María Rojas</td><td>6250000.0</td><td>1500000.0</td><td>7750000.0</td></tr>",
                            "<tr><td>333.333.337</td><td>Edith Muñoz</td><td>800000.0</td><td>3600000.0</td><td>4400000.0</td></tr>",
                            "<tr><td>737.689</td><td>Mario Llano</td><td>2250000.0</td><td>2500000.0</td><td>4750000.0</td></tr>",
                            "<tr><td>768.782</td><td>Joaquín Rosas</td><td>2250000.0</td><td>2500000.0</td><td>4750000.0</td></tr>",
                            "</table>"
                        ]
                    }
                }
            ],
            "execution_count": 28
        },
        {
            "cell_type": "markdown",
            "source": [
                "<span style=\"color: rgb(102, 102, 102); font-family: Poppins; font-size: 15px; background-color: rgb(255, 255, 255);\">17. Obtener un listado similar al anterior, pero de aquellos empleados que NO tienen comisión</span>"
            ],
            "metadata": {
                "language": "sql",
                "azdata_cell_guid": "f2a958b2-7bb9-4a2f-a603-50d391b11c8f"
            },
            "attachments": {}
        },
        {
            "cell_type": "code",
            "source": [
                "SELECT nDIEmp, nomEmp, salEmp, comisionE, salEmp AS salarioTotal\r\n",
                "FROM empleados\r\n",
                "WHERE comisionE IS NULL OR comisionE = 0\r\n",
                "ORDER BY nDIEmp;\r\n",
                ""
            ],
            "metadata": {
                "language": "sql",
                "azdata_cell_guid": "0ddd1e57-2c3d-4ef3-b2ed-33122c07de8e"
            },
            "outputs": [
                {
                    "output_type": "display_data",
                    "data": {
                        "text/html": "(1 row(s) affected)"
                    },
                    "metadata": {}
                },
                {
                    "output_type": "display_data",
                    "data": {
                        "text/html": "Total execution time: 00:00:01.006"
                    },
                    "metadata": {}
                },
                {
                    "output_type": "execute_result",
                    "metadata": {},
                    "execution_count": 29,
                    "data": {
                        "application/vnd.dataresource+json": {
                            "schema": {
                                "fields": [
                                    {
                                        "name": "nDIEmp"
                                    },
                                    {
                                        "name": "nomEmp"
                                    },
                                    {
                                        "name": "salEmp"
                                    },
                                    {
                                        "name": "comisionE"
                                    },
                                    {
                                        "name": "salarioTotal"
                                    }
                                ]
                            },
                            "data": [
                                {
                                    "nDIEmp": "16.211.383",
                                    "nomEmp": "Luis Pérez",
                                    "salEmp": "5050000.0",
                                    "comisionE": "0.0",
                                    "salarioTotal": "5050000.0"
                                }
                            ]
                        },
                        "text/html": [
                            "<table>",
                            "<tr><th>nDIEmp</th><th>nomEmp</th><th>salEmp</th><th>comisionE</th><th>salarioTotal</th></tr>",
                            "<tr><td>16.211.383</td><td>Luis Pérez</td><td>5050000.0</td><td>0.0</td><td>5050000.0</td></tr>",
                            "</table>"
                        ]
                    }
                }
            ],
            "execution_count": 29
        },
        {
            "cell_type": "markdown",
            "source": [
                "18. <span style=\"color: rgb(102, 102, 102); font-family: Poppins; font-size: 15px; background-color: rgb(255, 255, 255);\">Hallar los empleados cuyo nombre no contiene la cadena «MA»</span>"
            ],
            "metadata": {
                "language": "sql",
                "azdata_cell_guid": "f9b9259b-8336-4147-9301-bb44be9819d9"
            },
            "attachments": {}
        },
        {
            "cell_type": "code",
            "source": [
                "SELECT nomEmp\r\n",
                "FROM empleados\r\n",
                "WHERE nomEmp NOT LIKE '%MA%';\r\n",
                ""
            ],
            "metadata": {
                "language": "sql",
                "azdata_cell_guid": "92cbd71b-97ef-43e7-80ec-9256d6ab85c2"
            },
            "outputs": [
                {
                    "output_type": "display_data",
                    "data": {
                        "text/html": "(26 row(s) affected)"
                    },
                    "metadata": {}
                },
                {
                    "output_type": "display_data",
                    "data": {
                        "text/html": "Total execution time: 00:00:01.015"
                    },
                    "metadata": {}
                },
                {
                    "output_type": "execute_result",
                    "metadata": {},
                    "execution_count": 30,
                    "data": {
                        "application/vnd.dataresource+json": {
                            "schema": {
                                "fields": [
                                    {
                                        "name": "nomEmp"
                                    }
                                ]
                            },
                            "data": [
                                {
                                    "nomEmp": "José Giraldo"
                                },
                                {
                                    "nomEmp": "Pedro Blanco"
                                },
                                {
                                    "nomEmp": "Jesús Alfonso"
                                },
                                {
                                    "nomEmp": "Julián Mora"
                                },
                                {
                                    "nomEmp": "Manuel Millán"
                                },
                                {
                                    "nomEmp": "Marcos Cortez"
                                },
                                {
                                    "nomEmp": "Antonio Gil"
                                },
                                {
                                    "nomEmp": "Melissa Roa"
                                },
                                {
                                    "nomEmp": "Irene Díaz"
                                },
                                {
                                    "nomEmp": "Luis Pérez"
                                },
                                {
                                    "nomEmp": "Darío Casas"
                                },
                                {
                                    "nomEmp": "William Daza"
                                },
                                {
                                    "nomEmp": "Carla López"
                                },
                                {
                                    "nomEmp": "Carlos Rozo"
                                },
                                {
                                    "nomEmp": "Diana Solarte"
                                },
                                {
                                    "nomEmp": "Rosa Angulo"
                                },
                                {
                                    "nomEmp": "María Rojas"
                                },
                                {
                                    "nomEmp": "Elisa Rojas"
                                },
                                {
                                    "nomEmp": "Marisol Pulido"
                                },
                                {
                                    "nomEmp": "Ana Moreno"
                                },
                                {
                                    "nomEmp": "Carolina Ríos"
                                },
                                {
                                    "nomEmp": "Edith Muñoz"
                                },
                                {
                                    "nomEmp": "Abel Gómez"
                                },
                                {
                                    "nomEmp": "Mario Llano"
                                },
                                {
                                    "nomEmp": "Joaquín Rosas"
                                },
                                {
                                    "nomEmp": "Iván Duarte"
                                }
                            ]
                        },
                        "text/html": [
                            "<table>",
                            "<tr><th>nomEmp</th></tr>",
                            "<tr><td>José Giraldo</td></tr>",
                            "<tr><td>Pedro Blanco</td></tr>",
                            "<tr><td>Jesús Alfonso</td></tr>",
                            "<tr><td>Julián Mora</td></tr>",
                            "<tr><td>Manuel Millán</td></tr>",
                            "<tr><td>Marcos Cortez</td></tr>",
                            "<tr><td>Antonio Gil</td></tr>",
                            "<tr><td>Melissa Roa</td></tr>",
                            "<tr><td>Irene Díaz</td></tr>",
                            "<tr><td>Luis Pérez</td></tr>",
                            "<tr><td>Darío Casas</td></tr>",
                            "<tr><td>William Daza</td></tr>",
                            "<tr><td>Carla López</td></tr>",
                            "<tr><td>Carlos Rozo</td></tr>",
                            "<tr><td>Diana Solarte</td></tr>",
                            "<tr><td>Rosa Angulo</td></tr>",
                            "<tr><td>María Rojas</td></tr>",
                            "<tr><td>Elisa Rojas</td></tr>",
                            "<tr><td>Marisol Pulido</td></tr>",
                            "<tr><td>Ana Moreno</td></tr>",
                            "<tr><td>Carolina Ríos</td></tr>",
                            "<tr><td>Edith Muñoz</td></tr>",
                            "<tr><td>Abel Gómez</td></tr>",
                            "<tr><td>Mario Llano</td></tr>",
                            "<tr><td>Joaquín Rosas</td></tr>",
                            "<tr><td>Iván Duarte</td></tr>",
                            "</table>"
                        ]
                    }
                }
            ],
            "execution_count": 30
        },
        {
            "cell_type": "markdown",
            "source": [
                "Para <span style=\"color: rgb(13, 13, 13); font-family: Söhne, ui-sans-serif, system-ui, -apple-system, &quot;Segoe UI&quot;, Roboto, Ubuntu, Cantarell, &quot;Noto Sans&quot;, sans-serif, &quot;Helvetica Neue&quot;, Arial, &quot;Apple Color Emoji&quot;, &quot;Segoe UI Emoji&quot;, &quot;Segoe UI Symbol&quot;, &quot;Noto Color Emoji&quot;; font-size: 16px; white-space-collapse: preserve; background-color: rgb(255, 255, 255);\">ignorar la distinción entre mayúsculas y minúsculas, podrías necesitar una función adicional como </span> `UPPER()` <span style=\"color: rgb(13, 13, 13); font-family: Söhne, ui-sans-serif, system-ui, -apple-system, &quot;Segoe UI&quot;, Roboto, Ubuntu, Cantarell, &quot;Noto Sans&quot;, sans-serif, &quot;Helvetica Neue&quot;, Arial, &quot;Apple Color Emoji&quot;, &quot;Segoe UI Emoji&quot;, &quot;Segoe UI Symbol&quot;, &quot;Noto Color Emoji&quot;; font-size: 16px; white-space-collapse: preserve; background-color: rgb(255, 255, 255);\"> o </span> `LOWER()` <span style=\"color: rgb(13, 13, 13); font-family: Söhne, ui-sans-serif, system-ui, -apple-system, &quot;Segoe UI&quot;, Roboto, Ubuntu, Cantarell, &quot;Noto Sans&quot;, sans-serif, &quot;Helvetica Neue&quot;, Arial, &quot;Apple Color Emoji&quot;, &quot;Segoe UI Emoji&quot;, &quot;Segoe UI Symbol&quot;, &quot;Noto Color Emoji&quot;; font-size: 16px; white-space-collapse: preserve; background-color: rgb(255, 255, 255);\"> para estandarizar los nombres antes de aplicar el filtro, así:</span>"
            ],
            "metadata": {
                "azdata_cell_guid": "a4adb4c3-31c0-4fa1-880d-81eadb630a2e"
            },
            "attachments": {}
        },
        {
            "cell_type": "code",
            "source": [
                "SELECT nomEmp\r\n",
                "FROM empleados\r\n",
                "WHERE UPPER(nomEmp) NOT LIKE '%MA%';\r\n",
                ""
            ],
            "metadata": {
                "azdata_cell_guid": "0033393b-64c3-4c21-bf82-fa54fa859f74",
                "language": "sql"
            },
            "outputs": [
                {
                    "output_type": "display_data",
                    "data": {
                        "text/html": "(21 row(s) affected)"
                    },
                    "metadata": {}
                },
                {
                    "output_type": "display_data",
                    "data": {
                        "text/html": "Total execution time: 00:00:01.017"
                    },
                    "metadata": {}
                },
                {
                    "output_type": "execute_result",
                    "metadata": {},
                    "execution_count": 31,
                    "data": {
                        "application/vnd.dataresource+json": {
                            "schema": {
                                "fields": [
                                    {
                                        "name": "nomEmp"
                                    }
                                ]
                            },
                            "data": [
                                {
                                    "nomEmp": "José Giraldo"
                                },
                                {
                                    "nomEmp": "Pedro Blanco"
                                },
                                {
                                    "nomEmp": "Jesús Alfonso"
                                },
                                {
                                    "nomEmp": "Julián Mora"
                                },
                                {
                                    "nomEmp": "Antonio Gil"
                                },
                                {
                                    "nomEmp": "Melissa Roa"
                                },
                                {
                                    "nomEmp": "Irene Díaz"
                                },
                                {
                                    "nomEmp": "Luis Pérez"
                                },
                                {
                                    "nomEmp": "Darío Casas"
                                },
                                {
                                    "nomEmp": "William Daza"
                                },
                                {
                                    "nomEmp": "Carla López"
                                },
                                {
                                    "nomEmp": "Carlos Rozo"
                                },
                                {
                                    "nomEmp": "Diana Solarte"
                                },
                                {
                                    "nomEmp": "Rosa Angulo"
                                },
                                {
                                    "nomEmp": "Elisa Rojas"
                                },
                                {
                                    "nomEmp": "Ana Moreno"
                                },
                                {
                                    "nomEmp": "Carolina Ríos"
                                },
                                {
                                    "nomEmp": "Edith Muñoz"
                                },
                                {
                                    "nomEmp": "Abel Gómez"
                                },
                                {
                                    "nomEmp": "Joaquín Rosas"
                                },
                                {
                                    "nomEmp": "Iván Duarte"
                                }
                            ]
                        },
                        "text/html": [
                            "<table>",
                            "<tr><th>nomEmp</th></tr>",
                            "<tr><td>José Giraldo</td></tr>",
                            "<tr><td>Pedro Blanco</td></tr>",
                            "<tr><td>Jesús Alfonso</td></tr>",
                            "<tr><td>Julián Mora</td></tr>",
                            "<tr><td>Antonio Gil</td></tr>",
                            "<tr><td>Melissa Roa</td></tr>",
                            "<tr><td>Irene Díaz</td></tr>",
                            "<tr><td>Luis Pérez</td></tr>",
                            "<tr><td>Darío Casas</td></tr>",
                            "<tr><td>William Daza</td></tr>",
                            "<tr><td>Carla López</td></tr>",
                            "<tr><td>Carlos Rozo</td></tr>",
                            "<tr><td>Diana Solarte</td></tr>",
                            "<tr><td>Rosa Angulo</td></tr>",
                            "<tr><td>Elisa Rojas</td></tr>",
                            "<tr><td>Ana Moreno</td></tr>",
                            "<tr><td>Carolina Ríos</td></tr>",
                            "<tr><td>Edith Muñoz</td></tr>",
                            "<tr><td>Abel Gómez</td></tr>",
                            "<tr><td>Joaquín Rosas</td></tr>",
                            "<tr><td>Iván Duarte</td></tr>",
                            "</table>"
                        ]
                    }
                }
            ],
            "execution_count": 31
        },
        {
            "cell_type": "markdown",
            "source": [
                "19. <span style=\"color: rgb(102, 102, 102); font-family: Poppins; font-size: 15px; background-color: rgb(255, 255, 255);\">Obtener los nombres de los departamentos que no sean “Ventas” ni “Investigación” NI</span>  \n",
                "<span style=\"color: rgb(102, 102, 102); font-family: Poppins; font-size: 15px; background-color: rgb(255, 255, 255);\">‘MANTENIMIENTO’.</span>"
            ],
            "metadata": {
                "language": "sql",
                "azdata_cell_guid": "d3b142ff-45b4-4e67-a143-66925325e21a"
            },
            "attachments": {}
        },
        {
            "cell_type": "code",
            "source": [
                "SELECT DISTINCT nombreDpto\r\n",
                "FROM departamentos\r\n",
                "WHERE nombreDpto NOT IN ('Ventas', 'Investigación', 'MANTENIMIENTO');\r\n",
                "\r\n",
                ""
            ],
            "metadata": {
                "language": "sql",
                "azdata_cell_guid": "30bc8db0-b322-4c5a-9132-fbdfb2c7f964"
            },
            "outputs": [
                {
                    "output_type": "display_data",
                    "data": {
                        "text/html": "(5 row(s) affected)"
                    },
                    "metadata": {}
                },
                {
                    "output_type": "display_data",
                    "data": {
                        "text/html": "Total execution time: 00:00:01.011"
                    },
                    "metadata": {}
                },
                {
                    "output_type": "execute_result",
                    "metadata": {},
                    "execution_count": 35,
                    "data": {
                        "application/vnd.dataresource+json": {
                            "schema": {
                                "fields": [
                                    {
                                        "name": "nombreDpto"
                                    }
                                ]
                            },
                            "data": [
                                {
                                    "nombreDpto": "GERENCIA"
                                },
                                {
                                    "nombreDpto": "PRODUCCIÓN"
                                },
                                {
                                    "nombreDpto": "VENTAS"
                                },
                                {
                                    "nombreDpto": "INVESTIGACIÓN"
                                },
                                {
                                    "nombreDpto": "MERCADEO"
                                }
                            ]
                        },
                        "text/html": [
                            "<table>",
                            "<tr><th>nombreDpto</th></tr>",
                            "<tr><td>GERENCIA</td></tr>",
                            "<tr><td>PRODUCCIÓN</td></tr>",
                            "<tr><td>VENTAS</td></tr>",
                            "<tr><td>INVESTIGACIÓN</td></tr>",
                            "<tr><td>MERCADEO</td></tr>",
                            "</table>"
                        ]
                    }
                }
            ],
            "execution_count": 35
        },
        {
            "cell_type": "markdown",
            "source": [
                "20. <span style=\"color: rgb(102, 102, 102); font-family: Poppins; font-size: 15px; background-color: rgb(255, 255, 255);\">Obtener el nombre y el departamento de los empleados con cargo ‘Secretaria’ o ‘Vendedor’, que no trabajan en el departamento de “PRODUCCION”, cuyo salario es superior a $1.000.000, ordenados por fecha de incorporación.</span>"
            ],
            "metadata": {
                "language": "sql",
                "azdata_cell_guid": "01e2128b-b677-4693-aad9-db8581aff2d7"
            },
            "attachments": {}
        },
        {
            "cell_type": "code",
            "source": [
                "SELECT e.nomEmp, d.nombreDpto, cargoE, salEmp, fecincorporacion\r\n",
                "FROM empleados e\r\n",
                "JOIN departamentos d ON e.codDepto = d.codDepto\r\n",
                "WHERE e.cargoE IN ('Secretaria', 'Vendedor')\r\n",
                "AND d.nombreDpto <> 'PRODUCCION'\r\n",
                "AND e.salEmp > 1000000\r\n",
                "ORDER BY e.fecIncorporacion;\r\n",
                ""
            ],
            "metadata": {
                "language": "sql",
                "azdata_cell_guid": "14d7e73e-cd71-45c2-8508-f431dcb7be82"
            },
            "outputs": [
                {
                    "output_type": "display_data",
                    "data": {
                        "text/html": "(6 row(s) affected)"
                    },
                    "metadata": {}
                },
                {
                    "output_type": "display_data",
                    "data": {
                        "text/html": "Total execution time: 00:00:01.018"
                    },
                    "metadata": {}
                },
                {
                    "output_type": "execute_result",
                    "metadata": {},
                    "execution_count": 40,
                    "data": {
                        "application/vnd.dataresource+json": {
                            "schema": {
                                "fields": [
                                    {
                                        "name": "nomEmp"
                                    },
                                    {
                                        "name": "nombreDpto"
                                    },
                                    {
                                        "name": "cargoE"
                                    },
                                    {
                                        "name": "salEmp"
                                    },
                                    {
                                        "name": "fecincorporacion"
                                    }
                                ]
                            },
                            "data": [
                                {
                                    "nomEmp": "Diana Solarte",
                                    "nombreDpto": "GERENCIA",
                                    "cargoE": "Secretaria",
                                    "salEmp": "1250000.0",
                                    "fecincorporacion": "1990-05-16"
                                },
                                {
                                    "nomEmp": "Mario Llano",
                                    "nombreDpto": "VENTAS",
                                    "cargoE": "Vendedor",
                                    "salEmp": "2250000.0",
                                    "fecincorporacion": "1990-05-16"
                                },
                                {
                                    "nomEmp": "Joaquín Rosas",
                                    "nombreDpto": "VENTAS",
                                    "cargoE": "Vendedor",
                                    "salEmp": "2250000.0",
                                    "fecincorporacion": "1990-05-16"
                                },
                                {
                                    "nomEmp": "Carolina Ríos",
                                    "nombreDpto": "PRODUCCIÓN",
                                    "cargoE": "Secretaria",
                                    "salEmp": "1250000.0",
                                    "fecincorporacion": "2000-10-01"
                                },
                                {
                                    "nomEmp": "Melissa Roa",
                                    "nombreDpto": "VENTAS",
                                    "cargoE": "Vendedor",
                                    "salEmp": "2250000.0",
                                    "fecincorporacion": "2001-03-16"
                                },
                                {
                                    "nomEmp": "Ana Moreno",
                                    "nombreDpto": "INVESTIGACIÓN",
                                    "cargoE": "Secretaria",
                                    "salEmp": "1200000.0",
                                    "fecincorporacion": "2004-06-01"
                                }
                            ]
                        },
                        "text/html": [
                            "<table>",
                            "<tr><th>nomEmp</th><th>nombreDpto</th><th>cargoE</th><th>salEmp</th><th>fecincorporacion</th></tr>",
                            "<tr><td>Diana Solarte</td><td>GERENCIA</td><td>Secretaria</td><td>1250000.0</td><td>1990-05-16</td></tr>",
                            "<tr><td>Mario Llano</td><td>VENTAS</td><td>Vendedor</td><td>2250000.0</td><td>1990-05-16</td></tr>",
                            "<tr><td>Joaquín Rosas</td><td>VENTAS</td><td>Vendedor</td><td>2250000.0</td><td>1990-05-16</td></tr>",
                            "<tr><td>Carolina Ríos</td><td>PRODUCCIÓN</td><td>Secretaria</td><td>1250000.0</td><td>2000-10-01</td></tr>",
                            "<tr><td>Melissa Roa</td><td>VENTAS</td><td>Vendedor</td><td>2250000.0</td><td>2001-03-16</td></tr>",
                            "<tr><td>Ana Moreno</td><td>INVESTIGACIÓN</td><td>Secretaria</td><td>1200000.0</td><td>2004-06-01</td></tr>",
                            "</table>"
                        ]
                    }
                }
            ],
            "execution_count": 40
        },
        {
            "cell_type": "code",
            "source": [
                "SELECT e.nomEmp, d.nombreDpto\r\n",
                "FROM empleados e\r\n",
                "JOIN departamentos d ON e.codDepto = d.codDepto\r\n",
                "WHERE e.cargoE IN ('Secretaria', 'Vendedor')\r\n",
                "AND d.nombreDpto <> 'PRODUCCION'\r\n",
                "AND e.salEmp > 1000000\r\n",
                "ORDER BY e.fecIncorporacion;\r\n",
                ""
            ],
            "metadata": {
                "azdata_cell_guid": "5a0b3835-0bd2-418c-87ac-2dff0ad80a4b",
                "language": "sql"
            },
            "outputs": [
                {
                    "output_type": "display_data",
                    "data": {
                        "text/html": "(6 row(s) affected)"
                    },
                    "metadata": {}
                },
                {
                    "output_type": "display_data",
                    "data": {
                        "text/html": "Total execution time: 00:00:01.008"
                    },
                    "metadata": {}
                },
                {
                    "output_type": "execute_result",
                    "metadata": {},
                    "execution_count": 42,
                    "data": {
                        "application/vnd.dataresource+json": {
                            "schema": {
                                "fields": [
                                    {
                                        "name": "nomEmp"
                                    },
                                    {
                                        "name": "nombreDpto"
                                    }
                                ]
                            },
                            "data": [
                                {
                                    "nomEmp": "Diana Solarte",
                                    "nombreDpto": "GERENCIA"
                                },
                                {
                                    "nomEmp": "Mario Llano",
                                    "nombreDpto": "VENTAS"
                                },
                                {
                                    "nomEmp": "Joaquín Rosas",
                                    "nombreDpto": "VENTAS"
                                },
                                {
                                    "nomEmp": "Carolina Ríos",
                                    "nombreDpto": "PRODUCCIÓN"
                                },
                                {
                                    "nomEmp": "Melissa Roa",
                                    "nombreDpto": "VENTAS"
                                },
                                {
                                    "nomEmp": "Ana Moreno",
                                    "nombreDpto": "INVESTIGACIÓN"
                                }
                            ]
                        },
                        "text/html": [
                            "<table>",
                            "<tr><th>nomEmp</th><th>nombreDpto</th></tr>",
                            "<tr><td>Diana Solarte</td><td>GERENCIA</td></tr>",
                            "<tr><td>Mario Llano</td><td>VENTAS</td></tr>",
                            "<tr><td>Joaquín Rosas</td><td>VENTAS</td></tr>",
                            "<tr><td>Carolina Ríos</td><td>PRODUCCIÓN</td></tr>",
                            "<tr><td>Melissa Roa</td><td>VENTAS</td></tr>",
                            "<tr><td>Ana Moreno</td><td>INVESTIGACIÓN</td></tr>",
                            "</table>"
                        ]
                    }
                }
            ],
            "execution_count": 42
        },
        {
            "cell_type": "markdown",
            "source": [
                "<span style=\"color: rgb(102, 102, 102); font-family: Poppins; font-size: 15px; background-color: rgb(255, 255, 255);\">21. Obtener información de los empleados cuyo nombre tiene exactamente 11 caracteres</span>"
            ],
            "metadata": {
                "language": "sql",
                "azdata_cell_guid": "230d3dea-dbec-4d5b-8ab8-61b7ee045bee"
            },
            "attachments": {}
        },
        {
            "cell_type": "markdown",
            "source": [
                "respuesta considera un espacio como un caracter"
            ],
            "metadata": {
                "azdata_cell_guid": "b8422071-836a-412a-9e03-f45c0c8036b6"
            },
            "attachments": {}
        },
        {
            "cell_type": "code",
            "source": [
                "SELECT *\r\n",
                "FROM empleados\r\n",
                "WHERE CHAR_LENGTH(nomEmp) = 11;\r\n",
                ""
            ],
            "metadata": {
                "language": "sql",
                "azdata_cell_guid": "e05ae140-a453-47a2-b543-5b95930c0a4b"
            },
            "outputs": [
                {
                    "output_type": "display_data",
                    "data": {
                        "text/html": "(12 row(s) affected)"
                    },
                    "metadata": {}
                },
                {
                    "output_type": "display_data",
                    "data": {
                        "text/html": "Total execution time: 00:00:01.017"
                    },
                    "metadata": {}
                },
                {
                    "output_type": "execute_result",
                    "metadata": {},
                    "execution_count": 43,
                    "data": {
                        "application/vnd.dataresource+json": {
                            "schema": {
                                "fields": [
                                    {
                                        "name": "nDIEmp"
                                    },
                                    {
                                        "name": "nomEmp"
                                    },
                                    {
                                        "name": "sexEmp"
                                    },
                                    {
                                        "name": "fecNac"
                                    },
                                    {
                                        "name": "fecIncorporacion"
                                    },
                                    {
                                        "name": "salEmp"
                                    },
                                    {
                                        "name": "comisionE"
                                    },
                                    {
                                        "name": "cargoE"
                                    },
                                    {
                                        "name": "jefeID"
                                    },
                                    {
                                        "name": "codDepto"
                                    }
                                ]
                            },
                            "data": [
                                {
                                    "nDIEmp": "1.130.555",
                                    "nomEmp": "Julián Mora",
                                    "sexEmp": "M",
                                    "fecNac": "1989-07-03",
                                    "fecIncorporacion": "2000-10-01",
                                    "salEmp": "800000.0",
                                    "comisionE": "3100000.0",
                                    "cargoE": "Vendedor",
                                    "jefeID": "31.178.144",
                                    "codDepto": "2200"
                                },
                                {
                                    "nDIEmp": "1.130.782",
                                    "nomEmp": "Antonio Gil",
                                    "sexEmp": "M",
                                    "fecNac": "1980-01-23",
                                    "fecIncorporacion": "2010-04-16",
                                    "salEmp": "850000.0",
                                    "comisionE": "1500000.0",
                                    "cargoE": "Técnico",
                                    "jefeID": "16.211.383",
                                    "codDepto": "1500"
                                },
                                {
                                    "nDIEmp": "1.751.219",
                                    "nomEmp": "Melissa Roa",
                                    "sexEmp": "F",
                                    "fecNac": "1960-06-19",
                                    "fecIncorporacion": "2001-03-16",
                                    "salEmp": "2250000.0",
                                    "comisionE": "2500000.0",
                                    "cargoE": "Vendedor",
                                    "jefeID": "31.178.144",
                                    "codDepto": "2100"
                                },
                                {
                                    "nDIEmp": "16.759.060",
                                    "nomEmp": "Darío Casas",
                                    "sexEmp": "M",
                                    "fecNac": "1960-04-05",
                                    "fecIncorporacion": "1992-11-01",
                                    "salEmp": "4500000.0",
                                    "comisionE": "500000.0",
                                    "cargoE": "Investigador",
                                    "jefeID": "31.840.269",
                                    "codDepto": "3000"
                                },
                                {
                                    "nDIEmp": "22.222.222",
                                    "nomEmp": "Carla López",
                                    "sexEmp": "F",
                                    "fecNac": "1975-05-11",
                                    "fecIncorporacion": "2005-07-16",
                                    "salEmp": "4500000.0",
                                    "comisionE": "500000.0",
                                    "cargoE": "Jefe Mercadeo",
                                    "jefeID": "31.840.269",
                                    "codDepto": "3500"
                                },
                                {
                                    "nDIEmp": "22.222.333",
                                    "nomEmp": "Carlos Rozo",
                                    "sexEmp": "M",
                                    "fecNac": "1975-05-11",
                                    "fecIncorporacion": "2001-09-16",
                                    "salEmp": "750000.0",
                                    "comisionE": "500000.0",
                                    "cargoE": "Vigilante",
                                    "jefeID": "31.840.269",
                                    "codDepto": "3500"
                                },
                                {
                                    "nDIEmp": "31.178.144",
                                    "nomEmp": "Rosa Angulo",
                                    "sexEmp": "F",
                                    "fecNac": "1957-03-15",
                                    "fecIncorporacion": "1998-08-16",
                                    "salEmp": "3250000.0",
                                    "comisionE": "3500000.0",
                                    "cargoE": "Jefe Ventas",
                                    "jefeID": "31.840.269",
                                    "codDepto": "2000"
                                },
                                {
                                    "nDIEmp": "31.840.269",
                                    "nomEmp": "María Rojas",
                                    "sexEmp": "F",
                                    "fecNac": "1959-01-15",
                                    "fecIncorporacion": "1990-05-16",
                                    "salEmp": "6250000.0",
                                    "comisionE": "1500000.0",
                                    "cargoE": "Gerente",
                                    "jefeID": "NULL",
                                    "codDepto": "1000"
                                },
                                {
                                    "nDIEmp": "333.333.333",
                                    "nomEmp": "Elisa Rojas",
                                    "sexEmp": "F",
                                    "fecNac": "1979-09-28",
                                    "fecIncorporacion": "2004-06-01",
                                    "salEmp": "3000000.0",
                                    "comisionE": "1000000.0",
                                    "cargoE": "Jefe Mecánicos",
                                    "jefeID": "31.840.269",
                                    "codDepto": "4000"
                                },
                                {
                                    "nDIEmp": "333.333.337",
                                    "nomEmp": "Edith Muñoz",
                                    "sexEmp": "F",
                                    "fecNac": "1992-03-31",
                                    "fecIncorporacion": "2000-10-01",
                                    "salEmp": "800000.0",
                                    "comisionE": "3600000.0",
                                    "cargoE": "Vendedor",
                                    "jefeID": "31.178.144",
                                    "codDepto": "2100"
                                },
                                {
                                    "nDIEmp": "737.689",
                                    "nomEmp": "Mario Llano",
                                    "sexEmp": "M",
                                    "fecNac": "1945-08-30",
                                    "fecIncorporacion": "1990-05-16",
                                    "salEmp": "2250000.0",
                                    "comisionE": "2500000.0",
                                    "cargoE": "Vendedor",
                                    "jefeID": "31.178.144",
                                    "codDepto": "2300"
                                },
                                {
                                    "nDIEmp": "888.888",
                                    "nomEmp": "Iván Duarte",
                                    "sexEmp": "M",
                                    "fecNac": "1955-08-12",
                                    "fecIncorporacion": "1998-05-16",
                                    "salEmp": "1050000.0",
                                    "comisionE": "200000.0",
                                    "cargoE": "Mecánico",
                                    "jefeID": "333.333.333",
                                    "codDepto": "4100"
                                }
                            ]
                        },
                        "text/html": [
                            "<table>",
                            "<tr><th>nDIEmp</th><th>nomEmp</th><th>sexEmp</th><th>fecNac</th><th>fecIncorporacion</th><th>salEmp</th><th>comisionE</th><th>cargoE</th><th>jefeID</th><th>codDepto</th></tr>",
                            "<tr><td>1.130.555</td><td>Julián Mora</td><td>M</td><td>1989-07-03</td><td>2000-10-01</td><td>800000.0</td><td>3100000.0</td><td>Vendedor</td><td>31.178.144</td><td>2200</td></tr>",
                            "<tr><td>1.130.782</td><td>Antonio Gil</td><td>M</td><td>1980-01-23</td><td>2010-04-16</td><td>850000.0</td><td>1500000.0</td><td>Técnico</td><td>16.211.383</td><td>1500</td></tr>",
                            "<tr><td>1.751.219</td><td>Melissa Roa</td><td>F</td><td>1960-06-19</td><td>2001-03-16</td><td>2250000.0</td><td>2500000.0</td><td>Vendedor</td><td>31.178.144</td><td>2100</td></tr>",
                            "<tr><td>16.759.060</td><td>Darío Casas</td><td>M</td><td>1960-04-05</td><td>1992-11-01</td><td>4500000.0</td><td>500000.0</td><td>Investigador</td><td>31.840.269</td><td>3000</td></tr>",
                            "<tr><td>22.222.222</td><td>Carla López</td><td>F</td><td>1975-05-11</td><td>2005-07-16</td><td>4500000.0</td><td>500000.0</td><td>Jefe Mercadeo</td><td>31.840.269</td><td>3500</td></tr>",
                            "<tr><td>22.222.333</td><td>Carlos Rozo</td><td>M</td><td>1975-05-11</td><td>2001-09-16</td><td>750000.0</td><td>500000.0</td><td>Vigilante</td><td>31.840.269</td><td>3500</td></tr>",
                            "<tr><td>31.178.144</td><td>Rosa Angulo</td><td>F</td><td>1957-03-15</td><td>1998-08-16</td><td>3250000.0</td><td>3500000.0</td><td>Jefe Ventas</td><td>31.840.269</td><td>2000</td></tr>",
                            "<tr><td>31.840.269</td><td>María Rojas</td><td>F</td><td>1959-01-15</td><td>1990-05-16</td><td>6250000.0</td><td>1500000.0</td><td>Gerente</td><td>NULL</td><td>1000</td></tr>",
                            "<tr><td>333.333.333</td><td>Elisa Rojas</td><td>F</td><td>1979-09-28</td><td>2004-06-01</td><td>3000000.0</td><td>1000000.0</td><td>Jefe Mecánicos</td><td>31.840.269</td><td>4000</td></tr>",
                            "<tr><td>333.333.337</td><td>Edith Muñoz</td><td>F</td><td>1992-03-31</td><td>2000-10-01</td><td>800000.0</td><td>3600000.0</td><td>Vendedor</td><td>31.178.144</td><td>2100</td></tr>",
                            "<tr><td>737.689</td><td>Mario Llano</td><td>M</td><td>1945-08-30</td><td>1990-05-16</td><td>2250000.0</td><td>2500000.0</td><td>Vendedor</td><td>31.178.144</td><td>2300</td></tr>",
                            "<tr><td>888.888</td><td>Iván Duarte</td><td>M</td><td>1955-08-12</td><td>1998-05-16</td><td>1050000.0</td><td>200000.0</td><td>Mecánico</td><td>333.333.333</td><td>4100</td></tr>",
                            "</table>"
                        ]
                    }
                }
            ],
            "execution_count": 43
        },
        {
            "cell_type": "markdown",
            "source": [
                "22. <span style=\"color: rgb(102, 102, 102); font-family: Poppins; font-size: 15px; background-color: rgb(255, 255, 255);\">Obtener información de los empleados cuyo nombre tiene al menos 11 caracteres</span>"
            ],
            "metadata": {
                "language": "sql",
                "azdata_cell_guid": "44d12830-7728-45aa-b88e-e325b8b0c290"
            },
            "attachments": {}
        },
        {
            "cell_type": "markdown",
            "source": [
                "respuesta considera un espacio como un caracter"
            ],
            "metadata": {
                "azdata_cell_guid": "776860fe-745e-444f-8e1d-bb08632b17dc"
            },
            "attachments": {}
        },
        {
            "cell_type": "code",
            "source": [
                "SELECT *\r\n",
                "FROM empleados\r\n",
                "WHERE CHAR_LENGTH(nomEmp) >= 11;\r\n",
                ""
            ],
            "metadata": {
                "language": "sql",
                "azdata_cell_guid": "cf69ef24-c50b-4a2e-ad6b-09dc727204cf"
            },
            "outputs": [
                {
                    "output_type": "display_data",
                    "data": {
                        "text/html": "(22 row(s) affected)"
                    },
                    "metadata": {}
                },
                {
                    "output_type": "display_data",
                    "data": {
                        "text/html": "Total execution time: 00:00:01.015"
                    },
                    "metadata": {}
                },
                {
                    "output_type": "execute_result",
                    "metadata": {},
                    "execution_count": 44,
                    "data": {
                        "application/vnd.dataresource+json": {
                            "schema": {
                                "fields": [
                                    {
                                        "name": "nDIEmp"
                                    },
                                    {
                                        "name": "nomEmp"
                                    },
                                    {
                                        "name": "sexEmp"
                                    },
                                    {
                                        "name": "fecNac"
                                    },
                                    {
                                        "name": "fecIncorporacion"
                                    },
                                    {
                                        "name": "salEmp"
                                    },
                                    {
                                        "name": "comisionE"
                                    },
                                    {
                                        "name": "cargoE"
                                    },
                                    {
                                        "name": "jefeID"
                                    },
                                    {
                                        "name": "codDepto"
                                    }
                                ]
                            },
                            "data": [
                                {
                                    "nDIEmp": "1.130.222",
                                    "nomEmp": "José Giraldo",
                                    "sexEmp": "M",
                                    "fecNac": "1985-01-20",
                                    "fecIncorporacion": "2000-11-01",
                                    "salEmp": "1200000.0",
                                    "comisionE": "400000.0",
                                    "cargoE": "Asesor",
                                    "jefeID": "22.222.222",
                                    "codDepto": "3500"
                                },
                                {
                                    "nDIEmp": "1.130.333",
                                    "nomEmp": "Pedro Blanco",
                                    "sexEmp": "M",
                                    "fecNac": "1987-10-28",
                                    "fecIncorporacion": "2000-10-01",
                                    "salEmp": "800000.0",
                                    "comisionE": "3000000.0",
                                    "cargoE": "Vendedor",
                                    "jefeID": "31.178.144",
                                    "codDepto": "2000"
                                },
                                {
                                    "nDIEmp": "1.130.444",
                                    "nomEmp": "Jesús Alfonso",
                                    "sexEmp": "M",
                                    "fecNac": "1988-03-14",
                                    "fecIncorporacion": "2000-10-01",
                                    "salEmp": "800000.0",
                                    "comisionE": "3500000.0",
                                    "cargoE": "Vendedor",
                                    "jefeID": "31.178.144",
                                    "codDepto": "2000"
                                },
                                {
                                    "nDIEmp": "1.130.555",
                                    "nomEmp": "Julián Mora",
                                    "sexEmp": "M",
                                    "fecNac": "1989-07-03",
                                    "fecIncorporacion": "2000-10-01",
                                    "salEmp": "800000.0",
                                    "comisionE": "3100000.0",
                                    "cargoE": "Vendedor",
                                    "jefeID": "31.178.144",
                                    "codDepto": "2200"
                                },
                                {
                                    "nDIEmp": "1.130.666",
                                    "nomEmp": "Manuel Millán",
                                    "sexEmp": "M",
                                    "fecNac": "1990-12-08",
                                    "fecIncorporacion": "2004-06-01",
                                    "salEmp": "800000.0",
                                    "comisionE": "3700000.0",
                                    "cargoE": "Vendedor",
                                    "jefeID": "31.178.144",
                                    "codDepto": "2300"
                                },
                                {
                                    "nDIEmp": "1.130.777",
                                    "nomEmp": "Marcos Cortez",
                                    "sexEmp": "M",
                                    "fecNac": "1986-06-23",
                                    "fecIncorporacion": "2000-04-16",
                                    "salEmp": "2550000.0",
                                    "comisionE": "500000.0",
                                    "cargoE": "Mecánico",
                                    "jefeID": "333.333.333",
                                    "codDepto": "4000"
                                },
                                {
                                    "nDIEmp": "1.130.782",
                                    "nomEmp": "Antonio Gil",
                                    "sexEmp": "M",
                                    "fecNac": "1980-01-23",
                                    "fecIncorporacion": "2010-04-16",
                                    "salEmp": "850000.0",
                                    "comisionE": "1500000.0",
                                    "cargoE": "Técnico",
                                    "jefeID": "16.211.383",
                                    "codDepto": "1500"
                                },
                                {
                                    "nDIEmp": "1.751.219",
                                    "nomEmp": "Melissa Roa",
                                    "sexEmp": "F",
                                    "fecNac": "1960-06-19",
                                    "fecIncorporacion": "2001-03-16",
                                    "salEmp": "2250000.0",
                                    "comisionE": "2500000.0",
                                    "cargoE": "Vendedor",
                                    "jefeID": "31.178.144",
                                    "codDepto": "2100"
                                },
                                {
                                    "nDIEmp": "16.759.060",
                                    "nomEmp": "Darío Casas",
                                    "sexEmp": "M",
                                    "fecNac": "1960-04-05",
                                    "fecIncorporacion": "1992-11-01",
                                    "salEmp": "4500000.0",
                                    "comisionE": "500000.0",
                                    "cargoE": "Investigador",
                                    "jefeID": "31.840.269",
                                    "codDepto": "3000"
                                },
                                {
                                    "nDIEmp": "19.709.802",
                                    "nomEmp": "William Daza",
                                    "sexEmp": "M",
                                    "fecNac": "1982-10-09",
                                    "fecIncorporacion": "1999-12-16",
                                    "salEmp": "2250000.0",
                                    "comisionE": "1000000.0",
                                    "cargoE": "Investigador",
                                    "jefeID": "16.759.060",
                                    "codDepto": "3000"
                                },
                                {
                                    "nDIEmp": "22.222.222",
                                    "nomEmp": "Carla López",
                                    "sexEmp": "F",
                                    "fecNac": "1975-05-11",
                                    "fecIncorporacion": "2005-07-16",
                                    "salEmp": "4500000.0",
                                    "comisionE": "500000.0",
                                    "cargoE": "Jefe Mercadeo",
                                    "jefeID": "31.840.269",
                                    "codDepto": "3500"
                                },
                                {
                                    "nDIEmp": "22.222.333",
                                    "nomEmp": "Carlos Rozo",
                                    "sexEmp": "M",
                                    "fecNac": "1975-05-11",
                                    "fecIncorporacion": "2001-09-16",
                                    "salEmp": "750000.0",
                                    "comisionE": "500000.0",
                                    "cargoE": "Vigilante",
                                    "jefeID": "31.840.269",
                                    "codDepto": "3500"
                                },
                                {
                                    "nDIEmp": "31.174.099",
                                    "nomEmp": "Diana Solarte",
                                    "sexEmp": "F",
                                    "fecNac": "1957-11-19",
                                    "fecIncorporacion": "1990-05-16",
                                    "salEmp": "1250000.0",
                                    "comisionE": "500000.0",
                                    "cargoE": "Secretaria",
                                    "jefeID": "31.840.269",
                                    "codDepto": "1000"
                                },
                                {
                                    "nDIEmp": "31.178.144",
                                    "nomEmp": "Rosa Angulo",
                                    "sexEmp": "F",
                                    "fecNac": "1957-03-15",
                                    "fecIncorporacion": "1998-08-16",
                                    "salEmp": "3250000.0",
                                    "comisionE": "3500000.0",
                                    "cargoE": "Jefe Ventas",
                                    "jefeID": "31.840.269",
                                    "codDepto": "2000"
                                },
                                {
                                    "nDIEmp": "31.840.269",
                                    "nomEmp": "María Rojas",
                                    "sexEmp": "F",
                                    "fecNac": "1959-01-15",
                                    "fecIncorporacion": "1990-05-16",
                                    "salEmp": "6250000.0",
                                    "comisionE": "1500000.0",
                                    "cargoE": "Gerente",
                                    "jefeID": "NULL",
                                    "codDepto": "1000"
                                },
                                {
                                    "nDIEmp": "333.333.333",
                                    "nomEmp": "Elisa Rojas",
                                    "sexEmp": "F",
                                    "fecNac": "1979-09-28",
                                    "fecIncorporacion": "2004-06-01",
                                    "salEmp": "3000000.0",
                                    "comisionE": "1000000.0",
                                    "cargoE": "Jefe Mecánicos",
                                    "jefeID": "31.840.269",
                                    "codDepto": "4000"
                                },
                                {
                                    "nDIEmp": "333.333.334",
                                    "nomEmp": "Marisol Pulido",
                                    "sexEmp": "F",
                                    "fecNac": "1979-10-01",
                                    "fecIncorporacion": "1990-05-16",
                                    "salEmp": "3250000.0",
                                    "comisionE": "1000000.0",
                                    "cargoE": "Investigador",
                                    "jefeID": "16.759.060",
                                    "codDepto": "3000"
                                },
                                {
                                    "nDIEmp": "333.333.336",
                                    "nomEmp": "Carolina Ríos",
                                    "sexEmp": "F",
                                    "fecNac": "1992-02-15",
                                    "fecIncorporacion": "2000-10-01",
                                    "salEmp": "1250000.0",
                                    "comisionE": "500000.0",
                                    "cargoE": "Secretaria",
                                    "jefeID": "16.211.383",
                                    "codDepto": "1500"
                                },
                                {
                                    "nDIEmp": "333.333.337",
                                    "nomEmp": "Edith Muñoz",
                                    "sexEmp": "F",
                                    "fecNac": "1992-03-31",
                                    "fecIncorporacion": "2000-10-01",
                                    "salEmp": "800000.0",
                                    "comisionE": "3600000.0",
                                    "cargoE": "Vendedor",
                                    "jefeID": "31.178.144",
                                    "codDepto": "2100"
                                },
                                {
                                    "nDIEmp": "737.689",
                                    "nomEmp": "Mario Llano",
                                    "sexEmp": "M",
                                    "fecNac": "1945-08-30",
                                    "fecIncorporacion": "1990-05-16",
                                    "salEmp": "2250000.0",
                                    "comisionE": "2500000.0",
                                    "cargoE": "Vendedor",
                                    "jefeID": "31.178.144",
                                    "codDepto": "2300"
                                },
                                {
                                    "nDIEmp": "768.782",
                                    "nomEmp": "Joaquín Rosas",
                                    "sexEmp": "M",
                                    "fecNac": "1947-07-07",
                                    "fecIncorporacion": "1990-05-16",
                                    "salEmp": "2250000.0",
                                    "comisionE": "2500000.0",
                                    "cargoE": "Vendedor",
                                    "jefeID": "31.178.144",
                                    "codDepto": "2200"
                                },
                                {
                                    "nDIEmp": "888.888",
                                    "nomEmp": "Iván Duarte",
                                    "sexEmp": "M",
                                    "fecNac": "1955-08-12",
                                    "fecIncorporacion": "1998-05-16",
                                    "salEmp": "1050000.0",
                                    "comisionE": "200000.0",
                                    "cargoE": "Mecánico",
                                    "jefeID": "333.333.333",
                                    "codDepto": "4100"
                                }
                            ]
                        },
                        "text/html": [
                            "<table>",
                            "<tr><th>nDIEmp</th><th>nomEmp</th><th>sexEmp</th><th>fecNac</th><th>fecIncorporacion</th><th>salEmp</th><th>comisionE</th><th>cargoE</th><th>jefeID</th><th>codDepto</th></tr>",
                            "<tr><td>1.130.222</td><td>José Giraldo</td><td>M</td><td>1985-01-20</td><td>2000-11-01</td><td>1200000.0</td><td>400000.0</td><td>Asesor</td><td>22.222.222</td><td>3500</td></tr>",
                            "<tr><td>1.130.333</td><td>Pedro Blanco</td><td>M</td><td>1987-10-28</td><td>2000-10-01</td><td>800000.0</td><td>3000000.0</td><td>Vendedor</td><td>31.178.144</td><td>2000</td></tr>",
                            "<tr><td>1.130.444</td><td>Jesús Alfonso</td><td>M</td><td>1988-03-14</td><td>2000-10-01</td><td>800000.0</td><td>3500000.0</td><td>Vendedor</td><td>31.178.144</td><td>2000</td></tr>",
                            "<tr><td>1.130.555</td><td>Julián Mora</td><td>M</td><td>1989-07-03</td><td>2000-10-01</td><td>800000.0</td><td>3100000.0</td><td>Vendedor</td><td>31.178.144</td><td>2200</td></tr>",
                            "<tr><td>1.130.666</td><td>Manuel Millán</td><td>M</td><td>1990-12-08</td><td>2004-06-01</td><td>800000.0</td><td>3700000.0</td><td>Vendedor</td><td>31.178.144</td><td>2300</td></tr>",
                            "<tr><td>1.130.777</td><td>Marcos Cortez</td><td>M</td><td>1986-06-23</td><td>2000-04-16</td><td>2550000.0</td><td>500000.0</td><td>Mecánico</td><td>333.333.333</td><td>4000</td></tr>",
                            "<tr><td>1.130.782</td><td>Antonio Gil</td><td>M</td><td>1980-01-23</td><td>2010-04-16</td><td>850000.0</td><td>1500000.0</td><td>Técnico</td><td>16.211.383</td><td>1500</td></tr>",
                            "<tr><td>1.751.219</td><td>Melissa Roa</td><td>F</td><td>1960-06-19</td><td>2001-03-16</td><td>2250000.0</td><td>2500000.0</td><td>Vendedor</td><td>31.178.144</td><td>2100</td></tr>",
                            "<tr><td>16.759.060</td><td>Darío Casas</td><td>M</td><td>1960-04-05</td><td>1992-11-01</td><td>4500000.0</td><td>500000.0</td><td>Investigador</td><td>31.840.269</td><td>3000</td></tr>",
                            "<tr><td>19.709.802</td><td>William Daza</td><td>M</td><td>1982-10-09</td><td>1999-12-16</td><td>2250000.0</td><td>1000000.0</td><td>Investigador</td><td>16.759.060</td><td>3000</td></tr>",
                            "<tr><td>22.222.222</td><td>Carla López</td><td>F</td><td>1975-05-11</td><td>2005-07-16</td><td>4500000.0</td><td>500000.0</td><td>Jefe Mercadeo</td><td>31.840.269</td><td>3500</td></tr>",
                            "<tr><td>22.222.333</td><td>Carlos Rozo</td><td>M</td><td>1975-05-11</td><td>2001-09-16</td><td>750000.0</td><td>500000.0</td><td>Vigilante</td><td>31.840.269</td><td>3500</td></tr>",
                            "<tr><td>31.174.099</td><td>Diana Solarte</td><td>F</td><td>1957-11-19</td><td>1990-05-16</td><td>1250000.0</td><td>500000.0</td><td>Secretaria</td><td>31.840.269</td><td>1000</td></tr>",
                            "<tr><td>31.178.144</td><td>Rosa Angulo</td><td>F</td><td>1957-03-15</td><td>1998-08-16</td><td>3250000.0</td><td>3500000.0</td><td>Jefe Ventas</td><td>31.840.269</td><td>2000</td></tr>",
                            "<tr><td>31.840.269</td><td>María Rojas</td><td>F</td><td>1959-01-15</td><td>1990-05-16</td><td>6250000.0</td><td>1500000.0</td><td>Gerente</td><td>NULL</td><td>1000</td></tr>",
                            "<tr><td>333.333.333</td><td>Elisa Rojas</td><td>F</td><td>1979-09-28</td><td>2004-06-01</td><td>3000000.0</td><td>1000000.0</td><td>Jefe Mecánicos</td><td>31.840.269</td><td>4000</td></tr>",
                            "<tr><td>333.333.334</td><td>Marisol Pulido</td><td>F</td><td>1979-10-01</td><td>1990-05-16</td><td>3250000.0</td><td>1000000.0</td><td>Investigador</td><td>16.759.060</td><td>3000</td></tr>",
                            "<tr><td>333.333.336</td><td>Carolina Ríos</td><td>F</td><td>1992-02-15</td><td>2000-10-01</td><td>1250000.0</td><td>500000.0</td><td>Secretaria</td><td>16.211.383</td><td>1500</td></tr>",
                            "<tr><td>333.333.337</td><td>Edith Muñoz</td><td>F</td><td>1992-03-31</td><td>2000-10-01</td><td>800000.0</td><td>3600000.0</td><td>Vendedor</td><td>31.178.144</td><td>2100</td></tr>",
                            "<tr><td>737.689</td><td>Mario Llano</td><td>M</td><td>1945-08-30</td><td>1990-05-16</td><td>2250000.0</td><td>2500000.0</td><td>Vendedor</td><td>31.178.144</td><td>2300</td></tr>",
                            "<tr><td>768.782</td><td>Joaquín Rosas</td><td>M</td><td>1947-07-07</td><td>1990-05-16</td><td>2250000.0</td><td>2500000.0</td><td>Vendedor</td><td>31.178.144</td><td>2200</td></tr>",
                            "<tr><td>888.888</td><td>Iván Duarte</td><td>M</td><td>1955-08-12</td><td>1998-05-16</td><td>1050000.0</td><td>200000.0</td><td>Mecánico</td><td>333.333.333</td><td>4100</td></tr>",
                            "</table>"
                        ]
                    }
                }
            ],
            "execution_count": 44
        },
        {
            "cell_type": "markdown",
            "source": [
                "23. <span style=\"color: rgb(102, 102, 102); font-family: Poppins; font-size: 15px; background-color: rgb(255, 255, 255);\">Listar los datos de los empleados cuyo nombre inicia por la letra ‘M’, su salario es mayor a $800.000 o reciben comisión y trabajan para el departamento de ‘VENTAS’</span>"
            ],
            "metadata": {
                "language": "sql",
                "azdata_cell_guid": "f616e573-d59c-4316-b5e5-bb354f40105e"
            },
            "attachments": {}
        },
        {
            "cell_type": "code",
            "source": [
                "SELECT * FROM empleados e\r\n",
                "JOIN departamentos d ON e.codDepto = d.codDepto\r\n",
                "WHERE e.nomEmp LIKE 'M%'\r\n",
                "AND (e.salEmp > 800000 OR e.comisionE IS NOT NULL)\r\n",
                "AND d.nombreDpto = 'VENTAS';\r\n",
                ""
            ],
            "metadata": {
                "language": "sql",
                "azdata_cell_guid": "f5a99f2b-baa2-4321-b3ec-f749a6d1d36d"
            },
            "outputs": [
                {
                    "output_type": "display_data",
                    "data": {
                        "text/html": "(3 row(s) affected)"
                    },
                    "metadata": {}
                },
                {
                    "output_type": "display_data",
                    "data": {
                        "text/html": "Total execution time: 00:00:01.012"
                    },
                    "metadata": {}
                },
                {
                    "output_type": "execute_result",
                    "metadata": {},
                    "execution_count": 46,
                    "data": {
                        "application/vnd.dataresource+json": {
                            "schema": {
                                "fields": [
                                    {
                                        "name": "nDIEmp"
                                    },
                                    {
                                        "name": "nomEmp"
                                    },
                                    {
                                        "name": "sexEmp"
                                    },
                                    {
                                        "name": "fecNac"
                                    },
                                    {
                                        "name": "fecIncorporacion"
                                    },
                                    {
                                        "name": "salEmp"
                                    },
                                    {
                                        "name": "comisionE"
                                    },
                                    {
                                        "name": "cargoE"
                                    },
                                    {
                                        "name": "jefeID"
                                    },
                                    {
                                        "name": "codDepto"
                                    },
                                    {
                                        "name": "codDepto"
                                    },
                                    {
                                        "name": "nombreDpto"
                                    },
                                    {
                                        "name": "ciudad"
                                    },
                                    {
                                        "name": "codDirector"
                                    }
                                ]
                            },
                            "data": [
                                {
                                    "nDIEmp": "1.751.219",
                                    "nomEmp": "Melissa Roa",
                                    "sexEmp": "F",
                                    "fecNac": "1960-06-19",
                                    "fecIncorporacion": "2001-03-16",
                                    "salEmp": "2250000.0",
                                    "comisionE": "2500000.0",
                                    "cargoE": "Vendedor",
                                    "jefeID": "31.178.144",
                                    "codDepto": "2100",
                                    "nombreDpto": "VENTAS",
                                    "ciudad": "BARCELONA",
                                    "codDirector": "16.211.383"
                                },
                                {
                                    "nDIEmp": "1.130.666",
                                    "nomEmp": "Manuel Millán",
                                    "sexEmp": "M",
                                    "fecNac": "1990-12-08",
                                    "fecIncorporacion": "2004-06-01",
                                    "salEmp": "800000.0",
                                    "comisionE": "3700000.0",
                                    "cargoE": "Vendedor",
                                    "jefeID": "31.178.144",
                                    "codDepto": "2300",
                                    "nombreDpto": "VENTAS",
                                    "ciudad": "MADRID",
                                    "codDirector": "16.759.060"
                                },
                                {
                                    "nDIEmp": "737.689",
                                    "nomEmp": "Mario Llano",
                                    "sexEmp": "M",
                                    "fecNac": "1945-08-30",
                                    "fecIncorporacion": "1990-05-16",
                                    "salEmp": "2250000.0",
                                    "comisionE": "2500000.0",
                                    "cargoE": "Vendedor",
                                    "jefeID": "31.178.144",
                                    "codDepto": "2300",
                                    "nombreDpto": "VENTAS",
                                    "ciudad": "MADRID",
                                    "codDirector": "16.759.060"
                                }
                            ]
                        },
                        "text/html": [
                            "<table>",
                            "<tr><th>nDIEmp</th><th>nomEmp</th><th>sexEmp</th><th>fecNac</th><th>fecIncorporacion</th><th>salEmp</th><th>comisionE</th><th>cargoE</th><th>jefeID</th><th>codDepto</th><th>codDepto</th><th>nombreDpto</th><th>ciudad</th><th>codDirector</th></tr>",
                            "<tr><td>1.751.219</td><td>Melissa Roa</td><td>F</td><td>1960-06-19</td><td>2001-03-16</td><td>2250000.0</td><td>2500000.0</td><td>Vendedor</td><td>31.178.144</td><td>2100</td><td>2100</td><td>VENTAS</td><td>BARCELONA</td><td>16.211.383</td></tr>",
                            "<tr><td>1.130.666</td><td>Manuel Millán</td><td>M</td><td>1990-12-08</td><td>2004-06-01</td><td>800000.0</td><td>3700000.0</td><td>Vendedor</td><td>31.178.144</td><td>2300</td><td>2300</td><td>VENTAS</td><td>MADRID</td><td>16.759.060</td></tr>",
                            "<tr><td>737.689</td><td>Mario Llano</td><td>M</td><td>1945-08-30</td><td>1990-05-16</td><td>2250000.0</td><td>2500000.0</td><td>Vendedor</td><td>31.178.144</td><td>2300</td><td>2300</td><td>VENTAS</td><td>MADRID</td><td>16.759.060</td></tr>",
                            "</table>"
                        ]
                    }
                }
            ],
            "execution_count": 46
        },
        {
            "cell_type": "markdown",
            "source": [
                "24. <span style=\"color: rgb(102, 102, 102); font-family: Poppins; font-size: 15px; background-color: rgb(255, 255, 255);\">Obtener los nombres, salarios y comisiones de los empleados que reciben un salario situado entre la mitad de la comisión la propia comisión.</span>"
            ],
            "metadata": {
                "language": "sql",
                "azdata_cell_guid": "8c41a9d8-8697-4767-9d1f-bce7d0c06d0f"
            },
            "attachments": {}
        },
        {
            "cell_type": "code",
            "source": [
                "SELECT nomEmp, salEmp, comisionE\r\n",
                "FROM empleados\r\n",
                "WHERE salEmp BETWEEN comisionE / 2 AND comisionE;\r\n",
                ""
            ],
            "metadata": {
                "language": "sql",
                "azdata_cell_guid": "54965c9c-1fc3-4747-a4b7-9a76dda98d97"
            },
            "outputs": [
                {
                    "output_type": "display_data",
                    "data": {
                        "text/html": "(5 row(s) affected)"
                    },
                    "metadata": {}
                },
                {
                    "output_type": "display_data",
                    "data": {
                        "text/html": "Total execution time: 00:00:01.014"
                    },
                    "metadata": {}
                },
                {
                    "output_type": "execute_result",
                    "metadata": {},
                    "execution_count": 47,
                    "data": {
                        "application/vnd.dataresource+json": {
                            "schema": {
                                "fields": [
                                    {
                                        "name": "nomEmp"
                                    },
                                    {
                                        "name": "salEmp"
                                    },
                                    {
                                        "name": "comisionE"
                                    }
                                ]
                            },
                            "data": [
                                {
                                    "nomEmp": "Antonio Gil",
                                    "salEmp": "850000.0",
                                    "comisionE": "1500000.0"
                                },
                                {
                                    "nomEmp": "Melissa Roa",
                                    "salEmp": "2250000.0",
                                    "comisionE": "2500000.0"
                                },
                                {
                                    "nomEmp": "Rosa Angulo",
                                    "salEmp": "3250000.0",
                                    "comisionE": "3500000.0"
                                },
                                {
                                    "nomEmp": "Mario Llano",
                                    "salEmp": "2250000.0",
                                    "comisionE": "2500000.0"
                                },
                                {
                                    "nomEmp": "Joaquín Rosas",
                                    "salEmp": "2250000.0",
                                    "comisionE": "2500000.0"
                                }
                            ]
                        },
                        "text/html": [
                            "<table>",
                            "<tr><th>nomEmp</th><th>salEmp</th><th>comisionE</th></tr>",
                            "<tr><td>Antonio Gil</td><td>850000.0</td><td>1500000.0</td></tr>",
                            "<tr><td>Melissa Roa</td><td>2250000.0</td><td>2500000.0</td></tr>",
                            "<tr><td>Rosa Angulo</td><td>3250000.0</td><td>3500000.0</td></tr>",
                            "<tr><td>Mario Llano</td><td>2250000.0</td><td>2500000.0</td></tr>",
                            "<tr><td>Joaquín Rosas</td><td>2250000.0</td><td>2500000.0</td></tr>",
                            "</table>"
                        ]
                    }
                }
            ],
            "execution_count": 47
        },
        {
            "cell_type": "markdown",
            "source": [
                "25. <span style=\"color: rgb(102, 102, 102); font-family: Poppins; font-size: 15px; background-color: rgb(255, 255, 255);\">Mostrar el salario más alto de la empresa.</span>"
            ],
            "metadata": {
                "language": "sql",
                "azdata_cell_guid": "58ed971f-f3d2-447e-a42c-98298384ad54"
            },
            "attachments": {}
        },
        {
            "cell_type": "code",
            "source": [
                "SELECT MAX(salEmp) AS SalarioMaximo\r\n",
                "FROM empleados;\r\n",
                ""
            ],
            "metadata": {
                "language": "sql",
                "azdata_cell_guid": "b6098d2f-8f76-4043-a6eb-f3a8ca3bce6b"
            },
            "outputs": [
                {
                    "output_type": "display_data",
                    "data": {
                        "text/html": "(1 row(s) affected)"
                    },
                    "metadata": {}
                },
                {
                    "output_type": "display_data",
                    "data": {
                        "text/html": "Total execution time: 00:00:01.010"
                    },
                    "metadata": {}
                },
                {
                    "output_type": "execute_result",
                    "metadata": {},
                    "execution_count": 48,
                    "data": {
                        "application/vnd.dataresource+json": {
                            "schema": {
                                "fields": [
                                    {
                                        "name": "SalarioMaximo"
                                    }
                                ]
                            },
                            "data": [
                                {
                                    "SalarioMaximo": "6250000.0"
                                }
                            ]
                        },
                        "text/html": [
                            "<table>",
                            "<tr><th>SalarioMaximo</th></tr>",
                            "<tr><td>6250000.0</td></tr>",
                            "</table>"
                        ]
                    }
                }
            ],
            "execution_count": 48
        },
        {
            "cell_type": "markdown",
            "source": [
                "26. <span style=\"color: rgb(102, 102, 102); font-family: Poppins; font-size: 15px; background-color: rgb(255, 255, 255);\">Mostrar cada una de las comisiones y el número de empleados que las reciben. Solo si tiene comisión.</span>"
            ],
            "metadata": {
                "language": "sql",
                "azdata_cell_guid": "b2d0f268-27c5-49dc-ae37-940eaddd817e"
            },
            "attachments": {}
        },
        {
            "cell_type": "code",
            "source": [
                "SELECT comisionE, COUNT(*) AS NumeroEmpleados\r\n",
                "FROM empleados\r\n",
                "WHERE comisionE IS NOT NULL AND comisionE > 0\r\n",
                "GROUP BY comisionE\r\n",
                "ORDER BY comisionE;\r\n",
                ""
            ],
            "metadata": {
                "language": "sql",
                "azdata_cell_guid": "fde19d8c-1f94-4b1a-813f-700f9fffe9d5"
            },
            "outputs": [
                {
                    "output_type": "display_data",
                    "data": {
                        "text/html": "(11 row(s) affected)"
                    },
                    "metadata": {}
                },
                {
                    "output_type": "display_data",
                    "data": {
                        "text/html": "Total execution time: 00:00:01.018"
                    },
                    "metadata": {}
                },
                {
                    "output_type": "execute_result",
                    "metadata": {},
                    "execution_count": 49,
                    "data": {
                        "application/vnd.dataresource+json": {
                            "schema": {
                                "fields": [
                                    {
                                        "name": "comisionE"
                                    },
                                    {
                                        "name": "NumeroEmpleados"
                                    }
                                ]
                            },
                            "data": [
                                {
                                    "comisionE": "200000.0",
                                    "NumeroEmpleados": "3"
                                },
                                {
                                    "comisionE": "400000.0",
                                    "NumeroEmpleados": "2"
                                },
                                {
                                    "comisionE": "500000.0",
                                    "NumeroEmpleados": "6"
                                },
                                {
                                    "comisionE": "1000000.0",
                                    "NumeroEmpleados": "3"
                                },
                                {
                                    "comisionE": "1500000.0",
                                    "NumeroEmpleados": "2"
                                },
                                {
                                    "comisionE": "2500000.0",
                                    "NumeroEmpleados": "3"
                                },
                                {
                                    "comisionE": "3000000.0",
                                    "NumeroEmpleados": "1"
                                },
                                {
                                    "comisionE": "3100000.0",
                                    "NumeroEmpleados": "1"
                                },
                                {
                                    "comisionE": "3500000.0",
                                    "NumeroEmpleados": "2"
                                },
                                {
                                    "comisionE": "3600000.0",
                                    "NumeroEmpleados": "1"
                                },
                                {
                                    "comisionE": "3700000.0",
                                    "NumeroEmpleados": "1"
                                }
                            ]
                        },
                        "text/html": [
                            "<table>",
                            "<tr><th>comisionE</th><th>NumeroEmpleados</th></tr>",
                            "<tr><td>200000.0</td><td>3</td></tr>",
                            "<tr><td>400000.0</td><td>2</td></tr>",
                            "<tr><td>500000.0</td><td>6</td></tr>",
                            "<tr><td>1000000.0</td><td>3</td></tr>",
                            "<tr><td>1500000.0</td><td>2</td></tr>",
                            "<tr><td>2500000.0</td><td>3</td></tr>",
                            "<tr><td>3000000.0</td><td>1</td></tr>",
                            "<tr><td>3100000.0</td><td>1</td></tr>",
                            "<tr><td>3500000.0</td><td>2</td></tr>",
                            "<tr><td>3600000.0</td><td>1</td></tr>",
                            "<tr><td>3700000.0</td><td>1</td></tr>",
                            "</table>"
                        ]
                    }
                }
            ],
            "execution_count": 49
        },
        {
            "cell_type": "markdown",
            "source": [
                "27. <span style=\"color: rgb(102, 102, 102); font-family: Poppins; font-size: 15px; background-color: rgb(255, 255, 255);\">Mostrar el nombre del último empleado de la lista por orden alfabético.</span>"
            ],
            "metadata": {
                "language": "sql",
                "azdata_cell_guid": "53356ef7-70f7-4390-b383-7302b27c20cf"
            },
            "attachments": {}
        },
        {
            "cell_type": "code",
            "source": [
                "SELECT nomEmp\r\n",
                "FROM empleados\r\n",
                "ORDER BY nomEmp DESC\r\n",
                "LIMIT 1;\r\n",
                ""
            ],
            "metadata": {
                "language": "sql",
                "azdata_cell_guid": "845a2f5a-f5c4-445f-8a22-34cf6a73fe56"
            },
            "outputs": [
                {
                    "output_type": "display_data",
                    "data": {
                        "text/html": "(1 row(s) affected)"
                    },
                    "metadata": {}
                },
                {
                    "output_type": "display_data",
                    "data": {
                        "text/html": "Total execution time: 00:00:01.011"
                    },
                    "metadata": {}
                },
                {
                    "output_type": "execute_result",
                    "metadata": {},
                    "execution_count": 50,
                    "data": {
                        "application/vnd.dataresource+json": {
                            "schema": {
                                "fields": [
                                    {
                                        "name": "nomEmp"
                                    }
                                ]
                            },
                            "data": [
                                {
                                    "nomEmp": "William Daza"
                                }
                            ]
                        },
                        "text/html": [
                            "<table>",
                            "<tr><th>nomEmp</th></tr>",
                            "<tr><td>William Daza</td></tr>",
                            "</table>"
                        ]
                    }
                }
            ],
            "execution_count": 50
        },
        {
            "cell_type": "markdown",
            "source": [
                "28. <span style=\"color: rgb(102, 102, 102); font-family: Poppins; font-size: 15px; background-color: rgb(255, 255, 255);\">Hallar el salario más alto, el más bajo y la diferencia entre ellos.</span>"
            ],
            "metadata": {
                "language": "sql",
                "azdata_cell_guid": "0841e441-565a-41c1-90d2-dee4a9ebb5da"
            },
            "attachments": {}
        },
        {
            "cell_type": "code",
            "source": [
                "SELECT MAX(salEmp) AS SalarioMaximo, MIN(salEmp) AS SalarioMinimo, (MAX(salEmp) - MIN(salEmp)) AS Diferencia\r\n",
                "FROM empleados;\r\n",
                ""
            ],
            "metadata": {
                "language": "sql",
                "azdata_cell_guid": "ad96c6ba-5db0-43ee-8e89-669dbf7ca237"
            },
            "outputs": [
                {
                    "output_type": "display_data",
                    "data": {
                        "text/html": "(1 row(s) affected)"
                    },
                    "metadata": {}
                },
                {
                    "output_type": "display_data",
                    "data": {
                        "text/html": "Total execution time: 00:00:01.012"
                    },
                    "metadata": {}
                },
                {
                    "output_type": "execute_result",
                    "metadata": {},
                    "execution_count": 51,
                    "data": {
                        "application/vnd.dataresource+json": {
                            "schema": {
                                "fields": [
                                    {
                                        "name": "SalarioMaximo"
                                    },
                                    {
                                        "name": "SalarioMinimo"
                                    },
                                    {
                                        "name": "Diferencia"
                                    }
                                ]
                            },
                            "data": [
                                {
                                    "SalarioMaximo": "6250000.0",
                                    "SalarioMinimo": "750000.0",
                                    "Diferencia": "5500000.0"
                                }
                            ]
                        },
                        "text/html": [
                            "<table>",
                            "<tr><th>SalarioMaximo</th><th>SalarioMinimo</th><th>Diferencia</th></tr>",
                            "<tr><td>6250000.0</td><td>750000.0</td><td>5500000.0</td></tr>",
                            "</table>"
                        ]
                    }
                }
            ],
            "execution_count": 51
        },
        {
            "cell_type": "markdown",
            "source": [
                "<span style=\"color: rgb(102, 102, 102); font-family: Poppins; font-size: 15px; background-color: rgb(255, 255, 255);\">29. Mostrar el número de empleados de sexo femenino y de sexo masculino, por departamento.</span>"
            ],
            "metadata": {
                "language": "sql",
                "azdata_cell_guid": "8dd99be7-fed3-4c41-9092-5b548a73adf4"
            },
            "attachments": {}
        },
        {
            "cell_type": "code",
            "source": [
                "SELECT d.nombreDpto, \r\n",
                "       SUM(CASE WHEN e.sexEmp = 'F' THEN 1 ELSE 0 END) AS NumeroFemenino,\r\n",
                "       SUM(CASE WHEN e.sexEmp = 'M' THEN 1 ELSE 0 END) AS NumeroMasculino\r\n",
                "FROM empleados e\r\n",
                "JOIN departamentos d ON e.codDepto = d.codDepto\r\n",
                "GROUP BY d.nombreDpto;\r\n",
                ""
            ],
            "metadata": {
                "language": "sql",
                "azdata_cell_guid": "8d3a99d4-ae65-4774-b2e2-05d690cf8917",
                "tags": []
            },
            "outputs": [
                {
                    "output_type": "display_data",
                    "data": {
                        "text/html": "(6 row(s) affected)"
                    },
                    "metadata": {}
                },
                {
                    "output_type": "display_data",
                    "data": {
                        "text/html": "Total execution time: 00:00:01.012"
                    },
                    "metadata": {}
                },
                {
                    "output_type": "execute_result",
                    "metadata": {},
                    "execution_count": 54,
                    "data": {
                        "application/vnd.dataresource+json": {
                            "schema": {
                                "fields": [
                                    {
                                        "name": "nombreDpto"
                                    },
                                    {
                                        "name": "NumeroFemenino"
                                    },
                                    {
                                        "name": "NumeroMasculino"
                                    }
                                ]
                            },
                            "data": [
                                {
                                    "nombreDpto": "GERENCIA",
                                    "NumeroFemenino": "2",
                                    "NumeroMasculino": "0"
                                },
                                {
                                    "nombreDpto": "PRODUCCIÓN",
                                    "NumeroFemenino": "1",
                                    "NumeroMasculino": "2"
                                },
                                {
                                    "nombreDpto": "VENTAS",
                                    "NumeroFemenino": "3",
                                    "NumeroMasculino": "6"
                                },
                                {
                                    "nombreDpto": "INVESTIGACIÓN",
                                    "NumeroFemenino": "2",
                                    "NumeroMasculino": "2"
                                },
                                {
                                    "nombreDpto": "MERCADEO",
                                    "NumeroFemenino": "1",
                                    "NumeroMasculino": "2"
                                },
                                {
                                    "nombreDpto": "MANTENIMIENTO",
                                    "NumeroFemenino": "2",
                                    "NumeroMasculino": "3"
                                }
                            ]
                        },
                        "text/html": [
                            "<table>",
                            "<tr><th>nombreDpto</th><th>NumeroFemenino</th><th>NumeroMasculino</th></tr>",
                            "<tr><td>GERENCIA</td><td>2</td><td>0</td></tr>",
                            "<tr><td>PRODUCCIÓN</td><td>1</td><td>2</td></tr>",
                            "<tr><td>VENTAS</td><td>3</td><td>6</td></tr>",
                            "<tr><td>INVESTIGACIÓN</td><td>2</td><td>2</td></tr>",
                            "<tr><td>MERCADEO</td><td>1</td><td>2</td></tr>",
                            "<tr><td>MANTENIMIENTO</td><td>2</td><td>3</td></tr>",
                            "</table>"
                        ]
                    }
                }
            ],
            "execution_count": 54
        },
        {
            "cell_type": "markdown",
            "source": [
                "30. <span style=\"color: rgb(102, 102, 102); font-family: Poppins; font-size: 15px; background-color: rgb(255, 255, 255);\">Hallar el salario promedio por departamento.</span>"
            ],
            "metadata": {
                "language": "sql",
                "azdata_cell_guid": "38a73d7c-3aea-472c-a2ee-da51d45f5f4a"
            },
            "attachments": {}
        },
        {
            "cell_type": "code",
            "source": [
                "SELECT d.nombreDpto, AVG(e.salEmp) AS SalarioPromedio\r\n",
                "FROM empleados e\r\n",
                "JOIN departamentos d ON e.codDepto = d.codDepto\r\n",
                "GROUP BY d.nombreDpto;\r\n",
                ""
            ],
            "metadata": {
                "language": "sql",
                "azdata_cell_guid": "36788e88-d8ad-4e0d-a4b5-ae267d4b85c9"
            },
            "outputs": [
                {
                    "output_type": "display_data",
                    "data": {
                        "text/html": "(6 row(s) affected)"
                    },
                    "metadata": {}
                },
                {
                    "output_type": "display_data",
                    "data": {
                        "text/html": "Total execution time: 00:00:01.009"
                    },
                    "metadata": {}
                },
                {
                    "output_type": "execute_result",
                    "metadata": {},
                    "execution_count": 56,
                    "data": {
                        "application/vnd.dataresource+json": {
                            "schema": {
                                "fields": [
                                    {
                                        "name": "nombreDpto"
                                    },
                                    {
                                        "name": "SalarioPromedio"
                                    }
                                ]
                            },
                            "data": [
                                {
                                    "nombreDpto": "GERENCIA",
                                    "SalarioPromedio": "3750000.0"
                                },
                                {
                                    "nombreDpto": "PRODUCCIÓN",
                                    "SalarioPromedio": "2383333.3333333335"
                                },
                                {
                                    "nombreDpto": "VENTAS",
                                    "SalarioPromedio": "1555555.5555555555"
                                },
                                {
                                    "nombreDpto": "INVESTIGACIÓN",
                                    "SalarioPromedio": "2800000.0"
                                },
                                {
                                    "nombreDpto": "MERCADEO",
                                    "SalarioPromedio": "2150000.0"
                                },
                                {
                                    "nombreDpto": "MANTENIMIENTO",
                                    "SalarioPromedio": "1740000.0"
                                }
                            ]
                        },
                        "text/html": [
                            "<table>",
                            "<tr><th>nombreDpto</th><th>SalarioPromedio</th></tr>",
                            "<tr><td>GERENCIA</td><td>3750000.0</td></tr>",
                            "<tr><td>PRODUCCIÓN</td><td>2383333.3333333335</td></tr>",
                            "<tr><td>VENTAS</td><td>1555555.5555555555</td></tr>",
                            "<tr><td>INVESTIGACIÓN</td><td>2800000.0</td></tr>",
                            "<tr><td>MERCADEO</td><td>2150000.0</td></tr>",
                            "<tr><td>MANTENIMIENTO</td><td>1740000.0</td></tr>",
                            "</table>"
                        ]
                    }
                }
            ],
            "execution_count": 56
        },
        {
            "cell_type": "markdown",
            "source": [
                "31. <span style=\"color: rgb(102, 102, 102); font-family: Poppins; font-size: 15px; background-color: rgb(255, 255, 255);\">Mostrar la lista de los empleados cuyo salario es mayor o igual que el promedio de la empresa. Ordenarlo por departamento.</span>"
            ],
            "metadata": {
                "language": "sql",
                "azdata_cell_guid": "6438cadd-0b2e-4516-952c-d462613c441c"
            },
            "attachments": {}
        },
        {
            "cell_type": "code",
            "source": [
                "SELECT e.nomEmp, e.salEmp, d.nombreDpto\r\n",
                "FROM empleados e\r\n",
                "JOIN departamentos d ON e.codDepto = d.codDepto\r\n",
                "WHERE e.salEmp >= (SELECT AVG(salEmp) FROM empleados)\r\n",
                "ORDER BY d.nombreDpto;\r\n",
                ""
            ],
            "metadata": {
                "language": "sql",
                "azdata_cell_guid": "0507a712-c93f-4630-b908-e683acab280b"
            },
            "outputs": [
                {
                    "output_type": "display_data",
                    "data": {
                        "text/html": "(12 row(s) affected)"
                    },
                    "metadata": {}
                },
                {
                    "output_type": "display_data",
                    "data": {
                        "text/html": "Total execution time: 00:00:01.006"
                    },
                    "metadata": {}
                },
                {
                    "output_type": "execute_result",
                    "metadata": {},
                    "execution_count": 58,
                    "data": {
                        "application/vnd.dataresource+json": {
                            "schema": {
                                "fields": [
                                    {
                                        "name": "nomEmp"
                                    },
                                    {
                                        "name": "salEmp"
                                    },
                                    {
                                        "name": "nombreDpto"
                                    }
                                ]
                            },
                            "data": [
                                {
                                    "nomEmp": "María Rojas",
                                    "salEmp": "6250000.0",
                                    "nombreDpto": "GERENCIA"
                                },
                                {
                                    "nomEmp": "Darío Casas",
                                    "salEmp": "4500000.0",
                                    "nombreDpto": "INVESTIGACIÓN"
                                },
                                {
                                    "nomEmp": "William Daza",
                                    "salEmp": "2250000.0",
                                    "nombreDpto": "INVESTIGACIÓN"
                                },
                                {
                                    "nomEmp": "Marisol Pulido",
                                    "salEmp": "3250000.0",
                                    "nombreDpto": "INVESTIGACIÓN"
                                },
                                {
                                    "nomEmp": "Marcos Cortez",
                                    "salEmp": "2550000.0",
                                    "nombreDpto": "MANTENIMIENTO"
                                },
                                {
                                    "nomEmp": "Elisa Rojas",
                                    "salEmp": "3000000.0",
                                    "nombreDpto": "MANTENIMIENTO"
                                },
                                {
                                    "nomEmp": "Carla López",
                                    "salEmp": "4500000.0",
                                    "nombreDpto": "MERCADEO"
                                },
                                {
                                    "nomEmp": "Luis Pérez",
                                    "salEmp": "5050000.0",
                                    "nombreDpto": "PRODUCCIÓN"
                                },
                                {
                                    "nomEmp": "Melissa Roa",
                                    "salEmp": "2250000.0",
                                    "nombreDpto": "VENTAS"
                                },
                                {
                                    "nomEmp": "Rosa Angulo",
                                    "salEmp": "3250000.0",
                                    "nombreDpto": "VENTAS"
                                },
                                {
                                    "nomEmp": "Mario Llano",
                                    "salEmp": "2250000.0",
                                    "nombreDpto": "VENTAS"
                                },
                                {
                                    "nomEmp": "Joaquín Rosas",
                                    "salEmp": "2250000.0",
                                    "nombreDpto": "VENTAS"
                                }
                            ]
                        },
                        "text/html": [
                            "<table>",
                            "<tr><th>nomEmp</th><th>salEmp</th><th>nombreDpto</th></tr>",
                            "<tr><td>María Rojas</td><td>6250000.0</td><td>GERENCIA</td></tr>",
                            "<tr><td>Darío Casas</td><td>4500000.0</td><td>INVESTIGACIÓN</td></tr>",
                            "<tr><td>William Daza</td><td>2250000.0</td><td>INVESTIGACIÓN</td></tr>",
                            "<tr><td>Marisol Pulido</td><td>3250000.0</td><td>INVESTIGACIÓN</td></tr>",
                            "<tr><td>Marcos Cortez</td><td>2550000.0</td><td>MANTENIMIENTO</td></tr>",
                            "<tr><td>Elisa Rojas</td><td>3000000.0</td><td>MANTENIMIENTO</td></tr>",
                            "<tr><td>Carla López</td><td>4500000.0</td><td>MERCADEO</td></tr>",
                            "<tr><td>Luis Pérez</td><td>5050000.0</td><td>PRODUCCIÓN</td></tr>",
                            "<tr><td>Melissa Roa</td><td>2250000.0</td><td>VENTAS</td></tr>",
                            "<tr><td>Rosa Angulo</td><td>3250000.0</td><td>VENTAS</td></tr>",
                            "<tr><td>Mario Llano</td><td>2250000.0</td><td>VENTAS</td></tr>",
                            "<tr><td>Joaquín Rosas</td><td>2250000.0</td><td>VENTAS</td></tr>",
                            "</table>"
                        ]
                    }
                }
            ],
            "execution_count": 58
        },
        {
            "cell_type": "markdown",
            "source": [
                "32. <span style=\"color: rgb(102, 102, 102); font-family: Poppins; font-size: 15px; background-color: rgb(255, 255, 255);\">Hallar los departamentos que tienen más de tres empleados. Mostrar el número de empleados de esos departamentos.</span>"
            ],
            "metadata": {
                "language": "sql",
                "azdata_cell_guid": "53e1a930-a6d9-4f18-b5eb-4c8f8b4521d8"
            },
            "attachments": {}
        },
        {
            "cell_type": "code",
            "source": [
                "SELECT d.nombreDpto, COUNT(*) AS NumeroEmpleados\r\n",
                "FROM empleados e\r\n",
                "JOIN departamentos d ON e.codDepto = d.codDepto\r\n",
                "GROUP BY d.nombreDpto\r\n",
                "HAVING COUNT(*) > 3;\r\n",
                ""
            ],
            "metadata": {
                "language": "sql",
                "azdata_cell_guid": "bbc4cd63-1a1c-4178-9172-1ecd09f8f903"
            },
            "outputs": [
                {
                    "output_type": "display_data",
                    "data": {
                        "text/html": "(3 row(s) affected)"
                    },
                    "metadata": {}
                },
                {
                    "output_type": "display_data",
                    "data": {
                        "text/html": "Total execution time: 00:00:01.010"
                    },
                    "metadata": {}
                },
                {
                    "output_type": "execute_result",
                    "metadata": {},
                    "execution_count": 60,
                    "data": {
                        "application/vnd.dataresource+json": {
                            "schema": {
                                "fields": [
                                    {
                                        "name": "nombreDpto"
                                    },
                                    {
                                        "name": "NumeroEmpleados"
                                    }
                                ]
                            },
                            "data": [
                                {
                                    "nombreDpto": "VENTAS",
                                    "NumeroEmpleados": "9"
                                },
                                {
                                    "nombreDpto": "INVESTIGACIÓN",
                                    "NumeroEmpleados": "4"
                                },
                                {
                                    "nombreDpto": "MANTENIMIENTO",
                                    "NumeroEmpleados": "5"
                                }
                            ]
                        },
                        "text/html": [
                            "<table>",
                            "<tr><th>nombreDpto</th><th>NumeroEmpleados</th></tr>",
                            "<tr><td>VENTAS</td><td>9</td></tr>",
                            "<tr><td>INVESTIGACIÓN</td><td>4</td></tr>",
                            "<tr><td>MANTENIMIENTO</td><td>5</td></tr>",
                            "</table>"
                        ]
                    }
                }
            ],
            "execution_count": 60
        },
        {
            "cell_type": "markdown",
            "source": [
                "33. <span style=\"color: rgb(102, 102, 102); font-family: Poppins; font-size: 15px; background-color: rgb(255, 255, 255);\">Mostrar el código y nombre de cada jefe, junto al número de empleados que dirige. Solo los que tengan mas de dos empleados (2 incluido).</span>"
            ],
            "metadata": {
                "language": "sql",
                "azdata_cell_guid": "f0f4f87c-30a2-4980-ab4d-e5b78b3ef0af"
            },
            "attachments": {}
        },
        {
            "cell_type": "code",
            "source": [
                "SELECT j.jefeID AS CodigoJefe, j.nomEmp AS NombreJefe, COUNT(*) AS NumeroEmpleados\r\n",
                "FROM empleados e\r\n",
                "JOIN empleados j ON e.jefeID = j.nDIEmp\r\n",
                "GROUP BY j.jefeID, j.nomEmp\r\n",
                "HAVING COUNT(*) >= 2;\r\n",
                ""
            ],
            "metadata": {
                "language": "sql",
                "azdata_cell_guid": "206fe4f9-3510-4527-919b-840d0cd88dbb",
                "tags": []
            },
            "outputs": [
                {
                    "output_type": "display_data",
                    "data": {
                        "text/html": "(5 row(s) affected)"
                    },
                    "metadata": {}
                },
                {
                    "output_type": "display_data",
                    "data": {
                        "text/html": "Total execution time: 00:00:01.009"
                    },
                    "metadata": {}
                },
                {
                    "output_type": "execute_result",
                    "metadata": {},
                    "execution_count": 65,
                    "data": {
                        "application/vnd.dataresource+json": {
                            "schema": {
                                "fields": [
                                    {
                                        "name": "CodigoJefe"
                                    },
                                    {
                                        "name": "NombreJefe"
                                    },
                                    {
                                        "name": "NumeroEmpleados"
                                    }
                                ]
                            },
                            "data": [
                                {
                                    "CodigoJefe": "31.840.269",
                                    "NombreJefe": "Luis Pérez",
                                    "NumeroEmpleados": "2"
                                },
                                {
                                    "CodigoJefe": "31.840.269",
                                    "NombreJefe": "Darío Casas",
                                    "NumeroEmpleados": "3"
                                },
                                {
                                    "CodigoJefe": "31.840.269",
                                    "NombreJefe": "Rosa Angulo",
                                    "NumeroEmpleados": "8"
                                },
                                {
                                    "CodigoJefe": "NULL",
                                    "NombreJefe": "María Rojas",
                                    "NumeroEmpleados": "7"
                                },
                                {
                                    "CodigoJefe": "31.840.269",
                                    "NombreJefe": "Elisa Rojas",
                                    "NumeroEmpleados": "4"
                                }
                            ]
                        },
                        "text/html": [
                            "<table>",
                            "<tr><th>CodigoJefe</th><th>NombreJefe</th><th>NumeroEmpleados</th></tr>",
                            "<tr><td>31.840.269</td><td>Luis Pérez</td><td>2</td></tr>",
                            "<tr><td>31.840.269</td><td>Darío Casas</td><td>3</td></tr>",
                            "<tr><td>31.840.269</td><td>Rosa Angulo</td><td>8</td></tr>",
                            "<tr><td>NULL</td><td>María Rojas</td><td>7</td></tr>",
                            "<tr><td>31.840.269</td><td>Elisa Rojas</td><td>4</td></tr>",
                            "</table>"
                        ]
                    }
                }
            ],
            "execution_count": 65
        },
        {
            "cell_type": "markdown",
            "source": [
                "34.  <span style=\"color: rgb(102, 102, 102); font-family: Poppins; font-size: 15px; background-color: rgb(255, 255, 255);\">&nbsp;Hallar los departamentos que no tienen empleados</span>"
            ],
            "metadata": {
                "language": "sql",
                "azdata_cell_guid": "91714e2d-a6b2-4116-98da-b4be66217eb0"
            },
            "attachments": {}
        },
        {
            "cell_type": "code",
            "source": [
                "SELECT d.codDepto, d.nombreDpto\r\n",
                "FROM departamentos d\r\n",
                "LEFT JOIN empleados e ON d.codDepto = e.codDepto\r\n",
                "WHERE e.nDIEmp IS NULL;\r\n",
                ""
            ],
            "metadata": {
                "language": "sql",
                "azdata_cell_guid": "78fdf24b-4370-456e-a6aa-f430fcfc3157"
            },
            "outputs": [
                {
                    "output_type": "display_data",
                    "data": {
                        "text/html": "(0 row(s) affected)"
                    },
                    "metadata": {}
                },
                {
                    "output_type": "display_data",
                    "data": {
                        "text/html": "Total execution time: 00:00:01.018"
                    },
                    "metadata": {}
                },
                {
                    "output_type": "execute_result",
                    "metadata": {},
                    "execution_count": 70,
                    "data": {
                        "application/vnd.dataresource+json": {
                            "schema": {
                                "fields": [
                                    {
                                        "name": "codDepto"
                                    },
                                    {
                                        "name": "nombreDpto"
                                    }
                                ]
                            },
                            "data": []
                        },
                        "text/html": [
                            "<table>",
                            "<tr><th>codDepto</th><th>nombreDpto</th></tr>",
                            "</table>"
                        ]
                    }
                }
            ],
            "execution_count": 70
        },
        {
            "cell_type": "markdown",
            "source": [
                "35.  <span style=\"color: rgb(102, 102, 102); font-family: Poppins; font-size: 15px; background-color: rgb(255, 255, 255);\">&nbsp;Mostrar el nombre del departamento cuya suma de salarios sea la más alta, indicando el valor de la suma.</span>"
            ],
            "metadata": {
                "language": "sql",
                "azdata_cell_guid": "76208a8a-3351-4b7b-8871-3dcf6de9c0c9"
            },
            "attachments": {}
        },
        {
            "cell_type": "code",
            "source": [
                "SELECT d.nombreDpto, SUM(e.salEmp) AS SumaSalarios\r\n",
                "FROM departamentos d\r\n",
                "JOIN empleados e ON d.codDepto = e.codDepto\r\n",
                "GROUP BY d.nombreDpto\r\n",
                "ORDER BY SUM(e.salEmp) DESC\r\n",
                "LIMIT 1;\r\n",
                ""
            ],
            "metadata": {
                "language": "sql",
                "azdata_cell_guid": "00f91bd3-3ddc-4817-b87d-7c282ac10759"
            },
            "outputs": [
                {
                    "output_type": "display_data",
                    "data": {
                        "text/html": "(1 row(s) affected)"
                    },
                    "metadata": {}
                },
                {
                    "output_type": "display_data",
                    "data": {
                        "text/html": "Total execution time: 00:00:01.024"
                    },
                    "metadata": {}
                },
                {
                    "output_type": "execute_result",
                    "metadata": {},
                    "execution_count": 71,
                    "data": {
                        "application/vnd.dataresource+json": {
                            "schema": {
                                "fields": [
                                    {
                                        "name": "nombreDpto"
                                    },
                                    {
                                        "name": "SumaSalarios"
                                    }
                                ]
                            },
                            "data": [
                                {
                                    "nombreDpto": "VENTAS",
                                    "SumaSalarios": "14000000.0"
                                }
                            ]
                        },
                        "text/html": [
                            "<table>",
                            "<tr><th>nombreDpto</th><th>SumaSalarios</th></tr>",
                            "<tr><td>VENTAS</td><td>14000000.0</td></tr>",
                            "</table>"
                        ]
                    }
                }
            ],
            "execution_count": 71
        },
        {
            "cell_type": "markdown",
            "source": [
                "36. <span style=\"color: rgb(102, 102, 102); font-family: Poppins; font-size: 15px; background-color: rgb(255, 255, 255);\">Mostrar el nombre del departamento cuya suma de salarios sea la más alta, indicando el valor de la suma.</span>"
            ],
            "metadata": {
                "language": "sql",
                "azdata_cell_guid": "144d57f0-8cba-4058-9d44-554a8a50ac7b"
            },
            "attachments": {}
        },
        {
            "cell_type": "code",
            "source": [
                "SELECT d.nombreDpto, SUM(e.salEmp) AS SumaSalarios\r\n",
                "FROM departamentos d\r\n",
                "JOIN empleados e ON d.codDepto = e.codDepto\r\n",
                "GROUP BY d.nombreDpto\r\n",
                "ORDER BY SUM(e.salEmp) DESC\r\n",
                "LIMIT 1;\r\n",
                ""
            ],
            "metadata": {
                "language": "sql",
                "azdata_cell_guid": "46e2c704-00ca-4ce1-a22f-ee655db8b77c",
                "tags": [
                    "hide_input"
                ]
            },
            "outputs": [
                {
                    "output_type": "display_data",
                    "data": {
                        "text/html": "(1 row(s) affected)"
                    },
                    "metadata": {}
                },
                {
                    "output_type": "display_data",
                    "data": {
                        "text/html": "Total execution time: 00:00:01.011"
                    },
                    "metadata": {}
                },
                {
                    "output_type": "execute_result",
                    "metadata": {},
                    "execution_count": 73,
                    "data": {
                        "application/vnd.dataresource+json": {
                            "schema": {
                                "fields": [
                                    {
                                        "name": "nombreDpto"
                                    },
                                    {
                                        "name": "SumaSalarios"
                                    }
                                ]
                            },
                            "data": [
                                {
                                    "nombreDpto": "VENTAS",
                                    "SumaSalarios": "14000000.0"
                                }
                            ]
                        },
                        "text/html": [
                            "<table>",
                            "<tr><th>nombreDpto</th><th>SumaSalarios</th></tr>",
                            "<tr><td>VENTAS</td><td>14000000.0</td></tr>",
                            "</table>"
                        ]
                    }
                }
            ],
            "execution_count": 73
        },
        {
            "cell_type": "markdown",
            "source": [
                "### _Las soluciones las puedes encontrar [aqui](https:\\www.discoduroderoer.es\\ejercicios-propuestos-y-resueltos-de-consultas-mysql-empleados-y-departamentos\\)_"
            ],
            "metadata": {
                "language": "sql",
                "azdata_cell_guid": "8f8670cd-26d4-4de2-b6d3-809a0d99ebfc"
            },
            "attachments": {}
        },
        {
            "cell_type": "markdown",
            "source": [
                "una version abreviada"
            ],
            "metadata": {
                "azdata_cell_guid": "8f925c0f-80c5-48fc-9854-dec12b07ca97"
            },
            "attachments": {}
        }
    ]
}